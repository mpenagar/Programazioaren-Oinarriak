{
 "cells": [
  {
   "cell_type": "markdown",
   "metadata": {},
   "source": [
    "# GitHub-eko edukia sinkronizatzen\n",
    "\n",
    "Gure laborategi birtualeko ingurunean (https://singapur.we.lc.ehu.es) klaseko GitHub-eko eduki guztia sinkronizatu nahi badugu:"
   ]
  },
  {
   "cell_type": "markdown",
   "metadata": {},
   "source": [
    "### Lehenengoz erabiltzera bagoaz\n",
    "\n",
    "GitHub-eko errepositorioa **clonatu** (edukiaren kopia osoa egin) behar dugu. Jupyter-eko notebook bat sortu eta komandu lehio batetan ondokoa exekutatu:"
   ]
  },
  {
   "cell_type": "code",
   "execution_count": 1,
   "metadata": {},
   "outputs": [
    {
     "name": "stdout",
     "output_type": "stream",
     "text": [
      "Cloning into 'Programazioaren-Oinarriak'...\n",
      "remote: Enumerating objects: 358, done.\u001b[K\n",
      "remote: Counting objects: 100% (358/358), done.\u001b[K\n",
      "remote: Compressing objects: 100% (248/248), done.\u001b[K\n",
      "remote: Total 358 (delta 192), reused 269 (delta 106), pack-reused 0\u001b[K\n",
      "Receiving objects: 100% (358/358), 7.72 MiB | 3.36 MiB/s, done.\n",
      "Resolving deltas: 100% (192/192), done.\n"
     ]
    }
   ],
   "source": [
    "!git clone https://github.com/mpenagar/Programazioaren-Oinarriak"
   ]
  },
  {
   "cell_type": "markdown",
   "metadata": {},
   "source": [
    "### GitHub-eko aldaketekin sinkronizatzeko\n",
    "\n",
    "GitHub-en dagoen edukia aldatu bada eta sinkronizatu (aldaketa guztiak gure ingurunean eduki) nahi badugu: "
   ]
  },
  {
   "cell_type": "code",
   "execution_count": 2,
   "metadata": {},
   "outputs": [
    {
     "name": "stdout",
     "output_type": "stream",
     "text": [
      "From https://github.com/mpenagar/Programazioaren-Oinarriak\r\n",
      " * branch            master     -> FETCH_HEAD\r\n",
      "Already up to date.\r\n"
     ]
    }
   ],
   "source": [
    "!cd Programazioaren-Oinarriak && git pull origin master"
   ]
  },
  {
   "cell_type": "markdown",
   "metadata": {},
   "source": [
    "### Sinkronizazio erroreak\n",
    "\n",
    "Gure kopian aldaketaren bat egin badugu eta GitHub-en ere fitxategi hori aldatua izan bada, sinkronizazio errore bat gertatuko da. Errorerik gabe sinkronizatuko balitz, guk egindako aldaketak desagertuko lirateke. Beraz, errorea ohar bat baino ez da:"
   ]
  },
  {
   "cell_type": "code",
   "execution_count": 3,
   "metadata": {},
   "outputs": [
    {
     "name": "stdout",
     "output_type": "stream",
     "text": [
      "remote: Enumerating objects: 5, done.\u001b[K\n",
      "remote: Counting objects: 100% (5/5), done.\u001b[K\n",
      "remote: Compressing objects: 100% (1/1), done.\u001b[K\n",
      "remote: Total 3 (delta 2), reused 3 (delta 2), pack-reused 0\u001b[K\n",
      "Unpacking objects: 100% (3/3), 279 bytes | 139.00 KiB/s, done.\n",
      "From https://github.com/mpenagar/Konputaziorako-Sarrera\n",
      " * branch            master     -> FETCH_HEAD\n",
      "   10f1463..cc1a798  master     -> origin/master\n",
      "Updating 10f1463..cc1a798\n",
      "error: Your local changes to the following files would be overwritten by merge:\n",
      "\tREADME.md\n",
      "Please commit your changes or stash them before you merge.\n",
      "Aborting\n"
     ]
    }
   ],
   "source": [
    "!cd Programazioaren-Oinarriak && git pull origin master"
   ]
  },
  {
   "cell_type": "markdown",
   "metadata": {},
   "source": [
    "Aukera ezberdinak daude errorea desagertu arazteko, baina hemen bat baino ez dugu aztertuko:\n",
    "\n",
    "   * **Nahitaezko sinkronizazioa** egin\n",
    "   \n",
    "**OHARRA:** Guk egindako aldaketen kopia bat nonbaiten egiten ez badugo, aldaketak galduko dira."
   ]
  },
  {
   "cell_type": "code",
   "execution_count": 4,
   "metadata": {},
   "outputs": [
    {
     "name": "stdout",
     "output_type": "stream",
     "text": [
      "HEAD is now at 10f1463 Update README.md\n",
      "From https://github.com/mpenagar/Konputaziorako-Sarrera\n",
      " * branch            master     -> FETCH_HEAD\n",
      "Updating 10f1463..cc1a798\n",
      "Fast-forward\n",
      " README.md | 1 \u001b[32m+\u001b[m\n",
      " 1 file changed, 1 insertion(+)\n"
     ]
    }
   ],
   "source": [
    "!cd Programazioaren-Oinarriak && git reset --hard && git pull origin master"
   ]
  }
 ],
 "metadata": {
  "kernelspec": {
   "display_name": "Python 3",
   "language": "python",
   "name": "python3"
  },
  "language_info": {
   "codemirror_mode": {
    "name": "ipython",
    "version": 3
   },
   "file_extension": ".py",
   "mimetype": "text/x-python",
   "name": "python",
   "nbconvert_exporter": "python",
   "pygments_lexer": "ipython3",
   "version": "3.7.6"
  }
 },
 "nbformat": 4,
 "nbformat_minor": 4
}
