{
 "cells": [
  {
   "cell_type": "markdown",
   "metadata": {},
   "source": [
    "### 1 - e-posta baten histograma\n",
    "\n",
    "Ahalik eta funtzio gehien sortuko ditugu, azpiproblema bakoitza funtzio beten bidez adierazteko. Adibidez:\n",
    "\n",
    "* e-posta batetako testua, ilara zerrenda moduan (goiburua deskartatu)\n",
    "* hitz batetako ertzetatik puntuazio zeinuak kendu\n",
    "* hitz bat soilik karaktere alfabetikoez osotua ote dagoen"
   ]
  },
  {
   "cell_type": "code",
   "execution_count": null,
   "metadata": {},
   "outputs": [],
   "source": [
    "def eposta(bideizena,kodifikazioa=\"utf-8\"):\n",
    "    with open(bideizena,encoding=kodifikazioa) as f:\n",
    "        for ilara in f:\n",
    "            if ilara == \"\\n\" :\n",
    "                break\n",
    "        return list(f)"
   ]
  },
  {
   "cell_type": "markdown",
   "metadata": {},
   "source": [
    "`string` modulua erabil dezakegu puntuazio zeinu guztiak lortzeko (seguruenik batenbat ahaztuko genuke...):"
   ]
  },
  {
   "cell_type": "code",
   "execution_count": null,
   "metadata": {},
   "outputs": [],
   "source": [
    "import string\n",
    "string.punctuation"
   ]
  },
  {
   "cell_type": "code",
   "execution_count": null,
   "metadata": {},
   "outputs": [],
   "source": [
    "def hitza_garbitu(w):\n",
    "    \n",
    "    return ..."
   ]
  },
  {
   "cell_type": "markdown",
   "metadata": {},
   "source": [
    "Prozesatzera goazen testuak ingelesez daudenez, `string.ascii_letters` erabil dezakegu:"
   ]
  },
  {
   "cell_type": "code",
   "execution_count": null,
   "metadata": {},
   "outputs": [],
   "source": [
    "string.ascii_letters"
   ]
  },
  {
   "cell_type": "code",
   "execution_count": null,
   "metadata": {},
   "outputs": [],
   "source": [
    "def soilik_alfa(w):\n",
    "    \n",
    "    return True/False"
   ]
  },
  {
   "cell_type": "markdown",
   "metadata": {},
   "source": [
    "Aurreko funtzioak erabiliz, `histograma` funtzioa askozaz errazagoa izango da:"
   ]
  },
  {
   "cell_type": "code",
   "execution_count": null,
   "metadata": {},
   "outputs": [],
   "source": [
    "def histograma(bideizena):\n",
    "    h = {}\n",
    "    for ilara in eposta(bideizena):\n",
    "        for w in ilara.split():\n",
    "            w = hitza_garbitu(w)\n",
    "            if soilik_alfa(w) :\n",
    "                w = w.lower()\n",
    "                h[w] ...\n",
    "    return h"
   ]
  },
  {
   "cell_type": "markdown",
   "metadata": {},
   "source": [
    "### 2 - histogramen *batura*\n",
    "\n",
    "Bi histograma ditugularik, beraien batura histograma bat izango da. Histograma horretan, batutako bi histogrametako hitz guztiak agertuko dira eta balioak hi histogrametako balioen batura izango da. \n"
   ]
  },
  {
   "cell_type": "code",
   "execution_count": null,
   "metadata": {},
   "outputs": [],
   "source": [
    "def hist_batura(h1,h2):\n",
    "    # h1 = h1 + h2"
   ]
  },
  {
   "cell_type": "markdown",
   "metadata": {},
   "source": [
    "### 3 - histogramen normalizazioa\n",
    "\n",
    "Agerpen kopuruetatik maiztasunetara"
   ]
  },
  {
   "cell_type": "code",
   "execution_count": null,
   "metadata": {},
   "outputs": [],
   "source": [
    "def hist_norm(h):\n",
    "    ...\n",
    "    return hnorm"
   ]
  },
  {
   "cell_type": "code",
   "execution_count": null,
   "metadata": {},
   "outputs": [],
   "source": [
    "h = ...\n",
    "h_norm = hist_norm(h)\n",
    "sum(h_norm.values()) == 1"
   ]
  },
  {
   "cell_type": "markdown",
   "metadata": {},
   "source": [
    "### 4 - Gai baten eredua sortu\n",
    "\n",
    "Gai batetako eredua (histograma normalizatua) lortzeko, gai horretako korreo guztien histogramen batura kalkulatuko dugu eta azkenik histograma hori normalizatu:\n",
    "\n",
    "$$h_{gaia} = norm \\left( \\sum_{posta \\in gaia}{h_{posta}} \\right)$$\n",
    "\n",
    "Hau lortzeko ondoko pausuak emango ditugu:\n",
    "\n",
    "* Gai batetako entrenamenduko fitxategi bideizenen zerrenda lortu\n",
    "* Bideizen zerrenda batetako korrreoen histogramen batura lortu\n",
    "* Histogramen baturaren normalizazioa egin\n"
   ]
  },
  {
   "cell_type": "markdown",
   "metadata": {},
   "source": [
    "#### Entrenamenduko fitxategiak\n",
    "\n",
    "Gai bat dugularik, adibidez `alt.atheism`, bere entrenamenduko fitxategien bideizen zerrenda `20news-bydate/listas_train/alt.atheism.txt` fitxategian egongo da. Gure kasuan:"
   ]
  },
  {
   "cell_type": "code",
   "execution_count": null,
   "metadata": {},
   "outputs": [],
   "source": [
    "karpeta = '/home/data/'\n",
    "gaia = 'alt.atheism'\n",
    "bideizena = karpeta + '20news-bydate/listas_train/' + gaia + '.txt'"
   ]
  },
  {
   "cell_type": "markdown",
   "metadata": {},
   "source": [
    "Fitxategi horretan, ilara bakoitzean entrenamenduko korreo baten bideizen **erlatiboa** agertzen da:\n",
    "\n",
    "```\n",
    "20news-bydate-train/alt.atheism/49960\n",
    "20news-bydate-train/alt.atheism/51060\n",
    "20news-bydate-train/alt.atheism/51119\n",
    "20news-bydate-train/alt.atheism/51120\n",
    "20news-bydate-train/alt.atheism/51121\n",
    "...\n",
    "```\n",
    "Ondoko kodeak, esaterako, bideizen guzti horiek dituen zerrenda lortuko du:"
   ]
  },
  {
   "cell_type": "code",
   "execution_count": null,
   "metadata": {},
   "outputs": [],
   "source": [
    "karpeta = '/home/data/'\n",
    "gaia = 'alt.atheism'\n",
    "bideizena = karpeta + '20news-bydate/listas_train/' + gaia + '.txt'\n",
    "with open(bideizena,encoding=\"utf8\") as f:\n",
    "    izenak = f.readlines()"
   ]
  },
  {
   "cell_type": "markdown",
   "metadata": {},
   "source": [
    "Baina bideizen horiek ez dira absolutuak (aurretik '/home/data/20news-bydate/') gehitu behar zaie eta amaieran duten `\"\\n\"`-a kendu behar zaie. Sortu gai baten entrenamenduko bideizen absolutuen zerrenda bueltatuko duen funtzioa:"
   ]
  },
  {
   "cell_type": "code",
   "execution_count": null,
   "metadata": {},
   "outputs": [],
   "source": [
    "def gaiko_entrenamendu_bideizenak(gaia):\n",
    "    z = []\n",
    "    ...\n",
    "    return z"
   ]
  },
  {
   "cell_type": "markdown",
   "metadata": {},
   "source": [
    "Sortu gai batetako eredua, hau da, histogramen batura normalizatua lortuko duen funtzioa:"
   ]
  },
  {
   "cell_type": "code",
   "execution_count": null,
   "metadata": {},
   "outputs": [],
   "source": [
    "def eredua(gaia):\n",
    "    H = {}\n",
    "    for bideizena in gaiko_entrenamendu_bideizenak(gaia):\n",
    "        # h = histograma(...)\n",
    "        # joan H-n h guztiak batzen\n",
    "    # H normalizatu\n",
    "    # emaitza buetatu"
   ]
  },
  {
   "cell_type": "markdown",
   "metadata": {},
   "source": [
    "### 5 - Gai guztien ereduak sortu\n",
    "\n",
    "`20news-bydate/gaiak.txt` fitxategian gai guztiak ditugu. Sortu gai guztien izen zerrenda bueltatuko duen funtzioa:"
   ]
  },
  {
   "cell_type": "code",
   "execution_count": 6,
   "metadata": {},
   "outputs": [],
   "source": [
    "def gai_zerrenda():\n",
    "    ..."
   ]
  },
  {
   "cell_type": "markdown",
   "metadata": {},
   "source": [
    "Azkenik sortu gai bakoitzaren eredua."
   ]
  },
  {
   "cell_type": "code",
   "execution_count": 7,
   "metadata": {},
   "outputs": [],
   "source": [
    "def Ereduak():\n",
    "    #ereduak={}\n",
    "    #ereduak[gaia] = H\n",
    "    ..."
   ]
  }
 ],
 "metadata": {
  "kernelspec": {
   "display_name": "Python 3",
   "language": "python",
   "name": "python3"
  },
  "language_info": {
   "codemirror_mode": {
    "name": "ipython",
    "version": 3
   },
   "file_extension": ".py",
   "mimetype": "text/x-python",
   "name": "python",
   "nbconvert_exporter": "python",
   "pygments_lexer": "ipython3",
   "version": "3.7.6"
  }
 },
 "nbformat": 4,
 "nbformat_minor": 4
}
