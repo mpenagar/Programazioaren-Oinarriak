{
 "cells": [
  {
   "cell_type": "markdown",
   "metadata": {},
   "source": [
    "# 1. Laborategia - Egitura\n",
    "\n",
    "### https://github.com/mpenagar/Programazioaren-Oinarriak/tree/master/Laborategia"
   ]
  },
  {
   "cell_type": "code",
   "execution_count": null,
   "metadata": {},
   "outputs": [],
   "source": [
    "from IPython.display import display, HTML\n",
    "display(HTML(\"<style>.container { width:100% !important; }</style>\"))"
   ]
  },
  {
   "cell_type": "code",
   "execution_count": null,
   "metadata": {},
   "outputs": [],
   "source": [
    "!ls /home/data/20news-bydate"
   ]
  },
  {
   "cell_type": "code",
   "execution_count": null,
   "metadata": {},
   "outputs": [],
   "source": [
    "dir = '/home/data/20news-bydate/'\n",
    "filename = dir + '20news-bydate-train/alt.atheism/51120'\n",
    "#filename = dir + 'gaiak.txt'\n",
    "with open(filename,encoding='utf8') as f:\n",
    "    print(*f,sep='')"
   ]
  },
  {
   "cell_type": "code",
   "execution_count": null,
   "metadata": {},
   "outputs": [],
   "source": [
    "def ertzetako_karaktereak_kendu(hitza):\n",
    "    \"\"\"Karaktere kate bat (hitz bat) jaso eta berri bat buyeltatzen du,\n",
    "    zeinak jasotako katearen ertzetan agertzen diren karaktere ez\n",
    "    alfabetikoak ezabatuak dituen\"\"\"\n",
    "    pass\n",
    "\n",
    "def denak_karaktere_alfabetikoak(hitza):\n",
    "    \"\"\"Jasotako karaktere kate batetako karaktere guztiak alfabetikoak\n",
    "    ote diren adierazten du\"\"\"\n",
    "    pass\n",
    "\n",
    "def histograma(filename,encoding='utf8'):\n",
    "    \"\"\"Posta elektroniko batetako hitzen histograma bueltatzen du.\n",
    "    Histograma hiztegu baten bidsez adierazten du, gakoak hitzak direlarik\n",
    "    eta balioak beren agerpen kopurua. Posta elektronikoak arbuiatuko den\n",
    "    goiburu bat du, zeina lerro huts batekin amaitzen den\"\"\"\n",
    "    pass"
   ]
  },
  {
   "cell_type": "code",
   "execution_count": null,
   "metadata": {},
   "outputs": [],
   "source": [
    "def print_info(h,n=10):\n",
    "    \"\"\"Histograma baten informazio laburtua erakusten du pantailatik:\n",
    "          Len: <hitz kopurua>\n",
    "          Sum: <balioen batura>\n",
    "          Most Frequents: <balio handienak dituzten n sarrerak\n",
    "    \"\"\"\n",
    "    pass"
   ]
  },
  {
   "cell_type": "markdown",
   "metadata": {},
   "source": [
    "Aurreko funtzioak eginda badaude, honek `alt.atheism/51120` mezuaren histogramaren informazioa erakutsi beharko luke"
   ]
  },
  {
   "cell_type": "code",
   "execution_count": null,
   "metadata": {},
   "outputs": [],
   "source": [
    "filename = dir + '20news-bydate-train/alt.atheism/51120'\n",
    "print_info(histograma(filename))"
   ]
  },
  {
   "cell_type": "code",
   "execution_count": null,
   "metadata": {},
   "outputs": [],
   "source": [
    "def hist_batu1(h1,h2):\n",
    "    # emaitza = h1 + h2\n",
    "    pass\n",
    "def hist_batu2(h1,h2):\n",
    "    # h1 += h2\n",
    "    # emaitza = None\n",
    "    pass\n",
    "def normalizatu(h):\n",
    "    \"\"\"Agerpen kopuruak maiztasun bilakatzen ditu\"\"\"\n",
    "    pass"
   ]
  },
  {
   "cell_type": "markdown",
   "metadata": {},
   "source": [
    "Aurreko funtzioak eginda badaude, honek `alt.atheism/51120` eta `alt.atheism/51060` mezuen histogramaren batura normalizatua erakutsi beharko luke"
   ]
  },
  {
   "cell_type": "code",
   "execution_count": null,
   "metadata": {},
   "outputs": [],
   "source": [
    "h = {}\n",
    "filename = dir + '20news-bydate-train/alt.atheism/51120'\n",
    "hist_batu2(h,histograma(filename))\n",
    "print_info(h)\n",
    "filename = dir + '20news-bydate-train/alt.atheism/51060'\n",
    "hist_batu2(h,histograma(filename))\n",
    "print_info(h)\n",
    "h = normalizatu(h)\n",
    "print_info(h)"
   ]
  },
  {
   "cell_type": "code",
   "execution_count": null,
   "metadata": {},
   "outputs": [],
   "source": [
    "def gaiak():\n",
    "    \"\"\"20news-bydate datu basearen gai zerrenda bueltatzen du, \n",
    "    /home/data/20news-bydate/gaiak.txt fitxategia erabiliz\"\"\"\n",
    "    pass\n",
    "\n",
    "def train_zerrenda(gaia):\n",
    "    \"\"\"Gai bati dagozkion entrenamenduko mezuen fitxategien bideizenen\n",
    "    zerrenda bueltatzen du\"\"\"\n",
    "    pass\n",
    "\n",
    "def test_zerrenda(gaia):\n",
    "    \"\"\"Gai bati dagozkion entrenamenduko mezuen fitxategien bideizenen\n",
    "    zerrenda bueltatzen du\"\"\"\n",
    "    pass\n",
    "\n",
    "def eredua(gaia):\n",
    "    \"\"\"Gai baten entrenamenduko mezuekin histograma normalizatu bat\n",
    "    osatzen du\"\"\"\n",
    "    pass"
   ]
  },
  {
   "cell_type": "markdown",
   "metadata": {},
   "source": [
    "Aurreko funtzioekin froga batzuk egin..."
   ]
  },
  {
   "cell_type": "code",
   "execution_count": null,
   "metadata": {},
   "outputs": [],
   "source": [
    "gaiak()[:3]"
   ]
  },
  {
   "cell_type": "code",
   "execution_count": null,
   "metadata": {},
   "outputs": [],
   "source": [
    "train_zerrenda('alt.atheism')[:3]"
   ]
  },
  {
   "cell_type": "code",
   "execution_count": null,
   "metadata": {},
   "outputs": [],
   "source": [
    "print_info(eredua('alt.atheism'))"
   ]
  },
  {
   "cell_type": "markdown",
   "metadata": {},
   "source": [
    "Gai guztien ereduen zerrenda sortu:"
   ]
  },
  {
   "cell_type": "code",
   "execution_count": null,
   "metadata": {},
   "outputs": [],
   "source": [
    "G = gaiak()\n",
    "H = []\n",
    "for gaia in G\n",
    "    H.append(eredua(gaia))"
   ]
  },
  {
   "cell_type": "markdown",
   "metadata": {},
   "source": [
    "Ereduen (hiztegi normalizatuen) arteko distantziak"
   ]
  },
  {
   "cell_type": "code",
   "execution_count": null,
   "metadata": {},
   "outputs": [],
   "source": [
    "def distantzia_gainjartzea(h1,h2):\n",
    "    pass\n",
    "\n",
    "def distantzia_euklidearra(h1,h2):\n",
    "    pass\n",
    "\n",
    "def distantzia_korrelazioa(h1,h2):\n",
    "    pass"
   ]
  },
  {
   "cell_type": "code",
   "execution_count": null,
   "metadata": {},
   "outputs": [],
   "source": [
    "def sailkatu(filename,H,dist=distantzia_gainjartzea):\n",
    "    \"\"\"Mezu bat, eredu zerrenda eta distantzia bat emanda, indize\n",
    "    zerrenda bat bueltatzen du, gertuen dagoen ereduaren indizetik\n",
    "    urrutien dagoen ereduaren indizera\"\"\"\n",
    "    pass"
   ]
  },
  {
   "cell_type": "markdown",
   "metadata": {},
   "source": [
    "`alt.atheism/51120` mezuaren sailkapena:"
   ]
  },
  {
   "cell_type": "code",
   "execution_count": null,
   "metadata": {},
   "outputs": [],
   "source": [
    "filename = dir + '20news-bydate-train/alt.atheism/51120'\n",
    "sailkatu(filename,H)"
   ]
  },
  {
   "cell_type": "code",
   "execution_count": null,
   "metadata": {},
   "outputs": [],
   "source": [
    "def errore_tasa(G,H,k=1,dist=distantzia_gainjartzea):\n",
    "    \"\"\"Gai zerrenda bat, eredu zerrenda bat eta distantzia bat emanda,\n",
    "    ereduen errore tasa kalkulatzen du (ehunekotan emanda). Errore bat\n",
    "    gertatu dela esango dugu baldin eta benetako gaia sailkapenaren\n",
    "    lehenengo k gaietan ez badago\"\"\"\n",
    "    pass"
   ]
  },
  {
   "cell_type": "markdown",
   "metadata": {},
   "source": [
    "Errore tasa k-ren balio ezberdinetarako (gainjartze distantziarekin):"
   ]
  },
  {
   "cell_type": "code",
   "execution_count": null,
   "metadata": {},
   "outputs": [],
   "source": [
    "for k in range(1,11):\n",
    "    print(f'k:{k} Errore Tasa:{errore_tasa(G,H,k)'}"
   ]
  }
 ],
 "metadata": {
  "kernelspec": {
   "display_name": "Python 3",
   "language": "python",
   "name": "python3"
  },
  "language_info": {
   "codemirror_mode": {
    "name": "ipython",
    "version": 3
   },
   "file_extension": ".py",
   "mimetype": "text/x-python",
   "name": "python",
   "nbconvert_exporter": "python",
   "pygments_lexer": "ipython3",
   "version": "3.8.2"
  }
 },
 "nbformat": 4,
 "nbformat_minor": 4
}
