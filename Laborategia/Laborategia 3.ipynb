{
 "cells": [
  {
   "cell_type": "code",
   "execution_count": 1,
   "metadata": {},
   "outputs": [],
   "source": [
    "def ondozondokoak(z):\n",
    "    '''\n",
    "    Funtzio honek ondoz-ondoko bikoteak zeharkatu eta desordenatuak\n",
    "    daudenak elkarraldatuko ditu. Elkarraldaketa kopurua bueltatuko du.\n",
    "    '''\n",
    "    k = 0\n",
    "    for i in range(len(z)-1):\n",
    "        if z[i] > z[i+1] :\n",
    "            z[i],z[i+1] = z[i+1],z[i]\n",
    "            k += 1\n",
    "    return k\n",
    "\n",
    "def burbuila(z):\n",
    "    while ondozondokoak(z) :\n",
    "        pass\n",
    "    \n",
    "#def burbuila(z):\n",
    "#    while True :\n",
    "#        if ondozondokoak(z) == 0:\n",
    "#            break"
   ]
  },
  {
   "cell_type": "code",
   "execution_count": 4,
   "metadata": {},
   "outputs": [
    {
     "name": "stdout",
     "output_type": "stream",
     "text": [
      "[13, 234, 234, 346, 461, 632, 1346, 2346, 2635, 3467, 5234, 53462, 346234]\n"
     ]
    }
   ],
   "source": [
    "z = [234,346,1346,5234,53462,234,346234,632,461,3467,13,2635,2346]\n",
    "burbuila(z)\n",
    "print(z)"
   ]
  },
  {
   "cell_type": "code",
   "execution_count": 5,
   "metadata": {},
   "outputs": [],
   "source": [
    "def burbuila(z):\n",
    "    k = 1\n",
    "    while k > 0 :\n",
    "        k = 0\n",
    "        for i in range(len(z)-1):\n",
    "            if z[i] > z[i+1] :\n",
    "                z[i],z[i+1] = z[i+1],z[i]\n",
    "                k += 1\n"
   ]
  },
  {
   "cell_type": "code",
   "execution_count": 6,
   "metadata": {},
   "outputs": [
    {
     "name": "stdout",
     "output_type": "stream",
     "text": [
      "[13, 234, 234, 346, 461, 632, 1346, 2346, 2635, 3467, 5234, 53462, 346234]\n"
     ]
    }
   ],
   "source": [
    "z = [234,346,1346,5234,53462,234,346234,632,461,3467,13,2635,2346]\n",
    "burbuila(z)\n",
    "print(z)"
   ]
  },
  {
   "cell_type": "code",
   "execution_count": 9,
   "metadata": {},
   "outputs": [],
   "source": [
    "def burbuila(z):\n",
    "    i = 0\n",
    "    k = 0\n",
    "    while i < len(z)-1 :\n",
    "        if z[i] > z[i+1] :\n",
    "            z[i],z[i+1] = z[i+1],z[i]\n",
    "            k += 1\n",
    "        i += 1\n",
    "        if i == len(z)-1 and k > 0 :\n",
    "            i = 0\n",
    "            k = 0\n"
   ]
  },
  {
   "cell_type": "code",
   "execution_count": 10,
   "metadata": {},
   "outputs": [
    {
     "name": "stdout",
     "output_type": "stream",
     "text": [
      "[13, 234, 234, 346, 461, 632, 1346, 2346, 2635, 3467, 5234, 53462, 346234]\n"
     ]
    }
   ],
   "source": [
    "z = [234,346,1346,5234,53462,234,346234,632,461,3467,13,2635,2346]\n",
    "burbuila(z)\n",
    "print(z)"
   ]
  },
  {
   "cell_type": "code",
   "execution_count": null,
   "metadata": {},
   "outputs": [],
   "source": [
    "def minpos(z,i):\n",
    "    '''\n",
    "    Funtzio honek z zerrendako i posiziotik aurrerako elementu\n",
    "    txikienaren posizioa bueltatzen du\n",
    "    '''\n",
    "\n",
    "def hautaketa_zuzena(z):\n",
    "    pass"
   ]
  }
 ],
 "metadata": {
  "kernelspec": {
   "display_name": "Python 3",
   "language": "python",
   "name": "python3"
  },
  "language_info": {
   "codemirror_mode": {
    "name": "ipython",
    "version": 3
   },
   "file_extension": ".py",
   "mimetype": "text/x-python",
   "name": "python",
   "nbconvert_exporter": "python",
   "pygments_lexer": "ipython3",
   "version": "3.7.6"
  }
 },
 "nbformat": 4,
 "nbformat_minor": 4
}
