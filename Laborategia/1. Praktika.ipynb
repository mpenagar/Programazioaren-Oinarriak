{
 "cells": [
  {
   "cell_type": "markdown",
   "metadata": {},
   "source": [
    "## Datuak\n",
    "\n",
    "Datuak `/home/data/20news-bydate` direktorioan dituzue:"
   ]
  },
  {
   "cell_type": "code",
   "execution_count": 1,
   "metadata": {},
   "outputs": [
    {
     "name": "stdout",
     "output_type": "stream",
     "text": [
      "alt.atheism\n",
      "comp.graphics\n",
      "comp.os.ms-windows.misc\n",
      "comp.sys.ibm.pc.hardware\n",
      "comp.sys.mac.hardware\n",
      "comp.windows.x\n",
      "misc.forsale\n",
      "rec.autos\n",
      "rec.motorcycles\n",
      "rec.sport.baseball\n",
      "rec.sport.hockey\n",
      "sci.crypt\n",
      "sci.electronics\n",
      "sci.med\n",
      "sci.space\n",
      "soc.religion.christian\n",
      "talk.politics.guns\n",
      "talk.politics.mideast\n",
      "talk.politics.misc\n",
      "talk.religion.misc\n",
      "\n"
     ]
    }
   ],
   "source": [
    "with open('/home/data/20news-bydate/gaiak.txt',encoding='utf8') as f:\n",
    "    print(*f,sep='')"
   ]
  },
  {
   "cell_type": "code",
   "execution_count": 5,
   "metadata": {},
   "outputs": [
    {
     "name": "stdout",
     "output_type": "stream",
     "text": [
      "From: bobmon@cs.indiana.edu (Bob Montante)\n",
      "Subject: WANTED: bus card for Logitech Mouse\n",
      "Article-I.D.: news.1993Apr1.162131.4673\n",
      "Expires: 5/15/1993\n",
      "Distribution: na\n",
      "Organization: dyskaryotic\n",
      "Lines: 7\n",
      "\n",
      "I've acquired an old Logitech Series 7 (3-button) mouse, and I'm told\n",
      "that this is a bus mouse.  Does anyone want to unload an old\n",
      "(pc-clone) bus-card for this mouse?\n",
      "\n",
      "email replies to:  bobmon@cs.indiana.edu\n",
      "\n",
      "thanks.\n",
      "\n"
     ]
    }
   ],
   "source": [
    "dir = '/home/data/20news-bydate/'\n",
    "fname = '/20news-bydate-train/comp.sys.ibm.pc.hardware/58343'\n",
    "with open(dir + fname ,encoding='utf8') as f:\n",
    "    print(*f,sep='')"
   ]
  },
  {
   "cell_type": "markdown",
   "metadata": {},
   "source": [
    "## Funtzioak - 1"
   ]
  },
  {
   "cell_type": "code",
   "execution_count": null,
   "metadata": {},
   "outputs": [],
   "source": [
    "def garbitu(hitza):\n",
    "    \"Hitz garbia (edo hutsa) bueltatuko du\"\n",
    "    pass\n",
    "\n",
    "def edukia(bideizena,kodif='utf8'):\n",
    "    \"posta elektroniko baten edukia (goibururik gabe) bueltatuko du\"\n",
    "    pass\n",
    "\n",
    "def histograma(bideizena,kodif='utf8'):\n",
    "    \"posta elektroniko baten histograma bueltatuko du\"\n",
    "    pass\n",
    "\n",
    "def batu(h1,h2):\n",
    "    \"bi histogramen batura bueltatuko/kalkulatuko du\"\n",
    "    pass\n",
    "\n",
    "def normalizatu(h):\n",
    "    \"histograma normalizatua bueltatuko/kalkulatuko du\"\n",
    "    pass\n",
    "\n",
    "def gaia_train_files(gaia):\n",
    "    \"gai baten entrenamenduko fitxategi bideizen absolutu zerrenda\"\n",
    "    pass\n",
    "\n",
    "def gaia_test_files(gaia):\n",
    "    \"gai baten test-eko fitxategi bideizen absolutu zerrenda\"\n",
    "    pass\n",
    "\n",
    "def hnorm_gaia(gaia):\n",
    "    \"gai baten histograma normalizatua bueltatuko du\"\n",
    "    pass\n",
    "\n",
    "def hnorm_guztiak():\n",
    "    \"gai guztien histograma normalizatuak bueltatuko ditu\"\n",
    "    pass\n",
    "\n",
    "def distantzia_gainjartze(hx,hc):\n",
    "    \"bi histograma normalizatuen arteko gaingartze distantzia\"\n",
    "\n",
    "def gaia_asmatu(hx,H):\n",
    "    \"\"\"posta elektroniko baten histograma normalizatuari dagokion\n",
    "    gaia (distantzi minimoko gaia).\n",
    "    H = hnorm_guztiak()\n",
    "    \"\"\"\n",
    "\n",
    "def gaia_asmatu_K(hx,H,K):\n",
    "    \"\"\"posta elektroniko baten histograma normalizatuari dagozkion\n",
    "    gaia zerrenda (distantzi minimoko K gaiak).\n",
    "    H = hnorm_guztiak()\n",
    "    \"\"\"\n",
    "    \n",
    "def errore_tasa():\n",
    "    \"\"\"Test multzoko posta elektroniko guztiak klasifikatu eta\n",
    "    errore tasa kalkulatu\"\"\"\n",
    "\n",
    "def errore_tasa_K(k):\n",
    "    \"\"\"Test multzoko posta elektroniko guztiak klasifikatu eta\n",
    "    errore tasa kalkulatu. Errorea gertatzen da, benetako gaia\n",
    "    K kai asmatuen barnean ez dagoenean\"\"\""
   ]
  },
  {
   "cell_type": "code",
   "execution_count": 21,
   "metadata": {},
   "outputs": [
    {
     "name": "stdout",
     "output_type": "stream",
     "text": [
      "!\"#$%&'()*+,-./:;<=>?@[\\]^_`{|}~\n",
      "abcdefghijklmnopqrstuvwxyzABCDEFGHIJKLMNOPQRSTUVWXYZ\n",
      "True\n",
      "False\n"
     ]
    }
   ],
   "source": [
    "import string\n",
    "print(string.punctuation)\n",
    "print(string.ascii_letters)\n",
    "print('Kaixo'.isalpha())\n",
    "print('kaixo@com'.isalpha())"
   ]
  },
  {
   "cell_type": "code",
   "execution_count": 22,
   "metadata": {},
   "outputs": [
    {
     "name": "stdout",
     "output_type": "stream",
     "text": [
      "'kaixo' --> 'kaixo'\n",
      "'(kaixo)' --> 'kaixo'\n",
      "'(3-kaixo)' --> ''\n",
      "'(-kaixo-)' --> 'kaixo'\n",
      "'(--)' --> ''\n",
      "'(-kai@xo-)' --> ''\n"
     ]
    }
   ],
   "source": [
    "def garbitu(hitza):\n",
    "    \"Hitz garbia (edo hutsa) bueltatuko du\"\n",
    "    while hitza and hitza[0] in string.punctuation :\n",
    "        hitza = hitza[1:]\n",
    "    while hitza and hitza[-1] in string.punctuation :\n",
    "        hitza = hitza[:-1]\n",
    "    return hitza if hitza.isalpha() else ''\n",
    "\n",
    "for w in ('kaixo','(kaixo)','(3-kaixo)','(-kaixo-)','(--)','(-kai@xo-)'):\n",
    "    print(f'{repr(w)} --> {repr(garbitu(w))}')"
   ]
  },
  {
   "cell_type": "code",
   "execution_count": 27,
   "metadata": {},
   "outputs": [
    {
     "name": "stdout",
     "output_type": "stream",
     "text": [
      "'kaixo' --> 'kaixo'\n",
      "'(kaixo)' --> 'kaixo'\n",
      "'(3-kaixo)' --> ''\n",
      "'(-kaixo-)' --> 'kaixo'\n",
      "'(--)' --> ''\n",
      "'(-kai@xo-)' --> ''\n"
     ]
    }
   ],
   "source": [
    "def garbitu(hitza):\n",
    "    \"Hitz garbia (edo hutsa) bueltatuko du\"\n",
    "    for i in range(len(hitza)):\n",
    "        #print(i)\n",
    "        if hitza[i] not in string.punctuation :\n",
    "            break\n",
    "    else :\n",
    "        # karaktere guztiak puntuazio zeinuak dira\n",
    "        return ''\n",
    "    for j in range(len(hitza)-1,i,-1):\n",
    "        #print(j)\n",
    "        if hitza[j] not in string.punctuation :\n",
    "            break\n",
    "    #print(f'i={i}')\n",
    "    hitza = hitza[i:j+1]\n",
    "    return hitza if hitza.isalpha() else ''\n",
    "\n",
    "for w in ('kaixo','(kaixo)','(3-kaixo)','(-kaixo-)','(--)','(-kai@xo-)'):\n",
    "    print(f'{repr(w)} --> {repr(garbitu(w))}')"
   ]
  },
  {
   "cell_type": "code",
   "execution_count": 4,
   "metadata": {},
   "outputs": [
    {
     "data": {
      "text/plain": [
       "['alt.atheism',\n",
       " 'comp.graphics',\n",
       " 'comp.os.ms-windows.misc',\n",
       " 'comp.sys.ibm.pc.hardware',\n",
       " 'comp.sys.mac.hardware',\n",
       " 'comp.windows.x',\n",
       " 'misc.forsale',\n",
       " 'rec.autos',\n",
       " 'rec.motorcycles',\n",
       " 'rec.sport.baseball',\n",
       " 'rec.sport.hockey',\n",
       " 'sci.crypt',\n",
       " 'sci.electronics',\n",
       " 'sci.med',\n",
       " 'sci.space',\n",
       " 'soc.religion.christian',\n",
       " 'talk.politics.guns',\n",
       " 'talk.politics.mideast',\n",
       " 'talk.politics.misc',\n",
       " 'talk.religion.misc']"
      ]
     },
     "execution_count": 4,
     "metadata": {},
     "output_type": "execute_result"
    }
   ],
   "source": [
    "def gai_zerrenda():\n",
    "    with open('/home/data/20news-bydate/gaiak.txt',encoding='utf8') as f:\n",
    "        #print(*f)\n",
    "        return [ x.rstrip() for x in f]\n",
    "\n",
    "gai_zerrenda()"
   ]
  },
  {
   "cell_type": "code",
   "execution_count": null,
   "metadata": {},
   "outputs": [],
   "source": [
    "def hnorm_guztiak():\n",
    "    \"gai guztien histograma normalizatuak bueltatuko ditu\"\n",
    "    gaiak = gai_zerrenda()\n",
    "    return gaiak,[hnorm_gaia(g) for g in gaiak]\n",
    "    return {g:hnorm_gaia(g) for g in gaiak}\n"
   ]
  },
  {
   "cell_type": "code",
   "execution_count": null,
   "metadata": {},
   "outputs": [],
   "source": []
  }
 ],
 "metadata": {
  "kernelspec": {
   "display_name": "Python 3",
   "language": "python",
   "name": "python3"
  },
  "language_info": {
   "codemirror_mode": {
    "name": "ipython",
    "version": 3
   },
   "file_extension": ".py",
   "mimetype": "text/x-python",
   "name": "python",
   "nbconvert_exporter": "python",
   "pygments_lexer": "ipython3",
   "version": "3.8.2"
  }
 },
 "nbformat": 4,
 "nbformat_minor": 4
}
