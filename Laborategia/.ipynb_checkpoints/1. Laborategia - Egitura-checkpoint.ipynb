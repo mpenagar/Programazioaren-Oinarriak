{
 "cells": [
  {
   "cell_type": "markdown",
   "metadata": {},
   "source": [
    "# 1. Laborategia - Egitura\n",
    "\n",
    "### https://github.com/mpenagar/Programazioaren-Oinarriak/tree/master/Laborategia"
   ]
  },
  {
   "cell_type": "code",
   "execution_count": null,
   "metadata": {},
   "outputs": [],
   "source": [
    "from IPython.display import display, HTML\n",
    "display(HTML(\"<style>.container { width:100% !important; }</style>\"))"
   ]
  },
  {
   "cell_type": "code",
   "execution_count": null,
   "metadata": {},
   "outputs": [],
   "source": [
    "!ls /home/data/20news-bydate"
   ]
  },
  {
   "cell_type": "code",
   "execution_count": null,
   "metadata": {},
   "outputs": [],
   "source": [
    "dir = '/home/data/20news-bydate/'\n",
    "filename = dir + '20news-bydate-train/alt.atheism/51120'\n",
    "#filename = dir + 'gaiak.txt'\n",
    "with open(filename,encoding='utf8') as f:\n",
    "    print(*f,sep='')"
   ]
  },
  {
   "cell_type": "code",
   "execution_count": null,
   "metadata": {},
   "outputs": [],
   "source": [
    "alpha=\"abcdefghijklmnopqrstuvwxyz\"\n",
    "def ertzetako_karaktereak_kendu(hitza):\n",
    "    while hitza and hitza[0] not in alpha:\n",
    "        hitza = hitza[1:]\n",
    "    while hitza and hitza[-1] not in alpha:\n",
    "        hitza = hitza[:-1]\n",
    "    return hitza\n",
    "\n",
    "def denak_karaktere_alfabetikoak(hitza):\n",
    "    #return any([k not in alpha for k in hitza])\n",
    "    #return not all([k in alpha for k in hitza])\n",
    "    for k in hitza :\n",
    "        if k not in alpha:\n",
    "            return False\n",
    "    return True\n",
    "\n",
    "def histograma(filename,encoding='utf8'):\n",
    "    with open(filename,encoding=encoding) as f :\n",
    "        h = {}\n",
    "        for line in f:\n",
    "            if line == '\\n':\n",
    "                break\n",
    "        for line in f:\n",
    "            for word in line.lower().split():\n",
    "                word = ertzetako_karaktereak_kendu(word)\n",
    "                if word and denak_karaktere_alfabetikoak(word):\n",
    "                    if word in h :\n",
    "                        h[word] += 1\n",
    "                    else :\n",
    "                        h[word] = 1\n",
    "        return h"
   ]
  },
  {
   "cell_type": "code",
   "execution_count": null,
   "metadata": {},
   "outputs": [],
   "source": [
    "def print_info(h,n=10):\n",
    "    #z = []\n",
    "    #for w,n in h.items():\n",
    "    #    z.append((n,w))\n",
    "    z = [(n,w) for w,n in h.items()]\n",
    "    print('Len:',len(h))\n",
    "    print('Sum:',sum(h.values()))\n",
    "    print('Most Frequents:',*sorted(z,reverse=True)[:n])"
   ]
  },
  {
   "cell_type": "code",
   "execution_count": null,
   "metadata": {},
   "outputs": [],
   "source": [
    "filename = dir + '20news-bydate-train/alt.atheism/51120'\n",
    "print_info(histograma(filename))"
   ]
  },
  {
   "cell_type": "code",
   "execution_count": null,
   "metadata": {},
   "outputs": [],
   "source": [
    "def hist_batu1(h1,h2):\n",
    "    # h3 = h1 + h2\n",
    "    return h3\n",
    "def hist_batu2(h1,h2):\n",
    "    # h1 += h2\n",
    "    for word,n in h2.items():\n",
    "        if word in h1 :\n",
    "            h1[word] += n\n",
    "        else :\n",
    "            h1[word] = n\n",
    "    return None\n",
    "\n",
    "def normalizatu(h):\n",
    "    #sum(hnorm.values()) == 1\n",
    "    N = sum(h.values())\n",
    "    #hnorm = {}\n",
    "    #for word,n in h.items():\n",
    "    #    hnorm[word] = n/N\n",
    "    #return hnorm\n",
    "    return {word:n/N for word,n in h.items()}"
   ]
  },
  {
   "cell_type": "code",
   "execution_count": null,
   "metadata": {},
   "outputs": [],
   "source": [
    "h = {}\n",
    "filename = dir + '20news-bydate-train/alt.atheism/51120'\n",
    "hist_batu2(h,histograma(filename))\n",
    "print_info(h)\n",
    "filename = dir + '20news-bydate-train/alt.atheism/51060'\n",
    "hist_batu2(h,histograma(filename))\n",
    "print_info(h)\n",
    "h = normalizatu(h)\n",
    "print_info(h)"
   ]
  },
  {
   "cell_type": "code",
   "execution_count": null,
   "metadata": {},
   "outputs": [],
   "source": [
    "def gaiak():\n",
    "    filename = dir + 'gaiak.txt'\n",
    "    with open(filename,encoding='utf8') as f:\n",
    "        return [line.rstrip() for line in f]\n",
    "\n",
    "def train_zerrenda(gaia):\n",
    "    filename = dir + 'listas_train/' + gaia + '.txt'\n",
    "    with open(filename,encoding='utf8') as f:\n",
    "        return [dir+line.rstrip() for line in f]\n",
    "\n",
    "def test_zerrenda(gaia):\n",
    "    filename = dir + 'listas_test/' + gaia + '.txt'\n",
    "    with open(filename,encoding='utf8') as f:\n",
    "        return [dir+line.rstrip() for line in f]\n",
    "\n",
    "def eredua(gaia):\n",
    "    h = {}\n",
    "    for filename in train_zerrenda(gaia):\n",
    "        hist_batu2(h,histograma(filename))\n",
    "    return normalizatu(h)"
   ]
  },
  {
   "cell_type": "code",
   "execution_count": null,
   "metadata": {},
   "outputs": [],
   "source": [
    "gaiak()[:3]"
   ]
  },
  {
   "cell_type": "code",
   "execution_count": null,
   "metadata": {},
   "outputs": [],
   "source": [
    "train_zerrenda('alt.atheism')[:3]"
   ]
  },
  {
   "cell_type": "code",
   "execution_count": null,
   "metadata": {},
   "outputs": [],
   "source": [
    "print_info(eredua('alt.atheism'))"
   ]
  },
  {
   "cell_type": "code",
   "execution_count": null,
   "metadata": {},
   "outputs": [],
   "source": [
    "G = gaiak()\n",
    "H = [ eredua(gaia) for gaia in G]"
   ]
  },
  {
   "cell_type": "code",
   "execution_count": null,
   "metadata": {},
   "outputs": [],
   "source": [
    "def distantzia_gainjartzea(h1,h2):\n",
    "    d = 1\n",
    "    for w in h1.keys() & h2.keys() :\n",
    "        d -= min(h1[w],h2[w])\n",
    "    return d\n",
    "from math import sqrt\n",
    "def distantzia_euklidearra(h1,h2):\n",
    "    d = 0\n",
    "    for w in h1.keys() | h2.keys() :\n",
    "        x = h1.get(w,0) - h2.get(w,0)\n",
    "        d += x*x\n",
    "    return sqrt(d)\n",
    "\n",
    "def distantzia_korrelazioa(h1,h2):\n",
    "    d = 1\n",
    "    for w in h1.keys() & h2.keys() :\n",
    "        d -= h1[w]*h2[w]\n",
    "    return d"
   ]
  },
  {
   "cell_type": "code",
   "execution_count": null,
   "metadata": {},
   "outputs": [],
   "source": [
    "def sailkatu(filename,H,dist=distantzia_gainjartzea):\n",
    "    h = normalizatu(histograma(filename))\n",
    "    z = [(dist(h,h2),i) for i,h2 in enumerate(H)]\n",
    "    z.sort()\n",
    "    return [i for d,i in z]"
   ]
  },
  {
   "cell_type": "code",
   "execution_count": null,
   "metadata": {},
   "outputs": [],
   "source": [
    "filename = dir + '20news-bydate-train/alt.atheism/51120'\n",
    "sailkatu(filename,H)"
   ]
  },
  {
   "cell_type": "code",
   "execution_count": null,
   "metadata": {},
   "outputs": [],
   "source": [
    "def erroreak(G,H,k=1,dist=distantzia_gainjartzea):\n",
    "    E = 0\n",
    "    N = 0\n",
    "    for i,gaia in enumerate(G):\n",
    "        e = 0\n",
    "        for n,filename in enumerate(test_zerrenda(gaia),1):\n",
    "            if i not in sailkatu(filename,H,dist)[:k] :\n",
    "                e += 1\n",
    "        E += e\n",
    "        N += n\n",
    "        print(f'{gaia}: %{int(e/n*100)}')\n",
    "    print(f'DENERA: %{int(E/N*100)}')"
   ]
  },
  {
   "cell_type": "code",
   "execution_count": null,
   "metadata": {},
   "outputs": [],
   "source": [
    "erroreak(G,H)"
   ]
  }
 ],
 "metadata": {
  "kernelspec": {
   "display_name": "Python 3",
   "language": "python",
   "name": "python3"
  },
  "language_info": {
   "codemirror_mode": {
    "name": "ipython",
    "version": 3
   },
   "file_extension": ".py",
   "mimetype": "text/x-python",
   "name": "python",
   "nbconvert_exporter": "python",
   "pygments_lexer": "ipython3",
   "version": "3.7.6"
  }
 },
 "nbformat": 4,
 "nbformat_minor": 4
}
