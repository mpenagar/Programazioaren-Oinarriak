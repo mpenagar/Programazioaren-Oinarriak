{
 "cells": [
  {
   "cell_type": "code",
   "execution_count": null,
   "metadata": {},
   "outputs": [],
   "source": [
    "from IPython.display import display, HTML\n",
    "display(HTML(\"<style>.container { width:100% !important; }</style>\"))"
   ]
  },
  {
   "cell_type": "code",
   "execution_count": null,
   "metadata": {},
   "outputs": [],
   "source": [
    "!cp '/home/bcppebam/Programazioaren Oinarriak/Laborategiak/1. Laborategia - Asteartea.ipynb' L1.ipynb"
   ]
  },
  {
   "cell_type": "code",
   "execution_count": null,
   "metadata": {},
   "outputs": [],
   "source": [
    "!ls /home/data/20news-bydate"
   ]
  },
  {
   "cell_type": "code",
   "execution_count": 4,
   "metadata": {},
   "outputs": [
    {
     "name": "stdout",
     "output_type": "stream",
     "text": [
      "From: mathew <mathew@mantis.co.uk>\n",
      "Subject: Re: university violating separation of church/state?\n",
      "Organization: Mantis Consultants, Cambridge. UK.\n",
      "X-Newsreader: rusnews v1.01\n",
      "Lines: 29\n",
      "\n",
      "dmn@kepler.unh.edu (...until kings become philosophers or philosophers become kings) writes:\n",
      ">      Recently, RAs have been ordered (and none have resisted or cared about\n",
      "> it apparently) to post a religious flyer entitled _The Soul Scroll: Thoughts\n",
      "> on religion, spirituality, and matters of the soul_ on the inside of bathroom\n",
      "> stall doors. (at my school, the University of New Hampshire) It is some sort\n",
      "> of newsletter assembled by a Hall Director somewhere on campus. It poses a\n",
      "> question about 'spirituality' each issue, and solicits responses to be \n",
      "> included in the next 'issue.' It's all pretty vague. I assume it's put out\n",
      "> by a Christian, but they're very careful not to mention Jesus or the bible.\n",
      "> I've heard someone defend it, saying \"Well it doesn't support any one religion.\n",
      "> \" So what??? This is a STATE university, and as a strong supporter of the\n",
      "> separation of church and state, I was enraged.\n",
      "> \n",
      ">      What can I do about this?\n",
      "\n",
      "It sounds to me like it's just SCREAMING OUT for parody.  Give a copy to your\n",
      "friendly neighbourhood SubGenius preacher; with luck, he'll run it through the\n",
      "mental mincer and hand you back an outrageously offensive and gut-bustingly\n",
      "funny parody you can paste over the originals.\n",
      "\n",
      "I can see it now:\n",
      "\n",
      "                               The Stool Scroll\n",
      "         Thoughts on Religion, Spirituality, and Matters of the Colon\n",
      "\n",
      "                       (You can use this text to wipe)\n",
      "\n",
      "\n",
      "mathew\n",
      "\n"
     ]
    }
   ],
   "source": [
    "dir = '/home/data/20news-bydate/'\n",
    "filename = dir + '20news-bydate-train/alt.atheism/51120'\n",
    "#filename = dir + 'gaiak.txt'\n",
    "with open(filename,encoding='utf8') as f:\n",
    "    print(*f,sep='')"
   ]
  },
  {
   "cell_type": "code",
   "execution_count": 5,
   "metadata": {},
   "outputs": [],
   "source": [
    "alpha=\"abcdefghijklmnopqrstuvwxyz\"\n",
    "def ertzetako_karaktereak_kendu(hitza):\n",
    "    while hitza and hitza[0] not in alpha:\n",
    "        hitza = hitza[1:]\n",
    "    while hitza and hitza[-1] not in alpha:\n",
    "        hitza = hitza[:-1]\n",
    "    return hitza\n",
    "\n",
    "def denak_karaktere_alfabetikoak(hitza):\n",
    "    #return any([k not in alpha for k in hitza])\n",
    "    #return not all([k in alpha for k in hitza])\n",
    "    for k in hitza :\n",
    "        if k not in alpha:\n",
    "            return False\n",
    "    return True\n",
    "\n",
    "def histograma(filename,encoding='utf8'):\n",
    "    with open(filename,encoding=encoding) as f :\n",
    "        h = {}\n",
    "        for line in f:\n",
    "            if line == '\\n':\n",
    "                break\n",
    "        for line in f:\n",
    "            for word in line.lower().split():\n",
    "                word = ertzetako_karaktereak_kendu(word)\n",
    "                if word and denak_karaktere_alfabetikoak(word):\n",
    "                    if word in h :\n",
    "                        h[word] += 1\n",
    "                    else :\n",
    "                        h[word] = 1\n",
    "        return h"
   ]
  },
  {
   "cell_type": "code",
   "execution_count": 6,
   "metadata": {},
   "outputs": [],
   "source": [
    "def print_info(h,n=10):\n",
    "    #z = []\n",
    "    #for w,n in h.items():\n",
    "    #    z.append((n,w))\n",
    "    z = [(n,w) for w,n in h.items()]\n",
    "    print('Len:',len(h))\n",
    "    print('Sum:',sum(h.values()))\n",
    "    print('Most Frequents:',*sorted(z,reverse=True)[:n])"
   ]
  },
  {
   "cell_type": "code",
   "execution_count": 8,
   "metadata": {},
   "outputs": [
    {
     "name": "stdout",
     "output_type": "stream",
     "text": [
      "Len: 137\n",
      "Sum: 215\n",
      "Most Frequents: (11, 'the') (8, 'it') (8, 'and') (7, 'of') (7, 'a') (6, 'to') (4, 'on') (4, 'i') (4, 'can') (3, 'you')\n"
     ]
    }
   ],
   "source": [
    "filename = dir + '20news-bydate-train/alt.atheism/51120'\n",
    "print_info(histograma(filename))"
   ]
  },
  {
   "cell_type": "code",
   "execution_count": 9,
   "metadata": {},
   "outputs": [],
   "source": [
    "def hist_batu1(h1,h2):\n",
    "    # h3 = h1 + h2\n",
    "    return h3\n",
    "def hist_batu2(h1,h2):\n",
    "    # h1 += h2\n",
    "    for word,n in h2.items():\n",
    "        if word in h1 :\n",
    "            h1[word] += n\n",
    "        else :\n",
    "            h1[word] = n\n",
    "    return None\n",
    "\n",
    "def normalizatu(h):\n",
    "    #sum(hnorm.values()) == 1\n",
    "    N = sum(h.values())\n",
    "    #hnorm = {}\n",
    "    #for word,n in h.items():\n",
    "    #    hnorm[word] = n/N\n",
    "    #return hnorm\n",
    "    return {word:n/N for word,n in h.items()}"
   ]
  },
  {
   "cell_type": "code",
   "execution_count": 10,
   "metadata": {},
   "outputs": [
    {
     "name": "stdout",
     "output_type": "stream",
     "text": [
      "Len: 137\n",
      "Sum: 215\n",
      "Most Frequents: (11, 'the') (8, 'it') (8, 'and') (7, 'of') (7, 'a') (6, 'to') (4, 'on') (4, 'i') (4, 'can') (3, 'you')\n",
      "Len: 1243\n",
      "Sum: 5240\n",
      "Most Frequents: (186, 'the') (183, 'to') (162, 'of') (128, 'is') (127, 'that') (117, 'a') (83, 'in') (82, 'it') (81, 'and') (73, 'atheists')\n",
      "Len: 1243\n",
      "Sum: 1.0000000000000135\n",
      "Most Frequents: (0.03549618320610687, 'the') (0.034923664122137404, 'to') (0.030916030534351144, 'of') (0.024427480916030534, 'is') (0.024236641221374047, 'that') (0.02232824427480916, 'a') (0.01583969465648855, 'in') (0.015648854961832062, 'it') (0.015458015267175572, 'and') (0.013931297709923664, 'atheists')\n"
     ]
    }
   ],
   "source": [
    "h = {}\n",
    "filename = dir + '20news-bydate-train/alt.atheism/51120'\n",
    "hist_batu2(h,histograma(filename))\n",
    "print_info(h)\n",
    "filename = dir + '20news-bydate-train/alt.atheism/51060'\n",
    "hist_batu2(h,histograma(filename))\n",
    "print_info(h)\n",
    "h = normalizatu(h)\n",
    "print_info(h)"
   ]
  },
  {
   "cell_type": "code",
   "execution_count": 30,
   "metadata": {},
   "outputs": [],
   "source": [
    "def gaiak():\n",
    "    filename = dir + 'gaiak.txt'\n",
    "    with open(filename,encoding='utf8') as f:\n",
    "        return [line.rstrip() for line in f]\n",
    "\n",
    "def train_zerrenda(gaia):\n",
    "    filename = dir + 'listas_train/' + gaia + '.txt'\n",
    "    with open(filename,encoding='utf8') as f:\n",
    "        return [dir+line.rstrip() for line in f]\n",
    "\n",
    "def test_zerrenda(gaia):\n",
    "    filename = dir + 'listas_test/' + gaia + '.txt'\n",
    "    with open(filename,encoding='utf8') as f:\n",
    "        return [dir+line.rstrip() for line in f]\n",
    "\n",
    "def eredua(gaia):\n",
    "    h = {}\n",
    "    for filename in train_zerrenda(gaia):\n",
    "        hist_batu2(h,histograma(filename))\n",
    "    return normalizatu(h)"
   ]
  },
  {
   "cell_type": "code",
   "execution_count": 20,
   "metadata": {},
   "outputs": [
    {
     "data": {
      "text/plain": [
       "['alt.atheism', 'comp.graphics', 'comp.os.ms-windows.misc']"
      ]
     },
     "execution_count": 20,
     "metadata": {},
     "output_type": "execute_result"
    }
   ],
   "source": [
    "gaiak()[:3]"
   ]
  },
  {
   "cell_type": "code",
   "execution_count": 21,
   "metadata": {},
   "outputs": [
    {
     "data": {
      "text/plain": [
       "['/home/data/20news-bydate/20news-bydate-train/alt.atheism/49960',\n",
       " '/home/data/20news-bydate/20news-bydate-train/alt.atheism/51060',\n",
       " '/home/data/20news-bydate/20news-bydate-train/alt.atheism/51119']"
      ]
     },
     "execution_count": 21,
     "metadata": {},
     "output_type": "execute_result"
    }
   ],
   "source": [
    "train_zerrenda('alt.atheism')[:3]"
   ]
  },
  {
   "cell_type": "code",
   "execution_count": 23,
   "metadata": {},
   "outputs": [
    {
     "name": "stdout",
     "output_type": "stream",
     "text": [
      "Len: 9925\n",
      "Sum: 0.9999999999999006\n",
      "Most Frequents: (0.04935816432926619, 'the') (0.0287945642491662, 'to') (0.028145478148585475, 'of') (0.02391951332352799, 'is') (0.021992970535634135, 'a') (0.020922668986804217, 'that') (0.018692298662468323, 'and') (0.018526574551681753, 'in') (0.014818497572832294, 'i') (0.014127980444554928, 'it')\n"
     ]
    }
   ],
   "source": [
    "print_info(eredua('alt.atheism'))"
   ]
  },
  {
   "cell_type": "code",
   "execution_count": 24,
   "metadata": {},
   "outputs": [],
   "source": [
    "G = gaiak()\n",
    "H = [ eredua(gaia) for gaia in G]"
   ]
  },
  {
   "cell_type": "code",
   "execution_count": 25,
   "metadata": {},
   "outputs": [],
   "source": [
    "def distantzia_gainjartzea(h1,h2):\n",
    "    d = 1\n",
    "    for w in h1.keys() & h2.keys() :\n",
    "        d -= min(h1[w],h2[w])\n",
    "    return d\n",
    "from math import sqrt\n",
    "def distantzia_euklidearra(h1,h2):\n",
    "    d = 0\n",
    "    for w in h1.keys() | h2.keys() :\n",
    "        x = h1.get(w,0) - h2.get(w,0)\n",
    "        d += x*x\n",
    "    return sqrt(d)\n",
    "\n",
    "def distantzia_korrelazioa(h1,h2):\n",
    "    d = 1\n",
    "    for w in h1.keys() & h2.keys() :\n",
    "        d -= h1[w]*h2[w]\n",
    "    return d"
   ]
  },
  {
   "cell_type": "code",
   "execution_count": 26,
   "metadata": {},
   "outputs": [],
   "source": [
    "def sailkatu(filename,H,dist=distantzia_gainjartzea):\n",
    "    h = normalizatu(histograma(filename))\n",
    "    z = [(dist(h,h2),i) for i,h2 in enumerate(H)]\n",
    "    z.sort()\n",
    "    return [i for d,i in z]"
   ]
  },
  {
   "cell_type": "code",
   "execution_count": 27,
   "metadata": {},
   "outputs": [
    {
     "data": {
      "text/plain": [
       "[0, 19, 15, 8, 7, 12, 4, 2, 3, 16, 18, 13, 17, 1, 11, 5, 14, 9, 10, 6]"
      ]
     },
     "execution_count": 27,
     "metadata": {},
     "output_type": "execute_result"
    }
   ],
   "source": [
    "filename = dir + '20news-bydate-train/alt.atheism/51120'\n",
    "sailkatu(filename,H)"
   ]
  },
  {
   "cell_type": "code",
   "execution_count": 34,
   "metadata": {},
   "outputs": [],
   "source": [
    "def erroreak(G,H,k=1,dist=distantzia_gainjartzea):\n",
    "    E = 0\n",
    "    N = 0\n",
    "    for i,gaia in enumerate(G):\n",
    "        e = 0\n",
    "        for n,filename in enumerate(test_zerrenda(gaia),1):\n",
    "            if i not in sailkatu(filename,H,dist)[:k] :\n",
    "                e += 1\n",
    "        E += e\n",
    "        N += n\n",
    "        print(f'{gaia}: %{int(e/n*100)}')\n",
    "    print(f'DENERA: %{int(E/N*100)}')"
   ]
  },
  {
   "cell_type": "code",
   "execution_count": 35,
   "metadata": {},
   "outputs": [
    {
     "name": "stdout",
     "output_type": "stream",
     "text": [
      "alt.atheism: %39\n",
      "comp.graphics: %85\n",
      "comp.os.ms-windows.misc: %45\n",
      "comp.sys.ibm.pc.hardware: %62\n",
      "comp.sys.mac.hardware: %49\n",
      "comp.windows.x: %77\n",
      "misc.forsale: %73\n",
      "rec.autos: %39\n",
      "rec.motorcycles: %51\n",
      "rec.sport.baseball: %69\n",
      "rec.sport.hockey: %86\n",
      "sci.crypt: %76\n",
      "sci.electronics: %82\n",
      "sci.med: %96\n",
      "sci.space: %96\n",
      "soc.religion.christian: %23\n",
      "talk.politics.guns: %78\n",
      "talk.politics.mideast: %62\n",
      "talk.politics.misc: %80\n",
      "talk.religion.misc: %92\n",
      "DENERA: %68\n"
     ]
    }
   ],
   "source": [
    "erroreak(G,H)"
   ]
  }
 ],
 "metadata": {
  "kernelspec": {
   "display_name": "Python 3",
   "language": "python",
   "name": "python3"
  },
  "language_info": {
   "codemirror_mode": {
    "name": "ipython",
    "version": 3
   },
   "file_extension": ".py",
   "mimetype": "text/x-python",
   "name": "python",
   "nbconvert_exporter": "python",
   "pygments_lexer": "ipython3",
   "version": "3.7.6"
  }
 },
 "nbformat": 4,
 "nbformat_minor": 4
}
