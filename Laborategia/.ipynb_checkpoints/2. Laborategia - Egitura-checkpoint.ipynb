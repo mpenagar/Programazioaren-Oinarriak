{
 "cells": [
  {
   "cell_type": "markdown",
   "metadata": {},
   "source": [
    "# 2. Laborategia - Egitura\n",
    "\n",
    "\n",
    "### https://github.com/mpenagar/Programazioaren-Oinarriak/tree/master/Laborategia"
   ]
  },
  {
   "cell_type": "code",
   "execution_count": null,
   "metadata": {},
   "outputs": [],
   "source": [
    "from IPython.display import display, HTML\n",
    "display(HTML(\"<style>.container { width:100% !important; }</style>\"))"
   ]
  },
  {
   "cell_type": "markdown",
   "metadata": {},
   "source": [
    "## 1  - Burbuilaren Ordenazioa"
   ]
  },
  {
   "cell_type": "code",
   "execution_count": null,
   "metadata": {},
   "outputs": [],
   "source": [
    "def bikoteak_ordenatu(z):\n",
    "    \"\"\"Zerrenda batetako ondoz-ondoko bikote desordenatuak\n",
    "    elkarraldatzen ditu. True bueltatzen du elkarraldaketarik\n",
    "    egin badu eta False elkarraldaketarik egin ez badu\"\"\"\n",
    "    pass\n",
    "\n",
    "def ordenatu_burbuila(z):\n",
    "    \"\"\"Zerrenda bat ordenatzen du\n",
    "    burbuilaren algoritmoa erabiliz\"\"\"\n",
    "    pass\n",
    "        "
   ]
  },
  {
   "cell_type": "markdown",
   "metadata": {},
   "source": [
    "Ordenazio algoritmoa frogatzeko:"
   ]
  },
  {
   "cell_type": "code",
   "execution_count": null,
   "metadata": {},
   "outputs": [],
   "source": [
    "from random import shuffle\n",
    "z = list(range(10))\n",
    "shuffle(z)\n",
    "print(z)\n",
    "ordenatu_burbuila(z)\n",
    "print(z)"
   ]
  },
  {
   "cell_type": "markdown",
   "metadata": {},
   "source": [
    "Zerrenda oso handi batekin frogak egiteko:"
   ]
  },
  {
   "cell_type": "code",
   "execution_count": null,
   "metadata": {},
   "outputs": [],
   "source": [
    "from random import shuffle\n",
    "import matplotlib.pyplot as plt\n",
    "z = list(range(1000))\n",
    "shuffle(z)\n",
    "fig = plt.plot(z,'.')\n",
    "ordenatu_burbuila(z)\n",
    "fig = plt.plot(z)"
   ]
  },
  {
   "cell_type": "markdown",
   "metadata": {},
   "source": [
    "## 2  - Hautaketa Zuzena bidezko ordenazioa"
   ]
  },
  {
   "cell_type": "code",
   "execution_count": null,
   "metadata": {},
   "outputs": [],
   "source": [
    "def min_index(z,i):\n",
    "    \"\"\"Zerrenda batetako i posizio batetik aurrera\n",
    "    dagoen elementu txikienaren posizioa bueltatzen du\"\"\"    \n",
    "    pass\n",
    "\n",
    "def ordenatu_hautaketa(z):\n",
    "    \"\"\"Zerrenda bat ordenatzen du\n",
    "    Hautaketa Zuzena bidezko algoritmoa erabiliz\"\"\"\n",
    "    pass"
   ]
  },
  {
   "cell_type": "markdown",
   "metadata": {},
   "source": [
    "## 3  - Txertaketa Zuzena bidezko ordenazioa"
   ]
  },
  {
   "cell_type": "code",
   "execution_count": null,
   "metadata": {},
   "outputs": [],
   "source": [
    "def txertatu(z,i):\n",
    "    \"\"\"Zerrenda batetako i posizioan dagoen elementua\n",
    "    ezkerrera txertatzen du, behar diren elkarraldaketak\n",
    "    eginez\"\"\"    \n",
    "    pass\n",
    "\n",
    "def ordenatu_txertaketa(z):\n",
    "    \"\"\"Zerrenda bat ordenatzen du\n",
    "    Txertaketa Zuzena bidezko algoritmoa erabiliz\"\"\"\n",
    "    pass"
   ]
  },
  {
   "cell_type": "markdown",
   "metadata": {},
   "source": [
    "## 4  - Nahasketa bidezko ordenazioa"
   ]
  },
  {
   "cell_type": "code",
   "execution_count": null,
   "metadata": {},
   "outputs": [],
   "source": [
    "def nahastu(z1,z2):\n",
    "    \"\"\"z1 eta z2 zerrenda ordenatuetako elementuez\n",
    "    osotutako zerrenda ordenatua bueltatzen du\"\"\"    \n",
    "    pass\n",
    "\n",
    "def ordenatu_nahasketa(z):\n",
    "    \"\"\"Zerrenda bat ordenatzen du\n",
    "    Nahasketa bidezko algoritmoa erabiliz\"\"\"\n",
    "    pass"
   ]
  },
  {
   "cell_type": "markdown",
   "metadata": {},
   "source": [
    "## 5 - Bilaketa Dikotomikoa"
   ]
  },
  {
   "cell_type": "code",
   "execution_count": null,
   "metadata": {},
   "outputs": [],
   "source": [
    "def bilatu(z,x):\n",
    "    \"\"\"z zerrenda ordenatu batean x elementuaren\n",
    "    posizioa bueltatzen du, bilaketa dikotomikoa\n",
    "    erabiliz.\n",
    "    \n",
    "    Elementua zerrendan ez badago, ValueError bat\n",
    "    sortuko du.\"\"\""
   ]
  }
 ],
 "metadata": {
  "kernelspec": {
   "display_name": "Python 3",
   "language": "python",
   "name": "python3"
  },
  "language_info": {
   "codemirror_mode": {
    "name": "ipython",
    "version": 3
   },
   "file_extension": ".py",
   "mimetype": "text/x-python",
   "name": "python",
   "nbconvert_exporter": "python",
   "pygments_lexer": "ipython3",
   "version": "3.7.6"
  }
 },
 "nbformat": 4,
 "nbformat_minor": 4
}
