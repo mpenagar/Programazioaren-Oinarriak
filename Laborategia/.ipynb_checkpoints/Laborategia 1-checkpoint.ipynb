{
 "cells": [
  {
   "cell_type": "markdown",
   "metadata": {},
   "source": [
    "### 1 - e-posta baten histograma\n",
    "\n",
    "Ahalik eta funtzio gehien sortuko ditugu, azpiproblema bakoitza funtzio beten bidez adierazteko. Adibidez:\n",
    "\n",
    "* e-posta batetako testua, ilara zerrenda moduan (goiburua deskartatu)\n",
    "* hitz batetako ertzetatik puntuazio zeinuak kendu\n",
    "* hitz bat soilik karaktere alfabetikoez osotua ote dagoen"
   ]
  },
  {
   "cell_type": "code",
   "execution_count": null,
   "metadata": {},
   "outputs": [],
   "source": [
    "def eposta(bideizena,kodifikazioa=\"utf-8\"):\n",
    "    with open(bideizena,encoding=kodifikazioa) as f:\n",
    "        for ilara in f:\n",
    "            if ilara == \"\\n\" :\n",
    "                break\n",
    "        return list(f)"
   ]
  },
  {
   "cell_type": "markdown",
   "metadata": {},
   "source": [
    "`string` modulua erabil dezakegu puntuazio zeinu guztiak lortzeko (seguruenik batenbat ahaztuko genuke...):"
   ]
  },
  {
   "cell_type": "code",
   "execution_count": null,
   "metadata": {},
   "outputs": [],
   "source": [
    "import string\n",
    "string.punctuation"
   ]
  },
  {
   "cell_type": "code",
   "execution_count": null,
   "metadata": {},
   "outputs": [],
   "source": [
    "def hitza_garbitu(w):\n",
    "    \n",
    "    return ..."
   ]
  },
  {
   "cell_type": "markdown",
   "metadata": {},
   "source": [
    "Prozesatzera goazen testuak ingelesez daudenez, `string.ascii_letters` erabil dezakegu:"
   ]
  },
  {
   "cell_type": "code",
   "execution_count": null,
   "metadata": {},
   "outputs": [],
   "source": [
    "string.ascii_letters"
   ]
  },
  {
   "cell_type": "code",
   "execution_count": null,
   "metadata": {},
   "outputs": [],
   "source": [
    "def soilik_alfa(w):\n",
    "    \n",
    "    return True/False"
   ]
  },
  {
   "cell_type": "markdown",
   "metadata": {},
   "source": [
    "Aurreko funtzioak erabiliz, `histograma` funtzioa askozaz errazagoa izango da:"
   ]
  },
  {
   "cell_type": "code",
   "execution_count": null,
   "metadata": {},
   "outputs": [],
   "source": [
    "def histograma(bideizena):\n",
    "    h = {}\n",
    "    for ilara in eposta(bideizena):\n",
    "        for w in ilara.split():\n",
    "            w = hitza_garbitu(w)\n",
    "            if soilik_alfa(w) :\n",
    "                w = w.lower()\n",
    "                h[w] ...\n",
    "    return h"
   ]
  },
  {
   "cell_type": "markdown",
   "metadata": {},
   "source": [
    "### 2 - histogramen *batura*\n",
    "\n",
    "Bi histograma ditugularik, beraien batura histograma bat izango da. Histograma horretan, batutako bi histogrametako hitz guztiak agertuko dira eta balioak hi histogrametako balioen batura izango da. \n"
   ]
  },
  {
   "cell_type": "code",
   "execution_count": null,
   "metadata": {},
   "outputs": [],
   "source": [
    "def hist_batura(h1,h2):\n",
    "    # h1 = h1 + h2\n",
    "    # return h1 + h2"
   ]
  },
  {
   "cell_type": "markdown",
   "metadata": {},
   "source": [
    "### 3 - histogramen normalizazioa\n",
    "\n",
    "Agerpen kopuruetatik maiztasunetara"
   ]
  },
  {
   "cell_type": "code",
   "execution_count": null,
   "metadata": {},
   "outputs": [],
   "source": [
    "def hist_norm(h):\n",
    "    ...\n",
    "    return hnorm"
   ]
  },
  {
   "cell_type": "code",
   "execution_count": null,
   "metadata": {},
   "outputs": [],
   "source": [
    "h = ...\n",
    "h_norm = hist_norm(h)\n",
    "sum(h_norm.values()) == 1"
   ]
  },
  {
   "cell_type": "markdown",
   "metadata": {},
   "source": [
    "### 4 - Gai baten eredua sortu\n",
    "\n",
    "Gai batetako eredua (histograma normalizatua) lortzeko, gai horretako korreo guztien histogramen batura kalkulatuko dugu eta azkenik histograma hori normalizatu:\n",
    "\n",
    "$$h_{gaia} = norm \\left( \\sum_{posta \\in gaia}{h_{posta}} \\right)$$\n",
    "\n",
    "Hau lortzeko ondoko pausuak emango ditugu:\n",
    "\n",
    "* Gai batetako entrenamenduko fitxategi bideizenen zerrenda lortu\n",
    "* Bideizen zerrenda batetako korrreoen histogramen batura lortu\n",
    "* Histogramen baturaren normalizazioa egin\n"
   ]
  },
  {
   "cell_type": "markdown",
   "metadata": {},
   "source": [
    "#### Entrenamenduko fitxategiak\n",
    "\n",
    "Gai bat dugularik, adibidez `alt.atheism`, bere entrenamenduko fitxategien bideizen zerrenda `20news-bydate/listas_train/alt.atheism.txt` fitxategian egongo da. Gure kasuan:"
   ]
  },
  {
   "cell_type": "code",
   "execution_count": null,
   "metadata": {},
   "outputs": [],
   "source": [
    "karpeta = '/home/data/'\n",
    "gaia = 'alt.atheism'\n",
    "bideizena = karpeta + '20news-bydate/listas_train/' + gaia + '.txt'"
   ]
  },
  {
   "cell_type": "markdown",
   "metadata": {},
   "source": [
    "Fitxategi horretan, ilara bakoitzean entrenamenduko korreo baten bideizen **erlatiboa** agertzen da:\n",
    "\n",
    "```\n",
    "20news-bydate-train/alt.atheism/49960\n",
    "20news-bydate-train/alt.atheism/51060\n",
    "20news-bydate-train/alt.atheism/51119\n",
    "20news-bydate-train/alt.atheism/51120\n",
    "20news-bydate-train/alt.atheism/51121\n",
    "...\n",
    "```\n",
    "Ondoko kodeak, esaterako, bideizen guzti horiek dituen zerrenda lortuko du:"
   ]
  },
  {
   "cell_type": "code",
   "execution_count": null,
   "metadata": {},
   "outputs": [],
   "source": [
    "karpeta = '/home/data/'\n",
    "gaia = 'alt.atheism'\n",
    "bideizena = karpeta + '20news-bydate/listas_train/' + gaia + '.txt'\n",
    "with open(bideizena,encoding=\"utf8\") as f:\n",
    "    izenak = f.readlines()"
   ]
  },
  {
   "cell_type": "markdown",
   "metadata": {},
   "source": [
    "Baina bideizen horiek ez dira absolutuak (aurretik '/home/data/20news-bydate/') gehitu behar zaie eta amaieran duten `\"\\n\"`-a kendu behar zaie. Sortu gai baten entrenamenduko bideizen absolutuen zerrenda bueltatuko duen funtzioa:"
   ]
  },
  {
   "cell_type": "code",
   "execution_count": null,
   "metadata": {},
   "outputs": [],
   "source": [
    "def gaiko_entrenamendu_bideizenak(gaia):\n",
    "    z = []\n",
    "    ...\n",
    "    return z"
   ]
  },
  {
   "cell_type": "markdown",
   "metadata": {},
   "source": [
    "Sortu gai batetako eredua, hau da, histogramen batura normalizatua lortuko duen funtzioa:"
   ]
  },
  {
   "cell_type": "code",
   "execution_count": null,
   "metadata": {},
   "outputs": [],
   "source": [
    "def eredua(gaia):\n",
    "    H = {}\n",
    "    for bideizena in gaiko_entrenamendu_bideizenak(gaia):\n",
    "        # h = histograma(...)\n",
    "        # joan H-n h guztiak batzen\n",
    "    # H normalizatu\n",
    "    # emaitza buetatu"
   ]
  },
  {
   "cell_type": "markdown",
   "metadata": {},
   "source": [
    "### 5 - Gai guztien ereduak sortu\n",
    "\n",
    "`20news-bydate/gaiak.txt` fitxategian gai guztiak ditugu. Sortu gai guztien izen zerrenda bueltatuko duen funtzioa:"
   ]
  },
  {
   "cell_type": "code",
   "execution_count": 6,
   "metadata": {},
   "outputs": [],
   "source": [
    "def gai_zerrenda():\n",
    "    ..."
   ]
  },
  {
   "cell_type": "markdown",
   "metadata": {},
   "source": [
    "Azkenik sortu gai bakoitzaren eredua."
   ]
  },
  {
   "cell_type": "code",
   "execution_count": 7,
   "metadata": {},
   "outputs": [],
   "source": [
    "def Ereduak():\n",
    "    # Eredu guztiak gordetzen dituen (hiztegien) hiztegia sortu\n",
    "    # E[gaia] = eredua(gaia)\n",
    "    return E"
   ]
  },
  {
   "cell_type": "markdown",
   "metadata": {},
   "source": [
    "### 6 - Histograma normalizatuen arteko distantzia\n",
    "\n",
    "#### Gainjartze distantzia\n",
    "\n",
    "$$d(h_{a},h_{b}) = 1 - \\sum_{w \\in a}{\\min(h_{a}(w),h_{b}(w))}$$\n",
    "\n",
    "\n",
    "#### Euklidesen distantzia\n",
    "\n",
    "$$d(h_{a},h_{b}) = \\sqrt{ \\sum_{w \\in a,b}{(h_{a}(w)-h_{b}(w))^2} }$$\n",
    "\n",
    "#### korrelazio distantzia\n",
    "\n",
    "$$d(h_{a},h_{b}) = 1 - \\sum_{w \\in a}{h_{a}(w) \\cdot h_{b}(w)}$$\n"
   ]
  },
  {
   "cell_type": "code",
   "execution_count": null,
   "metadata": {},
   "outputs": [],
   "source": [
    "def dist_gainjartze(ha,hb):"
   ]
  },
  {
   "cell_type": "code",
   "execution_count": null,
   "metadata": {},
   "outputs": [],
   "source": [
    "def dist_euklides(ha,hb):"
   ]
  },
  {
   "cell_type": "code",
   "execution_count": null,
   "metadata": {},
   "outputs": [],
   "source": [
    "def dist_korrelazio(ha,hb):"
   ]
  },
  {
   "cell_type": "markdown",
   "metadata": {},
   "source": [
    "### 7 - Histograma normalizatua sailkatu\n"
   ]
  },
  {
   "cell_type": "code",
   "execution_count": null,
   "metadata": {},
   "outputs": [],
   "source": [
    "def sailkatu(h,E,dist=dist_gainjartze):\n",
    "    #dist()\n",
    "    z = [ (d,gaia) , (d,gaia) , (d,gaia), ... ]\n",
    "    z.sort()\n",
    "    return z"
   ]
  },
  {
   "cell_type": "markdown",
   "metadata": {},
   "source": [
    "### 8 - Errore tasa neurtu\n",
    "\n",
    "Test-eko posta elektroniko bat sailkatzen dugunean lehenengo posizioan postari dagokion gaia ez badago, sailkapen errore bat dugu. Errore tasa, $k$ errore kopurua eta $N$ posta kopuru arteko zatidura izango da:\n",
    "\n",
    "$$errore\\_tasa = \\frac{k}{N}$$"
   ]
  },
  {
   "cell_type": "markdown",
   "metadata": {},
   "source": [
    "#### test-eko fitxategiak\n",
    "\n",
    "Gai bat dugularik, adibidez `alt.atheism`, bere test-eko fitxategien bideizen zerrenda `20news-bydate/listas_test/alt.atheism.txt` fitxategian egongo da. Gure kasuan:"
   ]
  },
  {
   "cell_type": "code",
   "execution_count": 14,
   "metadata": {},
   "outputs": [],
   "source": [
    "karpeta = '/home/data/'\n",
    "gaia = 'alt.atheism'\n",
    "#frogak egiteko\n",
    "#bideizena = karpeta + '20news-bydate/listas_minitest/' + gaia + '.txt'\n",
    "bideizena = karpeta + '20news-bydate/listas_test/' + gaia + '.txt'"
   ]
  },
  {
   "cell_type": "code",
   "execution_count": null,
   "metadata": {},
   "outputs": [],
   "source": [
    "def gaiko_test_bideizenak(gaia):\n",
    "    z = []\n",
    "    ...\n",
    "    return z"
   ]
  },
  {
   "cell_type": "markdown",
   "metadata": {},
   "source": [
    "#### Errore tasa lortu"
   ]
  },
  {
   "cell_type": "code",
   "execution_count": null,
   "metadata": {},
   "outputs": [],
   "source": [
    "def errore_tasa(E,dist=dist_gainjartze):\n",
    "    #gai bakoitza zeharkatu\n",
    "    for gaia in ... :\n",
    "        #gaiko test-eko bideizenak zeharkatu\n",
    "        for bideizena in ...\n",
    "            #histograma normalizatua lortu\n",
    "            #sailkatu\n",
    "            #lehenengo gaia zuzena ez bada, errorea kontabilizatu\n",
    "    return k/N"
   ]
  }
 ],
 "metadata": {
  "kernelspec": {
   "display_name": "Python 3",
   "language": "python",
   "name": "python3"
  },
  "language_info": {
   "codemirror_mode": {
    "name": "ipython",
    "version": 3
   },
   "file_extension": ".py",
   "mimetype": "text/x-python",
   "name": "python",
   "nbconvert_exporter": "python",
   "pygments_lexer": "ipython3",
   "version": "3.7.6"
  }
 },
 "nbformat": 4,
 "nbformat_minor": 4
}
