{
 "cells": [
  {
   "cell_type": "markdown",
   "metadata": {},
   "source": [
    "### e-posta baten histograma\n",
    "\n",
    "Ahalik eta funtzio gehien sortuko ditugu, azpiproblema bakoitza funtzio beten bidez adierazteko. Adibidez:\n",
    "\n",
    "* e-posta batetako testua, ilara zerrenda moduan (goiburua deskartatu)\n",
    "* hitz batetako ertzetatik puntuazio zeinuak kendu\n",
    "* hitz bat soilik karaktere alfabetikoez osotua ote dagoen"
   ]
  },
  {
   "cell_type": "code",
   "execution_count": 4,
   "metadata": {},
   "outputs": [],
   "source": [
    "def eposta(bideizena,kodifikazioa=\"utf-8\"):\n",
    "    with open(bideizena,encoding=kodifikazioa) as f:\n",
    "        z=[]\n",
    "        for x in f:\n",
    "            if x == \"\\n\" :\n",
    "        ...\n",
    "        return z"
   ]
  },
  {
   "cell_type": "markdown",
   "metadata": {},
   "source": [
    "`string` modulua erabil dezakegu puntuazio zeinu guztiak lortzeko (seguruenik batenbat ahaztuko genuke...):"
   ]
  },
  {
   "cell_type": "code",
   "execution_count": 2,
   "metadata": {},
   "outputs": [
    {
     "data": {
      "text/plain": [
       "'!\"#$%&\\'()*+,-./:;<=>?@[\\\\]^_`{|}~'"
      ]
     },
     "execution_count": 2,
     "metadata": {},
     "output_type": "execute_result"
    }
   ],
   "source": [
    "import string\n",
    "string.punctuation"
   ]
  },
  {
   "cell_type": "code",
   "execution_count": null,
   "metadata": {},
   "outputs": [],
   "source": [
    "def hitza_garbitu(w):\n",
    "    \n",
    "    return ..."
   ]
  },
  {
   "cell_type": "markdown",
   "metadata": {},
   "source": [
    "Prozesatzera goazen testuak ingelesez daudenez, `string.ascii_letters` erabil dezakegu:"
   ]
  },
  {
   "cell_type": "code",
   "execution_count": 3,
   "metadata": {},
   "outputs": [
    {
     "data": {
      "text/plain": [
       "'abcdefghijklmnopqrstuvwxyzABCDEFGHIJKLMNOPQRSTUVWXYZ'"
      ]
     },
     "execution_count": 3,
     "metadata": {},
     "output_type": "execute_result"
    }
   ],
   "source": [
    "string.ascii_letters"
   ]
  },
  {
   "cell_type": "code",
   "execution_count": null,
   "metadata": {},
   "outputs": [],
   "source": [
    "def soilik_alfa(w):\n",
    "    \n",
    "    return True/False"
   ]
  },
  {
   "cell_type": "markdown",
   "metadata": {},
   "source": [
    "Aurreko funtzioak erabiliz, `histograma` funtzioa askozaz errazagoa izango da:"
   ]
  },
  {
   "cell_type": "code",
   "execution_count": null,
   "metadata": {},
   "outputs": [],
   "source": [
    "def histograma(bideizena):\n",
    "    h = {}\n",
    "    for ilara in eposta(bideizena):\n",
    "        for w in ilara.split():\n",
    "            w = hitza_garbitu(w)\n",
    "            if soilik_alfa(w) :\n",
    "                w = w.lower()\n",
    "                h[w] ...\n",
    "    return h"
   ]
  }
 ],
 "metadata": {
  "kernelspec": {
   "display_name": "Python 3",
   "language": "python",
   "name": "python3"
  },
  "language_info": {
   "codemirror_mode": {
    "name": "ipython",
    "version": 3
   },
   "file_extension": ".py",
   "mimetype": "text/x-python",
   "name": "python",
   "nbconvert_exporter": "python",
   "pygments_lexer": "ipython3",
   "version": "3.7.6"
  }
 },
 "nbformat": 4,
 "nbformat_minor": 4
}
