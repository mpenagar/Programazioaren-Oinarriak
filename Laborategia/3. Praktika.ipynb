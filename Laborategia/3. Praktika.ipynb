{
 "cells": [
  {
   "cell_type": "code",
   "execution_count": 43,
   "metadata": {},
   "outputs": [],
   "source": [
    "class hiztegia(object):\n",
    "    \n",
    "    def __init__(self,it=(),init_size=10,maxlf=4):\n",
    "        \n",
    "        self.taula = [[] for _ in range(init_size)]\n",
    "        self.init_size = init_size\n",
    "        self.maxlf = maxlf\n",
    "        self.n = 0\n",
    "        for g,b in it :\n",
    "            #self.__setitem__(g,b)\n",
    "            self[g] = b\n",
    "    \n",
    "    def items(self):\n",
    "        #return [x for z in self.taula for x in z]\n",
    "        #return (x for z in self.taula for x in z)\n",
    "        for z in self.taula :\n",
    "            for x in z :\n",
    "                yield x\n",
    "    \n",
    "    def resize(self,new_size):\n",
    "        init_size = self.init_size\n",
    "        self.__init__(list(self.items()),new_size,self.maxlf)\n",
    "        self.init_size = init_size\n",
    "    \n",
    "    def lf(self):\n",
    "        return self.n / len(self.taula)\n",
    "    \n",
    "    def searchkey(self,key):\n",
    "        z = self.taula[hash(key)%len(self.taula)]\n",
    "        for i,(k,v) in enumerate(z):\n",
    "            if k == key :\n",
    "                return z,i\n",
    "        return z,None\n",
    "    \n",
    "    def __setitem__(self,key,value):\n",
    "        z,i = self.searchkey(key)\n",
    "        if i is not None :\n",
    "            z[i] = (key,value)\n",
    "        else :\n",
    "            z.append((key,value))\n",
    "            self.n += 1\n",
    "            if self.lf() > self.maxlf :\n",
    "                self.resize(len(self.taula)*2)\n",
    "\n",
    "    def __delitem__(self,key):\n",
    "        z,i = self.searchkey(key)\n",
    "        if i is not None :\n",
    "            del z[i]\n",
    "            self.n -= 1\n",
    "            if len(self.taula) > self.init_size  and self.lf() < self.maxlf/4:\n",
    "                self.resize(len(self.taula)//2)\n",
    "            "
   ]
  },
  {
   "cell_type": "code",
   "execution_count": 46,
   "metadata": {},
   "outputs": [
    {
     "name": "stdout",
     "output_type": "stream",
     "text": [
      "2.05\n",
      "[('11', 11), ('29', 29), ('39', 39)]\n",
      "[('12', 12), ('32', 32)]\n",
      "[('7', 7), ('22', 22), ('34', 34)]\n",
      "[]\n",
      "[('21', 21)]\n",
      "[('8', 8)]\n",
      "[('16', 16)]\n",
      "[('1', 1)]\n",
      "[('9', 9), ('19', 19), ('20', 20)]\n",
      "[('18', 18), ('26', 26), ('27', 27), ('35', 35)]\n",
      "[]\n",
      "[('37', 37), ('40', 40)]\n",
      "[('6', 6), ('33', 33)]\n",
      "[('4', 4), ('5', 5), ('31', 31), ('36', 36)]\n",
      "[('2', 2), ('10', 10)]\n",
      "[('30', 30)]\n",
      "[('24', 24), ('25', 25)]\n",
      "[('3', 3), ('13', 13)]\n",
      "[('15', 15), ('17', 17), ('38', 38)]\n",
      "[('0', 0), ('14', 14), ('23', 23), ('28', 28)]\n"
     ]
    }
   ],
   "source": [
    "h = hiztegia({str(i):i for i in range(41)}.items())\n",
    "print(h.lf(),*h.taula,sep='\\n')"
   ]
  },
  {
   "cell_type": "markdown",
   "metadata": {},
   "source": [
    "### Itetagarritasuna\n",
    "\n",
    "* `a` objektu bat *iteragarria* da `iter(a)`-k *iteradore* bat bueltatzen badu\n",
    "   * `iter(a)` eta `a.__iter__()` gauza bera dira.\n",
    "* `b` objektu bat *iteradore* bat da `next(b)` existitzen bada\n",
    "   * `next(b)` eta `b.__next__()` gauza bera dira."
   ]
  },
  {
   "cell_type": "markdown",
   "metadata": {},
   "source": [
    "**Zerrendak iteragarriak dira**"
   ]
  },
  {
   "cell_type": "code",
   "execution_count": 12,
   "metadata": {},
   "outputs": [
    {
     "name": "stdout",
     "output_type": "stream",
     "text": [
      "<list_iterator object at 0x7fbad0029250>\n",
      "<list_iterator object at 0x7fbad00292b0>\n"
     ]
    }
   ],
   "source": [
    "z = [1,2,3,4]\n",
    "print(iter(z))\n",
    "print(z.__iter__())"
   ]
  },
  {
   "cell_type": "code",
   "execution_count": 13,
   "metadata": {},
   "outputs": [
    {
     "name": "stdout",
     "output_type": "stream",
     "text": [
      "1\n",
      "2\n"
     ]
    }
   ],
   "source": [
    "itr = iter(z)\n",
    "print(next(itr))\n",
    "print(itr.__next__())"
   ]
  },
  {
   "cell_type": "markdown",
   "metadata": {},
   "source": [
    "**Zerrendak ez dira (bere buruen) iteradoreak**"
   ]
  },
  {
   "cell_type": "code",
   "execution_count": 16,
   "metadata": {},
   "outputs": [],
   "source": [
    "#print(next(z))\n",
    "#print(z.__next__())"
   ]
  },
  {
   "cell_type": "markdown",
   "metadata": {},
   "source": [
    "**Generadoreak iteragarriak dira**"
   ]
  },
  {
   "cell_type": "code",
   "execution_count": 17,
   "metadata": {},
   "outputs": [
    {
     "name": "stdout",
     "output_type": "stream",
     "text": [
      "<generator object <genexpr> at 0x7fbad0023820>\n",
      "<generator object <genexpr> at 0x7fbad0023820>\n"
     ]
    }
   ],
   "source": [
    "g = (i for i in range(10))\n",
    "print(iter(g))\n",
    "print(g.__iter__())"
   ]
  },
  {
   "cell_type": "code",
   "execution_count": 18,
   "metadata": {},
   "outputs": [
    {
     "name": "stdout",
     "output_type": "stream",
     "text": [
      "0\n",
      "1\n"
     ]
    }
   ],
   "source": [
    "itr = iter(g)\n",
    "print(next(itr))\n",
    "print(itr.__next__())"
   ]
  },
  {
   "cell_type": "markdown",
   "metadata": {},
   "source": [
    "**Generadoreak bere buruen iteradoreak dira**"
   ]
  },
  {
   "cell_type": "code",
   "execution_count": 19,
   "metadata": {},
   "outputs": [
    {
     "name": "stdout",
     "output_type": "stream",
     "text": [
      "2\n",
      "3\n"
     ]
    }
   ],
   "source": [
    "print(next(g))\n",
    "print(g.__next__())"
   ]
  }
 ],
 "metadata": {
  "kernelspec": {
   "display_name": "Python 3",
   "language": "python",
   "name": "python3"
  },
  "language_info": {
   "codemirror_mode": {
    "name": "ipython",
    "version": 3
   },
   "file_extension": ".py",
   "mimetype": "text/x-python",
   "name": "python",
   "nbconvert_exporter": "python",
   "pygments_lexer": "ipython3",
   "version": "3.7.6"
  }
 },
 "nbformat": 4,
 "nbformat_minor": 4
}
