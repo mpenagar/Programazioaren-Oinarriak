{
 "cells": [
  {
   "cell_type": "markdown",
   "metadata": {},
   "source": [
    "# 3. Laborategia - Egitura\n",
    "\n",
    "### https://github.com/mpenagar/Programazioaren-Oinarriak/tree/master/Laborategia"
   ]
  },
  {
   "cell_type": "code",
   "execution_count": null,
   "metadata": {},
   "outputs": [],
   "source": [
    "from IPython.display import display, HTML\n",
    "display(HTML(\"<style>.container { width:100% !important; }</style>\"))"
   ]
  },
  {
   "cell_type": "markdown",
   "metadata": {},
   "source": [
    "## 1 - Hiztegi klasea definitzen"
   ]
  },
  {
   "cell_type": "code",
   "execution_count": null,
   "metadata": {},
   "outputs": [],
   "source": [
    "class hiztegia(object):\n",
    "    \n",
    "    def __init__(self,it=(),init_size=10,maxlf=4):    \n",
    "        self.T = [[] for _ in range(init_size)]\n",
    "        self.n = 0\n",
    "        self.maxlf = maxlf\n",
    "        # oraingoz it argumentua ahaztu...\n",
    "\n",
    "    def clear(self):\n",
    "        pass\n",
    "\n",
    "    def keys(self):\n",
    "        pass\n",
    "    \n",
    "    def values(self):\n",
    "        pass\n",
    "    \n",
    "    def items(self):\n",
    "        pass\n",
    "    \n",
    "    def __iter__(self):\n",
    "        pass\n",
    "    \n",
    "    def __len__(self):\n",
    "        pass\n",
    "    \n",
    "    def __str__(self):\n",
    "        pass\n",
    "\n",
    "    def __repr__(self):\n",
    "        pass\n",
    "    \n",
    "    def get(self,key,default):\n",
    "        pass\n",
    "    \n",
    "    def __getitem__(self,key):\n",
    "        pass\n",
    "    \n",
    "    # hau sortu lehenengo, karga faktorea konprobatu gabe bada ere\n",
    "    def __setitem__(self,key,value):\n",
    "        print(f'self[{repr(key)}] = {repr(value)} saiatu da egiten')\n",
    "        pass\n",
    "    \n",
    "    def setdefault(self,key,value):\n",
    "        pass\n",
    "    \n",
    "    def __delitem__(self,key):\n",
    "        pass\n",
    "    \n",
    "    def __contains__(self,key):\n",
    "        pass\n",
    "    \n",
    "    def popitem(self):\n",
    "        pass\n",
    "    \n",
    "    def pop(self,key,default):\n",
    "        pass\n",
    "    \n",
    "    def __eq__(self,other):\n",
    "        pass\n",
    "    \n",
    "    def __ne__(self,other):\n",
    "        pass\n",
    "    \n",
    "    def copy(self):\n",
    "        pass\n",
    "    \n",
    "    def update(self,other):\n",
    "        pass\n",
    "    \n",
    "        \n",
    "h = hiztegia()\n",
    "print(h.T)\n",
    "h[\"kaixo\"] = 13\n",
    "h[\"agur\"] = 34\n",
    "h[\"aaaaaa\"] = 1\n",
    "h[\"kaixo\"] = -1\n",
    "print(h.T)"
   ]
  },
  {
   "cell_type": "code",
   "execution_count": null,
   "metadata": {},
   "outputs": [],
   "source": []
  }
 ],
 "metadata": {
  "kernelspec": {
   "display_name": "Python 3",
   "language": "python",
   "name": "python3"
  },
  "language_info": {
   "codemirror_mode": {
    "name": "ipython",
    "version": 3
   },
   "file_extension": ".py",
   "mimetype": "text/x-python",
   "name": "python",
   "nbconvert_exporter": "python",
   "pygments_lexer": "ipython3",
   "version": "3.7.6"
  }
 },
 "nbformat": 4,
 "nbformat_minor": 4
}
