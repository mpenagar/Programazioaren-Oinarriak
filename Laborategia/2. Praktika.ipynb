{
 "cells": [
  {
   "cell_type": "markdown",
   "metadata": {},
   "source": [
    "## Burbuilaren ordenazioa"
   ]
  },
  {
   "cell_type": "code",
   "execution_count": 6,
   "metadata": {},
   "outputs": [],
   "source": [
    "def OndozOndokoak(z):\n",
    "    \"\"\"\n",
    "    Zerrenda bat zeharkatzen du eta ondoz-ondoko\n",
    "    elementu desordenatuak elkarraldatzen ditu\n",
    "    \n",
    "    Emaitza: True, elkarraldaketarik egin badu\n",
    "    \"\"\"\n",
    "    elkarraldaketak = False\n",
    "    for i in range(len(z)-1):\n",
    "        if z[i] > z[i+1]:\n",
    "            z[i],z[i+1] = z[i+1],z[i]\n",
    "            elkarraldaketak = True\n",
    "    return elkarraldaketak\n",
    "    \n",
    "def BurbuilaSort(z):\n",
    "    while OndozOndokoak(z):\n",
    "        pass"
   ]
  },
  {
   "cell_type": "code",
   "execution_count": 19,
   "metadata": {},
   "outputs": [
    {
     "name": "stdout",
     "output_type": "stream",
     "text": [
      "[927, 775, 244, 816, 775, 947, 415, 872, 222, 731, 1, 983, 781, 157, 845, 803, 259, 569, 935, 230, 133, 402, 716, 325, 411, 738, 552, 165, 112, 892, 852, 302, 581, 486, 198, 544, 335, 3, 972, 922, 219, 958, 575, 686, 98, 425, 145, 153, 914, 878, 594, 198, 150, 298, 750, 233, 410, 410, 309, 158, 185, 850, 897, 901, 828, 154, 874, 529, 526, 8, 430, 485, 536, 752, 478, 75, 633, 233, 148, 199, 49, 359, 525, 661, 486, 624, 534, 163, 354, 819]\n",
      "[1, 3, 8, 49, 75, 98, 112, 133, 145, 148, 150, 153, 154, 157, 158, 163, 165, 185, 198, 198, 199, 219, 222, 230, 233, 233, 244, 259, 298, 302, 309, 325, 335, 354, 359, 402, 410, 410, 411, 415, 425, 430, 478, 485, 486, 486, 525, 526, 529, 534, 536, 544, 552, 569, 575, 581, 594, 624, 633, 661, 686, 716, 731, 738, 750, 752, 775, 775, 781, 803, 816, 819, 828, 845, 850, 852, 872, 874, 878, 892, 897, 901, 914, 922, 927, 935, 947, 958, 972, 983]\n"
     ]
    }
   ],
   "source": [
    "from random import randint\n",
    "z = [randint(1,1000) for _ in range(90)]\n",
    "print(z)\n",
    "BurbuilaSort(z)\n",
    "print(z)"
   ]
  },
  {
   "cell_type": "markdown",
   "metadata": {},
   "source": [
    "## Hautaketa Zuzenaren ordenazioa"
   ]
  },
  {
   "cell_type": "code",
   "execution_count": 16,
   "metadata": {},
   "outputs": [],
   "source": [
    "def min_index(z):\n",
    "    \"\"\"\n",
    "    Zerrenda batetako elementu minimoaren posizioa bueltatzen du\n",
    "    \"\"\"\n",
    "    return z.index(min(z))\n",
    "    \n",
    "def HautaketaSort(z):\n",
    "    for i in range(len(z)-1):\n",
    "        j = i + min_index(z[i:])\n",
    "        if i != j :\n",
    "            z[i],z[j] = z[j],z[i]\n",
    "    \n",
    "def min_index(z,i):\n",
    "    \"\"\"\n",
    "    Zerrenda batetan, indize batetik aurrerako\n",
    "    elementu minimoaren posizioa bueltatzen du\n",
    "    \"\"\"\n",
    "    # kontuz...\n",
    "    #return i + z[i:].index(min(z[i:]))\n",
    "    i_min = i\n",
    "    for i in range(i+1,len(z)):\n",
    "        if z[i] < z[i_min]:\n",
    "            i_min = i\n",
    "    return i_min\n",
    "\n",
    "def HautaketaSort(z):\n",
    "    for i in range(len(z)-1):\n",
    "        j = min_index(z,i)\n",
    "        if i != j :\n",
    "            z[i],z[j] = z[j],z[i]"
   ]
  },
  {
   "cell_type": "code",
   "execution_count": 18,
   "metadata": {},
   "outputs": [
    {
     "name": "stdout",
     "output_type": "stream",
     "text": [
      "[92, 774, 314, 963, 632, 430, 921, 945, 539, 623, 597, 650, 294, 312, 218, 118, 351, 482, 888, 121, 695, 226, 634, 146, 636, 76, 471, 565, 812, 778, 29, 505, 495, 320, 86, 755, 777, 895, 953, 129, 526, 670, 476, 500, 873, 643, 182, 789, 927, 112, 750, 451, 50, 515, 785, 324, 651, 635, 242, 304, 179, 840, 59, 624, 869, 939, 719, 360, 753, 647, 520, 415, 144, 686, 296, 906, 349, 439, 104, 636, 812, 998, 430, 755, 180, 172, 841, 990, 609, 375]\n",
      "[29, 50, 59, 76, 86, 92, 104, 112, 118, 121, 129, 144, 146, 172, 179, 180, 182, 218, 226, 242, 294, 296, 304, 312, 314, 320, 324, 349, 351, 360, 375, 415, 430, 430, 439, 451, 471, 476, 482, 495, 500, 505, 515, 520, 526, 539, 565, 597, 609, 623, 624, 632, 634, 635, 636, 636, 643, 647, 650, 651, 670, 686, 695, 719, 750, 753, 755, 755, 774, 777, 778, 785, 789, 812, 812, 840, 841, 869, 873, 888, 895, 906, 921, 927, 939, 945, 953, 963, 990, 998]\n"
     ]
    }
   ],
   "source": [
    "z = [randint(1,1000) for _ in range(90)]\n",
    "print(z)\n",
    "HautaketaSort(z)\n",
    "print(z)"
   ]
  },
  {
   "cell_type": "markdown",
   "metadata": {},
   "source": [
    "## Txertaketaren ordenazioa"
   ]
  },
  {
   "cell_type": "code",
   "execution_count": null,
   "metadata": {},
   "outputs": [],
   "source": [
    "def Txertatu(z,i):\n",
    "    \"\"\"\n",
    "    Zerrenda batetako i posizioan dagoen elementua\n",
    "    bere ezkerrera txertatzen du\n",
    "    \"\"\"\n",
    "\n",
    "def TxertaketaSort(z):\n",
    "    for i in range(1,len(z)):\n",
    "        Txertatu(z,i)"
   ]
  },
  {
   "cell_type": "markdown",
   "metadata": {},
   "source": [
    "## Nahasketa ordenazioa"
   ]
  },
  {
   "cell_type": "code",
   "execution_count": null,
   "metadata": {},
   "outputs": [],
   "source": [
    "def nahastu(z1,z2,z):\n",
    "    \"\"\"\n",
    "    Bi zerrenda ordenatutako elementuak hirugarren zerrenda batean\n",
    "    uzten ditu. Hirugarren zerrenda ordenatua geldituko da. Hirugarren\n",
    "    zerrendaren tamaina aurreko bien tamainen batura da.\n",
    "    \"\"\"\n",
    "def zatitu(z):\n",
    "    \"\"\"\n",
    "    Zerrenda bat bi zatitan egiten du, bi zerrenda bueltatuz\n",
    "    \"\"\"\n",
    "def NahastuSort(z):\n",
    "    if len(z)>1 :\n",
    "        a,b = zatitu(z)\n",
    "        NahastuSort(a)\n",
    "        NahastuSort(b)\n",
    "        nahastu(a,b,z)\n",
    "        \n",
    "    "
   ]
  },
  {
   "cell_type": "markdown",
   "metadata": {},
   "source": [
    "## Bilaketa dikotomikoa"
   ]
  },
  {
   "cell_type": "code",
   "execution_count": 11,
   "metadata": {},
   "outputs": [],
   "source": [
    "def bilatu(z,x):\n",
    "    \"\"\"\n",
    "    z zerrenda ordenatu batetan\n",
    "    x elementu baten posizioa topatu\n",
    "    \"\"\"\n",
    "    pass\n",
    "\n",
    "def bilatu(z,x):\n",
    "    \"\"\"\n",
    "    z zerrenda ordenatu batetan\n",
    "    x elementu baten posizioa topatu\n",
    "    errekurtsioa erabiliz\n",
    "    \"\"\"\n",
    "    return bilatu_aux(z,x,0,len(z)-1)\n",
    "\n",
    "def bilatu_aux(z,x,i,j):\n",
    "    \"\"\"\n",
    "    z zerrenda ordenatu batetan\n",
    "    x elementu baten posizioa topatu\n",
    "    i eta j indizeen artean\n",
    "    \"\"\"\n",
    "    print(f'bilatu_aux(z,x,{i},{j})')\n",
    "    if i > j :\n",
    "        return None\n",
    "    else :\n",
    "        e = (i+j)//2\n",
    "        if z[e] == x :\n",
    "            return e\n",
    "        elif x > z[e] :\n",
    "            # eskuman\n",
    "            return bilatu_aux(z,x,e+1,j)\n",
    "        else :\n",
    "            # ezkerrean\n",
    "            return bilatu_aux(z,x,i,e-1)"
   ]
  },
  {
   "cell_type": "code",
   "execution_count": 13,
   "metadata": {},
   "outputs": [
    {
     "name": "stdout",
     "output_type": "stream",
     "text": [
      "bilatu_aux(z,x,0,99)\n",
      "bilatu_aux(z,x,50,99)\n",
      "bilatu_aux(z,x,50,73)\n",
      "bilatu_aux(z,x,62,73)\n",
      "bilatu_aux(z,x,68,73)\n",
      "bilatu_aux(z,x,68,69)\n"
     ]
    },
    {
     "data": {
      "text/plain": [
       "True"
      ]
     },
     "execution_count": 13,
     "metadata": {},
     "output_type": "execute_result"
    }
   ],
   "source": [
    "bilatu(list(range(100)),68) == 68"
   ]
  },
  {
   "cell_type": "code",
   "execution_count": 14,
   "metadata": {},
   "outputs": [
    {
     "name": "stdout",
     "output_type": "stream",
     "text": [
      "bilatu_aux(z,x,0,99)\n",
      "bilatu_aux(z,x,50,99)\n",
      "bilatu_aux(z,x,50,73)\n",
      "bilatu_aux(z,x,62,73)\n",
      "bilatu_aux(z,x,68,73)\n",
      "bilatu_aux(z,x,68,69)\n",
      "bilatu_aux(z,x,68,67)\n"
     ]
    },
    {
     "data": {
      "text/plain": [
       "True"
      ]
     },
     "execution_count": 14,
     "metadata": {},
     "output_type": "execute_result"
    }
   ],
   "source": [
    "bilatu(list(range(100)),67.5) == None"
   ]
  }
 ],
 "metadata": {
  "kernelspec": {
   "display_name": "Python 3",
   "language": "python",
   "name": "python3"
  },
  "language_info": {
   "codemirror_mode": {
    "name": "ipython",
    "version": 3
   },
   "file_extension": ".py",
   "mimetype": "text/x-python",
   "name": "python",
   "nbconvert_exporter": "python",
   "pygments_lexer": "ipython3",
   "version": "3.7.6"
  }
 },
 "nbformat": 4,
 "nbformat_minor": 4
}
