{
 "cells": [
  {
   "cell_type": "markdown",
   "metadata": {},
   "source": [
    "### 2021 Maiatza - 3"
   ]
  },
  {
   "cell_type": "code",
   "execution_count": 1,
   "metadata": {},
   "outputs": [],
   "source": [
    "def zkh(a,b):\n",
    "    i = min(a,b)\n",
    "    while a%i!=0 or b%i!=0 :\n",
    "        i -= 1\n",
    "    return i\n",
    "\n",
    "class zatiki(object):\n",
    "    \n",
    "    def __init__(self,a,b):\n",
    "        i = zkh(a,b)\n",
    "        self.a = a//i\n",
    "        self.b = b//i\n",
    "        \n"
   ]
  },
  {
   "cell_type": "markdown",
   "metadata": {},
   "source": [
    "### 2022 Uztaila - 2\n",
    "\n",
    "```python\n",
    "def ebakidura1(v,w):\n",
    "    l = list()\n",
    "    for x in v:\n",
    "        if x in w and x not in l: # x in w --> n x n\n",
    "            l.append(x)\n",
    "    return l\n",
    "```\n",
    "\n",
    "* kasu txarra: v-ko elementurik ez w-n $\\to$  $O(n^2)$\n",
    "\n",
    "```python\n",
    "def ebakidura2(v,w):\n",
    "    l = list()\n",
    "    w_set = set()\n",
    "    for x in v:\n",
    "        if x in w_set and x not in l: # x not in l --> 1+2+3+4+5....\n",
    "            l.append(x)\n",
    "    return l\n",
    "```\n",
    "* kasu txarra: v-n eta w-n elementu berdinak baina errepikapenik gabe $\\to$  $O(n^2)$\n",
    "\n",
    "```python\n",
    "def ebakidura3(v,w):\n",
    "    s = set()\n",
    "    w_set = set()\n",
    "    for x in v:\n",
    "        if x in w_set:\n",
    "            s.add(x)\n",
    "    return l\n",
    "```\n",
    "* $\\Theta(n)$\n",
    "\n",
    "```python\n",
    "def ebakidura4(v,w):\n",
    "    v = sorted(v)\n",
    "    w = sorted(w)\n",
    "    z = []\n",
    "    i,j=0,0\n",
    "    while i<len(v) and j<len(w) :\n",
    "        if v[i] < w[j] :\n",
    "            i += 1\n",
    "        elif v[i] > w[j] :\n",
    "            j += 1\n",
    "        else :\n",
    "            if not z or z[-1]!=v[i]:\n",
    "                z.append(v[i])\n",
    "            i += 1\n",
    "            j += 1\n",
    "    return z  \n",
    "```\n",
    "\n"
   ]
  }
 ],
 "metadata": {
  "kernelspec": {
   "display_name": "Python 3",
   "language": "python",
   "name": "python3"
  },
  "language_info": {
   "codemirror_mode": {
    "name": "ipython",
    "version": 3
   },
   "file_extension": ".py",
   "mimetype": "text/x-python",
   "name": "python",
   "nbconvert_exporter": "python",
   "pygments_lexer": "ipython3",
   "version": "3.7.6"
  }
 },
 "nbformat": 4,
 "nbformat_minor": 4
}
