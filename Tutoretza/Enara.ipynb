{
 "cells": [
  {
   "cell_type": "code",
   "execution_count": 10,
   "metadata": {},
   "outputs": [
    {
     "name": "stdout",
     "output_type": "stream",
     "text": [
      "kaixo!! kaixo!!\n",
      "kaixo!! kaixo!!\n",
      "14 14 14\n"
     ]
    }
   ],
   "source": [
    "class Pepe():\n",
    "    \n",
    "    def __str__(self):\n",
    "        return \"kaixo!!\"\n",
    "\n",
    "\n",
    "o = Pepe()\n",
    "print(str(o),o)\n",
    "o2 = Pepe()\n",
    "print(str(o2),o)\n",
    "\n",
    "o = 14\n",
    "print(o,str(o),o.__str__())"
   ]
  },
  {
   "cell_type": "code",
   "execution_count": 12,
   "metadata": {},
   "outputs": [
    {
     "data": {
      "text/plain": [
       "7"
      ]
     },
     "execution_count": 12,
     "metadata": {},
     "output_type": "execute_result"
    }
   ],
   "source": [
    "a = 4\n",
    "eval('a+3')"
   ]
  }
 ],
 "metadata": {
  "kernelspec": {
   "display_name": "Python 3",
   "language": "python",
   "name": "python3"
  },
  "language_info": {
   "codemirror_mode": {
    "name": "ipython",
    "version": 3
   },
   "file_extension": ".py",
   "mimetype": "text/x-python",
   "name": "python",
   "nbconvert_exporter": "python",
   "pygments_lexer": "ipython3",
   "version": "3.7.6"
  }
 },
 "nbformat": 4,
 "nbformat_minor": 4
}
