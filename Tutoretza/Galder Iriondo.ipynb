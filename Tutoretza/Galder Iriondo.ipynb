{
 "cells": [
  {
   "cell_type": "markdown",
   "metadata": {},
   "source": [
    "```python\n",
    "def getAverageMinDistance (L):\n",
    "    n = len(L)                     # 1\n",
    "    c = {}                         # 1\n",
    "    for w in L:                    # n x 1\n",
    "        c[w] = c.get(w ,0) + 1     # n x 1\n",
    "    dist = 0                       # 1\n",
    "    for w in L:                                           # n x 1\n",
    "        if c[w] == 1:                                     # n x 1  --> egia: [0,n] aldiz\n",
    "            distMin = None                                # (kasu txarra) n x 1\n",
    "            for x in L:                                   #               n x n\n",
    "                if w != x:                                #               |n x n x 1 (barneko guztia)\n",
    "                    d = distantzia (w,x)                  #               |\n",
    "                    if distMin == None or d < distMin :   #               |\n",
    "                        distMin = d                       #               |\n",
    "            dist += distMin                               #               n x 1\n",
    "    return dist /n                                        # 1\n",
    "```\n",
    "\n",
    "* Kasu ona:  c[w] != 1 beti (hitz guztiak behin baino gehiagotan) $\\Omega(n)$\n",
    "* Kasu txarra:  c[w] == 1 beti (hitz guztiak behin ) $O(n^2)$\n"
   ]
  }
 ],
 "metadata": {
  "kernelspec": {
   "display_name": "Python 3",
   "language": "python",
   "name": "python3"
  },
  "language_info": {
   "codemirror_mode": {
    "name": "ipython",
    "version": 3
   },
   "file_extension": ".py",
   "mimetype": "text/x-python",
   "name": "python",
   "nbconvert_exporter": "python",
   "pygments_lexer": "ipython3",
   "version": "3.7.6"
  }
 },
 "nbformat": 4,
 "nbformat_minor": 4
}
