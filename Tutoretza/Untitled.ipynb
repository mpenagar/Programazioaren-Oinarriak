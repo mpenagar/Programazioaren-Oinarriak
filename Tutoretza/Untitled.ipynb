{
 "cells": [
  {
   "cell_type": "code",
   "execution_count": 14,
   "metadata": {},
   "outputs": [
    {
     "name": "stdout",
     "output_type": "stream",
     "text": [
      "{'a','e','i','o','u'} 5\n",
      "True False\n",
      "a e i o u\n"
     ]
    }
   ],
   "source": [
    "class MySet(object):\n",
    "    \n",
    "    def __init__(self,it=()):\n",
    "        self.z = []\n",
    "        self.addall(it)\n",
    "            \n",
    "    def add(self,x):\n",
    "        if x not in self.z :\n",
    "            self.z.append(x)\n",
    "        \n",
    "    def addall(self,it):\n",
    "        for x in it:\n",
    "            self.add(x)\n",
    "            \n",
    "    def __str__(self):\n",
    "        #return '{' + ','.join(map(repr,self.z)) + '}'\n",
    "        return '{' + ','.join(repr(x) for x in self.z) + '}'\n",
    "    \n",
    "    def __len__(self):\n",
    "        return len(self.z)\n",
    "    \n",
    "    def __contains__(self,x):\n",
    "        return x in self.z\n",
    "    \n",
    "    def __iter__(self):\n",
    "        return iter(self.z)\n",
    "    \n",
    "    def remove(self,x):\n",
    "        self.z.remove(x)\n",
    "                \n",
    "    \n",
    "\n",
    "s = MySet(\"aaaaeeeeeeeeeeeiiiiiiiooooouuaaaaeaeaeaea\")\n",
    "print(s,len(s))\n",
    "print(\"a\" in s, 2 in s)\n",
    "print(*s)\n"
   ]
  },
  {
   "cell_type": "code",
   "execution_count": 15,
   "metadata": {},
   "outputs": [
    {
     "ename": "ValueError",
     "evalue": "list.remove(x): x not in list",
     "output_type": "error",
     "traceback": [
      "\u001b[0;31m\u001b[0m",
      "\u001b[0;31mValueError\u001b[0mTraceback (most recent call last)",
      "\u001b[0;32m<ipython-input-15-181ce8c0fac7>\u001b[0m in \u001b[0;36m<module>\u001b[0;34m\u001b[0m\n\u001b[0;32m----> 1\u001b[0;31m \u001b[0;34m[\u001b[0m\u001b[0;36m1\u001b[0m\u001b[0;34m,\u001b[0m\u001b[0;36m2\u001b[0m\u001b[0;34m,\u001b[0m\u001b[0;36m3\u001b[0m\u001b[0;34m]\u001b[0m\u001b[0;34m.\u001b[0m\u001b[0mremove\u001b[0m\u001b[0;34m(\u001b[0m\u001b[0;36m4\u001b[0m\u001b[0;34m)\u001b[0m\u001b[0;34m\u001b[0m\u001b[0;34m\u001b[0m\u001b[0m\n\u001b[0m",
      "\u001b[0;31mValueError\u001b[0m: list.remove(x): x not in list"
     ]
    }
   ],
   "source": [
    "[1,2,3].remove(4)"
   ]
  }
 ],
 "metadata": {
  "kernelspec": {
   "display_name": "Python 3",
   "language": "python",
   "name": "python3"
  },
  "language_info": {
   "codemirror_mode": {
    "name": "ipython",
    "version": 3
   },
   "file_extension": ".py",
   "mimetype": "text/x-python",
   "name": "python",
   "nbconvert_exporter": "python",
   "pygments_lexer": "ipython3",
   "version": "3.7.6"
  }
 },
 "nbformat": 4,
 "nbformat_minor": 4
}
