{
 "cells": [
  {
   "cell_type": "code",
   "execution_count": 8,
   "metadata": {},
   "outputs": [
    {
     "data": {
      "text/plain": [
       "{('gaurko', 'eguna', 'oso'): {'eta'},\n",
       " ('eguna', 'oso', 'luzea'): {'bikaina'},\n",
       " ('oso', 'luzea', 'eta'): {'izan'},\n",
       " ('luzea', 'eta', 'bikaina'): {'da'},\n",
       " ('eta', 'bikaina', 'izan'): {'eta'},\n",
       " ('bikaina', 'izan', 'da'): {'nekatua'},\n",
       " ('izan', 'da', 'eta'): {'nabil'},\n",
       " ('gaurko', 'eguna'): {'oso'},\n",
       " ('eguna', 'oso'): {'luzea'},\n",
       " ('oso', 'luzea'): {'eta'},\n",
       " ('luzea', 'eta'): {'bikaina'},\n",
       " ('eta', 'bikaina'): {'izan'},\n",
       " ('bikaina', 'izan'): {'da'},\n",
       " ('izan', 'da'): {'eta'},\n",
       " ('da', 'eta'): {'nekatua'},\n",
       " ('eta', 'nekatua'): {'nabil'},\n",
       " ('gaurko',): {'eguna'},\n",
       " ('eguna',): {'oso'},\n",
       " ('oso',): {'luzea'},\n",
       " ('luzea',): {'eta'},\n",
       " ('eta',): {'bikaina', 'nekatua'},\n",
       " ('bikaina',): {'izan'},\n",
       " ('izan',): {'da'},\n",
       " ('da',): {'eta'},\n",
       " ('nekatua',): {'nabil'}}"
      ]
     },
     "execution_count": 8,
     "metadata": {},
     "output_type": "execute_result"
    }
   ],
   "source": [
    "h = {}\n",
    "ilara = \"gaurko eguna oso luzea eta bikaina izan da eta nekatua nabil\"\n",
    "z = ilara.split()\n",
    "for a,b,c,d in zip(z,z[1:],z[2:],z[4:]):\n",
    "    g = (a,b,c)\n",
    "    if g in h :\n",
    "        h[g].add(d)\n",
    "    else :\n",
    "        h[g] = {d}\n",
    "for a,b,c in zip(z,z[1:],z[2:]):\n",
    "    g = (a,b)\n",
    "    if g in h :\n",
    "        h[g].add(c)\n",
    "    else :\n",
    "        h[g] = {c}\n",
    "for a,b in zip(z,z[1:]):\n",
    "    g = (a,)\n",
    "    if g in h :\n",
    "        h[g].add(b)\n",
    "    else :\n",
    "        h[g] = {b}\n",
    "h"
   ]
  },
  {
   "cell_type": "code",
   "execution_count": 10,
   "metadata": {},
   "outputs": [
    {
     "data": {
      "text/plain": [
       "{('gaurko', 'eguna', 'oso'): {'eta'},\n",
       " ('eguna', 'oso', 'luzea'): {'bikaina'},\n",
       " ('oso', 'luzea', 'eta'): {'izan'},\n",
       " ('luzea', 'eta', 'bikaina'): {'da'},\n",
       " ('eta', 'bikaina', 'izan'): {'eta'},\n",
       " ('bikaina', 'izan', 'da'): {'nekatua'},\n",
       " ('izan', 'da', 'eta'): {'nabil'},\n",
       " ('gaurko', 'eguna'): {'oso'},\n",
       " ('eguna', 'oso'): {'luzea'},\n",
       " ('oso', 'luzea'): {'eta'},\n",
       " ('luzea', 'eta'): {'bikaina'},\n",
       " ('eta', 'bikaina'): {'izan'},\n",
       " ('bikaina', 'izan'): {'da'},\n",
       " ('izan', 'da'): {'eta'},\n",
       " ('da', 'eta'): {'nekatua'},\n",
       " ('eta', 'nekatua'): {'nabil'},\n",
       " ('gaurko',): {'eguna'},\n",
       " ('eguna',): {'oso'},\n",
       " ('oso',): {'luzea'},\n",
       " ('luzea',): {'eta'},\n",
       " ('eta',): {'bikaina', 'nekatua'},\n",
       " ('bikaina',): {'izan'},\n",
       " ('izan',): {'da'},\n",
       " ('da',): {'eta'},\n",
       " ('nekatua',): {'nabil'}}"
      ]
     },
     "execution_count": 10,
     "metadata": {},
     "output_type": "execute_result"
    }
   ],
   "source": [
    "h = {}\n",
    "ilara = \"gaurko eguna oso luzea eta bikaina izan da eta nekatua nabil\"\n",
    "z = ilara.split()\n",
    "for a,b,c,d in zip(z,z[1:],z[2:],z[4:]):\n",
    "    g = (a,b,c)\n",
    "    h.setdefault(g,set()).add(d)\n",
    "for a,b,c in zip(z,z[1:],z[2:]):\n",
    "    g = (a,b)\n",
    "    h.setdefault(g,set()).add(c)\n",
    "for a,b in zip(z,z[1:]):\n",
    "    g = (a,)\n",
    "    h.setdefault(g,set()).add(b)\n",
    "h"
   ]
  },
  {
   "cell_type": "code",
   "execution_count": 9,
   "metadata": {},
   "outputs": [
    {
     "data": {
      "text/plain": [
       "{('gaurko', 'eguna', 'oso'): {'luzea'},\n",
       " ('eguna', 'oso', 'luzea'): {'eta'},\n",
       " ('oso', 'luzea', 'eta'): {'bikaina'},\n",
       " ('luzea', 'eta', 'bikaina'): {'izan'},\n",
       " ('eta', 'bikaina', 'izan'): {'da'},\n",
       " ('bikaina', 'izan', 'da'): {'eta'},\n",
       " ('izan', 'da', 'eta'): {'nekatua'},\n",
       " ('da', 'eta', 'nekatua'): {'nabil'},\n",
       " ('gaurko', 'eguna'): {'oso'},\n",
       " ('eguna', 'oso'): {'luzea'},\n",
       " ('oso', 'luzea'): {'eta'},\n",
       " ('luzea', 'eta'): {'bikaina'},\n",
       " ('eta', 'bikaina'): {'izan'},\n",
       " ('bikaina', 'izan'): {'da'},\n",
       " ('izan', 'da'): {'eta'},\n",
       " ('da', 'eta'): {'nekatua'},\n",
       " ('eta', 'nekatua'): {'nabil'},\n",
       " ('gaurko',): {'eguna'},\n",
       " ('eguna',): {'oso'},\n",
       " ('oso',): {'luzea'},\n",
       " ('luzea',): {'eta'},\n",
       " ('eta',): {'bikaina', 'nekatua'},\n",
       " ('bikaina',): {'izan'},\n",
       " ('izan',): {'da'},\n",
       " ('da',): {'eta'},\n",
       " ('nekatua',): {'nabil'}}"
      ]
     },
     "execution_count": 9,
     "metadata": {},
     "output_type": "execute_result"
    }
   ],
   "source": [
    "h = {}\n",
    "ilara = \"gaurko eguna oso luzea eta bikaina izan da eta nekatua nabil\"\n",
    "z = ilara.split()\n",
    "for i in range(3,len(z)):\n",
    "    g = (z[i-3],z[i-2],z[i-1])\n",
    "    if g in h :\n",
    "        h[g].add(z[i])\n",
    "    else :\n",
    "        h[g] = {z[i]}\n",
    "for i in range(2,len(z)):\n",
    "    g = (z[i-2],z[i-1])\n",
    "    if g in h :\n",
    "        h[g].add(z[i])\n",
    "    else :\n",
    "        h[g] = {z[i]}\n",
    "for i in range(1,len(z)):\n",
    "    g = (z[i-1],)\n",
    "    if g in h :\n",
    "        h[g].add(z[i])\n",
    "    else :\n",
    "        h[g] = {z[i]}\n",
    "h"
   ]
  },
  {
   "cell_type": "code",
   "execution_count": null,
   "metadata": {},
   "outputs": [],
   "source": []
  }
 ],
 "metadata": {
  "kernelspec": {
   "display_name": "Python 3",
   "language": "python",
   "name": "python3"
  },
  "language_info": {
   "codemirror_mode": {
    "name": "ipython",
    "version": 3
   },
   "file_extension": ".py",
   "mimetype": "text/x-python",
   "name": "python",
   "nbconvert_exporter": "python",
   "pygments_lexer": "ipython3",
   "version": "3.7.6"
  }
 },
 "nbformat": 4,
 "nbformat_minor": 4
}
