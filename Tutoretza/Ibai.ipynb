{
 "cells": [
  {
   "cell_type": "markdown",
   "metadata": {},
   "source": [
    "problemaren tamaina: $n=len(z)$\n",
    "\n",
    "```python\n",
    "def find_range_in_sorted_list(z, x):\n",
    "    n = len(z)                      # 1 p\n",
    "    i = 0                           # 1 p\n",
    "    j = n                           # 1 p\n",
    "    while i < j:                    # x [1,logn]\n",
    "        m = (i+j)//2                # [1,logn] x 1 p\n",
    "        if z[m] > x:                # | [1,logn] x 1 p\n",
    "            j = m                   # |\n",
    "        elif z[m] < x:              # |\n",
    "            i = m+1                 # |\n",
    "        else:                       # |\n",
    "            break                   # |\n",
    "    if i >= j:                      # 1\n",
    "        return None\n",
    "    else :                          # x [0,1] !!!\n",
    "        i = m-1                     # 1 \n",
    "        while i >= 0 and z[i] == x: # | [1,m] x 1p\n",
    "            i-= 1                   # |\n",
    "        j = m                       # 1\n",
    "        while j < n and z[j] == x:  # | [1,n-m] x 1p\n",
    "            j += 1                  # |\n",
    "        return (i+1, j)             # 1\n",
    "```\n",
    "\n",
    "* Kasu ona: elementua erdian errepikapenik gabe $\\Omega(1)$\n",
    "* Kasu txarra: elementu guztiak x $O(n)$\n"
   ]
  },
  {
   "cell_type": "code",
   "execution_count": null,
   "metadata": {},
   "outputs": [],
   "source": [
    "def find_range_in_sorted_list(z, x):\n",
    "    n = len(z) \n",
    "    i = 0 \n",
    "    j = n \n",
    "    while i < j: \n",
    "        m = (i+j)//2 \n",
    "        if z[m] > x: \n",
    "            j = m\n",
    "        elif z[m] < x: \n",
    "            i = m+1 \n",
    "        else: \n",
    "            break \n",
    "    if i >= j: \n",
    "        return None \n",
    "    i = m-1 \n",
    "    while i >= 0 and z[i] == x: \n",
    "        i-= 1 \n",
    "    j = m \n",
    "    while j < n and z[j] == x: \n",
    "        j += 1 \n",
    "    return (i+1, j)"
   ]
  }
 ],
 "metadata": {
  "kernelspec": {
   "display_name": "Python 3",
   "language": "python",
   "name": "python3"
  },
  "language_info": {
   "codemirror_mode": {
    "name": "ipython",
    "version": 3
   },
   "file_extension": ".py",
   "mimetype": "text/x-python",
   "name": "python",
   "nbconvert_exporter": "python",
   "pygments_lexer": "ipython3",
   "version": "3.7.6"
  }
 },
 "nbformat": 4,
 "nbformat_minor": 4
}
