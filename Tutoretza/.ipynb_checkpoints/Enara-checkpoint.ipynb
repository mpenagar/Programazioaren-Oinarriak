{
 "cells": [
  {
   "cell_type": "code",
   "execution_count": 22,
   "metadata": {},
   "outputs": [
    {
     "name": "stdout",
     "output_type": "stream",
     "text": [
      "<1,2> <1,2>\n",
      "<3,4> <3,4>\n",
      "14 14 14\n",
      "<1,2> Pepe(1,2) Pepe(1,2)\n",
      "<1,2> <1,2> True False False\n"
     ]
    }
   ],
   "source": [
    "class Pepe():\n",
    "    \n",
    "    def __init__(self,a,b):\n",
    "        self.a = a\n",
    "        self.b = b\n",
    "    \n",
    "    def __str__(self):\n",
    "        return f'<{self.a},{self.b}>'\n",
    "    \n",
    "    def __repr__(self):\n",
    "        return f'Pepe({self.a},{self.b})'\n",
    "    \n",
    "    def __eq__(self,other):\n",
    "        return type(other) == Pepe and self.a==other.a and self.b == other.b\n",
    "        \n",
    "\n",
    "o = Pepe(1,2)\n",
    "print(str(o),o)\n",
    "o2 = Pepe(3,4)\n",
    "print(str(o2),o2)\n",
    "\n",
    "o = 14\n",
    "print(o,str(o),o.__str__())\n",
    "\n",
    "o = Pepe(1,2)\n",
    "print(o,repr(o),o.__repr__())\n",
    "\n",
    "o2 = eval(repr(o))\n",
    "\n",
    "print(o,o2,o2==o,o2==Pepe(4,6),o2==13)\n"
   ]
  },
  {
   "cell_type": "code",
   "execution_count": 12,
   "metadata": {},
   "outputs": [
    {
     "data": {
      "text/plain": [
       "7"
      ]
     },
     "execution_count": 12,
     "metadata": {},
     "output_type": "execute_result"
    }
   ],
   "source": [
    "a = 4\n",
    "eval('a+3')"
   ]
  }
 ],
 "metadata": {
  "kernelspec": {
   "display_name": "Python 3",
   "language": "python",
   "name": "python3"
  },
  "language_info": {
   "codemirror_mode": {
    "name": "ipython",
    "version": 3
   },
   "file_extension": ".py",
   "mimetype": "text/x-python",
   "name": "python",
   "nbconvert_exporter": "python",
   "pygments_lexer": "ipython3",
   "version": "3.7.6"
  }
 },
 "nbformat": 4,
 "nbformat_minor": 4
}
