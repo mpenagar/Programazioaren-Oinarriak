{
 "cells": [
  {
   "cell_type": "code",
   "execution_count": 33,
   "metadata": {},
   "outputs": [
    {
     "name": "stdout",
     "output_type": "stream",
     "text": [
      "{'a','e','i','o','u'} 5\n",
      "True False\n",
      "a e i o u\n",
      "{'e','i','o','u'}\n",
      "{'u','e','i','o'}\n",
      "True False False\n",
      "[MySet(['e', 'i', 'o', 'u']), MySet(['u', 'e', 'i', 'o'])]\n"
     ]
    }
   ],
   "source": [
    "class MySet(object):\n",
    "    \n",
    "    def __init__(self,it=()):\n",
    "        self.z = []\n",
    "        self.addall(it)\n",
    "            \n",
    "    def add(self,x):\n",
    "        if x not in self.z :\n",
    "            self.z.append(x)\n",
    "        \n",
    "    def addall(self,it):\n",
    "        for x in it:\n",
    "            self.add(x)\n",
    "            \n",
    "    def __str__(self):\n",
    "        #return '{' + ','.join(map(repr,self.z)) + '}'\n",
    "        return '{' + ','.join(repr(x) for x in self.z) + '}'\n",
    "    \n",
    "    def __repr__(self):\n",
    "        return f'MySet({repr(self.z)})'\n",
    "    \n",
    "    def __len__(self):\n",
    "        return len(self.z)\n",
    "    \n",
    "    def __contains__(self,x):\n",
    "        return x in self.z\n",
    "    \n",
    "    def __iter__(self):\n",
    "        return iter(self.z)\n",
    "    \n",
    "    def remove(self,x):\n",
    "        try: \n",
    "            self.z.remove(x)\n",
    "        except ValueError:\n",
    "            raise ValueError(f'MySet.remove(x): x not in set')\n",
    "\n",
    "    def remove(self,x):\n",
    "        if x in self.z: \n",
    "            self.z.remove(x)\n",
    "        else :\n",
    "            raise ValueError(f'MySet.remove(x): x not in set')\n",
    "\n",
    "    def __eq__(self,other):\n",
    "        if type(other) != MySet :\n",
    "            return False            \n",
    "        if len(other) != len(self):\n",
    "            return False\n",
    "        for x in self :\n",
    "            if x not in other :\n",
    "                return False\n",
    "        \n",
    "        return True\n",
    "\n",
    "    def __eq__(self,other):\n",
    "        #return not(type(other) != MySet or len(other) != len(self) or any(x not in other for x in self))\n",
    "        return type(other) == MySet and len(other) == len(self) and all(x in other for x in self)\n",
    "    \n",
    "\n",
    "s = MySet(\"aaaaeeeeeeeeeeeiiiiiiiooooouuaaaaeaeaeaea\")\n",
    "print(s,len(s))\n",
    "print(\"a\" in s, 2 in s)\n",
    "print(*s)\n",
    "#s.remove(\"4\")\n",
    "s.remove(\"a\")\n",
    "print(s)\n",
    "s2 = MySet(\"ueiiiiioooo\")\n",
    "print(s2)\n",
    "print(s==s2,s==23,s==MySet(\"aeiou\"))\n",
    "\n",
    "print([s,s2])"
   ]
  },
  {
   "cell_type": "code",
   "execution_count": 36,
   "metadata": {},
   "outputs": [
    {
     "name": "stdout",
     "output_type": "stream",
     "text": [
      "{'e','i','o','u'}\n"
     ]
    }
   ],
   "source": [
    "print(MySet(['e', 'i', 'o', 'u']))"
   ]
  }
 ],
 "metadata": {
  "kernelspec": {
   "display_name": "Python 3",
   "language": "python",
   "name": "python3"
  },
  "language_info": {
   "codemirror_mode": {
    "name": "ipython",
    "version": 3
   },
   "file_extension": ".py",
   "mimetype": "text/x-python",
   "name": "python",
   "nbconvert_exporter": "python",
   "pygments_lexer": "ipython3",
   "version": "3.7.6"
  }
 },
 "nbformat": 4,
 "nbformat_minor": 4
}
