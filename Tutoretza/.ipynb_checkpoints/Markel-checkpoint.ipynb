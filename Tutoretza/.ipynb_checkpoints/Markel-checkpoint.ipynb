{
 "cells": [
  {
   "cell_type": "code",
   "execution_count": 17,
   "metadata": {},
   "outputs": [
    {
     "name": "stdout",
     "output_type": "stream",
     "text": [
      "(1, 2)-->(3, 4)\n"
     ]
    },
    {
     "data": {
      "text/plain": [
       "(True, True)"
      ]
     },
     "execution_count": 17,
     "metadata": {},
     "output_type": "execute_result"
    }
   ],
   "source": [
    "class Zuzenki():\n",
    "    \n",
    "    def __init__(self,Ax,Ay,Bx,By):\n",
    "        self.A = (Ax,Ay)\n",
    "        self.B = (Bx,By)\n",
    "        if self.A == self.B :\n",
    "            raise ValueError(\"A nad B are equal\")\n",
    "            \n",
    "    def __str__(self):\n",
    "        return f'{self.A}-->{self.B}'\n",
    "    \n",
    "    def __repr__(self):\n",
    "        #return f'Zuzenki({self.A[0]},{self.A[1]},{self.B[0]},{self.B[1]})'\n",
    "        ax,ay = self.A\n",
    "        bx,by = self.B\n",
    "        return f'Zuzenki({ax},{ay},{bx},{by})'\n",
    "    \n",
    "    def __eq__(self,other):\n",
    "        return type(other)==Zuzenki and ( (self.A==other.A and self.B==other.B) or (self.A==other.B and self.B==other.A) )\n",
    "\n",
    "z = Zuzenki(1,2,3,4) #--> o --> o.__init__(1,2,3,4)\n",
    "\n",
    "print(z) # --> \"(1,2)-->(3,4)\"\n",
    "o = eval('Zuzenki(1,2,3,4)')\n",
    "\n",
    "o = eval(repr(z))\n",
    "type(o)==type(z) , o == z # o.__eq__(z)  --> Zuzenki.__eq__(o,z)\n",
    "            "
   ]
  }
 ],
 "metadata": {
  "kernelspec": {
   "display_name": "Python 3",
   "language": "python",
   "name": "python3"
  },
  "language_info": {
   "codemirror_mode": {
    "name": "ipython",
    "version": 3
   },
   "file_extension": ".py",
   "mimetype": "text/x-python",
   "name": "python",
   "nbconvert_exporter": "python",
   "pygments_lexer": "ipython3",
   "version": "3.7.6"
  }
 },
 "nbformat": 4,
 "nbformat_minor": 4
}
