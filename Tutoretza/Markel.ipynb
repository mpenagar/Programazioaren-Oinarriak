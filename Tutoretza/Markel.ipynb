{
 "cells": [
  {
   "cell_type": "code",
   "execution_count": 16,
   "metadata": {},
   "outputs": [
    {
     "name": "stdout",
     "output_type": "stream",
     "text": [
      "(1, 2)-->(3, 4)\n"
     ]
    },
    {
     "ename": "SyntaxError",
     "evalue": "invalid syntax (<string>, line 1)",
     "output_type": "error",
     "traceback": [
      "Traceback \u001b[0;36m(most recent call last)\u001b[0m:\n",
      "  File \u001b[1;32m\"/usr/local/lib/python3.7/site-packages/IPython/core/interactiveshell.py\"\u001b[0m, line \u001b[1;32m3417\u001b[0m, in \u001b[1;35mrun_code\u001b[0m\n    exec(code_obj, self.user_global_ns, self.user_ns)\n",
      "\u001b[0;36m  File \u001b[0;32m\"<ipython-input-16-5e0ebabb5342>\"\u001b[0;36m, line \u001b[0;32m20\u001b[0;36m, in \u001b[0;35m<module>\u001b[0;36m\u001b[0m\n\u001b[0;31m    o = eval(repr(z))\u001b[0m\n",
      "\u001b[0;36m  File \u001b[0;32m\"<string>\"\u001b[0;36m, line \u001b[0;32m1\u001b[0m\n\u001b[0;31m    3?345\u001b[0m\n\u001b[0m     ^\u001b[0m\n\u001b[0;31mSyntaxError\u001b[0m\u001b[0;31m:\u001b[0m invalid syntax\n"
     ]
    }
   ],
   "source": [
    "class Zuzenki():\n",
    "    \n",
    "    def __init__(self,Ax,Ay,Bx,By):\n",
    "        self.A = (Ax,Ay)\n",
    "        self.B = (Bx,By)\n",
    "        if self.A == self.B :\n",
    "            raise ValueError(\"A nad B are equal\")\n",
    "            \n",
    "    def __str__(self):\n",
    "        return f'{self.A}-->{self.B}'\n",
    "    \n",
    "    def __repr__(self):\n",
    "        return \"3?345\"\n",
    "\n",
    "z = Zuzenki(1,2,3,4) #--> o --> o.__init__(1,2,3,4)\n",
    "\n",
    "print(z) # --> \"(1,2)-->(3,4)\"\n",
    "o = eval('Zuzenki(1,2,3,4)')\n",
    "\n",
    "o = eval(repr(z))\n",
    "type(o)==type(z) , o == z\n",
    "            "
   ]
  }
 ],
 "metadata": {
  "kernelspec": {
   "display_name": "Python 3",
   "language": "python",
   "name": "python3"
  },
  "language_info": {
   "codemirror_mode": {
    "name": "ipython",
    "version": 3
   },
   "file_extension": ".py",
   "mimetype": "text/x-python",
   "name": "python",
   "nbconvert_exporter": "python",
   "pygments_lexer": "ipython3",
   "version": "3.7.6"
  }
 },
 "nbformat": 4,
 "nbformat_minor": 4
}
