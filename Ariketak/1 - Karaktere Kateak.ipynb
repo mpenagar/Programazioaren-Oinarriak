{
 "cells": [
  {
   "cell_type": "markdown",
   "metadata": {},
   "source": [
    "### 5\n",
    "`delete_at(s,z)` funtzio bat idatzi argumentu bezala **s** karaktere katea eta **z** indize gorakorrak dituen zerrenda jasotzen duena eta karaktere kate berri bat bueltatzen duena, zeinetan z zerrendan agertzen diren posizioetako elementuak ezabatu egin diren. Hau da, `s=’bihar ikusiko dugu elkar’` eta `z=[1,5,6,9]` izanik, funtzioak bueltatuko duen katea `‘ihaiksiko dugu elkar’` izango da."
   ]
  },
  {
   "cell_type": "code",
   "execution_count": 59,
   "metadata": {},
   "outputs": [],
   "source": [
    "def delete_at(s,z):\n",
    "    z2 = list(s)\n",
    "    for n,i in enumerate(z,1) :\n",
    "        del z2[i-n]\n",
    "    return ''.join(z2)"
   ]
  },
  {
   "cell_type": "code",
   "execution_count": 60,
   "metadata": {},
   "outputs": [
    {
     "data": {
      "text/plain": [
       "'ihaiksiko dugu elkar'"
      ]
     },
     "execution_count": 60,
     "metadata": {},
     "output_type": "execute_result"
    }
   ],
   "source": [
    "s = 'bihar ikusiko dugu elkar'\n",
    "delete_at(s,[1,5,6,9])"
   ]
  },
  {
   "cell_type": "code",
   "execution_count": 54,
   "metadata": {},
   "outputs": [
    {
     "name": "stdout",
     "output_type": "stream",
     "text": [
      "(1, 'k') (2, 'j') (3, 'h') (4, 'g') (5, 'k') (6, 'j') (7, 'g') (8, 'h') (9, 'j') (10, 'k')\n"
     ]
    }
   ],
   "source": [
    "print(*enumerate(\"kjhgkjghjk\",1))"
   ]
  },
  {
   "cell_type": "raw",
   "metadata": {},
   "source": []
  },
  {
   "cell_type": "raw",
   "metadata": {},
   "source": []
  },
  {
   "cell_type": "markdown",
   "metadata": {},
   "source": [
    "### 6 \n",
    "Demagun s letra xehez osoturiko karaktere kate bat daukazula, bi funtzio idatzi lrot(s,n) eta rrot(s,n). Funtzio hauek s kateko hizkiak alfabetoraren barnean n aldiz ezkerrera (lrot) edo eskumara (rrot) errotatzen direnean emandako karaktere kateak bueltatuko dituzte."
   ]
  },
  {
   "cell_type": "code",
   "execution_count": 43,
   "metadata": {},
   "outputs": [],
   "source": [
    "def rrot(s,n):\n",
    "    alfa = \"abcdefghijklmnñopqrstuvwxyz \"\n",
    "    e = ''\n",
    "    for x in s :\n",
    "        e += alfa[(alfa.index(x) + n) % len(alfa)]\n",
    "    return e\n",
    "\n",
    "def lrot(s,n):\n",
    "    return rrot(s,-n)\n",
    "\n",
    "def rrot(s,n):\n",
    "    alfa = \"abcdefghijklmnñopqrstuvwxyz \"\n",
    "    z = []\n",
    "    for x in s :\n",
    "        z.append(alfa[(alfa.index(x) + n) % len(alfa)])\n",
    "    return ''.join(z)"
   ]
  },
  {
   "cell_type": "code",
   "execution_count": 36,
   "metadata": {},
   "outputs": [
    {
     "name": "stdout",
     "output_type": "stream",
     "text": [
      "defghijkl\n",
      "yz abcdef\n",
      "yz abcdef\n",
      "defghijkl\n",
      "lmnñopqrs\n"
     ]
    }
   ],
   "source": [
    "print(rrot(\"abcdefghi\",3))\n",
    "print(lrot(\"abcdefghi\",3))\n",
    "print(rrot(\"abcdefghi\",-3))\n",
    "print(lrot(\"abcdefghi\",-3))\n",
    "print(rrot(\"abcdefghi\",3347345674356823658356835))"
   ]
  },
  {
   "cell_type": "code",
   "execution_count": 42,
   "metadata": {},
   "outputs": [
    {
     "data": {
      "text/plain": [
       "(90, '[', 97)"
      ]
     },
     "execution_count": 42,
     "metadata": {},
     "output_type": "execute_result"
    }
   ],
   "source": [
    "ord(\"Z\"),chr(91),ord(\"a\")"
   ]
  },
  {
   "cell_type": "code",
   "execution_count": 33,
   "metadata": {},
   "outputs": [
    {
     "data": {
      "text/plain": [
       "7"
      ]
     },
     "execution_count": 33,
     "metadata": {},
     "output_type": "execute_result"
    }
   ],
   "source": [
    "a = \"abcdefghijklmnñopqrstuvwxyz \"\n",
    "a[(a.index(\"z\") + -1) % len(a)]\n",
    "-3 % 10"
   ]
  }
 ],
 "metadata": {
  "kernelspec": {
   "display_name": "Python 3",
   "language": "python",
   "name": "python3"
  },
  "language_info": {
   "codemirror_mode": {
    "name": "ipython",
    "version": 3
   },
   "file_extension": ".py",
   "mimetype": "text/x-python",
   "name": "python",
   "nbconvert_exporter": "python",
   "pygments_lexer": "ipython3",
   "version": "3.7.6"
  }
 },
 "nbformat": 4,
 "nbformat_minor": 4
}
