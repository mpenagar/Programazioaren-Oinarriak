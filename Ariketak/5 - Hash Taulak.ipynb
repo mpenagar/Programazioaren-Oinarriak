{
 "cells": [
  {
   "cell_type": "markdown",
   "metadata": {},
   "source": [
    "### 0 - Berdimentsio bidezko ebazpena\n",
    "\n",
    "   * $N$ tamainako Zerrenda bat erabili.\n",
    "   * Okupazio faktorea (*load factor*): $LF : {n_{stored}}/{N}$\n",
    "   * $g$ gako bati taulan dagokion posizioa: $i \\; = \\; hash(g)\\; \\% \\; N$\n",
    "   * *Talkak* edo *kolisioak* gerta daitezke\n",
    "      * **Kolisioa**: Bi $g_1 , g_2$ gako ezberdinei $i_1 = i_2$ posizio berdina esleitzea\n",
    "      * $hash(g_1) = hash(g_2)$ balio berdina izan dezakete.\n",
    "      * $hash(g_1) \\ne hash(g_2)$ izanda ere,  $(hash(g_1)\\, \\% \\, N) = (hash(g_2)\\, \\% \\, N)$ gerta daiteke.\n",
    "   * Talkarik badago $\\to$ **BERDIMENTSIONATU**"
   ]
  },
  {
   "cell_type": "code",
   "execution_count": null,
   "metadata": {},
   "outputs": [],
   "source": [
    "def hiztegia():\n",
    "    pass\n",
    "def hiztegia_set(h,g,b):\n",
    "    pass\n",
    "def hiztegia_get(h,g,d=None):\n",
    "    pass\n",
    "def hiztegia_del(h,g):\n",
    "    pass\n",
    "def hiztegia_clear(h):\n",
    "    pass\n",
    "def hiztegia_len(h):\n",
    "    pass\n",
    "def hiztegia_str(h):\n",
    "    pass\n",
    "def hiztegia_keys(h):\n",
    "    pass\n",
    "def hiztegia_values(h):\n",
    "    pass\n",
    "def hiztegia_items(h):\n",
    "    pass"
   ]
  },
  {
   "cell_type": "code",
   "execution_count": 39,
   "metadata": {},
   "outputs": [],
   "source": [
    "def hiztegia(init_size=10):\n",
    "    return [None]*init_size\n",
    "\n",
    "def hiztegia_str(h):\n",
    "    testuak = [f'{repr(x[0])}:{repr(x[1])}' for x in h if x]\n",
    "    return '{' + ' , '.join(testuak) + '}'\n",
    "\n",
    "# Kolisioak aztertzeke daude.....\n",
    "def hiztegia_set(h,g,b):\n",
    "    i = hash(g)%len(h)\n",
    "    if not h[i] :\n",
    "        # Hutsik\n",
    "        h[i]=(g,b)\n",
    "    else :\n",
    "        # Betea\n",
    "        g2,b2 = h[i]\n",
    "        if g2 == g :\n",
    "            # Balioa aldatu\n",
    "            h[i]=(g,b)\n",
    "        else :\n",
    "            # Kolisioa!!!!!!\n",
    "            #print('KOLISIOA',i,g,g2)\n",
    "            hiztegia_berdimentsionatu(h,len(h)*2)\n",
    "            hiztegia_set(h,g,b)\n",
    "\n",
    "def hiztegia_berdimentsionatu(h,N):\n",
    "    items = hiztegia_items(h)\n",
    "    h.clear()\n",
    "    h.extend([None]*N)\n",
    "    for g,b in items:\n",
    "        hiztegia_set(h,g,b)\n",
    "    \n",
    "    \n",
    "def hiztegia_get(h,g,d=None):\n",
    "    x = h[hash(g)%len(h)]\n",
    "    if x :\n",
    "        g2,b2 = x\n",
    "        return b2 if g2 == g else d\n",
    "    else :\n",
    "        return d\n",
    "    \n",
    "def hiztegia_len(h):\n",
    "    return len([x for x in h if x])\n",
    "\n",
    "def hiztegia_keys(h):\n",
    "    return [x[0] for x in h if x]\n",
    "\n",
    "def hiztegia_values(h):\n",
    "    return [x[1] for x in h if x]\n",
    "\n",
    "def hiztegia_items(h):\n",
    "    return [x for x in h if x]\n",
    "\n",
    "def hiztegia_del(h,g):\n",
    "    i = hash(g)%len(h)\n",
    "    if h[i]:\n",
    "        g2,b2 = h[i]\n",
    "        if g2 == g :\n",
    "            h[i] = None\n"
   ]
  },
  {
   "cell_type": "code",
   "execution_count": 40,
   "metadata": {},
   "outputs": [
    {
     "name": "stdout",
     "output_type": "stream",
     "text": [
      "h: [None, None, None, None, None, None, None, None, ('agur', 100), ('kaixo', 34)]\n",
      "hiztegia_str(h): {'agur':100 , 'kaixo':34}\n",
      "hiztegia_get(h,\"kaixo\"): 34\n",
      "hiztegia_get(h,\"kaixoooo\"): None\n",
      "hiztegia_len(h): 2\n",
      "hiztegia_keys(h): ['agur', 'kaixo']\n",
      "hiztegia_values(h): [100, 34]\n"
     ]
    }
   ],
   "source": [
    "h = hiztegia()\n",
    "hiztegia_set(h,'kaixo',34)\n",
    "hiztegia_set(h,'agur',100)\n",
    "print(f'h: {h}')\n",
    "print(f'hiztegia_str(h): {hiztegia_str(h)}')\n",
    "print(f'hiztegia_get(h,\"kaixo\"): {hiztegia_get(h,\"kaixo\")}')\n",
    "print(f'hiztegia_get(h,\"kaixoooo\"): {hiztegia_get(h,\"kaixoooo\")}')\n",
    "print(f'hiztegia_len(h): {hiztegia_len(h)}')\n",
    "print(f'hiztegia_keys(h): {hiztegia_keys(h)}')\n",
    "print(f'hiztegia_values(h): {hiztegia_values(h)}')\n"
   ]
  },
  {
   "cell_type": "code",
   "execution_count": 41,
   "metadata": {},
   "outputs": [
    {
     "name": "stdout",
     "output_type": "stream",
     "text": [
      "1 10 {'a':1}\n",
      "2 10 {'b':1 , 'a':1}\n",
      "3 10 {'b':1 , 'c':1 , 'a':1}\n",
      "4 10 {'b':1 , 'c':1 , 'd':1 , 'a':1}\n",
      "5 10 {'e':1 , 'b':1 , 'c':1 , 'd':1 , 'a':1}\n",
      "6 20 {'f':1 , 'b':1 , 'a':1 , 'e':1 , 'c':1 , 'd':1}\n",
      "7 20 {'f':1 , 'b':1 , 'g':1 , 'a':1 , 'e':1 , 'c':1 , 'd':1}\n",
      "7 20 {'f':1 , 'b':1 , 'g':1 , 'a':1 , 'e':1 , 'c':1 , 'd':1}\n",
      "7 20 {'f':1 , 'b':1 , 'g':1 , 'a':1 , 'e':1 , 'c':1 , 'd':1}\n",
      "7 20 {'f':1 , 'b':1 , 'g':1 , 'a':1 , 'e':1 , 'c':1 , 'd':1}\n",
      "7 20 {'f':1 , 'b':1 , 'g':1 , 'a':1 , 'e':1 , 'c':1 , 'd':1}\n",
      "7 20 {'f':1 , 'b':1 , 'g':1 , 'a':1 , 'e':1 , 'c':1 , 'd':1}\n",
      "7 20 {'f':1 , 'b':1 , 'g':1 , 'a':1 , 'e':1 , 'c':1 , 'd':1}\n",
      "8 40 {'b':1 , 'g':1 , 'a':1 , 'f':1 , 'aaa':3 , 'e':1 , 'c':1 , 'd':1}\n",
      "9 320 {'a':1 , 'f':1 , 'd':1 , 'aaa':3 , 'e':1 , 'b':1 , 'bbb':3 , 'g':1 , 'c':1}\n",
      "10 1280 {'c':1 , 'a':1 , 'f':1 , 'd':1 , 'e':1 , 'b':1 , 'bbb':3 , 'aaa':3 , 'g':1 , 'ccc':3}\n",
      "10 1280 {'c':1 , 'a':1 , 'f':1 , 'd':1 , 'e':1 , 'b':1 , 'bbb':3 , 'aaa':3 , 'g':1 , 'ccc':3}\n",
      "10 1280 {'c':1 , 'a':1 , 'f':1 , 'd':1 , 'e':1 , 'b':1 , 'bbb':3 , 'aaa':3 , 'g':1 , 'ccc':3}\n",
      "11 1280 {'c':1 , 'a':1 , 'f':1 , 'd':1 , 'e':1 , 'b':1 , 'bbb':3 , 'aaaaa':5 , 'aaa':3 , 'g':1 , 'ccc':3}\n",
      "11 1280 {'c':1 , 'a':1 , 'f':1 , 'd':1 , 'e':1 , 'b':1 , 'bbb':3 , 'aaaaa':5 , 'aaa':3 , 'g':1 , 'ccc':3}\n",
      "11 1280 {'c':1 , 'a':1 , 'f':1 , 'd':1 , 'e':1 , 'b':1 , 'bbb':3 , 'aaaaa':5 , 'aaa':3 , 'g':1 , 'ccc':3}\n",
      "12 1280 {'c':1 , 'a':1 , 'f':1 , 'd':1 , 'bbbbb':5 , 'e':1 , 'b':1 , 'bbb':3 , 'aaaaa':5 , 'aaa':3 , 'g':1 , 'ccc':3}\n"
     ]
    }
   ],
   "source": [
    "h = hiztegia()\n",
    "for txt in \"a b c d e f g a b c d e f aaa bbb ccc aaa ccc aaaaa aaaaa aaaaa bbbbb\".split():\n",
    "    hiztegia_set(h,txt,len(txt))\n",
    "    print(hiztegia_len(h),len(h),hiztegia_str(h))"
   ]
  },
  {
   "cell_type": "markdown",
   "metadata": {},
   "source": [
    "### 1 - Helbideratze Irekia (Open addressing)\n",
    "Teorian, hash tauletan kolisioak ekiditeko Helbideratze Irekia (Open addressing) deritzon metodoa ikusi dugu. Hauek dira ideia nagusiak:\n",
    " g gako bati dagokion posizioa, hash(g)%N –tik aurrera izango da.\n",
    " gako bati dagokion balioa kontsultatu edo txertatu nahi dugunean, posizio horretatik aurrera bilatuko dugu\n",
    "o Gakoa topatu arte. Balioa bertan txertatu daiteke..\n",
    "o Hutsik dagoen gelaxka bat topatu arte. Balioa txertatu ondoren karga faktorea 0.7 baina handiagoa bada, taula berdimentsionatuko da."
   ]
  },
  {
   "cell_type": "markdown",
   "metadata": {},
   "source": [
    "### 1-A Liberaziorik gabeko hiztegia\n",
    "Hash taulan bi elementu egon litezke: `None` edo `(g,b)`"
   ]
  },
  {
   "cell_type": "code",
   "execution_count": 39,
   "metadata": {},
   "outputs": [],
   "source": [
    "def hiztegia(init_size=10):\n",
    "    return [None]*init_size\n",
    "\n",
    "def hiztegia_str(h):\n",
    "    testuak = [f'{repr(x[0])}:{repr(x[1])}' for x in h if x]\n",
    "    return '{' + ' , '.join(testuak) + '}'\n",
    "\n",
    "# Kolisioak aztertzeke daude.....\n",
    "def hiztegia_set(h,g,b):\n",
    "    pass\n",
    "\n",
    "def hiztegia_berdimentsionatu(h,N):\n",
    "    items = hiztegia_items(h)\n",
    "    h.clear()\n",
    "    h.extend([None]*N)\n",
    "    for g,b in items:\n",
    "        hiztegia_set(h,g,b)\n",
    "    \n",
    "def hiztegia_get(h,g,d=None):\n",
    "    i = hash(g)%len(h)\n",
    "    #for j in list(range(i,len(h))) + list(range(0,i)):\n",
    "    for j in range(len(h)):\n",
    "        j = (i+j)%len(h)\n",
    "        if not h[j] :\n",
    "            return d\n",
    "        elif h[j][0] == g :\n",
    "            return h[j][1]\n",
    "    return d\n",
    "    \n",
    "def hiztegia_len(h):\n",
    "    return len([x for x in h if x])\n",
    "\n",
    "def hiztegia_keys(h):\n",
    "    return [x[0] for x in h if x]\n",
    "\n",
    "def hiztegia_values(h):\n",
    "    return [x[1] for x in h if x]\n",
    "\n",
    "def hiztegia_items(h):\n",
    "    return [x for x in h if x]"
   ]
  }
 ],
 "metadata": {
  "kernelspec": {
   "display_name": "Python 3",
   "language": "python",
   "name": "python3"
  },
  "language_info": {
   "codemirror_mode": {
    "name": "ipython",
    "version": 3
   },
   "file_extension": ".py",
   "mimetype": "text/x-python",
   "name": "python",
   "nbconvert_exporter": "python",
   "pygments_lexer": "ipython3",
   "version": "3.7.6"
  }
 },
 "nbformat": 4,
 "nbformat_minor": 4
}
