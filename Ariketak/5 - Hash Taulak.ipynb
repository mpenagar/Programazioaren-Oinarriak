{
 "cells": [
  {
   "cell_type": "markdown",
   "metadata": {},
   "source": [
    "### 0 - Berdimentsio bidezko ebazpena\n",
    "\n",
    "   * $N$ tamainako Zerrenda bat erabili.\n",
    "   * Okupazio faktorea (*load factor*): $LF : {n_{stored}}/{N}$\n",
    "   * $g$ gako bati taulan dagokion posizioa: $i \\; = \\; hash(g)\\; \\% \\; N$\n",
    "   * *Talkak* edo *kolisioak* gerta daitezke\n",
    "      * **Kolisioa**: Bi $g_1 , g_2$ gako ezberdinei $i_1 = i_2$ posizio berdina esleitzea\n",
    "      * $hash(g_1) = hash(g_2)$ balio berdina izan dezakete.\n",
    "      * $hash(g_1) \\ne hash(g_2)$ izanda ere,  $(hash(g_1)\\, \\% \\, N) = (hash(g_2)\\, \\% \\, N)$ gerta daiteke.\n",
    "   * Talkarik badago $\\to$ **BERDIMENTSIONATU**"
   ]
  },
  {
   "cell_type": "code",
   "execution_count": null,
   "metadata": {},
   "outputs": [],
   "source": [
    "def hiztegia():\n",
    "    pass\n",
    "def hiztegia_set(h,g,b):\n",
    "    pass\n",
    "def hiztegia_get(h,g,d=None):\n",
    "    pass\n",
    "def hiztegia_del(h,g):\n",
    "    pass\n",
    "def hiztegia_clear(h):\n",
    "    pass\n",
    "def hiztegia_len(h):\n",
    "    pass\n",
    "def hiztegia_str(h):\n",
    "    pass\n",
    "def hiztegia_keys(h):\n",
    "    pass\n",
    "def hiztegia_values(h):\n",
    "    pass"
   ]
  },
  {
   "cell_type": "code",
   "execution_count": 33,
   "metadata": {},
   "outputs": [],
   "source": [
    "def hiztegia(init_size=10):\n",
    "    return [None]*init_size\n",
    "\n",
    "def hiztegia_str(h):\n",
    "    testuak = [f'{repr(x[0])}:{repr(x[1])}' for x in h if x]\n",
    "    return '{' + ' , '.join(testuak) + '}'\n",
    "\n",
    "# Kolisioak aztertzeke daude.....\n",
    "def hiztegia_set(h,g,b):\n",
    "    h[hash(g)%len(h)]=(g,b)\n",
    "    \n",
    "def hiztegia_get(h,g,d=None):\n",
    "    x = h[hash(g)%len(h)]\n",
    "    if x :\n",
    "        g2,b2 = x\n",
    "        return b2 if g2 == g else d\n",
    "    else :\n",
    "        return d\n",
    "    \n",
    "def hiztegia_len(h):\n",
    "    return len([x for x in h if x])\n",
    "\n",
    "def hiztegia_keys(h):\n",
    "    return [x[0] for x in h if x]\n",
    "\n",
    "def hiztegia_values(h):\n",
    "    return [x[1] for x in h if x]\n",
    "\n",
    "def hiztegia_del(h,g):\n",
    "    i = hash(g)%len(h)\n",
    "    if h[i]:\n",
    "        g2,b2 = h[i]\n",
    "        if g2 == g :\n",
    "            h[i] = None\n"
   ]
  },
  {
   "cell_type": "code",
   "execution_count": 34,
   "metadata": {},
   "outputs": [
    {
     "name": "stdout",
     "output_type": "stream",
     "text": [
      "h: [None, None, None, None, None, None, None, None, ('agur', 100), ('kaixo', 34)]\n",
      "hiztegia_str(h): {'agur':100 , 'kaixo':34}\n",
      "hiztegia_get(h,\"kaixo\"): 34\n",
      "hiztegia_get(h,\"kaixoooo\"): None\n",
      "hiztegia_len(h): 2\n",
      "hiztegia_keys(h): ['agur', 'kaixo']\n",
      "hiztegia_values(h): [100, 34]\n"
     ]
    }
   ],
   "source": [
    "h = hiztegia()\n",
    "hiztegia_set(h,'kaixo',34)\n",
    "hiztegia_set(h,'agur',100)\n",
    "print(f'h: {h}')\n",
    "print(f'hiztegia_str(h): {hiztegia_str(h)}')\n",
    "print(f'hiztegia_get(h,\"kaixo\"): {hiztegia_get(h,\"kaixo\")}')\n",
    "print(f'hiztegia_get(h,\"kaixoooo\"): {hiztegia_get(h,\"kaixoooo\")}')\n",
    "print(f'hiztegia_len(h): {hiztegia_len(h)}')\n",
    "print(f'hiztegia_keys(h): {hiztegia_keys(h)}')\n",
    "print(f'hiztegia_values(h): {hiztegia_values(h)}')\n"
   ]
  },
  {
   "cell_type": "code",
   "execution_count": null,
   "metadata": {},
   "outputs": [],
   "source": []
  }
 ],
 "metadata": {
  "kernelspec": {
   "display_name": "Python 3",
   "language": "python",
   "name": "python3"
  },
  "language_info": {
   "codemirror_mode": {
    "name": "ipython",
    "version": 3
   },
   "file_extension": ".py",
   "mimetype": "text/x-python",
   "name": "python",
   "nbconvert_exporter": "python",
   "pygments_lexer": "ipython3",
   "version": "3.7.6"
  }
 },
 "nbformat": 4,
 "nbformat_minor": 4
}
