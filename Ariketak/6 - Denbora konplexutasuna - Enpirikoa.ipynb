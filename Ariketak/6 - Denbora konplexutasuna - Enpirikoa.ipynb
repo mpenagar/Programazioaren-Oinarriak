{
 "cells": [
  {
   "cell_type": "markdown",
   "metadata": {},
   "source": [
    "### 1\n",
    "Zerrenden pop(index=-1) metodoak adierazitako elementua zerrendatik atera eta bueltatzen du. Elementu bat zerrendatik ateratzen den bakoitzean, bere atzetik doazen guztiak posizio bat ezkerrera desplazatu behar dira. Horregatik, hain zuzen ere, ez da batere gomendagarria pop(0) moduko espresioak erabiltzea. Sortu itzazu bi funtzio, zerrenda bat jaso eta hutsik gelditzen ez den bitartean elementuak aterako dituenak. Lehenengoak pop(0) erabiliko du eta bigarrenak aldiz pop(). Neurtu ezazu bi funtzioen exekuzio denbora ondoko hiztegiarekin:\n",
    "\n",
    "`z = list(range(10000))`"
   ]
  },
  {
   "cell_type": "code",
   "execution_count": 1,
   "metadata": {},
   "outputs": [],
   "source": [
    "def hustu1(z):\n",
    "    while z :\n",
    "        z.pop(0)\n",
    "\n",
    "def hustu2(z):\n",
    "    while z :\n",
    "        z.pop()\n"
   ]
  },
  {
   "cell_type": "code",
   "execution_count": 4,
   "metadata": {},
   "outputs": [],
   "source": [
    "z = list(range(10000))"
   ]
  },
  {
   "cell_type": "code",
   "execution_count": 61,
   "metadata": {},
   "outputs": [
    {
     "name": "stdout",
     "output_type": "stream",
     "text": [
      "15.5 ms ± 0 ns per loop (mean ± std. dev. of 1 run, 1 loop each)\n",
      "977 µs ± 0 ns per loop (mean ± std. dev. of 1 run, 1 loop each)\n"
     ]
    }
   ],
   "source": [
    "z = list(range(10000))\n",
    "%timeit -n 1 -r 1 hustu1(z)\n",
    "z = list(range(10000))\n",
    "%timeit -n 1 -r 1 hustu2(z)"
   ]
  },
  {
   "cell_type": "code",
   "execution_count": 63,
   "metadata": {},
   "outputs": [
    {
     "name": "stdout",
     "output_type": "stream",
     "text": [
      "193 µs ± 1.2 µs per loop (mean ± std. dev. of 7 runs, 10000 loops each)\n"
     ]
    }
   ],
   "source": [
    "%timeit z = list(range(10000))"
   ]
  },
  {
   "cell_type": "code",
   "execution_count": 64,
   "metadata": {},
   "outputs": [
    {
     "name": "stdout",
     "output_type": "stream",
     "text": [
      "14.7 ms ± 76.5 µs per loop (mean ± std. dev. of 7 runs, 100 loops each)\n"
     ]
    }
   ],
   "source": [
    "%%timeit\n",
    "z = list(range(10000))\n",
    "hustu1(z)"
   ]
  },
  {
   "cell_type": "code",
   "execution_count": 65,
   "metadata": {},
   "outputs": [
    {
     "name": "stdout",
     "output_type": "stream",
     "text": [
      "1.11 ms ± 6.06 µs per loop (mean ± std. dev. of 7 runs, 1000 loops each)\n"
     ]
    }
   ],
   "source": [
    "%%timeit\n",
    "z = list(range(10000))\n",
    "hustu2(z)"
   ]
  },
  {
   "cell_type": "markdown",
   "metadata": {},
   "source": [
    "```python\n",
    "def hustu2(z):      # tamaina: n=len(z)\n",
    "    while z :       # n+1 \n",
    "        z.pop(0)    # n + n-1 + n-2 ... + 1\n",
    "```\n",
    "$t(n) = \\frac{n \\cdot(n+1)}{2} + n + 1 \\to \\Theta(n^2)$\n",
    "\n",
    "```python\n",
    "def hustu2(z)::      # tamaina: n=len(z)\n",
    "    while z :       # n+1 \n",
    "        z.pop()     # n x 1\n",
    "```\n",
    "\n",
    "$t(n) = 2n + 1 \\to \\Theta(n)$\n"
   ]
  },
  {
   "cell_type": "code",
   "execution_count": 66,
   "metadata": {},
   "outputs": [
    {
     "name": "stdout",
     "output_type": "stream",
     "text": [
      "1.96 s ± 13.1 ms per loop (mean ± std. dev. of 7 runs, 1 loop each)\n"
     ]
    }
   ],
   "source": [
    "%%timeit\n",
    "z = list(range(100000))\n",
    "hustu1(z)"
   ]
  },
  {
   "cell_type": "code",
   "execution_count": 67,
   "metadata": {},
   "outputs": [
    {
     "name": "stdout",
     "output_type": "stream",
     "text": [
      "12.6 ms ± 88.5 µs per loop (mean ± std. dev. of 7 runs, 100 loops each)\n"
     ]
    }
   ],
   "source": [
    "%%timeit\n",
    "z = list(range(100000))\n",
    "hustu2(z)"
   ]
  }
 ],
 "metadata": {
  "kernelspec": {
   "display_name": "Python 3",
   "language": "python",
   "name": "python3"
  },
  "language_info": {
   "codemirror_mode": {
    "name": "ipython",
    "version": 3
   },
   "file_extension": ".py",
   "mimetype": "text/x-python",
   "name": "python",
   "nbconvert_exporter": "python",
   "pygments_lexer": "ipython3",
   "version": "3.7.6"
  }
 },
 "nbformat": 4,
 "nbformat_minor": 4
}
