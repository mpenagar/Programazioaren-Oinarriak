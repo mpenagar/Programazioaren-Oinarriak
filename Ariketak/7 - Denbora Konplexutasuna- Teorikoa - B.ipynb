{
 "cells": [
  {
   "cell_type": "markdown",
   "metadata": {},
   "source": [
    "### 7\n",
    "Hiztegi edo multzorik erabili gabe, zerrenda batetan agertzen diren elementu ezberdinen kopurua."
   ]
  },
  {
   "cell_type": "code",
   "execution_count": 1,
   "metadata": {},
   "outputs": [],
   "source": [
    "def elementu_ezberdin_kopurua(z):\n",
    "    z2 = []\n",
    "    for x in z :\n",
    "        if x not in z2 :\n",
    "            z2.append(x)\n",
    "    return len(z2)"
   ]
  },
  {
   "cell_type": "markdown",
   "metadata": {},
   "source": [
    "**Kasu Ona**: z-ko elementu guztiak berdinak\n",
    "\n",
    "```python\n",
    "def elementu_ezberdin_kopurua(z):\n",
    "    z2 = []                 # 1\n",
    "    for x in z :            # n\n",
    "        if x not in z2 :    # n x 1\n",
    "            z2.append(x)    # 1 x 1\n",
    "    return len(z2)          # 1\n",
    "```\n",
    " $\\Omega(n)$"
   ]
  },
  {
   "cell_type": "markdown",
   "metadata": {},
   "source": [
    "**Kasu Txarra**: z-ko elementu guztiak ezberdinak\n",
    "\n",
    "```python\n",
    "def elementu_ezberdin_kopurua(z):\n",
    "    z2 = []                 # 1\n",
    "    for x in z :            # n\n",
    "        if x not in z2 :    # (1+2+3+..+n) = n(n+1)/2\n",
    "            z2.append(x)    # n x 1\n",
    "    return len(z2)          # 1\n",
    "```\n",
    " $O(n^2)$"
   ]
  },
  {
   "cell_type": "markdown",
   "metadata": {},
   "source": [
    "`set` edo `dict` erabiliz:"
   ]
  },
  {
   "cell_type": "code",
   "execution_count": 3,
   "metadata": {},
   "outputs": [],
   "source": [
    "def elementu_ezberdin_kopurua(z):\n",
    "    s = set()\n",
    "    for x in z :\n",
    "        s.add(x)\n",
    "    return len(s)"
   ]
  },
  {
   "cell_type": "code",
   "execution_count": 4,
   "metadata": {},
   "outputs": [],
   "source": [
    "def elementu_ezberdin_kopurua(z):\n",
    "    return len(set(z))"
   ]
  },
  {
   "cell_type": "markdown",
   "metadata": {},
   "source": [
    "$\\Theta(n)$"
   ]
  },
  {
   "cell_type": "markdown",
   "metadata": {},
   "source": [
    "#### Zerrendekin egiteko beste era bat:"
   ]
  },
  {
   "cell_type": "code",
   "execution_count": 5,
   "metadata": {},
   "outputs": [],
   "source": [
    "def elementu_ezberdin_kopurua(z):\n",
    "    z2 = sorted(z)               # n logn\n",
    "    n = 1                        # 1\n",
    "    for x,y in zip(z2,z2[1:]) :  # n-1\n",
    "        if x != y :             # n-1\n",
    "            n += 1              # [0,n-1] x 1\n",
    "    return n                    # 1"
   ]
  },
  {
   "cell_type": "markdown",
   "metadata": {},
   "source": [
    "$\\Theta(n \\cdot log n)$"
   ]
  }
 ],
 "metadata": {
  "kernelspec": {
   "display_name": "Python 3",
   "language": "python",
   "name": "python3"
  },
  "language_info": {
   "codemirror_mode": {
    "name": "ipython",
    "version": 3
   },
   "file_extension": ".py",
   "mimetype": "text/x-python",
   "name": "python",
   "nbconvert_exporter": "python",
   "pygments_lexer": "ipython3",
   "version": "3.7.6"
  }
 },
 "nbformat": 4,
 "nbformat_minor": 4
}
