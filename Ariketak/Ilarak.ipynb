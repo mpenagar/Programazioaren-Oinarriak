{
 "cells": [
  {
   "cell_type": "markdown",
   "metadata": {},
   "source": [
    "### 1 Ilara zirkularra\n",
    "\n",
    "```\n",
    " __init__(self,size,it=())\n",
    " enqueue(self,value)\n",
    " dequeue(self)\n",
    " front(self)\n",
    " __len__(self)\n",
    " isFull(self)\n",
    " __iter__(self)\n",
    " __str__(self)\n",
    " __repr__(self)\n",
    " __eq__(self,other)\n",
    "```\n",
    " "
   ]
  },
  {
   "cell_type": "code",
   "execution_count": null,
   "metadata": {},
   "outputs": [],
   "source": [
    "class IlaraZirkularra(object):\n",
    "    \n",
    "    def __init__(self,size,it=()):\n",
    "        self.z = [None]*size\n",
    "        self.len = 0\n",
    "        self.front = 0\n",
    "        self.back = size - 1\n",
    "        for x in it :\n",
    "            self.enqueue(x)\n",
    "    \n",
    "    def __len__(self):\n",
    "        return self.len\n",
    "    \n",
    "    def isFull(self):\n",
    "        return self.len == len(self.z)\n",
    "    \n",
    "    def elementuak_str(self):\n",
    "        return ', '.join(repr(x) for x in self);\n",
    "    \n",
    "    def __str__(self):\n",
    "        return '|' + self.elementuak_str() + '|';\n",
    "        \n",
    "    def __repr__(self):\n",
    "        return 'IlaraZirkularra([' + self.elementuak_str() + '])'\n",
    "        #return f'IlaraZirkularra({list(self)})'\n",
    "    \n",
    "    def __eq__(self,other):\n",
    "        return type(other)==IlaraZirkularra and list(self)==list(other)\n",
    "        # kontuz...\n",
    "        #return type(other)==IlaraZirkularra and all(a==b for a,b in zip(self,other))\n",
    "        # hobeto\n",
    "        #return type(other)==IlaraZirkularra and len(self)==len(other) and all(a==b for a,b in zip(self,other))\n",
    "    \n",
    "    def front(self):\n",
    "        if len(self) == 0 :\n",
    "            raise ValueError('Ilara hutsa')\n",
    "        return self.z[self.front]\n",
    "        \n",
    "    def enqueue(self,value):\n",
    "        pass\n",
    "    \n",
    "    def dequeue(self):\n",
    "        \n",
    "    def __iter__(self):\n",
    "        pass"
   ]
  },
  {
   "cell_type": "code",
   "execution_count": 1,
   "metadata": {},
   "outputs": [
    {
     "data": {
      "text/plain": [
       "[0, 0, 0, 0, 0]"
      ]
     },
     "execution_count": 1,
     "metadata": {},
     "output_type": "execute_result"
    }
   ],
   "source": [
    "[0]*5"
   ]
  }
 ],
 "metadata": {
  "kernelspec": {
   "display_name": "Python 3",
   "language": "python",
   "name": "python3"
  },
  "language_info": {
   "codemirror_mode": {
    "name": "ipython",
    "version": 3
   },
   "file_extension": ".py",
   "mimetype": "text/x-python",
   "name": "python",
   "nbconvert_exporter": "python",
   "pygments_lexer": "ipython3",
   "version": "3.7.6"
  }
 },
 "nbformat": 4,
 "nbformat_minor": 4
}
