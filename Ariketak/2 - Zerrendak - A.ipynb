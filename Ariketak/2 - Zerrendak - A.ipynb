{
 "cells": [
  {
   "cell_type": "markdown",
   "metadata": {},
   "source": [
    "## 1\n",
    "Demagun n dimentsiotako bektoreak zerrenda edo n-kote baten bitartez errepresentatzen ditugula. Idatzi ondoko eragiketak kalkulatuko dituzten funtzioak:\n",
    "* a. Bektore baten moduloa\n",
    "* b. Bektore eta eskalar baten arteko biderkadura eskalarra\n",
    "* c. Bi bektoreen arteko batura\n",
    "* d. Bi bektoreen arteko biderkadura eskalarra\n",
    "* e. Bektore baten proiekzioa beste bektore baten gain\n",
    "* f. Bi bektoreen arteko angelua"
   ]
  },
  {
   "cell_type": "code",
   "execution_count": 8,
   "metadata": {},
   "outputs": [],
   "source": [
    "def bid_esk(a,b):\n",
    "    e = 0\n",
    "    for i in range(len(a)):\n",
    "        e +=  a[i] * b[i]\n",
    "    return e\n",
    "\n",
    "def bid_esk(a,b):\n",
    "    e = 0\n",
    "    for ai,bi in zip(a,b):\n",
    "        e +=  ai * bi\n",
    "    return e "
   ]
  },
  {
   "cell_type": "code",
   "execution_count": 33,
   "metadata": {},
   "outputs": [
    {
     "name": "stdout",
     "output_type": "stream",
     "text": [
      "True\n"
     ]
    },
    {
     "data": {
      "text/plain": [
       "(3.5704282870022457e-16+5.830951894845301j)"
      ]
     },
     "execution_count": 33,
     "metadata": {},
     "output_type": "execute_result"
    }
   ],
   "source": [
    "from math import sqrt\n",
    "#help(sqrt)\n",
    "print(sqrt(34) == 34**0.5)\n",
    "#sqrt(-34)\n",
    "(-34)**0.5"
   ]
  },
  {
   "cell_type": "code",
   "execution_count": 36,
   "metadata": {},
   "outputs": [],
   "source": [
    "from math import sqrt\n",
    "def modulua(a):\n",
    "    e = 0\n",
    "    for ai in a:\n",
    "        e +=  ai * ai\n",
    "    #return e**0.5\n",
    "    return sqrt(e)\n",
    "\n",
    "def modulua(a):\n",
    "    return sqrt(bid_esk(a,a))"
   ]
  },
  {
   "cell_type": "code",
   "execution_count": 48,
   "metadata": {},
   "outputs": [
    {
     "data": {
      "text/plain": [
       "1.5707963267948966"
      ]
     },
     "execution_count": 48,
     "metadata": {},
     "output_type": "execute_result"
    }
   ],
   "source": [
    "import math\n",
    "math.acos(0)"
   ]
  },
  {
   "cell_type": "code",
   "execution_count": 52,
   "metadata": {},
   "outputs": [],
   "source": [
    "from math import acos\n",
    "def angelua(a,b):\n",
    "    return acos(bid_esk(a,b) / (modulua(a) * modulua(b)))"
   ]
  },
  {
   "cell_type": "code",
   "execution_count": 53,
   "metadata": {},
   "outputs": [
    {
     "name": "stdout",
     "output_type": "stream",
     "text": [
      "0\n",
      "14\n",
      "3.7416573867739413\n",
      "0.7468985930690364\n"
     ]
    }
   ],
   "source": [
    "x1 = [1,0,3]\n",
    "x2 = [0,4,0]\n",
    "print(bid_esk(x1,x2))\n",
    "x1 = [1,2,3]\n",
    "x2 = [3,4,1]\n",
    "print(bid_esk(x1,x2))\n",
    "print(modulua(x1))\n",
    "print(angelua(x1,x2))"
   ]
  }
 ],
 "metadata": {
  "kernelspec": {
   "display_name": "Python 3",
   "language": "python",
   "name": "python3"
  },
  "language_info": {
   "codemirror_mode": {
    "name": "ipython",
    "version": 3
   },
   "file_extension": ".py",
   "mimetype": "text/x-python",
   "name": "python",
   "nbconvert_exporter": "python",
   "pygments_lexer": "ipython3",
   "version": "3.7.6"
  }
 },
 "nbformat": 4,
 "nbformat_minor": 4
}
