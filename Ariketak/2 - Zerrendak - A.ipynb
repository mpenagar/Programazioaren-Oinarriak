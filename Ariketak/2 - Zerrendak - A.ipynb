{
 "cells": [
  {
   "cell_type": "markdown",
   "metadata": {},
   "source": [
    "## 1\n",
    "Demagun n dimentsiotako bektoreak zerrenda edo n-kote baten bitartez errepresentatzen ditugula. Idatzi ondoko eragiketak kalkulatuko dituzten funtzioak:\n",
    "* a. Bektore baten moduloa\n",
    "* b. Bektore eta eskalar baten arteko biderkadura eskalarra\n",
    "* c. Bi bektoreen arteko batura\n",
    "* d. Bi bektoreen arteko biderkadura eskalarra\n",
    "* e. Bektore baten proiekzioa beste bektore baten gain\n",
    "* f. Bi bektoreen arteko angelua"
   ]
  },
  {
   "cell_type": "code",
   "execution_count": null,
   "metadata": {},
   "outputs": [],
   "source": [
    "def bid_esk(a,b):\n",
    "    b = 0\n",
    "    for i in range(len(a)):\n",
    "        x = a[i] * b[i]\n",
    "        b += x\n",
    "    retur \n",
    "        "
   ]
  }
 ],
 "metadata": {
  "kernelspec": {
   "display_name": "Python 3",
   "language": "python",
   "name": "python3"
  },
  "language_info": {
   "codemirror_mode": {
    "name": "ipython",
    "version": 3
   },
   "file_extension": ".py",
   "mimetype": "text/x-python",
   "name": "python",
   "nbconvert_exporter": "python",
   "pygments_lexer": "ipython3",
   "version": "3.7.6"
  }
 },
 "nbformat": 4,
 "nbformat_minor": 4
}
