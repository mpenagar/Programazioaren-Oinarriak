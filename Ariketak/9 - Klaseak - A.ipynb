{
 "cells": [
  {
   "cell_type": "markdown",
   "metadata": {},
   "source": [
    "## 4\n",
    "\n",
    "MySet klasea. Multzo bat adierazten duen klasea (multzo batetan ezin da elementu errepikaturik gorde). Multzo bat inplementatzeko egitura aproposena Hash Taula bat bada ere, zerrenda bat erabili ariketa honetan. Ondoko funtzioak sortu:\n",
    " __init__(self,it): Multzo bat hasieratuko du iteragarri baten elementu guztiekin\n",
    " __iter__(self) : multzoko elementuen gaineko iteradore bat bueltatuko duen funtzioa\n",
    " __str__(self) eta __repr__(self)\n",
    " __len__(self): multzoko elementu kopurua bueltatzen du\n",
    " __contains__(self,value) : multzoan balio bat ote dagoen konprobatzen du\n",
    " add(self,value) : elementu berri bat gehitzen du multzo batetara, aurrez elementu hori ez bazegoen.\n",
    " addall(self,it): iteragarri batetako elementu guztiak gehitzen dizkio\n",
    " remove(self,value): elementu bat ezabatzen du\n",
    " removeall(self,it): iteragarri batetako elementu guztiak ezabatzen ditu\n",
    " __add__(self,other) : bi multzoen bilketa den multzo berria bueltatzen du.\n",
    " __sub__(self,other) : multzoari beste multzoko elementu guztiak kentzean lortzen den multzo berria bueltatzen du.\n",
    " __eq__(self,other) : multzoa beste multzo baten berdina ote den bueltatzen du.\n",
    " __ne__(self,other) : multzoa beste multzo baten ezberdina ote den bueltatzen du."
   ]
  },
  {
   "cell_type": "code",
   "execution_count": 28,
   "metadata": {},
   "outputs": [
    {
     "name": "stdout",
     "output_type": "stream",
     "text": [
      "\n",
      "--- __init__ ---\n",
      "['a', 'e', 'i', 'o', 'u']\n",
      "\n",
      "--- __contains__ ---\n",
      "True False\n",
      "\n",
      "--- add, addall ---\n",
      "['a', 'e', 'i', 'o', 'u', 'x', 'y', 'z']\n",
      "\n",
      "--- __str__ , __repr__ ---\n",
      "{'a', 'e', 'i', 'o', 'u', 'x', 'y', 'z'}\n",
      "MySet(('a', 'e', 'i', 'o', 'u', 'x', 'y', 'z'))\n",
      "True {'a', 'e', 'i', 'o', 'u', 'x', 'y', 'z'}\n"
     ]
    }
   ],
   "source": [
    "class MySet(object):\n",
    "    \n",
    "    def __init__(self, it=()):\n",
    "        self.z = []\n",
    "        self.addall(it)\n",
    "        \n",
    "    def __contains__(self,value) :\n",
    "        return value in self.z\n",
    "        \n",
    "    def add(self,value) :\n",
    "        if value not in self.z :\n",
    "            self.z.append(value)        \n",
    "      \n",
    "    def addall(self,it):\n",
    "        for x in it :\n",
    "            self.add(x)\n",
    "            \n",
    "    def __str__(self):\n",
    "        return \"{\" + \", \".join(repr(x) for x in self.z) + \"}\"\n",
    "    \n",
    "    def __repr__(self):\n",
    "        return \"MySet((\" + \", \".join(repr(x) for x in self.z) + \"))\"\n",
    "\n",
    "    \n",
    "# __init__\n",
    "print('\\n--- __init__ ---')\n",
    "m = MySet(\"aeiouaei\")\n",
    "print(m.z)\n",
    "\n",
    "# __contains__\n",
    "print('\\n--- __contains__ ---')\n",
    "print(\"e\" in m, \"q\" in m)\n",
    "\n",
    "# add, addall\n",
    "print('\\n--- add, addall ---')\n",
    "m.addall(\"aeixyz\")\n",
    "print(m.z)\n",
    "\n",
    "# __str__ , __repr__\n",
    "print('\\n--- __str__ , __repr__ ---')\n",
    "print(m)\n",
    "print(repr(m))\n",
    "m2 = eval(repr(m))\n",
    "print(type(m)==type(m2), m2)\n"
   ]
  },
  {
   "cell_type": "code",
   "execution_count": null,
   "metadata": {},
   "outputs": [],
   "source": []
  }
 ],
 "metadata": {
  "kernelspec": {
   "display_name": "Python 3",
   "language": "python",
   "name": "python3"
  },
  "language_info": {
   "codemirror_mode": {
    "name": "ipython",
    "version": 3
   },
   "file_extension": ".py",
   "mimetype": "text/x-python",
   "name": "python",
   "nbconvert_exporter": "python",
   "pygments_lexer": "ipython3",
   "version": "3.7.6"
  }
 },
 "nbformat": 4,
 "nbformat_minor": 4
}
