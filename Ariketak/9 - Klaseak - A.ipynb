{
 "cells": [
  {
   "cell_type": "markdown",
   "metadata": {},
   "source": [
    "## 4\n",
    "\n",
    "MySet klasea. Multzo bat adierazten duen klasea (multzo batetan ezin da elementu errepikaturik gorde). Multzo bat inplementatzeko egitura aproposena Hash Taula bat bada ere, zerrenda bat erabili ariketa honetan. Ondoko funtzioak sortu:\n",
    " __init__(self,it): Multzo bat hasieratuko du iteragarri baten elementu guztiekin\n",
    " __iter__(self) : multzoko elementuen gaineko iteradore bat bueltatuko duen funtzioa\n",
    " __str__(self) eta __repr__(self)\n",
    " __len__(self): multzoko elementu kopurua bueltatzen du\n",
    " __contains__(self,value) : multzoan balio bat ote dagoen konprobatzen du\n",
    " add(self,value) : elementu berri bat gehitzen du multzo batetara, aurrez elementu hori ez bazegoen.\n",
    " addall(self,it): iteragarri batetako elementu guztiak gehitzen dizkio\n",
    " remove(self,value): elementu bat ezabatzen du\n",
    " removeall(self,it): iteragarri batetako elementu guztiak ezabatzen ditu\n",
    " __add__(self,other) : bi multzoen bilketa den multzo berria bueltatzen du.\n",
    " __sub__(self,other) : multzoari beste multzoko elementu guztiak kentzean lortzen den multzo berria bueltatzen du.\n",
    " __eq__(self,other) : multzoa beste multzo baten berdina ote den bueltatzen du.\n",
    " __ne__(self,other) : multzoa beste multzo baten ezberdina ote den bueltatzen du."
   ]
  },
  {
   "cell_type": "code",
   "execution_count": null,
   "metadata": {},
   "outputs": [],
   "source": [
    "class MySet(object):\n",
    "    \n",
    "    def __init__(self):\n",
    "        self.z = []\n",
    "        self.n = 0"
   ]
  }
 ],
 "metadata": {
  "kernelspec": {
   "display_name": "Python 3",
   "language": "python",
   "name": "python3"
  },
  "language_info": {
   "codemirror_mode": {
    "name": "ipython",
    "version": 3
   },
   "file_extension": ".py",
   "mimetype": "text/x-python",
   "name": "python",
   "nbconvert_exporter": "python",
   "pygments_lexer": "ipython3",
   "version": "3.7.6"
  }
 },
 "nbformat": 4,
 "nbformat_minor": 4
}
