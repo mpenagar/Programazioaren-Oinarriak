{
 "cells": [
  {
   "cell_type": "markdown",
   "metadata": {},
   "source": [
    "## 5\n",
    "Idatzi funtzio bat, lehenengo n zenbaki lehenen zerrenda gorakorra jasota, hurrengo zenbaki lehena bueltatuko duena. Hurrengo sekuentziek ondoko balioa bueltatu beharko lukete:\n",
    "* `[]` $\\to$ 2\n",
    "* `[2]` $\\to$ 3\n",
    "* `[2,3]` $\\to$ 5\n",
    "* `[2,3,5]` $\\to$ 7"
   ]
  },
  {
   "cell_type": "code",
   "execution_count": 5,
   "metadata": {},
   "outputs": [
    {
     "name": "stdout",
     "output_type": "stream",
     "text": [
      "2\n",
      "7\n"
     ]
    }
   ],
   "source": [
    "def zatigarria_ote(i,z):\n",
    "    for j in z :\n",
    "        if i%j == 0 :\n",
    "            return True\n",
    "    return False\n",
    "\n",
    "def hurrengo_lehena(z):\n",
    "    if not z :\n",
    "        return 2\n",
    "    i = z[-1]+1\n",
    "    while True :\n",
    "        if not zatigarria_ote(i,z):\n",
    "            return i\n",
    "        i += 1\n",
    "\n",
    "def hurrengo_lehena(z):\n",
    "    if not z :\n",
    "        return 2\n",
    "    i = z[-1]+1\n",
    "    while zatigarria_ote(i,z) :\n",
    "        i += 1\n",
    "    return i\n",
    "\n",
    "print(hurrengo_lehena([]))\n",
    "z = [2,3,5]\n",
    "print(hurrengo_lehena(z))\n",
    "# z = []\n",
    "# while True :\n",
    "#     z.append(hurrengo_lehena(z))\n",
    "#     print(z)"
   ]
  }
 ],
 "metadata": {
  "kernelspec": {
   "display_name": "Python 3",
   "language": "python",
   "name": "python3"
  },
  "language_info": {
   "codemirror_mode": {
    "name": "ipython",
    "version": 3
   },
   "file_extension": ".py",
   "mimetype": "text/x-python",
   "name": "python",
   "nbconvert_exporter": "python",
   "pygments_lexer": "ipython3",
   "version": "3.7.6"
  }
 },
 "nbformat": 4,
 "nbformat_minor": 4
}
