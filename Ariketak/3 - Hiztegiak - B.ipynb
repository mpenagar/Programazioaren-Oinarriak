{
 "cells": [
  {
   "cell_type": "markdown",
   "metadata": {},
   "source": [
    "## 5\n",
    "Idatzi funtzio bat, lehenengo n zenbaki lehenen zerrenda gorakorra jasota, hurrengo zenbaki lehena bueltatuko duena. Hurrengo sekuentziek ondoko balioa bueltatu beharko lukete:\n",
    "* `[]` $\\to$ 2\n",
    "* `[2]` $\\to$ 3\n",
    "* `[2,3]` $\\to$ 5\n",
    "* `[2,3,5]` $\\to$ 7"
   ]
  },
  {
   "cell_type": "code",
   "execution_count": 5,
   "metadata": {},
   "outputs": [
    {
     "name": "stdout",
     "output_type": "stream",
     "text": [
      "2\n",
      "7\n"
     ]
    }
   ],
   "source": [
    "def zatigarria_ote(i,z):\n",
    "    for j in z :\n",
    "        if i%j == 0 :\n",
    "            return True\n",
    "    return False\n",
    "\n",
    "def hurrengo_lehena(z):\n",
    "    if not z :\n",
    "        return 2\n",
    "    i = z[-1]+1\n",
    "    while True :\n",
    "        if not zatigarria_ote(i,z):\n",
    "            return i\n",
    "        i += 1\n",
    "\n",
    "def hurrengo_lehena(z):\n",
    "    if not z :\n",
    "        return 2\n",
    "    i = z[-1]+1\n",
    "    while zatigarria_ote(i,z) :\n",
    "        i += 1\n",
    "    return i\n",
    "\n",
    "print(hurrengo_lehena([]))\n",
    "z = [2,3,5]\n",
    "print(hurrengo_lehena(z))\n",
    "# z = []\n",
    "# while True :\n",
    "#     z.append(hurrengo_lehena(z))\n",
    "#     print(z)"
   ]
  },
  {
   "cell_type": "markdown",
   "metadata": {},
   "source": [
    "## 7\n",
    "Matrize bat sakabanatua edo dispertsoa dela diogu bere balio gehienak 0 direnean. Matrize sakabanatuak adierazteko aukera bat hiztegiak erabiliz da, 0-ren ezberdinak diren balioak soilik adieraziz eta gako moduan (i,j) indize bikoteak erabiliz. Adibidez: A = [ [0,0,3.7,0], [-1.4,0,0,5.21], [0,0,0,1.5], [2.04,1.92,0,0] ] matrizea ondoko hiztegiaren bidez adierazi genezake: { (0,2): 3.7, (1,0): -1.4, (1,3): 5.21, (2,3): 1.5, (3,0): 2.04, (3,1): 1.92 }. Sortu itzazu ondoko funtzioak:\n",
    "* Matrize dispertso bat pantailatik idatzi (bere eduki osoa, 0-ak barne)\n",
    "* Bi matrizeen batura\n",
    "* Bi matrizeen biderkarura"
   ]
  },
  {
   "cell_type": "code",
   "execution_count": 7,
   "metadata": {},
   "outputs": [],
   "source": [
    "def print_sparse_matrix(A):\n",
    "    for i in range(??):\n",
    "        for j in range(??):\n",
    "            print(A.get((i,j),0), end='\\n')\n",
    "    pass"
   ]
  },
  {
   "cell_type": "code",
   "execution_count": 13,
   "metadata": {},
   "outputs": [
    {
     "data": {
      "text/plain": [
       "0"
      ]
     },
     "execution_count": 13,
     "metadata": {},
     "output_type": "execute_result"
    }
   ],
   "source": [
    "A = { (0,2): 3.7, (1,0): -1.4, (1,3): 5.21, (2,3): 1.5, (3,0): 2.04, (3,1): 1.92 }\n",
    "print_sparse_matrix(A)\n",
    "A.get((i,j),0)"
   ]
  }
 ],
 "metadata": {
  "kernelspec": {
   "display_name": "Python 3",
   "language": "python",
   "name": "python3"
  },
  "language_info": {
   "codemirror_mode": {
    "name": "ipython",
    "version": 3
   },
   "file_extension": ".py",
   "mimetype": "text/x-python",
   "name": "python",
   "nbconvert_exporter": "python",
   "pygments_lexer": "ipython3",
   "version": "3.7.6"
  }
 },
 "nbformat": 4,
 "nbformat_minor": 4
}
