{
 "cells": [
  {
   "cell_type": "markdown",
   "metadata": {},
   "source": [
    "### 4\n",
    "Testu fitxategi baten bideizena jaso eta hiztegi bat bueltatuko duen funtzioa idatzi. Hiztegiaren gakoak hitzak izango dira, eta balioak (i,j) bikote zerrenda, hitz bakoitzaren agerpenaren i-ilara eta j-zutabea (ilara bakoitzaren barnean duen posizioa). Indizeak 1-etik aurrera hasiko dira."
   ]
  },
  {
   "cell_type": "code",
   "execution_count": 5,
   "metadata": {},
   "outputs": [],
   "source": [
    "def f4(bideizena,kodifikazioa='utf8'):\n",
    "    with open(bideizena,encoding=kodifikazioa) as f:\n",
    "        h = {}\n",
    "        for i,ilara in enumerate(f,1) :\n",
    "            for j,hitza in enumerate(ilara.split(),1):\n",
    "                if hitza in h :\n",
    "                    h[hitza].append((i,j))\n",
    "                else :\n",
    "                    h[hitza] = [(i,j)]\n",
    "        return h           "
   ]
  },
  {
   "cell_type": "code",
   "execution_count": 5,
   "metadata": {},
   "outputs": [],
   "source": [
    "def f4(bideizena,kodifikazioa='utf8'):\n",
    "    with open(bideizena,encoding=kodifikazioa) as f:\n",
    "        h = {}\n",
    "        for i,ilara in enumerate(f,1) :\n",
    "            for j,hitza in enumerate(ilara.split(),1):                \n",
    "                #if hitza not in h :\n",
    "                #    h[hitza] = []\n",
    "                #h[hitza].append((i,j))\n",
    "                h.setdefault(hitza,[]).append((i,j))\n",
    "        return h           "
   ]
  },
  {
   "cell_type": "code",
   "execution_count": 10,
   "metadata": {},
   "outputs": [
    {
     "name": "stdout",
     "output_type": "stream",
     "text": [
      "(101, 'a') (102, 'e') (103, 'i') (104, 'o') (105, 'u')\n"
     ]
    }
   ],
   "source": [
    "print(*enumerate(\"aeiou\",101))"
   ]
  },
  {
   "cell_type": "code",
   "execution_count": 11,
   "metadata": {},
   "outputs": [],
   "source": [
    "def f4(bideizena,kodifikazioa='utf8'):\n",
    "    with open(bideizena,encoding=kodifikazioa) as f:\n",
    "        h = {}\n",
    "        for i,ilara in enumerate(f,1) :\n",
    "            for j,hitza in enumerate(ilara.split(),1):\n",
    "                if hitza in h :\n",
    "                    h[hitza].append((i,j))\n",
    "                else :\n",
    "                    h[hitza] = [(i,j)]\n",
    "        return h           "
   ]
  },
  {
   "cell_type": "code",
   "execution_count": 7,
   "metadata": {},
   "outputs": [
    {
     "data": {
      "text/plain": [
       "{'in': [(1, 1), (6, 9)],\n",
       " 'the': [(1, 2),\n",
       "  (1, 6),\n",
       "  (1, 9),\n",
       "  (2, 2),\n",
       "  (2, 13),\n",
       "  (2, 16),\n",
       "  (2, 19),\n",
       "  (2, 25),\n",
       "  (2, 28),\n",
       "  (4, 4),\n",
       "  (4, 13),\n",
       "  (4, 16),\n",
       "  (5, 4),\n",
       "  (5, 8),\n",
       "  (5, 14),\n",
       "  (5, 17),\n",
       "  (5, 20),\n",
       "  (6, 10),\n",
       "  (6, 13),\n",
       "  (6, 19),\n",
       "  (6, 22),\n",
       "  (7, 4),\n",
       "  (7, 8),\n",
       "  (7, 13),\n",
       "  (7, 16),\n",
       "  (7, 21),\n",
       "  (8, 4),\n",
       "  (8, 8),\n",
       "  (8, 11),\n",
       "  (8, 14),\n",
       "  (9, 5),\n",
       "  (9, 8),\n",
       "  (9, 18)],\n",
       " 'beginning': [(1, 3)],\n",
       " 'god': [(1, 4),\n",
       "  (2, 22),\n",
       "  (3, 2),\n",
       "  (4, 2),\n",
       "  (4, 11),\n",
       "  (5, 2),\n",
       "  (6, 2),\n",
       "  (7, 2),\n",
       "  (8, 2),\n",
       "  (9, 2)],\n",
       " 'created': [(1, 5)],\n",
       " 'heaven': [(1, 7), (8, 6), (9, 9)],\n",
       " 'and': [(1, 8),\n",
       "  (2, 1),\n",
       "  (2, 7),\n",
       "  (2, 9),\n",
       "  (2, 18),\n",
       "  (3, 1),\n",
       "  (3, 8),\n",
       "  (4, 1),\n",
       "  (4, 10),\n",
       "  (5, 1),\n",
       "  (5, 7),\n",
       "  (5, 13),\n",
       "  (5, 16),\n",
       "  (6, 1),\n",
       "  (6, 15),\n",
       "  (7, 1),\n",
       "  (7, 6),\n",
       "  (7, 23),\n",
       "  (8, 1),\n",
       "  (8, 7),\n",
       "  (8, 10),\n",
       "  (9, 1),\n",
       "  (9, 16),\n",
       "  (9, 22)],\n",
       " 'earth': [(1, 10), (2, 3)],\n",
       " 'was': [(2, 4), (2, 11), (3, 10), (4, 8), (7, 25), (9, 24)],\n",
       " 'without': [(2, 5)],\n",
       " 'form': [(2, 6)],\n",
       " 'void': [(2, 8)],\n",
       " 'darkness': [(2, 10), (4, 17), (5, 9)],\n",
       " 'upon': [(2, 12), (2, 24)],\n",
       " 'face': [(2, 14), (2, 26)],\n",
       " 'of': [(2, 15), (2, 21), (2, 27), (6, 12)],\n",
       " 'deep': [(2, 17)],\n",
       " 'spirit': [(2, 20)],\n",
       " 'moved': [(2, 23)],\n",
       " 'waters': [(2, 29), (6, 14), (6, 20), (6, 23), (7, 9), (7, 17), (9, 6)],\n",
       " 'said': [(3, 3), (6, 3), (9, 3)],\n",
       " 'let': [(3, 4), (6, 4), (6, 16), (9, 4), (9, 17)],\n",
       " 'there': [(3, 5), (3, 9), (6, 5)],\n",
       " 'be': [(3, 6), (6, 6), (9, 10)],\n",
       " 'light': [(3, 7), (3, 11), (4, 5), (4, 14), (5, 5)],\n",
       " 'saw': [(4, 3)],\n",
       " 'that': [(4, 6)],\n",
       " 'it': [(4, 7), (6, 17), (7, 24), (9, 23)],\n",
       " 'good': [(4, 9)],\n",
       " 'divided': [(4, 12), (7, 7)],\n",
       " 'from': [(4, 15), (6, 21), (7, 15)],\n",
       " 'called': [(5, 3), (5, 11), (8, 3)],\n",
       " 'day': [(5, 6), (5, 22), (8, 16)],\n",
       " 'he': [(5, 10)],\n",
       " 'night': [(5, 12)],\n",
       " 'evening': [(5, 15), (8, 9)],\n",
       " 'morning': [(5, 18), (8, 12)],\n",
       " 'were': [(5, 19), (7, 11), (7, 19), (8, 13)],\n",
       " 'first': [(5, 21)],\n",
       " 'a': [(6, 7), (10, 1)],\n",
       " 'firmament': [(6, 8), (7, 5), (7, 14), (7, 22), (8, 5)],\n",
       " 'midst': [(6, 11)],\n",
       " 'divide': [(6, 18)],\n",
       " 'made': [(7, 3)],\n",
       " 'which': [(7, 10), (7, 18)],\n",
       " 'under': [(7, 12), (9, 7)],\n",
       " 'above': [(7, 20)],\n",
       " 'so': [(7, 26), (9, 25)],\n",
       " 'second': [(8, 15)],\n",
       " 'gathered': [(9, 11)],\n",
       " 'together': [(9, 12)],\n",
       " 'unto': [(9, 13)],\n",
       " 'one': [(9, 14)],\n",
       " 'place': [(9, 15)],\n",
       " 'dry': [(9, 19)],\n",
       " 'land': [(9, 20)],\n",
       " 'appear': [(9, 21)]}"
      ]
     },
     "execution_count": 7,
     "metadata": {},
     "output_type": "execute_result"
    }
   ],
   "source": [
    "f4('minibible.clean.txt')"
   ]
  },
  {
   "cell_type": "markdown",
   "metadata": {},
   "source": [
    "### 7\n",
    "Matrize bat sakabanatua edo dispertsoa dela diogu bere balio gehienak 0 direnean. Matrize sakabanatuak adierazteko aukera bat hiztegiak erabiliz da, 0-ren ezberdinak diren balioak soilik adieraziz eta gako moduan (i,j) indize bikoteak erabiliz. Adibidez: `M = [ [0,0,3.7,0], [-1.4,0,0,5.21], [0,0,0,1.5], [2.04,1.92,0,0] ]` matrizea ondoko hiztegiaren bidez adierazi genezake: `A = { (0,2): 3.7, (1,0): -1.4, (1,3): 5.21, (2,3): 1.5, (3,0): 2.04, (3,1): 1.92 }`. Sortu itzazu ondoko funtzioak:\n",
    "\n",
    "* Matrize dispertso bat pantailatik idatzi (bere eduki osoa, 0-ak barne)\n",
    "* Bi matrizeen batura\n",
    "* Bi matrizeen biderkarura"
   ]
  },
  {
   "cell_type": "code",
   "execution_count": 17,
   "metadata": {},
   "outputs": [],
   "source": [
    "def tamaina(A):\n",
    "    ilara,zutabe = -1,-1\n",
    "    #ilara,zutabe = next(iter(A))\n",
    "    for i,j in A:\n",
    "        if i > ilara:\n",
    "            ilara = i\n",
    "        if j > zutabe :\n",
    "            zutabe = j\n",
    "    return ilara+1,zutabe+1"
   ]
  },
  {
   "cell_type": "code",
   "execution_count": 20,
   "metadata": {},
   "outputs": [],
   "source": [
    "def printm(A):\n",
    "    ilara,zutabe = tamaina(A)\n",
    "    for i in range(ilara) :\n",
    "        for j in range(zutabe) :\n",
    "            print(A.get((i,j),0),end='\\t')\n",
    "        print()"
   ]
  },
  {
   "cell_type": "code",
   "execution_count": 21,
   "metadata": {},
   "outputs": [
    {
     "name": "stdout",
     "output_type": "stream",
     "text": [
      "0\t0\t3.7\t0\t\n",
      "-1.4\t0\t0\t5.21\t\n",
      "0\t0\t0\t1.5\t\n",
      "2.04\t1.92\t0\t0\t\n"
     ]
    }
   ],
   "source": [
    "A = { (0,2): 3.7, (1,0): -1.4, (1,3): 5.21, (2,3): 1.5, (3,0): 2.04, (3,1): 1.92 }\n",
    "printm(A)"
   ]
  },
  {
   "cell_type": "code",
   "execution_count": 23,
   "metadata": {},
   "outputs": [],
   "source": [
    "def batu(A,B):\n",
    "    C = A.copy()\n",
    "    for ij,bal in B.items() :\n",
    "        if ij in C :\n",
    "            C[ij] += bal\n",
    "            if C[ij] == 0.0:\n",
    "                del C[ij]\n",
    "        else:\n",
    "            C[ij] = bal\n",
    "    return C"
   ]
  },
  {
   "cell_type": "code",
   "execution_count": 24,
   "metadata": {},
   "outputs": [
    {
     "name": "stdout",
     "output_type": "stream",
     "text": [
      "0\t0\t7.4\t0\t\n",
      "-2.8\t0\t0\t10.42\t\n",
      "0\t0\t0\t3.0\t\n",
      "4.08\t3.84\t0\t0\t\n"
     ]
    }
   ],
   "source": [
    "printm(batu(A,A))"
   ]
  },
  {
   "cell_type": "code",
   "execution_count": 24,
   "metadata": {
    "scrolled": true
   },
   "outputs": [
    {
     "name": "stdout",
     "output_type": "stream",
     "text": [
      "0\t0\t7.4\t0\t\n",
      "-2.8\t0\t0\t10.42\t\n",
      "0\t0\t0\t3.0\t\n",
      "4.08\t3.84\t0\t0\t\n"
     ]
    }
   ],
   "source": [
    "printm(batu(A,A))"
   ]
  }
 ],
 "metadata": {
  "kernelspec": {
   "display_name": "Python 3",
   "language": "python",
   "name": "python3"
  },
  "language_info": {
   "codemirror_mode": {
    "name": "ipython",
    "version": 3
   },
   "file_extension": ".py",
   "mimetype": "text/x-python",
   "name": "python",
   "nbconvert_exporter": "python",
   "pygments_lexer": "ipython3",
   "version": "3.7.6"
  }
 },
 "nbformat": 4,
 "nbformat_minor": 4
}
