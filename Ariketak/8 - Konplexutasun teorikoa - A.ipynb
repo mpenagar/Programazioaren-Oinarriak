{
 "cells": [
  {
   "cell_type": "markdown",
   "metadata": {},
   "source": [
    "## 5\n",
    "Zenbaki zerrenda batetan balio baten posizioa topatu (edo None, ez badago)."
   ]
  },
  {
   "cell_type": "code",
   "execution_count": null,
   "metadata": {},
   "outputs": [],
   "source": []
  },
  {
   "cell_type": "markdown",
   "metadata": {},
   "source": [
    "## 7\n",
    "Hiztegi edo multzorik erabili gabe, zerrenda batetan agertzen diren elementu ezberdinen\n",
    "kopurua."
   ]
  },
  {
   "cell_type": "code",
   "execution_count": 2,
   "metadata": {},
   "outputs": [
    {
     "data": {
      "text/plain": [
       "10"
      ]
     },
     "execution_count": 2,
     "metadata": {},
     "output_type": "execute_result"
    }
   ],
   "source": [
    "def elementu_kopurua(z):\n",
    "    z_aux = []\n",
    "    for x in z:\n",
    "        if x not in z_aux :\n",
    "            z_aux.append(x)\n",
    "    return len(z_aux)\n",
    "\n",
    "elementu_kopurua(list(range(10))*3)"
   ]
  },
  {
   "cell_type": "markdown",
   "metadata": {},
   "source": [
    "Problemaren tamaina: `n = len(z)`\n",
    "\n",
    "```python\n",
    "def elementu_kopurua(z):\n",
    "    z_aux = []                 --> 1 p\n",
    "    for x in z:                --> n x 1 p\n",
    "        if x not in z_aux :    --> n x ???\n",
    "            z_aux.append(x)    --> ??? x 1\n",
    "    return len(z_aux)          --> 1 p\n",
    "```"
   ]
  },
  {
   "cell_type": "markdown",
   "metadata": {},
   "source": [
    "**tamaina:** `n = len(z)`\n",
    "\n",
    "* **Kasu ona**: z-ko elementu guztiak berdinak dira --> `len(z_aux) <= 1` \n",
    "\n",
    "```python\n",
    "def elementu_kopurua(z):\n",
    "    z_aux = []                --> 1 p\n",
    "    for x in z:               --> n x 1 p \n",
    "        if x not in z_aux :   --> n x 1 p \n",
    "            z_aux.append(x)   --> aurrekoarekin \n",
    "    return len(z_aux)         --> 1 p \n",
    "```\n",
    "$\\to t(n) = n + 1$\n",
    "\n",
    "* **Kasu txarra**: z-ko elementu guztiak berdinak dira --> `len(z_aux) handituz` \n",
    "\n",
    "```python\n",
    "def elementu_kopurua(z):\n",
    "    z_aux = []                --> 1 p\n",
    "    for x in z:               --> n x 1 p \n",
    "        if x not in z_aux :   --> n x ?????  --> 1 + 2 + 3 + .. + n \n",
    "            z_aux.append(x)   --> aurrekoarekin \n",
    "    return len(z_aux)         --> 1 p \n",
    "```\n",
    "$\\to t(n) = n^2 n + 1$\n"
   ]
  },
  {
   "cell_type": "markdown",
   "metadata": {},
   "source": [
    "## 8\n",
    "Hiztegi bat erabiliz:"
   ]
  },
  {
   "cell_type": "code",
   "execution_count": 3,
   "metadata": {},
   "outputs": [
    {
     "data": {
      "text/plain": [
       "10"
      ]
     },
     "execution_count": 3,
     "metadata": {},
     "output_type": "execute_result"
    }
   ],
   "source": [
    "def elementu_kopurua(z):\n",
    "    h ={}\n",
    "    for x in z:\n",
    "        if x not in  h :\n",
    "            h[x] = 1\n",
    "        else :\n",
    "            h[x] += 1\n",
    "    return len(h)\n",
    "\n",
    "def elementu_kopurua(z):\n",
    "    h ={}\n",
    "    for x in z:\n",
    "        h[x] = h.get(x,0) + 1\n",
    "    return len(h)        \n",
    "\n",
    "def elementu_kopurua(z):\n",
    "    h ={}\n",
    "    for x in z:\n",
    "        h[x] = None\n",
    "    return len(h)      \n",
    "\n",
    "def elementu_kopurua(z):\n",
    "    h ={ x:None for x in z }\n",
    "    return len(h)\n",
    "\n",
    "def elementu_kopurua(z):\n",
    "    h = dict.fromkeys(z)\n",
    "    return len(h)\n",
    "\n",
    "elementu_kopurua(list(range(10))*3)"
   ]
  },
  {
   "cell_type": "markdown",
   "metadata": {},
   "source": [
    "```python\n",
    "def elementu_kopurua(z):\n",
    "    h ={}              --> 1 p\n",
    "    for x in z:        --> n x 1p\n",
    "        h[x] = None    --> n x 1p\n",
    "    return len(h)      --> 1p\n",
    "```\n",
    "\n",
    "$t(n) = n + 1$"
   ]
  },
  {
   "cell_type": "markdown",
   "metadata": {},
   "source": [
    "Multzo bat erabiliz:"
   ]
  },
  {
   "cell_type": "code",
   "execution_count": 5,
   "metadata": {},
   "outputs": [
    {
     "data": {
      "text/plain": [
       "{3, 34}"
      ]
     },
     "execution_count": 5,
     "metadata": {},
     "output_type": "execute_result"
    }
   ],
   "source": [
    "set([34,3,34])"
   ]
  },
  {
   "cell_type": "code",
   "execution_count": 6,
   "metadata": {},
   "outputs": [
    {
     "data": {
      "text/plain": [
       "10"
      ]
     },
     "execution_count": 6,
     "metadata": {},
     "output_type": "execute_result"
    }
   ],
   "source": [
    "def elementu_kopurua(z):\n",
    "    m = set()\n",
    "    for x in z:\n",
    "        if x not in  m :\n",
    "            m.add(x)\n",
    "    return len(m)\n",
    "\n",
    "def elementu_kopurua(z):\n",
    "    m = set()\n",
    "    for x in z:\n",
    "        m.add(x)\n",
    "    return len(m)\n",
    "\n",
    "def elementu_kopurua(z):\n",
    "    #m ={ x for x in z }\n",
    "    m = set(z)\n",
    "    return len(m)\n",
    "\n",
    "elementu_kopurua(list(range(10))*3)"
   ]
  },
  {
   "cell_type": "code",
   "execution_count": null,
   "metadata": {},
   "outputs": [],
   "source": []
  }
 ],
 "metadata": {
  "kernelspec": {
   "display_name": "Python 3",
   "language": "python",
   "name": "python3"
  },
  "language_info": {
   "codemirror_mode": {
    "name": "ipython",
    "version": 3
   },
   "file_extension": ".py",
   "mimetype": "text/x-python",
   "name": "python",
   "nbconvert_exporter": "python",
   "pygments_lexer": "ipython3",
   "version": "3.7.6"
  }
 },
 "nbformat": 4,
 "nbformat_minor": 4
}
