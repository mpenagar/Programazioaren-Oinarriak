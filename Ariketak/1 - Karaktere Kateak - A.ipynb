{
 "cells": [
  {
   "cell_type": "code",
   "execution_count": 21,
   "metadata": {},
   "outputs": [
    {
     "name": "stdout",
     "output_type": "stream",
     "text": [
      "m\n"
     ]
    }
   ],
   "source": [
    "\n",
    "alpha = \"abcdefghijklmnñopqrstuvwxyz \"\n",
    "s = \"kaixo agur\"\n",
    "n = 2\n",
    "emaitza = \"mckzqbciwt\"\n",
    "\n",
    "c = \"k\"\n",
    "n = 30\n",
    "#for i in range(len(alpha)):\n",
    "#    if alpha[i] == c :\n",
    "#        j = (i+n) % len(alpha)\n",
    "#        break\n",
    "#help(alpha.find)\n",
    "#help(alpha.index)\n",
    "j = (alpha.index(c)+n) % len(alpha)\n",
    "c2 = alpha[j]\n",
    "print(c2)"
   ]
  },
  {
   "cell_type": "markdown",
   "metadata": {},
   "source": [
    "## 6\n",
    "Demagun s letra xehez osoturiko karaktere kate bat daukazula, bi funtzio idatzi lrot(s,n) eta rrot(s,n). Funtzio hauek s kateko hizkiak alfabetoraren barnean n aldiz ezkerrera (lrot) edo eskumara (rrot) errotatzen direnean emandako karaktere kateak bueltatuko dituzte."
   ]
  },
  {
   "cell_type": "code",
   "execution_count": 23,
   "metadata": {},
   "outputs": [
    {
     "data": {
      "text/plain": [
       "'mckzqbciwt'"
      ]
     },
     "execution_count": 23,
     "metadata": {},
     "output_type": "execute_result"
    }
   ],
   "source": [
    "def rrot(s,n):\n",
    "    alpha = \"abcdefghijklmnñopqrstuvwxyz \"\n",
    "    e = \"\"\n",
    "    for c in s :\n",
    "        j = (alpha.index(c)+n) % len(alpha)\n",
    "        e += alpha[j]\n",
    "    return e\n",
    "\n",
    "rrot(\"kaixo agur\",2)"
   ]
  },
  {
   "cell_type": "code",
   "execution_count": 25,
   "metadata": {},
   "outputs": [
    {
     "data": {
      "text/plain": [
       "8"
      ]
     },
     "execution_count": 25,
     "metadata": {},
     "output_type": "execute_result"
    }
   ],
   "source": [
    "(-2) % 10"
   ]
  },
  {
   "cell_type": "code",
   "execution_count": 27,
   "metadata": {},
   "outputs": [
    {
     "data": {
      "text/plain": [
       "'izgvnyzesp'"
      ]
     },
     "execution_count": 27,
     "metadata": {},
     "output_type": "execute_result"
    }
   ],
   "source": [
    "def lrot(s,n):\n",
    "    return rrot(s,-n) \n",
    "\n",
    "lrot(\"kaixo agur\",2)"
   ]
  },
  {
   "cell_type": "code",
   "execution_count": 29,
   "metadata": {},
   "outputs": [
    {
     "data": {
      "text/plain": [
       "'kaixo agur'"
      ]
     },
     "execution_count": 29,
     "metadata": {},
     "output_type": "execute_result"
    }
   ],
   "source": [
    "lrot(rrot(\"kaixo agur\",2),2)"
   ]
  },
  {
   "cell_type": "code",
   "execution_count": 30,
   "metadata": {},
   "outputs": [
    {
     "data": {
      "text/plain": [
       "'kaixo agur'"
      ]
     },
     "execution_count": 30,
     "metadata": {},
     "output_type": "execute_result"
    }
   ],
   "source": [
    "rrot(lrot(\"kaixo agur\",123),123)"
   ]
  }
 ],
 "metadata": {
  "kernelspec": {
   "display_name": "Python 3",
   "language": "python",
   "name": "python3"
  },
  "language_info": {
   "codemirror_mode": {
    "name": "ipython",
    "version": 3
   },
   "file_extension": ".py",
   "mimetype": "text/x-python",
   "name": "python",
   "nbconvert_exporter": "python",
   "pygments_lexer": "ipython3",
   "version": "3.7.6"
  }
 },
 "nbformat": 4,
 "nbformat_minor": 4
}
