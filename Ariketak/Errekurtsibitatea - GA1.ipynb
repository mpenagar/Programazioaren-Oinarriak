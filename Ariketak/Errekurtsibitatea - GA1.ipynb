{
 "cells": [
  {
   "cell_type": "markdown",
   "metadata": {},
   "source": [
    "# 9 \n",
    " Zerrenda batetako hiru elementu ezberdinen konbinaketa guztiak pantailatik erakutsiko \n",
    "dituen funtzioa"
   ]
  },
  {
   "cell_type": "code",
   "execution_count": 5,
   "metadata": {},
   "outputs": [
    {
     "name": "stdout",
     "output_type": "stream",
     "text": [
      "a e i\n",
      "a e o\n",
      "a e u\n",
      "a i o\n",
      "a i u\n",
      "a o u\n",
      "e i o\n",
      "e i u\n",
      "e o u\n",
      "i o u\n"
     ]
    }
   ],
   "source": [
    "def konbinaketak(z):\n",
    "    n = len(z)\n",
    "    for i in range(0,n-2):\n",
    "        for j in range(i+1,n-1):\n",
    "            for k in range(j+1,n):\n",
    "                print(z[i],z[j],z[k])\n",
    "                \n",
    "konbinaketak(list(\"aeiou\"))"
   ]
  },
  {
   "cell_type": "code",
   "execution_count": null,
   "metadata": {},
   "outputs": [],
   "source": [
    "def konbinaketak(z):\n",
    "    _konbinaketak(z)\n",
    "\n",
    "def _konbinaketak(z,i=0,j=1,k=2):\n",
    "    n = len(z)\n",
    "    #if i==n-3 and j==n-2 and k==n-1:\n",
    "    if i==n-3 :\n",
    "        print(z[i],z[j],z[k])\n",
    "    else :\n",
    "        _konbinaketak(z,?,?,?)\n"
   ]
  },
  {
   "cell_type": "code",
   "execution_count": null,
   "metadata": {},
   "outputs": [],
   "source": [
    "def konbinaketak(z):\n",
    "    _konbinaketak(z)\n",
    "\n",
    "def _konbinaketak(z,i=0,j=1,k=2):\n",
    "    n = len(z)\n",
    "    if i>n-3 :\n",
    "        pass\n",
    "    else :\n",
    "        _konbinaketak(z,?,?,?)\n"
   ]
  }
 ],
 "metadata": {
  "kernelspec": {
   "display_name": "Python 3",
   "language": "python",
   "name": "python3"
  },
  "language_info": {
   "codemirror_mode": {
    "name": "ipython",
    "version": 3
   },
   "file_extension": ".py",
   "mimetype": "text/x-python",
   "name": "python",
   "nbconvert_exporter": "python",
   "pygments_lexer": "ipython3",
   "version": "3.7.6"
  }
 },
 "nbformat": 4,
 "nbformat_minor": 4
}
