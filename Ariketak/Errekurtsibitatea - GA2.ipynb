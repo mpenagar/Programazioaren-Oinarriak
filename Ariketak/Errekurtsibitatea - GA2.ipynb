{
 "cells": [
  {
   "cell_type": "markdown",
   "metadata": {},
   "source": [
    "### 8\n",
    "$a^n$ espresioa kalkulatuko duen funtzioa, a zenbaki erreal bat izanda eta n zenbaki oso bat."
   ]
  },
  {
   "cell_type": "code",
   "execution_count": 19,
   "metadata": {},
   "outputs": [],
   "source": [
    "def ber(a,n):\n",
    "    if n == 0 :\n",
    "        return 1\n",
    "    else :\n",
    "        return a * ber(a,n-1)\n",
    "    \n",
    "def ber(a,n):\n",
    "    return 1 if n == 0 else a * ber(a,n-1) \n",
    "\n",
    "def ber(a,n):\n",
    "    if n == 0 :\n",
    "        return 1\n",
    "    elif n < 0 :\n",
    "        return 1/ber(a,-n)\n",
    "        #return  ber(a,n+1)/a\n",
    "    else :\n",
    "        return a * ber(a,n-1)"
   ]
  },
  {
   "cell_type": "markdown",
   "metadata": {},
   "source": [
    "tamaina: $n$\n",
    "\n",
    "$$\n",
    "t(n) = \n",
    "  \\begin{cases}\n",
    "    1 & , & n=0\\\\\n",
    "    1 + 2 \\cdot t(n-1) & , & n < 0\\\\\n",
    "    1 + 2 \\cdot t(n-1) & , & n > 0\\\\\n",
    "\\end{cases}\n",
    "$$"
   ]
  },
  {
   "cell_type": "code",
   "execution_count": 20,
   "metadata": {},
   "outputs": [
    {
     "data": {
      "text/plain": [
       "0"
      ]
     },
     "execution_count": 20,
     "metadata": {},
     "output_type": "execute_result"
    }
   ],
   "source": [
    "15**123 - ber(15,123)"
   ]
  },
  {
   "cell_type": "code",
   "execution_count": 21,
   "metadata": {},
   "outputs": [
    {
     "data": {
      "text/plain": [
       "0.0"
      ]
     },
     "execution_count": 21,
     "metadata": {},
     "output_type": "execute_result"
    }
   ],
   "source": [
    "15**-12 - ber(15,-12)"
   ]
  },
  {
   "cell_type": "code",
   "execution_count": null,
   "metadata": {},
   "outputs": [],
   "source": []
  }
 ],
 "metadata": {
  "kernelspec": {
   "display_name": "Python 3",
   "language": "python",
   "name": "python3"
  },
  "language_info": {
   "codemirror_mode": {
    "name": "ipython",
    "version": 3
   },
   "file_extension": ".py",
   "mimetype": "text/x-python",
   "name": "python",
   "nbconvert_exporter": "python",
   "pygments_lexer": "ipython3",
   "version": "3.7.6"
  }
 },
 "nbformat": 4,
 "nbformat_minor": 4
}
