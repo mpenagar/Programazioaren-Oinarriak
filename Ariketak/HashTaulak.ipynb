{
 "cells": [
  {
   "cell_type": "markdown",
   "metadata": {},
   "source": [
    "### 2"
   ]
  },
  {
   "cell_type": "code",
   "execution_count": 1,
   "metadata": {},
   "outputs": [],
   "source": [
    "def h_new(n=7):\n",
    "    # Kontuz!!!!\n",
    "    #return [[]]*n\n",
    "    \n",
    "    #h = []\n",
    "    #for i in range(n):\n",
    "    #    h.append([])\n",
    "    #return h\n",
    "\n",
    "    return [[] for i in range(n)]"
   ]
  },
  {
   "cell_type": "code",
   "execution_count": 2,
   "metadata": {},
   "outputs": [],
   "source": [
    "h = h_new()\n",
    "#print(h)\n",
    "#h[3].append(\"ljkhgl\")\n",
    "print(h)"
   ]
  },
  {
   "cell_type": "code",
   "execution_count": 3,
   "metadata": {},
   "outputs": [],
   "source": [
    "def h_lf(h):\n",
    "    return sum(len(z) for z in h) / len(h)"
   ]
  },
  {
   "cell_type": "code",
   "execution_count": 4,
   "metadata": {},
   "outputs": [],
   "source": [
    "def h_resize(h,n):\n",
    "    items = list(h_items(h))\n",
    "    h.clear()\n",
    "    #for i in range(n) :\n",
    "    #    h.append([])\n",
    "    h.extend([] for i in range(n))\n",
    "    for g,b in items:\n",
    "        h[hash(g)%n].append((g,b))    "
   ]
  },
  {
   "cell_type": "code",
   "execution_count": 5,
   "metadata": {},
   "outputs": [],
   "source": [
    "def h_put(h,g,b):\n",
    "    z = h[hash(g)%len(h)]\n",
    "    for i,(g2,b2) in enumerate(z) :\n",
    "        if g2 == g :\n",
    "            z[i] = (g,b)\n",
    "            return\n",
    "    z.append((g,b))\n",
    "    if h_lf(h) > 4 :\n",
    "        h_resize(h,len(h)*2)"
   ]
  },
  {
   "cell_type": "code",
   "execution_count": 27,
   "metadata": {},
   "outputs": [],
   "source": [
    "def h_put(h,g,b):\n",
    "    z = h[hash(g)%len(h)]\n",
    "    for i,(g2,b2) in enumerate(z) :\n",
    "        if g2 == g :\n",
    "            z[i] = (g,b)\n",
    "            break\n",
    "    else :\n",
    "        z.append((g,b))\n",
    "        if h_lf(h) > 4 :\n",
    "            h_resize(h,len(h)*2)"
   ]
  },
  {
   "cell_type": "code",
   "execution_count": 7,
   "metadata": {},
   "outputs": [],
   "source": [
    "h = h_new()\n",
    "h_put(h,\"84658827\",\"Ane Alustiza\")\n",
    "h_put(h,\"3463630\",\"Jon Perez\")\n",
    "h_put(h,\"84658827\",\"Ane Alustiza Elizburu\")\n",
    "#print(h)"
   ]
  },
  {
   "cell_type": "code",
   "execution_count": 8,
   "metadata": {},
   "outputs": [],
   "source": [
    "def h_get(h,g,d=None):\n",
    "    z = h[hash(g)%len(h)]\n",
    "    for g2,b2 in z :\n",
    "        if g2 == g :\n",
    "            return b2\n",
    "    return d    "
   ]
  },
  {
   "cell_type": "code",
   "execution_count": 9,
   "metadata": {},
   "outputs": [
    {
     "name": "stdout",
     "output_type": "stream",
     "text": [
      "Ane Alustiza Elizburu\n",
      "Jon Perez\n",
      "---\n"
     ]
    }
   ],
   "source": [
    "for x in (\"84658827\",\"3463630\",\"08598675965\") :\n",
    "    print(h_get(h,x,'---'))"
   ]
  },
  {
   "cell_type": "code",
   "execution_count": 10,
   "metadata": {},
   "outputs": [],
   "source": [
    "def h_items(h):\n",
    "    items = []\n",
    "    for z in h :\n",
    "        items.extends(z)\n",
    "    return items\n",
    "def h_items(h):\n",
    "    #items = []\n",
    "    #for z in h :\n",
    "    #    for x in z :\n",
    "    #        items.append(x)\n",
    "    #return items\n",
    "    return [ x for z in h for x in z]\n",
    "def h_items(h):\n",
    "    return ( x for z in h for x in z )"
   ]
  },
  {
   "cell_type": "code",
   "execution_count": 11,
   "metadata": {},
   "outputs": [
    {
     "name": "stdout",
     "output_type": "stream",
     "text": [
      "('3463630', 'Jon Perez') ('84658827', 'Ane Alustiza Elizburu')\n"
     ]
    }
   ],
   "source": [
    "print(*h_items(h))"
   ]
  },
  {
   "cell_type": "code",
   "execution_count": 12,
   "metadata": {},
   "outputs": [],
   "source": [
    "def h_str(h):\n",
    "    return '{' + ', '.join( f'{repr(g)}: {repr(b)}' for g,b in h_items(h))  + '}'"
   ]
  },
  {
   "cell_type": "code",
   "execution_count": 13,
   "metadata": {},
   "outputs": [
    {
     "name": "stdout",
     "output_type": "stream",
     "text": [
      "{'3463630': 'Jon Perez', '84658827': 'Ane Alustiza Elizburu'}\n"
     ]
    }
   ],
   "source": [
    "print(h_str(h))"
   ]
  },
  {
   "cell_type": "code",
   "execution_count": 14,
   "metadata": {},
   "outputs": [
    {
     "name": "stdout",
     "output_type": "stream",
     "text": [
      "Help on built-in function popitem:\n",
      "\n",
      "popitem(...) method of builtins.dict instance\n",
      "    D.popitem() -> (k, v), remove and return some (key, value) pair as a\n",
      "    2-tuple; but raise KeyError if D is empty.\n",
      "\n"
     ]
    }
   ],
   "source": [
    "help({}.popitem)"
   ]
  },
  {
   "cell_type": "code",
   "execution_count": 15,
   "metadata": {},
   "outputs": [],
   "source": [
    "def h_popitem(h):\n",
    "    for z in h :\n",
    "        if z :\n",
    "            return z.pop()\n",
    "    # Errorea: ez dago elementurik\n",
    "    raise KeyError(\"empty dictionary\") "
   ]
  },
  {
   "cell_type": "code",
   "execution_count": 24,
   "metadata": {},
   "outputs": [
    {
     "name": "stdout",
     "output_type": "stream",
     "text": [
      "Help on built-in function pop:\n",
      "\n",
      "pop(...) method of builtins.dict instance\n",
      "    D.pop(k[,d]) -> v, remove specified key and return the corresponding value.\n",
      "    If key is not found, d is returned if given, otherwise KeyError is raised\n",
      "\n"
     ]
    }
   ],
   "source": [
    "help({}.pop)"
   ]
  },
  {
   "cell_type": "code",
   "execution_count": 29,
   "metadata": {},
   "outputs": [],
   "source": [
    "def h_pop(h,g):\n",
    "    z = h[hash(g)%len(h)]\n",
    "    for i,(g2,b2) in enumerate(z) :\n",
    "        if g2 == g :\n",
    "            del z[i]\n",
    "            return b2\n",
    "    # Errorea: ez dago elementurik\n",
    "    raise KeyError(\"key not found\") "
   ]
  },
  {
   "cell_type": "code",
   "execution_count": 16,
   "metadata": {},
   "outputs": [
    {
     "name": "stdout",
     "output_type": "stream",
     "text": [
      "{'3463630': 'Jon Perez', '84658827': 'Ane Alustiza Elizburu'}\n",
      "('3463630', 'Jon Perez')\n",
      "('84658827', 'Ane Alustiza Elizburu')\n"
     ]
    }
   ],
   "source": [
    "print(h_str(h))\n",
    "print(h_popitem(h))\n",
    "print(h_popitem(h))\n",
    "#print(h_popitem(h))"
   ]
  },
  {
   "cell_type": "code",
   "execution_count": 17,
   "metadata": {},
   "outputs": [
    {
     "name": "stdout",
     "output_type": "stream",
     "text": [
      "{'3463630': 'Jon Perez', '84658827': 'Ane Alustiza Elizburu'}\n",
      "0.2857142857142857\n"
     ]
    }
   ],
   "source": [
    "h = h_new()\n",
    "h_put(h,\"84658827\",\"Ane Alustiza\")\n",
    "h_put(h,\"3463630\",\"Jon Perez\")\n",
    "h_put(h,\"84658827\",\"Ane Alustiza Elizburu\")\n",
    "print(h_str(h))\n",
    "print(h_lf(h))"
   ]
  },
  {
   "cell_type": "code",
   "execution_count": 18,
   "metadata": {},
   "outputs": [
    {
     "name": "stdout",
     "output_type": "stream",
     "text": [
      "[[('3463630', 'Jon Perez')], [('84658827', 'Ane Alustiza Elizburu')], [], [], [], [], []]\n",
      "{'3463630': 'Jon Perez', '84658827': 'Ane Alustiza Elizburu'}\n",
      "[[], [], [], [], [('3463630', 'Jon Perez')], [], [], [], [], [('84658827', 'Ane Alustiza Elizburu')], [], []]\n",
      "{'3463630': 'Jon Perez', '84658827': 'Ane Alustiza Elizburu'}\n"
     ]
    }
   ],
   "source": [
    "print(h)\n",
    "print(h_str(h))\n",
    "h_resize(h,12)\n",
    "print(h)\n",
    "print(h_str(h))"
   ]
  },
  {
   "cell_type": "code",
   "execution_count": 32,
   "metadata": {},
   "outputs": [
    {
     "name": "stdout",
     "output_type": "stream",
     "text": [
      "448 2.232142857142857 1000.0\n",
      "('553', 553)\n",
      "('24', 24)\n",
      "('869', 869)\n",
      "('455', 455)\n",
      "('782', 782)\n",
      "('660', 660)\n",
      "('342', 342)\n",
      "('17', 17)\n",
      "('5', 5)\n",
      "('860', 860)\n",
      "345\n"
     ]
    }
   ],
   "source": [
    "h = h_new()\n",
    "for i in range(1000):\n",
    "    h_put(h,str(i),i)\n",
    "print(len(h),h_lf(h),h_lf(h)*len(h))\n",
    "\n",
    "for i in range(10):\n",
    "    print(h_popitem(h))\n",
    "    \n",
    "print(h_pop(h,'345'))\n",
    "#print(h_pop(h,'345'))"
   ]
  }
 ],
 "metadata": {
  "kernelspec": {
   "display_name": "Python 3",
   "language": "python",
   "name": "python3"
  },
  "language_info": {
   "codemirror_mode": {
    "name": "ipython",
    "version": 3
   },
   "file_extension": ".py",
   "mimetype": "text/x-python",
   "name": "python",
   "nbconvert_exporter": "python",
   "pygments_lexer": "ipython3",
   "version": "3.7.6"
  }
 },
 "nbformat": 4,
 "nbformat_minor": 4
}
