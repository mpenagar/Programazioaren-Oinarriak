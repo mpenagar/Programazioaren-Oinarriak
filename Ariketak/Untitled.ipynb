{
 "cells": [
  {
   "cell_type": "markdown",
   "metadata": {},
   "source": [
    "### 5"
   ]
  },
  {
   "cell_type": "code",
   "execution_count": 7,
   "metadata": {},
   "outputs": [
    {
     "data": {
      "text/plain": [
       "'ihaiksiko dugu elkar'"
      ]
     },
     "execution_count": 7,
     "metadata": {},
     "output_type": "execute_result"
    }
   ],
   "source": [
    "def delete_at(s,z):\n",
    "    x = list(s)\n",
    "    for i in z[::-1]:\n",
    "        i = i-1\n",
    "        # GAIZKI!!!\n",
    "        #x.remove(x[i])c\n",
    "        del x[i]\n",
    "    return \"\".join(x)\n",
    "    \n",
    "s = 'bihar ikusiko dugu elkar'\n",
    "z = [1,5,6,9]\n",
    "delete_at(s,z)"
   ]
  },
  {
   "cell_type": "code",
   "execution_count": 8,
   "metadata": {},
   "outputs": [
    {
     "name": "stdout",
     "output_type": "stream",
     "text": [
      "[6, 5, 4, 3, 2, 1]\n",
      "[6, 5, 4, 3, 2, 1]\n"
     ]
    }
   ],
   "source": [
    "z = [1,2,3,4,5,6]\n",
    "print(z[::-1])\n",
    "z.reverse()\n",
    "print(z)"
   ]
  },
  {
   "cell_type": "code",
   "execution_count": 10,
   "metadata": {},
   "outputs": [
    {
     "data": {
      "text/plain": [
       "'ihaiksiko dugu elkar'"
      ]
     },
     "execution_count": 10,
     "metadata": {},
     "output_type": "execute_result"
    }
   ],
   "source": [
    "def delete_at(s,z):\n",
    "    e = \"\"\n",
    "    for i in range(1,len(s)+1):\n",
    "        if i not in z:\n",
    "            e += s[i-1]\n",
    "    return e\n",
    "    \n",
    "s = 'bihar ikusiko dugu elkar'\n",
    "z = [1,5,6,9]\n",
    "delete_at(s,z)"
   ]
  },
  {
   "cell_type": "code",
   "execution_count": 10,
   "metadata": {},
   "outputs": [
    {
     "data": {
      "text/plain": [
       "'ihaiksiko dugu elkar'"
      ]
     },
     "execution_count": 10,
     "metadata": {},
     "output_type": "execute_result"
    }
   ],
   "source": [
    "def delete_at(s,z):\n",
    "    e = \"\"\n",
    "    for k in s:\n",
    "        if i not in z:\n",
    "            e += s[i-1]\n",
    "    return e\n",
    "    \n",
    "s = 'bihar ikusiko dugu elkar'\n",
    "z = [1,5,6,9]\n",
    "delete_at(s,z)"
   ]
  },
  {
   "cell_type": "code",
   "execution_count": null,
   "metadata": {},
   "outputs": [],
   "source": [
    "pr"
   ]
  }
 ],
 "metadata": {
  "kernelspec": {
   "display_name": "Python 3",
   "language": "python",
   "name": "python3"
  },
  "language_info": {
   "codemirror_mode": {
    "name": "ipython",
    "version": 3
   },
   "file_extension": ".py",
   "mimetype": "text/x-python",
   "name": "python",
   "nbconvert_exporter": "python",
   "pygments_lexer": "ipython3",
   "version": "3.7.6"
  }
 },
 "nbformat": 4,
 "nbformat_minor": 4
}
