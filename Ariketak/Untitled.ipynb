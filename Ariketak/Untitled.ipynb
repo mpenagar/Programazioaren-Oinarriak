{
 "cells": [
  {
   "cell_type": "markdown",
   "metadata": {},
   "source": [
    "### 2"
   ]
  },
  {
   "cell_type": "code",
   "execution_count": 4,
   "metadata": {},
   "outputs": [],
   "source": [
    "def h_new(N=7):\n",
    "    h = []\n",
    "    for i in range(N):\n",
    "        h.append([])\n",
    "    return h\n",
    "def h_new(N=7):\n",
    "    return [[] for i in range(N)]"
   ]
  },
  {
   "cell_type": "code",
   "execution_count": 6,
   "metadata": {},
   "outputs": [
    {
     "data": {
      "text/plain": [
       "[[], [], [], [], [], [], []]"
      ]
     },
     "execution_count": 6,
     "metadata": {},
     "output_type": "execute_result"
    }
   ],
   "source": [
    "h_new()"
   ]
  },
  {
   "cell_type": "code",
   "execution_count": 23,
   "metadata": {},
   "outputs": [],
   "source": [
    "def h_put(h,g,b):\n",
    "    z = h[hash(g)%len(h)]\n",
    "    for i,(g2,b2) in enumerate(z) :\n",
    "        if g2 == g :\n",
    "            # Topatu dugu\n",
    "            z[i] = (g,b)\n",
    "            # karga faktorea kudeatu\n",
    "            if h_lf(h) > 4 :\n",
    "                h_resize(h,len(h)*2)\n",
    "            break\n",
    "    else :\n",
    "        z.append((g,b))\n",
    "                "
   ]
  },
  {
   "cell_type": "code",
   "execution_count": 23,
   "metadata": {},
   "outputs": [],
   "source": [
    "def h_put(h,g,b):\n",
    "    z = h[hash(g)%len(h)]\n",
    "    for i,(g2,b2) in enumerate(z) :\n",
    "        if g2 == g :\n",
    "            # Topatu dugu\n",
    "            z[i] = (g,b)\n",
    "            # karga faktorea kudeatu\n",
    "            if h_lf(h) > 4 :\n",
    "                h_resize(h,len(h)*2)\n",
    "            return\n",
    "    z.append((g,b))\n",
    "                "
   ]
  },
  {
   "cell_type": "code",
   "execution_count": 24,
   "metadata": {},
   "outputs": [
    {
     "data": {
      "text/plain": [
       "[[],\n",
       " [],\n",
       " [],\n",
       " [],\n",
       " [('58745456', 'Ane Lopategi')],\n",
       " [('74532653', 'Jone Arrizabalaga'), ('68456308', 'Eñaut Unamuno')],\n",
       " []]"
      ]
     },
     "execution_count": 24,
     "metadata": {},
     "output_type": "execute_result"
    }
   ],
   "source": [
    "h = h_new()\n",
    "h_put(h,\"74532653\",\"Jone Arrizabalaga\")\n",
    "h_put(h,\"58745456\",\"Ane Lopategi\")\n",
    "h_put(h,\"68456308\",\"Eñaut Agirre\")\n",
    "h_put(h,\"68456308\",\"Eñaut Unamuno\")\n",
    "h\n"
   ]
  },
  {
   "cell_type": "code",
   "execution_count": 20,
   "metadata": {},
   "outputs": [],
   "source": [
    "def h_lf(h):\n",
    "    #return sum([len(z) for z in h]) / len(h)\n",
    "    return sum(len(z) for z in h) / len(h)"
   ]
  },
  {
   "cell_type": "code",
   "execution_count": 22,
   "metadata": {},
   "outputs": [
    {
     "data": {
      "text/plain": [
       "(0.42857142857142855, 0.42857142857142855)"
      ]
     },
     "execution_count": 22,
     "metadata": {},
     "output_type": "execute_result"
    }
   ],
   "source": [
    "h_lf(h),3/7"
   ]
  },
  {
   "cell_type": "code",
   "execution_count": 26,
   "metadata": {},
   "outputs": [],
   "source": [
    "def h_get(h,g,d=None):\n",
    "    z = h[hash(g)%len(h)]\n",
    "    for g2,b2 in z :\n",
    "        if g2 == g :\n",
    "            # Topatu dugu\n",
    "            return b2\n",
    "    return d"
   ]
  },
  {
   "cell_type": "code",
   "execution_count": 30,
   "metadata": {},
   "outputs": [
    {
     "name": "stdout",
     "output_type": "stream",
     "text": [
      "Jone Arrizabalaga\n",
      "Eñaut Agirre\n",
      "None\n"
     ]
    }
   ],
   "source": [
    "h = h_new()\n",
    "h_put(h,\"74532653\",\"Jone Arrizabalaga\")\n",
    "h_put(h,\"58745456\",\"Ane Lopategi\")\n",
    "h_put(h,\"68456308\",\"Eñaut Agirre\")\n",
    "print(h_get(h,\"74532653\"))\n",
    "print(h_get(h,\"68456308\"))\n",
    "print(h_get(h,\"00000000\"))\n"
   ]
  },
  {
   "cell_type": "code",
   "execution_count": 36,
   "metadata": {},
   "outputs": [],
   "source": [
    "def h_items(h):\n",
    "    items = []\n",
    "    for z in h :\n",
    "        for x in z :\n",
    "            items.append(x)\n",
    "    return items\n",
    "\n",
    "def h_items(h):\n",
    "    items = []\n",
    "    for z in h :\n",
    "        items.extend(z)\n",
    "    return items\n",
    "\n",
    "def h_items(h):\n",
    "    return [ x for z in h for x in z ]\n",
    "\n",
    "def h_items(h):\n",
    "    return ( x for z in h for x in z )"
   ]
  },
  {
   "cell_type": "code",
   "execution_count": 37,
   "metadata": {},
   "outputs": [
    {
     "name": "stdout",
     "output_type": "stream",
     "text": [
      "('58745456', 'Ane Lopategi') ('74532653', 'Jone Arrizabalaga') ('68456308', 'Eñaut Agirre')\n"
     ]
    }
   ],
   "source": [
    "print(*h_items(h))"
   ]
  },
  {
   "cell_type": "code",
   "execution_count": 38,
   "metadata": {},
   "outputs": [],
   "source": [
    "def h_popitem(h):\n",
    "    for z in h :\n",
    "        if z :\n",
    "            return z.pop()"
   ]
  },
  {
   "cell_type": "code",
   "execution_count": 39,
   "metadata": {},
   "outputs": [
    {
     "name": "stdout",
     "output_type": "stream",
     "text": [
      "('58745456', 'Ane Lopategi')\n",
      "('68456308', 'Eñaut Agirre')\n",
      "('74532653', 'Jone Arrizabalaga')\n",
      "None\n"
     ]
    }
   ],
   "source": [
    "print(h_popitem(h))\n",
    "print(h_popitem(h))\n",
    "print(h_popitem(h))\n",
    "# kontuz...\n",
    "print(h_popitem(h))\n"
   ]
  }
 ],
 "metadata": {
  "kernelspec": {
   "display_name": "Python 3",
   "language": "python",
   "name": "python3"
  },
  "language_info": {
   "codemirror_mode": {
    "name": "ipython",
    "version": 3
   },
   "file_extension": ".py",
   "mimetype": "text/x-python",
   "name": "python",
   "nbconvert_exporter": "python",
   "pygments_lexer": "ipython3",
   "version": "3.7.6"
  }
 },
 "nbformat": 4,
 "nbformat_minor": 4
}
