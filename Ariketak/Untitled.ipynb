{
 "cells": [
  {
   "cell_type": "markdown",
   "metadata": {},
   "source": [
    "### 2"
   ]
  },
  {
   "cell_type": "code",
   "execution_count": 8,
   "metadata": {},
   "outputs": [
    {
     "name": "stdout",
     "output_type": "stream",
     "text": [
      "[1, 2, 3, 4]\n",
      "[5, 6, 7, 8]\n",
      "[9, 10, 11, 12]\n",
      "[13, 14, 15, 1]\n",
      "-----------\n",
      "[1, 2, 3, 4]\n",
      "[9, 10, 11, 12]\n",
      "[13, 14, 15, 1]\n"
     ]
    }
   ],
   "source": [
    "def azpimatrizea(M, i, j):\n",
    "    E = M[:i] + M[i+1:]\n",
    "    E[0][0] = \"XXX\"\n",
    "    return E   \n",
    "    \n",
    "A = [[1,2,3,4] , [5,6,7,8] , [9,10,11,12] , [13,14,15,1]]\n",
    "print(*A, sep=\"\\n\")\n",
    "print(\"-----------\")\n",
    "B = azpimatrizea(A, 1, 2)\n",
    "print(*B, sep=\"\\n\")"
   ]
  }
 ],
 "metadata": {
  "kernelspec": {
   "display_name": "Python 3",
   "language": "python",
   "name": "python3"
  },
  "language_info": {
   "codemirror_mode": {
    "name": "ipython",
    "version": 3
   },
   "file_extension": ".py",
   "mimetype": "text/x-python",
   "name": "python",
   "nbconvert_exporter": "python",
   "pygments_lexer": "ipython3",
   "version": "3.7.6"
  }
 },
 "nbformat": 4,
 "nbformat_minor": 4
}
