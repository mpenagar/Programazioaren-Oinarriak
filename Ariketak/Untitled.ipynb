{
 "cells": [
  {
   "cell_type": "markdown",
   "metadata": {},
   "source": [
    "Errepikapenik gabeko karaktere sekuentzia"
   ]
  },
  {
   "cell_type": "code",
   "execution_count": 3,
   "metadata": {},
   "outputs": [
    {
     "data": {
      "text/plain": [
       "'lsdja<gvSDLFHGhifJAK'"
      ]
     },
     "execution_count": 3,
     "metadata": {},
     "output_type": "execute_result"
    }
   ],
   "source": [
    "def f(a):\n",
    "    b = ''\n",
    "    for x in a :\n",
    "        if x not in b:\n",
    "            b += x\n",
    "    return b\n",
    "\n",
    "def f(a):\n",
    "    b = []\n",
    "    s = set()\n",
    "    for x in a :\n",
    "        if x not in s:\n",
    "            b.append(x)\n",
    "            s.add(x)\n",
    "    return ''.join(b)\n",
    "\n",
    "f('lsdja<gsdljgvSDLFHGdhSFGlsdhifgSDJFGASKJDAJDGHlafsjdghfajs')"
   ]
  },
  {
   "cell_type": "code",
   "execution_count": null,
   "metadata": {},
   "outputs": [],
   "source": []
  }
 ],
 "metadata": {
  "kernelspec": {
   "display_name": "Python 3",
   "language": "python",
   "name": "python3"
  },
  "language_info": {
   "codemirror_mode": {
    "name": "ipython",
    "version": 3
   },
   "file_extension": ".py",
   "mimetype": "text/x-python",
   "name": "python",
   "nbconvert_exporter": "python",
   "pygments_lexer": "ipython3",
   "version": "3.7.6"
  }
 },
 "nbformat": 4,
 "nbformat_minor": 4
}
