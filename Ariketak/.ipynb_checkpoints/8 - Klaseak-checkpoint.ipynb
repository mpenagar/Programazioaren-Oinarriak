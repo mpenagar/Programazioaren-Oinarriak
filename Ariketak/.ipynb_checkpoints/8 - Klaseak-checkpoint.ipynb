{
 "cells": [
  {
   "cell_type": "markdown",
   "metadata": {},
   "source": [
    "### 1\n",
    "Point klasea. Plano batetako puntu bat adierazten duen klasea. Ondoko funtzioak sortu:\n",
    "\n",
    "* __init__(self,x,y)\n",
    "* __str__(self) eta __repr__(self)\n",
    "* __add__(self,other) eta __sub__(self,other)\n",
    "* translate(self,dx,dy) : puntu bat transladatuko du. Funtzioak ez du ezer bueltatzen, puntua aldatzen du soilik.\n",
    "* rotate(self,other,angle) : jasotako puntua (other) ardatz moduan harturik, bere buruaren errotazioa egingo du emandako angeluaren arabera. Funtzioak ez du ezer bueltatzen, puntua aldatzen du soilik."
   ]
  },
  {
   "cell_type": "code",
   "execution_count": 11,
   "metadata": {},
   "outputs": [
    {
     "name": "stdout",
     "output_type": "stream",
     "text": [
      "<234,235>\n",
      "<234,235>\n",
      "True\n",
      "False\n",
      "<235,238>\n",
      "<244,225>\n"
     ]
    }
   ],
   "source": [
    "class Point(object):\n",
    "    def __init__(self,x,y):\n",
    "        self.x = x\n",
    "        self.y = y\n",
    "    def __str__(self):\n",
    "        return f'<{self.x},{self.y}>'\n",
    "    def __repr__(self):\n",
    "        return f'Point({self.x},{self.y})'\n",
    "    def __eq__(self,other):\n",
    "        return type(other) == Point and self.x == other.x and self.y == other.y\n",
    "    def __add__(self,other):\n",
    "        return Point(self.x+other.x , self.y+other.y)\n",
    "    def translate(self,dx,dy):\n",
    "        self.x += dx\n",
    "        self.y += dy\n",
    "    def rotate(self,other,angle) :\n",
    "        \"\"\"jasotako puntua (other) ardatz moduan harturik, bere buruaren errotazioa\n",
    "        egingo du emandako angeluaren arabera. Funtzioak ez du ezer bueltatzen,\n",
    "        puntua aldatzen du soilik.\"\"\"\n",
    "        #self.x = ???\n",
    "        #self.y = ????\n",
    "        #self.translate(???,???)\n",
    "        \n",
    "p = Point(234,235)\n",
    "print(p)\n",
    "print(eval(repr(p)))\n",
    "print(eval(repr(p)) == p)\n",
    "print(p == Point(1,2))\n",
    "print(p +  Point(1,3))\n",
    "p.translate(10,-10)\n",
    "print(p)"
   ]
  },
  {
   "cell_type": "markdown",
   "metadata": {},
   "source": [
    "### 2\n",
    "Triangle klasea. Plano batetako triangelu bat adierazten duen klasea. Ondoko funtzioak sortu:\n",
    "\n",
    "* __init__(self,point1,point2,point3) : triangelu bat hasieratzen du, bere hiru erpinak errepresentatzen dituzten 3 puntuak erabiliz.\n",
    "* translate(self,dx,dy) : triangegu osoa transladatuko du. Funtzioak ez du ezer bueltatzen, triangelua aldatzen du soilik.\n",
    "* rotate(self,point,angle) : jasotako puntua ardatz moduan harturik, bere buruaren errotazioa egingo du emandako angeluaren arabera. Funtzioak ez du ezer bueltatzen, triangelua aldatzen du soilik."
   ]
  },
  {
   "cell_type": "code",
   "execution_count": null,
   "metadata": {},
   "outputs": [],
   "source": [
    "class Triangle(object):\n",
    "    def __init__(self,point1,point2,point3):\n",
    "        self.erpinak = (point1,point2,point3)\n",
    "    def translate(self,dx,dy):\n",
    "        for p in self.erpinak:\n",
    "            p.translate(dx,dy)"
   ]
  },
  {
   "cell_type": "markdown",
   "metadata": {},
   "source": [
    "### 4\n",
    "\n",
    "MySet klasea. Multzo bat adierazten duen klasea (multzo batetan ezin da elementu errepikaturik gorde). Multzo bat inplementatzeko egitura aproposena Hash Taula bat bada ere, zerrenda bat erabili ariketa honetan. Ondoko funtzioak sortu:\n",
    "\n",
    "* __init__(self,it): Multzo bat hasieratuko du iteragarri baten elementu guztiekin\n",
    "* __iter__(self) : multzoko elementuen gaineko iteradore bat bueltatuko duen funtzioa\n",
    "* __str__(self) eta __repr__(self)\n",
    " __len__(self): multzoko elementu kopurua bueltatzen du\n",
    " __contains__(self,value) : multzoan balio bat ote dagoen konprobatzen du\n",
    " add(self,value) : elementu berri bat gehitzen du multzo batetara, aurrez elementu hori ez bazegoen.\n",
    " addall(self,it): iteragarri batetako elementu guztiak gehitzen dizkio\n",
    " remove(self,value): elementu bat ezabatzen du\n",
    " removeall(self,it): iteragarri batetako elementu guztiak ezabatzen ditu\n",
    " __add__(self,other) : bi multzoen bilketa den multzo berria bueltatzen du.\n",
    " __sub__(self,other) : multzoari beste multzoko elementu guztiak kentzean lortzen den multzo berria bueltatzen du.\n",
    " __eq__(self,other) : multzoa beste multzo baten berdina ote den bueltatzen du.\n",
    " __ne__(self,other) : multzoa beste multzo baten ezberdina ote den bueltatzen du."
   ]
  },
  {
   "cell_type": "code",
   "execution_count": 14,
   "metadata": {},
   "outputs": [
    {
     "name": "stdout",
     "output_type": "stream",
     "text": [
      "1 2 3\n"
     ]
    }
   ],
   "source": [
    "class MySet(object):\n",
    "    def __init__(self,it=()):\n",
    "        self.z = []\n",
    "        for x in it:\n",
    "            self.add(x)\n",
    "    def __iter__(self):\n",
    "        return iter(self.z)\n",
    "    def add(self,value):\n",
    "        if value not in self.z:\n",
    "            self.z.append(value)\n",
    "\n",
    "s = MySet([1,2,3,1,2,3])\n",
    "print(*s)"
   ]
  },
  {
   "cell_type": "code",
   "execution_count": null,
   "metadata": {},
   "outputs": [],
   "source": []
  }
 ],
 "metadata": {
  "kernelspec": {
   "display_name": "Python 3",
   "language": "python",
   "name": "python3"
  },
  "language_info": {
   "codemirror_mode": {
    "name": "ipython",
    "version": 3
   },
   "file_extension": ".py",
   "mimetype": "text/x-python",
   "name": "python",
   "nbconvert_exporter": "python",
   "pygments_lexer": "ipython3",
   "version": "3.7.6"
  }
 },
 "nbformat": 4,
 "nbformat_minor": 4
}
