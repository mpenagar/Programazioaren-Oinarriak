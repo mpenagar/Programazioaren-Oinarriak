{
 "cells": [
  {
   "cell_type": "markdown",
   "metadata": {},
   "source": [
    "### 2"
   ]
  },
  {
   "cell_type": "code",
   "execution_count": 11,
   "metadata": {},
   "outputs": [],
   "source": [
    "def h_new(n=7):\n",
    "    # Kontuz!!!!\n",
    "    #return [[]]*n\n",
    "    \n",
    "    #h = []\n",
    "    #for i in range(n):\n",
    "    #    h.append([])\n",
    "    #return h\n",
    "\n",
    "    return [[] for i in range(n)]"
   ]
  },
  {
   "cell_type": "code",
   "execution_count": 19,
   "metadata": {},
   "outputs": [
    {
     "name": "stdout",
     "output_type": "stream",
     "text": [
      "[[], [], [], [], [], [], []]\n"
     ]
    }
   ],
   "source": [
    "h = h_new()\n",
    "#print(h)\n",
    "#h[3].append(\"ljkhgl\")\n",
    "print(h)"
   ]
  },
  {
   "cell_type": "code",
   "execution_count": 14,
   "metadata": {},
   "outputs": [],
   "source": [
    "def h_put(h,g,b):\n",
    "    z = h[hash(g)%len(h)]\n",
    "    for i,(g2,b2) in enumerate(z) :\n",
    "        if g2 == g :\n",
    "            z[i] = (g,b)\n",
    "            return\n",
    "    z.append((g,b))"
   ]
  },
  {
   "cell_type": "code",
   "execution_count": 15,
   "metadata": {},
   "outputs": [],
   "source": [
    "def h_put(h,g,b):\n",
    "    z = h[hash(g)%len(h)]\n",
    "    for i,(g2,b2) in enumerate(z) :\n",
    "        if g2 == g :\n",
    "            z[i] = (g,b)\n",
    "            break\n",
    "    else :\n",
    "        z.append((g,b))\n",
    "        #if h_lf(h) > 4 :\n",
    "            #h_resize(h,len(h)*2)"
   ]
  },
  {
   "cell_type": "code",
   "execution_count": 31,
   "metadata": {},
   "outputs": [
    {
     "name": "stdout",
     "output_type": "stream",
     "text": [
      "[[('3463630', 'Jon Perez')], [('84658827', 'Ane Alustiza Elizburu')], [], [], [], [], []]\n"
     ]
    }
   ],
   "source": [
    "h = h_new()\n",
    "h_put(h,\"84658827\",\"Ane Alustiza\")\n",
    "h_put(h,\"3463630\",\"Jon Perez\")\n",
    "h_put(h,\"84658827\",\"Ane Alustiza Elizburu\")\n",
    "print(h)"
   ]
  },
  {
   "cell_type": "code",
   "execution_count": 32,
   "metadata": {},
   "outputs": [],
   "source": [
    "def h_get(h,g,d=None):\n",
    "    z = h[hash(g)%len(h)]\n",
    "    for g2,b2 in z :\n",
    "        if g2 == g :\n",
    "            return b2\n",
    "    return d    "
   ]
  },
  {
   "cell_type": "code",
   "execution_count": 34,
   "metadata": {},
   "outputs": [
    {
     "name": "stdout",
     "output_type": "stream",
     "text": [
      "Ane Alustiza Elizburu\n",
      "Jon Perez\n",
      "---\n"
     ]
    }
   ],
   "source": [
    "for x in (\"84658827\",\"3463630\",\"08598675965\") :\n",
    "    print(h_get(h,x,'---'))"
   ]
  },
  {
   "cell_type": "code",
   "execution_count": 35,
   "metadata": {},
   "outputs": [],
   "source": [
    "def h_items(h):\n",
    "    items = []\n",
    "    for z in h :\n",
    "        items.extends(z)\n",
    "    return items\n",
    "def h_items(h):\n",
    "    #items = []\n",
    "    #for z in h :\n",
    "    #    for x in z :\n",
    "    #        items.append(x)\n",
    "    #return items\n",
    "    return [ x for z in h for x in z]\n",
    "def h_items(h):\n",
    "    return ( x for z in h for x in z )"
   ]
  },
  {
   "cell_type": "code",
   "execution_count": 37,
   "metadata": {},
   "outputs": [
    {
     "name": "stdout",
     "output_type": "stream",
     "text": [
      "('3463630', 'Jon Perez') ('84658827', 'Ane Alustiza Elizburu')\n"
     ]
    }
   ],
   "source": [
    "print(*h_items(h))"
   ]
  },
  {
   "cell_type": "code",
   "execution_count": 38,
   "metadata": {},
   "outputs": [],
   "source": [
    "def h_str(h):\n",
    "    return '{' + ', '.join( f'{repr(g)}: {repr(b)}' for g,b in h_items(h))  + '}'"
   ]
  },
  {
   "cell_type": "code",
   "execution_count": 39,
   "metadata": {},
   "outputs": [
    {
     "name": "stdout",
     "output_type": "stream",
     "text": [
      "{'3463630': 'Jon Perez', '84658827': 'Ane Alustiza Elizburu'}\n"
     ]
    }
   ],
   "source": [
    "print(h_str(h))"
   ]
  },
  {
   "cell_type": "code",
   "execution_count": null,
   "metadata": {},
   "outputs": [],
   "source": [
    "def h_popitem(h):\n",
    "    for z in h :\n",
    "        if z :\n",
    "            return z.pop()\n",
    "    # Errorea: ez dago elementurik"
   ]
  }
 ],
 "metadata": {
  "kernelspec": {
   "display_name": "Python 3",
   "language": "python",
   "name": "python3"
  },
  "language_info": {
   "codemirror_mode": {
    "name": "ipython",
    "version": 3
   },
   "file_extension": ".py",
   "mimetype": "text/x-python",
   "name": "python",
   "nbconvert_exporter": "python",
   "pygments_lexer": "ipython3",
   "version": "3.7.6"
  }
 },
 "nbformat": 4,
 "nbformat_minor": 4
}
