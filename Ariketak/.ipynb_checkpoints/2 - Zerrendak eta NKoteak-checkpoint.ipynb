{
 "cells": [
  {
   "cell_type": "markdown",
   "metadata": {},
   "source": [
    "### 2\n",
    "Demagun nxm tamainako matrizeak zerrenden (edo n-koteen) zerrenda (edo n-kote) baten bitartez errepresentatzen ditugula. Idatzi ondoko eragiketak kalkulatuko dituzten funtzioak:\n",
    "\n",
    "**d) Matrize bat pantailatik idatzi**"
   ]
  },
  {
   "cell_type": "code",
   "execution_count": 29,
   "metadata": {},
   "outputs": [
    {
     "name": "stdout",
     "output_type": "stream",
     "text": [
      "1 2 3\n",
      "4 5 6\n",
      "\n"
     ]
    }
   ],
   "source": [
    "def printm(M):\n",
    "    for z in M:\n",
    "        print(*z)\n",
    "    print()\n",
    "        \n",
    "A = [[1,2,3],[4,5,6]]\n",
    "printm(A)"
   ]
  },
  {
   "cell_type": "markdown",
   "metadata": {},
   "source": [
    "**h) Matrize eta eskalar baten arteko batuketa. inline argumentu baten arabera, inline=True (defektuz) denean funtzioak jasotako matrizea aldatuko du eta inline=False denean matrize berri bat sortuko da. Bi kasuetan, funtzioak emaitza duen matrizea bueltatuko du.**"
   ]
  },
  {
   "cell_type": "code",
   "execution_count": null,
   "metadata": {},
   "outputs": [],
   "source": [
    "def batu_esk(M,x,inline=True):\n",
    "        if inline :\n",
    "            # M[i][j] = M[i][j] +x\n",
    "            return M\n",
    "        else :\n",
    "            C = []\n",
    "            # C[i][j] = M[i][j] +x\n",
    "            return C"
   ]
  },
  {
   "cell_type": "markdown",
   "metadata": {},
   "source": [
    "**m) Bi matrizeen biderkarura**"
   ]
  },
  {
   "cell_type": "code",
   "execution_count": 9,
   "metadata": {},
   "outputs": [],
   "source": [
    "def bider(A,B):\n",
    "    assert len(A[0])==len(B) , \"wrong dimensions\"\n",
    "    C = []\n",
    "    for i in range(len(A)):\n",
    "        z = []\n",
    "        C.append(z)\n",
    "        for j in range(len(B[0])):\n",
    "            # x = biderkadura eskalarra (A i ilara, B j zutabea)\n",
    "            x = 0\n",
    "            for m in range(len(B)) :\n",
    "                x += A[i][m] * B[m][j]\n",
    "            z.append(x)\n",
    "    return C"
   ]
  },
  {
   "cell_type": "code",
   "execution_count": 30,
   "metadata": {},
   "outputs": [
    {
     "name": "stdout",
     "output_type": "stream",
     "text": [
      "1 2 3\n",
      "4 5 6\n",
      "\n",
      "1 2 3 10\n",
      "4 5 6 10\n",
      "7 8 9 10\n",
      "\n",
      "30 36 42 60\n",
      "66 81 96 150\n",
      "\n"
     ]
    }
   ],
   "source": [
    "A = [[1,2,3],[4,5,6]]\n",
    "printm(A)\n",
    "B = [[1,2,3,10],[4,5,6,10],[7,8,9,10]]\n",
    "printm(B)\n",
    "C = bider(A,B)\n",
    "printm(C)"
   ]
  },
  {
   "cell_type": "markdown",
   "metadata": {},
   "source": [
    "**o1) Matrize baten determinantea. OHARRA: nxn tamainako $A$ matrizeari i ilara eta j zutabea kentzean gelditzen den matrizea $A_{i,j}$ bada, orduan**"
   ]
  },
  {
   "cell_type": "code",
   "execution_count": 31,
   "metadata": {},
   "outputs": [],
   "source": [
    "def azpimat(A,i,j):\n",
    "    C = []\n",
    "    for z in A[:i]+A[i+1:]:\n",
    "        C.append(z[:j]+z[j+1:])\n",
    "    return C\n",
    "    "
   ]
  },
  {
   "cell_type": "code",
   "execution_count": 34,
   "metadata": {},
   "outputs": [
    {
     "name": "stdout",
     "output_type": "stream",
     "text": [
      "1 2 3\n",
      "4 5 6\n",
      "7 8 9\n",
      "\n",
      "5 6\n",
      "8 9\n",
      "\n",
      "1 2\n",
      "7 8\n",
      "\n"
     ]
    }
   ],
   "source": [
    "A = [[1,2,3],[4,5,6],[7,8,9]]\n",
    "printm(A)\n",
    "printm(azpimat(A,0,0))\n",
    "printm(azpimat(A,1,2))"
   ]
  },
  {
   "cell_type": "code",
   "execution_count": 19,
   "metadata": {},
   "outputs": [
    {
     "data": {
      "text/plain": [
       "[0, 1, 2, 3, 4, 5, 6, 7, 8]"
      ]
     },
     "execution_count": 19,
     "metadata": {},
     "output_type": "execute_result"
    }
   ],
   "source": [
    "z = list(range(10))\n",
    "j = 9\n",
    "z[:j]+z[j+1:]"
   ]
  }
 ],
 "metadata": {
  "kernelspec": {
   "display_name": "Python 3",
   "language": "python",
   "name": "python3"
  },
  "language_info": {
   "codemirror_mode": {
    "name": "ipython",
    "version": 3
   },
   "file_extension": ".py",
   "mimetype": "text/x-python",
   "name": "python",
   "nbconvert_exporter": "python",
   "pygments_lexer": "ipython3",
   "version": "3.7.6"
  }
 },
 "nbformat": 4,
 "nbformat_minor": 4
}
