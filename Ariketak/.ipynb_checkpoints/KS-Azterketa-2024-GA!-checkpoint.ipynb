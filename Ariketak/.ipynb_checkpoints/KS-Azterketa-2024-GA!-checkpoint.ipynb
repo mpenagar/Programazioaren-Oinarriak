{
 "cells": [
  {
   "cell_type": "markdown",
   "metadata": {},
   "source": [
    "# 3. Ariketa"
   ]
  },
  {
   "cell_type": "markdown",
   "metadata": {},
   "source": [
    "## 3.1"
   ]
  },
  {
   "cell_type": "code",
   "execution_count": null,
   "metadata": {},
   "outputs": [],
   "source": [
    "def matrizea_jaso(bideizena):\n",
    "    f = open(bideizena)\n",
    "    h = {}\n",
    "    f.readline()\n",
    "    i = 0\n",
    "    for ilara in f:\n",
    "        z = ilara.split()\n",
    "        j = 0\n",
    "        for s in z :\n",
    "            x = float(s)\n",
    "            if x != 0.0 :\n",
    "                h[(i,j)] = x\n",
    "            j += 1            \n",
    "        i += 1\n",
    "    f.close()\n",
    "    return h\n",
    "\n",
    "def matrizea_jaso2(bideizena):\n",
    "    f = open(bideizena)\n",
    "    h = {}\n",
    "    I,J = f.readline().split()\n",
    "    I,J = int(I),int(J)\n",
    "    for i in range(I):\n",
    "        z = f.readline().split()\n",
    "        for j in range(J):\n",
    "            x = float(z[j])\n",
    "            if x != 0.0 :\n",
    "                h[(i,j)] = x\n",
    "    f.close()\n",
    "    return h"
   ]
  },
  {
   "cell_type": "code",
   "execution_count": 1,
   "metadata": {},
   "outputs": [
    {
     "ename": "NameError",
     "evalue": "name 'matrizea_jaso' is not defined",
     "output_type": "error",
     "traceback": [
      "\u001b[0;31m\u001b[0m",
      "\u001b[0;31mNameError\u001b[0mTraceback (most recent call last)",
      "\u001b[0;32m<ipython-input-1-725af41237d0>\u001b[0m in \u001b[0;36m<module>\u001b[0;34m\u001b[0m\n\u001b[0;32m----> 1\u001b[0;31m \u001b[0mmatrizea_jaso\u001b[0m\u001b[0;34m(\u001b[0m\u001b[0;34m'matrizea.txt'\u001b[0m\u001b[0;34m)\u001b[0m\u001b[0;34m\u001b[0m\u001b[0;34m\u001b[0m\u001b[0m\n\u001b[0m",
      "\u001b[0;31mNameError\u001b[0m: name 'matrizea_jaso' is not defined"
     ]
    }
   ],
   "source": [
    "matrizea_jaso('matrizea.txt')"
   ]
  },
  {
   "cell_type": "code",
   "execution_count": null,
   "metadata": {},
   "outputs": [],
   "source": []
  }
 ],
 "metadata": {
  "kernelspec": {
   "display_name": "Python 3",
   "language": "python",
   "name": "python3"
  },
  "language_info": {
   "codemirror_mode": {
    "name": "ipython",
    "version": 3
   },
   "file_extension": ".py",
   "mimetype": "text/x-python",
   "name": "python",
   "nbconvert_exporter": "python",
   "pygments_lexer": "ipython3",
   "version": "3.7.6"
  }
 },
 "nbformat": 4,
 "nbformat_minor": 4
}
