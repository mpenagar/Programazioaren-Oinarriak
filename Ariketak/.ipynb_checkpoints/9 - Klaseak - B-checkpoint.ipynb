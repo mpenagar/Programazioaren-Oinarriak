{
 "cells": [
  {
   "cell_type": "markdown",
   "metadata": {},
   "source": [
    "## 1\n",
    "Point klasea. Plano batetako puntu bat adierazten duen klasea. Ondoko funtzioak sortu:\n",
    " __init__(self,x,y)\n",
    " __str__(self) eta __repr__(self)\n",
    " __add__(self,other) eta __sub__(self,other)\n",
    " translate(self,dx,dy) : puntu bat transladatuko du. Funtzioak ez du ezer bueltatzen, puntua aldatzen du soilik.\n",
    " rotate(self,other,angle) : jasotako puntua (other) ardatz moduan harturik, bere buruaren errotazioa egingo du emandako angeluaren arabera. Funtzioak ez du ezer bueltatzen, puntua aldatzen du soilik."
   ]
  },
  {
   "cell_type": "code",
   "execution_count": 16,
   "metadata": {},
   "outputs": [
    {
     "name": "stdout",
     "output_type": "stream",
     "text": [
      "<3,4>\n",
      "<13,104>\n",
      "True <13,104> <13,104> True False\n"
     ]
    }
   ],
   "source": [
    "class Point(object):\n",
    "    def __init__(self,x,y):\n",
    "        self.x = x\n",
    "        self.y = y\n",
    "        #self.xy = (x,y)\n",
    "        #self.xy = [x,y]\n",
    "        \n",
    "    def __str__(self):\n",
    "        return f'<{self.x},{self.y}>'\n",
    "    \n",
    "    def __repr__(self):\n",
    "        return f'Point({self.x},{self.y})'\n",
    "    \n",
    "    def __eq__(self,other):\n",
    "        return type(other) == Point and self.x == other.x and self.y == other.y\n",
    "    \n",
    "    def translate(self,dx,dy):\n",
    "        self.x += dx\n",
    "        self.y += dy\n",
    "    \n",
    "    def rotate(self,other,angle):\n",
    "        self.x = 0\n",
    "        self.y = 0\n",
    "    \n",
    "p = Point(3,4)\n",
    "print(p)\n",
    "p.translate(10,100)\n",
    "print(p)\n",
    "p2 = eval(repr(p))\n",
    "print(type(p2)==type(p),p,p2,p==p2,p==\"epa\")"
   ]
  },
  {
   "cell_type": "markdown",
   "metadata": {},
   "source": [
    "##2\n",
    "Triangle klasea. Plano batetako triangelu bat adierazten duen klasea. Ondoko funtzioak sortu:\n",
    " __init__(self,point1,point2,point3) : triangelu bat hasieratzen du, bere hiru erpinak errepresentatzen dituzten 3 puntuak erabiliz.\n",
    " translate(self,dx,dy) : triangegu osoa transladatuko du. Funtzioak ez du ezer bueltatzen, triangelua aldatzen du soilik.\n",
    " rotate(self,point,angle) : jasotako puntua ardatz moduan harturik, bere buruaren errotazioa egingo du emandako angeluaren arabera. Funtzioak ez du ezer bueltatzen, triangelua aldatzen du soilik."
   ]
  },
  {
   "cell_type": "code",
   "execution_count": 19,
   "metadata": {},
   "outputs": [
    {
     "name": "stdout",
     "output_type": "stream",
     "text": [
      "(<2,3>, <4,6>, <8,14>)\n",
      "(<12,103>, <14,106>, <18,114>)\n",
      "(<0,0>, <0,0>, <0,0>)\n"
     ]
    }
   ],
   "source": [
    "class Triangle(object):\n",
    "    \n",
    "    def __init__(self,point1,point2,point3):\n",
    "        #self.a = point1\n",
    "        #self.b = point2\n",
    "        #self.c = point3\n",
    "        self.p = (point1,point2,point3)\n",
    "        #self.p = [point1,point2,point3]\n",
    "        #self.p = {point1,point2,point3}\n",
    "        \n",
    "    def __str__(self):\n",
    "        return f'({self.p[0]}, {self.p[1]}, {self.p[2]})'\n",
    "    \n",
    "    def translate(self,dx,dy):\n",
    "        for p in self.p :\n",
    "            p.translate(dx,dy)\n",
    "    \n",
    "    def rotate(self,point,angle):\n",
    "        for p in self.p :\n",
    "            p.rotate(point,angle) \n",
    "            \n",
    "p1 = Point(2,3)\n",
    "p2 = Point(4,6)\n",
    "p3 = Point(8,14)\n",
    "t = Triangle(p1,p2,p3)\n",
    "print(t)\n",
    "t.translate(10,100)\n",
    "print(t)\n",
    "t.rotate(Point(1,2),0.78)\n",
    "print(t)\n"
   ]
  },
  {
   "cell_type": "code",
   "execution_count": 17,
   "metadata": {},
   "outputs": [
    {
     "data": {
      "text/plain": [
       "'ea hau: kaixo zer den...'"
      ]
     },
     "execution_count": 17,
     "metadata": {},
     "output_type": "execute_result"
    }
   ],
   "source": [
    "x = 'kaixo'\n",
    "f'ea hau: {x} zer den...'"
   ]
  }
 ],
 "metadata": {
  "kernelspec": {
   "display_name": "Python 3",
   "language": "python",
   "name": "python3"
  },
  "language_info": {
   "codemirror_mode": {
    "name": "ipython",
    "version": 3
   },
   "file_extension": ".py",
   "mimetype": "text/x-python",
   "name": "python",
   "nbconvert_exporter": "python",
   "pygments_lexer": "ipython3",
   "version": "3.7.6"
  }
 },
 "nbformat": 4,
 "nbformat_minor": 4
}
