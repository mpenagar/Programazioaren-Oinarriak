{
 "cells": [
  {
   "cell_type": "markdown",
   "metadata": {},
   "source": [
    "### 5\n",
    "Zenbaki zerrenda batetan balio baten posizioa topatu (edo None, ez badago)."
   ]
  },
  {
   "cell_type": "code",
   "execution_count": 22,
   "metadata": {},
   "outputs": [],
   "source": [
    "def bilatu(z,x):\n",
    "    for i,y in enumerate(z):\n",
    "        if y == x :\n",
    "            return i\n",
    "    return None"
   ]
  },
  {
   "cell_type": "code",
   "execution_count": 24,
   "metadata": {},
   "outputs": [
    {
     "data": {
      "text/plain": [
       "(23, None)"
      ]
     },
     "execution_count": 24,
     "metadata": {},
     "output_type": "execute_result"
    }
   ],
   "source": [
    "bilatu(list(range(100)), 23) , bilatu(list(range(100)), 123)"
   ]
  },
  {
   "cell_type": "markdown",
   "metadata": {},
   "source": [
    "Tamaina: $n=len(z)$\n",
    "\n",
    "* Kasu ona: `x` `z`-ko lehenengo elementua &rarr; t(n) = 1  &rarr; $\\Omega(1)$\n",
    "* Kasu txarra: `x` ez dago `z`-n &rarr; t(n) = n + 1  &rarr; $O(n)$\n"
   ]
  },
  {
   "cell_type": "markdown",
   "metadata": {},
   "source": [
    "### 6\n",
    "Zenbaki zerrenda ordenatu batetan balio baten posizioa topatu (edo None, ez badago)."
   ]
  },
  {
   "cell_type": "code",
   "execution_count": 22,
   "metadata": {},
   "outputs": [],
   "source": [
    "def bilatu(z,x):\n",
    "    for i,y in enumerate(z):\n",
    "        if y == x :\n",
    "            return i\n",
    "    return None"
   ]
  },
  {
   "cell_type": "markdown",
   "metadata": {},
   "source": [
    "$\\Omega(1)$ eta $O(n)$"
   ]
  },
  {
   "cell_type": "code",
   "execution_count": 32,
   "metadata": {},
   "outputs": [],
   "source": [
    "def bilatu(z,x):\n",
    "    i,j = 0,len(z)-1\n",
    "    while i <= j :\n",
    "        e = (i+j)//2\n",
    "        if z[e] == x :\n",
    "            return e\n",
    "        elif z[e] > x :\n",
    "            j = e - 1\n",
    "        else :\n",
    "            i = e + 1\n",
    "    return None"
   ]
  },
  {
   "cell_type": "code",
   "execution_count": 34,
   "metadata": {},
   "outputs": [
    {
     "data": {
      "text/plain": [
       "(23, None)"
      ]
     },
     "execution_count": 34,
     "metadata": {},
     "output_type": "execute_result"
    }
   ],
   "source": [
    "bilatu(list(range(100)), 23) , bilatu(list(range(100)), 123)"
   ]
  },
  {
   "cell_type": "markdown",
   "metadata": {},
   "source": [
    "$\\Omega(1)$ eta $O(\\log n)$"
   ]
  },
  {
   "cell_type": "code",
   "execution_count": 39,
   "metadata": {},
   "outputs": [],
   "source": [
    "def bilatu(z,x):\n",
    "    return _bilatu(z,x,0,len(z)-1)\n",
    "\n",
    "def _bilatu(z,x,i,j):\n",
    "    if i>j :\n",
    "        return None\n",
    "    else :\n",
    "        e = (i+j)//2\n",
    "        if z[e] == x :\n",
    "            return e\n",
    "        #elif z[e] > x :\n",
    "        #    return _bilatu(z,x,i,e - 1)\n",
    "        #else :\n",
    "        #    return _bilatu(z,x,e + 1,j)\n",
    "        return _bilatu(z,x,i,e - 1) if z[e] > x else _bilatu(z,x,e + 1,j)"
   ]
  },
  {
   "cell_type": "code",
   "execution_count": 40,
   "metadata": {},
   "outputs": [
    {
     "data": {
      "text/plain": [
       "(23, None)"
      ]
     },
     "execution_count": 40,
     "metadata": {},
     "output_type": "execute_result"
    }
   ],
   "source": [
    "bilatu(list(range(100)), 23) , bilatu(list(range(100)), 123)"
   ]
  },
  {
   "cell_type": "markdown",
   "metadata": {},
   "source": [
    "$\\Omega(1)$ eta $O(\\log n)$"
   ]
  },
  {
   "cell_type": "code",
   "execution_count": 47,
   "metadata": {},
   "outputs": [],
   "source": [
    "def bilatu(z,x):\n",
    "    if len(z)==0:\n",
    "        return None\n",
    "    else :\n",
    "        e = (len(z)-1)//2\n",
    "        if z[e] == x :\n",
    "            return e\n",
    "        elif z[e] > x :\n",
    "            return bilatu(z[:e],x)\n",
    "        else :\n",
    "            i = bilatu(z[e+1:],x)\n",
    "            return e+1+i if i != None else None "
   ]
  },
  {
   "cell_type": "code",
   "execution_count": 48,
   "metadata": {},
   "outputs": [
    {
     "data": {
      "text/plain": [
       "(23, None)"
      ]
     },
     "execution_count": 48,
     "metadata": {},
     "output_type": "execute_result"
    }
   ],
   "source": [
    "bilatu(list(range(100)), 23) , bilatu(list(range(100)), 123)"
   ]
  },
  {
   "cell_type": "markdown",
   "metadata": {},
   "source": [
    "$\\Omega(1)$ eta $O(n)$"
   ]
  },
  {
   "cell_type": "markdown",
   "metadata": {},
   "source": [
    "### 7\n",
    "Hiztegi edo multzorik erabili gabe, zerrenda batetan agertzen diren elementu ezberdinen \n",
    "kopurua."
   ]
  },
  {
   "cell_type": "code",
   "execution_count": 1,
   "metadata": {},
   "outputs": [
    {
     "data": {
      "text/plain": [
       "4"
      ]
     },
     "execution_count": 1,
     "metadata": {},
     "output_type": "execute_result"
    }
   ],
   "source": [
    "def ezberdin_kopurua(z):\n",
    "    aux = []\n",
    "    for x in z :\n",
    "        if x not in aux :\n",
    "            aux.append(x)\n",
    "    return len(aux)\n",
    "\n",
    "ezberdin_kopurua([1,2,3,4]*20)"
   ]
  },
  {
   "cell_type": "markdown",
   "metadata": {},
   "source": [
    "tamaina: $n=len(z)$\n",
    "\n",
    "* kasu ona: `z`ko elementu guztiak berdinak --> $t(n)=n+1 \\to \\Omega(n)$\n",
    "* kasu txarra: `z`ko elementu guztiak ezberdinak --> $t(n)=\\frac{n \\cdot (n+1)}{2} + 1 = n^2 + n + 1 \\to O(n)$"
   ]
  },
  {
   "cell_type": "markdown",
   "metadata": {},
   "source": [
    "### 8\n",
    "Hiztegi edo multzoak erabiliz, zerrenda batetan agertzen diren elementu ezberdinen \n",
    "kopurua. "
   ]
  },
  {
   "cell_type": "code",
   "execution_count": 3,
   "metadata": {},
   "outputs": [
    {
     "data": {
      "text/plain": [
       "4"
      ]
     },
     "execution_count": 3,
     "metadata": {},
     "output_type": "execute_result"
    }
   ],
   "source": [
    "def ezberdin_kopurua(z):\n",
    "    return len(set(z))\n",
    "\n",
    "ezberdin_kopurua([1,2,3,4]*20)"
   ]
  },
  {
   "cell_type": "markdown",
   "metadata": {},
   "source": [
    "tamaina: $n=len(z)$\n",
    "\n",
    "* $t(n)=n+1 \\to \\Theta(n)$"
   ]
  },
  {
   "cell_type": "markdown",
   "metadata": {},
   "source": [
    "### 13 \n",
    "Zenbaki zerrenda batetako moda: elementuak gehien errepikatzen den elementua. \n",
    "Elementu bat baina gehiago balira, haietako edozein."
   ]
  },
  {
   "cell_type": "code",
   "execution_count": 3,
   "metadata": {},
   "outputs": [
    {
     "data": {
      "text/plain": [
       "4"
      ]
     },
     "execution_count": 3,
     "metadata": {},
     "output_type": "execute_result"
    }
   ],
   "source": [
    "def moda(z):\n",
    "    maxv = None\n",
    "    maxn = 0\n",
    "    for x in z :\n",
    "        n = z.count(x)\n",
    "        if n > maxn :\n",
    "            maxv = x\n",
    "            maxn = n\n",
    "    return maxv\n",
    "\n",
    "z = [1,2,3,4,2,3,4,3,4,5,6,4,7]\n",
    "moda(z)"
   ]
  },
  {
   "cell_type": "markdown",
   "metadata": {},
   "source": [
    "Problemaren tamaina: $n=len(z)$\n",
    "```python\n",
    "def moda(z):\n",
    "    maxv = None              # 1\n",
    "    maxn = 0                 # 1\n",
    "    for x in z :             # n (barneko guztia n aldiz)\n",
    "        n = z.count(x)       # n x (n + 1)\n",
    "        if n > maxn :        # | \n",
    "            maxv = x         # |\n",
    "            maxn = n         # | n x 1\n",
    "    return maxv              # 1\n",
    "```\n",
    "$t(n) = n^2 + 3n + 3 \\to \\Theta(n^2)$"
   ]
  },
  {
   "cell_type": "code",
   "execution_count": 6,
   "metadata": {},
   "outputs": [
    {
     "data": {
      "text/plain": [
       "4"
      ]
     },
     "execution_count": 6,
     "metadata": {},
     "output_type": "execute_result"
    }
   ],
   "source": [
    "def moda(z):\n",
    "    h = {}\n",
    "    for x in z :\n",
    "        h[x] = h.get(x,0) + 1\n",
    "    maxv = None\n",
    "    maxn = 0\n",
    "    for x,n in h.items():\n",
    "        if n > maxn :\n",
    "            maxv = x\n",
    "            maxn = n\n",
    "    return maxv\n",
    "\n",
    "z = [1,2,3,4,2,3,4,3,4,5,6,4,7]\n",
    "moda(z)"
   ]
  },
  {
   "cell_type": "markdown",
   "metadata": {},
   "source": [
    "Problemaren tamaina: $n=len(z)$\n",
    "```python\n",
    "def moda(z):\n",
    "    h = {}                      # 1\n",
    "    for x in z :                # n (barneko guztia n aldiz)\n",
    "        h[x] = h.get(x,0) + 1   # n x 1\n",
    "    maxv = None              # 1\n",
    "    maxn = 0                 # 1\n",
    "    for x,n in h.items() :   # k = [1,n] (barneko guztia k aldiz)\n",
    "        if n > maxn :        # | \n",
    "            maxv = x         # |\n",
    "            maxn = n         # | k x 1\n",
    "    return maxv              # 1\n",
    "```\n",
    "$t(n) = 2n + 2k + 4 \\; (k \\in [1,n])\\to 2n + 4 \\le t(n) \\le 4n + 4 \\to \\Theta(n)$"
   ]
  },
  {
   "cell_type": "markdown",
   "metadata": {},
   "source": [
    "### 11\n",
    " Hiztegi edo multzorik erabili gabe, testu fitxategi batetan hutsunez banandutako hitz ezberdinen \n",
    "kopurua."
   ]
  },
  {
   "cell_type": "code",
   "execution_count": 13,
   "metadata": {},
   "outputs": [],
   "source": [
    "def hitz_ezberdin_kopurua(filename,encoding=\"utf8\"):    \n",
    "    with open(filename, encoding=encoding) as f:\n",
    "        z = []                        # 1 \n",
    "        #for x in hitzak(f): # n (barrukoa n aldiz)\n",
    "        for line in f :              #|\n",
    "            for x in line.split():   #| n (barrukoa n aldiz) \n",
    "                if x not in z :      # |\n",
    "                    z.append(x)      # | [n x 1 , 1+2+3+4+...+n]\n",
    "        return len(z)                # 1"
   ]
  },
  {
   "cell_type": "code",
   "execution_count": 14,
   "metadata": {},
   "outputs": [
    {
     "data": {
      "text/plain": [
       "57"
      ]
     },
     "execution_count": 14,
     "metadata": {},
     "output_type": "execute_result"
    }
   ],
   "source": [
    "hitz_ezberdin_kopurua(\"minibible.clean.txt\")"
   ]
  },
  {
   "cell_type": "markdown",
   "metadata": {},
   "source": [
    "tamaina: $n:$ hitz kopurua\n",
    "\n",
    "* Kasu ona: fitxategiko hitz guztiak berdinak $t(n) = 2n + 2 \\to \\Omega(n)$\n",
    "* Kasu txarra: fitxategiko hitz guztiak ezberdinak $t(n) = \\frac{n \\cdot (n+1)}{2} + n + 2 \\to O(n^2)$\n"
   ]
  },
  {
   "cell_type": "markdown",
   "metadata": {},
   "source": [
    "### 12\n",
    " Hiztegi edo multzoak erabiliz, testu fitxategi batetan hutsunez banandutako hitz ezberdinen \n",
    "kopurua."
   ]
  },
  {
   "cell_type": "code",
   "execution_count": 19,
   "metadata": {},
   "outputs": [],
   "source": [
    "def hitz_ezberdin_kopurua(filename,encoding=\"utf8\"):   \n",
    "    with open(filename, encoding=encoding) as f:\n",
    "        s = set()                  # 1\n",
    "        #for x in hitzak(f): # n (barrukoa n aldiz)\n",
    "        for line in f :            #|\n",
    "            for x in line.split(): #| n (barrukoa n aldiz) \n",
    "                s.add(x)           # n x 1\n",
    "        return len(s)              # 1"
   ]
  },
  {
   "cell_type": "code",
   "execution_count": 20,
   "metadata": {},
   "outputs": [
    {
     "data": {
      "text/plain": [
       "57"
      ]
     },
     "execution_count": 20,
     "metadata": {},
     "output_type": "execute_result"
    }
   ],
   "source": [
    "hitz_ezberdin_kopurua(\"minibible.clean.txt\")"
   ]
  },
  {
   "cell_type": "markdown",
   "metadata": {},
   "source": [
    "tamaina: $n:$ hitz kopurua\n",
    "\n",
    "$t(n) = 2n + 2 \\to \\Theta(n)$"
   ]
  },
  {
   "cell_type": "markdown",
   "metadata": {},
   "source": [
    "### 14\n",
    "Zenbaki zerrenda batetako mediana: elementuak ordenatzean erdian gelditzen den \n",
    "elementua. Zerrendaren tamaina bikoitia balitz, erdiko bi elementuen batazbestekoa"
   ]
  },
  {
   "cell_type": "code",
   "execution_count": null,
   "metadata": {},
   "outputs": [],
   "source": [
    "def mediana(z):\n",
    "    return sorted(z)[len(z)//2]"
   ]
  },
  {
   "cell_type": "markdown",
   "metadata": {},
   "source": [
    "Tamaina: $n = len(z)$\n",
    "\n",
    "$t(n) =  4 + n \\cdot \\log n  \\to \\Theta(n \\cdot \\log n)$"
   ]
  }
 ],
 "metadata": {
  "kernelspec": {
   "display_name": "Python 3",
   "language": "python",
   "name": "python3"
  },
  "language_info": {
   "codemirror_mode": {
    "name": "ipython",
    "version": 3
   },
   "file_extension": ".py",
   "mimetype": "text/x-python",
   "name": "python",
   "nbconvert_exporter": "python",
   "pygments_lexer": "ipython3",
   "version": "3.7.6"
  }
 },
 "nbformat": 4,
 "nbformat_minor": 4
}
