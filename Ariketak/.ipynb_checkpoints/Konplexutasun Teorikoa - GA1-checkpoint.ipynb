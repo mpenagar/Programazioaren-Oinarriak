{
 "cells": [
  {
   "cell_type": "markdown",
   "metadata": {},
   "source": [
    "### 7\n",
    "Hiztegi edo multzorik erabili gabe, zerrenda batetan agertzen diren elementu ezberdinen \n",
    "kopurua."
   ]
  },
  {
   "cell_type": "code",
   "execution_count": 1,
   "metadata": {},
   "outputs": [
    {
     "data": {
      "text/plain": [
       "4"
      ]
     },
     "execution_count": 1,
     "metadata": {},
     "output_type": "execute_result"
    }
   ],
   "source": [
    "def ezberdin_kopurua(z):\n",
    "    aux = []\n",
    "    for x in z :\n",
    "        if x not in aux :\n",
    "            aux.append(x)\n",
    "    return len(aux)\n",
    "\n",
    "ezberdin_kopurua([1,2,3,4]*20)"
   ]
  },
  {
   "cell_type": "markdown",
   "metadata": {},
   "source": [
    "tamaina: $n=len(z)$\n",
    "\n",
    "* kasu ona: `z`ko elementu guztiak berdinak --> $t(n)=n+1$\n",
    "* kasu txarra: `z`ko elementu guztiak ezberdinak --> $t(n)=\\frac{n \\cdot (n+1)}{2} + 1 = n^2 + n + 1$"
   ]
  },
  {
   "cell_type": "markdown",
   "metadata": {},
   "source": [
    "### 8\n",
    "Hiztegi edo multzoak erabiliz, zerrenda batetan agertzen diren elementu ezberdinen \n",
    "kopurua. "
   ]
  },
  {
   "cell_type": "code",
   "execution_count": 3,
   "metadata": {},
   "outputs": [
    {
     "data": {
      "text/plain": [
       "4"
      ]
     },
     "execution_count": 3,
     "metadata": {},
     "output_type": "execute_result"
    }
   ],
   "source": [
    "def ezberdin_kopurua(z):\n",
    "    return len(set(z))\n",
    "\n",
    "ezberdin_kopurua([1,2,3,4]*20)"
   ]
  },
  {
   "cell_type": "markdown",
   "metadata": {},
   "source": [
    "tamaina: $n=len(z)$\n",
    "\n",
    "* $t(n)=n+1$"
   ]
  }
 ],
 "metadata": {
  "kernelspec": {
   "display_name": "Python 3",
   "language": "python",
   "name": "python3"
  },
  "language_info": {
   "codemirror_mode": {
    "name": "ipython",
    "version": 3
   },
   "file_extension": ".py",
   "mimetype": "text/x-python",
   "name": "python",
   "nbconvert_exporter": "python",
   "pygments_lexer": "ipython3",
   "version": "3.7.6"
  }
 },
 "nbformat": 4,
 "nbformat_minor": 4
}
