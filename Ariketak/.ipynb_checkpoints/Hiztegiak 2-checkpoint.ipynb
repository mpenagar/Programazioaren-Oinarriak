{
 "cells": [
  {
   "cell_type": "markdown",
   "metadata": {},
   "source": [
    "### 7 \n",
    "Matrize bat sakabanatua edo dispertsoa dela diogu bere balio gehienak 0 direnean. Matrize sakabanatuak adierazteko aukera bat hiztegiak erabiliz da, 0-ren ezberdinak diren balioak soilik adieraziz eta gako moduan (i,j) indize bikoteak erabiliz. Adibidez: `A = [ [0,0,3.7,0], [-1.4,0,0,5.21], [0,0,0,1.5], [2.04,1.92,0,0] ]` matrizea ondoko hiztegiaren bidez adierazi genezake: `{ (0,2): 3.7, (1,0): -1.4, (1,3): 5.21, (2,3): 1.5, (3,0): 2.04, (3,1): 1.92 }`. Sortu itzazu ondoko funtzioak:\n",
    "* a. Matrize dispertso bat pantailatik idatzi (bere eduki osoa, 0-ak barne)\n",
    "* b. Bi matrizeen batura\n",
    "* c. Bi matrizeen biderkarura"
   ]
  },
  {
   "cell_type": "code",
   "execution_count": 21,
   "metadata": {},
   "outputs": [
    {
     "name": "stdout",
     "output_type": "stream",
     "text": [
      "(4, 4)\n",
      "(4, 4)\n",
      "0\t0\t3.7\t0\t\n",
      "-1.4\t0\t0\t5.21\t\n",
      "0\t0\t0\t1.5\t\n",
      "2.04\t1.92\t0\t0\t\n"
     ]
    }
   ],
   "source": [
    "def dim_min(M):\n",
    "    # hasieratzeko modu bat\n",
    "    imax,jmax = -1,-1\n",
    "    # hasieratzeko beste modu bat\n",
    "    #imax,jmax = list(M)[0]\n",
    "    # hasieratzeko beste modu bat\n",
    "    #for imax,jmax in M :\n",
    "    #    break\n",
    "    for i,j in M :\n",
    "        if i > imax :\n",
    "            imax = i\n",
    "        if j > jmax :\n",
    "            jmax = j\n",
    "    return imax+1,jmax+1\n",
    "\n",
    "A = { (0,2): 3.7, (1,0): -1.4, (1,3): 5.21, (2,3): 1.5, (3,0): 2.04, (3,1): 1.92 }\n",
    "print(dim_min(A))\n",
    "\n",
    "# help(max)\n",
    "\n",
    "def my_key(t):\n",
    "    return t[1]\n",
    "\n",
    "def dim_min(M):\n",
    "    \"Matrize sakabanatu baten dimentsio minimoak bueltatzen ditu\"\n",
    "    ilarak = max(M)[0] + 1\n",
    "    zutabeak = max(M,key=my_key)[1] + 1\n",
    "    return ilarak,zutabeak\n",
    "\n",
    "print(dim_min(A))\n",
    "\n",
    "def print_sparse_matrix(M):\n",
    "    rows,cols = dim_min(M)\n",
    "    for i in range(rows):\n",
    "        for j in range(cols):\n",
    "            print(M.get((i,j),0), end='\\t')\n",
    "        print()\n",
    "\n",
    "print_sparse_matrix(A)"
   ]
  }
 ],
 "metadata": {
  "kernelspec": {
   "display_name": "Python 3",
   "language": "python",
   "name": "python3"
  },
  "language_info": {
   "codemirror_mode": {
    "name": "ipython",
    "version": 3
   },
   "file_extension": ".py",
   "mimetype": "text/x-python",
   "name": "python",
   "nbconvert_exporter": "python",
   "pygments_lexer": "ipython3",
   "version": "3.7.6"
  }
 },
 "nbformat": 4,
 "nbformat_minor": 4
}
