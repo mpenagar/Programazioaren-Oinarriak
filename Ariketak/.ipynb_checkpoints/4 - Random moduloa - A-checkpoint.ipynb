{
 "cells": [
  {
   "cell_type": "code",
   "execution_count": 22,
   "metadata": {},
   "outputs": [
    {
     "name": "stdout",
     "output_type": "stream",
     "text": [
      "6\n",
      "4\n",
      "7\n",
      "6\n",
      "6\n",
      "8\n",
      "7\n",
      "4\n",
      "5\n",
      "6\n"
     ]
    }
   ],
   "source": [
    "from random import randint as rrandint\n",
    "def randint(a,b):\n",
    "    return rrandint(a,b)\n",
    "\n",
    "for i in range(10):\n",
    "    print(randint(4,8))\n",
    "    "
   ]
  },
  {
   "cell_type": "markdown",
   "metadata": {},
   "source": [
    "## 2\n",
    "random moduloko random funtzioa edo aurreko edozein funtzio erabiliz, sortu ezazu `range(start,stop[,step])` sekuentziako auzazko zenbaki osoa bueltatuko duen `randrange(start,stop[,step])` funtzioa."
   ]
  },
  {
   "cell_type": "code",
   "execution_count": 64,
   "metadata": {},
   "outputs": [
    {
     "name": "stdout",
     "output_type": "stream",
     "text": [
      "10\n",
      "4\n",
      "10\n",
      "4\n",
      "4\n",
      "4\n",
      "10\n",
      "4\n",
      "7\n",
      "7\n"
     ]
    }
   ],
   "source": [
    "def randrange(start,stop,step=1):\n",
    "#     z = [] <-- range(start,stop,step)\n",
    "#     i = start\n",
    "#     while i < stop :\n",
    "#         z.append(i)\n",
    "#         i += step\n",
    "#     z = []\n",
    "#     for i in range(start,stop,step):\n",
    "#         z.append(i)\n",
    "    #z = range(start,stop,step)\n",
    "    z = list(range(start,stop,step))\n",
    "    i = randint(0,len(z)-1)\n",
    "    return z[i]\n",
    "\n",
    "for i in range(10):\n",
    "    print(randrange(4,12,3))"
   ]
  },
  {
   "cell_type": "code",
   "execution_count": 48,
   "metadata": {},
   "outputs": [
    {
     "data": {
      "text/plain": [
       "(4, 10)"
      ]
     },
     "execution_count": 48,
     "metadata": {},
     "output_type": "execute_result"
    }
   ],
   "source": [
    "range(10)[4],len(range(10))"
   ]
  }
 ],
 "metadata": {
  "kernelspec": {
   "display_name": "Python 3",
   "language": "python",
   "name": "python3"
  },
  "language_info": {
   "codemirror_mode": {
    "name": "ipython",
    "version": 3
   },
   "file_extension": ".py",
   "mimetype": "text/x-python",
   "name": "python",
   "nbconvert_exporter": "python",
   "pygments_lexer": "ipython3",
   "version": "3.7.6"
  }
 },
 "nbformat": 4,
 "nbformat_minor": 4
}
