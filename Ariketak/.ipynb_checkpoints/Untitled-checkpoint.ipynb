{
 "cells": [
  {
   "cell_type": "code",
   "execution_count": 1,
   "metadata": {},
   "outputs": [],
   "source": [
    "import math"
   ]
  },
  {
   "cell_type": "code",
   "execution_count": 3,
   "metadata": {},
   "outputs": [
    {
     "name": "stdout",
     "output_type": "stream",
     "text": [
      "Help on built-in function acos in module math:\n",
      "\n",
      "acos(x, /)\n",
      "    Return the arc cosine (measured in radians) of x.\n",
      "\n"
     ]
    }
   ],
   "source": [
    "help(math.acos)"
   ]
  },
  {
   "cell_type": "code",
   "execution_count": 12,
   "metadata": {},
   "outputs": [],
   "source": [
    "def biderkadura_eskalarra(a,b):\n",
    "    e = 0\n",
    "    for i in range(len(a)):\n",
    "        e += a[i]*b[i]\n",
    "    return e\n",
    "\n",
    "def biderkadura_eskalarra(a,b):\n",
    "    e = 0\n",
    "    for x,y in zip(a,b):\n",
    "        e += x*y\n",
    "    return e"
   ]
  },
  {
   "cell_type": "code",
   "execution_count": 13,
   "metadata": {},
   "outputs": [],
   "source": [
    "def modulua(a):\n",
    "    e = 0\n",
    "    for x in a:\n",
    "        e += x*x\n",
    "    return math.sqrt(e)\n",
    "\n",
    "def modulua(a):\n",
    "    return math.sqrt(biderkadura_eskalarra(a,a))"
   ]
  },
  {
   "cell_type": "code",
   "execution_count": 15,
   "metadata": {},
   "outputs": [],
   "source": [
    "def angekua(a,b):\n",
    "    return math.acos(biderkadura_eskalarra(a,b)/(modulua(a)*modulua(b)))"
   ]
  },
  {
   "cell_type": "code",
   "execution_count": 16,
   "metadata": {},
   "outputs": [
    {
     "data": {
      "text/plain": [
       "1.5707963267948966"
      ]
     },
     "execution_count": 16,
     "metadata": {},
     "output_type": "execute_result"
    }
   ],
   "source": [
    "angekua([1,0],[0,1])"
   ]
  },
  {
   "cell_type": "code",
   "execution_count": 54,
   "metadata": {},
   "outputs": [
    {
     "name": "stdout",
     "output_type": "stream",
     "text": [
      "Help on method randrange in module random:\n",
      "\n",
      "randrange(start, stop=None, step=1, _int=<class 'int'>) method of random.Random instance\n",
      "    Choose a random item from range(start, stop[, step]).\n",
      "    \n",
      "    This fixes the problem with randint() which includes the\n",
      "    endpoint; in Python this is usually not what you want.\n",
      "\n"
     ]
    }
   ],
   "source": [
    "help(random.randrange)"
   ]
  },
  {
   "cell_type": "code",
   "execution_count": 55,
   "metadata": {},
   "outputs": [],
   "source": [
    "def mrandom(n,m,a=0.0,b=1.0):\n",
    "    M = []\n",
    "    for i in range(n):\n",
    "        z = []\n",
    "        #M.append(z)\n",
    "        for j in range(m):\n",
    "            z.append(a+random.random()*(b-a))\n",
    "        M.append(z)\n",
    "    return M\n",
    "    \n",
    "    \n",
    "    "
   ]
  },
  {
   "cell_type": "code",
   "execution_count": 56,
   "metadata": {},
   "outputs": [
    {
     "data": {
      "text/plain": [
       "[[17.988562102468748,\n",
       "  -0.0036244528962470213,\n",
       "  15.851700611636097,\n",
       "  -7.6671667599615905],\n",
       " [-8.216876855188302,\n",
       "  10.882203920829518,\n",
       "  -7.940125180462566,\n",
       "  10.426592105405302],\n",
       " [16.13533749087176, 15.97377005735271, 13.53302861448218, 10.060739378164229]]"
      ]
     },
     "execution_count": 56,
     "metadata": {},
     "output_type": "execute_result"
    }
   ],
   "source": [
    "mrandom(3,4,-10,20)"
   ]
  }
 ],
 "metadata": {
  "kernelspec": {
   "display_name": "Python 3",
   "language": "python",
   "name": "python3"
  },
  "language_info": {
   "codemirror_mode": {
    "name": "ipython",
    "version": 3
   },
   "file_extension": ".py",
   "mimetype": "text/x-python",
   "name": "python",
   "nbconvert_exporter": "python",
   "pygments_lexer": "ipython3",
   "version": "3.7.6"
  }
 },
 "nbformat": 4,
 "nbformat_minor": 4
}
