{
 "cells": [
  {
   "cell_type": "markdown",
   "metadata": {},
   "source": [
    "### 1 \n",
    "random moduloko random funtzioa soilik erabiliz, sortu ezazu $[a,b]$ tartean uniformeki banatutako zenbaki osoa bueltatuko duen `randint(a,b)` funtzioa."
   ]
  },
  {
   "cell_type": "code",
   "execution_count": 1,
   "metadata": {},
   "outputs": [],
   "source": [
    "from random import random "
   ]
  },
  {
   "cell_type": "markdown",
   "metadata": {},
   "source": [
    "$random() \\in [0,1)  \\to  randint(a,b) \\in [a,b]$"
   ]
  },
  {
   "cell_type": "code",
   "execution_count": 21,
   "metadata": {},
   "outputs": [
    {
     "data": {
      "text/plain": [
       "(2, 2, -2, -2)"
      ]
     },
     "execution_count": 21,
     "metadata": {},
     "output_type": "execute_result"
    }
   ],
   "source": [
    "int(2.1),int(2.7),int(-2.1),int(-2.7)\n",
    "#2.1//1,2.7//1,-2.1//1,-2.7//1"
   ]
  },
  {
   "cell_type": "code",
   "execution_count": 24,
   "metadata": {},
   "outputs": [
    {
     "data": {
      "text/plain": [
       "(2, 2, -3, -3)"
      ]
     },
     "execution_count": 24,
     "metadata": {},
     "output_type": "execute_result"
    }
   ],
   "source": [
    "from math import floor\n",
    "floor(2.1),floor(2.7),floor(-2.1),floor(-2.7)"
   ]
  },
  {
   "cell_type": "code",
   "execution_count": 25,
   "metadata": {},
   "outputs": [],
   "source": [
    "def randint(a,b):\n",
    "    x = random()\n",
    "    return floor(a + x * (b-a+1))"
   ]
  },
  {
   "cell_type": "code",
   "execution_count": 35,
   "metadata": {},
   "outputs": [],
   "source": [
    "def randint(a,b):\n",
    "    x = random()\n",
    "    return round(a + x * (b-a+1) - 0.5)"
   ]
  },
  {
   "cell_type": "code",
   "execution_count": 36,
   "metadata": {},
   "outputs": [
    {
     "data": {
      "image/png": "[encoded data removed]",
      "text/plain": [
       "<Figure size 432x288 with 1 Axes>"
      ]
     },
     "metadata": {
      "needs_background": "light"
     },
     "output_type": "display_data"
    }
   ],
   "source": [
    "%matplotlib inline\n",
    "import matplotlib.pyplot as plt\n",
    "n = 10000\n",
    "x = [randint(15,25) for i in range(n)]\n",
    "y = [randint(-40,-20) for i in range(n)]\n",
    "fig = plt.plot(x, y, '.')"
   ]
  },
  {
   "cell_type": "code",
   "execution_count": 37,
   "metadata": {},
   "outputs": [
    {
     "name": "stdout",
     "output_type": "stream",
     "text": [
      "90608 91129 90911 90764 91256 91008 90902 90947 90531 91345 90588\n"
     ]
    }
   ],
   "source": [
    "h = {}\n",
    "for i in range(1000000):\n",
    "    i = randint(-5,5)\n",
    "    if i in h :\n",
    "        h[i]+=1\n",
    "    else :\n",
    "        h[i]=0\n",
    "print(*h.values())"
   ]
  }
 ],
 "metadata": {
  "kernelspec": {
   "display_name": "Python 3",
   "language": "python",
   "name": "python3"
  },
  "language_info": {
   "codemirror_mode": {
    "name": "ipython",
    "version": 3
   },
   "file_extension": ".py",
   "mimetype": "text/x-python",
   "name": "python",
   "nbconvert_exporter": "python",
   "pygments_lexer": "ipython3",
   "version": "3.7.6"
  }
 },
 "nbformat": 4,
 "nbformat_minor": 4
}
