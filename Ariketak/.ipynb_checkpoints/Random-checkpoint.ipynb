{
 "cells": [
  {
   "cell_type": "markdown",
   "metadata": {},
   "source": [
    "### 1\n",
    "random moduloko random funtzioa soilik erabiliz, sortu ezazu `[a,b]` tartean uniformekibanatutako zenbaki osoa bueltatuko duen `randint(a,b)` funtzioa."
   ]
  },
  {
   "cell_type": "code",
   "execution_count": 1,
   "metadata": {},
   "outputs": [
    {
     "name": "stdout",
     "output_type": "stream",
     "text": [
      "4\n",
      "10\n",
      "7\n",
      "10\n",
      "10\n",
      "10\n",
      "9\n",
      "8\n",
      "4\n",
      "10\n"
     ]
    }
   ],
   "source": [
    "from random import random\n",
    "\n",
    "def randint(a,b):\n",
    "    return int((b-a+1) * random()) + a\n",
    "def randint(a,b):\n",
    "    return round((b-a+1) * random() - 0.5 ) + a\n",
    "\n",
    "for i in range(10):\n",
    "    print(randint(4,11))"
   ]
  },
  {
   "cell_type": "code",
   "execution_count": 2,
   "metadata": {},
   "outputs": [
    {
     "data": {
      "image/png": "[encoded data removed]",
      "text/plain": [
       "<Figure size 432x288 with 1 Axes>"
      ]
     },
     "metadata": {
      "needs_background": "light"
     },
     "output_type": "display_data"
    }
   ],
   "source": [
    "%matplotlib inline\n",
    "import matplotlib.pyplot as plt\n",
    "n = 1000\n",
    "x = [randint(4,11) for i in range(n)]\n",
    "y = [randint(4,11) for i in range(n)]\n",
    "fig = plt.plot(x, y, '.')"
   ]
  },
  {
   "cell_type": "code",
   "execution_count": 3,
   "metadata": {},
   "outputs": [
    {
     "data": {
      "text/plain": [
       "{14: 19974, 13: 20157, 10: 20084, 11: 19713, 12: 20072}"
      ]
     },
     "execution_count": 3,
     "metadata": {},
     "output_type": "execute_result"
    }
   ],
   "source": [
    "h = {}\n",
    "for i in range(100000):\n",
    "    x = randint(10,14)\n",
    "    h[x] = h.get(x,0) + 1\n",
    "h"
   ]
  },
  {
   "cell_type": "code",
   "execution_count": 4,
   "metadata": {},
   "outputs": [
    {
     "data": {
      "text/plain": [
       "(3, 4, 4, -4)"
      ]
     },
     "execution_count": 4,
     "metadata": {},
     "output_type": "execute_result"
    }
   ],
   "source": [
    "int(3.9),int(4.1),int(4.6),int(-4.2)"
   ]
  },
  {
   "cell_type": "code",
   "execution_count": 5,
   "metadata": {},
   "outputs": [
    {
     "data": {
      "text/plain": [
       "(4, 4, 5, -4)"
      ]
     },
     "execution_count": 5,
     "metadata": {},
     "output_type": "execute_result"
    }
   ],
   "source": [
    "round(3.9),round(4.1),round(4.6),round(-4.2)"
   ]
  },
  {
   "cell_type": "markdown",
   "metadata": {},
   "source": [
    "### 2\n",
    "random moduloko random funtzioa edo aurreko edozein funtzio erabiliz, sortu ezazu `range(start,stop[,step])` sekuentziako auzazko zenbaki osoa bueltatuko duen `randrange(start,stop[,step])` funtzioa"
   ]
  },
  {
   "cell_type": "code",
   "execution_count": 6,
   "metadata": {},
   "outputs": [
    {
     "data": {
      "text/plain": [
       "[7, 7, 9, 5, 7, 7, 9, 1, 5, 7, 7, 1, 5, 5, 3, 9, 1, 3, 3, 3]"
      ]
     },
     "execution_count": 6,
     "metadata": {},
     "output_type": "execute_result"
    }
   ],
   "source": [
    "def randrange(start,stop,step=1):\n",
    "    stop -= 1\n",
    "    i = randint(start,stop)\n",
    "    while (i-start)%step != 0 :\n",
    "        i = randint(start,stop)\n",
    "    return i\n",
    "\n",
    "[randrange(1,10,2) for i in range(20)]\n"
   ]
  },
  {
   "cell_type": "code",
   "execution_count": 7,
   "metadata": {},
   "outputs": [
    {
     "data": {
      "text/plain": [
       "[9, 5, 5, 3, 7, 7, 3, 5, 3, 1, 3, 1, 1, 7, 5, 3, 1, 1, 9, 3]"
      ]
     },
     "execution_count": 7,
     "metadata": {},
     "output_type": "execute_result"
    }
   ],
   "source": [
    "def randrange(start,stop,step=1):\n",
    "    # n : range(start,stop[,step])-eko elementu kopurua\n",
    "    n = (stop-start) // step\n",
    "    n = len(range(start,stop,step))\n",
    "    return start + randint(0,n-1) * step\n",
    "\n",
    "[randrange(1,10,2) for i in range(20)]\n"
   ]
  },
  {
   "cell_type": "code",
   "execution_count": 8,
   "metadata": {},
   "outputs": [
    {
     "data": {
      "text/plain": [
       "7"
      ]
     },
     "execution_count": 8,
     "metadata": {},
     "output_type": "execute_result"
    }
   ],
   "source": [
    "len(range(2,23,3))"
   ]
  },
  {
   "cell_type": "markdown",
   "metadata": {},
   "source": [
    "### 3\n",
    "random moduloko random funtzioa edo aurreko edozein funtzio erabiliz, sortu ezazu seq sekuentziako auzazko balioabueltatuko duen `choice(seq)` funtzioa."
   ]
  },
  {
   "cell_type": "code",
   "execution_count": 9,
   "metadata": {},
   "outputs": [],
   "source": [
    "def choice(seq):\n",
    "    return seq[randint(0,len(seq)-1)]"
   ]
  },
  {
   "cell_type": "markdown",
   "metadata": {},
   "source": [
    "### 4\n",
    "random moduloko random funtzioa edo aurreko edozein funtzio erabiliz, sortu ezazu `seq` sekuentzia aldakorreko elementuak auzazki nahastuko dituen `shuffle(seq)` funtzioa."
   ]
  },
  {
   "cell_type": "code",
   "execution_count": 143,
   "metadata": {},
   "outputs": [],
   "source": [
    "def shuffle(seq):\n",
    "    z = seq[:]\n",
    "    for i in range(len(seq)):\n",
    "        j = randint(0,len(z)-1)\n",
    "        #seq[i] = z[j]\n",
    "        #del z[j]\n",
    "        seq[i] = z.pop(j)\n",
    "        \n",
    "def shuffle(seq):\n",
    "    z = seq[:]\n",
    "    for i in range(len(seq)):\n",
    "        seq[i] = z.pop(randint(0,len(z)-1))\n",
    "        \n",
    "def shuffle(seq):\n",
    "    n_1 = len(seq)-1\n",
    "    for i in range(n_1) :\n",
    "        j = randint(i,n_1)\n",
    "        if i != j :\n",
    "            seq[i],seq[j] = seq[j],seq[i]\n",
    "            \n",
    "            \n",
    "def shuffle(seq):\n",
    "    z = []\n",
    "    while len(z) < len(seq):\n",
    "        i = randint(0,len(seq)-1)\n",
    "        if i not in z :\n",
    "            z.append(i)\n",
    "    x = seq[:]\n",
    "    for i,j in enumerate(z) :\n",
    "        seq[i] = x[j]\n",
    "\n",
    "# Multzo batek \"not in\" eragiketa bizkortzen du\n",
    "# baina multzoan ez dago ordenik...\n",
    "def shuffle(seq):\n",
    "    m = set()\n",
    "    z = []\n",
    "    while len(m) < len(seq):\n",
    "        i = randint(0,len(seq)-1)\n",
    "        if i not in m :\n",
    "            m.add(i)\n",
    "            z.append(i)\n",
    "    x = seq[:]\n",
    "    for i,j in enumerate(z) :\n",
    "        seq[i] = x[j]"
   ]
  },
  {
   "cell_type": "code",
   "execution_count": 144,
   "metadata": {},
   "outputs": [
    {
     "name": "stdout",
     "output_type": "stream",
     "text": [
      "[8, 1, 4, 5, 2, 3, 9, 0, 7, 6]\n"
     ]
    }
   ],
   "source": [
    "z = list(range(10))\n",
    "shuffle(z)\n",
    "print(z)"
   ]
  }
 ],
 "metadata": {
  "kernelspec": {
   "display_name": "Python 3",
   "language": "python",
   "name": "python3"
  },
  "language_info": {
   "codemirror_mode": {
    "name": "ipython",
    "version": 3
   },
   "file_extension": ".py",
   "mimetype": "text/x-python",
   "name": "python",
   "nbconvert_exporter": "python",
   "pygments_lexer": "ipython3",
   "version": "3.7.6"
  }
 },
 "nbformat": 4,
 "nbformat_minor": 4
}
