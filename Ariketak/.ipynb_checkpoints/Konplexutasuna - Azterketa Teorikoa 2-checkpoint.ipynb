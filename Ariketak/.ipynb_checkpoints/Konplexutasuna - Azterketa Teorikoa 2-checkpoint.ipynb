{
 "cells": [
  {
   "cell_type": "markdown",
   "metadata": {},
   "source": [
    "### 7\n",
    "Hiztegi edo multzorik erabili gabe, zerrenda batetan agertzen diren elementu ezberdinen kopurua.\n",
    "\n",
    "Problemaren tamaina: `ezberdin_kopurua(z) --> n = len(z)`"
   ]
  },
  {
   "cell_type": "code",
   "execution_count": 6,
   "metadata": {},
   "outputs": [
    {
     "data": {
      "text/plain": [
       "(7, 7)"
      ]
     },
     "execution_count": 6,
     "metadata": {},
     "output_type": "execute_result"
    }
   ],
   "source": [
    "def ezberdin_kopurua(z):      \n",
    "    e = []                  # 1\n",
    "    for x in z :            # n x 1\n",
    "        if x not in e :     # n x [1 , len(e)]\n",
    "            e.append(x)     # aurrekoaren barne\n",
    "    return len(e)           # 1\n",
    "    \n",
    "\n",
    "z = [32,2,523,23,23,423,423,523,523,23,4,234]\n",
    "ezberdin_kopurua(z),len(set(z))"
   ]
  },
  {
   "cell_type": "markdown",
   "metadata": {},
   "source": [
    "* kasu ona: **z-ko elementu guztiak berdinak dira**\n",
    "   * $t(n) = 2n+2 \\to \\Omega(n)$\n",
    "* kasu txarra: **z-ko elementu guztiak ezberdinak dira**\n",
    "   * `if x not in e :` $\\to$ $1 + 2 + 3 + 4 + \\dots + n = \\frac{n \\cdot (n+1)}{2}$ \n",
    "   * $t(n) = \\frac{n \\cdot (n+1)}{2}+n+2 \\to O(n^2)$"
   ]
  },
  {
   "cell_type": "code",
   "execution_count": 6,
   "metadata": {},
   "outputs": [
    {
     "data": {
      "text/plain": [
       "(7, 7)"
      ]
     },
     "execution_count": 6,
     "metadata": {},
     "output_type": "execute_result"
    }
   ],
   "source": [
    "def ezberdin_kopurua_multzoa(z):      \n",
    "    return len(set(z))           # n + 2"
   ]
  },
  {
   "cell_type": "markdown",
   "metadata": {},
   "source": [
    "### 12\n",
    "Hiztegi edo multzoak erabiliz, testu fitxategi batetan hutsunez banandutako hitz ezberdinen kopurua.\n",
    "\n",
    "Problemaren tamaina: `hitz_ezberdinak(fizena,kodif) --> n = fizena fitxategiko hitz kopurua`"
   ]
  },
  {
   "cell_type": "code",
   "execution_count": null,
   "metadata": {},
   "outputs": [],
   "source": [
    "def hitzak(fizena,kodif):\n",
    "    with open(fizena,encoding=kodif) as f :\n",
    "        z = []\n",
    "        for line in f :\n",
    "            for w in line.split():\n",
    "                z.append(w)\n",
    "        return z\n",
    "def hitzak(fizena,kodif):\n",
    "    with open(fizena,encoding=kodif) as f :\n",
    "        z = []\n",
    "        for line in f :\n",
    "            z.extend(line.split())\n",
    "        return z\n",
    "def hitzak(fizena,kodif):\n",
    "    with open(fizena,encoding=kodif) as f :\n",
    "        for line in f :\n",
    "            for w in line.split() :\n",
    "                yield w\n",
    "\n",
    "def hitz_ezberdinak(fizena,kodif):\n",
    "    return len(set(hitzak(fizena,kodif)))   # t(hitzak) + n + 2 = 2n + 2"
   ]
  },
  {
   "cell_type": "markdown",
   "metadata": {},
   "source": [
    "### 14\n",
    "Zenbaki zerrenda batetako mediana: elementuak ordenatzean erdian gelditzen den elementua. Zerrendaren tamaina bikoitia balitz, bietako edozein.\n",
    "\n",
    "Problemaren tamaina: `mediana(z) --> n = len(z)`"
   ]
  },
  {
   "cell_type": "code",
   "execution_count": null,
   "metadata": {},
   "outputs": [],
   "source": [
    "# kontuz....\n",
    "def mediana(z):\n",
    "    z.sort()               # n x log n\n",
    "    return z[len(z)//2]    # 1\n",
    "\n",
    "def mediana(z):\n",
    "    z = sorted(z)          # n x log n\n",
    "    return z[len(z)//2]    #  1\n",
    "def mediana(z):\n",
    "    return sorted(z)[len(z)//2]  #  n x log n + 1\n"
   ]
  },
  {
   "cell_type": "markdown",
   "metadata": {},
   "source": [
    "$t(n) = n \\cdot \\log n + 1  \\to  \\Omega(n \\cdot \\log n) \\; O(n \\cdot \\log n) \\;\\to\\; \\Theta(n \\cdot \\log n)$"
   ]
  },
  {
   "cell_type": "markdown",
   "metadata": {},
   "source": [
    "### 17\n",
    "\n",
    "Fiboinacci, bertsio iteratiboa\n",
    "\n",
    "Problemaren tamaina: `fib(n) --> n`"
   ]
  },
  {
   "cell_type": "code",
   "execution_count": 4,
   "metadata": {},
   "outputs": [],
   "source": [
    "def fib(n):\n",
    "    i,j = 0,1             # 1\n",
    "    for _ in range(n-1):  # (n-1) x 1\n",
    "        i,j = j,i+j       # (n-1) x 1\n",
    "    return i              # 1"
   ]
  },
  {
   "cell_type": "markdown",
   "metadata": {},
   "source": [
    "$t(n) = 2 + 2 x (n-1)  \\to  \\Omega(n) \\; O(n) \\;\\to\\; \\Theta(n)$"
   ]
  },
  {
   "cell_type": "code",
   "execution_count": 3,
   "metadata": {},
   "outputs": [
    {
     "name": "stdout",
     "output_type": "stream",
     "text": [
      "fib(1)=0\n",
      "fib(2)=1\n",
      "fib(3)=1\n",
      "fib(4)=2\n",
      "fib(5)=3\n",
      "fib(6)=5\n",
      "fib(7)=8\n",
      "fib(8)=13\n",
      "fib(9)=21\n",
      "fib(10)=34\n"
     ]
    }
   ],
   "source": [
    "for i in range(1,11):\n",
    "    print(f'fib({i})={fib(i)}')"
   ]
  }
 ],
 "metadata": {
  "kernelspec": {
   "display_name": "Python 3",
   "language": "python",
   "name": "python3"
  },
  "language_info": {
   "codemirror_mode": {
    "name": "ipython",
    "version": 3
   },
   "file_extension": ".py",
   "mimetype": "text/x-python",
   "name": "python",
   "nbconvert_exporter": "python",
   "pygments_lexer": "ipython3",
   "version": "3.7.6"
  }
 },
 "nbformat": 4,
 "nbformat_minor": 4
}
