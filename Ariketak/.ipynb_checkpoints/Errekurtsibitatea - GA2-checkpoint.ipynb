{
 "cells": [
  {
   "cell_type": "markdown",
   "metadata": {},
   "source": [
    "### 8\n",
    "$a^n$ espresioa kalkulatuko duen funtzioa, a zenbaki erreal bat izanda eta n zenbaki oso bat."
   ]
  },
  {
   "cell_type": "code",
   "execution_count": 19,
   "metadata": {},
   "outputs": [],
   "source": [
    "def ber(a,n):\n",
    "    if n == 0 :\n",
    "        return 1\n",
    "    else :\n",
    "        return a * ber(a,n-1)\n",
    "    \n",
    "def ber(a,n):\n",
    "    return 1 if n == 0 else a * ber(a,n-1) \n",
    "\n",
    "def ber(a,n):\n",
    "    if n == 0 :\n",
    "        return 1\n",
    "    elif n < 0 :\n",
    "        #return 1/ber(a,-n)\n",
    "        return  ber(a,n+1)/a\n",
    "    else :\n",
    "        return a * ber(a,n-1)"
   ]
  },
  {
   "cell_type": "markdown",
   "metadata": {},
   "source": [
    "tamaina: ???$abs(n)$???\n",
    "\n",
    "$$\n",
    "t(n) = \n",
    "  \\begin{cases}\n",
    "    1 & , & n=0\\\\\n",
    "    1 + t(n-1) & , & n < 0\\\\\n",
    "    1 + t(n-1) & , & n > 0\\\\\n",
    "\\end{cases}\n",
    "$$\n",
    "\n",
    "$$\n",
    "t(n) = \n",
    "  \\begin{cases}\n",
    "    1 & , & n=0\\\\\n",
    "    1 + t(n-1) & , & n > 0\\\\\n",
    "\\end{cases}\n",
    "$$\n",
    "\n",
    "$$ t(n) = 1 + t(n-1) = 2 + t(n-2) = 3 + t(n-3) = \\ldots = k + t(n-k)$$\n",
    "\n",
    "$$n-k = 0 \\to k =n \\to t(n) = n + t(0) = n + 1 \\to \\Theta(n)$$"
   ]
  },
  {
   "cell_type": "markdown",
   "metadata": {},
   "source": [
    "### 8 (`n`-ren erabilera argiagoa)\n",
    "$a^k$ espresioa kalkulatuko duen funtzioa, a zenbaki erreal bat izanda eta k zenbaki oso bat."
   ]
  },
  {
   "cell_type": "code",
   "execution_count": 19,
   "metadata": {},
   "outputs": [],
   "source": [
    "def ber(a,k):\n",
    "    if k == 0 :\n",
    "        return 1\n",
    "    else :\n",
    "        return a * ber(a,k-1)\n",
    "    \n",
    "def ber(a,k):\n",
    "    return 1 if k == 0 else a * ber(a,k-1) \n",
    "\n",
    "def ber(a,k):\n",
    "    if k == 0 :\n",
    "        return 1\n",
    "    elif k < 0 :\n",
    "        #return 1/ber(a,-k)\n",
    "        return  ber(a,k+1)/a\n",
    "    else :\n",
    "        return a * ber(a,k-1)"
   ]
  },
  {
   "cell_type": "markdown",
   "metadata": {},
   "source": [
    "tamaina: $n=abs(k)$\n",
    "\n",
    "$$\n",
    "t(n) = \n",
    "  \\begin{cases}\n",
    "    1 & , & n=0\\\\\n",
    "    1 + t(n-1) & , & n > 0\\\\\n",
    "\\end{cases}\n",
    "$$\n",
    "\n",
    "$$ t(n) = 1 + t(n-1) = 2 + t(n-2) = 3 + t(n-3) = \\ldots = i + t(n-i)$$\n",
    "\n",
    "$$n-i = 0 \\to i = n \\to t(n) = n + t(0) = n + 1 \\to \\Theta(n)$$"
   ]
  },
  {
   "cell_type": "code",
   "execution_count": 20,
   "metadata": {},
   "outputs": [
    {
     "data": {
      "text/plain": [
       "0"
      ]
     },
     "execution_count": 20,
     "metadata": {},
     "output_type": "execute_result"
    }
   ],
   "source": [
    "15**123 - ber(15,123)"
   ]
  },
  {
   "cell_type": "code",
   "execution_count": 21,
   "metadata": {},
   "outputs": [
    {
     "data": {
      "text/plain": [
       "0.0"
      ]
     },
     "execution_count": 21,
     "metadata": {},
     "output_type": "execute_result"
    }
   ],
   "source": [
    "15**-12 - ber(15,-12)"
   ]
  },
  {
   "cell_type": "markdown",
   "metadata": {},
   "source": [
    "### 9 \n",
    "Zerrenda batetako hiru elementu ezberdinen konbinaketa guztiak pantailatik erakutsiko dituen funtzioa"
   ]
  },
  {
   "cell_type": "code",
   "execution_count": 22,
   "metadata": {},
   "outputs": [
    {
     "name": "stdout",
     "output_type": "stream",
     "text": [
      "1 2 3\n",
      "1 2 4\n",
      "1 2 5\n",
      "1 3 4\n",
      "1 3 5\n",
      "1 4 5\n",
      "2 3 4\n",
      "2 3 5\n",
      "2 4 5\n",
      "3 4 5\n"
     ]
    }
   ],
   "source": [
    "def konbinaketak(z):\n",
    "    n = len(z)\n",
    "    for i in range(n-2):\n",
    "        for j in range(i+1,n-1):\n",
    "            for k in range(j+1,n):\n",
    "                print(z[i],z[j],z[k])\n",
    "    \n",
    "konbinaketak([1,2,3,4,5])"
   ]
  },
  {
   "cell_type": "code",
   "execution_count": null,
   "metadata": {},
   "outputs": [],
   "source": [
    "def konbinaketak(z):\n",
    "    _konbinaketak(z,0,1,2)\n",
    "\n",
    "def _konbinaketak(z,i,j,k):\n",
    "    if ??? : # kasu basea\n",
    "        pass\n",
    "    else : # kasu generala\n",
    "        print(z[i],z[j],z[k])\n",
    "        __konbinaketak(z,i??,j??,k??)"
   ]
  }
 ],
 "metadata": {
  "kernelspec": {
   "display_name": "Python 3",
   "language": "python",
   "name": "python3"
  },
  "language_info": {
   "codemirror_mode": {
    "name": "ipython",
    "version": 3
   },
   "file_extension": ".py",
   "mimetype": "text/x-python",
   "name": "python",
   "nbconvert_exporter": "python",
   "pygments_lexer": "ipython3",
   "version": "3.7.6"
  }
 },
 "nbformat": 4,
 "nbformat_minor": 4
}
