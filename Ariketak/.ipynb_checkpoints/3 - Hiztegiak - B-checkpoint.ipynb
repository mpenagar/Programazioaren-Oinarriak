{
 "cells": [
  {
   "cell_type": "markdown",
   "metadata": {},
   "source": [
    "## 5\n",
    "Idatzi funtzio bat, lehenengo n zenbaki lehenen zerrenda gorakorra jasota, hurrengo zenbaki lehena bueltatuko duena. Hurrengo sekuentziek ondoko balioa bueltatu beharko lukete:\n",
    "* `[]` $\\to$ 2\n",
    "* `[2]` $\\to$ 3\n",
    "* `[2,3]` $\\to$ 5\n",
    "* `[2,3,5]` $\\to$ 7"
   ]
  },
  {
   "cell_type": "code",
   "execution_count": 5,
   "metadata": {},
   "outputs": [
    {
     "name": "stdout",
     "output_type": "stream",
     "text": [
      "2\n",
      "7\n"
     ]
    }
   ],
   "source": [
    "def zatigarria_ote(i,z):\n",
    "    for j in z :\n",
    "        if i%j == 0 :\n",
    "            return True\n",
    "    return False\n",
    "\n",
    "def hurrengo_lehena(z):\n",
    "    if not z :\n",
    "        return 2\n",
    "    i = z[-1]+1\n",
    "    while True :\n",
    "        if not zatigarria_ote(i,z):\n",
    "            return i\n",
    "        i += 1\n",
    "\n",
    "def hurrengo_lehena(z):\n",
    "    if not z :\n",
    "        return 2\n",
    "    i = z[-1]+1\n",
    "    while zatigarria_ote(i,z) :\n",
    "        i += 1\n",
    "    return i\n",
    "\n",
    "print(hurrengo_lehena([]))\n",
    "z = [2,3,5]\n",
    "print(hurrengo_lehena(z))\n",
    "# z = []\n",
    "# while True :\n",
    "#     z.append(hurrengo_lehena(z))\n",
    "#     print(z)"
   ]
  },
  {
   "cell_type": "markdown",
   "metadata": {},
   "source": [
    "## 7\n",
    "Matrize bat sakabanatua edo dispertsoa dela diogu bere balio gehienak 0 direnean. Matrize sakabanatuak adierazteko aukera bat hiztegiak erabiliz da, 0-ren ezberdinak diren balioak soilik adieraziz eta gako moduan (i,j) indize bikoteak erabiliz. Adibidez: A = [ [0,0,3.7,0], [-1.4,0,0,5.21], [0,0,0,1.5], [2.04,1.92,0,0] ] matrizea ondoko hiztegiaren bidez adierazi genezake: { (0,2): 3.7, (1,0): -1.4, (1,3): 5.21, (2,3): 1.5, (3,0): 2.04, (3,1): 1.92 }. Sortu itzazu ondoko funtzioak:\n",
    "* Matrize dispertso bat pantailatik idatzi (bere eduki osoa, 0-ak barne)\n",
    "* Bi matrizeen batura\n",
    "* Bi matrizeen biderkarura"
   ]
  },
  {
   "cell_type": "code",
   "execution_count": 11,
   "metadata": {},
   "outputs": [],
   "source": [
    "def print_sparse_matrix(A):\n",
    "    #n = -1 \n",
    "    #m = -1\n",
    "    #for n,m in A\n",
    "    #    break\n",
    "    n,m = next(iter(A))\n",
    "    #for n2,m2 in A :\n",
    "    #    if n2 > n :\n",
    "    #        n = n2\n",
    "    #    if m2 > m :\n",
    "    #        m = m2\n",
    "    for n2,m2 in A :\n",
    "        n,m = max(n,n2),max(m,m2)\n",
    "    n += 1\n",
    "    m += 1\n",
    "    for i in range(n):\n",
    "        for j in range(m):\n",
    "            print(A.get((i,j),0), end=' ')\n",
    "        print()\n"
   ]
  },
  {
   "cell_type": "code",
   "execution_count": 12,
   "metadata": {},
   "outputs": [
    {
     "name": "stdout",
     "output_type": "stream",
     "text": [
      "0 0 3.7 0 \n",
      "-1.4 0 0 5.21 \n",
      "0 0 0 1.5 \n",
      "2.04 1.92 0 0 \n"
     ]
    }
   ],
   "source": [
    "A = {(0,2): 3.7, (1,0): -1.4, (1,3): 5.21, (2,3): 1.5, (3,0): 2.04, (3,1): 1.92 }\n",
    "print_sparse_matrix(A)"
   ]
  },
  {
   "cell_type": "code",
   "execution_count": 24,
   "metadata": {},
   "outputs": [],
   "source": [
    "def batura(A,B):\n",
    "    n,m = next(iter(A))\n",
    "    for n2,m2 in A :\n",
    "        n,m = max(n,n2),max(m,m2)\n",
    "    n += 1\n",
    "    m += 1\n",
    "    h = {}\n",
    "    for i in range(n):\n",
    "        for j in range(m):\n",
    "            x = A.get((i,j),0) + B.get((i,j),0)\n",
    "            if x :\n",
    "                h[(i,j)] = x\n",
    "    return h\n",
    "\n",
    "def batura(A,B):\n",
    "    h = {}\n",
    "    for ij,a in A.items():\n",
    "        x = a + B.get(ij,0)\n",
    "        if x :\n",
    "            h[ij] = x\n",
    "    for ij,b in B.items():\n",
    "        if ij not in A :\n",
    "            h[ij] = b\n",
    "    return h\n",
    "\n",
    "def batura(A,B):\n",
    "    h = A.copy()\n",
    "    for ij,b in B.items():\n",
    "        if ij not in h :\n",
    "            h[ij] = b\n",
    "        else :\n",
    "            x = h[ij] + b\n",
    "            if x :\n",
    "                h[ij] = x\n",
    "            else :\n",
    "                del h[ij]\n",
    "    return h   "
   ]
  },
  {
   "cell_type": "code",
   "execution_count": 25,
   "metadata": {},
   "outputs": [
    {
     "name": "stdout",
     "output_type": "stream",
     "text": [
      "--------------------\n",
      "--------------------\n",
      "{(3, 1): 12.22}\n",
      "0 0 \n",
      "0 0 \n",
      "0 0 \n",
      "0 12.22 \n"
     ]
    }
   ],
   "source": [
    "A = {(0,2): 3.7, (1,0): -1.4, (1,3): 5.21, (2,3): 1.5, (3,0): 2.04, (3,1): 1.92 , (10_000_000_000_000,10000000000000):1}\n",
    "#print_sparse_matrix(A)\n",
    "print(\"-\"*20)\n",
    "\n",
    "B = {(0,2): -3.7, (1,0): 1.4, (1,3): -5.21, (2,3): -1.5, (3,0): -2.04, (3,1): 10.3  , (10000000000000,10000000000000):-1}\n",
    "#print_sparse_matrix(B)\n",
    "print(\"-\"*20)\n",
    "\n",
    "C = batura(A,B)\n",
    "print(C)\n",
    "print_sparse_matrix(C)"
   ]
  }
 ],
 "metadata": {
  "kernelspec": {
   "display_name": "Python 3",
   "language": "python",
   "name": "python3"
  },
  "language_info": {
   "codemirror_mode": {
    "name": "ipython",
    "version": 3
   },
   "file_extension": ".py",
   "mimetype": "text/x-python",
   "name": "python",
   "nbconvert_exporter": "python",
   "pygments_lexer": "ipython3",
   "version": "3.7.6"
  }
 },
 "nbformat": 4,
 "nbformat_minor": 4
}
