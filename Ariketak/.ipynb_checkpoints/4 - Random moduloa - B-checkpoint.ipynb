{
 "cells": [
  {
   "cell_type": "markdown",
   "metadata": {},
   "source": [
    "## 6\n",
    "random moduloko random funtzioa soilik erabiliz, sortu ezazu `[ , )` tartean uniformeki banatutako zenbaki erreala bueltatuko duen `uniform(a,b)` funtzioa."
   ]
  },
  {
   "cell_type": "code",
   "execution_count": 6,
   "metadata": {},
   "outputs": [
    {
     "data": {
      "image/png": "[encoded data removed]",
      "text/plain": [
       "<Figure size 432x288 with 1 Axes>"
      ]
     },
     "metadata": {
      "needs_background": "light"
     },
     "output_type": "display_data"
    }
   ],
   "source": [
    "from random import random\n",
    "def uniform(a,b):\n",
    "    return a + (b-a)*random()\n",
    "\n",
    "%matplotlib inline\n",
    "import matplotlib.pyplot as plt\n",
    "n = 1000\n",
    "xmin,xmax = -13,45\n",
    "ymin,ymax = 10,25\n",
    "x = [uniform(xmin,xmax) for i in range(n)]\n",
    "y = [uniform(ymin,ymax) for i in range(n)]\n",
    "fig = plt.plot(x, y, '.')"
   ]
  },
  {
   "cell_type": "code",
   "execution_count": 7,
   "metadata": {},
   "outputs": [
    {
     "name": "stdout",
     "output_type": "stream",
     "text": [
      "4 4 -3\n",
      "3 4 -3\n",
      "3 4 -3\n",
      "3 4 -4\n",
      "4 5 -3\n"
     ]
    }
   ],
   "source": [
    "from math import trunc,floor,ceil\n",
    "print(round(3.9),round(4.1),round(-3.1))\n",
    "print(int(3.9),int(4.1),int(-3.1))\n",
    "print(trunc(3.9),trunc(4.1),trunc(-3.1))\n",
    "print(floor(3.9),floor(4.1),floor(-3.1))\n",
    "print(ceil(3.9),ceil(4.1),ceil(-3.1))"
   ]
  },
  {
   "cell_type": "markdown",
   "metadata": {},
   "source": [
    "## 1\n",
    "random moduloko random funtzioa soilik erabiliz, sortu ezazu `[ , ]` tartean uniformeki banatutako zenbaki osoa bueltatuko duen `randint(a,b)` funtzioa."
   ]
  },
  {
   "cell_type": "code",
   "execution_count": 8,
   "metadata": {},
   "outputs": [
    {
     "name": "stdout",
     "output_type": "stream",
     "text": [
      "(-5, 20217) (-4, 19975) (-3, 20031) (-2, 19863) (-1, 19914)\n"
     ]
    }
   ],
   "source": [
    "# round erabiliz\n",
    "def randint(a,b):\n",
    "    x = uniform(a-0.5,b+0.5)\n",
    "    return round(x)\n",
    "\n",
    "# floor erabiliz\n",
    "def randint(a,b):\n",
    "    x = uniform(a,b+1)\n",
    "    return floor(x)\n",
    "\n",
    "# ceil erabiliz\n",
    "def randint(a,b):\n",
    "    x = uniform(a-1,b)\n",
    "    return ceil(x)\n",
    "\n",
    "# int erabiliz\n",
    "def randint(a,b):\n",
    "    x = uniform(0,b-a+1)\n",
    "    return a + int(x)\n",
    "\n",
    "\n",
    "h = {}\n",
    "for i in range(100000):\n",
    "    i = randint(-5,-1)\n",
    "    h[i] = h.get(i,0)+1\n",
    "print(*sorted(h.items()))"
   ]
  },
  {
   "cell_type": "markdown",
   "metadata": {},
   "source": [
    "## 2\n",
    "random moduloko random funtzioa edo aurreko edozein funtzio erabiliz, sortu ezazu `range(start,stop[,step])` sekuentziako auzazko zenbaki osoa bueltatuko duen `randrange(start,stop[,step])` funtzioa."
   ]
  },
  {
   "cell_type": "code",
   "execution_count": 3,
   "metadata": {},
   "outputs": [],
   "source": [
    "from random import randrange as rrandrange\n",
    "#help(range)\n",
    "#help(rrandrange)"
   ]
  },
  {
   "cell_type": "code",
   "execution_count": 19,
   "metadata": {},
   "outputs": [
    {
     "name": "stdout",
     "output_type": "stream",
     "text": [
      "(3, 1014) (6, 972) (9, 1014)\n"
     ]
    }
   ],
   "source": [
    "def randrange(start,stop,step = 1):\n",
    "    # n: range(start,stop,step) sekuentziko luzera\n",
    "    n = None\n",
    "    i = randint(0,n-1)\n",
    "    return start + i * step\n",
    "\n",
    "def randrange(start,stop,step = 1):\n",
    "    z = list(range(start,stop,step))\n",
    "    i = randint(0,len(z)-1)\n",
    "    return z[i]\n",
    "\n",
    "def randrange(start,stop,step = 1):\n",
    "    r = range(start,stop,step)\n",
    "    i = randint(0,len(r)-1)\n",
    "    return r[i]\n",
    "\n",
    "h = {}\n",
    "for _ in range(3000):\n",
    "    i = randrange(3,11,step = 3)\n",
    "    h[i] = h.get(i,0) + 1\n",
    "print(*sorted(h.items()))"
   ]
  },
  {
   "cell_type": "code",
   "execution_count": 17,
   "metadata": {},
   "outputs": [
    {
     "data": {
      "text/plain": [
       "(588235295, 0, 765)"
      ]
     },
     "execution_count": 17,
     "metadata": {},
     "output_type": "execute_result"
    }
   ],
   "source": [
    "r = range(0,10**10,17)\n",
    "len(r),r[0],r[45]"
   ]
  },
  {
   "cell_type": "markdown",
   "metadata": {},
   "source": [
    "## 3\n",
    "random moduloko random funtzioa edo aurreko edozein funtzio erabiliz, sortu ezazu seq sekuentziako (_luzeraduna_ eta _indexagarria_) auzazko balioabueltatuko duen `choice(seq)`funtzioa."
   ]
  },
  {
   "cell_type": "code",
   "execution_count": null,
   "metadata": {},
   "outputs": [],
   "source": [
    "def choice(seq):\n",
    "    #i = randrange(0,len(seq))\n",
    "    i = randint(0,len(seq)-1)\n",
    "    return seq[i]"
   ]
  },
  {
   "cell_type": "markdown",
   "metadata": {},
   "source": [
    "## 4\n",
    "random moduloko random funtzioa edo aurreko edozein funtzio erabiliz, sortu ezazu seq sekuentzia aldakorreko elementuak auzazki nahastuko dituen `shuffle(seq)` funtzioa."
   ]
  },
  {
   "cell_type": "code",
   "execution_count": 22,
   "metadata": {},
   "outputs": [
    {
     "name": "stdout",
     "output_type": "stream",
     "text": [
      "7 4 3 9 0 5 8 6 1 2\n",
      "3 8 0 5 4 6 9 7 2 1\n",
      "0 7 6 9 4 8 5 3 1 2\n",
      "6 2 3 5 9 1 7 4 0 8\n",
      "8 6 1 7 3 2 5 9 4 0\n"
     ]
    }
   ],
   "source": [
    "def shuffle(seq):\n",
    "    n_1 = len(seq)-1\n",
    "    for i in range(n_1):\n",
    "        j = randint(i,n_1)\n",
    "        seq[i],seq[j] = seq[j],seq[i]\n",
    "        \n",
    "        \n",
    "z = list(range(10))\n",
    "for _ in range(5):\n",
    "    shuffle(z)\n",
    "    print(*z)"
   ]
  }
 ],
 "metadata": {
  "kernelspec": {
   "display_name": "Python 3",
   "language": "python",
   "name": "python3"
  },
  "language_info": {
   "codemirror_mode": {
    "name": "ipython",
    "version": 3
   },
   "file_extension": ".py",
   "mimetype": "text/x-python",
   "name": "python",
   "nbconvert_exporter": "python",
   "pygments_lexer": "ipython3",
   "version": "3.7.6"
  }
 },
 "nbformat": 4,
 "nbformat_minor": 4
}
