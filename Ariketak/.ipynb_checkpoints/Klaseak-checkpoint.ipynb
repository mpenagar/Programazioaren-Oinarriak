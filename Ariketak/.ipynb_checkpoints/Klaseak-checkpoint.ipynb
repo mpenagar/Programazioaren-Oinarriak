{
 "cells": [
  {
   "cell_type": "markdown",
   "metadata": {},
   "source": [
    "MySet klasea. Multzo bat adierazten duen klasea (multzo batetan ezin da elementu errepikaturik gorde). Multzo bat inplementatzeko egitura aproposena Hash Taula bat bada ere, zerrenda bat erabili ariketa honetan. Ondoko funtzioak sortu:\n",
    "* __init__(self,it): Multzo bat hasieratuko du iteragarri baten elementu guztiekin\n",
    "* __iter__(self) : multzoko elementuen gaineko iteradore bat bueltatuko duen funtzioa\n",
    "* __str__(self) eta __repr__(self)\n",
    "* __len__(self): multzoko elementu kopurua bueltatzen du\n",
    "* __contains__(self,value) : multzoan balio bat ote dagoen konprobatzen du\n",
    "* add(self,value) : elementu berri bat gehitzen du multzo batetara, aurrez elementu hori ez bazegoen.\n",
    "* addall(self,it): iteragarri batetako elementu guztiak gehitzen dizkio\n",
    "* remove(self,value): elementu bat ezabatzen du\n",
    "* removeall(self,it): iteragarri batetako elementu guztiak ezabatzen ditu\n",
    "* __add__(self,other) : bi multzoen bilketa den multzo berria bueltatzen du.\n",
    "* __sub__(self,other) : multzoari beste multzoko elementu guztiak kentzean lortzen den multzo berria bueltatzen du.\n",
    "* __eq__(self,other) : multzoa beste multzo baten berdina ote den bueltatzen du.\n",
    "* __ne__(self,other) : multzoa beste multzo baten ezberdina ote den bueltatzen du."
   ]
  },
  {
   "cell_type": "code",
   "execution_count": 37,
   "metadata": {},
   "outputs": [],
   "source": [
    "class MySet(object):\n",
    "    \n",
    "    def __init__(self,it):\n",
    "        self.z = []\n",
    "        #for x in it :\n",
    "        #    self.add(x)\n",
    "        self.addall(it)\n",
    "    \n",
    "    def __iter__(self):\n",
    "        return iter(self.z)\n",
    "    \n",
    "    def __str__(self):\n",
    "        return \"{\" + \", \".join(repr(x) for x in self.z) + \"}\"\n",
    "    \n",
    "    def __repr__(self):\n",
    "        return f'MySet({repr(self.z)})'\n",
    "\n",
    "    def __len__(self):\n",
    "        return len(self.z)\n",
    "    \n",
    "    def __contains__(self,value):\n",
    "        return value in self.z\n",
    "    \n",
    "    def __eq__(self,other):\n",
    "        #return type(other) == MySet and len(self.z) == len(other.z) and all(x in other.z for x in self.z)\n",
    "        return type(other) == MySet and len(self) == len(other) and all(x in other for x in self)\n",
    "        \n",
    "    def add(self,value):\n",
    "        if value not in self.z :\n",
    "            self.z.append(value)\n",
    "            \n",
    "    def addall(self,it):\n",
    "        for x in it:\n",
    "            self.add(x)\n",
    "            \n",
    "    def remove(self,value):\n",
    "        del self.z[self.z.index(value)]\n",
    "        \n",
    "    def removeall(self,it):\n",
    "        for x in it:\n",
    "            self.remove(x)        "
   ]
  },
  {
   "cell_type": "code",
   "execution_count": 38,
   "metadata": {},
   "outputs": [
    {
     "data": {
      "text/plain": [
       "MySet(['e', 'i', 'o', 'u'])"
      ]
     },
     "execution_count": 38,
     "metadata": {},
     "output_type": "execute_result"
    }
   ],
   "source": [
    "#print(MySet(\"aeiouaeiou\"))\n",
    "s = MySet(\"aeiouaeiou\")\n",
    "s == eval(repr(s))\n",
    "MySet(\"aeiou\") == MySet(\"eioua\")\n",
    "s.remove('a')\n",
    "s"
   ]
  },
  {
   "cell_type": "code",
   "execution_count": null,
   "metadata": {},
   "outputs": [],
   "source": []
  }
 ],
 "metadata": {
  "kernelspec": {
   "display_name": "Python 3",
   "language": "python",
   "name": "python3"
  },
  "language_info": {
   "codemirror_mode": {
    "name": "ipython",
    "version": 3
   },
   "file_extension": ".py",
   "mimetype": "text/x-python",
   "name": "python",
   "nbconvert_exporter": "python",
   "pygments_lexer": "ipython3",
   "version": "3.7.6"
  }
 },
 "nbformat": 4,
 "nbformat_minor": 4
}
