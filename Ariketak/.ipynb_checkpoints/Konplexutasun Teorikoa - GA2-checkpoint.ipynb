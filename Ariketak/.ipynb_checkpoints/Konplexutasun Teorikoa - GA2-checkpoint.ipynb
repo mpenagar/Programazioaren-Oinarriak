{
 "cells": [
  {
   "cell_type": "markdown",
   "metadata": {},
   "source": [
    "# 5\n",
    "Zenbaki zerrenda batetan balio baten posizioa topatu (edo None, ez badago)"
   ]
  },
  {
   "cell_type": "code",
   "execution_count": null,
   "metadata": {},
   "outputs": [],
   "source": [
    "def topatu(z,x):\n",
    "    for i,y in enumerate(z):\n",
    "        if y == x :\n",
    "            return i\n",
    "    return None"
   ]
  },
  {
   "cell_type": "markdown",
   "metadata": {},
   "source": [
    "Tamaina $n=len(z)$\n",
    "\n",
    "* kasu ona `x == z[0]` &rarr; $t(n)=1 \\to \\Omega(1)$ \n",
    "* kasu ona `x`ez dago `z`-n &rarr; $t(n)=n+1 \\to O(n)$ "
   ]
  },
  {
   "cell_type": "markdown",
   "metadata": {},
   "source": [
    "# 5\n",
    "Zenbaki zerrenda ordenatu batetan balio baten posizioa topatu (edo None, ez badago)"
   ]
  },
  {
   "cell_type": "code",
   "execution_count": 14,
   "metadata": {},
   "outputs": [
    {
     "data": {
      "text/plain": [
       "(2, None)"
      ]
     },
     "execution_count": 14,
     "metadata": {},
     "output_type": "execute_result"
    }
   ],
   "source": [
    "def topatu(z,x):\n",
    "    for i,y in enumerate(z):\n",
    "        if y == x :\n",
    "            return i\n",
    "    return None\n",
    "\n",
    "z = list(\"abcdefghijklmnopqrstuvwxyz\")\n",
    "topatu(z,\"c\") , topatu(z,\"C\")"
   ]
  },
  {
   "cell_type": "markdown",
   "metadata": {},
   "source": [
    "Tamaina $n=len(z)$\n",
    "\n",
    "* kasu ona `x == z[0]` &rarr; $t(n)=1 \\to \\Omega(1)$ \n",
    "* kasu txarra `x`ez dago `z`-n &rarr; $t(n)=n+1 \\to O(n)$ "
   ]
  },
  {
   "cell_type": "code",
   "execution_count": 20,
   "metadata": {},
   "outputs": [
    {
     "data": {
      "text/plain": [
       "(2, None)"
      ]
     },
     "execution_count": 20,
     "metadata": {},
     "output_type": "execute_result"
    }
   ],
   "source": [
    "def topatu(z,x):\n",
    "    i,j = 0,len(z)-1\n",
    "    while i<=j :\n",
    "        e = (i+j)//2\n",
    "        if z[e] == x :\n",
    "            return e\n",
    "        elif x > z[e] :\n",
    "            i = e+1\n",
    "        else :\n",
    "            j = e-1\n",
    "    return None\n",
    "\n",
    "z = list(\"abcdefghijklmnopqrstuvwxyz\")\n",
    "topatu(z,\"c\") , topatu(z,\"C\")"
   ]
  },
  {
   "cell_type": "markdown",
   "metadata": {},
   "source": [
    "Tamaina $n=len(z)$\n",
    "\n",
    "* kasu ona `x == z[erdia]` &rarr; $t(n)=1 \\to \\Omega(1)$ \n",
    "* kasu txarra `x`ez dago `z`-n &rarr; $t(n)=\\log n + 1 \\to O(\\log n)$ "
   ]
  },
  {
   "cell_type": "code",
   "execution_count": 21,
   "metadata": {},
   "outputs": [
    {
     "data": {
      "text/plain": [
       "(2, None)"
      ]
     },
     "execution_count": 21,
     "metadata": {},
     "output_type": "execute_result"
    }
   ],
   "source": [
    "def topatu(z,x):\n",
    "    return _topatu(z,x,0,len(z)-1)\n",
    "\n",
    "def _topatu(z,x,i,j):\n",
    "    if i>j :\n",
    "        return None\n",
    "    e = (i+j)//2\n",
    "    if z[e] == x :\n",
    "        return e\n",
    "    elif x > z[e] :\n",
    "        return _topatu(z,x,e+1,j)\n",
    "    else :\n",
    "        return _topatu(z,x,i,e-1)\n",
    "\n",
    "z = list(\"abcdefghijklmnopqrstuvwxyz\")\n",
    "topatu(z,\"c\") , topatu(z,\"C\")"
   ]
  },
  {
   "cell_type": "markdown",
   "metadata": {},
   "source": [
    "Tamaina $n=len(z)$\n",
    "\n",
    "* kasu ona `x == z[erdia]` &rarr; $t(n)=1 \\to \\Omega(1)$ \n",
    "* kasu txarra `x`ez dago `z`-n &rarr; $t(n)=\\log n + 1 \\to O(\\log n)$ "
   ]
  },
  {
   "cell_type": "code",
   "execution_count": 22,
   "metadata": {},
   "outputs": [
    {
     "data": {
      "text/plain": [
       "(2, None)"
      ]
     },
     "execution_count": 22,
     "metadata": {},
     "output_type": "execute_result"
    }
   ],
   "source": [
    "def topatu(z,x):\n",
    "#    if len(z)==0 :\n",
    "    if not z :\n",
    "        return None\n",
    "    e = len(z)//2\n",
    "    if z[e] == x :\n",
    "        return e\n",
    "    elif x > z[e] : # eskuman bilatu\n",
    "        k = topatu(z[e+1:],x)\n",
    "        return e+1+k if k!=None else None\n",
    "    else : # ezkerrean bilatu\n",
    "        return topatu(z[:e],x)\n",
    "\n",
    "z = list(\"abcdefghijklmnopqrstuvwxyz\")\n",
    "topatu(z,\"c\") , topatu(z,\"C\")"
   ]
  },
  {
   "cell_type": "markdown",
   "metadata": {},
   "source": [
    "Tamaina $n=len(z)$\n",
    "\n",
    "* kasu ona `x == z[erdia]` &rarr; $t(n)=1 \\to \\Omega(1)$ \n",
    "* kasu txarra `x`ez dago `z`-n &rarr; $t(n)= n + 1 \\to O(n)$ "
   ]
  },
  {
   "cell_type": "markdown",
   "metadata": {},
   "source": [
    "### 7\n",
    "Hiztegi edo multzorik erabili gabe, zerrenda batetan agertzen diren elementu ezberdinen  kopurua."
   ]
  },
  {
   "cell_type": "code",
   "execution_count": 2,
   "metadata": {},
   "outputs": [
    {
     "data": {
      "text/plain": [
       "4"
      ]
     },
     "execution_count": 2,
     "metadata": {},
     "output_type": "execute_result"
    }
   ],
   "source": [
    "def elementu_ezberdinak(z):\n",
    "    a = []\n",
    "    for x in z :\n",
    "        if x not in a :\n",
    "            a.append(x)\n",
    "    return len(a)\n",
    "\n",
    "elementu_ezberdinak([2,4,6,8]*23)"
   ]
  },
  {
   "cell_type": "markdown",
   "metadata": {},
   "source": [
    "Tamaina: $n = len(z)$\n",
    "\n",
    "* kasu ona: `z`-ko elementu guztiak berdinak dira $t(n) = n + 1  \\to  \\Omega(n)$\n",
    "* kasu txarra: `z`-ko elementu guztiak ezberdinak dira $t(n) = \\frac{n \\cdot (n+1)}{2} + 1 = n^2 + n + 1  \\to  O(n^2)$ "
   ]
  },
  {
   "cell_type": "markdown",
   "metadata": {},
   "source": [
    "### 8\n",
    "Hiztegi edo multzoak erabiliz, zerrenda batetan agertzen diren elementu ezberdinen  kopurua."
   ]
  },
  {
   "cell_type": "code",
   "execution_count": 3,
   "metadata": {},
   "outputs": [
    {
     "data": {
      "text/plain": [
       "4"
      ]
     },
     "execution_count": 3,
     "metadata": {},
     "output_type": "execute_result"
    }
   ],
   "source": [
    "def elementu_ezberdinak(z):\n",
    "    return len(set(z))\n",
    "\n",
    "elementu_ezberdinak([2,4,6,8]*23)"
   ]
  },
  {
   "cell_type": "markdown",
   "metadata": {},
   "source": [
    "Tamaina: $n = len(z)$\n",
    "\n",
    "* $t(n) = n + 1  \\to  \\Theta(n)$"
   ]
  },
  {
   "cell_type": "markdown",
   "metadata": {},
   "source": [
    "### 9\n",
    "Hiztegi edo multzorik erabili gabe, zerrenda batetan errepikatuak (bi edo gehiagotan) agertzen diren elementu ezberdinen kopurua"
   ]
  },
  {
   "cell_type": "code",
   "execution_count": 5,
   "metadata": {},
   "outputs": [
    {
     "data": {
      "text/plain": [
       "4"
      ]
     },
     "execution_count": 5,
     "metadata": {},
     "output_type": "execute_result"
    }
   ],
   "source": [
    "def elementu_errepikatu_ezberdinak(z):\n",
    "    a = []\n",
    "    b = []\n",
    "    for x in z :\n",
    "        if x not in a :\n",
    "            a.append(x)\n",
    "        elif x not in b :\n",
    "            b.append(x)\n",
    "    return len(b)\n",
    "\n",
    "elementu_errepikatu_ezberdinak([2,4,6,8]*23+[1,3,5])"
   ]
  },
  {
   "cell_type": "markdown",
   "metadata": {},
   "source": [
    "Tamaina: $n = len(z)$\n",
    "\n",
    "* kasu ona: `z`-ko elementu guztiak berdinak dira $t(n) = n + 1$\n",
    "* kasu txarra: `z`-ko elementu guztiak ezberdinak dira $t(n) = \\frac{n \\cdot (n+1)}{2} + 1 = n^2 + n + 1$ "
   ]
  },
  {
   "cell_type": "markdown",
   "metadata": {},
   "source": [
    "### 15 \n",
    "Faktoriala, bertsio iteratiboa.\n"
   ]
  },
  {
   "cell_type": "code",
   "execution_count": 2,
   "metadata": {},
   "outputs": [
    {
     "name": "stdout",
     "output_type": "stream",
     "text": [
      "faktoriala(1) = 1\n",
      "faktoriala(2) = 2\n",
      "faktoriala(3) = 6\n",
      "faktoriala(4) = 24\n",
      "faktoriala(5) = 120\n"
     ]
    }
   ],
   "source": [
    "def faktoriala(n):\n",
    "    b = 1\n",
    "    for i in range(1,n+1):\n",
    "        b *= i\n",
    "    return b\n",
    "\n",
    "for i in range(1,6):\n",
    "    print(f'faktoriala({i}) = {faktoriala(i)}')"
   ]
  },
  {
   "cell_type": "markdown",
   "metadata": {},
   "source": [
    "Tamaina: $n$\n",
    "\n",
    "```python\n",
    "def faktoriala(n):\n",
    "    b = 1                    # 1\n",
    "    for i in range(1,n+1):   # n (barrukoa n aldiz)\n",
    "        b *= i               # n x 1\n",
    "    return b                 # 1\n",
    "```\n",
    "$t(n) = 2n + 2  \\to  \\Theta(n)$"
   ]
  },
  {
   "cell_type": "markdown",
   "metadata": {},
   "source": [
    "### 17\n",
    "Fiboinacci, bertsio iteratiboa"
   ]
  },
  {
   "cell_type": "code",
   "execution_count": 8,
   "metadata": {},
   "outputs": [
    {
     "name": "stdout",
     "output_type": "stream",
     "text": [
      "0 --> 0\n",
      "1 --> 1\n",
      "2 --> 1\n",
      "3 --> 2\n",
      "4 --> 3\n",
      "5 --> 5\n",
      "6 --> 8\n",
      "7 --> 13\n",
      "8 --> 21\n",
      "9 --> 34\n"
     ]
    }
   ],
   "source": [
    "def fibonacci(n):\n",
    "    if n == 0 :              \n",
    "        return 0             \n",
    "    a,b = 0,1\n",
    "    for _ in range(n-1):\n",
    "        # c = a + b\n",
    "        # a = b\n",
    "        # b = c\n",
    "        a,b = b,a+b\n",
    "    return b \n",
    "\n",
    "for i in range(10):\n",
    "    print(f'{i} --> {fibonacci(i)}')"
   ]
  },
  {
   "cell_type": "code",
   "execution_count": 9,
   "metadata": {},
   "outputs": [
    {
     "name": "stdout",
     "output_type": "stream",
     "text": [
      "0 --> 0\n",
      "1 --> 1\n",
      "2 --> 1\n",
      "3 --> 2\n",
      "4 --> 3\n",
      "5 --> 5\n",
      "6 --> 8\n",
      "7 --> 13\n",
      "8 --> 21\n",
      "9 --> 34\n"
     ]
    }
   ],
   "source": [
    "def fibonacci(n):\n",
    "    a,b = 1,0\n",
    "    for _ in range(n):\n",
    "        a,b = b,a+b\n",
    "    return b \n",
    "\n",
    "for i in range(10):\n",
    "    print(f'{i} --> {fibonacci(i)}')"
   ]
  },
  {
   "cell_type": "markdown",
   "metadata": {},
   "source": [
    "Tamaina: $n$\n",
    "```python\n",
    "def fibonacci(n):\n",
    "    a,b = 1,0           # 1\n",
    "    for _ in range(n):  # n  (barnekoa n aldiz)\n",
    "        a,b = b,a+b     # n x 1\n",
    "    return b            # 1\n",
    "```\n",
    "\n",
    "$t(n) = 2n + 2  \\to  \\Theta(n)$"
   ]
  }
 ],
 "metadata": {
  "kernelspec": {
   "display_name": "Python 3",
   "language": "python",
   "name": "python3"
  },
  "language_info": {
   "codemirror_mode": {
    "name": "ipython",
    "version": 3
   },
   "file_extension": ".py",
   "mimetype": "text/x-python",
   "name": "python",
   "nbconvert_exporter": "python",
   "pygments_lexer": "ipython3",
   "version": "3.7.6"
  }
 },
 "nbformat": 4,
 "nbformat_minor": 4
}
