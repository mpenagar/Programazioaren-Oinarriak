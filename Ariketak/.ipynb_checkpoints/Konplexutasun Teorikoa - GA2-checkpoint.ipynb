{
 "cells": [
  {
   "cell_type": "markdown",
   "metadata": {},
   "source": [
    "### 7\n",
    "Hiztegi edo multzorik erabili gabe, zerrenda batetan agertzen diren elementu ezberdinen  kopurua."
   ]
  },
  {
   "cell_type": "code",
   "execution_count": 2,
   "metadata": {},
   "outputs": [
    {
     "data": {
      "text/plain": [
       "4"
      ]
     },
     "execution_count": 2,
     "metadata": {},
     "output_type": "execute_result"
    }
   ],
   "source": [
    "def elementu_ezberdinak(z):\n",
    "    a = []\n",
    "    for x in z :\n",
    "        if x not in a :\n",
    "            a.append(x)\n",
    "    return len(a)\n",
    "\n",
    "elementu_ezberdinak([2,4,6,8]*23)"
   ]
  },
  {
   "cell_type": "markdown",
   "metadata": {},
   "source": [
    "Tamaina: $n = len(z)$\n",
    "\n",
    "* kasu ona: `z`-ko elementu guztiak berdinak dira $t(n) = n + 1$\n",
    "* kasu txarra: `z`-ko elementu guztiak ezberdinak dira $t(n) = \\frac{n \\cdot (n+1)}{2} + 1 = n^2 + n + 1$ "
   ]
  },
  {
   "cell_type": "markdown",
   "metadata": {},
   "source": [
    "### 8\n",
    "Hiztegi edo multzoak erabiliz, zerrenda batetan agertzen diren elementu ezberdinen  kopurua."
   ]
  },
  {
   "cell_type": "code",
   "execution_count": 3,
   "metadata": {},
   "outputs": [
    {
     "data": {
      "text/plain": [
       "4"
      ]
     },
     "execution_count": 3,
     "metadata": {},
     "output_type": "execute_result"
    }
   ],
   "source": [
    "def elementu_ezberdinak(z):\n",
    "    return len(set(z))\n",
    "\n",
    "elementu_ezberdinak([2,4,6,8]*23)"
   ]
  },
  {
   "cell_type": "markdown",
   "metadata": {},
   "source": [
    "Tamaina: $n = len(z)$\n",
    "\n",
    "* $t(n) = n + 1$"
   ]
  },
  {
   "cell_type": "markdown",
   "metadata": {},
   "source": [
    "### 9\n",
    "Hiztegi edo multzorik erabili gabe, zerrenda batetan errepikatuak (bi edo gehiagotan) agertzen diren elementu ezberdinen kopurua"
   ]
  },
  {
   "cell_type": "code",
   "execution_count": 5,
   "metadata": {},
   "outputs": [
    {
     "data": {
      "text/plain": [
       "4"
      ]
     },
     "execution_count": 5,
     "metadata": {},
     "output_type": "execute_result"
    }
   ],
   "source": [
    "def elementu_errepikatu_ezberdinak(z):\n",
    "    a = []\n",
    "    b = []\n",
    "    for x in z :\n",
    "        if x not in a :\n",
    "            a.append(x)\n",
    "        elif x not in b :\n",
    "            b.append(x)\n",
    "    return len(b)\n",
    "\n",
    "elementu_errepikatu_ezberdinak([2,4,6,8]*23+[1,3,5])"
   ]
  },
  {
   "cell_type": "markdown",
   "metadata": {},
   "source": [
    "Tamaina: $n = len(z)$\n",
    "\n",
    "* kasu ona: `z`-ko elementu guztiak berdinak dira $t(n) = n + 1$\n",
    "* kasu txarra: `z`-ko elementu guztiak ezberdinak dira $t(n) = \\frac{n \\cdot (n+1)}{2} + 1 = n^2 + n + 1$ "
   ]
  }
 ],
 "metadata": {
  "kernelspec": {
   "display_name": "Python 3",
   "language": "python",
   "name": "python3"
  },
  "language_info": {
   "codemirror_mode": {
    "name": "ipython",
    "version": 3
   },
   "file_extension": ".py",
   "mimetype": "text/x-python",
   "name": "python",
   "nbconvert_exporter": "python",
   "pygments_lexer": "ipython3",
   "version": "3.7.6"
  }
 },
 "nbformat": 4,
 "nbformat_minor": 4
}
