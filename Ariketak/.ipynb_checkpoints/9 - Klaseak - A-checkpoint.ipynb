{
 "cells": [
  {
   "cell_type": "markdown",
   "metadata": {},
   "source": [
    "## 4\n",
    "\n",
    "MySet klasea. Multzo bat adierazten duen klasea (multzo batetan ezin da elementu errepikaturik gorde). Multzo bat inplementatzeko egitura aproposena Hash Taula bat bada ere, zerrenda bat erabili ariketa honetan. Ondoko funtzioak sortu:\n",
    " __init__(self,it): Multzo bat hasieratuko du iteragarri baten elementu guztiekin\n",
    " __iter__(self) : multzoko elementuen gaineko iteradore bat bueltatuko duen funtzioa\n",
    " __str__(self) eta __repr__(self)\n",
    " __len__(self): multzoko elementu kopurua bueltatzen du\n",
    " __contains__(self,value) : multzoan balio bat ote dagoen konprobatzen du\n",
    " add(self,value) : elementu berri bat gehitzen du multzo batetara, aurrez elementu hori ez bazegoen.\n",
    " addall(self,it): iteragarri batetako elementu guztiak gehitzen dizkio\n",
    " remove(self,value): elementu bat ezabatzen du\n",
    " removeall(self,it): iteragarri batetako elementu guztiak ezabatzen ditu\n",
    " __add__(self,other) : bi multzoen bilketa den multzo berria bueltatzen du.\n",
    " __sub__(self,other) : multzoari beste multzoko elementu guztiak kentzean lortzen den multzo berria bueltatzen du.\n",
    " __eq__(self,other) : multzoa beste multzo baten berdina ote den bueltatzen du.\n",
    " __ne__(self,other) : multzoa beste multzo baten ezberdina ote den bueltatzen du."
   ]
  },
  {
   "cell_type": "code",
   "execution_count": 31,
   "metadata": {},
   "outputs": [
    {
     "name": "stdout",
     "output_type": "stream",
     "text": [
      "\n",
      "--- __init__ ---\n",
      "['a', 'e', 'i', 'o', 'u']\n",
      "\n",
      "--- __contains__ ---\n",
      "True False\n",
      "\n",
      "--- add, addall ---\n",
      "['a', 'e', 'i', 'o', 'u', 'x', 'y', 'z']\n",
      "\n",
      "--- __str__ , __repr__ ---\n",
      "{'a', 'e', 'i', 'o', 'u', 'x', 'y', 'z'}\n",
      "MySet(('a', 'e', 'i', 'o', 'u', 'x', 'y', 'z'))\n",
      "True {'a', 'e', 'i', 'o', 'u', 'x', 'y', 'z'}\n"
     ]
    },
    {
     "ename": "ValueError",
     "evalue": "ValueError: MySet.remove(234): 234 not in MySet",
     "output_type": "error",
     "traceback": [
      "\u001b[0;31m\u001b[0m",
      "\u001b[0;31mValueError\u001b[0mTraceback (most recent call last)",
      "\u001b[0;32m<ipython-input-31-c3b4686729c5>\u001b[0m in \u001b[0;36mremove\u001b[0;34m(self, x)\u001b[0m\n\u001b[1;32m     52\u001b[0m         \u001b[0;32mtry\u001b[0m \u001b[0;34m:\u001b[0m\u001b[0;34m\u001b[0m\u001b[0;34m\u001b[0m\u001b[0m\n\u001b[0;32m---> 53\u001b[0;31m             \u001b[0mself\u001b[0m\u001b[0;34m.\u001b[0m\u001b[0mz\u001b[0m\u001b[0;34m.\u001b[0m\u001b[0mremove\u001b[0m\u001b[0;34m(\u001b[0m\u001b[0mx\u001b[0m\u001b[0;34m)\u001b[0m\u001b[0;34m\u001b[0m\u001b[0;34m\u001b[0m\u001b[0m\n\u001b[0m\u001b[1;32m     54\u001b[0m         \u001b[0;32mexcept\u001b[0m \u001b[0mValueError\u001b[0m \u001b[0;34m:\u001b[0m\u001b[0;34m\u001b[0m\u001b[0;34m\u001b[0m\u001b[0m\n",
      "\u001b[0;31mValueError\u001b[0m: list.remove(x): x not in list",
      "\nDuring handling of the above exception, another exception occurred:\n",
      "\u001b[0;31mValueError\u001b[0mTraceback (most recent call last)",
      "\u001b[0;32m<ipython-input-31-c3b4686729c5>\u001b[0m in \u001b[0;36m<module>\u001b[0;34m\u001b[0m\n\u001b[1;32m     79\u001b[0m \u001b[0mprint\u001b[0m\u001b[0;34m(\u001b[0m\u001b[0mtype\u001b[0m\u001b[0;34m(\u001b[0m\u001b[0mm\u001b[0m\u001b[0;34m)\u001b[0m\u001b[0;34m==\u001b[0m\u001b[0mtype\u001b[0m\u001b[0;34m(\u001b[0m\u001b[0mm2\u001b[0m\u001b[0;34m)\u001b[0m\u001b[0;34m,\u001b[0m \u001b[0mm2\u001b[0m\u001b[0;34m)\u001b[0m\u001b[0;34m\u001b[0m\u001b[0;34m\u001b[0m\u001b[0m\n\u001b[1;32m     80\u001b[0m \u001b[0;34m\u001b[0m\u001b[0m\n\u001b[0;32m---> 81\u001b[0;31m \u001b[0mm2\u001b[0m\u001b[0;34m.\u001b[0m\u001b[0mremove\u001b[0m\u001b[0;34m(\u001b[0m\u001b[0;36m234\u001b[0m\u001b[0;34m)\u001b[0m\u001b[0;34m\u001b[0m\u001b[0;34m\u001b[0m\u001b[0m\n\u001b[0m",
      "\u001b[0;32m<ipython-input-31-c3b4686729c5>\u001b[0m in \u001b[0;36mremove\u001b[0;34m(self, x)\u001b[0m\n\u001b[1;32m     53\u001b[0m             \u001b[0mself\u001b[0m\u001b[0;34m.\u001b[0m\u001b[0mz\u001b[0m\u001b[0;34m.\u001b[0m\u001b[0mremove\u001b[0m\u001b[0;34m(\u001b[0m\u001b[0mx\u001b[0m\u001b[0;34m)\u001b[0m\u001b[0;34m\u001b[0m\u001b[0;34m\u001b[0m\u001b[0m\n\u001b[1;32m     54\u001b[0m         \u001b[0;32mexcept\u001b[0m \u001b[0mValueError\u001b[0m \u001b[0;34m:\u001b[0m\u001b[0;34m\u001b[0m\u001b[0;34m\u001b[0m\u001b[0m\n\u001b[0;32m---> 55\u001b[0;31m             \u001b[0;32mraise\u001b[0m \u001b[0mValueError\u001b[0m\u001b[0;34m(\u001b[0m\u001b[0;34mf'ValueError: MySet.remove({repr(x)}): {repr(x)} not in MySet'\u001b[0m\u001b[0;34m)\u001b[0m\u001b[0;34m\u001b[0m\u001b[0;34m\u001b[0m\u001b[0m\n\u001b[0m\u001b[1;32m     56\u001b[0m \u001b[0;34m\u001b[0m\u001b[0m\n\u001b[1;32m     57\u001b[0m \u001b[0;34m\u001b[0m\u001b[0m\n",
      "\u001b[0;31mValueError\u001b[0m: ValueError: MySet.remove(234): 234 not in MySet"
     ]
    }
   ],
   "source": [
    "class MySet(object):\n",
    "    \n",
    "    def __init__(self, it=()):\n",
    "        self.z = []\n",
    "        self.addall(it)\n",
    "        \n",
    "    def __contains__(self,value) :\n",
    "        return value in self.z\n",
    "        \n",
    "    def add(self,value) :\n",
    "        if value not in self.z :\n",
    "            self.z.append(value)        \n",
    "      \n",
    "    def addall(self,it):\n",
    "        for x in it :\n",
    "            self.add(x)\n",
    "            \n",
    "    def __str__(self):\n",
    "        return \"{\" + \", \".join(repr(x) for x in self.z) + \"}\"\n",
    "    \n",
    "    def __repr__(self):\n",
    "        return \"MySet((\" + \", \".join(repr(x) for x in self.z) + \"))\"\n",
    "\n",
    "    def __eq__(self,other):\n",
    "        # Kontuz:\n",
    "        #   1 - elementuak konparagarriak izan behar dira\n",
    "        #   2 - O(n logn)\n",
    "        #return type(other) == MySet and len(self.z) == len(other.z) and sorted(self.z) == sorted(other.z)\n",
    "        # Orain:\n",
    "        #   1 - edozein motatako elementuak\n",
    "        #   2 - O(n^2)\n",
    "        if type(other) != MySet or len(self.z) != len(other.z) :\n",
    "            return False\n",
    "        for x in self.z :\n",
    "            if x not in other.z :\n",
    "                return False\n",
    "        return True\n",
    "\n",
    "    def __ne__(self,other):\n",
    "        #return not self.__eq__(other)\n",
    "        return not self == other\n",
    "    \n",
    "    def __iter__(self):\n",
    "        return iter(self.z)\n",
    "        \n",
    "    def __add__(self,other):\n",
    "        if type(other) != MySet :\n",
    "            raise ValueError()\n",
    "        self.addall(other)\n",
    "        \n",
    "    def remove(self,x):\n",
    "        try :\n",
    "            self.z.remove(x)\n",
    "        except ValueError :\n",
    "            raise ValueError(f'ValueError: MySet.remove({repr(x)}): {repr(x)} not in MySet')\n",
    "        \n",
    "        \n",
    "\n",
    "    \n",
    "# __init__\n",
    "print('\\n--- __init__ ---')\n",
    "m = MySet(\"aeiouaei\")\n",
    "print(m.z)\n",
    "\n",
    "# __contains__\n",
    "print('\\n--- __contains__ ---')\n",
    "print(\"e\" in m, \"q\" in m)\n",
    "\n",
    "# add, addall\n",
    "print('\\n--- add, addall ---')\n",
    "m.addall(\"aeixyz\")\n",
    "print(m.z)\n",
    "\n",
    "# __str__ , __repr__\n",
    "print('\\n--- __str__ , __repr__ ---')\n",
    "print(m)\n",
    "print(repr(m))\n",
    "m2 = eval(repr(m))\n",
    "print(type(m)==type(m2), m2)\n",
    "\n",
    "m2.remove(234)"
   ]
  },
  {
   "cell_type": "code",
   "execution_count": 29,
   "metadata": {},
   "outputs": [
    {
     "ename": "ValueError",
     "evalue": "list.remove(x): x not in list",
     "output_type": "error",
     "traceback": [
      "\u001b[0;31m\u001b[0m",
      "\u001b[0;31mValueError\u001b[0mTraceback (most recent call last)",
      "\u001b[0;32m<ipython-input-29-181ce8c0fac7>\u001b[0m in \u001b[0;36m<module>\u001b[0;34m\u001b[0m\n\u001b[0;32m----> 1\u001b[0;31m \u001b[0;34m[\u001b[0m\u001b[0;36m1\u001b[0m\u001b[0;34m,\u001b[0m\u001b[0;36m2\u001b[0m\u001b[0;34m,\u001b[0m\u001b[0;36m3\u001b[0m\u001b[0;34m]\u001b[0m\u001b[0;34m.\u001b[0m\u001b[0mremove\u001b[0m\u001b[0;34m(\u001b[0m\u001b[0;36m4\u001b[0m\u001b[0;34m)\u001b[0m\u001b[0;34m\u001b[0m\u001b[0;34m\u001b[0m\u001b[0m\n\u001b[0m",
      "\u001b[0;31mValueError\u001b[0m: list.remove(x): x not in list"
     ]
    }
   ],
   "source": [
    "[1,2,3].remove(4)"
   ]
  }
 ],
 "metadata": {
  "kernelspec": {
   "display_name": "Python 3",
   "language": "python",
   "name": "python3"
  },
  "language_info": {
   "codemirror_mode": {
    "name": "ipython",
    "version": 3
   },
   "file_extension": ".py",
   "mimetype": "text/x-python",
   "name": "python",
   "nbconvert_exporter": "python",
   "pygments_lexer": "ipython3",
   "version": "3.7.6"
  }
 },
 "nbformat": 4,
 "nbformat_minor": 4
}
