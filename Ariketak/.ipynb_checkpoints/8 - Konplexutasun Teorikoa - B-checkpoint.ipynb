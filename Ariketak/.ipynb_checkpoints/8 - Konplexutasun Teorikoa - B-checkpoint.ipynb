{
 "cells": [
  {
   "cell_type": "markdown",
   "metadata": {},
   "source": [
    "## 9\n",
    "Hiztegi edo multzorik erabili gabe, zerrenda batetan errepikatuak (bi edo gehiagotan)\n",
    "agertzen diren elementu ezberdinen kopurua."
   ]
  },
  {
   "cell_type": "code",
   "execution_count": 6,
   "metadata": {},
   "outputs": [
    {
     "data": {
      "text/plain": [
       "3"
      ]
     },
     "execution_count": 6,
     "metadata": {},
     "output_type": "execute_result"
    }
   ],
   "source": [
    "def errepikatu_kopurua(z):\n",
    "    k = 0\n",
    "    while z :\n",
    "        x = z[0]\n",
    "        a = z.count(x)\n",
    "        if a > 1 :\n",
    "            k +=1\n",
    "        for _ in range(a):\n",
    "            z.remove(x)\n",
    "    return k\n",
    "\n",
    "def errepikatu_kopurua(z):\n",
    "    z_aux = []\n",
    "    for x in z :\n",
    "        if z.count(x)>1 and x not in z_aux :\n",
    "            z_aux.append(x)\n",
    "    return len(z_aux)\n",
    "\n",
    "\n",
    "errepikatu_kopurua([1,2,3,1,2,3,4,5,1])"
   ]
  },
  {
   "cell_type": "markdown",
   "metadata": {},
   "source": [
    "## 10\n",
    "Hiztegi edo multzoak erabiliz, zerrenda batetean errepikatuak (bi edo gehiagotan) agertzen\n",
    "diren elementu ezberdinen kopurua."
   ]
  },
  {
   "cell_type": "code",
   "execution_count": 7,
   "metadata": {},
   "outputs": [],
   "source": [
    "def errepikatu_kopurua(z):\n",
    "    h = {}\n",
    "    for x in z :\n",
    "        h[x] = h.get(x,0) +1\n",
    "    return sum(1 for v in h.values() if v > 1)"
   ]
  },
  {
   "cell_type": "markdown",
   "metadata": {},
   "source": [
    "**Tamaina:**   `n = len(z)`\n",
    "\n",
    "```python\n",
    "def errepikatu_kopurua(z):\n",
    "    h = {}                                        -->  1 p\n",
    "    for x in z :                                  -->  n x 1\n",
    "        h[x] = h.get(x,0) + 1                     -->  n x 1\n",
    "    #return sum(1 for v in h.values() if v > 1)   --> \n",
    "    k = 0                                         -->  1 p\n",
    "    for v in h.values() :                         -->  1 <h.values()> + [1 <1>, n <2>] x 1 p\n",
    "        if v > 1 :                                -->  [1 <1>, n <2>] x 1 p\n",
    "            k += 1                                -->  aurrekoarekin\n",
    "    return k                                      -->  1 p\n",
    "```\n",
    "\n",
    "* **<1> ,kasu ona?**: z-ko elementu guztiak berdinak dira\n",
    "* **<2>, kasu txarra?**: z-ko elementu guztiak ezberdinak dira\n",
    "\n",
    "* **<1>**  --> `t(n) = n+1`\n",
    "* **<2>**  --> `t(n) = n+1`\n",
    "\n",
    "$\\to$ Ez dago kasu on/txarrik, $t(n)=n+1$"
   ]
  },
  {
   "cell_type": "code",
   "execution_count": null,
   "metadata": {},
   "outputs": [],
   "source": []
  },
  {
   "cell_type": "code",
   "execution_count": null,
   "metadata": {},
   "outputs": [],
   "source": []
  }
 ],
 "metadata": {
  "kernelspec": {
   "display_name": "Python 3",
   "language": "python",
   "name": "python3"
  },
  "language_info": {
   "codemirror_mode": {
    "name": "ipython",
    "version": 3
   },
   "file_extension": ".py",
   "mimetype": "text/x-python",
   "name": "python",
   "nbconvert_exporter": "python",
   "pygments_lexer": "ipython3",
   "version": "3.7.6"
  }
 },
 "nbformat": 4,
 "nbformat_minor": 4
}
