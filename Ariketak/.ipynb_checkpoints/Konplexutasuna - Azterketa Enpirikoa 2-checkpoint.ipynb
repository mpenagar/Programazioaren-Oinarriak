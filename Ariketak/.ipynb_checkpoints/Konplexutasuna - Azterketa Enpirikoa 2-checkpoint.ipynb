{
 "cells": [
  {
   "cell_type": "markdown",
   "metadata": {},
   "source": [
    "### 2\n",
    "Demagun hiztegi batek dituen gako-balio bikoteen biderkaduraren batura kalkulatu nahi dugula. Bi funtzio sortu. Lehenengoak hiztegiaren gakoak zeharkatuko ditu, balioa sortzeko hiztegia indexatuz, eta bigarrenak gako-balio bioteak zeharkatuko ditu. Neurtu ezazu bi funtzioen exekuzio denbora ondoko hiztegiarekin:\n",
    "\n",
    "`h = {i:i for i in range(10000)}`"
   ]
  },
  {
   "cell_type": "code",
   "execution_count": 2,
   "metadata": {},
   "outputs": [],
   "source": [
    "def bb1(h):\n",
    "    e = 0\n",
    "    for g in h :\n",
    "        e += g*h[g]\n",
    "    return e\n",
    "\n",
    "def bb2(h):\n",
    "    e = 0\n",
    "    for g,b in h.items() :\n",
    "        e += g*b\n",
    "    return e"
   ]
  },
  {
   "cell_type": "code",
   "execution_count": 3,
   "metadata": {},
   "outputs": [
    {
     "data": {
      "text/plain": [
       "(333283335000, 333283335000)"
      ]
     },
     "execution_count": 3,
     "metadata": {},
     "output_type": "execute_result"
    }
   ],
   "source": [
    "h = {i:i for i in range(10000)}\n",
    "bb1(h),bb2(h)"
   ]
  },
  {
   "cell_type": "code",
   "execution_count": 4,
   "metadata": {},
   "outputs": [
    {
     "name": "stdout",
     "output_type": "stream",
     "text": [
      "3.58 ms ± 16.6 µs per loop (mean ± std. dev. of 7 runs, 100 loops each)\n",
      "3.35 ms ± 8.58 µs per loop (mean ± std. dev. of 7 runs, 100 loops each)\n"
     ]
    }
   ],
   "source": [
    "%timeit bb1(h)\n",
    "%timeit bb2(h)"
   ]
  }
 ],
 "metadata": {
  "kernelspec": {
   "display_name": "Python 3",
   "language": "python",
   "name": "python3"
  },
  "language_info": {
   "codemirror_mode": {
    "name": "ipython",
    "version": 3
   },
   "file_extension": ".py",
   "mimetype": "text/x-python",
   "name": "python",
   "nbconvert_exporter": "python",
   "pygments_lexer": "ipython3",
   "version": "3.7.6"
  }
 },
 "nbformat": 4,
 "nbformat_minor": 4
}
