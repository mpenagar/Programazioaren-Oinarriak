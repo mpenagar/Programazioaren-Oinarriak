{
 "cells": [
  {
   "cell_type": "markdown",
   "metadata": {},
   "source": [
    "### 1\n",
    "Testu fitxategi batetako hitzen histograma kalkulatzen duen funtzioa sortu. Suposatu testu fitxategian agertzen diren karaktere guztiak alfabetikoak edo hutsunea direla."
   ]
  },
  {
   "cell_type": "code",
   "execution_count": 24,
   "metadata": {},
   "outputs": [],
   "source": [
    "def histograma(filename,encoding='utf8'):\n",
    "    with open(filename,encoding=encoding) as f:\n",
    "        h = {}\n",
    "        for line in f:\n",
    "            for w in line.split():\n",
    "                if w not in h :\n",
    "                    h[w] = 1\n",
    "                else :\n",
    "                    h[w] += 1\n",
    "        return h"
   ]
  },
  {
   "cell_type": "code",
   "execution_count": 26,
   "metadata": {
    "scrolled": true
   },
   "outputs": [
    {
     "data": {
      "text/plain": [
       "[('in', 12724),\n",
       " ('the', 64191),\n",
       " ('beginning', 107),\n",
       " ('god', 4442),\n",
       " ('created', 47)]"
      ]
     },
     "execution_count": 26,
     "metadata": {},
     "output_type": "execute_result"
    }
   ],
   "source": [
    "list(histograma('bible.clean.txt').items())[:5]"
   ]
  },
  {
   "cell_type": "markdown",
   "metadata": {},
   "source": [
    "### 5\n",
    "Idatzi funtzio bat, lehenengo n zenbaki lehenen zerrenda gorakorra jasota, hurrengo\n",
    "zenbaki lehena bueltatuko duena. Hurrengo sekuentziek ondoko balioa bueltatu beharko\n",
    "lukete:\n",
    "\n",
    "```\n",
    " [] --> 2\n",
    " [2] -->3\n",
    " [2,3] --> 5\n",
    " [2,3,5] --> 7\n",
    " ```"
   ]
  },
  {
   "cell_type": "code",
   "execution_count": 8,
   "metadata": {},
   "outputs": [],
   "source": [
    "def hurrengo_lehena(z):\n",
    "    if not z :\n",
    "        return 2\n",
    "    i = z[-1] + 1\n",
    "    while  True :\n",
    "        for lehena in z:\n",
    "            if i % lehena == 0:\n",
    "                break\n",
    "        else :\n",
    "            # Lehena da\n",
    "            return i\n",
    "        i += 1"
   ]
  },
  {
   "cell_type": "code",
   "execution_count": 11,
   "metadata": {},
   "outputs": [
    {
     "data": {
      "text/plain": [
       "5"
      ]
     },
     "execution_count": 11,
     "metadata": {},
     "output_type": "execute_result"
    }
   ],
   "source": [
    "hurrengo_lehena([2,3])"
   ]
  },
  {
   "cell_type": "code",
   "execution_count": 13,
   "metadata": {},
   "outputs": [],
   "source": [
    "def zatigarria(z,i):\n",
    "    for j in z :\n",
    "        if i%j == 0:\n",
    "            return True\n",
    "    return False\n",
    "\n",
    "def hurrengo_lehena(z):\n",
    "    if not z :\n",
    "        return 2\n",
    "    i = z[-1] + 1\n",
    "    while  True :\n",
    "        if not zatigarria(z,i):\n",
    "            return i\n",
    "        i += 1"
   ]
  },
  {
   "cell_type": "code",
   "execution_count": 17,
   "metadata": {},
   "outputs": [
    {
     "data": {
      "text/plain": [
       "13"
      ]
     },
     "execution_count": 17,
     "metadata": {},
     "output_type": "execute_result"
    }
   ],
   "source": [
    "hurrengo_lehena([2,3,5,7,11])"
   ]
  },
  {
   "cell_type": "markdown",
   "metadata": {},
   "source": [
    "### 6\n",
    "Funtzio bat idatzi, sarrera bezala n>1 zenbaki arrunt bat jasoko duena eta emandako\n",
    "zenbakiaren faktore lehenen deskonposaketa adieraziko duen hiztegia bueltatuko duena.\n",
    "Hiztegiaren giltzak faktoreak izango dira eta dagokien balioa faktore bakoitzaren\n",
    "berretzailea. Honela, n=360 izango balitz, funtzioak ondoko hiztegiak bueltatu beharko luke:\n",
    "`{2: 3, 3: 2, 5: 1}`. OHARRA: aurreko funtzioa erabili"
   ]
  },
  {
   "cell_type": "code",
   "execution_count": 18,
   "metadata": {},
   "outputs": [
    {
     "data": {
      "text/plain": [
       "360"
      ]
     },
     "execution_count": 18,
     "metadata": {},
     "output_type": "execute_result"
    }
   ],
   "source": [
    "2**3 * 3**2 * 5**1"
   ]
  },
  {
   "cell_type": "code",
   "execution_count": 21,
   "metadata": {},
   "outputs": [],
   "source": [
    "def faktore_lehenak(n):\n",
    "    h = {}\n",
    "    z = []\n",
    "    z.append(hurrengo_lehena(z))\n",
    "    while n != 1 :\n",
    "        while n % z[-1] != 0:\n",
    "            z.append(hurrengo_lehena(z))\n",
    "        i = z[-1]\n",
    "        # lortu beharrekoa= i: zenbaki lehen txikiena zeinak n%i == 0\n",
    "        n = n // i\n",
    "        if i in h :\n",
    "            h[i] += 1\n",
    "        else :\n",
    "            h[i] = 1\n",
    "    return h "
   ]
  },
  {
   "cell_type": "code",
   "execution_count": 23,
   "metadata": {},
   "outputs": [
    {
     "data": {
      "text/plain": [
       "{7: 3, 11: 5, 19: 6}"
      ]
     },
     "execution_count": 23,
     "metadata": {},
     "output_type": "execute_result"
    }
   ],
   "source": [
    "faktore_lehenak(7**3 * 11**5 * 19**6)"
   ]
  }
 ],
 "metadata": {
  "kernelspec": {
   "display_name": "Python 3",
   "language": "python",
   "name": "python3"
  },
  "language_info": {
   "codemirror_mode": {
    "name": "ipython",
    "version": 3
   },
   "file_extension": ".py",
   "mimetype": "text/x-python",
   "name": "python",
   "nbconvert_exporter": "python",
   "pygments_lexer": "ipython3",
   "version": "3.7.6"
  }
 },
 "nbformat": 4,
 "nbformat_minor": 4
}
