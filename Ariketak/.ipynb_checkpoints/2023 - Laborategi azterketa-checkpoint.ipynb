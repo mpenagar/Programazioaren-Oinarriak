{
 "cells": [
  {
   "cell_type": "markdown",
   "metadata": {},
   "source": [
    "## Ariketa\n",
    "\n",
    "Multzo edo hiztegirik erabili gabe, iteragarri batetako elementu ezberdin kopurua\n"
   ]
  },
  {
   "cell_type": "code",
   "execution_count": 6,
   "metadata": {},
   "outputs": [
    {
     "name": "stdout",
     "output_type": "stream",
     "text": [
      "10\n",
      "10\n",
      "10\n"
     ]
    }
   ],
   "source": [
    "# Multzo bat erabiliz\n",
    "def f1(it):\n",
    "    return len(set(it))\n",
    "\n",
    "# Zerrenda bat erabiliz\n",
    "def f2(it):\n",
    "    # Kontuz!!!\n",
    "    # z = [x for x in it if x not in z]\n",
    "    z = []\n",
    "    for x in it:\n",
    "        if x not in z :\n",
    "            z.append(x)\n",
    "    return len(z)\n",
    "\n",
    "# Zerrenda bat erabiliz\n",
    "def f3(it):\n",
    "    z = sorted(it)\n",
    "    k = 1\n",
    "    for a,b in zip(z,z[1:]):\n",
    "        if a != b :\n",
    "            k += 1\n",
    "    return k\n",
    "\n",
    "\n",
    "\n",
    "#it = list(range(10))*3 + [\"aaaaa\"]\n",
    "it = list(range(10))*3\n",
    "print(f1(it))\n",
    "print(f2(it))\n",
    "print(f3(it))"
   ]
  },
  {
   "cell_type": "markdown",
   "metadata": {},
   "source": [
    "* `f1()` $\\to$  $\\Theta(n)$\n",
    "* `f2()` $\\to$  $\\Omega(n) \\;\\; O(n^2)$\n",
    "* `f3()` $\\to$  $\\Theta(n \\cdot log n)$\n",
    "\n"
   ]
  }
 ],
 "metadata": {
  "kernelspec": {
   "display_name": "Python 3",
   "language": "python",
   "name": "python3"
  },
  "language_info": {
   "codemirror_mode": {
    "name": "ipython",
    "version": 3
   },
   "file_extension": ".py",
   "mimetype": "text/x-python",
   "name": "python",
   "nbconvert_exporter": "python",
   "pygments_lexer": "ipython3",
   "version": "3.7.6"
  }
 },
 "nbformat": 4,
 "nbformat_minor": 4
}
