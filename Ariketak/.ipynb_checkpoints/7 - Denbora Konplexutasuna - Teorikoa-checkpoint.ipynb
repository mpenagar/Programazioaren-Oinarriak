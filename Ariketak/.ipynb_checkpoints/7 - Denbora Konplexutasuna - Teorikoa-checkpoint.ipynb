{
 "cells": [
  {
   "cell_type": "markdown",
   "metadata": {},
   "source": [
    "### 7\n",
    "Hiztegi edo multzorik erabili gabe, zerrenda batetan agertzen diren elementu ezberdinen kopurua."
   ]
  },
  {
   "cell_type": "markdown",
   "metadata": {},
   "source": [
    "Multzoak erabiliz:"
   ]
  },
  {
   "cell_type": "code",
   "execution_count": null,
   "metadata": {},
   "outputs": [],
   "source": [
    "def elementu_kopurua(z):\n",
    "    return len(set(z))  # n + 1"
   ]
  },
  {
   "cell_type": "markdown",
   "metadata": {},
   "source": [
    "$\\Theta(n)$"
   ]
  },
  {
   "cell_type": "markdown",
   "metadata": {},
   "source": [
    "Multzoak erabili gabe:"
   ]
  },
  {
   "cell_type": "code",
   "execution_count": null,
   "metadata": {},
   "outputs": [],
   "source": [
    "def elementu_kopurua(z):\n",
    "    z2 = []\n",
    "    for x in z:\n",
    "        if x not in z2 :\n",
    "            z2.append(x)\n",
    "    return len(z2)"
   ]
  },
  {
   "cell_type": "markdown",
   "metadata": {},
   "source": [
    "#### Kasu ona: z-ko elementu guztiak berdinak\n",
    "\n",
    "```python\n",
    "def elementu_kopurua(z):\n",
    "    z2 = []                 # 1\n",
    "    for x in z:             # n \n",
    "        if x not in z2 :    # n x 1\n",
    "            z2.append(x)    # 1\n",
    "    return len(z2)          # 1\n",
    "```\n",
    "$\\Omega(n)$"
   ]
  },
  {
   "cell_type": "markdown",
   "metadata": {},
   "source": [
    "#### Kasu txarra: z-ko elementu guztiak ezberdinak\n",
    "\n",
    "```python\n",
    "def elementu_kopurua(z):\n",
    "    z2 = []                 # 1\n",
    "    for x in z:             # n \n",
    "        if x not in z2 :    # 1 + 2 + 3 + 4 +...+ n = n(n+1)/2\n",
    "            z2.append(x)    # n x 1\n",
    "    return len(z2)          # 1\n",
    "```\n",
    "$O(n^2)$"
   ]
  },
  {
   "cell_type": "markdown",
   "metadata": {},
   "source": [
    "Beste aukera bat:"
   ]
  },
  {
   "cell_type": "code",
   "execution_count": null,
   "metadata": {},
   "outputs": [],
   "source": [
    "def elementu_kopurua(z):\n",
    "    z2 = sorted(z)                 # n logn\n",
    "    n = 1                          # 1\n",
    "    for x,y in zip(z2,z2[1:]):     # n\n",
    "        if x != y:                 # (n-1) x 1\n",
    "            n += 1                 # [0,n-1]\n",
    "    return n                       # 1"
   ]
  },
  {
   "cell_type": "markdown",
   "metadata": {},
   "source": [
    "$\\Theta(n \\cdot log n)$"
   ]
  },
  {
   "cell_type": "markdown",
   "metadata": {},
   "source": [
    "### 12\n",
    "Hiztegi edo multzoak erabiliz, testu fitxategi batetan hutsunez banandutako hitz ezberdinen kopurua.\n",
    "\n",
    "Tamaina: n = hitz kopurua"
   ]
  },
  {
   "cell_type": "code",
   "execution_count": null,
   "metadata": {},
   "outputs": [],
   "source": [
    "def hitza_ezberdinak(filename,encoding='utf8'):\n",
    "    with open(filename,encoding=encoding) as f: # 1\n",
    "        s = set()                               # 1\n",
    "        for line in f :                         # |\n",
    "            for word in line.split():           # |n\n",
    "                s.add(word)                     # n x 1\n",
    "        return len(s)                           # 1\n",
    "                "
   ]
  }
 ],
 "metadata": {
  "kernelspec": {
   "display_name": "Python 3",
   "language": "python",
   "name": "python3"
  },
  "language_info": {
   "codemirror_mode": {
    "name": "ipython",
    "version": 3
   },
   "file_extension": ".py",
   "mimetype": "text/x-python",
   "name": "python",
   "nbconvert_exporter": "python",
   "pygments_lexer": "ipython3",
   "version": "3.7.6"
  }
 },
 "nbformat": 4,
 "nbformat_minor": 4
}
