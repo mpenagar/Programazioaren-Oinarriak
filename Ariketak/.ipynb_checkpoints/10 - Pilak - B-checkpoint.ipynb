{
 "cells": [
  {
   "cell_type": "code",
   "execution_count": 2,
   "metadata": {},
   "outputs": [],
   "source": [
    "class Stack(object):\n",
    "\n",
    "    def __init__(self,it=()):\n",
    "        self.z = list(it)\n",
    "    \n",
    "    def push(self,value):\n",
    "        self.z.append(value)\n",
    "    \n",
    "    def top(self):\n",
    "        return self.z[-1]\n",
    "    \n",
    "    def pop(self):\n",
    "        return self.z.pop()\n",
    "    \n",
    "    def __len__(self):\n",
    "        return len(self.z)\n",
    "    \n",
    "    def __iter__(self):\n",
    "        return (self.pop() for _ in range(len(self)))\n",
    "    \n",
    "    def __str__(self):\n",
    "        return '\\n'.join(['---'] + [repr(x) for x in self.z[::-1]] + ['---'])\n",
    "    \n",
    "    def __repr__(self):\n",
    "        return f'Stack({repr(self.z)})'\n",
    "    \n",
    "    def __eq__(self,other):\n",
    "        return type(other) == Stack and self.z == other.z"
   ]
  },
  {
   "cell_type": "code",
   "execution_count": 14,
   "metadata": {},
   "outputs": [],
   "source": [
    "# sarrera: hutsunez banandutako karaktere katea parentesiekin\n",
    "# irteera: hutsunez banandutako karaktere katea\n",
    "def infix2postfix(txt):\n",
    "    s = Stack()\n",
    "    z = []\n",
    "    priority = {'*':2 , '/':2 , '+':1 , '-':1 , '(':0 }\n",
    "    for x in txt.split():\n",
    "        if x == '(':\n",
    "            s.push(x)\n",
    "        elif x == ')' :\n",
    "            while s.top() != '(':\n",
    "                z.append(s.pop())\n",
    "            s.pop()\n",
    "        elif x in '+-*/' :\n",
    "            px = priority[x]\n",
    "            while s and priority[s.top()] >= px :\n",
    "                z.append(s.pop())\n",
    "            s.push(x)\n",
    "        else :\n",
    "            z.append(x)\n",
    "    z.extend(s)\n",
    "    return ' '.join(z)"
   ]
  },
  {
   "cell_type": "code",
   "execution_count": 16,
   "metadata": {},
   "outputs": [
    {
     "data": {
      "text/plain": [
       "'1 2 3 4 5 + * + *'"
      ]
     },
     "execution_count": 16,
     "metadata": {},
     "output_type": "execute_result"
    }
   ],
   "source": [
    "infix2postfix(\"1 * ( 2 + 3 * ( 4 + 5 ) )\")"
   ]
  },
  {
   "cell_type": "code",
   "execution_count": 18,
   "metadata": {},
   "outputs": [],
   "source": [
    "# sarrera: hutsunez banandutako karaktere katea\n",
    "def eval_postfix(txt):\n",
    "    s = Stack()\n",
    "    for x in txt.split():\n",
    "        if x in '+-*/' :\n",
    "            b = s.pop()\n",
    "            a = s.pop()\n",
    "            if x == '+' :\n",
    "                s.push(a+b)\n",
    "            elif x == '-' :\n",
    "                s.push(a-b)\n",
    "            elif x == '*' :\n",
    "                s.push(a*b)\n",
    "            else :\n",
    "                s.push(a/b)\n",
    "        else :\n",
    "            s.push(eval(x))\n",
    "    return s.pop()"
   ]
  },
  {
   "cell_type": "code",
   "execution_count": 20,
   "metadata": {},
   "outputs": [
    {
     "data": {
      "text/plain": [
       "290"
      ]
     },
     "execution_count": 20,
     "metadata": {},
     "output_type": "execute_result"
    }
   ],
   "source": [
    "def eval_infix(txt):\n",
    "    return eval_postfix(infix2postfix(txt))\n",
    "\n",
    "eval_infix(\"10 * ( 2 + 3 * ( 4 + 5 ) )\")"
   ]
  }
 ],
 "metadata": {
  "kernelspec": {
   "display_name": "Python 3",
   "language": "python",
   "name": "python3"
  },
  "language_info": {
   "codemirror_mode": {
    "name": "ipython",
    "version": 3
   },
   "file_extension": ".py",
   "mimetype": "text/x-python",
   "name": "python",
   "nbconvert_exporter": "python",
   "pygments_lexer": "ipython3",
   "version": "3.7.6"
  }
 },
 "nbformat": 4,
 "nbformat_minor": 4
}
