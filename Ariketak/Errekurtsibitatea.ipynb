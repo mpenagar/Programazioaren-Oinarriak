{
 "cells": [
  {
   "cell_type": "markdown",
   "metadata": {},
   "source": [
    "### 6\n",
    "\n",
    "Txikitik handira ordenatutako zenbaki zerrenda batetan zenbaki baten posizioa (edo None, ez badago) bueltatuko duen funtzioa, bilaketa dikotomikoa deritzon teknika erabiliz:\n",
    "* Tarte batetan bilatzeko, tarteko erdiko elementua begiratuko dugu.\n",
    "* Elementu hau bilatzen ari garen balioa bada, topatu dugu.\n",
    "* Ez bada, bilatzen ari garen balioa handiagoa bada eskuinean bilatzen jarraituko dugu eta bestela ezkerrean."
   ]
  },
  {
   "cell_type": "code",
   "execution_count": 14,
   "metadata": {},
   "outputs": [
    {
     "name": "stdout",
     "output_type": "stream",
     "text": [
      "0\n",
      "1\n",
      "2\n",
      "3\n",
      "4\n",
      "5\n",
      "6\n",
      "7\n",
      "8\n",
      "9\n"
     ]
    },
    {
     "data": {
      "text/plain": [
       "True"
      ]
     },
     "execution_count": 14,
     "metadata": {},
     "output_type": "execute_result"
    }
   ],
   "source": [
    "def bilaketa_dik(z,x):\n",
    "    #print(z,x)\n",
    "    if z :\n",
    "        # kasu generala\n",
    "        e = len(z)//2\n",
    "        if z[e] == x :\n",
    "            return e\n",
    "        elif x < z[e]:\n",
    "            # egotekotan, ezkerrean (z[:e]) dago \n",
    "            return bilaketa_dik(z[:e],x)\n",
    "        else :\n",
    "            # egotekotan, eskuman (z[e+1:]) dago\n",
    "            i = bilaketa_dik(z[e+1:],x)\n",
    "            return e+1+i if i!=None else None  \n",
    "    else :\n",
    "        # kasu basea (len(z)==0)\n",
    "        return None\n",
    "    \n",
    "z = list(range(10))\n",
    "for i in range(10):\n",
    "    print(bilaketa_dik(z,i))\n",
    "bilaketa_dik(z,5.1) == None"
   ]
  },
  {
   "cell_type": "code",
   "execution_count": 12,
   "metadata": {},
   "outputs": [
    {
     "name": "stdout",
     "output_type": "stream",
     "text": [
      "0\n",
      "1\n",
      "2\n",
      "3\n",
      "4\n",
      "5\n",
      "6\n",
      "7\n",
      "8\n",
      "9\n"
     ]
    },
    {
     "data": {
      "text/plain": [
       "True"
      ]
     },
     "execution_count": 12,
     "metadata": {},
     "output_type": "execute_result"
    }
   ],
   "source": [
    "def bilaketa_dik(z,x):\n",
    "    return bilaketa_dik_aux(z,x,0,len(z)-1)\n",
    "\n",
    "def bilaketa_dik_aux(z,x,i,j):\n",
    "    if i <= j :\n",
    "        # kasu generala\n",
    "        e = (i+j)//2\n",
    "        if z[e] == x :\n",
    "            return e\n",
    "        elif x < z[e]:\n",
    "            # egotekotan, ezkerrean [i,e-1] dago \n",
    "            return bilaketa_dik_aux(z,x,i,e-1)\n",
    "        else :\n",
    "            # egotekotan, eskuman [e+1,j] dago\n",
    "            return bilaketa_dik_aux(z,x,e+1,j)\n",
    "    else :\n",
    "        # kasu basea (len(z)==0)\n",
    "        return None\n",
    "\n",
    "z = list(range(10))\n",
    "for i in range(10):\n",
    "    print(bilaketa_dik(z,i))\n",
    "bilaketa_dik(z,5.346) == None"
   ]
  }
 ],
 "metadata": {
  "kernelspec": {
   "display_name": "Python 3",
   "language": "python",
   "name": "python3"
  },
  "language_info": {
   "codemirror_mode": {
    "name": "ipython",
    "version": 3
   },
   "file_extension": ".py",
   "mimetype": "text/x-python",
   "name": "python",
   "nbconvert_exporter": "python",
   "pygments_lexer": "ipython3",
   "version": "3.7.6"
  }
 },
 "nbformat": 4,
 "nbformat_minor": 4
}
