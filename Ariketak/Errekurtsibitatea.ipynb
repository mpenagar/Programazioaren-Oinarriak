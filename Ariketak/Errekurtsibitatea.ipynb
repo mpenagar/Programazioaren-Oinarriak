{
 "cells": [
  {
   "cell_type": "markdown",
   "metadata": {},
   "source": [
    "### 4 - Zerrenda batetako elementu handienaren balioa bueltatuko duen funtzioa."
   ]
  },
  {
   "cell_type": "code",
   "execution_count": 6,
   "metadata": {},
   "outputs": [],
   "source": [
    "def maximoa(z):\n",
    "    if len(z) == 1 :\n",
    "        return z[0]\n",
    "    else :\n",
    "        a = z[:len(z)//2]\n",
    "        b = z[len(z)//2:]\n",
    "        #print(a,b)\n",
    "        return max(maximoa(a),maximoa(b))"
   ]
  },
  {
   "cell_type": "code",
   "execution_count": 7,
   "metadata": {},
   "outputs": [
    {
     "data": {
      "text/plain": [
       "73452"
      ]
     },
     "execution_count": 7,
     "metadata": {},
     "output_type": "execute_result"
    }
   ],
   "source": [
    "maximoa([34216,32,46,13465,236,134,632,73452,3452,36,236,2365])"
   ]
  },
  {
   "cell_type": "markdown",
   "metadata": {},
   "source": [
    "Horrenbeste zerrenda sortzeak badu bere kostua..."
   ]
  },
  {
   "cell_type": "code",
   "execution_count": 13,
   "metadata": {},
   "outputs": [],
   "source": [
    "def maximoa_errek(z,i,j):\n",
    "    if j-i == 1 :\n",
    "        return z[i]\n",
    "    else :\n",
    "        #print(z[i:(i+j)//2],z[(i+j)//2:j])\n",
    "        return max(maximoa_errek(z,i,(i+j)//2),maximoa_errek(z,(i+j)//2,j))\n",
    "\n",
    "def maximoa(z):\n",
    "    return maximoa_errek(z,0,len(z))"
   ]
  },
  {
   "cell_type": "code",
   "execution_count": 16,
   "metadata": {},
   "outputs": [
    {
     "data": {
      "text/plain": [
       "73452"
      ]
     },
     "execution_count": 16,
     "metadata": {},
     "output_type": "execute_result"
    }
   ],
   "source": [
    "maximoa_errek([34216,32,46,13465,236,134,632,73452,3452,36,236,2365],0,12)"
   ]
  },
  {
   "cell_type": "code",
   "execution_count": 17,
   "metadata": {},
   "outputs": [
    {
     "data": {
      "text/plain": [
       "73452"
      ]
     },
     "execution_count": 17,
     "metadata": {},
     "output_type": "execute_result"
    }
   ],
   "source": [
    "maximoa([34216,32,46,13465,236,134,632,73452,3452,36,236,2365])"
   ]
  },
  {
   "cell_type": "code",
   "execution_count": 18,
   "metadata": {},
   "outputs": [],
   "source": [
    "def maximoa(z):\n",
    "    if len(z) == 1 :\n",
    "        return z[0]\n",
    "    else :\n",
    "        return max(z[0],maximoa(z[1:]))"
   ]
  },
  {
   "cell_type": "code",
   "execution_count": 19,
   "metadata": {},
   "outputs": [
    {
     "data": {
      "text/plain": [
       "73452"
      ]
     },
     "execution_count": 19,
     "metadata": {},
     "output_type": "execute_result"
    }
   ],
   "source": [
    "maximoa([34216,32,46,13465,236,134,632,73452,3452,36,236,2365])"
   ]
  },
  {
   "cell_type": "markdown",
   "metadata": {},
   "source": [
    "Horrenbeste zerrenda sortzeak badu bere kostua..."
   ]
  },
  {
   "cell_type": "code",
   "execution_count": 24,
   "metadata": {},
   "outputs": [],
   "source": [
    "def maximoa_errek(z,i):\n",
    "    if i == len(z)-1 :\n",
    "        return z[i]\n",
    "    else :\n",
    "        return max(z[i],maximoa_errek(z,i+1))\n",
    "\n",
    "def maximoa(z):\n",
    "    return maximoa_errek(z,0)"
   ]
  },
  {
   "cell_type": "code",
   "execution_count": 25,
   "metadata": {},
   "outputs": [
    {
     "data": {
      "text/plain": [
       "73452"
      ]
     },
     "execution_count": 25,
     "metadata": {},
     "output_type": "execute_result"
    }
   ],
   "source": [
    "maximoa_errek([34216,32,46,13465,236,134,632,73452,3452,36,236,2365],0)"
   ]
  },
  {
   "cell_type": "code",
   "execution_count": 26,
   "metadata": {},
   "outputs": [
    {
     "data": {
      "text/plain": [
       "73452"
      ]
     },
     "execution_count": 26,
     "metadata": {},
     "output_type": "execute_result"
    }
   ],
   "source": [
    "maximoa([34216,32,46,13465,236,134,632,73452,3452,36,236,2365])"
   ]
  }
 ],
 "metadata": {
  "kernelspec": {
   "display_name": "Python 3",
   "language": "python",
   "name": "python3"
  },
  "language_info": {
   "codemirror_mode": {
    "name": "ipython",
    "version": 3
   },
   "file_extension": ".py",
   "mimetype": "text/x-python",
   "name": "python",
   "nbconvert_exporter": "python",
   "pygments_lexer": "ipython3",
   "version": "3.7.6"
  }
 },
 "nbformat": 4,
 "nbformat_minor": 4
}
