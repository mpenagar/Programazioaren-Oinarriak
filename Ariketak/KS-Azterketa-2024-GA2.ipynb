{
 "cells": [
  {
   "cell_type": "markdown",
   "metadata": {},
   "source": [
    "## 3. Ariketa"
   ]
  },
  {
   "cell_type": "markdown",
   "metadata": {},
   "source": [
    "## 3a"
   ]
  },
  {
   "cell_type": "code",
   "execution_count": 4,
   "metadata": {},
   "outputs": [
    {
     "data": {
      "text/plain": [
       "{(0, 0): 1.0, (1, 1): 1.0, (1, 2): 2.0, (2, 3): 1.0}"
      ]
     },
     "execution_count": 4,
     "metadata": {},
     "output_type": "execute_result"
    }
   ],
   "source": [
    "def matrizea_jaso(bideizena):\n",
    "    f = open(bideizena)\n",
    "    h = {}\n",
    "    f.readline()\n",
    "    i = 0\n",
    "    for ilara in f:\n",
    "        j = 0\n",
    "        for s in ilara.split():\n",
    "            x = float(s)\n",
    "            if x != 0.0 :\n",
    "                h[(i,j)] = x\n",
    "            j += 1\n",
    "        i += 1\n",
    "    f.close()\n",
    "    return h\n",
    "\n",
    "matrizea_jaso('matrizea.txt')"
   ]
  },
  {
   "cell_type": "code",
   "execution_count": 5,
   "metadata": {},
   "outputs": [
    {
     "data": {
      "text/plain": [
       "{(0, 0): 1.0, (1, 1): 1.0, (1, 2): 2.0, (2, 3): 1.0}"
      ]
     },
     "execution_count": 5,
     "metadata": {},
     "output_type": "execute_result"
    }
   ],
   "source": [
    "def matrizea_jaso2(bideizena):\n",
    "    f = open(bideizena)\n",
    "    h = {}\n",
    "    a,b = f.readline().split()\n",
    "    I,J = int(a),int(b)\n",
    "    for i in range(I):\n",
    "        z = f.readline().split()\n",
    "        for j in range(J):\n",
    "            x = float(z[j])\n",
    "            if x != 0.0 :\n",
    "                h[(i,j)] = x\n",
    "    f.close()\n",
    "    return h\n",
    "\n",
    "matrizea_jaso2('matrizea.txt')"
   ]
  },
  {
   "cell_type": "markdown",
   "metadata": {},
   "source": [
    "## 3b"
   ]
  },
  {
   "cell_type": "code",
   "execution_count": 20,
   "metadata": {},
   "outputs": [
    {
     "data": {
      "text/plain": [
       "{(1, 1): 3.0, (1, 2): 2.0, (2, 3): 1.0, (1, 3): 2.0}"
      ]
     },
     "execution_count": 20,
     "metadata": {},
     "output_type": "execute_result"
    }
   ],
   "source": [
    "def matrizeak_batu(M1,M2):\n",
    "    h = M1.copy()\n",
    "    for ind,b in M2.items():\n",
    "        if ind in h :\n",
    "            x = b + h[ind]\n",
    "            if x != 0.0 :\n",
    "                h[ind] = x\n",
    "            else :\n",
    "                del h[ind]\n",
    "        else :\n",
    "            h[ind] = b\n",
    "    return h\n",
    "\n",
    "A = {(0, 0): 1.0, (1, 1): 1.0, (1, 2): 2.0, (2, 3): 1.0}\n",
    "B = {(0, 0): -1.0, (1, 1): 2.0, (1, 3): 2.0}\n",
    "matrizeak_batu(A,B)"
   ]
  },
  {
   "cell_type": "markdown",
   "metadata": {},
   "source": [
    "zerrenden kopiak egiteko:"
   ]
  },
  {
   "cell_type": "code",
   "execution_count": 8,
   "metadata": {},
   "outputs": [
    {
     "name": "stdout",
     "output_type": "stream",
     "text": [
      "[1, 2, 3, 4, 5]\n",
      "[1, 2, 3, 4, 5]\n",
      "[1, 2, 3, 4, 5]\n"
     ]
    }
   ],
   "source": [
    "z = [1,2,3,4,5]\n",
    "x = z[:]\n",
    "print(x)\n",
    "x = list(z)\n",
    "print(x)\n",
    "x = z.copy()\n",
    "print(x)"
   ]
  },
  {
   "cell_type": "markdown",
   "metadata": {},
   "source": [
    "hiztegien kopiak egiteko"
   ]
  },
  {
   "cell_type": "code",
   "execution_count": 15,
   "metadata": {},
   "outputs": [
    {
     "name": "stdout",
     "output_type": "stream",
     "text": [
      "{(0, 0): 1.0, (1, 1): 1.0, (1, 2): 2.0, (2, 3): 1.0}\n",
      "{(0, 0): 1.0, (1, 1): 1.0, (1, 2): 2.0, (2, 3): 1.0}\n",
      "{(0, 0): 1.0, (1, 1): 1.0, (1, 2): 2.0, (2, 3): 1.0}\n"
     ]
    }
   ],
   "source": [
    "h = {(0, 0): 1.0, (1, 1): 1.0, (1, 2): 2.0, (2, 3): 1.0}\n",
    "x = dict(h)\n",
    "print(x)\n",
    "x = dict(h.items())\n",
    "print(x)\n",
    "x = h.copy()\n",
    "print(x)"
   ]
  },
  {
   "cell_type": "markdown",
   "metadata": {},
   "source": [
    "Elementuak zerrendetatik indizeen bidez ezabatzen:"
   ]
  },
  {
   "cell_type": "code",
   "execution_count": 22,
   "metadata": {},
   "outputs": [
    {
     "name": "stdout",
     "output_type": "stream",
     "text": [
      "['a', 'e', 'i', 'o']\n"
     ]
    }
   ],
   "source": [
    "z = [\"a\",\"e\",\"i\",\"o\",\"u\"]\n",
    "del z[4]\n",
    "print(z)"
   ]
  },
  {
   "cell_type": "markdown",
   "metadata": {},
   "source": [
    "Elementuak hiztegietatik gakoen bidez ezabatzen:"
   ]
  },
  {
   "cell_type": "code",
   "execution_count": 24,
   "metadata": {},
   "outputs": [
    {
     "name": "stdout",
     "output_type": "stream",
     "text": [
      "['a', 'e', 'i', 'o']\n"
     ]
    }
   ],
   "source": [
    "h = {\"Ane\":72346923 , \"Jon\":28937235 , \"Izaro\":98762359}\n",
    "del h[\"Jon\"]\n",
    "print(z)"
   ]
  }
 ],
 "metadata": {
  "kernelspec": {
   "display_name": "Python 3",
   "language": "python",
   "name": "python3"
  },
  "language_info": {
   "codemirror_mode": {
    "name": "ipython",
    "version": 3
   },
   "file_extension": ".py",
   "mimetype": "text/x-python",
   "name": "python",
   "nbconvert_exporter": "python",
   "pygments_lexer": "ipython3",
   "version": "3.7.6"
  }
 },
 "nbformat": 4,
 "nbformat_minor": 4
}
