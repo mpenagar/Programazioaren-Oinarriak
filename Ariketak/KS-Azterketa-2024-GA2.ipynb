{
 "cells": [
  {
   "cell_type": "markdown",
   "metadata": {},
   "source": [
    "## 3. Ariketa"
   ]
  },
  {
   "cell_type": "markdown",
   "metadata": {},
   "source": [
    "## 3a"
   ]
  },
  {
   "cell_type": "code",
   "execution_count": 4,
   "metadata": {},
   "outputs": [
    {
     "data": {
      "text/plain": [
       "{(0, 0): 1.0, (1, 1): 1.0, (1, 2): 2.0, (2, 3): 1.0}"
      ]
     },
     "execution_count": 4,
     "metadata": {},
     "output_type": "execute_result"
    }
   ],
   "source": [
    "def matrizea_jaso(bideizena):\n",
    "    f = open(bideizena)\n",
    "    h = {}\n",
    "    f.readline()\n",
    "    i = 0\n",
    "    for ilara in f:\n",
    "        j = 0\n",
    "        for s in ilara.split():\n",
    "            x = float(s)\n",
    "            if x != 0.0 :\n",
    "                h[(i,j)] = x\n",
    "            j += 1\n",
    "        i += 1\n",
    "    f.close()\n",
    "    return h\n",
    "\n",
    "matrizea_jaso('matrizea.txt')"
   ]
  },
  {
   "cell_type": "code",
   "execution_count": 5,
   "metadata": {},
   "outputs": [
    {
     "data": {
      "text/plain": [
       "{(0, 0): 1.0, (1, 1): 1.0, (1, 2): 2.0, (2, 3): 1.0}"
      ]
     },
     "execution_count": 5,
     "metadata": {},
     "output_type": "execute_result"
    }
   ],
   "source": [
    "def matrizea_jaso2(bideizena):\n",
    "    f = open(bideizena)\n",
    "    h = {}\n",
    "    a,b = f.readline().split()\n",
    "    I,J = int(a),int(b)\n",
    "    for i in range(I):\n",
    "        z = f.readline().split()\n",
    "        for j in range(J):\n",
    "            x = float(z[j])\n",
    "            if x != 0.0 :\n",
    "                h[(i,j)] = x\n",
    "    f.close()\n",
    "    return h\n",
    "\n",
    "matrizea_jaso2('matrizea.txt')"
   ]
  },
  {
   "cell_type": "code",
   "execution_count": null,
   "metadata": {},
   "outputs": [],
   "source": []
  }
 ],
 "metadata": {
  "kernelspec": {
   "display_name": "Python 3",
   "language": "python",
   "name": "python3"
  },
  "language_info": {
   "codemirror_mode": {
    "name": "ipython",
    "version": 3
   },
   "file_extension": ".py",
   "mimetype": "text/x-python",
   "name": "python",
   "nbconvert_exporter": "python",
   "pygments_lexer": "ipython3",
   "version": "3.7.6"
  }
 },
 "nbformat": 4,
 "nbformat_minor": 4
}
