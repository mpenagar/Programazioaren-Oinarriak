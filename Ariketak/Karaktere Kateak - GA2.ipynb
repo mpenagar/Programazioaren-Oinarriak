{
 "cells": [
  {
   "cell_type": "markdown",
   "metadata": {},
   "source": [
    "### 5"
   ]
  },
  {
   "cell_type": "code",
   "execution_count": 7,
   "metadata": {},
   "outputs": [
    {
     "data": {
      "text/plain": [
       "'ihaiksiko dugu elkar'"
      ]
     },
     "execution_count": 7,
     "metadata": {},
     "output_type": "execute_result"
    }
   ],
   "source": [
    "def delete_at(s,z):\n",
    "    x = list(s)\n",
    "    for i in z[::-1]:\n",
    "        i = i-1\n",
    "        # GAIZKI!!!\n",
    "        #x.remove(x[i])c\n",
    "        del x[i]\n",
    "    return \"\".join(x)\n",
    "    \n",
    "s = 'bihar ikusiko dugu elkar'\n",
    "z = [1,5,6,9]\n",
    "delete_at(s,z)"
   ]
  },
  {
   "cell_type": "code",
   "execution_count": 8,
   "metadata": {},
   "outputs": [
    {
     "name": "stdout",
     "output_type": "stream",
     "text": [
      "[6, 5, 4, 3, 2, 1]\n",
      "[6, 5, 4, 3, 2, 1]\n"
     ]
    }
   ],
   "source": [
    "z = [1,2,3,4,5,6]\n",
    "print(z[::-1])\n",
    "z.reverse()\n",
    "print(z)"
   ]
  },
  {
   "cell_type": "code",
   "execution_count": 10,
   "metadata": {},
   "outputs": [
    {
     "data": {
      "text/plain": [
       "'ihaiksiko dugu elkar'"
      ]
     },
     "execution_count": 10,
     "metadata": {},
     "output_type": "execute_result"
    }
   ],
   "source": [
    "def delete_at(s,z):\n",
    "    e = \"\"\n",
    "    for i in range(1,len(s)+1):\n",
    "        if i not in z:\n",
    "            e += s[i-1]\n",
    "    return e\n",
    "    \n",
    "s = 'bihar ikusiko dugu elkar'\n",
    "z = [1,5,6,9]\n",
    "delete_at(s,z)"
   ]
  },
  {
   "cell_type": "code",
   "execution_count": 13,
   "metadata": {},
   "outputs": [
    {
     "data": {
      "text/plain": [
       "'ihaiksiko dugu elkar'"
      ]
     },
     "execution_count": 13,
     "metadata": {},
     "output_type": "execute_result"
    }
   ],
   "source": [
    "def delete_at(s,z):\n",
    "    e = \"\"\n",
    "    for i,k in enumerate(s,1):\n",
    "        if i not in z:\n",
    "            e += k\n",
    "    return e\n",
    "    \n",
    "s = 'bihar ikusiko dugu elkar'\n",
    "z = [1,5,6,9]\n",
    "delete_at(s,z)"
   ]
  },
  {
   "cell_type": "code",
   "execution_count": 16,
   "metadata": {},
   "outputs": [
    {
     "data": {
      "text/plain": [
       "'ihaiksiko dugu elkar'"
      ]
     },
     "execution_count": 16,
     "metadata": {},
     "output_type": "execute_result"
    }
   ],
   "source": [
    "def delete_at(s,z):\n",
    "    e = \"\"\n",
    "    z = z[::-1]\n",
    "    for i,k in enumerate(s,1):\n",
    "        if i != z[-1]:\n",
    "            e += k\n",
    "        else :\n",
    "            del z[-1]\n",
    "            if not z :\n",
    "                e += s[i:]\n",
    "                break\n",
    "    return e\n",
    "    \n",
    "s = 'bihar ikusiko dugu elkar'\n",
    "z = [1,5,6,9]\n",
    "delete_at(s,z)"
   ]
  },
  {
   "cell_type": "code",
   "execution_count": 12,
   "metadata": {},
   "outputs": [
    {
     "name": "stdout",
     "output_type": "stream",
     "text": [
      "(1, 'k') (2, 'a') (3, 'i') (4, 'x') (5, 'o')\n"
     ]
    }
   ],
   "source": [
    "print(*enumerate(\"kaixo\",1))"
   ]
  },
  {
   "cell_type": "markdown",
   "metadata": {},
   "source": [
    "### 6"
   ]
  },
  {
   "cell_type": "code",
   "execution_count": 19,
   "metadata": {},
   "outputs": [
    {
     "name": "stdout",
     "output_type": "stream",
     "text": [
      "ulsbz\n",
      "kaixo\n"
     ]
    }
   ],
   "source": [
    "def krrot(k,n):\n",
    "    a = \"abcdefghijklmnñopqrstuvwxyz áéíóúü\"\n",
    "    i = a.index(k)\n",
    "    return a[(i+n) % len(a)]\n",
    "\n",
    "def rrot(s,n):\n",
    "    e = \"\"\n",
    "    for k in s :\n",
    "        # k errotatu\n",
    "        e += krrot(k,n)\n",
    "    return e\n",
    "\n",
    "def lrot(s,n):\n",
    "    return rrot(s,-n)\n",
    "\n",
    "print(rrot(\"kaixo\",1235))\n",
    "print(lrot(rrot(\"kaixo\",1235),1235))\n"
   ]
  }
 ],
 "metadata": {
  "kernelspec": {
   "display_name": "Python 3",
   "language": "python",
   "name": "python3"
  },
  "language_info": {
   "codemirror_mode": {
    "name": "ipython",
    "version": 3
   },
   "file_extension": ".py",
   "mimetype": "text/x-python",
   "name": "python",
   "nbconvert_exporter": "python",
   "pygments_lexer": "ipython3",
   "version": "3.7.6"
  }
 },
 "nbformat": 4,
 "nbformat_minor": 4
}
