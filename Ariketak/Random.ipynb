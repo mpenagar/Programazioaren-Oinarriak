{
 "cells": [
  {
   "cell_type": "markdown",
   "metadata": {},
   "source": [
    "### 1\n",
    "random moduloko random funtzioa soilik erabiliz, sortu ezazu `[a,b]` tartean uniformekibanatutako zenbaki osoa bueltatuko duen `randint(a,b)` funtzioa."
   ]
  },
  {
   "cell_type": "code",
   "execution_count": 23,
   "metadata": {},
   "outputs": [
    {
     "name": "stdout",
     "output_type": "stream",
     "text": [
      "9\n",
      "10\n",
      "5\n",
      "9\n",
      "4\n",
      "11\n",
      "9\n",
      "10\n",
      "11\n",
      "7\n"
     ]
    }
   ],
   "source": [
    "from random import random\n",
    "\n",
    "def randint(a,b):\n",
    "    return int((b-a+1) * random()) + a\n",
    "def randint(a,b):\n",
    "    return round((b-a+1) * random() - 0.5 ) + a\n",
    "\n",
    "for i in range(10):\n",
    "    print(randint(4,11))"
   ]
  },
  {
   "cell_type": "code",
   "execution_count": 20,
   "metadata": {},
   "outputs": [
    {
     "data": {
      "image/png": "[encoded data removed]",
      "text/plain": [
       "<Figure size 432x288 with 1 Axes>"
      ]
     },
     "metadata": {
      "needs_background": "light"
     },
     "output_type": "display_data"
    }
   ],
   "source": [
    "%matplotlib inline\n",
    "import matplotlib.pyplot as plt\n",
    "n = 1000\n",
    "x = [randint(4,11) for i in range(n)]\n",
    "y = [randint(4,11) for i in range(n)]\n",
    "fig = plt.plot(x, y, '.')"
   ]
  },
  {
   "cell_type": "code",
   "execution_count": 22,
   "metadata": {},
   "outputs": [
    {
     "data": {
      "text/plain": [
       "{14: 20059, 13: 20073, 11: 19994, 12: 19927, 10: 19947}"
      ]
     },
     "execution_count": 22,
     "metadata": {},
     "output_type": "execute_result"
    }
   ],
   "source": [
    "h = {}\n",
    "for i in range(100000):\n",
    "    x = randint(10,14)\n",
    "    h[x] = h.get(x,0) + 1\n",
    "h"
   ]
  },
  {
   "cell_type": "code",
   "execution_count": 6,
   "metadata": {},
   "outputs": [
    {
     "data": {
      "text/plain": [
       "(3, 4, 4, -4)"
      ]
     },
     "execution_count": 6,
     "metadata": {},
     "output_type": "execute_result"
    }
   ],
   "source": [
    "int(3.9),int(4.1),int(4.6),int(-4.2)"
   ]
  },
  {
   "cell_type": "code",
   "execution_count": 11,
   "metadata": {},
   "outputs": [
    {
     "data": {
      "text/plain": [
       "(4, 4, 5, -4)"
      ]
     },
     "execution_count": 11,
     "metadata": {},
     "output_type": "execute_result"
    }
   ],
   "source": [
    "round(3.9),round(4.1),round(4.6),round(-4.2)"
   ]
  },
  {
   "cell_type": "markdown",
   "metadata": {},
   "source": [
    "### 2\n",
    "random moduloko random funtzioa edo aurreko edozein funtzio erabiliz, sortu ezazu `range(start,stop[,step])` sekuentziako auzazko zenbaki osoa bueltatuko duen `randrange(start,stop[,step])` funtzioa"
   ]
  },
  {
   "cell_type": "code",
   "execution_count": 30,
   "metadata": {},
   "outputs": [
    {
     "data": {
      "text/plain": [
       "[5, 1, 1, 9, 3, 9, 7, 7, 5, 5, 9, 1, 1, 7, 5, 3, 5, 7, 5, 7]"
      ]
     },
     "execution_count": 30,
     "metadata": {},
     "output_type": "execute_result"
    }
   ],
   "source": [
    "def randrange(start,stop,step=1):\n",
    "    stop -= 1\n",
    "    i = randint(start,stop)\n",
    "    while (i-start)%step != 0 :\n",
    "        i = randint(start,stop)\n",
    "    return i\n",
    "\n",
    "[randrange(1,10,2) for i in range(20)]\n"
   ]
  },
  {
   "cell_type": "code",
   "execution_count": 42,
   "metadata": {},
   "outputs": [
    {
     "data": {
      "text/plain": [
       "[3, 1, 3, 5, 7, 7, 7, 7, 7, 7, 9, 9, 7, 7, 5, 3, 3, 3, 3, 5]"
      ]
     },
     "execution_count": 42,
     "metadata": {},
     "output_type": "execute_result"
    }
   ],
   "source": [
    "def randrange(start,stop,step=1):\n",
    "    # n : range(start,stop[,step])-eko elementu kopurua\n",
    "    n = (stop-start) // step\n",
    "    n = len(range(start,stop,step))\n",
    "    return start + randint(0,n-1) * step\n",
    "\n",
    "[randrange(1,10,2) for i in range(20)]\n"
   ]
  },
  {
   "cell_type": "code",
   "execution_count": 33,
   "metadata": {},
   "outputs": [
    {
     "data": {
      "text/plain": [
       "7"
      ]
     },
     "execution_count": 33,
     "metadata": {},
     "output_type": "execute_result"
    }
   ],
   "source": [
    "len(range(2,23,3))"
   ]
  },
  {
   "cell_type": "markdown",
   "metadata": {},
   "source": [
    "### 3\n",
    "random moduloko random funtzioa edo aurreko edozein funtzio erabiliz, sortu ezazu seq sekuentziako auzazko balioabueltatuko duen `choice(seq)` funtzioa."
   ]
  },
  {
   "cell_type": "code",
   "execution_count": null,
   "metadata": {},
   "outputs": [],
   "source": [
    "def choice(seq):\n",
    "    return seq[randint(0,len(seq)-1)]"
   ]
  }
 ],
 "metadata": {
  "kernelspec": {
   "display_name": "Python 3",
   "language": "python",
   "name": "python3"
  },
  "language_info": {
   "codemirror_mode": {
    "name": "ipython",
    "version": 3
   },
   "file_extension": ".py",
   "mimetype": "text/x-python",
   "name": "python",
   "nbconvert_exporter": "python",
   "pygments_lexer": "ipython3",
   "version": "3.7.6"
  }
 },
 "nbformat": 4,
 "nbformat_minor": 4
}
