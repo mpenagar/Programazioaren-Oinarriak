{
 "cells": [
  {
   "cell_type": "markdown",
   "metadata": {},
   "source": [
    "### 2"
   ]
  },
  {
   "cell_type": "code",
   "execution_count": 14,
   "metadata": {},
   "outputs": [
    {
     "name": "stdout",
     "output_type": "stream",
     "text": [
      "[1, 2, 3, 4]\n",
      "[5, 6, 7, 8]\n",
      "[9, 10, 11, 12]\n",
      "[13, 14, 15, 1]\n",
      "-----------\n",
      "[1, 2, 4]\n",
      "[9, 10, 12]\n",
      "[13, 14, 1]\n",
      "-----------\n",
      "[1, 2, 3, 4]\n",
      "[5, 6, 7, 8]\n",
      "[9, 10, 11, 12]\n",
      "[13, 14, 15, 1]\n"
     ]
    }
   ],
   "source": [
    "def azpimatrizea(M, i, j):\n",
    "    E = M[:i] + M[i+1:]\n",
    "    for i in range(len(E)) :\n",
    "        E[i] = E[i][:j] + E[i][j+1:]\n",
    "    return E   \n",
    "def azpimatrizea(M, i, j):\n",
    "    E = M[:i] + M[i+1:]\n",
    "    for i2,z in enumerate(E) :\n",
    "        E[i2] = z[:j] + z[j+1:]\n",
    "    return E\n",
    "def azpimatrizea(M, i, j):\n",
    "    E = []\n",
    "    for i2,z in enumerate(M) :\n",
    "        if i2 != i :\n",
    "            E.append(z[:j] + z[j+1:])\n",
    "    return E\n",
    "\n",
    "A = [[1,2,3,4] , [5,6,7,8] , [9,10,11,12] , [13,14,15,1]]\n",
    "print(*A, sep=\"\\n\")\n",
    "print(\"-----------\")\n",
    "B = azpimatrizea(A, 1, 2)\n",
    "print(*B, sep=\"\\n\")\n",
    "print(\"-----------\")\n",
    "print(*A, sep=\"\\n\")"
   ]
  },
  {
   "cell_type": "code",
   "execution_count": 18,
   "metadata": {},
   "outputs": [
    {
     "name": "stdout",
     "output_type": "stream",
     "text": [
      "[11, 2, 3, 4]\n",
      "[15, -6, 7, 18]\n",
      "[9, 11, 11, 2]\n",
      "[13, 19, 15, 1]\n",
      "-----------\n",
      "-2720\n",
      "-----------\n",
      "[11, 2, 3, 4]\n",
      "[15, -6, 7, 18]\n",
      "[9, 11, 11, 2]\n",
      "[13, 19, 15, 1]\n"
     ]
    }
   ],
   "source": [
    "def det(A):\n",
    "    if len(A) == 1:\n",
    "        return A[0][0]        \n",
    "    else :\n",
    "        b = 0\n",
    "        for j,a in enumerate(A[0]):\n",
    "            b += a * (-1)**j * det(azpimatrizea(A,0,j))\n",
    "        return b\n",
    "def det(A):\n",
    "    if len(A) == 1:\n",
    "        return A[0][0]        \n",
    "    else :\n",
    "        b = 0\n",
    "        pm1 = 1\n",
    "        for j,a in enumerate(A[0]):\n",
    "            b += a * pm1 * det(azpimatrizea(A,0,j))\n",
    "            pm1 *= -1\n",
    "        return b\n",
    "            \n",
    "A = [[11,2,3,4] , [15,-6,7,18] , [9,11,11,2] , [13,19,15,1]]\n",
    "print(*A, sep=\"\\n\")\n",
    "print(\"-----------\")\n",
    "print(det(A))\n",
    "print(\"-----------\")\n",
    "print(*A, sep=\"\\n\")    "
   ]
  }
 ],
 "metadata": {
  "kernelspec": {
   "display_name": "Python 3",
   "language": "python",
   "name": "python3"
  },
  "language_info": {
   "codemirror_mode": {
    "name": "ipython",
    "version": 3
   },
   "file_extension": ".py",
   "mimetype": "text/x-python",
   "name": "python",
   "nbconvert_exporter": "python",
   "pygments_lexer": "ipython3",
   "version": "3.7.6"
  }
 },
 "nbformat": 4,
 "nbformat_minor": 4
}
