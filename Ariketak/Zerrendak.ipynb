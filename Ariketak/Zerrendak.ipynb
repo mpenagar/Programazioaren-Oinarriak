{
 "cells": [
  {
   "cell_type": "markdown",
   "metadata": {},
   "source": [
    "### 1\n",
    "Demagun n dimentsiotako bektoreak zerrenda edo n-kote baten bitartez errepresentatzen ditugula. Idatzi ondoko eragiketak kalkulatuko dituzten funtzioak:\n",
    "* Bektore baten moduloa\n",
    "* Bektore eta eskalar baten arteko biderkadura eskalarra\n",
    "* Bi bektoreen arteko batura\n",
    "* Bi bektoreen arteko biderkadura eskalarra\n",
    "* Bektore baten proiekzioa beste bektore baten gain\n",
    "* Bi bektoreen arteko angelua"
   ]
  },
  {
   "cell_type": "code",
   "execution_count": 10,
   "metadata": {},
   "outputs": [
    {
     "data": {
      "text/plain": [
       "3.7416573867739413"
      ]
     },
     "execution_count": 10,
     "metadata": {},
     "output_type": "execute_result"
    }
   ],
   "source": [
    "#import math\n",
    "#print(math.sqrt(4))\n",
    "from math import sqrt\n",
    "#print(sqrt(4))\n",
    "\n",
    "def modulua(v):\n",
    "    b = 0\n",
    "    for x in v :\n",
    "        b += x*x\n",
    "    #return b ** 0.5\n",
    "    return sqrt(b)\n",
    "\n",
    "#def modulua(v):\n",
    "#    return sqrt(biderkaketa_eskalarra(v,v))\n",
    "\n",
    "modulua([1,2,3])"
   ]
  },
  {
   "cell_type": "code",
   "execution_count": 8,
   "metadata": {},
   "outputs": [],
   "source": [
    "def biderkaketa_eskalarra(a,b):\n",
    "    e = 0\n",
    "    for x,y in zip(a,b) :\n",
    "        e += x*y\n",
    "    return e\n",
    "    "
   ]
  },
  {
   "cell_type": "code",
   "execution_count": 14,
   "metadata": {},
   "outputs": [
    {
     "data": {
      "text/plain": [
       "1.5707963267948966"
      ]
     },
     "execution_count": 14,
     "metadata": {},
     "output_type": "execute_result"
    }
   ],
   "source": [
    "from math import acos\n",
    "\n",
    "def angelua(a,b):\n",
    "    return acos(biderkaketa_eskalarra(a,b)/(modulua(a) * modulua(b)))\n",
    "\n",
    "angelua([1,0,3],[0,2,0])"
   ]
  },
  {
   "cell_type": "markdown",
   "metadata": {},
   "source": [
    "### 2\n",
    "Demagun nxm tamainako matrizeak zerrenden (edo n-koteen) zerrenda (edo n-kote) baten bitartez errepresentatzen ditugula. Idatzi ondoko eragiketak kalkulatuko dituzten funtzioak:\n",
    "* Zenbaki konstante batez (defektuz 0) betetako nxm tamainako matrizea sortu\n",
    "* Matrize baten kopia\n",
    "* `[a,b)` tartean (defektuz 0 eta 1) banaketa uniforme baten araberako auzazko balioez osotutako nxm tamainako matrizea sortu\n",
    "* Matrize bat pantailatik idatzi\n",
    "* Matrize bat fitxategi batetan gorde\n",
    "* Fitxategi batetan dagoen matrizea kargatu\n",
    "* Matrize karratu baten aztarna\n",
    "* Matrize eta eskalar baten arteko batuketa. inline argumentu baten arabera, `inline=True` (defektuz) denean funtzioak jasotako matrizea aldatuko du eta `inline=False` denean matrize berri bat sortuko da. Bi kasuetan, funtzioak emaitza duen matrizea bueltatuko du.\n",
    "* Matrize eta eskalar baten arteko biderkaketa inline argumentuarekin.\n",
    "* Bi matrizeen batuketa inline argumentuarekin (lehenengo matrizeari dagokionez).\n",
    "* Bi matrizeen kenketa inline argumentuarekin (lehenengo matrizeari dagokionez).\n",
    "* Matrize iraulia\n",
    "* Bi matrizeen biderkarura\n",
    "* $n x m$ tamainako (n>1 & m>1) matrize bati ilara eta zutabea kentzean lortzen den azpimatrizea.\n",
    "* Matrize baten determinantea. OHARRA: $n x n$ tamainako $A$ matrizeari $i$ ilara $j$ eta zutabea kentzean gelditzen den matrizea $A_{ij}$ bada, orduan\n"
   ]
  },
  {
   "cell_type": "code",
   "execution_count": 18,
   "metadata": {},
   "outputs": [
    {
     "data": {
      "text/plain": [
       "[[1, 2], [8, 5]]"
      ]
     },
     "execution_count": 18,
     "metadata": {},
     "output_type": "execute_result"
    }
   ],
   "source": [
    "def minorea(A,i,j):\n",
    "    # i ilara eta j zutaberik gabeko matrizea bueltatu\n",
    "    X = []\n",
    "    for z in A[:i] + A[i+1:]:\n",
    "        X.append(z[:j]+z[j+1:])\n",
    "    return X\n",
    "\n",
    "A = [[1,2,3],[4,5,9],[8,5,2]]\n",
    "minorea(A,1,2)"
   ]
  },
  {
   "cell_type": "code",
   "execution_count": 19,
   "metadata": {},
   "outputs": [
    {
     "data": {
      "text/plain": [
       "33"
      ]
     },
     "execution_count": 19,
     "metadata": {},
     "output_type": "execute_result"
    }
   ],
   "source": [
    "def det(A):\n",
    "    if len(A) == 1 :\n",
    "        return A[0][0]\n",
    "    else :\n",
    "        plusminus1 = 1\n",
    "        b = 0\n",
    "        for j,a in enumerate(A[0]):\n",
    "            b += a * plusminus1 * det(minorea(A,0,j))\n",
    "            plusminus1 *= -1\n",
    "        return b\n",
    "\n",
    "A = [[1,2,3],[4,5,9],[8,5,2]]\n",
    "det(A)        "
   ]
  }
 ],
 "metadata": {
  "kernelspec": {
   "display_name": "Python 3",
   "language": "python",
   "name": "python3"
  },
  "language_info": {
   "codemirror_mode": {
    "name": "ipython",
    "version": 3
   },
   "file_extension": ".py",
   "mimetype": "text/x-python",
   "name": "python",
   "nbconvert_exporter": "python",
   "pygments_lexer": "ipython3",
   "version": "3.7.6"
  }
 },
 "nbformat": 4,
 "nbformat_minor": 4
}
