{
 "cells": [
  {
   "cell_type": "markdown",
   "metadata": {},
   "source": [
    "## 1. Ariketa\n",
    "\n",
    "Idatzi funtzio bat zenbaki osoz osoturiko zerrenda bat jaso eta balio maximoa bueltatzen duena."
   ]
  },
  {
   "cell_type": "code",
   "execution_count": 1,
   "metadata": {},
   "outputs": [],
   "source": [
    "def f1(z):\n",
    "    e = z[0]\n",
    "    for x in z[1:] :\n",
    "        if x > e :\n",
    "            e = x\n",
    "    return e"
   ]
  },
  {
   "cell_type": "code",
   "execution_count": 4,
   "metadata": {},
   "outputs": [
    {
     "data": {
      "text/plain": [
       "52523"
      ]
     },
     "execution_count": 4,
     "metadata": {},
     "output_type": "execute_result"
    }
   ],
   "source": [
    "f1([45,235,235,235,23,52523,535])"
   ]
  },
  {
   "cell_type": "markdown",
   "metadata": {},
   "source": [
    "## 2. Ariketa\n",
    "\n",
    "Idatzi funtzio bat zenbaki osoz osoturiko zerrenda bat jaso, eta balio maximoa eta bere posizioa bueltatzen dituena."
   ]
  },
  {
   "cell_type": "code",
   "execution_count": 5,
   "metadata": {},
   "outputs": [],
   "source": [
    "def f2(z):\n",
    "    bmax = z[0]\n",
    "    imax = 0\n",
    "    for i in range(1,len(z)) :\n",
    "        if z[i] > bmax :\n",
    "            bmax = z[i]\n",
    "            imax = i\n",
    "    return bmax,imax"
   ]
  },
  {
   "cell_type": "code",
   "execution_count": 6,
   "metadata": {},
   "outputs": [
    {
     "data": {
      "text/plain": [
       "(235213, 4)"
      ]
     },
     "execution_count": 6,
     "metadata": {},
     "output_type": "execute_result"
    }
   ],
   "source": [
    "f2([234,235,235,235,235213,5235,235,2])"
   ]
  },
  {
   "cell_type": "code",
   "execution_count": 7,
   "metadata": {},
   "outputs": [],
   "source": [
    "def f2(z):\n",
    "    imax = 0\n",
    "    for i in range(1,len(z)) :\n",
    "        if z[i] > z[imax] :\n",
    "            imax = i\n",
    "    return z[imax],imax"
   ]
  },
  {
   "cell_type": "code",
   "execution_count": 8,
   "metadata": {},
   "outputs": [
    {
     "data": {
      "text/plain": [
       "(235213, 4)"
      ]
     },
     "execution_count": 8,
     "metadata": {},
     "output_type": "execute_result"
    }
   ],
   "source": [
    "f2([234,235,235,235,235213,5235,235,2])"
   ]
  },
  {
   "cell_type": "code",
   "execution_count": 10,
   "metadata": {},
   "outputs": [
    {
     "data": {
      "text/plain": [
       "[(0, 423), (1, 412), (2, 41), (3, 251), (4, 235)]"
      ]
     },
     "execution_count": 10,
     "metadata": {},
     "output_type": "execute_result"
    }
   ],
   "source": [
    "list(enumerate([423,412,41,251,235]))"
   ]
  },
  {
   "cell_type": "code",
   "execution_count": 11,
   "metadata": {},
   "outputs": [
    {
     "data": {
      "text/plain": [
       "[(0, 'k'), (1, 'a'), (2, 'i'), (3, 'x'), (4, 'o')]"
      ]
     },
     "execution_count": 11,
     "metadata": {},
     "output_type": "execute_result"
    }
   ],
   "source": [
    "list(enumerate(\"kaixo\"))"
   ]
  },
  {
   "cell_type": "code",
   "execution_count": 12,
   "metadata": {},
   "outputs": [],
   "source": [
    "def f2(z):\n",
    "    bmax = z[0]\n",
    "    imax = 0\n",
    "    for i,x in enumerate(z) :\n",
    "        if x > bmax :\n",
    "            bmax = x\n",
    "            imax = i\n",
    "    return bmax,imax"
   ]
  },
  {
   "cell_type": "code",
   "execution_count": 13,
   "metadata": {},
   "outputs": [
    {
     "data": {
      "text/plain": [
       "(235213, 4)"
      ]
     },
     "execution_count": 13,
     "metadata": {},
     "output_type": "execute_result"
    }
   ],
   "source": [
    "f2([234,235,235,235,235213,5235,235,2])"
   ]
  },
  {
   "cell_type": "markdown",
   "metadata": {},
   "source": [
    "## 3. Ariketa\n",
    "\n",
    "Idatzi funtzio bat `ordenatuta_ote` deiturikoa zerrenda bat jasotzen duena argumentu moduan eta `True` bueltatzen duena lista goranzko ordenean ordenatuta dagoenean eta `False` kontrako kasuan. Hau da, `ordenatuta_ote([1,2,2])` `True` bueltatuko du eta `ordenatuta_ote([‘b’,’a’])` `False` bueltatuko du."
   ]
  },
  {
   "cell_type": "code",
   "execution_count": 14,
   "metadata": {},
   "outputs": [],
   "source": [
    "def ordenatuta_ote(z):\n",
    "    for i in range(1,len(z)) :\n",
    "        if z[i] < z[i-1] :\n",
    "            return False\n",
    "    return True"
   ]
  },
  {
   "cell_type": "code",
   "execution_count": 18,
   "metadata": {},
   "outputs": [
    {
     "data": {
      "text/plain": [
       "True"
      ]
     },
     "execution_count": 18,
     "metadata": {},
     "output_type": "execute_result"
    }
   ],
   "source": [
    "ordenatuta_ote([1,2,2])"
   ]
  },
  {
   "cell_type": "markdown",
   "metadata": {},
   "source": [
    "## 4. Ariketa\n",
    "\n",
    "Idatzi funtzio bat lehenengo n zenbaki bikoitiez osoturiko zerrenda bat bueltatzen duena."
   ]
  },
  {
   "cell_type": "code",
   "execution_count": 19,
   "metadata": {},
   "outputs": [],
   "source": [
    "def f4(n):\n",
    "    z = []\n",
    "    for i in range(n):\n",
    "        z.append(2 * i)\n",
    "    return z"
   ]
  },
  {
   "cell_type": "code",
   "execution_count": 21,
   "metadata": {},
   "outputs": [
    {
     "data": {
      "text/plain": [
       "[0, 2, 4, 6, 8, 10, 12, 14, 16, 18]"
      ]
     },
     "execution_count": 21,
     "metadata": {},
     "output_type": "execute_result"
    }
   ],
   "source": [
    "f4(10)"
   ]
  },
  {
   "cell_type": "code",
   "execution_count": 28,
   "metadata": {},
   "outputs": [
    {
     "data": {
      "text/plain": [
       "[0, 2, 4, 6, 8, 10, 12, 14, 16, 18]"
      ]
     },
     "execution_count": 28,
     "metadata": {},
     "output_type": "execute_result"
    }
   ],
   "source": [
    "list(range(0,10*2,2))"
   ]
  },
  {
   "cell_type": "code",
   "execution_count": 29,
   "metadata": {},
   "outputs": [],
   "source": [
    "def f4(n):\n",
    "    return list(range(0,2*n,2))"
   ]
  },
  {
   "cell_type": "code",
   "execution_count": 30,
   "metadata": {},
   "outputs": [
    {
     "data": {
      "text/plain": [
       "[0, 2, 4, 6, 8, 10, 12, 14, 16, 18]"
      ]
     },
     "execution_count": 30,
     "metadata": {},
     "output_type": "execute_result"
    }
   ],
   "source": [
    "f4(10)"
   ]
  },
  {
   "cell_type": "markdown",
   "metadata": {},
   "source": [
    "## 5. Ariketa\n",
    "\n",
    "Idatzi funtzio bat zerrenda bat jasotzen duena eta zenbaki oso bikoiti guztiak zenbaki berdinari dagokion karaktere kateagaitik ordezkatzen dituena."
   ]
  },
  {
   "cell_type": "code",
   "execution_count": 33,
   "metadata": {},
   "outputs": [],
   "source": [
    "def f5(z):\n",
    "    for i in range(len(z)) :\n",
    "        if z[i] % 2 == 0 :\n",
    "            z[i] = str(z[i])\n",
    "    "
   ]
  },
  {
   "cell_type": "code",
   "execution_count": 34,
   "metadata": {},
   "outputs": [
    {
     "name": "stdout",
     "output_type": "stream",
     "text": [
      "['0', 1, '2', 3, '4', 5, '6', 7, '8', 9, '200']\n"
     ]
    }
   ],
   "source": [
    "z = [0,1,2,3,4,5,6,7,8,9,200]\n",
    "f5(z)\n",
    "print(z)"
   ]
  },
  {
   "cell_type": "markdown",
   "metadata": {},
   "source": [
    "## 6. Ariketa\n",
    "\n",
    "Idatzi funtzio bat zerrenda bat jasotzen duena eta 5-en multiplo guztiak zerrendatik ezabatzen dituena"
   ]
  },
  {
   "cell_type": "code",
   "execution_count": 39,
   "metadata": {},
   "outputs": [
    {
     "name": "stdout",
     "output_type": "stream",
     "text": [
      "[3, 4, 6, 5, 7]\n"
     ]
    }
   ],
   "source": [
    "z = [3,4,5,6,5,7]\n",
    "z.remove(5)\n",
    "print(z)"
   ]
  },
  {
   "cell_type": "code",
   "execution_count": 40,
   "metadata": {},
   "outputs": [
    {
     "name": "stdout",
     "output_type": "stream",
     "text": [
      "[3, 4, 6, 5, 7]\n"
     ]
    }
   ],
   "source": [
    "z = [3,4,5,6,5,7]\n",
    "z.pop(2)\n",
    "print(z)"
   ]
  },
  {
   "cell_type": "code",
   "execution_count": 41,
   "metadata": {},
   "outputs": [],
   "source": [
    "def f6(z):\n",
    "    for x in z :\n",
    "        if x%5 == 0:\n",
    "            z.remove(x)"
   ]
  },
  {
   "cell_type": "code",
   "execution_count": 44,
   "metadata": {},
   "outputs": [
    {
     "name": "stdout",
     "output_type": "stream",
     "text": [
      "[3, 4, 5, 7]\n"
     ]
    }
   ],
   "source": [
    "z = [3,4,5,5,7]\n",
    "f6(z)\n",
    "print(z)"
   ]
  },
  {
   "cell_type": "code",
   "execution_count": 45,
   "metadata": {},
   "outputs": [],
   "source": [
    "def f6(z):\n",
    "    for i in range(len(z)) :\n",
    "        if z[i]%5 == 0:\n",
    "            z.pop(i)"
   ]
  },
  {
   "cell_type": "code",
   "execution_count": 48,
   "metadata": {},
   "outputs": [
    {
     "name": "stdout",
     "output_type": "stream",
     "text": [
      "[3, 4, 5, 6, 5, 7]\n"
     ]
    }
   ],
   "source": [
    "z = [3,4,5,6,5,7]\n",
    "#f6(z)\n",
    "print(z)"
   ]
  },
  {
   "cell_type": "code",
   "execution_count": 49,
   "metadata": {},
   "outputs": [],
   "source": [
    "def f6(z):\n",
    "    w = []\n",
    "    for x in z :\n",
    "        if x%5 != 0 :\n",
    "            w.append(x)\n",
    "    z.clear()\n",
    "    z.extend(w)"
   ]
  },
  {
   "cell_type": "code",
   "execution_count": 52,
   "metadata": {},
   "outputs": [
    {
     "name": "stdout",
     "output_type": "stream",
     "text": [
      "[3, 4, 3, 4, 4, 6]\n"
     ]
    }
   ],
   "source": [
    "z = [3,4,5,3,4,5,4,5,5,6]\n",
    "f6(z)\n",
    "print(z)"
   ]
  },
  {
   "cell_type": "code",
   "execution_count": 4,
   "metadata": {},
   "outputs": [],
   "source": [
    "def f6(z):\n",
    "    y = z[:]\n",
    "    for x in y :\n",
    "        if x%5 == 0:\n",
    "            z.remove(x)"
   ]
  },
  {
   "cell_type": "code",
   "execution_count": 6,
   "metadata": {},
   "outputs": [
    {
     "name": "stdout",
     "output_type": "stream",
     "text": [
      "[3, 4, 7]\n"
     ]
    }
   ],
   "source": [
    "z = [3,4,5,5,7]\n",
    "f6(z)\n",
    "print(z)"
   ]
  },
  {
   "cell_type": "markdown",
   "metadata": {},
   "source": [
    "## 7. Ariketa\n",
    "\n",
    "Idatzi funtzio bat `ezabatu_errepikapenak` deiturikoa, zerrenda bat jaso eta zerrenda berri bat bueltatzen duena. Zerrenda berri honetan, zerrenda originalaren errepikapenik ez duten elementuak egongo dira soilik.\n",
    "\n",
    "Adibidez:\n",
    "\n",
    "```\n",
    ">>> ezabatu_errepikapenak([2,4,56,3,2,4,7,8,56,3,6,5,4,8,9,1,3])\n",
    "[7,6,5,9,1]\n",
    "```"
   ]
  },
  {
   "cell_type": "code",
   "execution_count": 11,
   "metadata": {},
   "outputs": [],
   "source": [
    "def ezabatu_errepikapenak(z):\n",
    "    e = []\n",
    "    for x in z :\n",
    "        if z.count(x) == 1 :\n",
    "            e.append(x)\n",
    "    return e"
   ]
  },
  {
   "cell_type": "code",
   "execution_count": 12,
   "metadata": {},
   "outputs": [
    {
     "data": {
      "text/plain": [
       "[7, 6, 5, 9, 1]"
      ]
     },
     "execution_count": 12,
     "metadata": {},
     "output_type": "execute_result"
    }
   ],
   "source": [
    "ezabatu_errepikapenak([2,4,56,3,2,4,7,8,56,3,6,5,4,8,9,1,3])"
   ]
  },
  {
   "cell_type": "markdown",
   "metadata": {},
   "source": [
    "## 8. Ariketa\n",
    "\n",
    "Idatzi funtzio bat, zerrenda bat jaso eta zerrenda berri bat bueltatzen duena. Zerrenda berri honetan, zerrenda originaleko elementuak egongo dira baina errepikapenik gabe.\n",
    "\n",
    "Adibidez:\n",
    "\n",
    "```\n",
    ">>> f8([2,4,56,3,2,4,7,8,56,3,6,5,4,8,9,1,3])\n",
    "[2,4,56,3,7,8,6,5,9,1]\n",
    "```"
   ]
  },
  {
   "cell_type": "code",
   "execution_count": 15,
   "metadata": {},
   "outputs": [],
   "source": [
    "def f8(z):\n",
    "    e = []\n",
    "    for x in z :\n",
    "        if x not in e :\n",
    "            e.append(x)\n",
    "    return e"
   ]
  },
  {
   "cell_type": "code",
   "execution_count": 16,
   "metadata": {},
   "outputs": [
    {
     "data": {
      "text/plain": [
       "[2, 4, 56, 3, 7, 8, 6, 5, 9, 1]"
      ]
     },
     "execution_count": 16,
     "metadata": {},
     "output_type": "execute_result"
    }
   ],
   "source": [
    "f8([2,4,56,3,2,4,7,8,56,3,6,5,4,8,9,1,3])"
   ]
  },
  {
   "cell_type": "markdown",
   "metadata": {},
   "source": [
    "## 9. Ariketa\n",
    "\n",
    "## 9a\n",
    "\n",
    "Idatzi funtzio bat A eta B ordenatuta dauden zenbaki osoz osoturiko bi zerrenda jaso eta C zerrenda ordenatu bat bueltatzen duena, non `C = A + B` (errepikatutako elementuekin)."
   ]
  },
  {
   "cell_type": "code",
   "execution_count": 25,
   "metadata": {},
   "outputs": [],
   "source": [
    "def f9a(A,B):\n",
    "    C = A + B\n",
    "    C.sort()\n",
    "    return C"
   ]
  },
  {
   "cell_type": "code",
   "execution_count": 26,
   "metadata": {},
   "outputs": [
    {
     "data": {
      "text/plain": [
       "[0, 1, 2, 3, 4, 5, 5, 6, 6, 7, 7, 8, 8, 9, 9, 10, 11, 12, 13, 14, 15]"
      ]
     },
     "execution_count": 26,
     "metadata": {},
     "output_type": "execute_result"
    }
   ],
   "source": [
    "f9a( list(range(10)) , list(range(5,16)) )"
   ]
  },
  {
   "cell_type": "code",
   "execution_count": 27,
   "metadata": {},
   "outputs": [],
   "source": [
    "def f9a(A,B):\n",
    "    C = []\n",
    "    i = 0\n",
    "    j = 0\n",
    "    while i < len(A) and j < len(B) :\n",
    "        if A[i] < B[j] :\n",
    "            C.append(A[i])\n",
    "            i += 1\n",
    "        else :\n",
    "            C.append(B[j])\n",
    "            j += 1\n",
    "    if i < len(A):\n",
    "        C.extend(A[i:])\n",
    "    else :\n",
    "        C.extend(B[j:])\n",
    "    return C"
   ]
  },
  {
   "cell_type": "code",
   "execution_count": 28,
   "metadata": {},
   "outputs": [
    {
     "data": {
      "text/plain": [
       "[0, 1, 2, 3, 4, 5, 5, 6, 6, 7, 7, 8, 8, 9, 9, 10, 11, 12, 13, 14, 15]"
      ]
     },
     "execution_count": 28,
     "metadata": {},
     "output_type": "execute_result"
    }
   ],
   "source": [
    "f9a( list(range(10)) , list(range(5,16)) )"
   ]
  },
  {
   "cell_type": "markdown",
   "metadata": {},
   "source": [
    "## 9b\n",
    "\n",
    "Idatzi funtzio bat A eta B ordenatuta dauden zenbaki osoz osoturiko bi zerrenda jaso eta C zerrenda ordenatu bat bueltatzen duena, non `C = A U B` (errepikatutako elementurik gabe)."
   ]
  },
  {
   "cell_type": "code",
   "execution_count": 33,
   "metadata": {},
   "outputs": [],
   "source": [
    "def f9b(A,B):\n",
    "    C = A[:]\n",
    "    for x in B :\n",
    "        if x not in A :\n",
    "            C.append(x)\n",
    "    C.sort()\n",
    "    return C"
   ]
  },
  {
   "cell_type": "code",
   "execution_count": 34,
   "metadata": {},
   "outputs": [
    {
     "data": {
      "text/plain": [
       "[0, 1, 2, 3, 4, 5, 6, 7, 8, 9, 10, 11, 12, 13, 14, 15]"
      ]
     },
     "execution_count": 34,
     "metadata": {},
     "output_type": "execute_result"
    }
   ],
   "source": [
    "f9b( list(range(10)) , list(range(5,16)) )"
   ]
  },
  {
   "cell_type": "code",
   "execution_count": 35,
   "metadata": {},
   "outputs": [],
   "source": [
    "def f9b(A,B):\n",
    "    C = []\n",
    "    i = 0\n",
    "    j = 0\n",
    "    while i < len(A) and j < len(B) :\n",
    "        if A[i] == B[j] :\n",
    "            i += 1\n",
    "        elif A[i] < B[j] :\n",
    "            C.append(A[i])\n",
    "            i += 1\n",
    "        else :\n",
    "            C.append(B[j])\n",
    "            j += 1\n",
    "    if i < len(A):\n",
    "        C.extend(A[i:])\n",
    "    else :\n",
    "        C.extend(B[j:])\n",
    "    return C"
   ]
  },
  {
   "cell_type": "code",
   "execution_count": 36,
   "metadata": {},
   "outputs": [
    {
     "data": {
      "text/plain": [
       "[0, 1, 2, 3, 4, 5, 6, 7, 8, 9, 10, 11, 12, 13, 14, 15]"
      ]
     },
     "execution_count": 36,
     "metadata": {},
     "output_type": "execute_result"
    }
   ],
   "source": [
    "f9b( list(range(10)) , list(range(5,16)) )"
   ]
  },
  {
   "cell_type": "markdown",
   "metadata": {},
   "source": [
    "## 10. Ariketa\n",
    "\n",
    "Zirkuito bat diseinatu nahi dugu 45 ordu jarraian argia ematen duen led bat erabiliz.\n",
    "Horretarako pila-erresistentzia konbinaketa hoberena aukeratu nahi dugu.\n",
    "Aukeraketa egiteko esperimentu ezberdin batzuk burutuko dira 5 pila eta 3\n",
    "erresistentzia erabiliz. Erresistentzia bakoitza pila ezberdinekin konbinatu eta\n",
    "piztuta irauten duen denbora neurtzen dugu. Ondoko menu iteratiboa duen\n",
    "programa idatz ezazu:\n",
    "\n",
    "1. **Programatik atera**\n",
    "\n",
    "2. **Datuak sartu.** Erabiltzaileak esperimentuetan lortutako denborak emango dizkio programari.\n",
    "\n",
    "3. **Erresistentzia-pila konbinaketa baten denbora.** Erabiltzaileak erresistentzia eta pila eman eta programak piztuta mantendu den denbora bueltatu.\n",
    "\n",
    "4. **Baztertu beharreko erresistentziak.** Pila guztiekin 45 h. baino gutxiago irauten duten erresistentzien zerrenda.\n",
    "\n",
    "5. **Batazbesteko denbora totala.** Konbinaketa guztien arteko batazbesteko denbora\n",
    "\n",
    "6. **Batazbesteko handieneko pila.** Taula batean pila bakoitzaren batazbesteko denborak gorde eta taula honetan maximoa topatu zein pilari dagokion adieraziz.\n",
    "\n",
    "7. **Antzeko erresistentziak.** Erabiltzaileak aukeratutako bi erresistentzientzat, programak antzekoak diren ala ez esan beharko du. Antzeko erresistentziak izango dira baldin eta pila bakoitzarentzat biak 45 ordu baino gehiago, ala biak 45 ordu baino gutxiago irauten badute.\n",
    "\n",
    "8. **Pilarik hoberena** R1 erresistentziarekin denbora hoberena duena. Berdinketa egonez gero bueltatu denbora berdina ematen duten pilen multzoa."
   ]
  }
 ],
 "metadata": {
  "kernelspec": {
   "display_name": "Python 3",
   "language": "python",
   "name": "python3"
  },
  "language_info": {
   "codemirror_mode": {
    "name": "ipython",
    "version": 3
   },
   "file_extension": ".py",
   "mimetype": "text/x-python",
   "name": "python",
   "nbconvert_exporter": "python",
   "pygments_lexer": "ipython3",
   "version": "3.8.2"
  }
 },
 "nbformat": 4,
 "nbformat_minor": 4
}
