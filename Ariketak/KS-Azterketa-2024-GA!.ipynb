{
 "cells": [
  {
   "cell_type": "markdown",
   "metadata": {},
   "source": [
    "# 3. Ariketa"
   ]
  },
  {
   "cell_type": "markdown",
   "metadata": {},
   "source": [
    "## 3.1"
   ]
  },
  {
   "cell_type": "code",
   "execution_count": 4,
   "metadata": {},
   "outputs": [],
   "source": [
    "def matrizea_jaso(bideizena):\n",
    "    f = open(bideizena)\n",
    "    h = {}\n",
    "    f.readline()\n",
    "    i = 0\n",
    "    for ilara in f:\n",
    "        z = ilara.split()\n",
    "        j = 0\n",
    "        for s in z :\n",
    "            x = float(s)\n",
    "            if x != 0.0 :\n",
    "                h[(i,j)] = x\n",
    "            j += 1            \n",
    "        i += 1\n",
    "    f.close()\n",
    "    return h\n",
    "\n",
    "def matrizea_jaso2(bideizena):\n",
    "    f = open(bideizena)\n",
    "    h = {}\n",
    "    I,J = f.readline().split()\n",
    "    I,J = int(I),int(J)\n",
    "    for i in range(I):\n",
    "        z = f.readline().split()\n",
    "        for j in range(J):\n",
    "            x = float(z[j])\n",
    "            if x != 0.0 :\n",
    "                h[(i,j)] = x\n",
    "    f.close()\n",
    "    return h"
   ]
  },
  {
   "cell_type": "code",
   "execution_count": 5,
   "metadata": {},
   "outputs": [
    {
     "data": {
      "text/plain": [
       "{(0, 0): 1.0, (1, 1): 1.0, (1, 2): 2.0, (2, 3): 1.0}"
      ]
     },
     "execution_count": 5,
     "metadata": {},
     "output_type": "execute_result"
    }
   ],
   "source": [
    "matrizea_jaso('matrizea.txt')"
   ]
  },
  {
   "cell_type": "code",
   "execution_count": 6,
   "metadata": {},
   "outputs": [
    {
     "data": {
      "text/plain": [
       "{(0, 0): 1.0, (1, 1): 1.0, (1, 2): 2.0, (2, 3): 1.0}"
      ]
     },
     "execution_count": 6,
     "metadata": {},
     "output_type": "execute_result"
    }
   ],
   "source": [
    "matrizea_jaso2('matrizea.txt')"
   ]
  },
  {
   "cell_type": "markdown",
   "metadata": {},
   "source": [
    "## 3.2"
   ]
  },
  {
   "cell_type": "code",
   "execution_count": null,
   "metadata": {},
   "outputs": [],
   "source": [
    "def matrizeak_batu(M1, M2):\n",
    "    h = {}\n",
    "    for ij,b in M1.items():\n",
    "        if ij in M2 :\n",
    "            x = b + M2[ij]\n",
    "            if x != 0.0 \n",
    "        else :\n",
    "            h[ij] = b\n",
    "    \n",
    "    return h"
   ]
  }
 ],
 "metadata": {
  "kernelspec": {
   "display_name": "Python 3",
   "language": "python",
   "name": "python3"
  },
  "language_info": {
   "codemirror_mode": {
    "name": "ipython",
    "version": 3
   },
   "file_extension": ".py",
   "mimetype": "text/x-python",
   "name": "python",
   "nbconvert_exporter": "python",
   "pygments_lexer": "ipython3",
   "version": "3.7.6"
  }
 },
 "nbformat": 4,
 "nbformat_minor": 4
}
