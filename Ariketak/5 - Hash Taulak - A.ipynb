{
 "cells": [
  {
   "cell_type": "markdown",
   "metadata": {},
   "source": [
    "## 1\n"
   ]
  },
  {
   "cell_type": "code",
   "execution_count": 1,
   "metadata": {},
   "outputs": [],
   "source": [
    "def h_new(N = 7):\n",
    "    return [None]*N\n",
    "\n",
    "def h_items(h):\n",
    "    return  (x for x in h if x )\n",
    "\n",
    "def h_len(h):\n",
    "    return sum(bool(x) for x in h)\n",
    "\n",
    "def h_str(h):\n",
    "    g = (repr(g) + ': ' + repr(b) for g,b in h_items(h))\n",
    "    return '{' + ', '.join(g) + '}'"
   ]
  },
  {
   "cell_type": "code",
   "execution_count": 2,
   "metadata": {},
   "outputs": [],
   "source": [
    "def h_get(h,g,d=None):\n",
    "    x = h[hash(g) % len(h)] \n",
    "    if x != None :\n",
    "        g2,b2 = x\n",
    "        if g2 == g :\n",
    "            return b2\n",
    "    return d"
   ]
  },
  {
   "cell_type": "code",
   "execution_count": 3,
   "metadata": {},
   "outputs": [],
   "source": [
    "def h_put(h,k,v):\n",
    "    i = hash(k) % len(h)\n",
    "    x = h[i] \n",
    "    if x != None :\n",
    "        k2,v2 = x\n",
    "        if k2 == k :\n",
    "            h[i] = (k,v)\n",
    "        else :\n",
    "            # KOLISIOA!!!!!\n",
    "            h_resize(h,len(h)*2)\n",
    "            # KONTUZZZZ\n",
    "            #h[hash(k) % len(h)] = (k,v) \n",
    "            h_put(h,k,v)\n",
    "    else :\n",
    "        h[i] = (k,v)    "
   ]
  },
  {
   "cell_type": "code",
   "execution_count": null,
   "metadata": {},
   "outputs": [],
   "source": [
    "def h_resize(h,N):\n",
    "    items = list(h_items(h))\n",
    "    # KONTUZ!!!\n",
    "    # h = [None] * N\n",
    "    h.clear()\n",
    "    h.extend([None] * N)\n",
    "    for k,v in items :\n",
    "        h_put(h,k,v)"
   ]
  }
 ],
 "metadata": {
  "kernelspec": {
   "display_name": "Python 3",
   "language": "python",
   "name": "python3"
  },
  "language_info": {
   "codemirror_mode": {
    "name": "ipython",
    "version": 3
   },
   "file_extension": ".py",
   "mimetype": "text/x-python",
   "name": "python",
   "nbconvert_exporter": "python",
   "pygments_lexer": "ipython3",
   "version": "3.7.6"
  }
 },
 "nbformat": 4,
 "nbformat_minor": 4
}
