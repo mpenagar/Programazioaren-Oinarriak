{
 "cells": [
  {
   "cell_type": "markdown",
   "metadata": {},
   "source": [
    "## 1\n"
   ]
  },
  {
   "cell_type": "code",
   "execution_count": 6,
   "metadata": {},
   "outputs": [],
   "source": [
    "def h_new(N = 7):\n",
    "    return [None]*N\n",
    "\n",
    "def h_items(h):\n",
    "    return  (x for x in h if x )\n",
    "\n",
    "def h_len(h):\n",
    "    return sum(bool(x) for x in h)\n",
    "\n",
    "def h_str(h):\n",
    "    g = (repr(g) + ': ' + repr(b) for g,b in h_items(h))\n",
    "    return '{' + ', '.join(g) + '}'\n",
    "\n",
    "def h_lf(h):\n",
    "    return h_len(h)/len(h)"
   ]
  },
  {
   "cell_type": "code",
   "execution_count": 7,
   "metadata": {},
   "outputs": [],
   "source": [
    "def h_get(h,g,d=None):\n",
    "    i = hash(g) % len(h)\n",
    "    while h[i] != None :\n",
    "        g2,b2 = h[i]\n",
    "        if g2 == g :\n",
    "            return b2\n",
    "        i = (i+1) % len(h)\n",
    "    return d"
   ]
  },
  {
   "cell_type": "code",
   "execution_count": 8,
   "metadata": {},
   "outputs": [],
   "source": [
    "def h_put(h,k,v):\n",
    "    i = hash(k) % len(h)\n",
    "    while h[i]  != None :\n",
    "        k2,v2 = h[i] \n",
    "        if k2 == k :\n",
    "            h[i] = (k,v)\n",
    "            return\n",
    "        i = (i+1) % len(h)\n",
    "    h[i] = (k,v)\n",
    "    if h_lf(h) > 0.7 :\n",
    "        h_resize(h,len(h)*2)"
   ]
  },
  {
   "cell_type": "code",
   "execution_count": 9,
   "metadata": {},
   "outputs": [],
   "source": [
    "def h_resize(h,N):\n",
    "    items = list(h_items(h))\n",
    "    h.clear()\n",
    "    h.extend([None] * N)\n",
    "    for k,v in items :\n",
    "        h_put(h,k,v)"
   ]
  },
  {
   "cell_type": "code",
   "execution_count": 10,
   "metadata": {},
   "outputs": [
    {
     "name": "stdout",
     "output_type": "stream",
     "text": [
      "28 10 0.35714285714285715\n",
      "224 100 0.44642857142857145\n",
      "1792 1000 0.5580357142857143\n",
      "14336 10000 0.6975446428571429\n"
     ]
    }
   ],
   "source": [
    "for n in 10,100,1000,10000 :\n",
    "    h = h_new()\n",
    "    for i in range(n):\n",
    "        h_put(h,str(i),i)\n",
    "    print(len(h),h_len(h),h_lf(h))"
   ]
  },
  {
   "cell_type": "code",
   "execution_count": null,
   "metadata": {},
   "outputs": [],
   "source": []
  }
 ],
 "metadata": {
  "kernelspec": {
   "display_name": "Python 3",
   "language": "python",
   "name": "python3"
  },
  "language_info": {
   "codemirror_mode": {
    "name": "ipython",
    "version": 3
   },
   "file_extension": ".py",
   "mimetype": "text/x-python",
   "name": "python",
   "nbconvert_exporter": "python",
   "pygments_lexer": "ipython3",
   "version": "3.7.6"
  }
 },
 "nbformat": 4,
 "nbformat_minor": 4
}
