{
 "cells": [
  {
   "cell_type": "markdown",
   "metadata": {},
   "source": [
    "## Ariketa\n",
    "\n",
    "Multzo edo hiztegirik erabili gabe, iteragarri batetako elementu ezberdin kopurua\n"
   ]
  },
  {
   "cell_type": "code",
   "execution_count": 6,
   "metadata": {},
   "outputs": [
    {
     "name": "stdout",
     "output_type": "stream",
     "text": [
      "10\n",
      "10\n",
      "10\n"
     ]
    }
   ],
   "source": [
    "# Multzo bat erabiliz\n",
    "def f1(it):\n",
    "    return len(set(it))\n",
    "\n",
    "# Zerrenda bat erabiliz\n",
    "def f2(it):\n",
    "    # Kontuz!!!\n",
    "    # z = [x for x in it if x not in z]\n",
    "    z = []\n",
    "    for x in it:\n",
    "        if x not in z :\n",
    "            z.append(x)\n",
    "    return len(z)\n",
    "\n",
    "# Zerrenda bat erabiliz\n",
    "def f3(it):\n",
    "    z = sorted(it)\n",
    "    k = 1\n",
    "    for a,b in zip(z,z[1:]):\n",
    "        if a != b :\n",
    "            k += 1\n",
    "    return k\n",
    "\n",
    "\n",
    "\n",
    "#it = list(range(10))*3 + [\"aaaaa\"]\n",
    "it = list(range(10))*3\n",
    "print(f1(it))\n",
    "print(f2(it))\n",
    "print(f3(it))"
   ]
  },
  {
   "cell_type": "markdown",
   "metadata": {},
   "source": [
    "* `f1()` $\\to$  $\\Theta(n)$\n",
    "* `f2()` $\\to$  $\\Omega(n) \\;\\; O(n^2)$\n",
    "* `f3()` $\\to$  $\\Theta(n \\cdot log n)$\n",
    "\n"
   ]
  },
  {
   "cell_type": "markdown",
   "metadata": {},
   "source": [
    "## Ariketa\n",
    "\n",
    "Karaktere errepikatu gabeko hitza bueltatu. "
   ]
  },
  {
   "cell_type": "code",
   "execution_count": 21,
   "metadata": {},
   "outputs": [
    {
     "name": "stdout",
     "output_type": "stream",
     "text": [
      "f1('amama') = am\n",
      "f2('amama') = am\n",
      "f3('amama') = am\n",
      "f4('amama') = am\n",
      "f5('amama') = am\n",
      "f1('kaixo') = kxoia\n",
      "f2('kaixo') = kaixo\n",
      "f3('kaixo') = kaixo\n",
      "f4('kaixo') = kaixo\n",
      "f5('kaixo') = kaixo\n",
      "f1('harotza') = horatz\n",
      "f2('harotza') = harotz\n",
      "f3('harotza') = harotz\n",
      "f4('harotza') = harotz\n",
      "f5('harotza') = harotz\n",
      "f1('aauaeaeiaeoiaiuaueo') = oiaue\n",
      "f2('aauaeaeiaeoiaiuaueo') = aueio\n",
      "f3('aauaeaeiaeoiaiuaueo') = aueio\n",
      "f4('aauaeaeiaeoiaiuaueo') = aueio\n",
      "f5('aauaeaeiaeoiaiuaueo') = aueio\n"
     ]
    }
   ],
   "source": [
    "def f1(w):\n",
    "    return ''.join(set(w))\n",
    "\n",
    "def f2(w):\n",
    "    e = \"\"\n",
    "    for c in w :\n",
    "        if c not in e:\n",
    "            e += c\n",
    "    return e\n",
    "\n",
    "def f3(w):\n",
    "    h = {}\n",
    "    for c in w :\n",
    "        if c not in h:\n",
    "            h[c] = None\n",
    "    return ''.join(h)\n",
    "\n",
    "def f4(w):\n",
    "    h = {}\n",
    "    for c in w :\n",
    "        h[c] = None\n",
    "    return ''.join(h)\n",
    "\n",
    "def f5(w):\n",
    "    return ''.join(dict.fromkeys(w))\n",
    "\n",
    "for w in ('amama','kaixo','harotza','aauaeaeiaeoiaiuaueo'):\n",
    "    for f in (f1,f2,f3,f4,f5):\n",
    "        print(f'{f.__name__}({repr(w)}) = {f(w)}')"
   ]
  },
  {
   "cell_type": "markdown",
   "metadata": {},
   "source": [
    "* `f1(), f3(), f4(), f5()` $\\to$  $\\Theta(n)$\n",
    "* `f2()` $\\to$  $\\Omega(n) \\;\\; O(n^2)$\n",
    "\n"
   ]
  },
  {
   "cell_type": "code",
   "execution_count": null,
   "metadata": {},
   "outputs": [],
   "source": []
  }
 ],
 "metadata": {
  "kernelspec": {
   "display_name": "Python 3",
   "language": "python",
   "name": "python3"
  },
  "language_info": {
   "codemirror_mode": {
    "name": "ipython",
    "version": 3
   },
   "file_extension": ".py",
   "mimetype": "text/x-python",
   "name": "python",
   "nbconvert_exporter": "python",
   "pygments_lexer": "ipython3",
   "version": "3.7.6"
  }
 },
 "nbformat": 4,
 "nbformat_minor": 4
}
