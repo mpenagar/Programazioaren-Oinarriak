{
 "cells": [
  {
   "cell_type": "markdown",
   "metadata": {},
   "source": [
    "### 0 - Berdimentsio bidezko ebazpena\n",
    "\n",
    "   * $N$ tamainako Zerrenda bat erabili.\n",
    "   * Okupazio faktorea (*load factor*): $LF : {n_{stored}}/{N}$\n",
    "   * $g$ gako bati taulan dagokion posizioa: $i \\; = \\; hash(g)\\; \\% \\; N$\n",
    "   * *Talkak* edo *kolisioak* gerta daitezke\n",
    "      * **Kolisioa**: Bi $g_1 , g_2$ gako ezberdinei $i_1 = i_2$ posizio berdina esleitzea\n",
    "      * $hash(g_1) = hash(g_2)$ balio berdina izan dezakete.\n",
    "      * $hash(g_1) \\ne hash(g_2)$ izanda ere,  $(hash(g_1)\\, \\% \\, N) = (hash(g_2)\\, \\% \\, N)$ gerta daiteke.\n",
    "   * Talkarik badago $\\to$ **BERDIMENTSIONATU**"
   ]
  },
  {
   "cell_type": "code",
   "execution_count": 1,
   "metadata": {},
   "outputs": [],
   "source": [
    "def hiztegia():\n",
    "    pass\n",
    "def hiztegia_set(h,g,b):\n",
    "    pass\n",
    "def hiztegia_get(h,g,d=None):\n",
    "    pass\n",
    "def hiztegia_del(h,g):\n",
    "    pass\n",
    "def hiztegia_clear(h):\n",
    "    pass\n",
    "def hiztegia_len(h):\n",
    "    pass\n",
    "def hiztegia_str(h):\n",
    "    pass\n",
    "def hiztegia_items(h):\n",
    "    pass\n",
    "def hiztegia_keys(h):\n",
    "    pass\n",
    "def hiztegia_values(h):\n",
    "    pass"
   ]
  },
  {
   "cell_type": "code",
   "execution_count": 43,
   "metadata": {},
   "outputs": [],
   "source": [
    "def hiztegia(init_size=10):\n",
    "    return [None]*10\n",
    "\n",
    "def hiztegia_set(h,g,b):\n",
    "    #h[hash(g)%len(h)] = (g,b)\n",
    "    i = hash(g)%len(h)\n",
    "    x = h[i]\n",
    "    if not x :\n",
    "        h[i] = (g,b)\n",
    "    else :\n",
    "        if x[0] == g :\n",
    "            h[i] = (g,b)\n",
    "        else :\n",
    "            # KOLISIOA!!!!! \n",
    "            hiztegia_berdimentsionatu(h,len(h)*2)\n",
    "            hiztegia_set(h,g,b)\n",
    "            \n",
    "def hiztegia_berdimentsionatu(h,new_size):\n",
    "    items = hiztegia_items(h)\n",
    "    h.clear()\n",
    "    h.extend([None]*new_size)\n",
    "    for g,b in items:\n",
    "        hiztegia_set(h,g,b)\n",
    "\n",
    "def hiztegia_get(h,g,d=None):\n",
    "    #h[hash(g)%len(h)]\n",
    "    i = hash(g)%len(h)\n",
    "    x = h[i]\n",
    "    if not x :\n",
    "        return d\n",
    "    else :\n",
    "        if x[0] == g :\n",
    "            return x[1]\n",
    "        else :\n",
    "            return d\n",
    "\n",
    "def hiztegia_str(h):\n",
    "    z = [f'{repr(x[0])}:{repr(x[1])}' for x in h if x] \n",
    "    return '{' + ','.join(z) + '}'\n",
    "\n",
    "def hiztegia_items(h):\n",
    "    return [x for x in h if x]\n",
    "\n",
    "def hiztegia_keys(h):\n",
    "    return [x[0] for x in h if x]\n",
    "\n",
    "def hiztegia_values(h):\n",
    "    return [x[1] for x in h if x]\n",
    "\n",
    "def hiztegia_len(h):\n",
    "    return len(hiztegia_items(h))"
   ]
  },
  {
   "cell_type": "code",
   "execution_count": 52,
   "metadata": {},
   "outputs": [
    {
     "name": "stdout",
     "output_type": "stream",
     "text": [
      "h: [None, None, None, None, None, None, None, None, None, None]\n",
      "h: [None, None, None, None, None, None, None, None, ('agur', 1), ('kaixo', 23)]\n",
      "h: [None, None, None, None, None, None, None, None, ('agur', 5), ('kaixo', 23)]\n",
      "hiztegia_str(h): {'agur':5,'kaixo':23}\n",
      "hiztegia_items(h): [('agur', 5), ('kaixo', 23)]\n",
      "hiztegia_keys(h): ['agur', 'kaixo']\n",
      "hiztegia_values(h): [5, 23]\n",
      "hiztegia_len(h): 2\n",
      "hiztegia_get(h,\"kaixo\"): 23\n",
      "hiztegia_get(h,\"kaixooo\"): None\n",
      "len(h): 5120\n",
      "hiztegia_len(h): 20\n",
      "hiztegia_str(h): {'r':1,'c':4,'e':3,'j':3,'p':5,'h':1,'a':5,'d':3,'b':5,'g':1,'q':2,'t':4,'n':3,'l':2,'s':1,'m':1,'i':1,'f':1,'k':7,'o':1}\n"
     ]
    }
   ],
   "source": [
    "h = hiztegia()\n",
    "print(f'h: {h}')\n",
    "\n",
    "# h[\"kaixo\"] = 23\n",
    "hiztegia_set(h,\"kaixo\",23)\n",
    "hiztegia_set(h,\"agur\",1)\n",
    "print(f'h: {h}')\n",
    "hiztegia_set(h,\"agur\",5)\n",
    "print(f'h: {h}')\n",
    "\n",
    "print(f'hiztegia_str(h): {hiztegia_str(h)}')\n",
    "print(f'hiztegia_items(h): {hiztegia_items(h)}')\n",
    "print(f'hiztegia_keys(h): {hiztegia_keys(h)}')\n",
    "print(f'hiztegia_values(h): {hiztegia_values(h)}')\n",
    "print(f'hiztegia_len(h): {hiztegia_len(h)}')\n",
    "\n",
    "print(f'hiztegia_get(h,\"kaixo\"): {hiztegia_get(h,\"kaixo\")}')\n",
    "print(f'hiztegia_get(h,\"kaixooo\"): {hiztegia_get(h,\"kaixooo\")}')\n"
   ]
  },
  {
   "cell_type": "markdown",
   "metadata": {},
   "source": [
    "#### Karaktereak kontatzen..."
   ]
  },
  {
   "cell_type": "code",
   "execution_count": 53,
   "metadata": {},
   "outputs": [
    {
     "name": "stdout",
     "output_type": "stream",
     "text": [
      "len(h): 5120\n",
      "hiztegia_len(h): 20\n",
      "hiztegia_str(h): {'r':1,'c':4,'e':3,'j':3,'p':5,'h':1,'a':5,'d':3,'b':5,'g':1,'q':2,'t':4,'n':3,'l':2,'s':1,'m':1,'i':1,'f':1,'k':7,'o':1}\n"
     ]
    }
   ],
   "source": [
    "h = hiztegia()\n",
    "for g in \"aaaaabbbbbccccdddeeefghijjjkkkkkkkllmnnnopppppqqrstttt\":\n",
    "    hiztegia_set(h,g,hiztegia_get(h,g,0)+1)\n",
    "#print(f'h: {h}')\n",
    "print(f'len(h): {len(h)}')\n",
    "print(f'hiztegia_len(h): {hiztegia_len(h)}')\n",
    "print(f'hiztegia_str(h): {hiztegia_str(h)}')"
   ]
  },
  {
   "cell_type": "code",
   "execution_count": null,
   "metadata": {},
   "outputs": [],
   "source": []
  }
 ],
 "metadata": {
  "kernelspec": {
   "display_name": "Python 3",
   "language": "python",
   "name": "python3"
  },
  "language_info": {
   "codemirror_mode": {
    "name": "ipython",
    "version": 3
   },
   "file_extension": ".py",
   "mimetype": "text/x-python",
   "name": "python",
   "nbconvert_exporter": "python",
   "pygments_lexer": "ipython3",
   "version": "3.7.6"
  }
 },
 "nbformat": 4,
 "nbformat_minor": 4
}
