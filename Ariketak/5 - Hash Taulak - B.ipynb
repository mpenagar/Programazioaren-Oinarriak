{
 "cells": [
  {
   "cell_type": "markdown",
   "metadata": {},
   "source": [
    "## 2"
   ]
  },
  {
   "cell_type": "code",
   "execution_count": 8,
   "metadata": {},
   "outputs": [],
   "source": [
    "def h_new(N = 7):\n",
    "    return [[] for i in range(N)]\n",
    "\n",
    "def h_items(h):\n",
    "    return (x for z in h for x in z)\n",
    "\n",
    "def h_len(h):\n",
    "    return sum(len(z) for z in h)"
   ]
  },
  {
   "cell_type": "code",
   "execution_count": 9,
   "metadata": {},
   "outputs": [
    {
     "name": "stdout",
     "output_type": "stream",
     "text": [
      "3\n",
      "[[], [], [], [(3, 'hiru')], [], [], []]\n",
      "2\n",
      "[[], [], [('lau', 4)], [(3, 'hiru')], [], [], []]\n"
     ]
    }
   ],
   "source": [
    "h = h_new()\n",
    "# --> h[3] = \"hiru\"\n",
    "print(hash(3) % len(h))\n",
    "h[hash(3) % len(h)].append((3,'hiru'))\n",
    "print(h)\n",
    "\n",
    "# --> h['lau'] = 4\n",
    "print(hash('lau') % len(h))\n",
    "h[hash('lau') % len(h)].append(('lau',4))\n",
    "print(h)\n"
   ]
  },
  {
   "cell_type": "code",
   "execution_count": 11,
   "metadata": {},
   "outputs": [
    {
     "name": "stdout",
     "output_type": "stream",
     "text": [
      "('lau', 4) (3, 'hiru')\n",
      "2\n"
     ]
    }
   ],
   "source": [
    "print(*h_items(h))\n",
    "print(h_len(h))"
   ]
  }
 ],
 "metadata": {
  "kernelspec": {
   "display_name": "Python 3",
   "language": "python",
   "name": "python3"
  },
  "language_info": {
   "codemirror_mode": {
    "name": "ipython",
    "version": 3
   },
   "file_extension": ".py",
   "mimetype": "text/x-python",
   "name": "python",
   "nbconvert_exporter": "python",
   "pygments_lexer": "ipython3",
   "version": "3.7.6"
  }
 },
 "nbformat": 4,
 "nbformat_minor": 4
}
