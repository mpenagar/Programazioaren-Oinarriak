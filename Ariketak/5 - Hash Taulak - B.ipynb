{
 "cells": [
  {
   "cell_type": "markdown",
   "metadata": {},
   "source": [
    "## 2"
   ]
  },
  {
   "cell_type": "code",
   "execution_count": 1,
   "metadata": {},
   "outputs": [],
   "source": [
    "def h_new(N = 7):\n",
    "    return [[] for i in range(N)]\n",
    "\n",
    "def h_items(h):\n",
    "    return (x for z in h for x in z)\n",
    "\n",
    "def h_len(h):\n",
    "    return sum(len(z) for z in h)\n",
    "\n",
    "def h_str(h):\n",
    "    g = (repr(g) + ': ' + repr(b) for g,b in h_items(h))\n",
    "    return '{' + ', '.join(g) + '}'\n",
    "\n",
    "def h_lf(h):\n",
    "    return h_len(h)/len(h)"
   ]
  },
  {
   "cell_type": "code",
   "execution_count": 2,
   "metadata": {},
   "outputs": [],
   "source": [
    "h = h_new()\n",
    "# --> h[3] = \"hiru\"\n",
    "print(hash(3) % len(h))\n",
    "h[hash(3) % len(h)].append((3,'hiru'))\n",
    "print(h)\n",
    "\n",
    "# --> h['lau'] = 4\n",
    "print(hash('lau') % len(h))\n",
    "h[hash('lau') % len(h)].append(('lau',4))\n",
    "print(h)\n"
   ]
  },
  {
   "cell_type": "code",
   "execution_count": 3,
   "metadata": {},
   "outputs": [],
   "source": [
    "print(*h_items(h))\n",
    "print(h_len(h))\n",
    "print(h_str(h))"
   ]
  },
  {
   "cell_type": "code",
   "execution_count": 4,
   "metadata": {},
   "outputs": [],
   "source": [
    "def h_get(h,g,d=None):\n",
    "    z = h[hash(g) % len(h)] \n",
    "    for g2,b2 in z :\n",
    "        if g2 == g :\n",
    "            return b2\n",
    "    return d"
   ]
  },
  {
   "cell_type": "code",
   "execution_count": 5,
   "metadata": {},
   "outputs": [],
   "source": [
    "print(h_get(h,'lau'))\n",
    "print(h_get(h,3))\n",
    "print(h_get(h,0))\n",
    "print(h_get(h,0,\"ez dago!\"))"
   ]
  },
  {
   "cell_type": "code",
   "execution_count": 6,
   "metadata": {},
   "outputs": [],
   "source": [
    "def h_put(h,k,v):\n",
    "    z = h[hash(k) % len(h)] \n",
    "    for i,(g,b) in enumerate(z) :\n",
    "        if k == g :\n",
    "            # balioa aldatu eta amaitu\n",
    "            z[i] = (k,v)\n",
    "            return\n",
    "    # (k,v) gehitu zerrendari\n",
    "    z.append((k,v))\n",
    "    # karga faktorea 4 azpitik mantendu\n",
    "    if h_lf(h)>4 :\n",
    "        h_resize(h,len(h)*2)"
   ]
  },
  {
   "cell_type": "code",
   "execution_count": 7,
   "metadata": {},
   "outputs": [],
   "source": [
    "def h_resize(h,N):\n",
    "    items = list(h_items(h))\n",
    "    h.clear()\n",
    "    h.extend([] for i in range(N))\n",
    "    for k,v in items :\n",
    "        #h_put(h,k,v)\n",
    "        # aurrekoa ongi ibiliko den arren, hau bizkorragoa da\n",
    "        h[hash(k) % N].append((k,v))"
   ]
  },
  {
   "cell_type": "code",
   "execution_count": 8,
   "metadata": {},
   "outputs": [],
   "source": [
    "h = h_new()\n",
    "# --> h[3] = \"hiru\"\n",
    "h_put(h,3,'hiru')\n",
    "print(h)\n",
    "\n",
    "# --> h['lau'] = 4\n",
    "h_put(h,'lau',4)\n",
    "print(h)\n",
    "\n",
    "# --> h['lau'] = 'bakalau'\n",
    "h_put(h,'lau','bakalau')\n",
    "print(h)\n"
   ]
  },
  {
   "cell_type": "code",
   "execution_count": 9,
   "metadata": {},
   "outputs": [
    {
     "name": "stdout",
     "output_type": "stream",
     "text": [
      "7 10 1.4285714285714286\n",
      "28 100 3.5714285714285716\n",
      "448 1000 2.232142857142857\n",
      "3584 10000 2.7901785714285716\n"
     ]
    }
   ],
   "source": [
    "for n in 10,100,1000,10000 :\n",
    "    h = h_new()\n",
    "    for i in range(n):\n",
    "        h_put(h,str(i),i)\n",
    "    for i in range(n):\n",
    "        h_put(h,str(i),i*i)\n",
    "    print(len(h),h_len(h),h_lf(h))"
   ]
  },
  {
   "cell_type": "code",
   "execution_count": null,
   "metadata": {},
   "outputs": [],
   "source": []
  }
 ],
 "metadata": {
  "kernelspec": {
   "display_name": "Python 3",
   "language": "python",
   "name": "python3"
  },
  "language_info": {
   "codemirror_mode": {
    "name": "ipython",
    "version": 3
   },
   "file_extension": ".py",
   "mimetype": "text/x-python",
   "name": "python",
   "nbconvert_exporter": "python",
   "pygments_lexer": "ipython3",
   "version": "3.7.6"
  }
 },
 "nbformat": 4,
 "nbformat_minor": 4
}
