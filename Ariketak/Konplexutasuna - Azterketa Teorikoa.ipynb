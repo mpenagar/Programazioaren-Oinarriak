{
 "cells": [
  {
   "cell_type": "markdown",
   "metadata": {},
   "source": [
    "### 7\n",
    "Hiztegi edo multzorik erabili gabe, zerrenda batetan agertzen diren elementu ezberdinen kopurua.\n",
    "\n",
    "Problemaren tamaina: `n = len(z)`"
   ]
  },
  {
   "cell_type": "code",
   "execution_count": 1,
   "metadata": {},
   "outputs": [
    {
     "data": {
      "text/plain": [
       "5"
      ]
     },
     "execution_count": 1,
     "metadata": {},
     "output_type": "execute_result"
    }
   ],
   "source": [
    "def ezberdinak(z):\n",
    "    z2 = []\n",
    "    for x in z :\n",
    "        if x not in z2 :\n",
    "            z2.append(x)\n",
    "    return len(z2)\n",
    "\n",
    "ezberdinak([1,1,2,2,3,3,3,4,4,4,5,5])"
   ]
  },
  {
   "cell_type": "markdown",
   "metadata": {},
   "source": [
    "Kasu ona: z-ko elementu guztiak berdinak dira\n",
    "\n",
    "```python\n",
    "def ezberdinak(z):\n",
    "    z2 = []                 # 1\n",
    "    for x in z :            # n x 1\n",
    "        if x not in z2 :    # n x 1\n",
    "            z2.append(x)    # 1\n",
    "    return len(z2)          # 1\n",
    "```\n",
    "\n",
    "$t(n)=2 n + 3 \\to \\Omega(n)$\n"
   ]
  },
  {
   "cell_type": "markdown",
   "metadata": {},
   "source": [
    "Kasu txarra: z-ko elementu guztiak ezberdinak dira\n",
    "\n",
    "```python\n",
    "def ezberdinak(z):\n",
    "    z2 = []                 # 1\n",
    "    for x in z :            # n x 1\n",
    "        if x not in z2 :    # n x len(z2) = 1 + 2 + 3 + 4 + .. + n\n",
    "            z2.append(x)    # n x 1\n",
    "    return len(z2)          # 1\n",
    "```\n",
    "\n",
    "$t(n) = 2 + 2 n + \\sum_{i=1}^{n}{i} = 2 + 2 n + \\frac{n (n+1)}{2} \\to O(n^2)$"
   ]
  },
  {
   "cell_type": "code",
   "execution_count": 3,
   "metadata": {},
   "outputs": [
    {
     "data": {
      "text/plain": [
       "5"
      ]
     },
     "execution_count": 3,
     "metadata": {},
     "output_type": "execute_result"
    }
   ],
   "source": [
    "def ezberdinak(z):\n",
    "    h = {}              # 1\n",
    "    for x in z :        # n x 1\n",
    "        h[x] = None     # n x 1\n",
    "    return len(h)       # 1\n",
    "ezberdinak([1,1,2,2,3,3,3,4,4,4,5,5])"
   ]
  },
  {
   "cell_type": "code",
   "execution_count": 4,
   "metadata": {},
   "outputs": [
    {
     "data": {
      "text/plain": [
       "5"
      ]
     },
     "execution_count": 4,
     "metadata": {},
     "output_type": "execute_result"
    }
   ],
   "source": [
    "def ezberdinak(z):\n",
    "    return len(dict.fromkeys(z))        # n + 1\n",
    "ezberdinak([1,1,2,2,3,3,3,4,4,4,5,5])    "
   ]
  },
  {
   "cell_type": "code",
   "execution_count": 6,
   "metadata": {},
   "outputs": [
    {
     "data": {
      "text/plain": [
       "5"
      ]
     },
     "execution_count": 6,
     "metadata": {},
     "output_type": "execute_result"
    }
   ],
   "source": [
    "def ezberdinak(z):\n",
    "    s = set()        # 1\n",
    "    for x in z :     # n x 1\n",
    "        s.add(x)     # n x 1\n",
    "    return len(s)    # 1\n",
    "ezberdinak([1,1,2,2,3,3,3,4,4,4,5,5])"
   ]
  },
  {
   "cell_type": "code",
   "execution_count": 7,
   "metadata": {},
   "outputs": [
    {
     "data": {
      "text/plain": [
       "5"
      ]
     },
     "execution_count": 7,
     "metadata": {},
     "output_type": "execute_result"
    }
   ],
   "source": [
    "def ezberdinak(z):\n",
    "    return len(set(z))   # n + 1\n",
    "ezberdinak([1,1,2,2,3,3,3,4,4,4,5,5])    "
   ]
  }
 ],
 "metadata": {
  "kernelspec": {
   "display_name": "Python 3",
   "language": "python",
   "name": "python3"
  },
  "language_info": {
   "codemirror_mode": {
    "name": "ipython",
    "version": 3
   },
   "file_extension": ".py",
   "mimetype": "text/x-python",
   "name": "python",
   "nbconvert_exporter": "python",
   "pygments_lexer": "ipython3",
   "version": "3.7.6"
  }
 },
 "nbformat": 4,
 "nbformat_minor": 4
}
