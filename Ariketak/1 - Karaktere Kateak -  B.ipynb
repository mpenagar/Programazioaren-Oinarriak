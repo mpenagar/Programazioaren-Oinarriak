{
 "cells": [
  {
   "cell_type": "markdown",
   "metadata": {},
   "source": [
    "## 5\n",
    "delete_at(s,z) funtzio bat idatzi argumentu bezala s karaktere katea eta z indize gorakorrak dituen zerrenda jasotzen duena eta karaktere kate berri bat bueltatzen duena, zeinetan z zerrendan agertzen diren posizioetako elementuak ezabatu egin diren. Hau da, s=’bihar ikusiko dugu elkar’ eta z=[1,5,6,9] izanik, funtzioak bueltatuko duen katea ‘ihaiksiko dugu elkar’ izango da.\n",
    "6."
   ]
  },
  {
   "cell_type": "code",
   "execution_count": 7,
   "metadata": {},
   "outputs": [
    {
     "data": {
      "text/plain": [
       "[3, 4, 2]"
      ]
     },
     "execution_count": 7,
     "metadata": {},
     "output_type": "execute_result"
    }
   ],
   "source": [
    "#s = \"pñhlohlku\"\n",
    "#del s[2]\n",
    "z = [2,3,4,2]\n",
    "del z[0]\n",
    "z"
   ]
  },
  {
   "cell_type": "code",
   "execution_count": 5,
   "metadata": {},
   "outputs": [
    {
     "data": {
      "text/plain": [
       "[2, 4, 5, 3]"
      ]
     },
     "execution_count": 5,
     "metadata": {},
     "output_type": "execute_result"
    }
   ],
   "source": [
    "z = [2,3,4,5,3]\n",
    "z.remove(3)\n",
    "z"
   ]
  },
  {
   "cell_type": "code",
   "execution_count": 15,
   "metadata": {},
   "outputs": [
    {
     "data": {
      "text/plain": [
       "'ihaiksiko dugu elkar'"
      ]
     },
     "execution_count": 15,
     "metadata": {},
     "output_type": "execute_result"
    }
   ],
   "source": [
    "def f5(s,z):\n",
    "    x = list(s)\n",
    "    for i in z[::-1] :\n",
    "        del x[i-1]\n",
    "    return ''.join(x)\n",
    "\n",
    "f5(\"bihar ikusiko dugu elkar\", [1,5,6,9])"
   ]
  },
  {
   "cell_type": "code",
   "execution_count": 24,
   "metadata": {},
   "outputs": [
    {
     "data": {
      "text/plain": [
       "'ihaiksiko dugu elkar'"
      ]
     },
     "execution_count": 24,
     "metadata": {},
     "output_type": "execute_result"
    }
   ],
   "source": [
    "def f5(s,z):\n",
    "    x = \"\"\n",
    "    for i,k in enumerate(s,1) :\n",
    "        if i not in z :\n",
    "            x += k\n",
    "    return x\n",
    "\n",
    "f5(\"bihar ikusiko dugu elkar\", [1,5,6,9])"
   ]
  }
 ],
 "metadata": {
  "kernelspec": {
   "display_name": "Python 3",
   "language": "python",
   "name": "python3"
  },
  "language_info": {
   "codemirror_mode": {
    "name": "ipython",
    "version": 3
   },
   "file_extension": ".py",
   "mimetype": "text/x-python",
   "name": "python",
   "nbconvert_exporter": "python",
   "pygments_lexer": "ipython3",
   "version": "3.7.6"
  }
 },
 "nbformat": 4,
 "nbformat_minor": 4
}
