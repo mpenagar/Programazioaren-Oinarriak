{
 "cells": [
  {
   "cell_type": "markdown",
   "metadata": {},
   "source": [
    "### 5\n",
    "Idatzi funtzio bat, lehenengo n zenbaki lehenen zerrenda gorakorra jasota, hurrengo \n",
    "zenbaki lehena bueltatuko duena. Hurrengo sekuentziek ondoko balioa bueltatu beharko \n",
    "lukete:\n",
    "* [] --> 2\n",
    "* [2] --> 3\n",
    "* [2,3] --> 5\n",
    "* [2,3,5] --> 7\n",
    "* ..."
   ]
  },
  {
   "cell_type": "code",
   "execution_count": 8,
   "metadata": {},
   "outputs": [
    {
     "name": "stdout",
     "output_type": "stream",
     "text": [
      "2\n",
      "2 3\n",
      "2 3 5\n",
      "2 3 5 7\n",
      "2 3 5 7 11\n",
      "2 3 5 7 11 13\n",
      "2 3 5 7 11 13 17\n",
      "2 3 5 7 11 13 17 19\n",
      "2 3 5 7 11 13 17 19 23\n",
      "2 3 5 7 11 13 17 19 23 29\n"
     ]
    }
   ],
   "source": [
    "def hurrengo_lehena(z):\n",
    "    if not z :\n",
    "        return 2\n",
    "    i = z[-1] + 1\n",
    "    while True :\n",
    "        # ikusi ea z-ko elementu batek zatitzen ote duen\n",
    "        for j in z :\n",
    "            if i % j == 0 :\n",
    "                break\n",
    "        else :\n",
    "            return i\n",
    "        i += 1\n",
    "        \n",
    "z = []\n",
    "for _ in range(10):\n",
    "    z.append(hurrengo_lehena(z))\n",
    "    print(*z)\n"
   ]
  }
 ],
 "metadata": {
  "kernelspec": {
   "display_name": "Python 3",
   "language": "python",
   "name": "python3"
  },
  "language_info": {
   "codemirror_mode": {
    "name": "ipython",
    "version": 3
   },
   "file_extension": ".py",
   "mimetype": "text/x-python",
   "name": "python",
   "nbconvert_exporter": "python",
   "pygments_lexer": "ipython3",
   "version": "3.7.6"
  }
 },
 "nbformat": 4,
 "nbformat_minor": 4
}
