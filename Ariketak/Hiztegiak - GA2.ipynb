{
 "cells": [
  {
   "cell_type": "markdown",
   "metadata": {},
   "source": [
    "### 5\n",
    "Idatzi funtzio bat, lehenengo n zenbaki lehenen zerrenda gorakorra jasota, hurrengo \n",
    "zenbaki lehena bueltatuko duena. Hurrengo sekuentziek ondoko balioa bueltatu beharko \n",
    "lukete:\n",
    "* [] --> 2\n",
    "* [2] --> 3\n",
    "* [2,3] --> 5\n",
    "* [2,3,5] --> 7\n",
    "* ..."
   ]
  },
  {
   "cell_type": "code",
   "execution_count": 8,
   "metadata": {},
   "outputs": [
    {
     "name": "stdout",
     "output_type": "stream",
     "text": [
      "2\n",
      "2 3\n",
      "2 3 5\n",
      "2 3 5 7\n",
      "2 3 5 7 11\n",
      "2 3 5 7 11 13\n",
      "2 3 5 7 11 13 17\n",
      "2 3 5 7 11 13 17 19\n",
      "2 3 5 7 11 13 17 19 23\n",
      "2 3 5 7 11 13 17 19 23 29\n"
     ]
    }
   ],
   "source": [
    "def hurrengo_lehena(z):\n",
    "    if not z :\n",
    "        return 2\n",
    "    i = z[-1] + 1\n",
    "    while True :\n",
    "        # ikusi ea z-ko elementu batek zatitzen ote duen\n",
    "        for j in z :\n",
    "            if i % j == 0 :\n",
    "                break\n",
    "        else :\n",
    "            return i\n",
    "        i += 1\n",
    "        \n",
    "z = []\n",
    "for _ in range(10):\n",
    "    z.append(hurrengo_lehena(z))\n",
    "    print(*z)\n"
   ]
  },
  {
   "cell_type": "markdown",
   "metadata": {},
   "source": [
    "### 6\n",
    "Funtzio bat idatzi, sarrera bezala n>1 zenbaki arrunt bat jasoko duena eta emandako \n",
    "zenbakiaren faktore lehenen deskonposaketa adieraziko duen hiztegia bueltatuko duena. \n",
    "Hiztegiaren giltzak faktoreak izango dira eta dagokien balioa faktore bakoitzaren \n",
    "berretzailea. Honela, n=360 izango balitz, funtzioak ondoko hiztegiak bueltatu beharko luke: \n",
    "{2: 3, 3: 2, 5: 1}. OHARRA: aurreko funtzioa erabili"
   ]
  },
  {
   "cell_type": "code",
   "execution_count": 18,
   "metadata": {},
   "outputs": [
    {
     "data": {
      "text/plain": [
       "{2: 4, 5: 6, 13: 2}"
      ]
     },
     "execution_count": 18,
     "metadata": {},
     "output_type": "execute_result"
    }
   ],
   "source": [
    "def deskonposaketa(n):\n",
    "    h = {}\n",
    "    #z = [hurrengo_lehena([])]\n",
    "    z = [2]\n",
    "    a = z[-1]\n",
    "    while n > 1 :\n",
    "        while n % a == 0 :\n",
    "            n = n / a\n",
    "            h[a] = h.get(a,0) + 1\n",
    "        z.append(hurrengo_lehena(z))\n",
    "        a = z[-1]\n",
    "    return h  \n",
    "\n",
    "def deskonposaketa(n):\n",
    "    h = {}\n",
    "    #z = [hurrengo_lehena([])]\n",
    "    z = [2]\n",
    "    a = z[-1]\n",
    "    while n > 1 :\n",
    "        if n % a == 0 :\n",
    "            n = n / a\n",
    "            h[a] = h.get(a,0) + 1\n",
    "        else :\n",
    "            z.append(hurrengo_lehena(z))\n",
    "            a = z[-1]\n",
    "    return h\n",
    "\n",
    "def deskonposaketa(n):\n",
    "    h = {}\n",
    "    a = 2\n",
    "    while n > 1 :\n",
    "        if n % a == 0 :\n",
    "            n = n / a\n",
    "            h[a] = h.get(a,0) + 1\n",
    "        else :\n",
    "            a += 1\n",
    "    return h  \n",
    "\n",
    "deskonposaketa(2**4 * 5**6 * 13**2)"
   ]
  }
 ],
 "metadata": {
  "kernelspec": {
   "display_name": "Python 3",
   "language": "python",
   "name": "python3"
  },
  "language_info": {
   "codemirror_mode": {
    "name": "ipython",
    "version": 3
   },
   "file_extension": ".py",
   "mimetype": "text/x-python",
   "name": "python",
   "nbconvert_exporter": "python",
   "pygments_lexer": "ipython3",
   "version": "3.7.6"
  }
 },
 "nbformat": 4,
 "nbformat_minor": 4
}
