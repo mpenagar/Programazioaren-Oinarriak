{
 "cells": [
  {
   "cell_type": "code",
   "execution_count": 1,
   "metadata": {},
   "outputs": [],
   "source": [
    "def aberatsa(w):\n",
    "    z = []\n",
    "    for k in w :\n",
    "        z.append(w.count(k))\n",
    "    return max(z) >= 4"
   ]
  },
  {
   "cell_type": "markdown",
   "metadata": {},
   "source": [
    "$\\Theta(n^2)$"
   ]
  },
  {
   "cell_type": "code",
   "execution_count": 2,
   "metadata": {},
   "outputs": [],
   "source": [
    "def aberatsa(w):\n",
    "    return max(w.count(k) for k in w) >= 4"
   ]
  },
  {
   "cell_type": "markdown",
   "metadata": {},
   "source": [
    "$\\Theta(n^2)$"
   ]
  },
  {
   "cell_type": "code",
   "execution_count": 2,
   "metadata": {},
   "outputs": [],
   "source": [
    "def aberatsa(w):\n",
    "    return any(w.count(k) >= 4 for k in w)"
   ]
  },
  {
   "cell_type": "markdown",
   "metadata": {},
   "source": [
    "* $\\Omega(n)$  Lehenengo karakterea 4 aldiz edo gehiago\n",
    "* $O(n^2)$  Ez da aberatsa"
   ]
  },
  {
   "cell_type": "code",
   "execution_count": 3,
   "metadata": {},
   "outputs": [],
   "source": [
    "def aberatsa(w):\n",
    "    for k in w :\n",
    "        if w.count(k) >= 4:\n",
    "            return True\n",
    "    return False"
   ]
  },
  {
   "cell_type": "markdown",
   "metadata": {},
   "source": [
    "* $\\Omega(n)$  Lehenengo karakterea 4 aldiz edo gehiago\n",
    "* $O(n^2)$  Ez da aberatsa"
   ]
  },
  {
   "cell_type": "code",
   "execution_count": 3,
   "metadata": {},
   "outputs": [],
   "source": [
    "def aberatsa(w):\n",
    "    if len(w)<4 :\n",
    "        return False\n",
    "    for k in w :\n",
    "        if w.count(k) >= 4:\n",
    "            return True\n",
    "    return False"
   ]
  },
  {
   "cell_type": "markdown",
   "metadata": {},
   "source": [
    "* $\\Omega(n)$  Lehenengo karakterea 4 aldiz edo gehiago\n",
    "* $O(n^2)$  Ez da aberatsa"
   ]
  },
  {
   "cell_type": "code",
   "execution_count": 2,
   "metadata": {},
   "outputs": [],
   "source": [
    "def aberatsa(w):\n",
    "    z = []\n",
    "    for k in set(w) :\n",
    "        z.append(w.count(k))\n",
    "    return max(z) >= 4\n",
    "\n",
    "def aberatsa(w):\n",
    "    return max(w.count(k) for k in set(w)) >= 4"
   ]
  },
  {
   "cell_type": "markdown",
   "metadata": {},
   "source": [
    "* $\\Omega(n)$  Karaktere bakarra (errepikatua) hitzean\n",
    "* $O(n^2)$  Karaktere guztiak ezberdinak"
   ]
  },
  {
   "cell_type": "code",
   "execution_count": null,
   "metadata": {},
   "outputs": [],
   "source": [
    "def aberatsa(w):\n",
    "    h = {}\n",
    "    for k in w :\n",
    "        i = h.get(k,0)\n",
    "        if i == 3:\n",
    "            return True\n",
    "        h[k] = i+1\n",
    "    return False"
   ]
  }
 ],
 "metadata": {
  "kernelspec": {
   "display_name": "Python 3",
   "language": "python",
   "name": "python3"
  },
  "language_info": {
   "codemirror_mode": {
    "name": "ipython",
    "version": 3
   },
   "file_extension": ".py",
   "mimetype": "text/x-python",
   "name": "python",
   "nbconvert_exporter": "python",
   "pygments_lexer": "ipython3",
   "version": "3.7.6"
  }
 },
 "nbformat": 4,
 "nbformat_minor": 4
}
