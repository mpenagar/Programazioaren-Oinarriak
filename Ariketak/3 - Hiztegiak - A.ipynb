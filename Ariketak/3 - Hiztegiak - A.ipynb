{
 "cells": [
  {
   "cell_type": "markdown",
   "metadata": {},
   "source": [
    "## 5\n",
    "Idatzi funtzio bat, lehenengo n zenbaki lehenen zerrenda gorakorra jasota, hurrengo zenbaki lehena bueltatuko duena. Hurrengo sekuentziek ondoko balioa bueltatu beharko lukete:\n",
    "* `[]` $\\to$ 2\n",
    "* `[2]` $\\to$ 3\n",
    "* `[2,3]` $\\to$ 5\n",
    "* `[2,3,5]` $\\to$ 7"
   ]
  },
  {
   "cell_type": "code",
   "execution_count": 35,
   "metadata": {},
   "outputs": [
    {
     "name": "stdout",
     "output_type": "stream",
     "text": [
      "[2]\n",
      "[2, 3]\n",
      "[2, 3, 5]\n",
      "[2, 3, 5, 7]\n",
      "[2, 3, 5, 7, 11]\n",
      "[2, 3, 5, 7, 11, 13]\n",
      "[2, 3, 5, 7, 11, 13, 17]\n",
      "[2, 3, 5, 7, 11, 13, 17, 19]\n",
      "[2, 3, 5, 7, 11, 13, 17, 19, 23]\n",
      "[2, 3, 5, 7, 11, 13, 17, 19, 23, 29]\n"
     ]
    }
   ],
   "source": [
    "def lehena_ote(n):\n",
    "    for i in range(2,n):\n",
    "        if n%i == 0:\n",
    "            return False\n",
    "    return True\n",
    "\n",
    "def hurrengo_lehena(z):\n",
    "    if not z :\n",
    "        return 2\n",
    "    i = z[-1]+1\n",
    "    while True :\n",
    "        if lehena_ote(i) :\n",
    "            return i\n",
    "        i += 1\n",
    "\n",
    "def hurrengo_lehena(z):\n",
    "    if not z :\n",
    "        return 2\n",
    "    i = z[-1]\n",
    "    while True :\n",
    "        i += 1\n",
    "        if lehena_ote(i) :\n",
    "            return i\n",
    "\n",
    "def hurrengo_lehena(z):\n",
    "    if not z :\n",
    "        return 2\n",
    "    i = z[-1] + 1\n",
    "    while not lehena_ote(i) :\n",
    "        i += 1\n",
    "    return i\n",
    "\n",
    "z = []\n",
    "for i in range(10):\n",
    "    z.append(hurrengo_lehena(z))\n",
    "    print(z)"
   ]
  },
  {
   "cell_type": "code",
   "execution_count": 36,
   "metadata": {},
   "outputs": [
    {
     "name": "stdout",
     "output_type": "stream",
     "text": [
      "[2]\n",
      "[2, 3]\n",
      "[2, 3, 5]\n",
      "[2, 3, 5, 7]\n",
      "[2, 3, 5, 7, 11]\n",
      "[2, 3, 5, 7, 11, 13]\n",
      "[2, 3, 5, 7, 11, 13, 17]\n",
      "[2, 3, 5, 7, 11, 13, 17, 19]\n",
      "[2, 3, 5, 7, 11, 13, 17, 19, 23]\n",
      "[2, 3, 5, 7, 11, 13, 17, 19, 23, 29]\n"
     ]
    }
   ],
   "source": [
    "def lehena_ote(z,n):\n",
    "    for i in z:\n",
    "        if n%i == 0:\n",
    "            return False\n",
    "        if i*i > n:\n",
    "            break\n",
    "    return True\n",
    "\n",
    "def hurrengo_lehena(z):\n",
    "    if not z :\n",
    "        return 2\n",
    "    i = z[-1] + 1\n",
    "    while not lehena_ote(z,i) :\n",
    "        i += 1\n",
    "    return i\n",
    "\n",
    "z = []\n",
    "for i in range(10):\n",
    "    z.append(hurrengo_lehena(z))\n",
    "    print(z)"
   ]
  },
  {
   "cell_type": "markdown",
   "metadata": {},
   "source": [
    "## 6\n",
    "Funtzio bat idatzi, sarrera bezala n>1 zenbaki arrunt bat jasoko duena eta emandako zenbakiaren faktore lehenen deskonposaketa adieraziko duen hiztegia bueltatuko duena. Hiztegiaren giltzak faktoreak izango dira eta dagokien balioa faktore bakoitzaren berretzailea. Honela, `n=360` izango balitz, funtzioak ondoko hiztegiak bueltatu beharko luke:\n",
    "\n",
    "`{2: 3, 3: 2, 5: 1}`\n",
    "\n",
    "**OHARRA: aurreko funtzioa erabili**."
   ]
  },
  {
   "cell_type": "code",
   "execution_count": 34,
   "metadata": {},
   "outputs": [
    {
     "data": {
      "text/plain": [
       "{2: 3, 3: 2, 5: 1, 11: 1}"
      ]
     },
     "execution_count": 34,
     "metadata": {},
     "output_type": "execute_result"
    }
   ],
   "source": [
    "def deskonposaketa(n):\n",
    "    h = {}\n",
    "    z = [hurrengo_lehena([])]\n",
    "    i = z[-1]\n",
    "    while n > 1 :\n",
    "        if n % i == 0 :\n",
    "            n /= i\n",
    "            #if i in h :\n",
    "            #    h[i] += 1\n",
    "            #else :\n",
    "            #    h[i] = 1\n",
    "            h[i] = h.get(i,0)+1\n",
    "        else :\n",
    "            z.append(hurrengo_lehena(z))\n",
    "            i = z[-1]\n",
    "    return h\n",
    "\n",
    "deskonposaketa(360*11)"
   ]
  }
 ],
 "metadata": {
  "kernelspec": {
   "display_name": "Python 3",
   "language": "python",
   "name": "python3"
  },
  "language_info": {
   "codemirror_mode": {
    "name": "ipython",
    "version": 3
   },
   "file_extension": ".py",
   "mimetype": "text/x-python",
   "name": "python",
   "nbconvert_exporter": "python",
   "pygments_lexer": "ipython3",
   "version": "3.7.6"
  }
 },
 "nbformat": 4,
 "nbformat_minor": 4
}
