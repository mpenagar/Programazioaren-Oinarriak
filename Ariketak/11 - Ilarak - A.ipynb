{
 "cells": [
  {
   "cell_type": "code",
   "execution_count": null,
   "metadata": {},
   "outputs": [],
   "source": [
    "class IlaraZirkularra(object):\n",
    "\n",
    "    def __init__(self,size,it=()):\n",
    "        self.z = \n",
    "        self.len = 0\n",
    "        self.front =\n",
    "        self.back =\n",
    "        for x in it :\n",
    "            self.enqueue(x)\n",
    "    \n",
    "    def enqueue(self,value):\n",
    "        self.z.append(value)\n",
    "\n",
    "    def front(self):\n",
    "        return self.z[0]\n",
    "    \n",
    "    def dequeue(self):\n",
    "       return self.z.pop(0)\n",
    "    \n",
    "    def __len__(self):\n",
    "        return len(self.z)\n",
    "    \n",
    "    def isFull(self):\n",
    "        return False\n",
    "    \n",
    "    def __iter__(self):\n",
    "        while self :\n",
    "            yield self.dequeue()\n",
    "    \n",
    "    def __str__(self):\n",
    "        return str(self.z)\n",
    "    \n",
    "    def __repr__(self):\n",
    "        return f'Queue({repr(self.z)})'\n",
    "\n",
    "    def __eq__(self,other):\n",
    "        return type(other) == Queue and self.z == other.z"
   ]
  }
 ],
 "metadata": {
  "kernelspec": {
   "display_name": "Python 3",
   "language": "python",
   "name": "python3"
  },
  "language_info": {
   "codemirror_mode": {
    "name": "ipython",
    "version": 3
   },
   "file_extension": ".py",
   "mimetype": "text/x-python",
   "name": "python",
   "nbconvert_exporter": "python",
   "pygments_lexer": "ipython3",
   "version": "3.7.6"
  }
 },
 "nbformat": 4,
 "nbformat_minor": 4
}
