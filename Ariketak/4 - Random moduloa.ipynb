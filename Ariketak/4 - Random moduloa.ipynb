{
 "cells": [
  {
   "cell_type": "markdown",
   "metadata": {},
   "source": [
    "## 2\n",
    "random moduloko random funtzioa edo aurreko edozein funtzio erabiliz, sortu ezazu `range(start,stop[,step])` sekuentziako auzazko zenbaki osoa bueltatuko duen `randrange(start,stop[,step])` funtzioa."
   ]
  },
  {
   "cell_type": "code",
   "execution_count": null,
   "metadata": {},
   "outputs": [],
   "source": [
    "def randrange(start,stop,step=1]):\n",
    "    z = [] <-- range(start,stop,step)"
   ]
  }
 ],
 "metadata": {
  "kernelspec": {
   "display_name": "Python 3",
   "language": "python",
   "name": "python3"
  },
  "language_info": {
   "codemirror_mode": {
    "name": "ipython",
    "version": 3
   },
   "file_extension": ".py",
   "mimetype": "text/x-python",
   "name": "python",
   "nbconvert_exporter": "python",
   "pygments_lexer": "ipython3",
   "version": "3.7.6"
  }
 },
 "nbformat": 4,
 "nbformat_minor": 4
}
