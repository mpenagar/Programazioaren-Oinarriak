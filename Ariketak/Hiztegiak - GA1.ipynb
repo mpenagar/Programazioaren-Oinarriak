{
 "cells": [
  {
   "cell_type": "markdown",
   "metadata": {},
   "source": [
    "### 7\n",
    " Matrize bat sakabanatua edo dispertsoa dela diogu bere balio gehienak 0 direnean. Matrize \n",
    "sakabanatuak adierazteko aukera bat hiztegiak erabiliz da, 0-ren ezberdinak diren balioak \n",
    "soilik adieraziz eta gako moduan (i,j) indize bikoteak erabiliz. Adibidez: A = [ [0,0,3.7,0], [-\n",
    "1.4,0,0,5.21], [0,0,0,1.5], [2.04,1.92,0,0] ] matrizea ondoko hiztegiaren bidez adierazi \n",
    "genezake: { (0,2): 3.7, (1,0): -1.4, (1,3): 5.21, (2,3): 1.5, (3,0): 2.04, (3,1): 1.92 }. Sortu itzazu \n",
    "ondoko funtzioak:\n",
    "1. Matrize dispertso bat pantailatik idatzi (bere eduki osoa, 0-ak barne)\n",
    "1. Bi matrizeen batura\n",
    "1. Bi matrizeen biderkarura"
   ]
  },
  {
   "cell_type": "code",
   "execution_count": 2,
   "metadata": {},
   "outputs": [],
   "source": [
    "def dimentsioa(M):\n",
    "    pass\n",
    "\n",
    "def idatzi(M):\n",
    "    pass\n",
    "\n",
    "\n",
    "A = { (0,2): 3.7, (1,0): -1.4, (1,3): 5.21, (2,3): 1.5, (3,0): 2.04, (3,1): 1.92 }\n",
    "idatzi(A)"
   ]
  }
 ],
 "metadata": {
  "kernelspec": {
   "display_name": "Python 3",
   "language": "python",
   "name": "python3"
  },
  "language_info": {
   "codemirror_mode": {
    "name": "ipython",
    "version": 3
   },
   "file_extension": ".py",
   "mimetype": "text/x-python",
   "name": "python",
   "nbconvert_exporter": "python",
   "pygments_lexer": "ipython3",
   "version": "3.7.6"
  }
 },
 "nbformat": 4,
 "nbformat_minor": 4
}
