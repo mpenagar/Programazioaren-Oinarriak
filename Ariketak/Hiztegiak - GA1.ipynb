{
 "cells": [
  {
   "cell_type": "markdown",
   "metadata": {},
   "source": [
    "### 7\n",
    " Matrize bat sakabanatua edo dispertsoa dela diogu bere balio gehienak 0 direnean. Matrize \n",
    "sakabanatuak adierazteko aukera bat hiztegiak erabiliz da, 0-ren ezberdinak diren balioak \n",
    "soilik adieraziz eta gako moduan (i,j) indize bikoteak erabiliz. Adibidez: A = [ [0,0,3.7,0], [-\n",
    "1.4,0,0,5.21], [0,0,0,1.5], [2.04,1.92,0,0] ] matrizea ondoko hiztegiaren bidez adierazi \n",
    "genezake: { (0,2): 3.7, (1,0): -1.4, (1,3): 5.21, (2,3): 1.5, (3,0): 2.04, (3,1): 1.92 }. Sortu itzazu \n",
    "ondoko funtzioak:\n",
    "1. Matrize dispertso bat pantailatik idatzi (bere eduki osoa, 0-ak barne)\n",
    "1. Bi matrizeen batura\n",
    "1. Bi matrizeen biderkarura"
   ]
  },
  {
   "cell_type": "code",
   "execution_count": 4,
   "metadata": {},
   "outputs": [
    {
     "name": "stdout",
     "output_type": "stream",
     "text": [
      "5\n",
      "(3, 1)\n"
     ]
    }
   ],
   "source": [
    "A = { (0,2): 3.7, (1,0): -1.4, (1,3): 5.21, (2,3): 1.5, (3,0): 2.04, (3,1): 1.92 }\n",
    "print(max([1,2,3,4,5,4,3,2]))\n",
    "print(max(A))\n"
   ]
  },
  {
   "cell_type": "code",
   "execution_count": 23,
   "metadata": {},
   "outputs": [
    {
     "name": "stdout",
     "output_type": "stream",
     "text": [
      "(5, 4)\n",
      "0\t0\t3.7\t0\n",
      "0\t0\t0\t5.21\n",
      "0\t0\t0\t1.5\n",
      "2.04\t1.92\t0\t0\n",
      "-1.4\t0\t0\t0\n"
     ]
    }
   ],
   "source": [
    "def dimentsioa(M):\n",
    "    imax,jmax = next(iter(M))\n",
    "    for i,j in M :\n",
    "        if i > imax :\n",
    "            imax = i\n",
    "        if j > jmax :\n",
    "            jmax = j\n",
    "    return imax+1,jmax+1\n",
    "\n",
    "def idatzi(M):\n",
    "    I,J = dimentsioa(M)\n",
    "    X = []\n",
    "    for _ in range(I):\n",
    "        X.append([0]*J)\n",
    "    for (i,j),v in M.items():\n",
    "        X[i][j] = v\n",
    "    for z in X:        \n",
    "        print(*z, sep=\"\\t\")\n",
    "        \n",
    "def idatzi(M):\n",
    "    I,J = dimentsioa(M)\n",
    "    J -= 1\n",
    "    for i in range(I):\n",
    "        for j in range(J):\n",
    "            print(M.get((i,j),0),end=\"\\t\")\n",
    "        print(M.get((i,J),0),end=\"\\n\")\n",
    "\n",
    "A = { (0,2): 3.7, (4,0): -1.4, (1,3): 5.21, (2,3): 1.5, (3,0): 2.04, (3,1): 1.92 }\n",
    "print(dimentsioa(A))\n",
    "# 0 0 3.7 0\n",
    "# 0 0 0 5.21\n",
    "# 0 0 0 1.5\n",
    "# 2.04 1.92 0 0\n",
    "# -1.4 0 0 0 \n",
    "idatzi(A)"
   ]
  }
 ],
 "metadata": {
  "kernelspec": {
   "display_name": "Python 3",
   "language": "python",
   "name": "python3"
  },
  "language_info": {
   "codemirror_mode": {
    "name": "ipython",
    "version": 3
   },
   "file_extension": ".py",
   "mimetype": "text/x-python",
   "name": "python",
   "nbconvert_exporter": "python",
   "pygments_lexer": "ipython3",
   "version": "3.7.6"
  }
 },
 "nbformat": 4,
 "nbformat_minor": 4
}
