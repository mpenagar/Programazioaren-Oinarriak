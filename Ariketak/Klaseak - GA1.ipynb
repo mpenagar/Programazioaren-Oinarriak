{
 "cells": [
  {
   "cell_type": "markdown",
   "metadata": {},
   "source": [
    "# 1\n",
    "Point klasea. Plano batetako puntu bat adierazten duen klasea. Ondoko funtzioak \n",
    "sortu:\n",
    "* `__init__(self,x,y)`\n",
    "* `__str__(self)` eta `__repr__(self)`\n",
    "* `__add__(self,other)` eta `__sub__(self,other)` \n",
    "* translate(self,dx,dy) : puntu bat transladatuko du. Funtzioak ez du ezer  bueltatzen, puntua aldatzen du soilik.\n",
    "* rotate(self,other,angle) : jasotako puntua (other) ardatz moduan harturik, bere buruaren errotazioa egingo du emandako angeluaren arabera. Funtzioak ez du  ezer bueltatzen, puntua aldatzen du soili"
   ]
  },
  {
   "cell_type": "code",
   "execution_count": 19,
   "metadata": {},
   "outputs": [],
   "source": [
    "class Point(object):\n",
    "    \"\"\"A 2-dimensional point\"\"\"\n",
    "    \n",
    "    def __init__(self,x=0,y=0):\n",
    "        self.x = x\n",
    "        self.y = y\n",
    "\n",
    "    def __str__(self):\n",
    "        return f'({self.x},{self.y})'  \n",
    "    \n",
    "    def __repr__(self):\n",
    "        return f'Point({self.x},{self.y})'\n",
    "    \n",
    "    def __eq__(self,other):\n",
    "        return self.x == other.x and self.y == other.y\n",
    "    \n",
    "    def __ne__(self,other):\n",
    "        return self.x != other.x or self.y != other.y\n",
    "    \n",
    "    def __add__(self,other):\n",
    "        return Point(self.x+other.x,self.y+other.y)\n",
    "    \n",
    "    def __sub__(self,other):\n",
    "        return Point(self.x-other.x,self.y-other.y)\n",
    "    \n",
    "    def translate(self,dx,dy):\n",
    "        pass\n",
    "    \n",
    "    def rotate(self,other,angle):\n",
    "        pass\n",
    "    \n",
    "    def copy(self):\n",
    "        #return eval(repr(self))\n",
    "        return Point(self.x,self.y)"
   ]
  },
  {
   "cell_type": "markdown",
   "metadata": {},
   "source": [
    "# 2\n",
    "Triangle klasea. Plano batetako triangelu bat adierazten duen klasea. Ondoko \n",
    "funtzioak sortu:\n",
    "* `__init__(self,point1,point2,point3)` : triangelu bat hasieratzen du, bere hiru erpinak errepresentatzen dituzten 3 puntuak erabiliz.\n",
    "* `translate(self,dx,dy)` : triangegu osoa transladatuko du. Funtzioak ez du ezer bueltatzen, triangelua aldatzen du soilik.\n",
    "* `rotate(self,point,angle)` : jasotako puntua ardatz moduan harturik, bere buruaren errotazioa egingo du emandako angeluaren arabera. Funtzioak ez du ezer bueltatzen, triangelua aldatzen du soilik."
   ]
  },
  {
   "cell_type": "code",
   "execution_count": 17,
   "metadata": {},
   "outputs": [],
   "source": [
    "class Triangle(object):\n",
    "    \n",
    "    def __init__(self,point1,point2,point3):\n",
    "        self.a = point1.copy()\n",
    "        self.b = point2.copy()\n",
    "        self.c = point3.copy()\n",
    "    \n",
    "    def translate(self,dx,dy):\n",
    "        pass\n",
    "    \n",
    "    def rotate(self,point,angle):\n",
    "        pass"
   ]
  },
  {
   "cell_type": "code",
   "execution_count": 18,
   "metadata": {},
   "outputs": [
    {
     "name": "stdout",
     "output_type": "stream",
     "text": [
      "1\n",
      "1\n"
     ]
    }
   ],
   "source": [
    "p1 = Point(1,2)\n",
    "p2 = Point(2,3)\n",
    "p3 = Point(3,4)\n",
    "t = Triangle(p1,p2,p3)\n",
    "print(t.a.x)\n",
    "p1.x = -100\n",
    "print(t.a.x)"
   ]
  },
  {
   "cell_type": "code",
   "execution_count": null,
   "metadata": {},
   "outputs": [],
   "source": []
  }
 ],
 "metadata": {
  "kernelspec": {
   "display_name": "Python 3",
   "language": "python",
   "name": "python3"
  },
  "language_info": {
   "codemirror_mode": {
    "name": "ipython",
    "version": 3
   },
   "file_extension": ".py",
   "mimetype": "text/x-python",
   "name": "python",
   "nbconvert_exporter": "python",
   "pygments_lexer": "ipython3",
   "version": "3.7.6"
  }
 },
 "nbformat": 4,
 "nbformat_minor": 4
}
