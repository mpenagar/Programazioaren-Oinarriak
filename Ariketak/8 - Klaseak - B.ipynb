{
 "cells": [
  {
   "cell_type": "markdown",
   "metadata": {},
   "source": [
    "### 4\n",
    "\n",
    "MySet klasea. Multzo bat adierazten duen klasea (multzo batetan ezin da elementu errepikaturik gorde). Multzo bat inplementatzeko egitura aproposena Hash Taula bat bada ere, zerrenda bat erabili ariketa honetan. Ondoko funtzioak sortu:\n",
    "* __init__(self,it): Multzo bat hasieratuko du iteragarri baten elementu guztiekin\n",
    "* __iter__(self) : multzoko elementuen gaineko iteradore bat bueltatuko duen funtzioa\n",
    "* __str__(self) eta __repr__(self)\n",
    "* __len__(self): multzoko elementu kopurua bueltatzen du\n",
    "* __contains__(self,value) : multzoan balio bat ote dagoen konprobatzen du\n",
    "* add(self,value) : elementu berri bat gehitzen du multzo batetara, aurrez elementu hori ez bazegoen.\n",
    "* addall(self,it): iteragarri batetako elementu guztiak gehitzen dizkio\n",
    "* remove(self,value): elementu bat ezabatzen du\n",
    "* removeall(self,it): iteragarri batetako elementu guztiak ezabatzen ditu\n",
    "* __add__(self,other) : bi multzoen bilketa den multzo berria bueltatzen du.\n",
    "* __sub__(self,other) : multzoari beste multzoko elementu guztiak kentzean lortzen den multzo berria bueltatzen du.\n",
    "* __eq__(self,other) : multzoa beste multzo baten berdina ote den bueltatzen du.\n",
    "* __ne__(self,other) : multzoa beste multzo baten ezberdina ote den bueltatzen du."
   ]
  },
  {
   "cell_type": "code",
   "execution_count": 26,
   "metadata": {},
   "outputs": [
    {
     "name": "stdout",
     "output_type": "stream",
     "text": [
      "aaa 34 None 3245 23\n",
      "{'aaa', 34, None, 3245, 23}\n",
      "MySet(['aaa', 34, None, 3245, 23])\n",
      "{'aaa', 34, None, 3245, 23}\n",
      "True\n",
      "True\n",
      "False\n"
     ]
    }
   ],
   "source": [
    "class MySet(object):\n",
    "    def __init__(self,it=()):\n",
    "        self.z = []\n",
    "        self.addall(it)\n",
    "    def addall(self,it):\n",
    "        for x in it:\n",
    "            self.add(x)\n",
    "    def add(self,value):\n",
    "        if value not in self.z :\n",
    "            self.z.append(value)\n",
    "    def __iter__(self):\n",
    "        return (x for x in self.z)\n",
    "    def __iter__(self):\n",
    "        return iter(self.z)\n",
    "    def  __str__(self):\n",
    "        #return str(self.z)\n",
    "        return \"{\" + str(self.z)[1:-1] + \"}\"\n",
    "    def  __repr__(self):\n",
    "        return f\"MySet({repr(self.z)})\"\n",
    "    def __eq__(self,other):\n",
    "        return type(other) == MySet and len(self) == len(other) and all(x in other for x in self)\n",
    "    def __len__(self):\n",
    "        return len(self.z)\n",
    "    def __contains__(self,value):\n",
    "        return value in self.z\n",
    "\n",
    "s = MySet([\"aaa\",34,None,34,3245,23])\n",
    "print(*s)\n",
    "print(s)\n",
    "print(repr(s))\n",
    "print(eval(repr(s)))\n",
    "print(eval(repr(s)) == s)\n",
    "print( s == MySet([34,None,34,3245,23,\"aaa\"]))\n",
    "print( s == MySet())"
   ]
  },
  {
   "cell_type": "code",
   "execution_count": null,
   "metadata": {},
   "outputs": [],
   "source": []
  }
 ],
 "metadata": {
  "kernelspec": {
   "display_name": "Python 3",
   "language": "python",
   "name": "python3"
  },
  "language_info": {
   "codemirror_mode": {
    "name": "ipython",
    "version": 3
   },
   "file_extension": ".py",
   "mimetype": "text/x-python",
   "name": "python",
   "nbconvert_exporter": "python",
   "pygments_lexer": "ipython3",
   "version": "3.7.6"
  }
 },
 "nbformat": 4,
 "nbformat_minor": 4
}
