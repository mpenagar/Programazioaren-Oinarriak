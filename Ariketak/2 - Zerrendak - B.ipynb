{
 "cells": [
  {
   "cell_type": "code",
   "execution_count": 2,
   "metadata": {},
   "outputs": [
    {
     "name": "stdout",
     "output_type": "stream",
     "text": [
      "[1, 2, 3, 4]\n",
      "[1, 2, 3, 4]\n",
      "[1, 2, 3, 4, 5]\n",
      "[1, 2, 3, 4]\n"
     ]
    }
   ],
   "source": [
    "def append(z,x,inline=True):\n",
    "    if inline :\n",
    "        z.append(x)\n",
    "        return z\n",
    "    else :\n",
    "        z2 = z[:]\n",
    "        z2.append(x)\n",
    "        return z2\n",
    "    \n",
    "def append(z,x,inline=True):\n",
    "    if not inline :\n",
    "        z = z[:]\n",
    "    z.append(x)\n",
    "    return z\n",
    "    \n",
    "a = [1,2,3]\n",
    "print(append(a,4))\n",
    "print(a)\n",
    "print(append(a,5,False))\n",
    "print(a)\n",
    "\n",
    "    "
   ]
  },
  {
   "cell_type": "markdown",
   "metadata": {},
   "source": [
    "## 2.e\n",
    "Matrize bat fitxategi batetan gorde"
   ]
  },
  {
   "cell_type": "code",
   "execution_count": 5,
   "metadata": {},
   "outputs": [],
   "source": [
    "def gorde(m, bideizena, kodif=\"utf8\"):\n",
    "    f = open(bideizena, mode=\"wt\", encoding=kodif)\n",
    "    for z in m:\n",
    "        for x in z :\n",
    "            #f.write(str(x))\n",
    "            print(x,end=\" \",file=f)\n",
    "        #f.write(\"\\n\")\n",
    "        #print(\"\\n\",end=\"\",file=f)\n",
    "        print(file=f)    \n",
    "    f.close()\n",
    "\n",
    "def gorde(m, bideizena, kodif=\"utf8\"):\n",
    "    f = open(bideizena, mode=\"wt\", encoding=kodif)\n",
    "    for z in m:\n",
    "        print(*z,file=f)\n",
    "    f.close()\n",
    "    \n",
    "M = [[1,2,3],[4,5,6]]\n",
    "gorde(M,'matrizea.txt')"
   ]
  },
  {
   "cell_type": "markdown",
   "metadata": {},
   "source": [
    "## 2.f\n",
    "Fitxategi batetan dagoen matrizea kargatu"
   ]
  },
  {
   "cell_type": "code",
   "execution_count": null,
   "metadata": {},
   "outputs": [],
   "source": [
    "def kargatu(bideizena, kodif=\"utf8\"):\n",
    "    f = open(bideizena, mode=\"rt\", encoding=kodif)\n",
    "    for txt in f:\n",
    "        \n",
    "\n",
    "    f.close()\n",
    "    return m"
   ]
  }
 ],
 "metadata": {
  "kernelspec": {
   "display_name": "Python 3",
   "language": "python",
   "name": "python3"
  },
  "language_info": {
   "codemirror_mode": {
    "name": "ipython",
    "version": 3
   },
   "file_extension": ".py",
   "mimetype": "text/x-python",
   "name": "python",
   "nbconvert_exporter": "python",
   "pygments_lexer": "ipython3",
   "version": "3.7.6"
  }
 },
 "nbformat": 4,
 "nbformat_minor": 4
}
