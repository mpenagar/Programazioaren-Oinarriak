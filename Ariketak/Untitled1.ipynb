{
 "cells": [
  {
   "cell_type": "code",
   "execution_count": 26,
   "metadata": {},
   "outputs": [],
   "source": [
    "class IlaraZirkularra(object):\n",
    "    \n",
    "    def __init__(self, size, it=()):\n",
    "        self.__z = [None] * size\n",
    "        self.__len = 0\n",
    "        self.__front = 0\n",
    "        self.__back = -1\n",
    "        for x in it :\n",
    "            self.enqueue(x)\n",
    "            \n",
    "    def __next(self,i):\n",
    "        return (i+1) % len(self.__z)\n",
    "\n",
    "    def __check_not_full(self):\n",
    "        if self.__len == len(self.__z):\n",
    "            raise ValueError(\"Full Queue\")\n",
    "            \n",
    "    def __check_not_empty(self):\n",
    "        if not self.__len :\n",
    "            raise ValueError(\"Empty Queue\")\n",
    "\n",
    "    def enqueue(self, value):\n",
    "        self.__check_not_full()\n",
    "        self.__back = self.__next(self.__back)\n",
    "        self.__z[self.__back] = value\n",
    "        self.__len += 1\n",
    "                \n",
    "    def dequeue(self):\n",
    "        self.__check_not_empty()\n",
    "        value = self.__z[self.__front]\n",
    "        self.__front = self.__next(self.__front)\n",
    "        self.__len -= 1       \n",
    "        return value\n",
    "    \n",
    "    def front(self):\n",
    "        self.__check_not_empty()\n",
    "        return self.__z[self.__front]\n",
    "    \n",
    "    def __len__(self):\n",
    "        return self.__len\n",
    "    \n",
    "    def isFull(self):\n",
    "        return self.__len == len(self.__z)\n",
    "        \n",
    "    def __iter__(self):\n",
    "        while self :\n",
    "            value = self.dequeue()\n",
    "            yield value"
   ]
  },
  {
   "cell_type": "code",
   "execution_count": 28,
   "metadata": {},
   "outputs": [
    {
     "name": "stdout",
     "output_type": "stream",
     "text": [
      "a b c d\n",
      "[]\n"
     ]
    }
   ],
   "source": [
    "q = IlaraZirkularra(7,\"abcd\")\n",
    "print(*q)\n",
    "print(list(q))"
   ]
  },
  {
   "cell_type": "code",
   "execution_count": 5,
   "metadata": {},
   "outputs": [
    {
     "data": {
      "text/plain": [
       "[0, 1, 2, 3, None, None, None]"
      ]
     },
     "execution_count": 5,
     "metadata": {},
     "output_type": "execute_result"
    }
   ],
   "source": []
  }
 ],
 "metadata": {
  "kernelspec": {
   "display_name": "Python 3",
   "language": "python",
   "name": "python3"
  },
  "language_info": {
   "codemirror_mode": {
    "name": "ipython",
    "version": 3
   },
   "file_extension": ".py",
   "mimetype": "text/x-python",
   "name": "python",
   "nbconvert_exporter": "python",
   "pygments_lexer": "ipython3",
   "version": "3.7.6"
  }
 },
 "nbformat": 4,
 "nbformat_minor": 4
}
