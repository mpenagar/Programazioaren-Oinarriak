{
 "cells": [
  {
   "cell_type": "markdown",
   "metadata": {},
   "source": [
    "## 1\n",
    "Point klasea. Plano batetako puntu bat adierazten duen klasea. Ondoko funtzioak sortu:\n",
    " __init__(self,x,y)\n",
    " __str__(self) eta __repr__(self)\n",
    " __add__(self,other) eta __sub__(self,other)\n",
    " translate(self,dx,dy) : puntu bat transladatuko du. Funtzioak ez du ezer bueltatzen, puntua aldatzen du soilik.\n",
    " rotate(self,other,angle) : jasotako puntua (other) ardatz moduan harturik, bere buruaren errotazioa egingo du emandako angeluaren arabera. Funtzioak ez du ezer bueltatzen, puntua aldatzen du soilik."
   ]
  },
  {
   "cell_type": "code",
   "execution_count": null,
   "metadata": {},
   "outputs": [],
   "source": [
    "class Point(object):\n",
    "    def __init__(self,x,y):\n",
    "        pass\n",
    "    \n",
    "    \n",
    "    \n"
   ]
  },
  {
   "cell_type": "markdown",
   "metadata": {},
   "source": [
    "##2\n",
    "Triangle klasea. Plano batetako triangelu bat adierazten duen klasea. Ondoko funtzioak sortu:\n",
    " __init__(self,point1,point2,point3) : triangelu bat hasieratzen du, bere hiru erpinak errepresentatzen dituzten 3 puntuak erabiliz.\n",
    " translate(self,dx,dy) : triangegu osoa transladatuko du. Funtzioak ez du ezer bueltatzen, triangelua aldatzen du soilik.\n",
    " rotate(self,point,angle) : jasotako puntua ardatz moduan harturik, bere buruaren errotazioa egingo du emandako angeluaren arabera. Funtzioak ez du ezer bueltatzen, triangelua aldatzen du soilik."
   ]
  },
  {
   "cell_type": "code",
   "execution_count": 1,
   "metadata": {},
   "outputs": [
    {
     "ename": "NameError",
     "evalue": "name 'Point' is not defined",
     "output_type": "error",
     "traceback": [
      "\u001b[0;31m\u001b[0m",
      "\u001b[0;31mNameError\u001b[0mTraceback (most recent call last)",
      "\u001b[0;32m<ipython-input-1-fadf8c14c27e>\u001b[0m in \u001b[0;36m<module>\u001b[0;34m\u001b[0m\n\u001b[1;32m     17\u001b[0m             \u001b[0mp\u001b[0m\u001b[0;34m.\u001b[0m\u001b[0mrotate\u001b[0m\u001b[0;34m(\u001b[0m\u001b[0mpoint\u001b[0m\u001b[0;34m,\u001b[0m\u001b[0mangle\u001b[0m\u001b[0;34m)\u001b[0m\u001b[0;34m\u001b[0m\u001b[0;34m\u001b[0m\u001b[0m\n\u001b[1;32m     18\u001b[0m \u001b[0;34m\u001b[0m\u001b[0m\n\u001b[0;32m---> 19\u001b[0;31m \u001b[0mp1\u001b[0m \u001b[0;34m=\u001b[0m \u001b[0mPoint\u001b[0m\u001b[0;34m(\u001b[0m\u001b[0;36m2\u001b[0m\u001b[0;34m,\u001b[0m\u001b[0;36m3\u001b[0m\u001b[0;34m)\u001b[0m\u001b[0;34m\u001b[0m\u001b[0;34m\u001b[0m\u001b[0m\n\u001b[0m\u001b[1;32m     20\u001b[0m \u001b[0mp2\u001b[0m \u001b[0;34m=\u001b[0m \u001b[0mPoint\u001b[0m\u001b[0;34m(\u001b[0m\u001b[0;36m4\u001b[0m\u001b[0;34m,\u001b[0m\u001b[0;36m6\u001b[0m\u001b[0;34m)\u001b[0m\u001b[0;34m\u001b[0m\u001b[0;34m\u001b[0m\u001b[0m\n\u001b[1;32m     21\u001b[0m \u001b[0mp3\u001b[0m \u001b[0;34m=\u001b[0m \u001b[0mPoint\u001b[0m\u001b[0;34m(\u001b[0m\u001b[0;36m8\u001b[0m\u001b[0;34m,\u001b[0m\u001b[0;36m14\u001b[0m\u001b[0;34m)\u001b[0m\u001b[0;34m\u001b[0m\u001b[0;34m\u001b[0m\u001b[0m\n",
      "\u001b[0;31mNameError\u001b[0m: name 'Point' is not defined"
     ]
    }
   ],
   "source": [
    "class Triangle(object):\n",
    "    \n",
    "    def __init__(self,point1,point2,point3):\n",
    "        #self.a = point1\n",
    "        #self.b = point2\n",
    "        #self.c = point3\n",
    "        self.p = (point1,point2,point3)\n",
    "        #self.p = [point1,point2,point3]\n",
    "        #self.p = {point1,point2,point3}\n",
    "    \n",
    "    def translate(self,dx,dy):\n",
    "        for p in self.p :\n",
    "            p.translate(dx,dy)\n",
    "    \n",
    "    def rotate(self,point,angle):\n",
    "        for p in self.p :\n",
    "            p.rotate(point,angle) \n",
    "            \n",
    "p1 = Point(2,3)\n",
    "p2 = Point(4,6)\n",
    "p3 = Point(8,14)\n",
    "t = Triangle(p1,p2,p3)\n",
    "t.translate(dx,dy)\n",
    "t.rotate(Point(0,0),0.78)\n"
   ]
  },
  {
   "cell_type": "code",
   "execution_count": null,
   "metadata": {},
   "outputs": [],
   "source": []
  }
 ],
 "metadata": {
  "kernelspec": {
   "display_name": "Python 3",
   "language": "python",
   "name": "python3"
  },
  "language_info": {
   "codemirror_mode": {
    "name": "ipython",
    "version": 3
   },
   "file_extension": ".py",
   "mimetype": "text/x-python",
   "name": "python",
   "nbconvert_exporter": "python",
   "pygments_lexer": "ipython3",
   "version": "3.7.6"
  }
 },
 "nbformat": 4,
 "nbformat_minor": 4
}
