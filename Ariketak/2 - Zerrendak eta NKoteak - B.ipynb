{
 "cells": [
  {
   "cell_type": "markdown",
   "metadata": {},
   "source": [
    "### 1\n",
    "Demagun n dimentsiotako bektoreak zerrenda edo n-kote baten bitartez errepresentatzen ditugula. Idatzi ondoko eragiketak kalkulatuko dituzten funtzioak:"
   ]
  },
  {
   "cell_type": "markdown",
   "metadata": {},
   "source": [
    "\n",
    "**a) Bektore baten moduloa**"
   ]
  },
  {
   "cell_type": "code",
   "execution_count": 22,
   "metadata": {},
   "outputs": [],
   "source": [
    "from math import sqrt\n",
    "\n",
    "def moduloa(a):\n",
    "    return sqrt(biderkadura_eskalarra(a,a))"
   ]
  },
  {
   "cell_type": "markdown",
   "metadata": {},
   "source": [
    "**d) Bi bektoreen arteko biderkadura eskalarra**"
   ]
  },
  {
   "cell_type": "code",
   "execution_count": 23,
   "metadata": {},
   "outputs": [],
   "source": [
    "def biderkadura_eskalarra(a,b):\n",
    "    e = 0\n",
    "    for x,y in zip(a,b):\n",
    "        e += x*y\n",
    "    return e"
   ]
  },
  {
   "cell_type": "code",
   "execution_count": 24,
   "metadata": {},
   "outputs": [
    {
     "data": {
      "text/plain": [
       "285"
      ]
     },
     "execution_count": 24,
     "metadata": {},
     "output_type": "execute_result"
    }
   ],
   "source": [
    "sum(x**2 for x in range(10))"
   ]
  },
  {
   "cell_type": "code",
   "execution_count": 25,
   "metadata": {},
   "outputs": [],
   "source": [
    "def biderkadura_eskalarra(a,b):\n",
    "    return sum(x*y for x,y in zip(a,b))"
   ]
  },
  {
   "cell_type": "code",
   "execution_count": 26,
   "metadata": {},
   "outputs": [
    {
     "data": {
      "text/plain": [
       "9"
      ]
     },
     "execution_count": 26,
     "metadata": {},
     "output_type": "execute_result"
    }
   ],
   "source": [
    "biderkadura_eskalarra([1,2,3],[2,2,1])"
   ]
  },
  {
   "cell_type": "markdown",
   "metadata": {},
   "source": [
    "**f) Bi bektoreen arteko angelua**"
   ]
  },
  {
   "cell_type": "code",
   "execution_count": 27,
   "metadata": {},
   "outputs": [
    {
     "name": "stdout",
     "output_type": "stream",
     "text": [
      "1.2238794292677349\n",
      "1.2238794292677349\n"
     ]
    }
   ],
   "source": [
    "import math\n",
    "print(math.acos(0.34))\n",
    "from math import acos\n",
    "print(acos(0.34))"
   ]
  },
  {
   "cell_type": "code",
   "execution_count": 28,
   "metadata": {},
   "outputs": [],
   "source": [
    "def angelua(a,b):\n",
    "    x = biderkadura_eskalarra(a,b)/moduloa(a)/moduloa(b)\n",
    "    if x > 1.0 :\n",
    "        # Errore numerikoa... 1.00000000000001\n",
    "        x = 1.0\n",
    "    return acos(x)"
   ]
  },
  {
   "cell_type": "code",
   "execution_count": 32,
   "metadata": {},
   "outputs": [
    {
     "data": {
      "text/plain": [
       "0.0"
      ]
     },
     "execution_count": 32,
     "metadata": {},
     "output_type": "execute_result"
    }
   ],
   "source": [
    "angelua([0,1],[1,0]) - (math.pi/2)"
   ]
  },
  {
   "cell_type": "markdown",
   "metadata": {},
   "source": [
    "### 2\n",
    "Demagun nxm tamainako matrizeak zerrenden (edo n-koteen) zerrenda (edo n-kote) baten bitartez errepresentatzen ditugula. Idatzi ondoko eragiketak kalkulatuko dituzten funtzioak:"
   ]
  },
  {
   "cell_type": "markdown",
   "metadata": {},
   "source": [
    "**d) Matrize bat pantailatik idatzi**"
   ]
  },
  {
   "cell_type": "code",
   "execution_count": 41,
   "metadata": {},
   "outputs": [],
   "source": [
    "def printm(M):\n",
    "    for i in range(len(M)):\n",
    "        for j in range(len(M[0])):\n",
    "            print(M[i][j],end=' ')\n",
    "        print()"
   ]
  },
  {
   "cell_type": "code",
   "execution_count": 43,
   "metadata": {},
   "outputs": [],
   "source": [
    "def printm(M):\n",
    "    for z in M:\n",
    "        for x in z:\n",
    "            print(x,end=' ')\n",
    "        print()"
   ]
  },
  {
   "cell_type": "code",
   "execution_count": 64,
   "metadata": {},
   "outputs": [],
   "source": [
    "def printm(M):\n",
    "    for z in M:\n",
    "        print(*z)\n",
    "    print()"
   ]
  },
  {
   "cell_type": "code",
   "execution_count": 65,
   "metadata": {},
   "outputs": [],
   "source": [
    "def printmEZ(M):\n",
    "    print(*M,sep='\\n')"
   ]
  },
  {
   "cell_type": "code",
   "execution_count": 71,
   "metadata": {
    "scrolled": true
   },
   "outputs": [
    {
     "name": "stdout",
     "output_type": "stream",
     "text": [
      "[[1, 2, 3], [4, 5, 6]]\n",
      "1 2 3\n",
      "4 5 6\n",
      "\n"
     ]
    }
   ],
   "source": [
    "A = [[1,2,3],[4,5,6]]\n",
    "print(A)\n",
    "printm(A)"
   ]
  },
  {
   "cell_type": "markdown",
   "metadata": {},
   "source": [
    "**b) Matrize baten kopia**"
   ]
  },
  {
   "cell_type": "code",
   "execution_count": 73,
   "metadata": {},
   "outputs": [
    {
     "name": "stdout",
     "output_type": "stream",
     "text": [
      "1 2 3\n",
      "4 5 6\n",
      "\n",
      "1 2 3\n",
      "4 5 6\n",
      "\n",
      "100 2 3\n",
      "4 5 6\n",
      "\n",
      "1 2 3\n",
      "4 5 6\n",
      "\n"
     ]
    },
    {
     "data": {
      "text/plain": [
       "(False, False)"
      ]
     },
     "execution_count": 73,
     "metadata": {},
     "output_type": "execute_result"
    }
   ],
   "source": [
    "def copy(M):\n",
    "    A = []\n",
    "    for z in M:\n",
    "        A.append(z[:])\n",
    "    return A\n",
    "\n",
    "# Aurrerago ikusiko ditugum gauzak...\n",
    "def copy(M):\n",
    "    return list(z[:] for z in M)\n",
    "def copy(M):\n",
    "    return [z[:] for z in M]\n",
    "\n",
    "\n",
    "A = [[1,2,3],[4,5,6]]\n",
    "B = copy(A)\n",
    "printm(A)\n",
    "printm(B)\n",
    "A[0][0] = 100\n",
    "printm(A)\n",
    "printm(B)\n",
    "A is B , A[0] is B[0]"
   ]
  },
  {
   "cell_type": "code",
   "execution_count": null,
   "metadata": {},
   "outputs": [],
   "source": []
  }
 ],
 "metadata": {
  "kernelspec": {
   "display_name": "Python 3",
   "language": "python",
   "name": "python3"
  },
  "language_info": {
   "codemirror_mode": {
    "name": "ipython",
    "version": 3
   },
   "file_extension": ".py",
   "mimetype": "text/x-python",
   "name": "python",
   "nbconvert_exporter": "python",
   "pygments_lexer": "ipython3",
   "version": "3.7.6"
  }
 },
 "nbformat": 4,
 "nbformat_minor": 4
}
