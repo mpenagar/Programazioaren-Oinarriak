{
 "cells": [
  {
   "cell_type": "markdown",
   "metadata": {},
   "source": [
    "### 1\n",
    "random moduloko random funtzioa soilik erabiliz, sortu ezazu `[a,b]` tartean uniformekibanatutako zenbaki osoa bueltatuko duen `randint(a,b)` funtzioa."
   ]
  },
  {
   "cell_type": "code",
   "execution_count": 50,
   "metadata": {},
   "outputs": [
    {
     "name": "stdout",
     "output_type": "stream",
     "text": [
      "(10, 1672)\n",
      "(11, 1584)\n",
      "(12, 1693)\n",
      "(13, 1681)\n",
      "(14, 1656)\n",
      "(15, 1714)\n"
     ]
    }
   ],
   "source": [
    "from random import random\n",
    "def randint_aux(n):\n",
    "    return round(random()*(n+1)-0.5)\n",
    "def randint(a,b):\n",
    "    return randint_aux(b-a)+a\n",
    "\n",
    "\n",
    "\n",
    "z = [randint(10,15) for i in range(10000)]\n",
    "h = {}\n",
    "for x in z :\n",
    "    h[x] = h.get(x,0)+1\n",
    "print(*sorted(h.items()),sep='\\n')"
   ]
  },
  {
   "cell_type": "code",
   "execution_count": 51,
   "metadata": {},
   "outputs": [
    {
     "name": "stdout",
     "output_type": "stream",
     "text": [
      "(10, 1647)\n",
      "(11, 1647)\n",
      "(12, 1633)\n",
      "(13, 1655)\n",
      "(14, 1647)\n",
      "(15, 1771)\n"
     ]
    }
   ],
   "source": [
    "from random import random\n",
    "def randint_aux(n):\n",
    "    return int(random()*(n+1))\n",
    "def randint(a,b):\n",
    "    return randint_aux(b-a)+a\n",
    "\n",
    "z = [randint(10,15) for i in range(10000)]\n",
    "h = {}\n",
    "for x in z :\n",
    "    h[x] = h.get(x,0)+1\n",
    "print(*sorted(h.items()),sep='\\n')"
   ]
  },
  {
   "cell_type": "markdown",
   "metadata": {},
   "source": [
    "### 5 \n",
    "random moduloko random funtzioa edo aurreko edozein funtzio erabiliz, sortu ezazu population elementu sekuentziatik auzazko k elementu dituen zerrenda bueltatuko duen `sample(population, k)` funtzioa."
   ]
  },
  {
   "cell_type": "code",
   "execution_count": 92,
   "metadata": {},
   "outputs": [
    {
     "data": {
      "text/plain": [
       "[0, 2, 3, 4, 5, 6, 7, 8, 9]"
      ]
     },
     "execution_count": 92,
     "metadata": {},
     "output_type": "execute_result"
    }
   ],
   "source": [
    "def sample(population, k):\n",
    "        n = len(population)\n",
    "        z = []\n",
    "        while k :\n",
    "            i = randint_aux(n-1)\n",
    "            if i not in z :\n",
    "                z.append(i)\n",
    "                k -= 1\n",
    "        return [population[i] for i in z]\n",
    "    \n",
    "def sample(population, k):\n",
    "        s = set()\n",
    "        n = len(population)-1\n",
    "        while len(s)<k :\n",
    "            s.add(randint_aux(n))\n",
    "        return [population[i] for i in s]\n",
    "\n",
    "    \n",
    "sample(range(10),9)\n",
    "        "
   ]
  }
 ],
 "metadata": {
  "kernelspec": {
   "display_name": "Python 3",
   "language": "python",
   "name": "python3"
  },
  "language_info": {
   "codemirror_mode": {
    "name": "ipython",
    "version": 3
   },
   "file_extension": ".py",
   "mimetype": "text/x-python",
   "name": "python",
   "nbconvert_exporter": "python",
   "pygments_lexer": "ipython3",
   "version": "3.7.6"
  }
 },
 "nbformat": 4,
 "nbformat_minor": 4
}
