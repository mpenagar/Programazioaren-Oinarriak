{
 "cells": [
  {
   "cell_type": "markdown",
   "metadata": {},
   "source": [
    "### 4\n",
    "random moduloko random funtzioa edo aurreko edozein funtzio erabiliz, sortu ezazu seq sekuentzia aldakorreko elementuak auzazki nahastuko dituen `shuffle(seq)` funtzioa"
   ]
  },
  {
   "cell_type": "code",
   "execution_count": 64,
   "metadata": {},
   "outputs": [
    {
     "name": "stdout",
     "output_type": "stream",
     "text": [
      "2 0 4 8 7 6 1 5 9 3\n",
      "1 5 0 2 3 7 9 8 4 6\n",
      "0 1 7 2 8 3 6 5 4 9\n"
     ]
    }
   ],
   "source": [
    "from random import randint\n",
    "\n",
    "def shuffle1(s):\n",
    "    z = []\n",
    "    for j in range(len(s)-1,-1,-1):\n",
    "        i = randint(0,j)\n",
    "        z.append(s.pop(i))\n",
    "    s.extend(z)\n",
    "\n",
    "def shuffle2(s):\n",
    "    x = list(s)\n",
    "    z = []\n",
    "    for j in range(len(x)-1,-1,-1):\n",
    "        i = randint(0,j)\n",
    "        z.append(x.pop(i))\n",
    "    x.extend(z)\n",
    "    for i,v in enumerate(x):\n",
    "        s[i] = v\n",
    "\n",
    "def shuffle3(s):\n",
    "    n = len(s)\n",
    "    for i in range(n-1):\n",
    "        j = randint(i,n-1)\n",
    "        s[i],s[j] = s[j],s[i]\n",
    "        \n",
    "S = list(range(10))\n",
    "shuffle1(S)\n",
    "print(*S)\n",
    "shuffle2(S)\n",
    "print(*S)\n",
    "shuffle3(S)\n",
    "print(*S)"
   ]
  }
 ],
 "metadata": {
  "kernelspec": {
   "display_name": "Python 3",
   "language": "python",
   "name": "python3"
  },
  "language_info": {
   "codemirror_mode": {
    "name": "ipython",
    "version": 3
   },
   "file_extension": ".py",
   "mimetype": "text/x-python",
   "name": "python",
   "nbconvert_exporter": "python",
   "pygments_lexer": "ipython3",
   "version": "3.7.6"
  }
 },
 "nbformat": 4,
 "nbformat_minor": 4
}
