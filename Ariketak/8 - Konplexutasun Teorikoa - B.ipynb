{
 "cells": [
  {
   "cell_type": "markdown",
   "metadata": {},
   "source": [
    "## 9\n",
    "Hiztegi edo multzorik erabili gabe, zerrenda batetan errepikatuak (bi edo gehiagotan)\n",
    "agertzen diren elementu ezberdinen kopurua."
   ]
  },
  {
   "cell_type": "code",
   "execution_count": 6,
   "metadata": {},
   "outputs": [
    {
     "data": {
      "text/plain": [
       "3"
      ]
     },
     "execution_count": 6,
     "metadata": {},
     "output_type": "execute_result"
    }
   ],
   "source": [
    "def errepikatu_kopurua(z):\n",
    "    k = 0\n",
    "    while z :\n",
    "        x = z[0]\n",
    "        a = z.count(x)\n",
    "        if a > 1 :\n",
    "            k +=1\n",
    "        for _ in range(a):\n",
    "            z.remove(x)\n",
    "    return k\n",
    "\n",
    "def errepikatu_kopurua(z):\n",
    "    z_aux = []\n",
    "    for x in z :\n",
    "        if z.count(x)>1 and x not in z_aux :\n",
    "            z_aux.append(x)\n",
    "    return len(z_aux)\n",
    "\n",
    "\n",
    "errepikatu_kopurua([1,2,3,1,2,3,4,5,1])"
   ]
  },
  {
   "cell_type": "markdown",
   "metadata": {},
   "source": [
    "## 10\n",
    "Hiztegi edo multzoak erabiliz, zerrenda batetean errepikatuak (bi edo gehiagotan) agertzen\n",
    "diren elementu ezberdinen kopurua."
   ]
  },
  {
   "cell_type": "code",
   "execution_count": 7,
   "metadata": {},
   "outputs": [],
   "source": [
    "def errepikatu_kopurua(z):\n",
    "    h = {}\n",
    "    for x in z :\n",
    "        h[x] = h.get(x,0) +1\n",
    "    return sum(1 for v in h.values() if v > 1)"
   ]
  },
  {
   "cell_type": "markdown",
   "metadata": {},
   "source": [
    "**Tamaina:**   `n = len(z)`\n",
    "\n",
    "```python\n",
    "def errepikatu_kopurua(z):\n",
    "    h = {}                                        -->  1 p\n",
    "    for x in z :                                  -->  n x 1\n",
    "        h[x] = h.get(x,0) + 1                     -->  n x 1\n",
    "    #return sum(1 for v in h.values() if v > 1)   --> \n",
    "    k = 0                                         -->  1 p\n",
    "    for v in h.values() :                         -->  1 <h.values()> + [1 <1>, n <2>] x 1 p\n",
    "        if v > 1 :                                -->  [1 <1>, n <2>] x 1 p\n",
    "            k += 1                                -->  aurrekoarekin\n",
    "    return k                                      -->  1 p\n",
    "```\n",
    "\n",
    "* **<1> ,kasu ona?**: z-ko elementu guztiak berdinak dira\n",
    "* **<2>, kasu txarra?**: z-ko elementu guztiak ezberdinak dira\n",
    "\n",
    "* **<1>**  --> `t(n) = n+1`\n",
    "* **<2>**  --> `t(n) = n+1`\n",
    "\n",
    "$\\to$ Ez dago kasu on/txarrik, $t(n)=n+1$"
   ]
  },
  {
   "cell_type": "markdown",
   "metadata": {},
   "source": [
    "## 11-12\n",
    "**Fitxategi batetan hutsunez banandutako hitz ezberdinen kopurua.**"
   ]
  },
  {
   "cell_type": "markdown",
   "metadata": {},
   "source": [
    "### Hiztegi edo multzorik erabili gabe"
   ]
  },
  {
   "cell_type": "code",
   "execution_count": 11,
   "metadata": {},
   "outputs": [
    {
     "data": {
      "text/plain": [
       "12871"
      ]
     },
     "execution_count": 11,
     "metadata": {},
     "output_type": "execute_result"
    }
   ],
   "source": [
    "def hitz_ezberdin_kopurua(bideizena, kodifikazioa='utf8'):\n",
    "    with open(bideizena, encoding=kodifikazioa) as f :    \n",
    "        z = []\n",
    "        for line in f :\n",
    "            for w in line.split():\n",
    "                if w not in z :\n",
    "                    z.append(w)\n",
    "        return len(z)\n",
    "        \n",
    "hitz_ezberdin_kopurua('bible.clean.txt')"
   ]
  },
  {
   "cell_type": "markdown",
   "metadata": {},
   "source": [
    "### Hiztegi edo multzoak erabiliz"
   ]
  },
  {
   "cell_type": "code",
   "execution_count": 12,
   "metadata": {},
   "outputs": [
    {
     "data": {
      "text/plain": [
       "12871"
      ]
     },
     "execution_count": 12,
     "metadata": {},
     "output_type": "execute_result"
    }
   ],
   "source": [
    "def hitz_ezberdin_kopurua(bideizena, kodifikazioa='utf8'):    \n",
    "    with open(bideizena, encoding=kodifikazioa) as f :    \n",
    "        s = set()\n",
    "        for line in f :\n",
    "            for w in line.split():\n",
    "                s.add(w)\n",
    "        return len(s)\n",
    "\n",
    "def hitz_ezberdin_kopurua(bideizena, kodifikazioa='utf8'):    \n",
    "    with open(bideizena, encoding=kodifikazioa) as f :    \n",
    "        s = {w for line in f for w in line.split()}\n",
    "        return len(s)\n",
    "    \n",
    "hitz_ezberdin_kopurua('bible.clean.txt')"
   ]
  },
  {
   "cell_type": "markdown",
   "metadata": {},
   "source": [
    "**tamaina:** n = fitxategiko hitz kopurua\n",
    "\n",
    "```python\n",
    "def hitz_ezberdin_kopurua(bideizena, kodifikazioa='utf8'):    \n",
    "    with open(bideizena, encoding=kodifikazioa) as f :  --> 1 p\n",
    "        s = set()                      --> 1 p\n",
    "        for line in f :                --> ?? x ??\n",
    "            for w in line.split():     --> ?? x ??\n",
    "                s.add(w)               --> ?? x ??\n",
    "        return len(s)                  --> 1 p\n",
    "\n",
    "```"
   ]
  }
 ],
 "metadata": {
  "kernelspec": {
   "display_name": "Python 3",
   "language": "python",
   "name": "python3"
  },
  "language_info": {
   "codemirror_mode": {
    "name": "ipython",
    "version": 3
   },
   "file_extension": ".py",
   "mimetype": "text/x-python",
   "name": "python",
   "nbconvert_exporter": "python",
   "pygments_lexer": "ipython3",
   "version": "3.7.6"
  }
 },
 "nbformat": 4,
 "nbformat_minor": 4
}
