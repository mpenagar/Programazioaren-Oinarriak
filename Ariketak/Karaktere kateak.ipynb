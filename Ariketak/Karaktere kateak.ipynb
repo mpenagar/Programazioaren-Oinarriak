{
 "cells": [
  {
   "cell_type": "markdown",
   "metadata": {},
   "source": [
    "### 3\n",
    "contains_all(w,s) funtzio bat idatz ezazu, True bueltatuko duena w karaktere\n",
    "katearen barnean s karaktere kateko letra guztiak agertzen badira eta False kontrako\n",
    "kasuan."
   ]
  },
  {
   "cell_type": "code",
   "execution_count": 16,
   "metadata": {},
   "outputs": [
    {
     "name": "stdout",
     "output_type": "stream",
     "text": [
      "True\n",
      "False\n",
      "False\n"
     ]
    }
   ],
   "source": [
    "def contains_all(w,s):\n",
    "    for x in s :\n",
    "        if x not in w :\n",
    "            return False\n",
    "    return True\n",
    "\n",
    "print(contains_all(\"aeiou\",\"aaee\"))\n",
    "print(contains_all(\"aeiou\",\"aaej\"))\n",
    "print(contains_all(\"aeiou\",\"jj\"))"
   ]
  },
  {
   "cell_type": "markdown",
   "metadata": {},
   "source": [
    "### 4\n",
    "contains_same(w,s) funtzio bat idatz ezazu, True bueltatuko duena w karaktere\n",
    "katearen barnean eta s karaktere katearen barnean letra letra berdinak agertzen badira eta\n",
    "False kontrako kasuan"
   ]
  },
  {
   "cell_type": "code",
   "execution_count": 17,
   "metadata": {},
   "outputs": [
    {
     "name": "stdout",
     "output_type": "stream",
     "text": [
      "True\n",
      "True\n",
      "False\n",
      "False\n"
     ]
    }
   ],
   "source": [
    "def contains_same(w,s):\n",
    "    return contains_all(w,s) and contains_all(s,w)\n",
    "\n",
    "print(contains_same(\"aeiou\",\"eioua\"))\n",
    "print(contains_same(\"eioua\",\"aeiou\"))\n",
    "print(contains_same(\"aeiou\",\"eeiooiudie\"))\n",
    "print(contains_same(\"eeiooiudie\",\"aeiou\"))\n"
   ]
  },
  {
   "cell_type": "markdown",
   "metadata": {},
   "source": [
    "### 5\n",
    "delete_at(s,z) funtzio bat idatzi argumentu bezala s karaktere katea eta z indize\n",
    "gorakorrak dituen zerrenda jasotzen duena eta karaktere kate berri bat bueltatzen duena,\n",
    "zeinetan z zerrendan agertzen diren posizioetako elementuak ezabatu egin diren. Hau da,\n",
    "s=’bihar ikusiko dugu elkar’ eta z=[1,5,6,9] izanik, funtzioak bueltatuko duen\n",
    "katea ‘ihaiksiko dugu elkar’ izango da.\n"
   ]
  },
  {
   "cell_type": "code",
   "execution_count": 20,
   "metadata": {},
   "outputs": [
    {
     "data": {
      "text/plain": [
       "'ihaiksiko dugu elkar'"
      ]
     },
     "execution_count": 20,
     "metadata": {},
     "output_type": "execute_result"
    }
   ],
   "source": [
    "def delete_at(s,z):\n",
    "    e = ''\n",
    "    for i in range(len(s)):\n",
    "        if i+1 not in z :\n",
    "            e += s[i]\n",
    "    return e\n",
    "\n",
    "def delete_at(s,z):\n",
    "    e = ''\n",
    "    for i,x in enumerate(s,1):\n",
    "        if i not in z :\n",
    "            e += x\n",
    "    return e\n",
    "\n",
    "# z ordenatua dago... informazio hori\n",
    "# erabiltzeko gai izan beharko genuke.\n",
    "\n",
    "s='bihar ikusiko dugu elkar'\n",
    "z=[1,5,6,9]\n",
    "delete_at(s,z)"
   ]
  },
  {
   "cell_type": "markdown",
   "metadata": {},
   "source": [
    "### 6 \n",
    "Demagun s letra xehez osoturiko karaktere kate bat daukazula, bi funtzio idatzi lrot(s,n)\n",
    "eta rrot(s,n). Funtzio hauek s kateko hizkiak alfabetoraren barnean n aldiz ezkerrera\n",
    "(lrot) edo eskumara (rrot) errotatzen direnean emandako karaktere kateak bueltatuko\n",
    "dituzte. "
   ]
  },
  {
   "cell_type": "code",
   "execution_count": 14,
   "metadata": {},
   "outputs": [
    {
     "name": "stdout",
     "output_type": "stream",
     "text": [
      "atdahaufrogaluzeb\n",
      "rogaluzebatdahauf\n",
      "rogaluzebatdahauf\n"
     ]
    }
   ],
   "source": [
    "def rrot(s,n):\n",
    "    n = n % len(s)\n",
    "    a = s[-n:]\n",
    "    b = s[:-n]\n",
    "    return a + b\n",
    "\n",
    "def lrot(s,n):\n",
    "    n = n % len(s)\n",
    "    a = s[n:]\n",
    "    b = s[:n]\n",
    "    return a + b\n",
    "\n",
    "def lrot(s,n):\n",
    "    return rrot(s,-n)\n",
    "\n",
    "#def rrot(s,n):\n",
    "#    z = list(s)\n",
    "#    for i in range(n):\n",
    "#        z.insert(0,z.pop())\n",
    "#        #print(z)\n",
    "#    return ''.join(z)\n",
    "\n",
    "print(rrot(\"haufrogaluzebatda\",4))\n",
    "print(rrot(\"haufrogaluzebatda\",-4))\n",
    "print(lrot(\"haufrogaluzebatda\",4))"
   ]
  }
 ],
 "metadata": {
  "kernelspec": {
   "display_name": "Python 3",
   "language": "python",
   "name": "python3"
  },
  "language_info": {
   "codemirror_mode": {
    "name": "ipython",
    "version": 3
   },
   "file_extension": ".py",
   "mimetype": "text/x-python",
   "name": "python",
   "nbconvert_exporter": "python",
   "pygments_lexer": "ipython3",
   "version": "3.7.6"
  }
 },
 "nbformat": 4,
 "nbformat_minor": 4
}
