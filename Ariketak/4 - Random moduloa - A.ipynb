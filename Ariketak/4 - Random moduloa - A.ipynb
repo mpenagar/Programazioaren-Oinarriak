{
 "cells": [
  {
   "cell_type": "markdown",
   "metadata": {},
   "source": [
    "## 6\n",
    "random moduloko random funtzioa soilik erabiliz, sortu ezazu [ , ) tartean uniformeki banatutako zenbaki erreala bueltatuko duen uniform(a,b) funtzioa."
   ]
  },
  {
   "cell_type": "code",
   "execution_count": 4,
   "metadata": {},
   "outputs": [
    {
     "name": "stdout",
     "output_type": "stream",
     "text": [
      "5.916529880324826\n",
      "6.189446051082358\n",
      "6.210268250064715\n",
      "7.9585047614241216\n",
      "4.008331397151784\n",
      "4.973260202914437\n",
      "7.085212540021718\n",
      "4.965058555222599\n",
      "5.244922633545238\n",
      "6.514834665613067\n"
     ]
    }
   ],
   "source": [
    "from random import uniform as runiform\n",
    "def uniform(a,b):\n",
    "    return runiform(a,b)\n",
    "\n",
    "for i in range(10):\n",
    "    print(uniform(4,8))"
   ]
  },
  {
   "cell_type": "markdown",
   "metadata": {},
   "source": [
    "## 1 \n",
    "random moduloko `random` funtzioa soilik erabiliz, sortu ezazu `[a,b]` tartean uniformeki banatutako zenbaki osoa bueltatuko duen `randint(a,b)` funtzioa."
   ]
  },
  {
   "cell_type": "code",
   "execution_count": 2,
   "metadata": {},
   "outputs": [
    {
     "name": "stdout",
     "output_type": "stream",
     "text": [
      "6\n",
      "5\n",
      "5\n",
      "6\n",
      "5\n",
      "4\n",
      "8\n",
      "5\n",
      "7\n",
      "4\n"
     ]
    }
   ],
   "source": [
    "def randint(a,b):\n",
    "    # 1 - random (a,b) tartean\n",
    "    r = uniform(a,b)\n",
    "    # float --> int\n",
    "    return ????\n",
    "\n",
    "for i in range(10):\n",
    "    print(randint(4,8))\n",
    "    "
   ]
  },
  {
   "cell_type": "markdown",
   "metadata": {},
   "source": [
    "## 2\n",
    "random moduloko random funtzioa edo aurreko edozein funtzio erabiliz, sortu ezazu `range(start,stop[,step])` sekuentziako auzazko zenbaki osoa bueltatuko duen `randrange(start,stop[,step])` funtzioa."
   ]
  },
  {
   "cell_type": "code",
   "execution_count": 64,
   "metadata": {},
   "outputs": [
    {
     "name": "stdout",
     "output_type": "stream",
     "text": [
      "10\n",
      "4\n",
      "10\n",
      "4\n",
      "4\n",
      "4\n",
      "10\n",
      "4\n",
      "7\n",
      "7\n"
     ]
    }
   ],
   "source": [
    "def randrange(start,stop,step=1):\n",
    "#     z = [] <-- range(start,stop,step)\n",
    "#     i = start\n",
    "#     while i < stop :\n",
    "#         z.append(i)\n",
    "#         i += step\n",
    "#     z = []\n",
    "#     for i in range(start,stop,step):\n",
    "#         z.append(i)\n",
    "    #z = range(start,stop,step)\n",
    "    z = list(range(start,stop,step))\n",
    "    i = randint(0,len(z)-1)\n",
    "    return z[i]\n",
    "\n",
    "for i in range(10):\n",
    "    print(randrange(4,12,3))"
   ]
  },
  {
   "cell_type": "code",
   "execution_count": 48,
   "metadata": {},
   "outputs": [
    {
     "data": {
      "text/plain": [
       "(4, 10)"
      ]
     },
     "execution_count": 48,
     "metadata": {},
     "output_type": "execute_result"
    }
   ],
   "source": [
    "range(10)[4],len(range(10))"
   ]
  },
  {
   "cell_type": "markdown",
   "metadata": {},
   "source": [
    "## 4\n",
    "random moduloko random funtzioa edo aurreko edozein funtzio erabiliz, sortu ezazu seq sekuentzia aldakorreko elementuak auzazki nahastuko dituen shuffle(seq) funtzioa."
   ]
  },
  {
   "cell_type": "code",
   "execution_count": 3,
   "metadata": {},
   "outputs": [
    {
     "name": "stdout",
     "output_type": "stream",
     "text": [
      "2 4 6 3 5 8 9 0 1 7\n",
      "3 9 0 4 6 1 8 2 7 5\n",
      "8 9 2 4 7 6 0 3 1 5\n",
      "6 3 9 8 7 1 5 2 0 4\n",
      "1 3 9 5 0 8 7 2 4 6\n"
     ]
    }
   ],
   "source": [
    "def shuffle(seq):\n",
    "    for i in range(len(seq)-1):\n",
    "        # 1 aukeratu auzazko indize bat [i,len(seq))\n",
    "        j = randint(i,len(seq)-1)\n",
    "        #j = randrange(i,len(seq))\n",
    "        # elkarraldatu seq[i] eta seq[j]\n",
    "        seq[i] , seq[j] = seq[j] , seq[i]\n",
    "\n",
    "z = list(range(10))\n",
    "for i in range(5):\n",
    "    shuffle(z)\n",
    "    print(*z)"
   ]
  }
 ],
 "metadata": {
  "kernelspec": {
   "display_name": "Python 3",
   "language": "python",
   "name": "python3"
  },
  "language_info": {
   "codemirror_mode": {
    "name": "ipython",
    "version": 3
   },
   "file_extension": ".py",
   "mimetype": "text/x-python",
   "name": "python",
   "nbconvert_exporter": "python",
   "pygments_lexer": "ipython3",
   "version": "3.7.6"
  }
 },
 "nbformat": 4,
 "nbformat_minor": 4
}
