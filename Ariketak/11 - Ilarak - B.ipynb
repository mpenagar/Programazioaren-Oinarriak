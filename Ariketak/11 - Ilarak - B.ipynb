{
 "cells": [
  {
   "cell_type": "code",
   "execution_count": 7,
   "metadata": {},
   "outputs": [
    {
     "name": "stdout",
     "output_type": "stream",
     "text": [
      "['a', 'e', 'i', 'o', 'u', None, None, None, None, None] 5 0 4\n",
      "['a', 'e', 'i', 'o', 'u']\n",
      "[]\n"
     ]
    }
   ],
   "source": [
    "class IlaraZirkularra():\n",
    "        \n",
    "    def __init__(self,size,it=()):\n",
    "        self.z = [None] * size\n",
    "        self.len = 0\n",
    "        self.front = 0      # elementu bat ondoren: 0\n",
    "        self.back = size-1  # elementu bat ondoren: 0\n",
    "        for x in it :\n",
    "            self.enqueue(x)\n",
    "\n",
    "    def __len__(self):\n",
    "        return self.len\n",
    "    \n",
    "    def __next(self,i):\n",
    "        return (i + 1) % len(self.z)        \n",
    "        \n",
    "    def enqueue(self,value):\n",
    "        self.back = self.__next(self.back)\n",
    "        self.z[self.back] = value\n",
    "        self.len += 1\n",
    "\n",
    "    def dequeue(self):\n",
    "        self.front = self.__next(self.front)\n",
    "        self.len -= 1\n",
    "        return self.z[self.front-1]\n",
    "    \n",
    "    def __values(self):\n",
    "        i = self.front\n",
    "        for _ in range(self.len):\n",
    "            #print(self.z[i])\n",
    "            yield self.z[i]\n",
    "            i = self.__next(i)\n",
    "            \n",
    "    def __str__(self):\n",
    "        return str(list(self.__values()))\n",
    "    \n",
    "    def __repr__(self):\n",
    "        return f'IlaraZirkularra({list(self.__values())})'\n",
    "    \n",
    "    def __eq__(self,other):\n",
    "        return type(other) == IlaraZirkularra and len(self)==len(other) and all( x==y for x,y in zip(self.__values(),other.__values()))\n",
    "    \n",
    "    def __iter__(self):\n",
    "        while self :\n",
    "            yield self.dequeue()  \n",
    "\n",
    "    def front(self):\n",
    "        return self.z[self.front]  \n",
    "\n",
    "x = IlaraZirkularra(10,\"aeiou\")\n",
    "print(x.z,x.len,x.front,x.back)\n",
    "print(list(x))\n",
    "print(list(x))\n"
   ]
  },
  {
   "cell_type": "code",
   "execution_count": null,
   "metadata": {},
   "outputs": [],
   "source": []
  }
 ],
 "metadata": {
  "kernelspec": {
   "display_name": "Python 3",
   "language": "python",
   "name": "python3"
  },
  "language_info": {
   "codemirror_mode": {
    "name": "ipython",
    "version": 3
   },
   "file_extension": ".py",
   "mimetype": "text/x-python",
   "name": "python",
   "nbconvert_exporter": "python",
   "pygments_lexer": "ipython3",
   "version": "3.7.6"
  }
 },
 "nbformat": 4,
 "nbformat_minor": 4
}
