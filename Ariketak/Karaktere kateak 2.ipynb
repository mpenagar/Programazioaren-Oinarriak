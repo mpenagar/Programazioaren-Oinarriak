{
 "cells": [
  {
   "cell_type": "markdown",
   "metadata": {},
   "source": [
    "### 5\n",
    "delete_at(s,z) funtzio bat idatzi argumentu bezala s karaktere katea eta z indize\n",
    "gorakorrak dituen zerrenda jasotzen duena eta karaktere kate berri bat bueltatzen duena,\n",
    "zeinetan z zerrendan agertzen diren posizioetako elementuak ezabatu egin diren. Hau da,\n",
    "s=’bihar ikusiko dugu elkar’ eta z=[1,5,6,9] izanik, funtzioak bueltatuko duen\n",
    "katea ‘ihaiksiko dugu elkar’ izango da.\n"
   ]
  },
  {
   "cell_type": "code",
   "execution_count": 13,
   "metadata": {},
   "outputs": [
    {
     "data": {
      "text/plain": [
       "'ihaiksiko dugu elkar'"
      ]
     },
     "execution_count": 13,
     "metadata": {},
     "output_type": "execute_result"
    }
   ],
   "source": [
    "def delete_at(s,z):\n",
    "    x = list(s)\n",
    "    for i in z[::-1] :\n",
    "        del x[i-1]\n",
    "    return ''.join(x)\n",
    "\n",
    "def delete_at(s,z):\n",
    "    x = ''\n",
    "    for i in range(len(s)) :\n",
    "        if i+1 not in z :\n",
    "            x += s[i]\n",
    "    return x\n",
    "\n",
    "def delete_at(s,z):\n",
    "    x = ''\n",
    "    for i,k in enumerate(s,1) :\n",
    "        if i not in z :\n",
    "            x += k\n",
    "    return x\n",
    "\n",
    "def delete_at(s,z):\n",
    "    x = ''\n",
    "    for a,b in zip([0]+z,z+[len(s)+1]) :\n",
    "        x += s[a:b-1]\n",
    "    return x\n",
    "\n",
    "def delete_at(s,z):\n",
    "    x = []\n",
    "    for a,b in zip([0]+z,z+[len(s)+1]) :\n",
    "        x.append(s[a:b-1])\n",
    "    return ''.join(x)\n",
    "\n",
    "s='bihar ikusiko dugu elkar'\n",
    "z=[1,5,6,9]\n",
    "delete_at(s,z)"
   ]
  },
  {
   "cell_type": "markdown",
   "metadata": {},
   "source": [
    "### 7\n",
    "sorted_string(s) funtzio bat idatz ezazu, True bueltatuko duena s karaktere kateko\n",
    "letrak alfabetikoki ordenatuta daudenean eta False kontrako kasuan."
   ]
  },
  {
   "cell_type": "code",
   "execution_count": 4,
   "metadata": {},
   "outputs": [
    {
     "name": "stdout",
     "output_type": "stream",
     "text": [
      "True True\n"
     ]
    }
   ],
   "source": [
    "def sorted_string(s):\n",
    "    for a,b in zip(s,s[1:]):\n",
    "        if a>b :\n",
    "            return False\n",
    "    return True\n",
    "\n",
    "def sorted_string(s):\n",
    "    for i in range(len(s)-1):\n",
    "        if s[i]>s[i+1] :\n",
    "            return False\n",
    "    return True\n",
    "\n",
    "# ??????\n",
    "#def sorted_string(s):\n",
    "#    return s <= s[1:]\n",
    "\n",
    "\n",
    "k1 = '   -55ddeffggggghiijjjkkkklllllnnoorsssstw´´´´ñ'\n",
    "k2 = '   -55ddeffggggghiijjjkkkklllllnnpoorsssstw´´´´ñ'\n",
    "print(sorted_string(k1),sorted_string(k2))"
   ]
  }
 ],
 "metadata": {
  "kernelspec": {
   "display_name": "Python 3",
   "language": "python",
   "name": "python3"
  },
  "language_info": {
   "codemirror_mode": {
    "name": "ipython",
    "version": 3
   },
   "file_extension": ".py",
   "mimetype": "text/x-python",
   "name": "python",
   "nbconvert_exporter": "python",
   "pygments_lexer": "ipython3",
   "version": "3.7.6"
  }
 },
 "nbformat": 4,
 "nbformat_minor": 4
}
