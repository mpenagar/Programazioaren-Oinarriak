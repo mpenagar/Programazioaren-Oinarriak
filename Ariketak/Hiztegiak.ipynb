{
 "cells": [
  {
   "cell_type": "markdown",
   "metadata": {},
   "source": [
    "### 4\n",
    "Testu fitxategi baten bideizena jaso eta hiztegi bat bueltatuko duen funtzioa idatzi.\n",
    "Hiztegiaren gakoak hitzak izango dira, eta balioak (i,j) bikote zerrenda, hitz bakoitzaren\n",
    "agerpenaren i-ilara eta j-zutabea (ilara bakoitzaren barnean duen posizioa). Indizeak 1-etik\n",
    "aurrera hasiko dira."
   ]
  },
  {
   "cell_type": "code",
   "execution_count": 2,
   "metadata": {
    "scrolled": true
   },
   "outputs": [],
   "source": [
    "def f4(bideizena,kodifikazioa='utf8'):\n",
    "    with open(bideizena,encoding=kodifikazioa) as f:\n",
    "        h = {}\n",
    "        for i,ilara in enumerate(f,1):\n",
    "            for j,hitza in enumerate(ilara.split(),1):\n",
    "                #if hitza in h :\n",
    "                #    h[hitza].append((i,j))\n",
    "                #else :\n",
    "                #    h[hitza] = [(i,j)]\n",
    "                \n",
    "                #if hitza not in h :\n",
    "                #    h[(i,j)] = []\n",
    "                #h[hitza].append((i,j))\n",
    "                \n",
    "                h.setdefault(hitza,[]).append((i,j))\n",
    "        return h\n",
    "\n",
    "#f4('minibible.clean.txt')"
   ]
  },
  {
   "cell_type": "markdown",
   "metadata": {},
   "source": [
    "### 5\n",
    "Idatzi funtzio bat, lehenengo n zenbaki lehenen zerrenda gorakorra jasota, hurrengo\n",
    "zenbaki lehena bueltatuko duena. Hurrengo sekuentziek ondoko balioa bueltatu beharko\n",
    "lukete:\n",
    "* [] $\\to$ 2\n",
    "* [2] $\\to$ 3\n",
    "* [2,3] $\\to$ 5\n",
    "* [2,3,5] $\\to$ 7"
   ]
  },
  {
   "cell_type": "code",
   "execution_count": 8,
   "metadata": {},
   "outputs": [
    {
     "data": {
      "text/plain": [
       "13"
      ]
     },
     "execution_count": 8,
     "metadata": {},
     "output_type": "execute_result"
    }
   ],
   "source": [
    "def zatitzailerik(z,a):\n",
    "    for x in z :\n",
    "        if a % x == 0 :\n",
    "            return True\n",
    "    return False\n",
    "    \n",
    "def hurrengo_lehena(z):\n",
    "    if not z :\n",
    "        return 2\n",
    "    a = z[-1]+1\n",
    "    while zatitzailerik(z,a):\n",
    "        a += 1\n",
    "    return a\n",
    "    \n",
    "hurrengo_lehena([2,3,5,7,11])"
   ]
  },
  {
   "cell_type": "markdown",
   "metadata": {},
   "source": [
    "### 6\n",
    "Funtzio bat idatzi, sarrera bezala n>1 zenbaki arrunt bat jasoko duena eta emandako\n",
    "zenbakiaren faktore lehenen deskonposaketa adieraziko duen hiztegia bueltatuko duena.\n",
    "Hiztegiaren giltzak faktoreak izango dira eta dagokien balioa faktore bakoitzaren\n",
    "berretzailea. Honela, n=360 izango balitz, funtzioak ondoko hiztegiak bueltatu beharko luke:\n",
    "{2: 3, 3: 2, 5: 1}. OHARRA: aurreko funtzioa erabili."
   ]
  },
  {
   "cell_type": "code",
   "execution_count": 11,
   "metadata": {},
   "outputs": [
    {
     "data": {
      "text/plain": [
       "{2: 3, 3: 2, 5: 1}"
      ]
     },
     "execution_count": 11,
     "metadata": {},
     "output_type": "execute_result"
    }
   ],
   "source": [
    "def faktore_lehenak(n):\n",
    "    h = {}\n",
    "    z = []\n",
    "    a = hurrengo_lehena(z)\n",
    "    z.append(a)\n",
    "    while n != 1 :\n",
    "        if n % a == 0 :\n",
    "            n //= a\n",
    "            h[a] = h.get(a,0)+ 1\n",
    "        else :\n",
    "            a = hurrengo_lehena(z)\n",
    "            z.append(a)\n",
    "    return h\n",
    "\n",
    "faktore_lehenak(360)"
   ]
  }
 ],
 "metadata": {
  "kernelspec": {
   "display_name": "Python 3",
   "language": "python",
   "name": "python3"
  },
  "language_info": {
   "codemirror_mode": {
    "name": "ipython",
    "version": 3
   },
   "file_extension": ".py",
   "mimetype": "text/x-python",
   "name": "python",
   "nbconvert_exporter": "python",
   "pygments_lexer": "ipython3",
   "version": "3.7.6"
  }
 },
 "nbformat": 4,
 "nbformat_minor": 4
}
