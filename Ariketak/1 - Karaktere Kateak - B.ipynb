{
 "cells": [
  {
   "cell_type": "markdown",
   "metadata": {},
   "source": [
    "### 5\n",
    "`delete_at(s,z)` funtzio bat idatzi argumentu bezala **s** karaktere katea eta **z** indize gorakorrak dituen zerrenda jasotzen duena eta karaktere kate berri bat bueltatzen duena, zeinetan z zerrendan agertzen diren posizioetako elementuak ezabatu egin diren. Hau da, s=’bihar ikusiko dugu elkar’ eta `z=[1,5,6,9]` izanik, funtzioak bueltatuko duen katea ‘ihaiksiko dugu elkar’ izango da."
   ]
  },
  {
   "cell_type": "code",
   "execution_count": 25,
   "metadata": {},
   "outputs": [
    {
     "data": {
      "text/plain": [
       "'ihaiksiko dugu elkar'"
      ]
     },
     "execution_count": 25,
     "metadata": {},
     "output_type": "execute_result"
    }
   ],
   "source": [
    "def delete_at(s,z):\n",
    "    z2 = list(s)\n",
    "    for n,i in enumerate(z,1) :\n",
    "        del z2[i-n]\n",
    "    return ''.join(z2)\n",
    "\n",
    "delete_at('bihar ikusiko dugu elkar',[1,5,6,9])"
   ]
  },
  {
   "cell_type": "code",
   "execution_count": 11,
   "metadata": {},
   "outputs": [
    {
     "name": "stdout",
     "output_type": "stream",
     "text": [
      "(1, 'l') (2, 'k') (3, 'h') (4, 'g') (5, 'l') (6, 'k')\n"
     ]
    }
   ],
   "source": [
    "print(*enumerate(\"lkhglk\",1))"
   ]
  },
  {
   "cell_type": "code",
   "execution_count": 24,
   "metadata": {},
   "outputs": [
    {
     "data": {
      "text/plain": [
       "'ihaiksiko dugu elkar'"
      ]
     },
     "execution_count": 24,
     "metadata": {},
     "output_type": "execute_result"
    }
   ],
   "source": [
    "def delete_at(s,z):\n",
    "    z2 = list(s)\n",
    "    #for i in z[::-1] :\n",
    "    for i in reversed(z):\n",
    "        del z2[i-1]\n",
    "    return ''.join(z2)\n",
    "\n",
    "delete_at('bihar ikusiko dugu elkar',[1,5,6,9])"
   ]
  },
  {
   "cell_type": "code",
   "execution_count": 23,
   "metadata": {},
   "outputs": [
    {
     "name": "stdout",
     "output_type": "stream",
     "text": [
      "9 6 5 1\n"
     ]
    }
   ],
   "source": [
    "z = [1,5,6,9]\n",
    "print(*reversed(z))"
   ]
  },
  {
   "cell_type": "markdown",
   "metadata": {},
   "source": [
    "### 6\n",
    "Demagun **s** letra xehez osoturiko karaktere kate bat daukazula, bi funtzio idatzi `lrot(s,n)` eta `rrot(s,n)`. Funtzio hauek s kateko hizkiak alfabetoraren barnean **n** aldiz ezkerrera (lrot) edo eskumara (rrot) errotatzen direnean emandako karaktere kateak bueltatuko dituzte."
   ]
  },
  {
   "cell_type": "code",
   "execution_count": 47,
   "metadata": {},
   "outputs": [],
   "source": [
    "def rrot(s,n):\n",
    "    alfa = 'abcdefghijklmnñopqrstuvwxyz '\n",
    "    e = ''\n",
    "    for x in s :\n",
    "        e += alfa[(alfa.index(x) + n) % len(alfa)]\n",
    "    return e\n",
    "\n",
    "def lrot(s,n):\n",
    "    return rrot(s,-n)\n",
    "\n",
    "def rrot(s,n):\n",
    "    alfa = 'abcdefghijklmnñopqrstuvwxyz '\n",
    "    e = []\n",
    "    for x in s :\n",
    "        e.append(alfa[(alfa.index(x) + n) % len(alfa)])\n",
    "    return ''.join(e)\n"
   ]
  },
  {
   "cell_type": "code",
   "execution_count": 48,
   "metadata": {},
   "outputs": [
    {
     "name": "stdout",
     "output_type": "stream",
     "text": [
      "cdefghia\n",
      "z abcdex\n",
      "z abcdex\n"
     ]
    }
   ],
   "source": [
    "print(rrot('abcdefgz',2))\n",
    "print(rrot('abcdefgz',-2))\n",
    "print(lrot('abcdefgz',2))"
   ]
  },
  {
   "cell_type": "code",
   "execution_count": 39,
   "metadata": {},
   "outputs": [
    {
     "data": {
      "text/plain": [
       "(0, 9, 8, -1)"
      ]
     },
     "execution_count": 39,
     "metadata": {},
     "output_type": "execute_result"
    }
   ],
   "source": [
    "a = 'abcdefghijklmnñopqrstuvwxyz '\n",
    "a[(a.index('f') + -200) % len(a)]\n",
    "0%10 , -1%10 , -2%10 , -1//10"
   ]
  }
 ],
 "metadata": {
  "kernelspec": {
   "display_name": "Python 3",
   "language": "python",
   "name": "python3"
  },
  "language_info": {
   "codemirror_mode": {
    "name": "ipython",
    "version": 3
   },
   "file_extension": ".py",
   "mimetype": "text/x-python",
   "name": "python",
   "nbconvert_exporter": "python",
   "pygments_lexer": "ipython3",
   "version": "3.7.6"
  }
 },
 "nbformat": 4,
 "nbformat_minor": 4
}
