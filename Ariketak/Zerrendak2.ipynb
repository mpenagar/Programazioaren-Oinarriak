{
 "cells": [
  {
   "cell_type": "markdown",
   "metadata": {},
   "source": [
    "### 2.h Matrize eta eskalar baten arteko batuketa. inline argumentu baten arabera,\n",
    "inline=True (defektuz) denean funtzioak jasotako matrizea aldatuko du eta\n",
    "inline=False denean matrize berri bat sortuko da. Bi kasuetan, funtzioak emaitza\n",
    "duen matrizea bueltatuko du"
   ]
  },
  {
   "cell_type": "code",
   "execution_count": 1,
   "metadata": {},
   "outputs": [],
   "source": [
    "def mcopy(M):\n",
    "    A = []\n",
    "    for z in M:\n",
    "        A.append(z[:])\n",
    "    return A\n",
    "def mat_batu_esk(M,e,inline=True):\n",
    "    if not inline :\n",
    "        # Kontuz\n",
    "        # M = M.copy()\n",
    "        M = mcopy(M)\n",
    "    for z in M:\n",
    "        for i in range(len(z)) :\n",
    "            z[i] += e\n",
    "    return M"
   ]
  },
  {
   "cell_type": "code",
   "execution_count": 10,
   "metadata": {},
   "outputs": [
    {
     "data": {
      "text/plain": [
       "([1, 2, 3, 4], [1, 2, 3, 4])"
      ]
     },
     "execution_count": 10,
     "metadata": {},
     "output_type": "execute_result"
    }
   ],
   "source": [
    "z = [1,2,3,4]\n",
    "z.copy(),z[:]"
   ]
  },
  {
   "cell_type": "code",
   "execution_count": 4,
   "metadata": {},
   "outputs": [
    {
     "name": "stdout",
     "output_type": "stream",
     "text": [
      "[[1, 2, 3], [4, 5, 6]]\n",
      "[[11, 12, 13], [14, 15, 16]]\n",
      "False\n"
     ]
    }
   ],
   "source": [
    "a = [[1,2,3],[4,5,6]]\n",
    "b = mat_batu_esk(a,10,False)\n",
    "print(a,b,a is b,sep=\"\\n\")\n"
   ]
  },
  {
   "cell_type": "code",
   "execution_count": 5,
   "metadata": {},
   "outputs": [],
   "source": [
    "def mat_batu_esk(M,e,inline=True):\n",
    "    if inline :\n",
    "        for z in M:\n",
    "            for i in range(len(z)) :\n",
    "                z[i] += e\n",
    "        return M\n",
    "    else :\n",
    "        A = []\n",
    "        for z in M:\n",
    "            z2 = []\n",
    "            A.append(z2)\n",
    "            for x in z :\n",
    "                z2.append(x+e)\n",
    "        return A\n",
    "        "
   ]
  },
  {
   "cell_type": "code",
   "execution_count": 7,
   "metadata": {},
   "outputs": [
    {
     "name": "stdout",
     "output_type": "stream",
     "text": [
      "[[11, 12, 13], [14, 15, 16]]\n",
      "[[11, 12, 13], [14, 15, 16]]\n",
      "True\n"
     ]
    }
   ],
   "source": [
    "a = [[1,2,3],[4,5,6]]\n",
    "b = mat_batu_esk(a,10,False)\n",
    "print(a,b,a is b,sep=\"\\n\")\n"
   ]
  }
 ],
 "metadata": {
  "kernelspec": {
   "display_name": "Python 3",
   "language": "python",
   "name": "python3"
  },
  "language_info": {
   "codemirror_mode": {
    "name": "ipython",
    "version": 3
   },
   "file_extension": ".py",
   "mimetype": "text/x-python",
   "name": "python",
   "nbconvert_exporter": "python",
   "pygments_lexer": "ipython3",
   "version": "3.7.6"
  }
 },
 "nbformat": 4,
 "nbformat_minor": 4
}
