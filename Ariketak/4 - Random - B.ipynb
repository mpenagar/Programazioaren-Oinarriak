{
 "cells": [
  {
   "cell_type": "markdown",
   "metadata": {},
   "source": [
    "### 1\n",
    "random moduloko random funtzioa soilik erabiliz, sortu ezazu $[a,b]$ tartean uniformeki banatutako zenbaki osoa bueltatuko duen `randint(a,b)` funtzioa."
   ]
  },
  {
   "cell_type": "code",
   "execution_count": 1,
   "metadata": {},
   "outputs": [
    {
     "data": {
      "text/plain": [
       "0.2203318603851926"
      ]
     },
     "execution_count": 1,
     "metadata": {},
     "output_type": "execute_result"
    }
   ],
   "source": [
    "from random import random \n",
    "random()"
   ]
  },
  {
   "cell_type": "markdown",
   "metadata": {},
   "source": [
    "$random() \\in [0,1)  \\to  randint(a,b) \\in [a,b]$"
   ]
  },
  {
   "cell_type": "code",
   "execution_count": 2,
   "metadata": {},
   "outputs": [
    {
     "data": {
      "text/plain": [
       "(2, 2, 2, 2, 3, -3, -2)"
      ]
     },
     "execution_count": 2,
     "metadata": {},
     "output_type": "execute_result"
    }
   ],
   "source": [
    "from math import floor,ceil\n",
    "int(2.1//1),int(2.1),round(2.1),floor(2.1),ceil(2.1),floor(-2.1),ceil(-2.1)"
   ]
  },
  {
   "cell_type": "code",
   "execution_count": 3,
   "metadata": {},
   "outputs": [],
   "source": [
    "def randint(a,b):\n",
    "    x = random()\n",
    "    return round(x * (b-a+1) + a - 0.5)"
   ]
  },
  {
   "cell_type": "code",
   "execution_count": 4,
   "metadata": {},
   "outputs": [],
   "source": [
    "def randint(a,b):\n",
    "    x = random()\n",
    "    return floor(x * (b-a+1) + a)"
   ]
  },
  {
   "cell_type": "code",
   "execution_count": 5,
   "metadata": {},
   "outputs": [],
   "source": [
    "def randint(a,b):\n",
    "    x = random()\n",
    "    return ceil(x * (b-a+1) + a - 1)"
   ]
  },
  {
   "cell_type": "code",
   "execution_count": 6,
   "metadata": {},
   "outputs": [
    {
     "data": {
      "image/png": "[encoded data removed]",
      "text/plain": [
       "<Figure size 432x288 with 1 Axes>"
      ]
     },
     "metadata": {
      "needs_background": "light"
     },
     "output_type": "display_data"
    }
   ],
   "source": [
    "%matplotlib inline\n",
    "import matplotlib.pyplot as plt\n",
    "n = 3000\n",
    "x = [randint(15,25) for i in range(n)]\n",
    "y = [randint(-40,-20) for i in range(n)]\n",
    "fig = plt.plot(x, y, '.')"
   ]
  },
  {
   "cell_type": "code",
   "execution_count": 7,
   "metadata": {},
   "outputs": [
    {
     "name": "stdout",
     "output_type": "stream",
     "text": [
      "(15, 9094)\n",
      "(16, 9060)\n",
      "(17, 9194)\n",
      "(18, 9093)\n",
      "(19, 9066)\n",
      "(20, 9145)\n",
      "(21, 9149)\n",
      "(22, 8956)\n",
      "(23, 9016)\n",
      "(24, 8992)\n",
      "(25, 9235)\n"
     ]
    }
   ],
   "source": [
    "h = {}\n",
    "for i in range(100000):\n",
    "    x = randint(15,25)\n",
    "    if x in h :\n",
    "        h[x] += 1\n",
    "    else :\n",
    "        h[x] = 1\n",
    "print(*sorted(h.items()),sep='\\n')"
   ]
  },
  {
   "cell_type": "markdown",
   "metadata": {},
   "source": [
    "### 2\n",
    "random moduloko random funtzioa edo aurreko edozein funtzio erabiliz, sortu ezazu `range(start,stop[,step])` sekuentziako auzazko zenbaki osoa bueltatuko duen `randrange(start,stop[,step])` funtzioa."
   ]
  },
  {
   "cell_type": "code",
   "execution_count": 8,
   "metadata": {},
   "outputs": [],
   "source": [
    "def randrange(start,stop,step=1):\n",
    "    z = list(range(start,stop,step))\n",
    "    i = randint(0,len(z)-1)\n",
    "    return z[i]"
   ]
  },
  {
   "cell_type": "code",
   "execution_count": 9,
   "metadata": {},
   "outputs": [
    {
     "data": {
      "text/plain": [
       "18"
      ]
     },
     "execution_count": 9,
     "metadata": {},
     "output_type": "execute_result"
    }
   ],
   "source": [
    "randrange(10,20,2)"
   ]
  },
  {
   "cell_type": "markdown",
   "metadata": {},
   "source": [
    "`range` objektuak indexagarriak dira eta luzera definitua dute:"
   ]
  },
  {
   "cell_type": "code",
   "execution_count": 10,
   "metadata": {},
   "outputs": [
    {
     "data": {
      "text/plain": [
       "(3, 10)"
      ]
     },
     "execution_count": 10,
     "metadata": {},
     "output_type": "execute_result"
    }
   ],
   "source": [
    "r = range(10)\n",
    "r[3],len(r)"
   ]
  },
  {
   "cell_type": "code",
   "execution_count": 11,
   "metadata": {},
   "outputs": [],
   "source": [
    "def randrange(start,stop,step=1):\n",
    "    r = range(start,stop,step)\n",
    "    i = randint(0,len(r)-1)\n",
    "    return r[i]"
   ]
  },
  {
   "cell_type": "code",
   "execution_count": 12,
   "metadata": {},
   "outputs": [
    {
     "data": {
      "text/plain": [
       "12"
      ]
     },
     "execution_count": 12,
     "metadata": {},
     "output_type": "execute_result"
    }
   ],
   "source": [
    "randrange(10,20,2)"
   ]
  },
  {
   "cell_type": "code",
   "execution_count": 13,
   "metadata": {},
   "outputs": [
    {
     "name": "stdout",
     "output_type": "stream",
     "text": [
      "(-5, 14389)\n",
      "(-2, 14076)\n",
      "(1, 14251)\n",
      "(4, 14166)\n",
      "(7, 14279)\n",
      "(10, 14356)\n",
      "(13, 14483)\n"
     ]
    }
   ],
   "source": [
    "h = {}\n",
    "for i in range(100000):\n",
    "    x = randrange(-5,15,3)\n",
    "    if x in h :\n",
    "        h[x] += 1\n",
    "    else :\n",
    "        h[x] = 1\n",
    "print(*sorted(h.items()),sep='\\n')"
   ]
  }
 ],
 "metadata": {
  "kernelspec": {
   "display_name": "Python 3",
   "language": "python",
   "name": "python3"
  },
  "language_info": {
   "codemirror_mode": {
    "name": "ipython",
    "version": 3
   },
   "file_extension": ".py",
   "mimetype": "text/x-python",
   "name": "python",
   "nbconvert_exporter": "python",
   "pygments_lexer": "ipython3",
   "version": "3.7.6"
  }
 },
 "nbformat": 4,
 "nbformat_minor": 4
}
