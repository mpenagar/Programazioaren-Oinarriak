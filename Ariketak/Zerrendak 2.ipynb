{
 "cells": [
  {
   "cell_type": "markdown",
   "metadata": {},
   "source": [
    "### 2\n",
    "Demagun nxm tamainako matrizeak zerrenden (edo n-koteen) zerrenda (edo n-kote) baten bitartez errepresentatzen ditugula. Idatzi ondoko eragiketak kalkulatuko dituzten funtzioak:\n",
    "* Zenbaki konstante batez (defektuz 0) betetako nxm tamainako matrizea sortu\n",
    "* Matrize baten kopia\n",
    "* `[a,b)` tartean (defektuz 0 eta 1) banaketa uniforme baten araberako auzazko balioez osotutako nxm tamainako matrizea sortu\n",
    "* Matrize bat pantailatik idatzi\n",
    "* Matrize bat fitxategi batetan gorde\n",
    "* Fitxategi batetan dagoen matrizea kargatu\n",
    "* Matrize karratu baten aztarna\n",
    "* Matrize eta eskalar baten arteko batuketa. inline argumentu baten arabera, `inline=True` (defektuz) denean funtzioak jasotako matrizea aldatuko du eta `inline=False` denean matrize berri bat sortuko da. Bi kasuetan, funtzioak emaitza duen matrizea bueltatuko du.\n",
    "* Matrize eta eskalar baten arteko biderkaketa inline argumentuarekin.\n",
    "* Bi matrizeen batuketa inline argumentuarekin (lehenengo matrizeari dagokionez).\n",
    "* Bi matrizeen kenketa inline argumentuarekin (lehenengo matrizeari dagokionez).\n",
    "* Matrize iraulia\n",
    "* Bi matrizeen biderkarura\n",
    "* $n x m$ tamainako (n>1 & m>1) matrize bati ilara eta zutabea kentzean lortzen den azpimatrizea.\n",
    "* Matrize baten determinantea. OHARRA: $n x n$ tamainako $A$ matrizeari $i$ ilara $j$ eta zutabea kentzean gelditzen den matrizea $A_{ij}$ bada, orduan\n"
   ]
  },
  {
   "cell_type": "code",
   "execution_count": 10,
   "metadata": {},
   "outputs": [
    {
     "name": "stdout",
     "output_type": "stream",
     "text": [
      "[[14, 14, 14, 14], [14, 14, 14, 14], [14, 14, 14, 14]]\n",
      "[[14, 0, 14, 14], [14, 14, 14, 14], [14, 14, 14, 14]]\n"
     ]
    }
   ],
   "source": [
    "def matrizea(n,m,value=0):\n",
    "    A = []\n",
    "    for i in range(n):\n",
    "        z = []\n",
    "        for j in range(m):\n",
    "            z.append(value)\n",
    "        A.append(z)\n",
    "    return A\n",
    "\n",
    "def matrizea(n,m,value=0):\n",
    "    A = []\n",
    "    for i in range(n):\n",
    "        A.append([value]*m)\n",
    "    return A\n",
    "\n",
    "# Hau ez dabil...\n",
    "#def matrizea(n,m,value=0):\n",
    "#    return [[value]*m]*n\n",
    "\n",
    "A = matrizea(3,4,14)\n",
    "print(A)\n",
    "A[0][1] = 0\n",
    "print(A)"
   ]
  },
  {
   "cell_type": "code",
   "execution_count": 16,
   "metadata": {},
   "outputs": [
    {
     "name": "stdout",
     "output_type": "stream",
     "text": [
      "[[0, 0, 0, 0], [0, 0, 0, 0], [0, 0, 0, 0]]\n",
      "[[5, 5, 5, 5], [5, 5, 5, 5], [5, 5, 5, 5]]\n",
      "[[5, 5, 5, 5], [5, 5, 5, 5], [5, 5, 5, 5]]\n",
      "------------------------------\n",
      "[[0, 0, 0, 0], [0, 0, 0, 0], [0, 0, 0, 0]]\n",
      "[[5, 5, 5, 5], [5, 5, 5, 5], [5, 5, 5, 5]]\n",
      "[[0, 0, 0, 0], [0, 0, 0, 0], [0, 0, 0, 0]]\n"
     ]
    }
   ],
   "source": [
    "def kopia(M):\n",
    "    A = []\n",
    "    for z in M:\n",
    "        A.append(z[:])\n",
    "    return A    \n",
    "\n",
    "\n",
    "def batura(M,x,inline=True):\n",
    "    if inline:\n",
    "        A = M\n",
    "    else :\n",
    "        A = kopia(M)\n",
    "    for z in A :\n",
    "        for i in range(len(z)):\n",
    "            z[i] += x    \n",
    "    return A\n",
    "\n",
    "A = matrizea(3,4)\n",
    "print(A)\n",
    "B = batura(A,5)\n",
    "print(B)\n",
    "print(A)\n",
    "\n",
    "print('-'*30)\n",
    "\n",
    "A = matrizea(3,4)\n",
    "print(A)\n",
    "B = batura(A,5,False)\n",
    "print(B)\n",
    "print(A)\n"
   ]
  },
  {
   "cell_type": "code",
   "execution_count": 17,
   "metadata": {},
   "outputs": [
    {
     "name": "stdout",
     "output_type": "stream",
     "text": [
      "[[6, 6, 6, 6], [6, 6, 6, 6]]\n"
     ]
    }
   ],
   "source": [
    "def bider(A,B):\n",
    "    C = []\n",
    "    for i in range(len(A)):\n",
    "        z = []\n",
    "        for j in range(len(B[0])):\n",
    "            # c = C[i][j] = ...\n",
    "            c = 0\n",
    "            for k in range(len(B)):\n",
    "                c += A[i][k] * B[k][j]\n",
    "            z.append(c)\n",
    "        C.append(z)\n",
    "    return C\n",
    "\n",
    "A = matrizea(2,3,2)\n",
    "B = matrizea(3,4,1)\n",
    "C = bider(A,B)\n",
    "print(C)"
   ]
  }
 ],
 "metadata": {
  "kernelspec": {
   "display_name": "Python 3",
   "language": "python",
   "name": "python3"
  },
  "language_info": {
   "codemirror_mode": {
    "name": "ipython",
    "version": 3
   },
   "file_extension": ".py",
   "mimetype": "text/x-python",
   "name": "python",
   "nbconvert_exporter": "python",
   "pygments_lexer": "ipython3",
   "version": "3.7.6"
  }
 },
 "nbformat": 4,
 "nbformat_minor": 4
}
