{
 "cells": [
  {
   "cell_type": "markdown",
   "metadata": {},
   "source": [
    "### 1 \n",
    "Point klasea. Plano batetako puntu bat adierazten duen klasea. Ondoko funtzioak sortu:\n",
    "\n",
    "* `__init__(self,x,y)`\n",
    "* `__str__(self)` eta `__repr__(self)`\n",
    "* `__add__(self,other)` eta `__sub__(self,other)`\n",
    "* `translate(self,dx,dy)` : puntu bat transladatuko du. Funtzioak ez du ezer bueltatzen, puntua aldatzen du soilik.\n",
    "* `rotate(self,other,angle)` : jasotako puntua (other) ardatz moduan harturik, bere buruaren errotazioa egingo du emandako angeluaren arabera. Funtzioak ez du ezer bueltatzen, puntua aldatzen du soilik."
   ]
  },
  {
   "cell_type": "code",
   "execution_count": 17,
   "metadata": {},
   "outputs": [
    {
     "name": "stdout",
     "output_type": "stream",
     "text": [
      "<3,5>\n",
      "True\n",
      "<7,6> <-1,4>\n",
      "<13,-5>\n",
      "<13,-5>\n"
     ]
    }
   ],
   "source": [
    "class Point(object):\n",
    "    def __init__(self,x,y):\n",
    "        self.x = x\n",
    "        self.y = y\n",
    "        \n",
    "    def __str__(self):\n",
    "        return f'<{self.x},{self.y}>'\n",
    "\n",
    "    def __repr__(self):\n",
    "        return f'Point({self.x},{self.y})'\n",
    "    \n",
    "    def __eq__(self,other):\n",
    "        return type(other) == Point and self.x == other.x and self.y == other.y\n",
    "    \n",
    "    def __add__(self,other):\n",
    "        return Point(self.x+other.x , self.y+other.y)\n",
    "\n",
    "    def __sub__(self,other):\n",
    "        return Point(self.x-other.x , self.y-other.y)\n",
    "\n",
    "    def translate(self,dx,dy):\n",
    "        self.x += dx\n",
    "        self.y += dy\n",
    "        \n",
    "    def rotate(self,other,angle):\n",
    "        #self.x = ????\n",
    "        #self.y = ????\n",
    "        pass\n",
    "    \n",
    "p = Point(3,5)\n",
    "print(p)\n",
    "print(eval(repr(p)) == p)\n",
    "q = Point(4,1)\n",
    "print(p+q, p-q)\n",
    "p.translate(10,-10)\n",
    "print(p)\n",
    "p.rotate(q,2.5)\n",
    "print(p)"
   ]
  }
 ],
 "metadata": {
  "kernelspec": {
   "display_name": "Python 3",
   "language": "python",
   "name": "python3"
  },
  "language_info": {
   "codemirror_mode": {
    "name": "ipython",
    "version": 3
   },
   "file_extension": ".py",
   "mimetype": "text/x-python",
   "name": "python",
   "nbconvert_exporter": "python",
   "pygments_lexer": "ipython3",
   "version": "3.7.6"
  }
 },
 "nbformat": 4,
 "nbformat_minor": 4
}
