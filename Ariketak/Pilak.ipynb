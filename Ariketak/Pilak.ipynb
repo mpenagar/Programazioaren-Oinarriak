{
 "cells": [
  {
   "cell_type": "markdown",
   "metadata": {},
   "source": [
    "### 1\n",
    "Klasean ikusi bezala, Pila bat erabiliz parentesirik gabeko espresio InFixu bat PostFixu bilakatzeko algoritmoa ondokoa da:\n",
    "* Elementu sekuentzia zeharkatu\n",
    "* eragigaia bada → irteera sekuentzira\n",
    "* eragilea bada:\n",
    "   * gailurreko lehentasun berdineko edo handiagoko eragileak → irteera sekuentzira\n",
    "   * → eragilea pilara\n",
    "* Pilako elementu guztiak → irteera sekuentzira\n",
    "\n",
    "Dena den, espresio InFixuetan parentesiak erabili ohi ditugu. Parentesiak dituen espresio InFixu bat PostFixu bilakatzeko aurreko algoritmoan egin beharreko aldaketak hauek dira:\n",
    "\n",
    "* eragilea ‘(‘ bada, pilan sartzen da zuzenean. Aurrerantzean, bere lehentasuna eragile artimetikoena baino baxuagoa da\n",
    "* eragilea ‘)‘ bada, pilatik eragileak atera eta irteera eramaten dira ‘(‘ bat topatu arte. ‘(‘ ere pilatik ateratzen da baina ez da irteerara eramaten\n",
    "\n",
    "Parentesiak dituen espresio InFixu bat PostFixu bilakatuko duen funtzioasor ezazu."
   ]
  },
  {
   "cell_type": "code",
   "execution_count": 5,
   "metadata": {},
   "outputs": [],
   "source": [
    "class Stack(object):\n",
    "\n",
    "    def __init__(self,it=()):\n",
    "        self.z = list(it)\n",
    "    \n",
    "    def push(self,value):\n",
    "        self.z.append(value)\n",
    "    \n",
    "    def top(self):\n",
    "        return self.z[-1]\n",
    "    \n",
    "    def pop(self):\n",
    "        return self.z.pop()\n",
    "    \n",
    "    def __len__(self):\n",
    "        return len(self.z)\n",
    "    \n",
    "    def __iter__(self):\n",
    "        return (self.pop() for _ in range(len(self)))\n",
    "    \n",
    "    def __str__(self):\n",
    "        return '\\n'.join(['---'] + [repr(x) for x in self.z[::-1]] + ['---'])\n",
    "    \n",
    "    def __repr__(self):\n",
    "        return f'Stack({repr(self.z)})'\n",
    "    \n",
    "    def __eq__(self,other):\n",
    "        return type(other) == Stack and self.z == other.z"
   ]
  },
  {
   "cell_type": "code",
   "execution_count": 6,
   "metadata": {},
   "outputs": [],
   "source": [
    "# sarrera: hutsunez banandutako karaktere katea\n",
    "# irteera: hutsunez banandutako karaktere katea\n",
    "def infix2postfix(txt):\n",
    "    s = Stack()\n",
    "    z = []\n",
    "    priority = {'*':2 , '/':2 , '+':1 , '-':1, '(':0}\n",
    "    for x in txt.split():\n",
    "        if x in '+-*/' :\n",
    "            px = priority[x]\n",
    "            while s and priority[s.top()] >= px :\n",
    "                z.append(s.pop())\n",
    "            s.push(x)\n",
    "        elif x == '(' :\n",
    "            s.push(x)\n",
    "        elif x == ')' :\n",
    "            while s.top() != '(' :\n",
    "                z.append(s.pop())\n",
    "            s.pop()\n",
    "        else :\n",
    "            z.append(x)\n",
    "    z.extend(s)\n",
    "    return ' '.join(z)"
   ]
  },
  {
   "cell_type": "code",
   "execution_count": 12,
   "metadata": {},
   "outputs": [
    {
     "name": "stdout",
     "output_type": "stream",
     "text": [
      "A + B --> A B +\n",
      "A + B * C --> A B C * +\n",
      "( A + B ) * C --> A B + C *\n",
      "A + B * C + D --> A B C * + D +\n",
      "( A + B ) * ( C + D ) --> A B + C D + *\n",
      "A * B + C * D --> A B * C D * +\n",
      "A + B + C + D --> A B + C + D +\n",
      "A / B * C / D --> A B / C * D /\n",
      "A / B * C + D * E - F / G --> A B / C * D E * + F G / -\n",
      "( ( A + B ) * 3 ) - ( C + 5 ) --> A B + 3 * C 5 + -\n"
     ]
    }
   ],
   "source": [
    "frogak='''\n",
    "A + B\n",
    "A + B * C\n",
    "( A + B ) * C\n",
    "A + B * C + D\n",
    "( A + B ) * ( C + D )\n",
    "A * B + C * D\n",
    "A + B + C + D\n",
    "A / B * C / D\n",
    "A / B * C + D * E - F / G\n",
    "( ( A + B ) * 3 ) - ( C + 5 )\n",
    "'''\n",
    "for x in frogak.strip().split('\\n') :\n",
    "    print(f'{x} --> {infix2postfix(x)}')"
   ]
  },
  {
   "cell_type": "markdown",
   "metadata": {},
   "source": [
    "### 2 \n",
    "Espresio InFixu bat errepresentatzen duen hutsunez banandutako karaktere kate bat jaso eta espresio hori ebaluatuko duen funtzioa sortu. Ebaluatu ahal izateko, lehenik espresio InFixu-a PostFixu bilakatu beharko duzu, eta ondoren espresio PostFixu-a ebaluatu."
   ]
  },
  {
   "cell_type": "code",
   "execution_count": 13,
   "metadata": {},
   "outputs": [],
   "source": [
    "# sarrera: hutsunez banandutako karaktere katea\n",
    "def eval_postfix(txt):\n",
    "    s = Stack()\n",
    "    for x in txt.split():\n",
    "        if x in '+-*/' :\n",
    "            b = s.pop()\n",
    "            a = s.pop()\n",
    "            if x == '+' :\n",
    "                s.push(a+b)\n",
    "            elif x == '-' :\n",
    "                s.push(a-b)\n",
    "            elif x == '*' :\n",
    "                s.push(a*b)\n",
    "            else :\n",
    "                s.push(a/b)\n",
    "        else :\n",
    "            s.push(float(x))\n",
    "    return s.pop()\n",
    "\n",
    "# sarrera: hutsunez banandutako karaktere katea\n",
    "def eval_infix(txt):\n",
    "    return eval_postfix(infix2postfix(txt))"
   ]
  },
  {
   "cell_type": "code",
   "execution_count": 16,
   "metadata": {},
   "outputs": [
    {
     "name": "stdout",
     "output_type": "stream",
     "text": [
      "3 + 4 * 10 - 7 --> 36.0  ==  36\n",
      "( 3 + 4 ) * ( 10 - 7 ) --> 21.0  ==  21\n",
      " 12 * ( ( 3 + 4 ) * ( 10 - 7 ) - 10 ) --> 132.0  ==  132\n"
     ]
    }
   ],
   "source": [
    "frogak='''\n",
    "3 + 4 * 10 - 7\n",
    "( 3 + 4 ) * ( 10 - 7 )\n",
    " 12 * ( ( 3 + 4 ) * ( 10 - 7 ) - 10 )\n",
    "'''\n",
    "for x in frogak.strip().split('\\n') :\n",
    "    print(f'{x} --> {eval_infix(x)}  ==  {eval(x)}')"
   ]
  }
 ],
 "metadata": {
  "kernelspec": {
   "display_name": "Python 3",
   "language": "python",
   "name": "python3"
  },
  "language_info": {
   "codemirror_mode": {
    "name": "ipython",
    "version": 3
   },
   "file_extension": ".py",
   "mimetype": "text/x-python",
   "name": "python",
   "nbconvert_exporter": "python",
   "pygments_lexer": "ipython3",
   "version": "3.7.6"
  }
 },
 "nbformat": 4,
 "nbformat_minor": 4
}
