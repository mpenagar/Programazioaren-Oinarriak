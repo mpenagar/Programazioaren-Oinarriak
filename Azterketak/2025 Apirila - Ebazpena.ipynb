{
 "cells": [
  {
   "cell_type": "markdown",
   "metadata": {},
   "source": [
    "## 1. Ariketa (4 puntu)\n",
    "\n",
    "Zenbaki arrunt bat *aniztuna* dela diogu baldin eta 3 digitu ezberdin edo gehiago baditu (10 oinarrian adierazia dagoenean). Adibidez 27722 zenbaki arrunta ez da aniztuna, soilik 2 digitu ezberdin dituelako. 4019 zenbaki arrunta ordea, aniztuna da, 4 digitu ezberdin dituelako. Sortu ezazu zenbaki arrunt bat adierazten duen s karaktere kate bat jaso eta aniztuna ote den bueltatuko duen funtzioa."
   ]
  },
  {
   "cell_type": "code",
   "execution_count": 29,
   "metadata": {},
   "outputs": [],
   "source": [
    "def aniztuna(s):\n",
    "    return len(set(s)) >= 3"
   ]
  },
  {
   "cell_type": "markdown",
   "metadata": {},
   "source": [
    "Enuntziatuko adibideak:"
   ]
  },
  {
   "cell_type": "code",
   "execution_count": 30,
   "metadata": {},
   "outputs": [
    {
     "name": "stdout",
     "output_type": "stream",
     "text": [
      "False True\n"
     ]
    }
   ],
   "source": [
    "print(aniztuna(\"27722\"),aniztuna(\"4019\"))"
   ]
  },
  {
   "cell_type": "markdown",
   "metadata": {},
   "source": [
    "`s` karaktere katea oso luzea izan baliteke, akaso zuzenagoa litzateke *shortcut* propietatea izatea, hau da, `s` zeharkatu ahala, dagoeneko 3 digitu ezberdin topatu baditugu, gelditzea:"
   ]
  },
  {
   "cell_type": "code",
   "execution_count": 31,
   "metadata": {},
   "outputs": [],
   "source": [
    "def aniztuna2(s):\n",
    "    digits = set()\n",
    "    for c in s :\n",
    "        digits.add(c)\n",
    "        if len(digits) >= 3 :\n",
    "            return True\n",
    "    return False"
   ]
  },
  {
   "cell_type": "markdown",
   "metadata": {},
   "source": [
    "Enuntziatuko adibideak:"
   ]
  },
  {
   "cell_type": "code",
   "execution_count": 32,
   "metadata": {},
   "outputs": [
    {
     "name": "stdout",
     "output_type": "stream",
     "text": [
      "False True\n"
     ]
    }
   ],
   "source": [
    "print(aniztuna2(\"27722\"),aniztuna2(\"4019\"))"
   ]
  },
  {
   "cell_type": "markdown",
   "metadata": {},
   "source": [
    "Karaktere kate oso luze baten adibidea:"
   ]
  },
  {
   "cell_type": "code",
   "execution_count": 33,
   "metadata": {},
   "outputs": [
    {
     "data": {
      "text/plain": [
       "'123333333333333333333333333333333333333333333333333333333333333333333333333333333333333333333333333333'"
      ]
     },
     "execution_count": 33,
     "metadata": {},
     "output_type": "execute_result"
    }
   ],
   "source": [
    "\"12\"+\"3\"*100"
   ]
  },
  {
   "cell_type": "markdown",
   "metadata": {},
   "source": [
    "Denbora neurketa empirikoak:"
   ]
  },
  {
   "cell_type": "code",
   "execution_count": 34,
   "metadata": {},
   "outputs": [
    {
     "name": "stdout",
     "output_type": "stream",
     "text": [
      "863 µs ± 29.1 µs per loop (mean ± std. dev. of 7 runs, 1000 loops each)\n"
     ]
    }
   ],
   "source": [
    "%timeit \"12\"+\"3\"*1000000"
   ]
  },
  {
   "cell_type": "code",
   "execution_count": 38,
   "metadata": {},
   "outputs": [
    {
     "name": "stdout",
     "output_type": "stream",
     "text": [
      "13.7 ms ± 150 µs per loop (mean ± std. dev. of 7 runs, 100 loops each)\n"
     ]
    }
   ],
   "source": [
    "%timeit aniztuna(\"1\"+\"3\"*1000000)"
   ]
  },
  {
   "cell_type": "code",
   "execution_count": 37,
   "metadata": {},
   "outputs": [
    {
     "name": "stdout",
     "output_type": "stream",
     "text": [
      "224 ms ± 10.5 ms per loop (mean ± std. dev. of 7 runs, 1 loop each)\n"
     ]
    }
   ],
   "source": [
    "%timeit aniztuna2(\"1\"+\"3\"*1000000)"
   ]
  },
  {
   "cell_type": "code",
   "execution_count": 35,
   "metadata": {},
   "outputs": [
    {
     "name": "stdout",
     "output_type": "stream",
     "text": [
      "14.2 ms ± 479 µs per loop (mean ± std. dev. of 7 runs, 100 loops each)\n"
     ]
    }
   ],
   "source": [
    "%timeit aniztuna(\"12\"+\"3\"*1000000)"
   ]
  },
  {
   "cell_type": "code",
   "execution_count": 36,
   "metadata": {},
   "outputs": [
    {
     "name": "stdout",
     "output_type": "stream",
     "text": [
      "858 µs ± 14.5 µs per loop (mean ± std. dev. of 7 runs, 1000 loops each)\n"
     ]
    }
   ],
   "source": [
    "%timeit aniztuna2(\"12\"+\"3\"*1000000)"
   ]
  },
  {
   "cell_type": "markdown",
   "metadata": {},
   "source": [
    "## 2. Ariketa (6 puntu)\n",
    "<u>Aurreko funtzioa erabiliz</u>, sortu ezazu funtzio bat, hutsunez banandutako zenbaki arruntez beteriko testu fitxategi baten bideizena eta kodifikazioa jaso eta fitxategian gehien agertzen den zenbaki aniztuna bueltatuko duena (<u>int moduan</u>). Fitxategian zenbaki aniztunik ez balego, funtzioak None bueltatuko du. Agerpen kopuru maximoa duten zenbaki aniztun bat baina gehiago baleude, haietariko edozein bueltatuko du.\n",
    "\n",
    "**<u>OHARRA<u>**: Ez da beharrezkoa aurreko funtzioa eginda izatea, existitzen dela suposa dezakezu.\n"
   ]
  },
  {
   "cell_type": "markdown",
   "metadata": {},
   "source": [
    "Zenbaki arrunt piloa duen testu fitxategi bat sortzeko (ez du ariketak eskatzen, baina frogak egiteko behar dugu):"
   ]
  },
  {
   "cell_type": "code",
   "execution_count": 69,
   "metadata": {},
   "outputs": [],
   "source": [
    "from random import randint\n",
    "with open(\"zenbakiak.txt\", \"wt\", encoding=\"utf8\") as f:\n",
    "    for _ in range(100):\n",
    "        print(*[randint(1,1000) for _ in range(20)], file=f)"
   ]
  },
  {
   "cell_type": "code",
   "execution_count": 75,
   "metadata": {},
   "outputs": [],
   "source": [
    "def f2(filename, encoding=\"utf8\"):\n",
    "    h = {}\n",
    "    with open(filename, encoding=encoding) as f:\n",
    "        for line in f :\n",
    "            for x in line.split():\n",
    "                if aniztuna(x):\n",
    "                    h[x] = h.get(x,0) + 1\n",
    "    if not h :\n",
    "        return None\n",
    "    m = max(h.values())\n",
    "    for k,v in h.items():\n",
    "        if v == m :\n",
    "            return int(k)"
   ]
  },
  {
   "cell_type": "code",
   "execution_count": 76,
   "metadata": {},
   "outputs": [
    {
     "data": {
      "text/plain": [
       "489"
      ]
     },
     "execution_count": 76,
     "metadata": {},
     "output_type": "execute_result"
    }
   ],
   "source": [
    "f2(\"zenbakiak.txt\")"
   ]
  },
  {
   "cell_type": "markdown",
   "metadata": {},
   "source": [
    "`max`funtzioak, `sort` funtzioak bezala, `\"key\"` argumentu bat du, zeinak konparazio naturalaren ordez erabil daitekeen:"
   ]
  },
  {
   "cell_type": "code",
   "execution_count": 77,
   "metadata": {},
   "outputs": [
    {
     "name": "stdout",
     "output_type": "stream",
     "text": [
      "zz\n",
      "yyyyy\n"
     ]
    }
   ],
   "source": [
    "z = [\"xxx\", \"yyyyy\", \"zz\"]\n",
    "print(max(z))\n",
    "print(max(z, key=len))"
   ]
  },
  {
   "cell_type": "markdown",
   "metadata": {},
   "source": [
    "`key`argumentua erabiliz, zuzenean kalkulatu dezakegu `h` hiztegiko balio maximoko gakoa:"
   ]
  },
  {
   "cell_type": "code",
   "execution_count": 78,
   "metadata": {},
   "outputs": [
    {
     "data": {
      "text/plain": [
       "489"
      ]
     },
     "execution_count": 78,
     "metadata": {},
     "output_type": "execute_result"
    }
   ],
   "source": [
    "def second(item):\n",
    "    return item[1]\n",
    "\n",
    "def f2(filename, encoding=\"utf8\"):\n",
    "    h = {}\n",
    "    with open(filename, encoding=encoding) as f:\n",
    "        for line in f :\n",
    "            for x in line.split():\n",
    "                if aniztuna(x):\n",
    "                    h[x] = h.get(x,0) + 1\n",
    "    if not h :\n",
    "        return None\n",
    "    #k,v = max(h.items(), key = lambda item: item[1])\n",
    "    k,v = max(h.items(), key=second)\n",
    "    return int(k)\n",
    "\n",
    "f2(\"zenbakiak.txt\")"
   ]
  },
  {
   "cell_type": "markdown",
   "metadata": {},
   "source": [
    "Edo baita ere:"
   ]
  },
  {
   "cell_type": "code",
   "execution_count": 74,
   "metadata": {},
   "outputs": [
    {
     "data": {
      "text/plain": [
       "489"
      ]
     },
     "execution_count": 74,
     "metadata": {},
     "output_type": "execute_result"
    }
   ],
   "source": [
    "def f2(filename, encoding=\"utf8\"):\n",
    "    h = {}\n",
    "    with open(filename, encoding=encoding) as f:\n",
    "        for line in f :\n",
    "            for x in line.split():\n",
    "                if aniztuna(x):\n",
    "                    h[x] = h.get(x,0) + 1\n",
    "    return int(max(h.items(), key=second)[0]) if h else None\n",
    "\n",
    "f2(\"zenbakiak.txt\")"
   ]
  },
  {
   "cell_type": "markdown",
   "metadata": {},
   "source": [
    "Funtzio generadoreak erabiliz:"
   ]
  },
  {
   "cell_type": "code",
   "execution_count": 109,
   "metadata": {},
   "outputs": [
    {
     "data": {
      "text/plain": [
       "489"
      ]
     },
     "execution_count": 109,
     "metadata": {},
     "output_type": "execute_result"
    }
   ],
   "source": [
    "from functools import reduce\n",
    "\n",
    "def words(filename, encoding=\"utf8\"):\n",
    "     with open(filename, encoding=encoding) as f:\n",
    "        for line in f :\n",
    "            for x in line.split():\n",
    "                yield x\n",
    "\n",
    "def f2(filename, encoding=\"utf8\"):\n",
    "    h = {}\n",
    "    for x in words(filename, encoding=encoding):\n",
    "        if aniztuna(x):\n",
    "            h[x] = h.get(x,0) + 1\n",
    "    return int(max(h.items(), key=second)[0]) if h else None\n",
    "\n",
    "f2(\"zenbakiak.txt\")"
   ]
  },
  {
   "cell_type": "markdown",
   "metadata": {},
   "source": [
    "`filter` eta `reduce` erabiliz:"
   ]
  },
  {
   "cell_type": "code",
   "execution_count": 110,
   "metadata": {},
   "outputs": [
    {
     "data": {
      "text/plain": [
       "489"
      ]
     },
     "execution_count": 110,
     "metadata": {},
     "output_type": "execute_result"
    }
   ],
   "source": [
    "from functools import reduce\n",
    "\n",
    "def words(filename, encoding=\"utf8\"):\n",
    "     with open(filename, encoding=encoding) as f:\n",
    "        for line in f :\n",
    "            for x in line.split():\n",
    "                yield x\n",
    "\n",
    "def count(h,x):\n",
    "    h[x] = h.get(x,0) + 1\n",
    "    return h\n",
    "                    \n",
    "def f2(filename, encoding=\"utf8\"):\n",
    "    numbers = words(filename, encoding=encoding)\n",
    "    h = reduce(count,filter(aniztuna,numbers),{})\n",
    "    return int(max(h.items(), key=second)[0]) if h else None\n",
    "\n",
    "f2(\"zenbakiak.txt\")"
   ]
  },
  {
   "cell_type": "markdown",
   "metadata": {},
   "source": [
    "Python-eko `collections` moduloan existitzen da `Counter` clasea, zeinak histograma bat errepresentatzen duen hiztegi moduko objektu bat den (elementuak gehitu ahala, kontatu egiten ditu). Gainera, `most_common()` metodo bat du, zeinak sarrera guztiak zerrenda batean handitik txikira ordenatuta ematen dituen:"
   ]
  },
  {
   "cell_type": "code",
   "execution_count": 98,
   "metadata": {},
   "outputs": [
    {
     "data": {
      "text/plain": [
       "[('i', 8), ('a', 4), ('e', 3), ('u', 2), ('o', 1)]"
      ]
     },
     "execution_count": 98,
     "metadata": {},
     "output_type": "execute_result"
    }
   ],
   "source": [
    "from collections import Counter\n",
    "c = Counter(\"aaaaeeeiiiiiiiiouu\")\n",
    "c.most_common()"
   ]
  },
  {
   "cell_type": "code",
   "execution_count": 94,
   "metadata": {},
   "outputs": [
    {
     "data": {
      "text/plain": [
       "489"
      ]
     },
     "execution_count": 94,
     "metadata": {},
     "output_type": "execute_result"
    }
   ],
   "source": [
    "def words(filename, encoding=\"utf8\"):\n",
    "     with open(filename, encoding=encoding) as f:\n",
    "        for line in f :\n",
    "            for x in line.split():\n",
    "                yield x\n",
    "\n",
    "def f2(filename, encoding=\"utf8\"):\n",
    "    numbers = words(filename, encoding=encoding)\n",
    "    c = Counter(filter(aniztuna,numbers))\n",
    "    return int(c.most_common()[0][0]) if c else None\n",
    "\n",
    "f2(\"zenbakiak.txt\")"
   ]
  },
  {
   "cell_type": "markdown",
   "metadata": {},
   "source": [
    "Hala ere, `most_common()` funtzioak $O(n \\cdot \\log n)$ kostea du, elementu guztiak ordenatzen dituelako, beraz zuzenagoa litzateke hiztegiarekin egin dugun modan egitea:"
   ]
  },
  {
   "cell_type": "code",
   "execution_count": 99,
   "metadata": {},
   "outputs": [
    {
     "data": {
      "text/plain": [
       "489"
      ]
     },
     "execution_count": 99,
     "metadata": {},
     "output_type": "execute_result"
    }
   ],
   "source": [
    "def f2(filename, encoding=\"utf8\"):\n",
    "    with open(filename, encoding=encoding) as f:\n",
    "        c = Counter(x for line in f for x in line.split() if aniztuna(x))\n",
    "    return int(max(c.items(), key=second)[0]) if c else None\n",
    "\n",
    "f2(\"zenbakiak.txt\")"
   ]
  }
 ],
 "metadata": {
  "kernelspec": {
   "display_name": "Python 3",
   "language": "python",
   "name": "python3"
  },
  "language_info": {
   "codemirror_mode": {
    "name": "ipython",
    "version": 3
   },
   "file_extension": ".py",
   "mimetype": "text/x-python",
   "name": "python",
   "nbconvert_exporter": "python",
   "pygments_lexer": "ipython3",
   "version": "3.7.6"
  }
 },
 "nbformat": 4,
 "nbformat_minor": 4
}
