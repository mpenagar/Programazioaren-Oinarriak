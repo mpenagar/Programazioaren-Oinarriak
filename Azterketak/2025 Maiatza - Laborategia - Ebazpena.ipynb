{
 "cells": [
  {
   "cell_type": "markdown",
   "metadata": {},
   "source": [
    "# 1. Ariketa \n",
    "\n",
    "Liburu baten erreferentzia bibliografikoa adierazten duen `Book` klasea sortu nahi dugula. Klaseak ondoko metodoak izango ditu:\n",
    "* `__init__(self, title, author, isbn, year, editorial)`: Liburu baten edukia hasieratzen du.\n",
    "* `__str__(self)`: Ondoko itsura duen testu errepresentazioa bueltatzen du: \n",
    "J.r.r. Tolkien, \"El Señor De Los Anillos I: La Comunidad Del Anillo\", Minotauro, 2006.\n",
    "* `__repr__(self)`: liburu baten errepresentazio kanonikoa bueltatzen du\n",
    "* `get_title(self)`: liburuaren izenburua bueltatzen du\n",
    "* `get_author(self)`: liburuaren egilea bueltatzen du\n",
    "* `get_isbn(self)`: liburuaren ISBNa bueltatzen du\n",
    "* `get_year(self)`: liburuaren urtea bueltatzen du\n",
    "* `get_editorial(self)`: liburuaren editoriala bueltatzen du\n"
   ]
  },
  {
   "cell_type": "code",
   "execution_count": 1,
   "metadata": {},
   "outputs": [],
   "source": [
    "class Book(object):\n",
    "    def __init__(self, title, author, isbn, year, editorial):\n",
    "        self.__title = title\n",
    "        self.__title_lower = title.lower()\n",
    "        self.__author = author\n",
    "        self.__isbn = isbn # int\n",
    "        self.__year = year # int\n",
    "        self.__editorial = editorial\n",
    "        \n",
    "    def __str__(self):\n",
    "        return f'{self.__author}, \"{self.__title}\", {self.__editorial}, {self.__year}.'\n",
    "    \n",
    "    def __repr__(self):\n",
    "        return f'Book(\"{self.__title}\",\"{self.__author}\",{self.__isbn},{self.__year},\"{self.__editorial}\")'\n",
    "\n",
    "    # Hau ez da eskatzen, baina eval(repr(o))==o frogatzeko behar da  \n",
    "    def __eq__(self, other):\n",
    "        return type(other)==Book and other.__isbn == self.__isbn\n",
    "    \n",
    "    def get_title(self):\n",
    "        return self.__title\n",
    "    \n",
    "    def get_author(self):\n",
    "        return self.__author\n",
    "\n",
    "    def get_isbn(self):\n",
    "        return self.__isbn\n",
    "\n",
    "    def get_year(self):\n",
    "        return self.__year\n",
    "\n",
    "    def get_editorial(self):\n",
    "        return self.__editorial\n",
    "    \n",
    "    # Hau ez da eskatzen baina hurrengo ariketarako ongi dator.\n",
    "    # Testu bat izenburuan ote dagoen bueltatzen du\n",
    "    def __contains__(self, txt):\n",
    "        return txt.lower() in self.__title_lower    "
   ]
  },
  {
   "cell_type": "markdown",
   "metadata": {},
   "source": [
    "Froga batzuk (hau ez da eskatzen):"
   ]
  },
  {
   "cell_type": "code",
   "execution_count": 2,
   "metadata": {},
   "outputs": [
    {
     "name": "stdout",
     "output_type": "stream",
     "text": [
      "J.r.r. Tolkien, \"El Señor De Los Anillos I: La Comunidad Del Anillo\", Minotauro, 2006.\n",
      "Book(\"El Señor De Los Anillos I: La Comunidad Del Anillo\",\"J.r.r. Tolkien\",1234567890123,2006,\"Minotauro\")\n",
      "J.r.r. Tolkien, \"El Señor De Los Anillos I: La Comunidad Del Anillo\", Minotauro, 2006.\n",
      "True\n"
     ]
    }
   ],
   "source": [
    "b = Book(\"El Señor De Los Anillos I: La Comunidad Del Anillo\", \"J.r.r. Tolkien\", 1234567890123, 2006, \"Minotauro\")\n",
    "print(b)\n",
    "print(repr(b))\n",
    "print(eval(repr(b)))\n",
    "print(eval(repr(b)) == b)"
   ]
  },
  {
   "cell_type": "markdown",
   "metadata": {},
   "source": [
    "# 2. Ariketa\n",
    "\n",
    "Liburu (book) datu base (kolekzio) bat adierazten duen BookDB klasea sortu. Klaseak ondoko metodoak izango ditu:\n",
    "* `__init__(self, filename, encoding)`: Testu fitxategi batetan dauden liburu guztiekin hasieratzen du datu basea. Testu fitxategiko lehenengo ilara goiburu bat izango da eta ondorengo ilaretako bakoitzean liburu bana agertuko da, eremuak ‘,’ karaktereaz banatuak egongo direlarik:\n",
    "\n",
    "```\n",
    "    title,author,isbn,year,editorial\n",
    "    La Cita,Emilia Pardo Bazan,9788418451812,2021,Nordica\n",
    "    Exhalacion,Ted Chiang,9788417517793,2020,Sexto Piso\n",
    "    Sinsonte,Walter Tevis,9788418668371,2022,Impedimenta\n",
    "    …\n",
    "```\n",
    "* `add(self, book)`: Liburu (book) bat gehitzen du. Datu basean ezin dira ISBN errepikatuak egon (liburu errepikatuak).\n",
    "* `__len__(self)`: Liburu (book) kopurua bueltatzen du\n",
    "* `__iter__(self)`: Datu baseko liburu (book) sekuentziaren gaineko iteradorea bueltatzen du\n",
    "* `search(self, txt, year=None)`: Datu baseko liburuen izenburuan txt testua (maiuskula naiz minuskuletan) duten liburu (book) zerrenda bueltatzen du. `year=None` ez bada, soilik urte horretako emaitzak bueltatzen ditu.\n",
    "Frogak egiteko, eGelan duzuen `books.csv` fitxategia (utf8 kodifikazioa) erabil dezakezu.\n"
   ]
  },
  {
   "cell_type": "code",
   "execution_count": 3,
   "metadata": {},
   "outputs": [],
   "source": [
    "class BookDB(object):\n",
    "    def __init__(self, filename, encoding='utf8'):\n",
    "        self.__books = {}\n",
    "        with open(filename, encoding=encoding) as f:\n",
    "            f.readline()\n",
    "            for line in f:\n",
    "                title,author,isbn,year,editorial = line.rstrip().split(',')\n",
    "                self.add(Book(title, author, int(isbn), int(year), editorial))\n",
    "\n",
    "    def add(self, book):\n",
    "        self.__books[book.get_isbn()] = book\n",
    "    \n",
    "    def __len__(self):\n",
    "        return len(self.__books)\n",
    "    \n",
    "    def __iter__(self):\n",
    "        return iter(self.__books.values())\n",
    "    \n",
    "    def search(self, txt, year=None):\n",
    "        my_filter = lambda b : (year==None or b.get_year()==year) and txt in b\n",
    "        return list(filter(my_filter, self.__books.values()))         \n",
    "            "
   ]
  },
  {
   "cell_type": "markdown",
   "metadata": {},
   "source": [
    "Froga batzuk (hau ez da eskatzen):"
   ]
  },
  {
   "cell_type": "code",
   "execution_count": 4,
   "metadata": {},
   "outputs": [],
   "source": [
    "db = BookDB('books.csv')"
   ]
  },
  {
   "cell_type": "code",
   "execution_count": 5,
   "metadata": {},
   "outputs": [
    {
     "name": "stdout",
     "output_type": "stream",
     "text": [
      "J.r.r. Tolkien, \"El Señor De Los Anillos (Ne). Ilustrado Por Alan Lee\", Minotauro, 2022.\n",
      "J.r.r. Tolkien, \"El Señor De Los Anillos; El Silmarillion; El Hobbit (Estuche 5 Vo Ls.)\", Minotauro, 2002.\n",
      "J.r.r. Tolkien, \"El Fin De La Tercera Edad: La Historia Del Señor De Los Anillos 4 Historia De La Tierra Media\", Minotauro, 2002.\n",
      "J.r.r. Tolkien, \"El Señor De Los Anillos I: La Comunidad Del Anillo (Edicion Juven Il)\", Minotauro, 2006.\n",
      "J.r.r. Tolkien, \"El Retorno De La Sombra: La Historia De El Señor De Los Anillos 1 (Historia De La Tierra Media; T. 6)\", Minotauro, 2002.\n",
      "J.r.r. Tolkien, \"El Señor De Los Anillos. Edicion Especial 60 Aniversario\", Minotauro, 2015.\n",
      "J.r.r. Tolkien, \"La Comunidad Del Anillo (El Señor De Los Anillos; T.1)\", Minotauro, 1998.\n",
      "J.r.r. Tolkien, \"El Señor De Los Anillos Iii: El Retorno Del Rey (Edicion Juvenil)\", Minotauro, 2006.\n",
      "J.r.r. Tolkien, \"El Señor De Los Anillos Ii: Las Dos Torres (Edicion Juvenil)\", Minotauro, 2006.\n",
      "J.r.r. Tolkien, \"Las Dos Torres (El Señor De Los Anillos Ii)\", Minotauro, 2005.\n",
      "Jesus Serrano, \"Los Tres Anillos Del Sabio\", Magina, 2007.\n",
      "J.r.r. Tolkien, \"La Traicion De Isengard: La Historia De El Señor De Los Anillos 2 (T. 7)\", Minotauro, 2002.\n",
      "J.r.r. Tolkien, \"El Señor De Los Anillos Ii: Las Dos Torres (Tapa Dura Lujo)\", Minotauro, 2002.\n",
      "J.r.r. Tolkien, \"El Señor De Los Anillos I: La Comunidad Del Anillo (Tapa Dura Luj O)\", Minotauro, 2002.\n",
      "J.r.r. Tolkien, \"El Señor De Los Anillos (Ilustrado Por Alan Lee)\", Minotauro, 2019.\n",
      "Isaac Asimov, \"Los Anillos De Saturno (Vib)\", S.A. Ediciones B, 0.\n",
      "J.r.r. Tolkien, \"La Guerra Del Anillo: La Historia De El Señor De Los Anillos 3 (H Istoria De La Tierra Media; T. 8)\", Minotauro, 2002.\n",
      "J.r.r. Tolkien, \"El Señor De Los Anillos Nº 03/03 El Retorno Del Rey (Ne)\", Minotauro, 2022.\n",
      "J.r.r. Tolkien, \"El Señor De Los Anillos Nº 02/03 Las Dos Torres (Ne)\", Minotauro, 2022.\n",
      "J.r.r. Tolkien, \"El Señor De Los Anillos Iii: El Retorno Del Rey (Tapa Dura Lujo)\", Minotauro, 2002.\n",
      "J.r.r. Tolkien, \"El Señor De Los Anillos Nº 01/03 La Comunidad Del Anillo (Ne)\", Minotauro, 2022.\n",
      "J.r.r. Tolkien, \"El Señor De Los Anillos (Edicion Lujo. Ilustrado Por Alan Lee)\", Minotauro, 9999.\n"
     ]
    }
   ],
   "source": [
    "print(*db.search(\"anillos\"), sep='\\n')"
   ]
  },
  {
   "cell_type": "code",
   "execution_count": 6,
   "metadata": {},
   "outputs": [
    {
     "name": "stdout",
     "output_type": "stream",
     "text": [
      "J.r.r. Tolkien, \"El Señor De Los Anillos (Ne). Ilustrado Por Alan Lee\", Minotauro, 2022.\n",
      "J.r.r. Tolkien, \"El Señor De Los Anillos Nº 03/03 El Retorno Del Rey (Ne)\", Minotauro, 2022.\n",
      "J.r.r. Tolkien, \"El Señor De Los Anillos Nº 02/03 Las Dos Torres (Ne)\", Minotauro, 2022.\n",
      "J.r.r. Tolkien, \"El Señor De Los Anillos Nº 01/03 La Comunidad Del Anillo (Ne)\", Minotauro, 2022.\n"
     ]
    }
   ],
   "source": [
    "print(*db.search(\"anillos\",2022), sep='\\n')"
   ]
  }
 ],
 "metadata": {
  "kernelspec": {
   "display_name": "Python 3",
   "language": "python",
   "name": "python3"
  },
  "language_info": {
   "codemirror_mode": {
    "name": "ipython",
    "version": 3
   },
   "file_extension": ".py",
   "mimetype": "text/x-python",
   "name": "python",
   "nbconvert_exporter": "python",
   "pygments_lexer": "ipython3",
   "version": "3.7.6"
  }
 },
 "nbformat": 4,
 "nbformat_minor": 4
}
