{
 "cells": [
  {
   "cell_type": "markdown",
   "metadata": {},
   "source": [
    "### 3"
   ]
  },
  {
   "cell_type": "code",
   "execution_count": 191,
   "metadata": {},
   "outputs": [],
   "source": [
    "from random import random\n",
    "\n",
    "class BitMap(object):\n",
    "    \n",
    "    def __init__(self,size):\n",
    "        self.t = [[False]*size for _ in range(size)]\n",
    "        \n",
    "    def __len__(self):\n",
    "        k = 0\n",
    "        for z in self.t:\n",
    "            for x in z :\n",
    "                if x :\n",
    "                    k += 1\n",
    "        return k\n",
    "    def __len__(self):\n",
    "        k = 0\n",
    "        for z in self.t:\n",
    "            k += sum(z)\n",
    "        return k\n",
    "    def __len__(self):\n",
    "        return sum(sum(z) for z in self.t)\n",
    "    \n",
    "    def size(self):\n",
    "        return len(self.t)\n",
    "    \n",
    "    def get(self,i,j):\n",
    "        return self.t[i][j]\n",
    "    \n",
    "    def set(self,i,j):\n",
    "        self.t[i][j] = True\n",
    "        \n",
    "    def reset(self,i,j):\n",
    "        self.t[i][j] = False        \n",
    "        \n",
    "    def clear(self):\n",
    "        size = self.size()\n",
    "        self.t = [[False]*size for _ in range(size)]\n",
    "        \n",
    "    def random(self):\n",
    "        size = self.size()\n",
    "        self.t = [[random()>0.5 for _ in range(size)] for _ in range(size)]\n",
    "        \n",
    "    def invert(self):\n",
    "        #self.t = [[not x for x in z] for z in self.t]\n",
    "        size = self.size()\n",
    "        for i in range(size):\n",
    "            for j in range(size):\n",
    "                self.t[i][j] = not self.t[i][j]\n",
    "    \n",
    "    def __eq__(self,other):\n",
    "        return type(other) == BitMap and self.t == other.t\n",
    "    \n",
    "    def copy(self):\n",
    "        bm = BitMap(self.size())\n",
    "        #bm.t = [z[:] for z in self.t]\n",
    "        size = self.size()\n",
    "        for i in range(size):\n",
    "            for j in range(size):\n",
    "                #bm.t[i][j] = self.t[i][j]\n",
    "                if self.get(i,j):\n",
    "                    bm.set(i,j)\n",
    "        \n",
    "        return bm\n",
    "    \n",
    "    def is_symmetric_row(self,i):\n",
    "        for j in range(self.size()//2):\n",
    "            if self.t[i][j] != self.t[i][-(j+1)]:\n",
    "                return False\n",
    "        return True\n",
    "    def is_symmetric_col(self,j):\n",
    "        for i in range(self.size()//2):\n",
    "            if self.t[i][j] != self.t[-(i+1)][j]:\n",
    "                return False\n",
    "        return True\n",
    "    def is_symmetric(self):\n",
    "        size = self.size()\n",
    "        for i in range(size):\n",
    "            if not self.is_symmetric_row(i) :\n",
    "                break\n",
    "        else :\n",
    "            return True\n",
    "        for i in range(size):\n",
    "            if not self.is_symmetric_col(i) :\n",
    "                break\n",
    "        else :\n",
    "            return True\n",
    "        return False    \n",
    "\n",
    "    def is_symmetric_row(self,i):\n",
    "        return all(self.t[i][j] == self.t[i][-(j+1)] for j in range(self.size()//2))\n",
    "    def is_symmetric_col(self,j):\n",
    "        return all(self.t[i][j] == self.t[-(i+1)][j] for i in range(self.size()//2))    \n",
    "    def is_symmetric(self):\n",
    "        size = self.size()\n",
    "        return all(self.is_symmetric_row(i) for i in range(size)) or all(self.is_symmetric_col(i) for i in range(size))"
   ]
  },
  {
   "cell_type": "code",
   "execution_count": 186,
   "metadata": {},
   "outputs": [
    {
     "name": "stdout",
     "output_type": "stream",
     "text": [
      "0\n",
      "10\n",
      "2\n",
      "0\n",
      "61\n",
      "39\n"
     ]
    }
   ],
   "source": [
    "bm = BitMap(10)\n",
    "print(len(bm))\n",
    "print(bm.size())\n",
    "bm.set(0,3)\n",
    "bm.set(1,2)\n",
    "print(len(bm))\n",
    "bm.clear()\n",
    "print(len(bm))\n",
    "bm.random()\n",
    "print(len(bm))\n",
    "bm.invert()\n",
    "print(len(bm))\n"
   ]
  },
  {
   "cell_type": "code",
   "execution_count": 8,
   "metadata": {},
   "outputs": [
    {
     "data": {
      "text/plain": [
       "[[True, True, True], [True, True, True], [True, True, True]]"
      ]
     },
     "execution_count": 8,
     "metadata": {},
     "output_type": "execute_result"
    }
   ],
   "source": [
    "t = [[True]*3 for _ in range(3)]\n",
    "t"
   ]
  },
  {
   "cell_type": "code",
   "execution_count": 10,
   "metadata": {},
   "outputs": [
    {
     "data": {
      "text/plain": [
       "[[True, True, True], [True, True, True], [True, True, True]]"
      ]
     },
     "execution_count": 10,
     "metadata": {},
     "output_type": "execute_result"
    }
   ],
   "source": [
    "t = [[True for _ in range(3)] for _ in range(3)]\n",
    "t"
   ]
  },
  {
   "cell_type": "code",
   "execution_count": 11,
   "metadata": {},
   "outputs": [
    {
     "data": {
      "text/plain": [
       "[[True, True, True], [True, False, True], [True, True, True]]"
      ]
     },
     "execution_count": 11,
     "metadata": {},
     "output_type": "execute_result"
    }
   ],
   "source": [
    "t[1][1] = False\n",
    "t"
   ]
  },
  {
   "cell_type": "code",
   "execution_count": 15,
   "metadata": {},
   "outputs": [
    {
     "data": {
      "text/plain": [
       "2"
      ]
     },
     "execution_count": 15,
     "metadata": {},
     "output_type": "execute_result"
    }
   ],
   "source": [
    "sum(t[1])"
   ]
  },
  {
   "cell_type": "code",
   "execution_count": 190,
   "metadata": {},
   "outputs": [
    {
     "data": {
      "text/plain": [
       "True"
      ]
     },
     "execution_count": 190,
     "metadata": {},
     "output_type": "execute_result"
    }
   ],
   "source": [
    "a = [[1,2,3],[4,5,6],[7,8,9]]\n",
    "b = [[1,2,3],[4,5,6],[7,8,9]]\n",
    "a == b"
   ]
  }
 ],
 "metadata": {
  "kernelspec": {
   "display_name": "Python 3",
   "language": "python",
   "name": "python3"
  },
  "language_info": {
   "codemirror_mode": {
    "name": "ipython",
    "version": 3
   },
   "file_extension": ".py",
   "mimetype": "text/x-python",
   "name": "python",
   "nbconvert_exporter": "python",
   "pygments_lexer": "ipython3",
   "version": "3.7.6"
  }
 },
 "nbformat": 4,
 "nbformat_minor": 4
}
