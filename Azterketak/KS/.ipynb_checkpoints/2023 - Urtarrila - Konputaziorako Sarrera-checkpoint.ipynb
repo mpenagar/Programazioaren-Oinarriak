{
 "cells": [
  {
   "cell_type": "markdown",
   "metadata": {},
   "source": [
    "# 1\n",
    "\n",
    "### 1 a)\n",
    "\n",
    "Sortu ezazu `tenp2kol` funtzio bat, zenbaki osoz osotutako tenperatura zerrenda bat jasoko duena eta karaktere\n",
    "kate zerrenda bat bueltatuklo duena. Bueltatzen duen zerrendaren luzera sarrerako zerrendaren berdina izango\n",
    "da eta balioak sarrerako tenperaturen araberakoak izango dira: `berdea` tenperatura 5 baino txikiagoa edo\n",
    "berdina bada, `horia` tenperatura $(5, 10]$ tartean bada, `laranja` tenperatura $(10, 20]$ tartean bada eta\n",
    "`gorria` tenperatura 20 baino handiagoa bada."
   ]
  },
  {
   "cell_type": "code",
   "execution_count": null,
   "metadata": {},
   "outputs": [],
   "source": [
    "def tenp2col(tz):\n",
    "    kz = []\n",
    "    for t in tz :\n",
    "        if t <= 5 :\n",
    "            kz.append('berdea')\n",
    "        elif t <= 10 :\n",
    "            kz.append('horia')\n",
    "        elif t <= 20 :\n",
    "            kz.append('laranja')\n",
    "        else :\n",
    "            kz.append('gorria')\n",
    "    return kz"
   ]
  },
  {
   "cell_type": "code",
   "execution_count": null,
   "metadata": {},
   "outputs": [],
   "source": [
    "for i,k in enumerate(tenp2col(list(range(25)))):\n",
    "    print(i,'-->',k)"
   ]
  },
  {
   "cell_type": "markdown",
   "metadata": {},
   "source": [
    "### 1 b)\n",
    "\n",
    "Adierazi ezazu zer egiten duen ondoko kodeak. `BB_tenp_urtarrila_2010` eta `BB_tenp_urtarrila_2020`\n",
    "zerrendek, `hiriak` zerrendako hiri bakoitzak urte konkretu horretan urtarrilean jasotako batazbesteko tenperaturak\n",
    "izango dituzte.\n",
    "\n",
    "``` python\n",
    "def klima_aldaketa(tenpz1,tenpz2):\n",
    "    kont = 0\n",
    "    balioak = [\"berdea\",\"horia\",\"laranja\",\"gorria\"]\n",
    "    kolz1 = tenp2kol(tenpz1)\n",
    "    kolz2 = tenp2kol(tenpz2)\n",
    "    for i in range(len(kolz1)):\n",
    "        kol1 = kolz1[i]\n",
    "        kol2 = kolz2[i]\n",
    "        ind1 = balioak.index(kol1)\n",
    "        ind2 = balioak.index(kol2)\n",
    "        if ind2 > ind1:\n",
    "            kont += 1\n",
    "    return kont\n",
    "\n",
    "hiriak = ['Paris','Madril','Brasilia','Viena', 'Berlin']\n",
    "BB_tenp_urtarrila_2010 = [4,3,18,0,1]\n",
    "BB_tenp_urtarrila_2020 = [7,4,23,1,2]\n",
    "print(klima_aldaketa(BB_tenp_urtarrila_2010,BB_tenp_urtarrila_2020))   \n",
    "```"
   ]
  },
  {
   "cell_type": "markdown",
   "metadata": {},
   "source": [
    "#### Erantzuna:"
   ]
  },
  {
   "cell_type": "markdown",
   "metadata": {},
   "source": [
    "`klima_aldaketa` funtzioak jasotako tenperatura-kolore zerrendetan gertatutako tenperatura tarte igoera kopurua bueltatzen du. Tenperatura tarte igoera bat, kolore batek adierazten duen tenperatura tartetik balio handiagoak adierazten dituen beste kolore batetara pasatzean gertatzen da.\n",
    "\n",
    "Kodea exekutatzean, pantailan `2` balioa azalduko da, `Paris`-eko kolorea <span style=\"background-color:green\">berdetik</span> <span style=\"background-color:yellow\">horira</span> pasa delako eta `Brasilia`-ko kolorea <span style=\"background-color:orange\">laranjatik</span> <span style=\"background-color:red\">gorrira</span>. "
   ]
  },
  {
   "cell_type": "markdown",
   "metadata": {},
   "source": [
    "# 2\n",
    "\n",
    "Sheldon Cooper izenez ezaguna den 73 zenbaki osoak oinarri bitarrean adieraztean (1001001) ezaugarri bitxiak\n",
    "ditu:\n",
    "* zenbaki kapikua da (1001001 atzekoz aurrera berdin idazten da).\n",
    "* 7 digito ditu, 1 digitoa 3 aldiz agertzen delarik.\n",
    "\n",
    "Zenbaki oso baten adierazpen bitarra lortzeko, zenbakia 2-gatik zatitzean lortzen den hondarrekin gelditu behar gara,\n",
    "zenbakia 0 baina handiagoa den bitartean, ondoren adierazten den moduan:\n",
    "\n",
    "```\n",
    "73 zati 2 --> zatidura=36 hondarra=1 (dagoeneko: 1)\n",
    "36 zati 2 --> zatidura=18 hondarra=0 (dagoeneko: 01)\n",
    "18 zati 2 --> zatidura=9  hondarra=0 (dagoeneko: 001)\n",
    " 9 zati 2 --> zatidura=4  hondarra=1 (dagoeneko: 1001)\n",
    " 4 zati 2 --> zatidura=2  hondarra=0 (dagoeneko: 01001)\n",
    " 2 zati 2 --> zatidura=1  hondarra=0 (dagoeneko: 001001)\n",
    " 1 zati 2 --> zatidura=0  hondarra=1 (dagoeneko: 1001001)\n",
    "\n",
    "73-ren adierazpen bitarra: 1001001\n",
    "```"
   ]
  },
  {
   "cell_type": "markdown",
   "metadata": {},
   "source": [
    "### 2 a)\n",
    "\n",
    "Sortu ezazu zenbaki arrunt bat jaso eta bere adierazpen bitarra karaktere kate moduan bueltatuko duen funtzioa"
   ]
  },
  {
   "cell_type": "code",
   "execution_count": null,
   "metadata": {},
   "outputs": [],
   "source": [
    "def bitar(n):\n",
    "    if n == 0 :\n",
    "        return '0'\n",
    "    s = ''\n",
    "    while n > 0 :\n",
    "        s = str(n%2) + s\n",
    "        n = n // 2\n",
    "    return s"
   ]
  },
  {
   "cell_type": "code",
   "execution_count": null,
   "metadata": {},
   "outputs": [],
   "source": [
    "for i in range(11):\n",
    "    s = bitar(i)\n",
    "    print(' '*(6-len(s)),s)"
   ]
  },
  {
   "cell_type": "markdown",
   "metadata": {},
   "source": [
    "### 2 b)\n",
    "\n",
    "Sortu ezazu karaktere kate bat atzekoz aurrera jartzean bere buruaren berdina ote den konprobatuko duen funtzioa"
   ]
  },
  {
   "cell_type": "code",
   "execution_count": null,
   "metadata": {},
   "outputs": [],
   "source": [
    "def palindromo(s):\n",
    "    return s == s[::-1]"
   ]
  },
  {
   "cell_type": "code",
   "execution_count": null,
   "metadata": {},
   "outputs": [],
   "source": [
    "for i in range(10,101):\n",
    "    s = bitar(i)\n",
    "    if palindromo(s) :\n",
    "        print(i,s)"
   ]
  },
  {
   "cell_type": "markdown",
   "metadata": {},
   "source": [
    "### 2 c)\n",
    "\n",
    "Sortu ezazu $[10,99]$ arteko zenbaki arrunt bat jaso eta Sheldon Cooper-en propietateak betetze ote dituen bueltatuko\n",
    "duen funtzioa:\n",
    "* Bere adierazpen bitarra zenbaki kapikua izango da.\n",
    "* Hamartarrean adierazitako `XY` zenbakiaren adierazpen bitarraren luzera `X` izango da eta `Y` aldiz agertuko da 1 digitoa."
   ]
  },
  {
   "cell_type": "code",
   "execution_count": null,
   "metadata": {},
   "outputs": [],
   "source": [
    "def sheldon_cooper(n):\n",
    "    s = bitar(n)\n",
    "    X = n // 10\n",
    "    Y = n % 10\n",
    "    return palindromo(s) and len(s) == X and s.count('1') == Y"
   ]
  },
  {
   "cell_type": "code",
   "execution_count": null,
   "metadata": {},
   "outputs": [],
   "source": [
    "for i in range(10,101):\n",
    "    if sheldon_cooper(i):\n",
    "        print(i,bitar(i))"
   ]
  },
  {
   "cell_type": "markdown",
   "metadata": {},
   "source": [
    "# 3\n",
    "\n",
    "Demagun liburutegi baten liburuen kokapenari buruzko informazioa duen testu fitxategi bat daukagula. Fitxategiaren\n",
    "lehenengo lerroan, sail ezberdinen kopurua eta sailen apalategi kopurua gordeta dago. Ondoren, bost datu\n",
    "gordeta daude lerro bakoitzeko: izenburua, ISBN-a, kodea, sailari dagokion zenbakia (1-etik aurrera) eta apalategiari\n",
    "dagokion zenbakia (1-etik aurrera).\n",
    "Adibidez:\n",
    "```\n",
    "SAILAK 5 APALATEGIAK 6\n",
    "Suak erreko ez balu 978-84-19319-31-9 GL-34-BAR 3 1\n",
    "Ahaztuen mendekua 978-84-9783-737-8 GL-34-LAD 3 1\n",
    "Beirazko kanpaia 978-84-18252-86-0 N-Lap-ARD 5 4\n",
    "Hodeien gaineko aldean 978-84-19319-34-0 N-GAR-CIE 5 5\n",
    "```"
   ]
  },
  {
   "cell_type": "markdown",
   "metadata": {},
   "source": [
    "### 3 a)\n",
    "\n",
    "Funtzio bat sortu, adibideko formatua duen testu fitxategi baten bideizena eta kodifikazioa jasotzen duena eta\n",
    "matrize motako egitura bat bueltatzen duena. Matrizearen lerro kopurua n izango da (sail ezberdinen kopurua)\n",
    "eta zutabe kopura m (apalategi kopurua). Egiturak kokapen bakoitzean dauden liburuen kopurua gordeko du\n",
    "azpiko adibidean azaltzen den bezala (i. sail eta j. apaltegiari matrizeko $[i−1, j−1]$ posizioa dagokio), adibidez:\n",
    "\n",
    "```\n",
    "[[0,0,0,0,0,0],[0,0,0,0,0,0],[2,0,0,0,0,0],[0,0,0,0,0,0],[0,0,0,1,1,0]]\n",
    "```"
   ]
  },
  {
   "cell_type": "code",
   "execution_count": null,
   "metadata": {},
   "outputs": [],
   "source": [
    "def f3a(bideizena,kodif='utf8'):\n",
    "    f = open(bideizena,encoding=kodif)\n",
    "    z = f.readline().split()\n",
    "    ilara,zutabe = int(z[1]),int(z[3])\n",
    "    M = []\n",
    "    for i in range(ilara):\n",
    "        M.append([0]*zutabe)\n",
    "    for lerro in f :\n",
    "        z = lerro.split()\n",
    "        i,j = int(z[-2])-1,int(z[-1])-1\n",
    "        M[i][j] += 1\n",
    "    f.close()\n",
    "    return M"
   ]
  },
  {
   "cell_type": "code",
   "execution_count": null,
   "metadata": {},
   "outputs": [],
   "source": [
    "f3a('liburutegia.txt')"
   ]
  },
  {
   "cell_type": "markdown",
   "metadata": {},
   "source": [
    "### 3 b)\n",
    "\n",
    "Funtzio bat sortu, aurreko atalean lortutakoaren antzeko matrize bat eta sail bati dagokion 1-etik aurrerako zenbakia\n",
    "jasotzen dituena eta liburu gehien duen apalategiari dagokion zenbakia bueltatzen duena."
   ]
  },
  {
   "cell_type": "code",
   "execution_count": null,
   "metadata": {},
   "outputs": [],
   "source": [
    "def f3b(M,saila):\n",
    "    z = M[saila-1]\n",
    "    jmax,xmax = 0,z[0]\n",
    "    for j,x in enumerate(z):\n",
    "        if x > xmax :\n",
    "            xmax = x\n",
    "            jmax = j\n",
    "    return jmax + 1"
   ]
  },
  {
   "cell_type": "code",
   "execution_count": null,
   "metadata": {},
   "outputs": [],
   "source": [
    "M = f3a('liburutegia.txt')\n",
    "M"
   ]
  },
  {
   "cell_type": "code",
   "execution_count": null,
   "metadata": {},
   "outputs": [],
   "source": [
    "for i in range(1,6):\n",
    "    print(i,'. saila: ',f3b(M,i),sep='')"
   ]
  },
  {
   "cell_type": "markdown",
   "metadata": {},
   "source": [
    "### 3 c)\n",
    "\n",
    "Funtzio bat sortu, argumentu bezala aurreko atalean lortutakoaren antzeko matrizea bat eta apalategi bati dagokion\n",
    "1-etik aurrerako zenbakia jasotzen dituena eta liburu gehien duen sailari dagokion zenbakia bueltatzen duena."
   ]
  },
  {
   "cell_type": "code",
   "execution_count": null,
   "metadata": {},
   "outputs": [],
   "source": [
    "def f3c(M,apalategi):\n",
    "    j = apalategi-1\n",
    "    imax,xmax = 0,M[0][j]\n",
    "    for i in range(1,len(M)):\n",
    "        if M[i][j] > xmax :\n",
    "            xmax = M[i][j]\n",
    "            imax = i\n",
    "    return imax + 1        "
   ]
  },
  {
   "cell_type": "code",
   "execution_count": null,
   "metadata": {},
   "outputs": [],
   "source": [
    "M = f3a('liburutegia.txt')\n",
    "M"
   ]
  },
  {
   "cell_type": "code",
   "execution_count": null,
   "metadata": {},
   "outputs": [],
   "source": [
    "for j in range(1,7):\n",
    "    print(j,'. apalategia: ',f3c(M,j),sep='')"
   ]
  },
  {
   "cell_type": "markdown",
   "metadata": {},
   "source": [
    "### 3 d)\n",
    "\n",
    "Funtzio bat sortu, adibideko formatua duen testu fitxategi baten bideizena eta kodifikazioa jasotzen duena eta\n",
    "hiztegi bat bueltatzen duena. Hiztegiaren giltzak saila eta apalategiaren zenbakiez osoturiko (i, j) bikoteak\n",
    "izango dira. Giltza bakoitzari dagokion balioa zerrenda bat izango da, saila eta apalategi horri dagozkion liburuen\n",
    "ISBN-ak gordeta dituena. Adibidez:\n",
    "\n",
    "```\n",
    "{ (3,1):[\"978-84-19319-31-9\", \"978-84-9783-737-8\"],\n",
    "  (5,4):[\"978-84-18252-86-0\"],\n",
    "  (5,5):[\"978-84-19319-34-0\"]\n",
    "}\n",
    "```"
   ]
  },
  {
   "cell_type": "code",
   "execution_count": null,
   "metadata": {},
   "outputs": [],
   "source": [
    "def f3d(bideizena,kodif='utf8'):\n",
    "    f = open(bideizena,encoding=kodif)\n",
    "    f.readline()\n",
    "    h = {}\n",
    "    for lerro in f :\n",
    "        z = lerro.split()\n",
    "        ij = int(z[-2]),int(z[-1])\n",
    "        isbn = z[-4]\n",
    "        h.setdefault(ij,[]).append(isbn)\n",
    "    f.close()\n",
    "    return h"
   ]
  },
  {
   "cell_type": "code",
   "execution_count": null,
   "metadata": {},
   "outputs": [],
   "source": [
    "f3d('liburutegia.txt')"
   ]
  },
  {
   "cell_type": "markdown",
   "metadata": {},
   "source": [
    "### 3 e)\n",
    "\n",
    "Funtzio bat sortu, aurreko atalean lortutakoaren antzeko hiztegi bat eta sail bati dagokion zenbaki bat jasotzen\n",
    "dituena eta zerrenda bat bueltatzen duena. Zerrendan, sail horretan dauden liburu guztien ISBN-ak egongo dira.\n",
    "Adibidez, saila 5 izango balitz ondoko zerrenda bueltatu behako luke:\n",
    "\n",
    "```\n",
    "[\"978-84-18252-86-0\",\"978-84-19319-34-0\"]\n",
    "```"
   ]
  },
  {
   "cell_type": "code",
   "execution_count": null,
   "metadata": {},
   "outputs": [],
   "source": [
    "def f3e(h,saila):\n",
    "    z = []\n",
    "    for (i,j),isbnz in h.items():\n",
    "        if i == saila :\n",
    "            z.extend(isbnz)\n",
    "    return z"
   ]
  },
  {
   "cell_type": "code",
   "execution_count": null,
   "metadata": {},
   "outputs": [],
   "source": [
    "h = f3d('liburutegia.txt')\n",
    "for i in range(1,6):\n",
    "    print(i,'. saila: ',f3e(h,i),sep='')"
   ]
  },
  {
   "cell_type": "code",
   "execution_count": null,
   "metadata": {},
   "outputs": [],
   "source": []
  }
 ],
 "metadata": {
  "kernelspec": {
   "display_name": "Python 3",
   "language": "python",
   "name": "python3"
  },
  "language_info": {
   "codemirror_mode": {
    "name": "ipython",
    "version": 3
   },
   "file_extension": ".py",
   "mimetype": "text/x-python",
   "name": "python",
   "nbconvert_exporter": "python",
   "pygments_lexer": "ipython3",
   "version": "3.7.6"
  }
 },
 "nbformat": 4,
 "nbformat_minor": 4
}
