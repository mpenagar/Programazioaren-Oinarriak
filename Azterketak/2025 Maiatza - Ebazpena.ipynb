{
 "cells": [
  {
   "cell_type": "markdown",
   "metadata": {},
   "source": [
    "# 1. Ariketa \n",
    "\n",
    "Liburu baten erreferentzia bibliografikoa adierazten duen `Book` klasea sortu nahi dugula. Klaseak ondoko metodoak izango ditu:\n",
    "* `__init__(self, title, author, isbn, year, editorial)`: Liburu baten edukia hasieratzen du.\n",
    "* `__str__(self)`: Ondoko itsura duen testu errepresentazioa bueltatzen du: \n",
    "J.r.r. Tolkien, \"El Señor De Los Anillos I: La Comunidad Del Anillo\", Minotauro, 2006.\n",
    "* `__repr__(self)`: liburu baten errepresentazio kanonikoa bueltatzen du\n",
    "* `get_title(self)`: liburuaren izenburua bueltatzen du\n",
    "* `get_author(self)`: liburuaren egilea bueltatzen du\n",
    "* `get_isbn(self)`: liburuaren ISBNa bueltatzen du\n",
    "* `get_year(self)`: liburuaren urtea bueltatzen du\n",
    "* `get_editorial(self)`: liburuaren editoriala bueltatzen du\n"
   ]
  },
  {
   "cell_type": "code",
   "execution_count": 20,
   "metadata": {},
   "outputs": [],
   "source": [
    "class Book(object):\n",
    "    def __init__(self, title, author, isbn, year, editorial):\n",
    "        self.__title = title\n",
    "        self.__title_lower = title.lower()\n",
    "        self.__author = author\n",
    "        self.__isbn = isbn # int\n",
    "        self.__year = year # int\n",
    "        self.__editorial = editorial\n",
    "        \n",
    "    def __str__(self):\n",
    "        return f'{self.__author}, \"{self.__title}\", {self.__editorial}, {self.__year}.'\n",
    "    \n",
    "    def __repr__(self):\n",
    "        return f'Book(\"{self.__title}\",\"{self.__author}\",{self.__isbn},{self.__year},\"{self.__editorial}\")'\n",
    "\n",
    "    def __eq__(self, other):\n",
    "        return type(other)==Book and other.__isbn == self.__isbn\n",
    "    \n",
    "    def get_title(self):\n",
    "        return self.__title\n",
    "    \n",
    "    def get_author(self):\n",
    "        return self.__author\n",
    "\n",
    "    def get_isbn(self):\n",
    "        return self.__isbn\n",
    "\n",
    "    def get_year(self):\n",
    "        return self.__year\n",
    "\n",
    "    def get_editorial(self):\n",
    "        return self.__editorial\n",
    "    \n",
    "    ## check if title containf txt\n",
    "    def __contains__(self, txt_year):\n",
    "        return txt.lower() in self.__title_lower    "
   ]
  },
  {
   "cell_type": "markdown",
   "metadata": {},
   "source": [
    "Froga batzuk (hau es da eskatzen):"
   ]
  },
  {
   "cell_type": "code",
   "execution_count": 21,
   "metadata": {},
   "outputs": [
    {
     "name": "stdout",
     "output_type": "stream",
     "text": [
      "J.r.r. Tolkien, \"El Señor De Los Anillos I: La Comunidad Del Anillo\", Minotauro, 2006.\n",
      "Book(\"El Señor De Los Anillos I: La Comunidad Del Anillo\",\"J.r.r. Tolkien\",1234567890123,2006,\"Minotauro\")\n",
      "J.r.r. Tolkien, \"El Señor De Los Anillos I: La Comunidad Del Anillo\", Minotauro, 2006.\n",
      "True\n"
     ]
    }
   ],
   "source": [
    "b = Book(\"El Señor De Los Anillos I: La Comunidad Del Anillo\", \"J.r.r. Tolkien\", 1234567890123, 2006, \"Minotauro\")\n",
    "print(b)\n",
    "print(repr(b))\n",
    "print(eval(repr(b)))\n",
    "print(eval(repr(b)) == b)"
   ]
  },
  {
   "cell_type": "markdown",
   "metadata": {},
   "source": [
    "# 2. Ariketa\n",
    "\n",
    "Liburu (book) datu base (kolekzio) bat adierazten duen BookDB klasea sortu. Klaseak ondoko metodoak izango ditu:\n",
    "* `__init__(self, filename, encoding)`: Testu fitxategi batetan dauden liburu guztiekin hasieratzen du datu basea. Testu fitxategiko lehenengo ilara goiburu bat izango da eta ondorengo ilaretako bakoitzean liburu bana agertuko da, eremuak ‘,’ karaktereaz banatuak egongo direlarik:\n",
    "\n",
    "```\n",
    "    title,author,isbn,year,editorial\n",
    "    La Cita,Emilia Pardo Bazan,9788418451812,2021,Nordica\n",
    "    Exhalacion,Ted Chiang,9788417517793,2020,Sexto Piso\n",
    "    Sinsonte,Walter Tevis,9788418668371,2022,Impedimenta\n",
    "    …\n",
    "```\n",
    "* `add(self, book)`: Liburu (book) bat gehitzen du. Datu basean ezin dira ISBN errepikatuak egon (liburu errepikatuak).\n",
    "* `__len__(self)`: Liburu (book) kopurua bueltatzen du\n",
    "* `__iter__(self)`: Datu baseko liburu (book) sekuentziaren gaineko iteradorea bueltatzen du\n",
    "* `search(self, txt, year=None)`: Datu baseko liburuen izenburuan txt testua (maiuskula naiz minuskuletan) duten liburu (book) zerrenda bueltatzen du. `year=None` ez bada, soilik urte horretako emaitzak bueltatzen ditu.\n",
    "Frogak egiteko, eGelan duzuen `books.csv` fitxategia (utf8 kodifikazioa) erabil dezakezu.\n"
   ]
  },
  {
   "cell_type": "code",
   "execution_count": 22,
   "metadata": {},
   "outputs": [],
   "source": [
    "class BookDB(object):\n",
    "    def __init__(self, filename, encoding='utf8'):\n",
    "        self.__books = {}\n",
    "        with open(filename, encoding=encoding) as f:\n",
    "            f.readline()\n",
    "            for line in f:\n",
    "                title,author,isbn,year,editorial = line.split(',')\n",
    "                self.add(Book(title, author, int(isbn), int(year), editorial))\n",
    "\n",
    "    def add(self, book):\n",
    "        self.__books[book.get_isbn()] = book\n",
    "    \n",
    "    def __len__(self):\n",
    "        return len(self.__books)\n",
    "    \n",
    "    def __iter__(self):\n",
    "        return iter(self.__books.values())\n",
    "    \n",
    "    def search(self, txt, year=None):\n",
    "        if year==None :\n",
    "            search_filter = lambda b : txt in b\n",
    "        else:\n",
    "            search_filter = lambda b : b.get_year()==year and txt in b\n",
    "\n",
    "        return list(filter(search_filter, self.__books.values()))         \n",
    "            \n",
    "db = BookDB('books.csv')"
   ]
  },
  {
   "cell_type": "code",
   "execution_count": null,
   "metadata": {},
   "outputs": [],
   "source": []
  },
  {
   "cell_type": "code",
   "execution_count": null,
   "metadata": {},
   "outputs": [],
   "source": []
  }
 ],
 "metadata": {
  "kernelspec": {
   "display_name": "Python 3",
   "language": "python",
   "name": "python3"
  },
  "language_info": {
   "codemirror_mode": {
    "name": "ipython",
    "version": 3
   },
   "file_extension": ".py",
   "mimetype": "text/x-python",
   "name": "python",
   "nbconvert_exporter": "python",
   "pygments_lexer": "ipython3",
   "version": "3.7.6"
  }
 },
 "nbformat": 4,
 "nbformat_minor": 4
}
