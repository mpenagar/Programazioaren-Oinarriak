{
 "cells": [
  {
   "cell_type": "markdown",
   "metadata": {},
   "source": [
    "# 2021-ko Maiatzeko Ohiko Deialdiko Azterketa "
   ]
  },
  {
   "cell_type": "markdown",
   "metadata": {},
   "source": [
    "## 1. Ariketa (3 puntu)\n",
    "\n",
    "Sortu itzazu ondoko funtzioak:\n",
    "\n",
    "* **1a** -  Zenbaki arrunt bat adierazten duen s karaktere kate bat jaso eta 2 digito ezberdin edo gehiago ote dituen bueltatuko duen funtzioa. Adibidez `'27722'` kateak soilik 2 digito ezberdin ditu eta `'4019'` kateak ordea 4"
   ]
  },
  {
   "cell_type": "code",
   "execution_count": 1,
   "metadata": {},
   "outputs": [],
   "source": [
    "def f1a(s):\n",
    "    return len(set(s)) >= 2"
   ]
  },
  {
   "cell_type": "code",
   "execution_count": 2,
   "metadata": {},
   "outputs": [
    {
     "name": "stdout",
     "output_type": "stream",
     "text": [
      "f1a('27722'): True\n",
      "f1a('4019'): True\n",
      "f1a('27'): True\n",
      "f1a('277'): True\n",
      "f1a('22'): False\n",
      "f1a('22222222'): False\n"
     ]
    }
   ],
   "source": [
    "# Exekuzio adibidea (HAU EZ DA ESKATZEN)\n",
    "for x in ('27722','4019','27', '277', '22', '22222222') :\n",
    "    print(f'f1a({repr(x)}): {f1a(x)}')"
   ]
  },
  {
   "cell_type": "markdown",
   "metadata": {},
   "source": [
    "* **1b** - Hutsunez banandutako zenbaki arruntez osotutako testu fitxategi baten bideizena eta bere kodifikazioa jaso, eta hiztegi bat bueltatuko duen funtzioa. Hiztegiaren gakoak 2 digito ezberdin edo gehiago dituzten **zenbaki osoak** izango dira eta balioak zenbaki bakoitzaren agerpen kopurua."
   ]
  },
  {
   "cell_type": "code",
   "execution_count": 3,
   "metadata": {},
   "outputs": [],
   "source": [
    "def f1b(filename,encoding='utf8'):\n",
    "    with open(filename, encoding=encoding) as f:\n",
    "        h = {}\n",
    "        for line in f :\n",
    "            for w in line.split():\n",
    "                if f1a(w):\n",
    "                    i = int(w) \n",
    "                    h[i] = h.get(i,0) + 1\n",
    "        return h"
   ]
  },
  {
   "cell_type": "code",
   "execution_count": 4,
   "metadata": {},
   "outputs": [
    {
     "data": {
      "text/plain": [
       "{12: 4, 123: 5, 23: 3, 1224: 1, 213: 1, 112: 2, 1231: 2, 2312: 1, 32: 1}"
      ]
     },
     "execution_count": 4,
     "metadata": {},
     "output_type": "execute_result"
    }
   ],
   "source": [
    "# Exekuzio adibidea (HAU EZ DA ESKATZEN)\n",
    "f1b('ZenbakiArruntak.txt')"
   ]
  },
  {
   "cell_type": "markdown",
   "metadata": {},
   "source": [
    "* **1c** - Aurreko funtzioak bueltatzen duen moduko hiztegi bat jaso eta hiztegi berri bat bueltatuko duen funtzioa. Hiztegiaren gakoak zenbakien digito ezberdin kopuruak izango dira eta balioak, digito ezberdin kopuru hori duten **zenbaki oso zerrenda**."
   ]
  },
  {
   "cell_type": "code",
   "execution_count": 5,
   "metadata": {},
   "outputs": [],
   "source": [
    "def f1c(h):\n",
    "    h2 = {}\n",
    "    for i in h :\n",
    "        ndig = len(set(str(i)))\n",
    "        h2.setdefault(ndig,[]).append(i)\n",
    "    return h2"
   ]
  },
  {
   "cell_type": "code",
   "execution_count": 6,
   "metadata": {},
   "outputs": [
    {
     "data": {
      "text/plain": [
       "{2: [12, 23, 112, 32], 3: [123, 1224, 213, 1231, 2312]}"
      ]
     },
     "execution_count": 6,
     "metadata": {},
     "output_type": "execute_result"
    }
   ],
   "source": [
    "# Exekuzio adibidea (HAU EZ DA ESKATZEN)\n",
    "f1c(f1b('ZenbakiArruntak.txt'))"
   ]
  },
  {
   "cell_type": "markdown",
   "metadata": {},
   "source": [
    "## 2. Ariketa (2 puntu)\n",
    "\n",
    "Demagun ondoko funtzioa dugula, zenbaki errealez osotutako z zerrenda jasotzen duena eta bi edozein elementuen arteko distantzia maximoa bueltatzen duena:\n",
    "\n",
    "```python\n",
    "def max_dist(z):\n",
    "    dmax = abs(z[0]-z[1])\n",
    "    for i in range(len(z)-1):\n",
    "        for j in range(i+1, len(z)):\n",
    "\t\t    d = abs(z[i]-z[j])\n",
    "            if d > dmax:\n",
    "                dmax = d\n",
    "    return dmax\n",
    "```\n",
    "\n",
    "* **2a** - Aztertu funtzioaren konplexutasun tenporala, zerrendaren `n=len(z)` tamainarekiko, notazio asintotikoan adieraziz."
   ]
  },
  {
   "cell_type": "markdown",
   "metadata": {},
   "source": [
    "Funtzioak ez du kasu on edo txarrik, beraz orden zehatza kalkulatuko dugu zuzenean:\n",
    "\n",
    "```python\n",
    "def max_dist(z):\n",
    "    dmax = abs(z[0]-z[1])             # 1 pausu\n",
    "    for i in range(len(z)-1):         # (n-1) x 1 pausu\n",
    "        for j in range(i+1, len(z)):  # (n-1) + (n-2) + ... + 2 + 1 pausu\n",
    "\t\t    d = abs(z[i]-z[j])        # (n-1) + (n-2) + ... + 2 + 1 pausu\n",
    "            if d > dmax:              # (n-1) + (n-2) + ... + 2 + 1 pausu\n",
    "                dmax = d              # aurrekoaren barnean\n",
    "    return dmax                       # 1 pausu\n",
    "```\n",
    "Beraz, denera:\n",
    "\n",
    "$$ t(n) = 2 + (n-1) + 3 \\cdot (n-1 + n-2 + \\dots + 2 + 1) = 1 + n + \\frac{3n \\cdot (n-1)}{2} \\quad\\in \\Theta(n^2)$$\n"
   ]
  },
  {
   "cell_type": "markdown",
   "metadata": {},
   "source": [
    "Funtzioak `for i in range(...)` moduko kontrol egiturak erabiltzen dituenes, $t(n)$ pausu kopurua zuzenean batukarien bidez ere lor daiteke:\n",
    "\n",
    "$$t(n) = 1 + \\sum_{i=0}^{n-2} \\sum_{j=i+1}^{n-1}{1} = 1 + \\sum_{i=0}^{n-2} (n-i-1) \\underset{k=n-i-1}{=} 1 + \\sum_{k=n-1}^{1} k = 1 + \\frac{(n-1) \\cdot n}{2}  \\quad\\in \\Theta(n^2)$$\n"
   ]
  },
  {
   "cell_type": "markdown",
   "metadata": {},
   "source": [
    "* **2b** - Saia zaitez algoritmo bizkorrago bat sortzen eta bere konplexutasun tenporala aztertu ezazu.\n",
    "\n",
    "Bi algoritmo bizkorrago jarriko ditugu, lehenengoa $\\Theta(n\\log n)$ eta bigarrena $\\Theta(n)$. Argi eta garbi, bigarrena da zuzenena. "
   ]
  },
  {
   "cell_type": "code",
   "execution_count": 7,
   "metadata": {},
   "outputs": [],
   "source": [
    "def max_dist(z):\n",
    "    # kontuz z.sort() egitearekin\n",
    "    z = sorted(z)      # (n + n x log n) pausu: n kopia egiteko eta nxlogn ordenatzeko\n",
    "    return z[-1]-z[0]  # 1 pausu"
   ]
  },
  {
   "cell_type": "code",
   "execution_count": 8,
   "metadata": {},
   "outputs": [],
   "source": [
    "def max_dist(z):\n",
    "    return max(z) - min(z)  # (2 x n + 1) pausu: n max eta min kalkulatzeko eta 1 kenketarako\n"
   ]
  },
  {
   "cell_type": "markdown",
   "metadata": {},
   "source": [
    "## 3. Ariketa (puntu 1)\n",
    "\n",
    "`z` zerrenda batetatik `x` balio baten agerpen guztiak ezabatuko dituen funtzioa sortu ezazu. Funtzioak $\\Theta(n)$ orden zehatza izan beharko du, `n=len(z)` zerrendaren tamaina delarik. Funtzioak ez du zerrenda berri bat bueltatuko, jasotako zerrendan aldaketak egingo dituelarik."
   ]
  },
  {
   "cell_type": "code",
   "execution_count": 9,
   "metadata": {},
   "outputs": [],
   "source": [
    "def f3(z,x):\n",
    "    aux = [y for y in z if y != x]\n",
    "    z.clear()\n",
    "    z.extend(aux)"
   ]
  },
  {
   "cell_type": "code",
   "execution_count": 10,
   "metadata": {},
   "outputs": [
    {
     "data": {
      "text/plain": [
       "[1, 2, 4, 5, 4, 2, 1, 2, 2, 1, 2, 1]"
      ]
     },
     "execution_count": 10,
     "metadata": {},
     "output_type": "execute_result"
    }
   ],
   "source": [
    "# Exekuzio adibidea (HAU EZ DA ESKATZEN)\n",
    "z = [1,2,3,4,5,4,3,2,1,2,3,2,1,2,3,1]\n",
    "f3(z,3)\n",
    "z"
   ]
  },
  {
   "cell_type": "markdown",
   "metadata": {},
   "source": [
    "## 4. Ariketa (4 puntu)\n",
    "\n",
    "Sortu ezazu $\\frac{a}{b}$ moduko zatikiak ($a$ eta $b$ zenbaki osoak izanik) adieraziko dituen `Fraction` klasea. Klaseak ondoko metodoak izango ditu:\n",
    "\n",
    "* `__init__(self,a,b)` $\\frac{a}{b}$ zatiki berri bat sortuko du eta ondorengo baldintzak beteko dira:\n",
    "\n",
    "   * $b=0$ balitz `ValueError`  motako salbuespena gertatuko da.\n",
    "   * Zatikiaren zeinua zatikizunak eramango du. Hau da, $b$ zatitzailea beti balio positiboarekin geldituko da.\n",
    "   * Zatikia forma laburtuan geldituko da. Hau da, $a \\ne 0$ izanik, $i=zkh(|a|,|b|)$ $|a|$ eta $|b|$-ren Zatitzaile Komunetako Handiena bada, orduan gordeko den forma laburtua $\\frac{a/i}{b/i}$ izango da. $a=0$ bada, *zatiki nulua* dela diogu eta zatikia $\\frac{0}{1}$ moduan geldituko da.\n",
    "\n",
    "* `__add__(self, other)` Bi zatikien batura (zatiki bat) bueltatzen du.\n",
    "* `__sub__(self, other)` Bi zatikien kenketa (zatiki bat) bueltatzen du.\n",
    "* `__mul__(self, other)` Bi zatikien biderkadura (zatiki bat) bueltatzen du.\n",
    "* `__truediv__(self, other)` Bi zatikien zatidura (zatiki bat) bueltatzen du. `other` zatikia $\\frac{0}{1}$ *zatiki nulua* bada, `ZeroDivisionError` motako salbuespena gertatuko da.\n",
    "* `__invert__(self)` Alderantzizko zatikia bueltatzen du. `self` zatikia $\\frac{0}{1}$ *zatiki nulua* bada, `ZeroDivisionError` motako salbuespena gertatuko da.\n",
    "* `__neg__(self)` Alderantzizko zeinua duen zatikia bueltatzen du.\n",
    "* `__eq__(self, other)` Bi zatiki berdinak ote diren bueltatzen du.\n",
    "* `__str__(self)` Zatikiaren testu errepresentazio bat bueltatzen du.\n",
    "* `__repr__(self)` Zatikiaren testu errepresentazio kanonikoa bueltatzen du."
   ]
  },
  {
   "cell_type": "code",
   "execution_count": 11,
   "metadata": {},
   "outputs": [],
   "source": [
    "class Fraction(object):\n",
    "    \n",
    "    def __init__(self,a,b):\n",
    "        if b == 0 :\n",
    "            raise ValueError('Zero divisor')\n",
    "        if b < 0:\n",
    "            a,b = -a,-b\n",
    "        if a != 0 :\n",
    "            i = Fraction.gcd(a,b)\n",
    "            a,b = a//i,b//i\n",
    "        else :\n",
    "            b = 1\n",
    "        self.a,self.b = a,b\n",
    "        \n",
    "    def gcd(i,j):\n",
    "        r = i%j\n",
    "        return j if r==0 else Fraction.gcd(j,r)\n",
    "    \n",
    "    def __add__(self,other):\n",
    "        return Fraction(self.a*other.b+self.b*other.a, self.b*other.b)\n",
    "    \n",
    "    def __sub__(self,other):\n",
    "        return Fraction(self.a*other.b-self.b*other.a, self.b*other.b)\n",
    "    \n",
    "    def __mul__(self,other):\n",
    "        return Fraction(self.a*other.a, self.b*other.b)\n",
    "    \n",
    "    def __bool__(self):\n",
    "        return bool(self.a)\n",
    "    \n",
    "    def __truediv__(self,other):\n",
    "        if other :\n",
    "            return Fraction(self.a*other.b, self.b*other.a)\n",
    "        else:\n",
    "            raise ZeroDivisionError(\"Division by null fraction\")\n",
    "    \n",
    "    def __invert__(self):\n",
    "        if self :\n",
    "            return Fraction(self.b, self.a)\n",
    "        else:\n",
    "            raise ZeroDivisionError(\"Could not invert null fraction\")\n",
    "\n",
    "    def __neg__(self):\n",
    "        return Fraction(-self.a,self.b)\n",
    "    \n",
    "    def __eq__(self,other):\n",
    "        return type(other)==Fraction and self.a == other.a and self.b == other.b\n",
    "    \n",
    "    def __str__(self):\n",
    "        return f'{self.a}/{self.b}'\n",
    "    \n",
    "    def __repr__(self):\n",
    "        return f'Fraction({self.a},{self.b})'"
   ]
  },
  {
   "cell_type": "code",
   "execution_count": 12,
   "metadata": {},
   "outputs": [
    {
     "name": "stdout",
     "output_type": "stream",
     "text": [
      "-------------------- str --------------------\n",
      "Fraction(1,2) = 1/2\n",
      "Fraction(-5,-10) = 1/2\n",
      "Fraction(10,-20) = -1/2\n",
      "Fraction(10,25) = 2/5\n",
      "Fraction(24,42) = 4/7\n",
      "Fraction(34234,1312123512) = 17117/656061756\n",
      "Fraction(0,34) = 0/1\n",
      "-------------------- repr/eval --------------------\n",
      "True\n",
      "-------------------- add --------------------\n",
      "1/2 + 1/2 = 1/1\n",
      "1/2 + -1/2 = 0/1\n",
      "-1/2 + 2/5 = -1/10\n",
      "2/5 + 4/7 = 34/35\n",
      "4/7 + 17117/656061756 = 53558507/93723108\n",
      "17117/656061756 + 0/1 = 17117/656061756\n",
      "-------------------- sub --------------------\n",
      "1/2 - 1/2 = 0/1\n",
      "1/2 - -1/2 = 1/1\n",
      "-1/2 - 2/5 = -9/10\n",
      "2/5 - 4/7 = -6/35\n",
      "4/7 - 17117/656061756 = 374875315/656061756\n",
      "17117/656061756 - 0/1 = 17117/656061756\n",
      "-------------------- mul --------------------\n",
      "1/2 * 1/2 = 1/4\n",
      "1/2 * -1/2 = -1/4\n",
      "-1/2 * 2/5 = -1/5\n",
      "2/5 * 4/7 = 8/35\n",
      "4/7 * 17117/656061756 = 17117/1148108073\n",
      "17117/656061756 * 0/1 = 0/1\n",
      "-------------------- truediv --------------------\n",
      "1/2 / 1/2 = 1/1\n",
      "1/2 / -1/2 = -1/1\n",
      "-1/2 / 2/5 = -5/4\n",
      "2/5 / 4/7 = 7/10\n",
      "4/7 / 17117/656061756 = 374892432/17117\n",
      "17117/656061756 / 0/1 --> Division by null fraction\n",
      "-------------------- invert --------------------\n",
      "~ 1/2 = 2/1\n",
      "~ 1/2 = 2/1\n",
      "~ -1/2 = -2/1\n",
      "~ 2/5 = 5/2\n",
      "~ 4/7 = 7/4\n",
      "~ 17117/656061756 = 656061756/17117\n",
      "~ 0/1 --> Could not invert null fraction\n",
      "-------------------- neg --------------------\n",
      "- 1/2 = -1/2\n",
      "- 1/2 = -1/2\n",
      "- -1/2 = 1/2\n",
      "- 2/5 = -2/5\n",
      "- 4/7 = -4/7\n",
      "- 17117/656061756 = -17117/656061756\n",
      "- 0/1 = 0/1\n"
     ]
    }
   ],
   "source": [
    "# Exekuzio adibidea (HAU EZ DA ESKATZEN)\n",
    "\n",
    "z = [(1,2),(-5,-10),(10,-20),(10,25),(24,42),(34234,1312123512),(0,34)]\n",
    "F = [Fraction(a,b) for a,b in z]\n",
    "\n",
    "# str frogatu\n",
    "print(\"-\"*20,'str',\"-\"*20)\n",
    "for (a,b),f in zip(z,F):\n",
    "    print(f'Fraction({a},{b}) = {f}')\n",
    "    \n",
    "# repr<-->eval frogatu\n",
    "print(\"-\"*20,'repr/eval',\"-\"*20)\n",
    "print(all(eval(repr(f)) == f for f in F))\n",
    "\n",
    "# batura frogatu\n",
    "print(\"-\"*20,'add',\"-\"*20)\n",
    "for f1,f2 in zip(F,F[1:]):\n",
    "    print(f'{f1} + {f2} = {f1+f2}')\n",
    "\n",
    "# kenketa frogatu\n",
    "print(\"-\"*20,'sub',\"-\"*20)\n",
    "for f1,f2 in zip(F,F[1:]):\n",
    "    print(f'{f1} - {f2} = {f1-f2}')\n",
    "\n",
    "# biderkadura frogatu\n",
    "print(\"-\"*20,'mul',\"-\"*20)\n",
    "for f1,f2 in zip(F,F[1:]):\n",
    "    print(f'{f1} * {f2} = {f1*f2}')\n",
    "\n",
    "# zatidura frogatu\n",
    "print(\"-\"*20,'truediv',\"-\"*20)\n",
    "for f1,f2 in zip(F,F[1:]):\n",
    "    try:\n",
    "        print(f'{f1} / {f2} = {f1/f2}')\n",
    "    except ZeroDivisionError as e:\n",
    "        print(f'{f1} / {f2} --> {e}')\n",
    "    \n",
    "# inbertsioa frogatu\n",
    "print(\"-\"*20,'invert',\"-\"*20)\n",
    "for f1 in F:\n",
    "    try:\n",
    "        print(f'~ {f1} = {~f1}')\n",
    "    except ZeroDivisionError as e:\n",
    "        print(f'~ {f1} --> {e}')\n",
    "\n",
    "# negazioa frogatu\n",
    "print(\"-\"*20,'neg',\"-\"*20)\n",
    "for f1 in F:\n",
    "    print(f'- {f1} = {-f1}')\n"
   ]
  }
 ],
 "metadata": {
  "kernelspec": {
   "display_name": "Python 3",
   "language": "python",
   "name": "python3"
  },
  "language_info": {
   "codemirror_mode": {
    "name": "ipython",
    "version": 3
   },
   "file_extension": ".py",
   "mimetype": "text/x-python",
   "name": "python",
   "nbconvert_exporter": "python",
   "pygments_lexer": "ipython3",
   "version": "3.7.6"
  }
 },
 "nbformat": 4,
 "nbformat_minor": 4
}
