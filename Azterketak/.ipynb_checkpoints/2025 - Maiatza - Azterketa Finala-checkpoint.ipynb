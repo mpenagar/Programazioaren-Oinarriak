{
 "cells": [
  {
   "cell_type": "markdown",
   "metadata": {},
   "source": [
    "## 1 Hiztegi iragarleak"
   ]
  },
  {
   "cell_type": "code",
   "execution_count": 1,
   "metadata": {},
   "outputs": [],
   "source": [
    "def aurrizkiak(w):\n",
    "    for i in range(1,len(w)):\n",
    "        yield w[:i]\n",
    "def get_predict(h):\n",
    "    pred = {}\n",
    "    for w,n, in h.items():\n",
    "        for a in aurrizkiak(w):\n",
    "            if n > h.get(pred.get(a,None),0):\n",
    "                pred[a] = w\n",
    "    return pred"
   ]
  },
  {
   "cell_type": "markdown",
   "metadata": {},
   "source": [
    "Erabilpen adibide bat (ez da eskatzen):"
   ]
  },
  {
   "cell_type": "code",
   "execution_count": 2,
   "metadata": {},
   "outputs": [
    {
     "name": "stdout",
     "output_type": "stream",
     "text": [
      "ez --> e\n",
      "erre --> e er err\n",
      "eraman --> e er era eram erama\n"
     ]
    }
   ],
   "source": [
    "for w in [\"ez\", \"erre\", \"eraman\"]:\n",
    "    print(w,\"-->\",*aurrizkiak(w))"
   ]
  },
  {
   "cell_type": "code",
   "execution_count": 3,
   "metadata": {},
   "outputs": [
    {
     "data": {
      "text/plain": [
       "{'e': 'ez',\n",
       " 'er': 'erre',\n",
       " 'err': 'erre',\n",
       " 'era': 'eraman',\n",
       " 'eram': 'eraman',\n",
       " 'erama': 'eraman'}"
      ]
     },
     "execution_count": 3,
     "metadata": {},
     "output_type": "execute_result"
    }
   ],
   "source": [
    "h = {\"ez\": 30, \"erre\": 15, \"eraman\": 8}\n",
    "pred = get_predict(h)\n",
    "pred"
   ]
  },
  {
   "cell_type": "code",
   "execution_count": 4,
   "metadata": {},
   "outputs": [],
   "source": [
    "def saved_chars(w, pred):\n",
    "    for a in aurrizkiak(w):\n",
    "        w2 = pred.get(a,None)\n",
    "        if w2 is None :\n",
    "            return 0\n",
    "        elif w2 == w :\n",
    "            return len(w)-len(a)\n",
    "    return 0"
   ]
  },
  {
   "cell_type": "markdown",
   "metadata": {},
   "source": [
    "Erabilpen adibide bat (ez da eskatzen):"
   ]
  },
  {
   "cell_type": "code",
   "execution_count": 5,
   "metadata": {},
   "outputs": [
    {
     "name": "stdout",
     "output_type": "stream",
     "text": [
      "ez --> 1\n",
      "erre --> 2\n",
      "eraman --> 3\n"
     ]
    }
   ],
   "source": [
    "for w in [\"ez\", \"erre\", \"eraman\"]:\n",
    "    print(w,\"-->\",saved_chars(w,pred))"
   ]
  },
  {
   "cell_type": "code",
   "execution_count": 6,
   "metadata": {},
   "outputs": [],
   "source": [
    "def percent_saved_chars(pred, filename, encoding=\"utf8\"):\n",
    "    with open(filename, encoding=encoding) as f:\n",
    "        n_saved,n_total = 0,0\n",
    "        for line in f:\n",
    "            for w in line.split():\n",
    "                n_saved += saved_chars(w,pred)\n",
    "                n_total += len(w)\n",
    "        return n_saved/n_total*100"
   ]
  },
  {
   "cell_type": "markdown",
   "metadata": {},
   "source": [
    "Erabilpen adibide bat (ez da eskatzen):"
   ]
  },
  {
   "cell_type": "code",
   "execution_count": 7,
   "metadata": {},
   "outputs": [
    {
     "name": "stdout",
     "output_type": "stream",
     "text": [
      "words: 790957 , unique: 12871\n",
      "prefixes: 25650\n",
      "some examples:\n",
      "  i --> in\n",
      "  t --> the\n",
      "  th --> the\n",
      "  b --> be\n",
      "  be --> before\n",
      "  beg --> begat\n",
      "  begi --> beginning\n",
      "  begin --> beginning\n",
      "  beginn --> beginning\n",
      "  beginni --> beginning\n",
      "saved chars: %40.2\n"
     ]
    }
   ],
   "source": [
    "with open(\"bible.txt\", encoding=\"utf8\") as f:\n",
    "    h = {}\n",
    "    for line in f:\n",
    "        for w in line.split():\n",
    "            h[w] = h.get(w,0) + 1\n",
    "            \n",
    "print(f\"words: {sum(h.values())} , unique: {len(h)}\")\n",
    "pred = get_predict(h)\n",
    "print(f\"prefixes: {len(pred)}\")\n",
    "print(\"some examples:\", *list(f\"  {k} --> {v}\" for k,v in pred.items())[:10], sep=\"\\n\")\n",
    "x = percent_saved_chars(pred,\"bible.txt\")\n",
    "print(f\"saved chars: %{x:.1f}\")"
   ]
  },
  {
   "cell_type": "markdown",
   "metadata": {},
   "source": [
    "## 2 Konplexutasun tenporal asintotikoa"
   ]
  },
  {
   "cell_type": "markdown",
   "metadata": {},
   "source": [
    "### 2a)"
   ]
  },
  {
   "cell_type": "markdown",
   "metadata": {},
   "source": [
    "```python\n",
    "def batura_zehatza_v1(z, b):\n",
    "    s = set(z)                     # n\n",
    "    for x in z:                    # [1,n] (barrukoa [1,n] aldiz)\n",
    "        if b-x in s and x!=b-x:    # | [1,n] x 1\n",
    "            return True            # |\n",
    "    return False                   # [0,1]\n",
    "```"
   ]
  },
  {
   "cell_type": "markdown",
   "metadata": {},
   "source": [
    "Multzoa sortzeak dagoeneko $n$ pausu suposatzen ditunez, berdin dio `for` kontrol egitura $1$ edo $n$ aldiz exekuatzten den, izan ere behin exekutatzean $t(n)=n+2$ eta $n$ aldiz exekutatzean $t(n)=3n+1$. Beraz, orden zehatza dugu, $\\Theta(n)$"
   ]
  },
  {
   "cell_type": "markdown",
   "metadata": {},
   "source": [
    "### 2b)\n",
    "\n",
    "Demagun kasu ona eta txarra existitzen direla..."
   ]
  },
  {
   "cell_type": "markdown",
   "metadata": {},
   "source": [
    "**Kasu ona**: zerrendako lehenengo bi balioen batura $b$ da:\n",
    "\n",
    "```python\n",
    "def batura_zehatza_v2(z, b):\n",
    "    for i in range(len(z)-1):          # 1\n",
    "        for j in range(i+1, len(z)):   # 1\n",
    "            if z[i]+z[j] == b:         # | 1\n",
    "                return True            # |\n",
    "    return False\n",
    "```"
   ]
  },
  {
   "cell_type": "markdown",
   "metadata": {},
   "source": [
    "**Kasu txarra**: zerrendan ez daude $b$ batzen duten bi elementu:\n",
    "\n",
    "```python\n",
    "def batura_zehatza_v2(z, b):\n",
    "    for i in range(len(z)-1):          # n (barrukoa n-1 aldiz)\n",
    "        for j in range(i+1, len(z)):   # n-1 + n-2 + ... + 1\n",
    "            if z[i]+z[j] == b:         # n-1 + n-2 + ... + 1\n",
    "                return True            # 0\n",
    "    return False                       # 1\n",
    "```"
   ]
  },
  {
   "cell_type": "markdown",
   "metadata": {},
   "source": [
    "Beraz,\n",
    "* **Kasu ona**: $t(n)=3 \\to \\Omega(1)$\n",
    "* **Kasu txarra**: $t(n)= n + 2 \\cdot \\frac{(n-1)\\cdot n}{2} + 1 \\to O(n^2)$"
   ]
  },
  {
   "cell_type": "markdown",
   "metadata": {},
   "source": [
    "### 2c)\n",
    "\n",
    "Demagun kasu ona eta txarra existitzen direla..."
   ]
  },
  {
   "cell_type": "markdown",
   "metadata": {},
   "source": [
    "**Kasu ona**: zerrendako balio txikienaren eta handienaren batura $b$ da:\n",
    "\n",
    "```python\n",
    "def batura_zehatza_v3(z, b):\n",
    "    z = sorted(z)        # n logn\n",
    "    i = 0                # | 1\n",
    "    j = len(z)-1         # |\n",
    "    while i<j:           # 1\n",
    "        b2 = z[i]+z[j]   # | 1\n",
    "        if b2==b:        # |\n",
    "            return True  # |\n",
    "        elif b2<b:\n",
    "            i+=1\n",
    "        else :\n",
    "            j-=1\n",
    "    return False\n",
    "```"
   ]
  },
  {
   "cell_type": "markdown",
   "metadata": {},
   "source": [
    "**Kasu ona**: zerrendan ez daude $b$ batzen duten bi elementu:\n",
    "\n",
    "```python\n",
    "def batura_zehatza_v3(z, b):\n",
    "    z = sorted(z)        # n logn\n",
    "    i = 0                # | 1\n",
    "    j = len(z)-1         # |\n",
    "    while i<j:           # n+1 (barrukoa n aldiz)\n",
    "        b2 = z[i]+z[j]   # | n x 1\n",
    "        if b2==b:        # |\n",
    "            return True  # |\n",
    "        elif b2<b:       # |\n",
    "            i+=1         # |\n",
    "        else :           # |\n",
    "            j-=1         # |\n",
    "    return False         # 1\n",
    "```"
   ]
  },
  {
   "cell_type": "markdown",
   "metadata": {},
   "source": [
    "Beraz,\n",
    "* **Kasu ona**: $t(n)=3 + n \\log n$\n",
    "* **Kasu txarra**: $t(n)= 3 + 2n +  n \\log n$\n",
    "\n",
    "Biak $ n \\log n$ ordenekoak direnez, ez da kasu on/txarrik existitzen eta orden zehatza dugu, $\\Theta(n \\log n)$"
   ]
  },
  {
   "cell_type": "markdown",
   "metadata": {},
   "source": [
    "## 3 `IndexSet` klasea"
   ]
  },
  {
   "cell_type": "code",
   "execution_count": 67,
   "metadata": {},
   "outputs": [],
   "source": [
    "class IndexSet(object):\n",
    "    \n",
    "    def __init__(self, n, it=()):\n",
    "        self.z = [False]*(n+1)\n",
    "        self.n = n\n",
    "        self.len = 0\n",
    "        for i in it:\n",
    "            self.add(i)\n",
    "            \n",
    "    def add(self, i):\n",
    "        if i<0 or i>self.n :\n",
    "            raise IndexError(\"wrong index\")\n",
    "        if not self.z[i] :\n",
    "            self.z[i] = True\n",
    "            self.len += 1\n",
    "        \n",
    "    def rank(self):\n",
    "        return self.n\n",
    "    \n",
    "    def remove(self, i):\n",
    "        if i not in self :\n",
    "            raise IndexError(\"wrong index\")\n",
    "        self.z[i] = False\n",
    "        self.len -= 1\n",
    "        \n",
    "    def __contains__(self, i):\n",
    "        return i>=0 and i<=self.n and self.z[i]\n",
    "    \n",
    "    def __len__(self):\n",
    "        return self.len\n",
    "    \n",
    "    def __eq__(self, other):\n",
    "        return type(other)==IndexSet and self.z==other.z\n",
    "    \n",
    "    def __str__(self):\n",
    "        return repr(self)\n",
    "\n",
    "    def __repr__(self):\n",
    "        return f'IndexSet({self.n},{repr(list(self))})'\n",
    "    \n",
    "    def __iter__(self):\n",
    "        for i,b in enumerate(self.z):\n",
    "            if b :\n",
    "                yield i\n",
    "    \n",
    "    def union(self, other):\n",
    "        n = max(self.n,other.n)\n",
    "        it = list(self) + list(other)\n",
    "        return IndexSet(n,it)\n",
    "    \n",
    "    def intersection(self, other):\n",
    "        n = min(self.n,other.n)\n",
    "        it = [i for i,(x,y) in enumerate(zip(self.z,other.z)) if x and y]\n",
    "        return IndexSet(n,it)    "
   ]
  },
  {
   "cell_type": "markdown",
   "metadata": {},
   "source": [
    "Erabilpen adibide bat (ez da eskatzen):"
   ]
  },
  {
   "cell_type": "code",
   "execution_count": 69,
   "metadata": {},
   "outputs": [
    {
     "name": "stdout",
     "output_type": "stream",
     "text": [
      "3 in s: True\n",
      "2 in s: False\n",
      "-1 in s: False\n",
      "10 in s: False\n",
      "*s: 0 3 4 6\n",
      "s: IndexSet(7,[0, 3, 4, 6])\n",
      "eval(repr(s)))==s: True\n",
      "s2: IndexSet(10,[1, 2, 4, 6, 10])\n",
      "s.union(s2): IndexSet(10,[0, 1, 2, 3, 4, 6, 10])\n",
      "s.intersection(s2): IndexSet(7,[4, 6])\n"
     ]
    }
   ],
   "source": [
    "s = IndexSet(7,(0,3,4,6))\n",
    "print(f\"3 in s: {3 in s}\")\n",
    "print(f\"2 in s: {2 in s}\")\n",
    "print(f\"-1 in s: {-1 in s}\")\n",
    "print(f\"10 in s: {10 in s}\")\n",
    "print(\"*s:\", *s)\n",
    "print(\"s:\", s)\n",
    "print(\"eval(repr(s)))==s:\", eval(repr(s)) == s)\n",
    "s2 = IndexSet(10,(1,2,4,6,10))\n",
    "print(\"s2:\", s2)\n",
    "print(\"s.union(s2):\", s.union(s2))\n",
    "print(\"s.intersection(s2):\", s.intersection(s2))"
   ]
  }
 ],
 "metadata": {
  "kernelspec": {
   "display_name": "Python 3",
   "language": "python",
   "name": "python3"
  },
  "language_info": {
   "codemirror_mode": {
    "name": "ipython",
    "version": 3
   },
   "file_extension": ".py",
   "mimetype": "text/x-python",
   "name": "python",
   "nbconvert_exporter": "python",
   "pygments_lexer": "ipython3",
   "version": "3.7.6"
  }
 },
 "nbformat": 4,
 "nbformat_minor": 4
}
