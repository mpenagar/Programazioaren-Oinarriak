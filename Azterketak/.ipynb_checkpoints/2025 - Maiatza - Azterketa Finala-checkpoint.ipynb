{
 "cells": [
  {
   "cell_type": "code",
   "execution_count": 18,
   "metadata": {},
   "outputs": [],
   "source": [
    "def aurrizkiak(w):\n",
    "    for i in range(1,len(w)):\n",
    "        yield w[:i]\n",
    "def get_predict(h):\n",
    "    pred = {}\n",
    "    for w,n, in h.items():\n",
    "        for a in aurrizkiak(w):\n",
    "            if n > h.get(pred.get(a,None),0):\n",
    "                pred[a] = w\n",
    "    return pred"
   ]
  },
  {
   "cell_type": "markdown",
   "metadata": {},
   "source": [
    "Erabilpen adibide bat (ez da eskatzen):"
   ]
  },
  {
   "cell_type": "code",
   "execution_count": 19,
   "metadata": {},
   "outputs": [
    {
     "name": "stdout",
     "output_type": "stream",
     "text": [
      "ez --> e\n",
      "erre --> e er err\n",
      "eraman --> e er era eram erama\n"
     ]
    }
   ],
   "source": [
    "for w in [\"ez\", \"erre\", \"eraman\"]:\n",
    "    print(w,\"-->\",*aurrizkiak(w))"
   ]
  },
  {
   "cell_type": "code",
   "execution_count": 22,
   "metadata": {},
   "outputs": [
    {
     "data": {
      "text/plain": [
       "{'e': 'ez',\n",
       " 'er': 'erre',\n",
       " 'err': 'erre',\n",
       " 'era': 'eraman',\n",
       " 'eram': 'eraman',\n",
       " 'erama': 'eraman'}"
      ]
     },
     "execution_count": 22,
     "metadata": {},
     "output_type": "execute_result"
    }
   ],
   "source": [
    "h = {\"ez\": 30, \"erre\": 15, \"eraman\": 8}\n",
    "pred = get_predict(h)\n",
    "pred"
   ]
  },
  {
   "cell_type": "code",
   "execution_count": 23,
   "metadata": {},
   "outputs": [],
   "source": [
    "def saved_chars(w, pred):\n",
    "    for a in aurrizkiak(w):\n",
    "        w2 = pred.get(a,None)\n",
    "        if w2 is None :\n",
    "            return 0\n",
    "        elif w2 == w :\n",
    "            return len(w)-len(a)\n",
    "    return 0"
   ]
  },
  {
   "cell_type": "markdown",
   "metadata": {},
   "source": [
    "Erabilpen adibide bat (ez da eskatzen):"
   ]
  },
  {
   "cell_type": "code",
   "execution_count": 24,
   "metadata": {},
   "outputs": [
    {
     "name": "stdout",
     "output_type": "stream",
     "text": [
      "ez --> 1\n",
      "erre --> 2\n",
      "eraman --> 3\n"
     ]
    }
   ],
   "source": [
    "for w in [\"ez\", \"erre\", \"eraman\"]:\n",
    "    print(w,\"-->\",saved_chars(w,pred))"
   ]
  },
  {
   "cell_type": "code",
   "execution_count": 26,
   "metadata": {},
   "outputs": [],
   "source": [
    "def percent_saved_chars(pred, filename, encoding=\"utf8\"):\n",
    "    with open(filename, encoding=encoding) as f:\n",
    "        n_saved,n_total = 0,0\n",
    "        for line in f:\n",
    "            for w in line.split():\n",
    "                n_saved += saved_chars(w,pred)\n",
    "                n_total += len(w)\n",
    "        return n_saved/n_total*100"
   ]
  },
  {
   "cell_type": "markdown",
   "metadata": {},
   "source": [
    "Erabilpen adibide bat (ez da eskatzen):"
   ]
  },
  {
   "cell_type": "code",
   "execution_count": 40,
   "metadata": {},
   "outputs": [
    {
     "name": "stdout",
     "output_type": "stream",
     "text": [
      "words: 790957 , unique: 12871\n",
      "prefixes: 25650\n",
      "some examples:\n",
      "  i --> in\n",
      "  t --> the\n",
      "  th --> the\n",
      "  b --> be\n",
      "  be --> before\n",
      "  beg --> begat\n",
      "  begi --> beginning\n",
      "  begin --> beginning\n",
      "  beginn --> beginning\n",
      "  beginni --> beginning\n",
      "saved chars: %40.2\n"
     ]
    }
   ],
   "source": [
    "with open(\"bible.txt\", encoding=\"utf8\") as f:\n",
    "    h = {}\n",
    "    for line in f:\n",
    "        for w in line.split():\n",
    "            h[w] = h.get(w,0) + 1\n",
    "            \n",
    "print(f\"words: {sum(h.values())} , unique: {len(h)}\")\n",
    "pred = get_predict(h)\n",
    "print(f\"prefixes: {len(pred)}\")\n",
    "print(\"some examples:\", *list(f\"  {k} --> {v}\" for k,v in pred.items())[:10], sep=\"\\n\")\n",
    "x = percent_saved_chars(pred,\"bible.txt\")\n",
    "print(f\"saved chars: %{x:.1f}\")"
   ]
  }
 ],
 "metadata": {
  "kernelspec": {
   "display_name": "Python 3",
   "language": "python",
   "name": "python3"
  },
  "language_info": {
   "codemirror_mode": {
    "name": "ipython",
    "version": 3
   },
   "file_extension": ".py",
   "mimetype": "text/x-python",
   "name": "python",
   "nbconvert_exporter": "python",
   "pygments_lexer": "ipython3",
   "version": "3.7.6"
  }
 },
 "nbformat": 4,
 "nbformat_minor": 4
}
