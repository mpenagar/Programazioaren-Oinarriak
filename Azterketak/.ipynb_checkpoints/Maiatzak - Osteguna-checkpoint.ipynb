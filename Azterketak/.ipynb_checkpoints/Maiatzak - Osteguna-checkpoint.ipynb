{
 "cells": [
  {
   "cell_type": "markdown",
   "metadata": {},
   "source": [
    "### 1\n",
    "Sor ezazu funtzio bat, karaktere katez osotutako it iteragarri bat eta k zenbaki arrunt bat jasoko duena. Funtzioak it iteragarriko k karaktere kate luzeenak dituen zerrenda bueltatuko du. Adibidez, sarrerako iteragarria ondoko zerrenda balitz:\n",
    "\n",
    "`['hau','froga','bat','da','funtzioa','ea','nola','dabilen','ikusteko']`\n",
    "\n",
    "eta k-ren balioa 4, funtzioak\n",
    "\n",
    "`['funtzioa', 'ikusteko', 'dabilen', 'froga']`\n",
    "\n",
    "zerrenda bueltatuko luke (hitzen ordenak berdin dio)"
   ]
  },
  {
   "cell_type": "code",
   "execution_count": 16,
   "metadata": {},
   "outputs": [
    {
     "data": {
      "text/plain": [
       "['funtzioa', 'ikusteko', 'dabilen', 'froga']"
      ]
     },
     "execution_count": 16,
     "metadata": {},
     "output_type": "execute_result"
    }
   ],
   "source": [
    "def f1(it,k):\n",
    "    z = [(len(s),s) for s in it]\n",
    "    z.sort(reverse=True)\n",
    "    return [ w for _,w in z[:k] ]\n",
    "\n",
    "def f1(it,k):\n",
    "    return [ w for _,w in sorted(((len(s),s) for s in it),reverse=True)[:k]]\n",
    "\n",
    "def f1(it,k):\n",
    "    return sorted(it,reverse=True,key=len)[:k]\n",
    "    \n",
    "f1(['hau','froga','bat','da','funtzioa','ea','nola','dabilen','ikusteko'],4)"
   ]
  },
  {
   "cell_type": "code",
   "execution_count": 20,
   "metadata": {},
   "outputs": [
    {
     "data": {
      "text/plain": [
       "['ikusteko', 'funtzioa', 'dabilen', 'froga']"
      ]
     },
     "execution_count": 20,
     "metadata": {},
     "output_type": "execute_result"
    }
   ],
   "source": [
    "def f1(it,k):\n",
    "    s = set((len(s),s) for s in it)\n",
    "    z = []\n",
    "    for i in range(k):\n",
    "        t = max(s)\n",
    "        z.append(t[1])\n",
    "        s.remove(t)\n",
    "    return z    \n",
    "    \n",
    "f1(['hau','froga','bat','da','funtzioa','ea','nola','dabilen','ikusteko'],4)"
   ]
  },
  {
   "cell_type": "code",
   "execution_count": 21,
   "metadata": {},
   "outputs": [
    {
     "data": {
      "text/plain": [
       "['funtzioa', 'ikusteko', 'dabilen', 'froga']"
      ]
     },
     "execution_count": 21,
     "metadata": {},
     "output_type": "execute_result"
    }
   ],
   "source": [
    "def f1(it,k):\n",
    "    h = {}\n",
    "    for w in it:\n",
    "        h.setdefault(len(w),[]).append(w)\n",
    "    z = []\n",
    "    for _,wz in sorted(h.items(),reverse=True):\n",
    "        for w in wz:\n",
    "            z.append(w)\n",
    "            if len(z)==k:\n",
    "                return z\n",
    "    return z\n",
    "\n",
    "f1(['hau','froga','bat','da','funtzioa','ea','nola','dabilen','ikusteko'],4)"
   ]
  },
  {
   "cell_type": "markdown",
   "metadata": {},
   "source": [
    "### 2\n",
    "Aurreko funtzioa erabiliz, sortu ezazu funtzio bat, hutsunez banandutako hitzez beteriko testu fitxategi baten bideizena eta kodifikazioa jasoko duena. Funtzioak testu fitxategian agertzen diren 10 hitz ezberdin luzeenak dituen zerrenda bueltatuko du.\n",
    "\n",
    "**OHARRA**: Frogak egiteko, 3. Laborategiko “bible.clean.txt” fitxategia erabil dezakezu. "
   ]
  },
  {
   "cell_type": "code",
   "execution_count": 36,
   "metadata": {},
   "outputs": [
    {
     "name": "stdout",
     "output_type": "stream",
     "text": [
      "197 ms ± 819 µs per loop (mean ± std. dev. of 7 runs, 10 loops each)\n",
      "119 ms ± 623 µs per loop (mean ± std. dev. of 7 runs, 10 loops each)\n",
      "130 ms ± 913 µs per loop (mean ± std. dev. of 7 runs, 10 loops each)\n"
     ]
    }
   ],
   "source": [
    "def f2a(filename, encoding='utf8'):\n",
    "    with open(filename,encoding=encoding) as f:\n",
    "        s = set()\n",
    "        for line in f:\n",
    "            for w in line.split():\n",
    "                s.add(w)    \n",
    "    return f1(s,10)\n",
    "\n",
    "def f2b(filename, encoding='utf8'):\n",
    "    with open(filename,encoding=encoding) as f:\n",
    "        s = set()\n",
    "        for line in f:\n",
    "            s.update(line.split())\n",
    "    return f1(s,10)\n",
    "\n",
    "def f2c(filename, encoding='utf8'):\n",
    "    with open(filename,encoding=encoding) as f:\n",
    "        return f1({w for line in f for w in line.split()},10)\n",
    "\n",
    "\n",
    "%timeit f2a('bible.clean.txt')\n",
    "%timeit f2b('bible.clean.txt')\n",
    "%timeit f2c('bible.clean.txt')"
   ]
  },
  {
   "cell_type": "code",
   "execution_count": 32,
   "metadata": {},
   "outputs": [
    {
     "name": "stdout",
     "output_type": "stream",
     "text": [
      "{1, 2, 3, 4, 5, 6, -7}\n"
     ]
    }
   ],
   "source": [
    "s = {1,2,3,4,5}\n",
    "s.update((4,5,6,-7))\n",
    "print(s)"
   ]
  }
 ],
 "metadata": {
  "kernelspec": {
   "display_name": "Python 3",
   "language": "python",
   "name": "python3"
  },
  "language_info": {
   "codemirror_mode": {
    "name": "ipython",
    "version": 3
   },
   "file_extension": ".py",
   "mimetype": "text/x-python",
   "name": "python",
   "nbconvert_exporter": "python",
   "pygments_lexer": "ipython3",
   "version": "3.7.6"
  }
 },
 "nbformat": 4,
 "nbformat_minor": 4
}
