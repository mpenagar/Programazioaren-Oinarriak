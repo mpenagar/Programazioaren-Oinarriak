{
 "cells": [
  {
   "cell_type": "markdown",
   "metadata": {},
   "source": [
    "### 1 - a) `load(filename,enc)`\n",
    "Funtzioak aurreko formatua duen testu fitxategi baten bideizena eta kodifikazioa jasoko ditu eta trans hiztegi bat bueltatuko du. Hiztegiko gakoak L1 hizkuntzako hitzak izango dira eta balioak hitz bakoitzaren L2 hizkuntzako itzulpen hitz zerrenda."
   ]
  },
  {
   "cell_type": "code",
   "execution_count": 1,
   "metadata": {},
   "outputs": [],
   "source": [
    "def load(filename,enc='utf8'):\n",
    "    with open(filename,encoding=enc) as f:\n",
    "        f.readline()\n",
    "        h = {}\n",
    "        for line in f:\n",
    "            z = line.split()\n",
    "            h[z[0]] = z[1:]\n",
    "        return h"
   ]
  },
  {
   "cell_type": "code",
   "execution_count": 2,
   "metadata": {},
   "outputs": [
    {
     "data": {
      "text/plain": [
       "{'zentzua': ['sense', 'meaning', 'instinct'],\n",
       " 'bazkaria': ['meal', 'food', 'lunch', 'dinner'],\n",
       " 'txakurra': ['dog'],\n",
       " 'ikatza': ['coal', 'carbon', 'charcoal'],\n",
       " 'sena': ['instinct', 'flair', 'urge'],\n",
       " 'afaria': ['dinner', 'supper']}"
      ]
     },
     "execution_count": 2,
     "metadata": {},
     "output_type": "execute_result"
    }
   ],
   "source": [
    "hizt = load('bsq-en.txt')\n",
    "hizt"
   ]
  },
  {
   "cell_type": "markdown",
   "metadata": {},
   "source": [
    "### 1 - b) `inverse(trans)`\n",
    "Funtzio honek aurreko ariketak sortutako moduko itzulpen hiztegi bat jaso eta itzulpen hiztegi\n",
    "berri bat bueltatuko du. Bueltatutako hiztegiko gakoak L2 hizkuntzako hitzak izango\n",
    "dira eta balioak hitz bakoitzaren L1 hizkuntzako itzulpen hitz zerrenda."
   ]
  },
  {
   "cell_type": "code",
   "execution_count": 3,
   "metadata": {},
   "outputs": [],
   "source": [
    "def inverse(trans):\n",
    "    h = {}\n",
    "    for w1,z in trans.items():\n",
    "        for w2 in z:\n",
    "            if w2 in h :\n",
    "                h[w2].append(w1)\n",
    "            else :\n",
    "                h[w2] = [w1]\n",
    "    return h"
   ]
  },
  {
   "cell_type": "code",
   "execution_count": 4,
   "metadata": {},
   "outputs": [
    {
     "data": {
      "text/plain": [
       "{'sense': ['zentzua'],\n",
       " 'meaning': ['zentzua'],\n",
       " 'instinct': ['zentzua', 'sena'],\n",
       " 'meal': ['bazkaria'],\n",
       " 'food': ['bazkaria'],\n",
       " 'lunch': ['bazkaria'],\n",
       " 'dinner': ['bazkaria', 'afaria'],\n",
       " 'dog': ['txakurra'],\n",
       " 'coal': ['ikatza'],\n",
       " 'carbon': ['ikatza'],\n",
       " 'charcoal': ['ikatza'],\n",
       " 'flair': ['sena'],\n",
       " 'urge': ['sena'],\n",
       " 'supper': ['afaria']}"
      ]
     },
     "execution_count": 4,
     "metadata": {},
     "output_type": "execute_result"
    }
   ],
   "source": [
    "hizt2 = inverse(hizt)\n",
    "hizt2"
   ]
  }
 ],
 "metadata": {
  "kernelspec": {
   "display_name": "Python 3",
   "language": "python",
   "name": "python3"
  },
  "language_info": {
   "codemirror_mode": {
    "name": "ipython",
    "version": 3
   },
   "file_extension": ".py",
   "mimetype": "text/x-python",
   "name": "python",
   "nbconvert_exporter": "python",
   "pygments_lexer": "ipython3",
   "version": "3.7.6"
  }
 },
 "nbformat": 4,
 "nbformat_minor": 4
}
