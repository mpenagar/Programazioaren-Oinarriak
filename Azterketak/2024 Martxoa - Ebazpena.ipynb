{
 "cells": [
  {
   "cell_type": "markdown",
   "metadata": {},
   "source": [
    "## 1. Ariketa (5 puntu)"
   ]
  },
  {
   "cell_type": "markdown",
   "metadata": {},
   "source": [
    "Sortu ezazu funtzio bat, s karaktere kate bat jasoko duena eta s-n agertzen diren karaktere ezberdin kopurua bueltatuko duena. Karaktereak letra larriz (maiuskulaz) edo xehez (minuskulaz) agertzeak berdin dio, ondorengo adibideetan ikus daitekeenez:\n",
    "* s “Atzerritarra” balitz, emaitza 6 litzateke ('a', 'e', 'i', 'r', 't', eta 'z' karaktereak)\n",
    "* s “Zugarramurdi” balitz, emaitza 8 litzateke ('a', 'd', 'g', 'i', 'm', 'r', 'u' eta 'z')\n"
   ]
  },
  {
   "cell_type": "code",
   "execution_count": 1,
   "metadata": {},
   "outputs": [],
   "source": [
    "def f1(s):\n",
    "    return len(set(s.lower()))"
   ]
  },
  {
   "cell_type": "markdown",
   "metadata": {},
   "source": [
    "Enuntziatuko bi adibideenn exekuzioa:"
   ]
  },
  {
   "cell_type": "code",
   "execution_count": 2,
   "metadata": {},
   "outputs": [
    {
     "name": "stdout",
     "output_type": "stream",
     "text": [
      "6\n",
      "8\n"
     ]
    }
   ],
   "source": [
    "print(f1('Atzerritarra'))\n",
    "print(f1('Zugarramurdi'))"
   ]
  },
  {
   "cell_type": "markdown",
   "metadata": {},
   "source": [
    "## 2. Ariketa (5 puntu)\n",
    "Aurreko funtzioa erabiliz, sortu ezazu funtzio bat, hutsunez banandutako hitzez beteriko testu fitxategi baten bideizena eta kodifikazioa jaso eta fitxategian agertzen den karaktere ezberdin gehien dituen hitza bueltatuko duena. Hitz bat baina gehiago balego letra kopuru maximoarekin, haietako hitz luzeena bueltatuko du. Hitz bat baina gehiago balego letra kopuru maximo eta luzera handienarekin, haietako edozein bueltatuko du."
   ]
  },
  {
   "cell_type": "code",
   "execution_count": 3,
   "metadata": {},
   "outputs": [],
   "source": [
    "def f2(fizena,kodif='utf8'):\n",
    "    with open(fizena,encoding=kodif) as f:\n",
    "        return max((f1(w),len(w),w) for line in f for w in line.split())[-1]"
   ]
  },
  {
   "cell_type": "markdown",
   "metadata": {},
   "source": [
    "Karpeta honetan dagoen eta `utf8` kodifikazioa duen `bible.txt` testu fitxategiko karaktere gehien duen hitz luzeenetako bat:"
   ]
  },
  {
   "cell_type": "code",
   "execution_count": 4,
   "metadata": {},
   "outputs": [
    {
     "name": "stdout",
     "output_type": "stream",
     "text": [
      "unprofitableness\n"
     ]
    }
   ],
   "source": [
    "print(f2('bible.txt'))"
   ]
  }
 ],
 "metadata": {
  "kernelspec": {
   "display_name": "Python 3",
   "language": "python",
   "name": "python3"
  },
  "language_info": {
   "codemirror_mode": {
    "name": "ipython",
    "version": 3
   },
   "file_extension": ".py",
   "mimetype": "text/x-python",
   "name": "python",
   "nbconvert_exporter": "python",
   "pygments_lexer": "ipython3",
   "version": "3.7.6"
  }
 },
 "nbformat": 4,
 "nbformat_minor": 4
}
