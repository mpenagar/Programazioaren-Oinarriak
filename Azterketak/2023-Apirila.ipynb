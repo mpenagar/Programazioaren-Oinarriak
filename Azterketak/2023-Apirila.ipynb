{
 "cells": [
  {
   "cell_type": "markdown",
   "metadata": {},
   "source": [
    "## 1. Ariketa (5 puntu)\n",
    "\n",
    "Hitz bat aberatsa dela diogu, letraren bat 4 aldiz edo gehiagotan agertzen bada. Adibidez, ‘nevertheless’, ‘tumultuous’ ‘reference’ ‘signification’, ‘exceeded’ eta ‘possessions’ hitzak aberatsak dira. Sortu ezazu funtzio bat, minuskulaz osotutako hitz bat (karaktere kate bat) jasoko duena eta aberatsa ote den bueltatuko duena."
   ]
  },
  {
   "cell_type": "code",
   "execution_count": 1,
   "metadata": {},
   "outputs": [],
   "source": [
    "def aberatsa(hitza):\n",
    "    h = {}\n",
    "    for c in hitza :\n",
    "        n = h.get(c,0) + 1\n",
    "        if n == 4 :\n",
    "            return True\n",
    "        h[c] = n\n",
    "    return False"
   ]
  },
  {
   "cell_type": "markdown",
   "metadata": {},
   "source": [
    "* $\\Omega(1) \\to$ Lehenengo 4 karaktereak berdinak\n",
    "* $O(n) \\to$  Ez da aberatsa"
   ]
  },
  {
   "cell_type": "markdown",
   "metadata": {},
   "source": [
    "## 2. Ariketa (5 puntu)\n",
    "\n",
    "Aurreko funtzioa erabiliz, sortu ezazu funtzio bat, hutsunez banandutako eta minuskulaz osotutako hitzez beteriko testu fitxategi baten bideizena eta kodifikazioa jaso eta fitxategian agertzen diren lehenengo 10 hitz aberatsen zerrenda bueltatuko duena (zerrendan hitz errepikatuak egon daitezke). Testu fitxategian 10 hitz aberats baina gutxiago egongo balira, zerrendaren tamaina txikiagoa izango da.\n",
    "\n",
    "**OHARRA**: Ez da beharrezkoa aurreko funtzioa eginda izatea, existitzen dela suposa dezakezu."
   ]
  },
  {
   "cell_type": "code",
   "execution_count": 2,
   "metadata": {},
   "outputs": [],
   "source": [
    "def lehen_aberatsak(filename,encoding='utf8'):\n",
    "    with open(filename,encoding=encoding) as f:\n",
    "        z = []\n",
    "        for line in f:\n",
    "            for w in line.split():\n",
    "                if aberatsa(w):\n",
    "                    z.append(w)\n",
    "                    if len(z)==10 :\n",
    "                        return z\n",
    "        return z"
   ]
  },
  {
   "cell_type": "markdown",
   "metadata": {},
   "source": [
    "## 1. Ariketaren ebazpen ezberdinak eta denbora neurketak"
   ]
  },
  {
   "cell_type": "code",
   "execution_count": 3,
   "metadata": {},
   "outputs": [],
   "source": [
    "def aberatsa2(hitza):\n",
    "    h = {}\n",
    "    for c in hitza :\n",
    "        if c in h :\n",
    "            h[c] += 1\n",
    "        else :\n",
    "            h[c] = 1\n",
    "    for i in h.values():\n",
    "        if i>=4 :\n",
    "            return True\n",
    "    return False"
   ]
  },
  {
   "cell_type": "markdown",
   "metadata": {},
   "source": [
    "* $\\Theta(n)$"
   ]
  },
  {
   "cell_type": "code",
   "execution_count": 4,
   "metadata": {},
   "outputs": [],
   "source": [
    "def aberatsa3(hitza):\n",
    "    return any(hitza.count(k)>=4 for k in set(hitza))"
   ]
  },
  {
   "cell_type": "markdown",
   "metadata": {},
   "source": [
    "* $\\Omega(n) \\to$ Karaktere guztiak berdinak\n",
    "* $O(n^2) \\to$  Karaktere guztiak ezberdinak"
   ]
  },
  {
   "cell_type": "code",
   "execution_count": 5,
   "metadata": {},
   "outputs": [],
   "source": [
    "def aberatsa4(hitza):\n",
    "    return any(hitza.count(k)>=4 for k in hitza)"
   ]
  },
  {
   "cell_type": "markdown",
   "metadata": {},
   "source": [
    "* $\\Omega(n) \\to$ Lehenengo karakterea 4 aldiz edo gehiago errepikatua\n",
    "* $O(n^2) \\to$  Karaktere guztiak ezberdinak"
   ]
  },
  {
   "cell_type": "code",
   "execution_count": 6,
   "metadata": {},
   "outputs": [],
   "source": [
    "def aberatsa5(hitza):\n",
    "    return max(hitza.count(k)>=4 for k in hitza) >= 4"
   ]
  },
  {
   "cell_type": "markdown",
   "metadata": {},
   "source": [
    "* $\\Theta(n^2)$"
   ]
  },
  {
   "cell_type": "markdown",
   "metadata": {},
   "source": [
    "Fitxategi handi baten hitz aberats kantitatea kontatzeak behar duen denborak batazbesteko kasua adieraziko du."
   ]
  },
  {
   "cell_type": "code",
   "execution_count": 7,
   "metadata": {},
   "outputs": [],
   "source": [
    "def zenbat_aberats(filename,f_aberatsa=aberatsa,encoding='utf8'):\n",
    "    with open(filename,encoding=encoding) as f:\n",
    "        return sum(f_aberatsa(w) for line in f for w in line.split())"
   ]
  },
  {
   "cell_type": "code",
   "execution_count": 8,
   "metadata": {},
   "outputs": [
    {
     "name": "stdout",
     "output_type": "stream",
     "text": [
      "959\n",
      "959\n",
      "959\n",
      "959\n",
      "959\n"
     ]
    }
   ],
   "source": [
    "for f in (aberatsa,aberatsa2,aberatsa3,aberatsa4,aberatsa5):\n",
    "    print(zenbat_aberats('bible.txt'))"
   ]
  },
  {
   "cell_type": "code",
   "execution_count": 10,
   "metadata": {},
   "outputs": [
    {
     "name": "stdout",
     "output_type": "stream",
     "text": [
      "1.35 s ± 10.1 ms per loop (mean ± std. dev. of 7 runs, 1 loop each)\n",
      "1.26 s ± 12.7 ms per loop (mean ± std. dev. of 7 runs, 1 loop each)\n",
      "2.04 s ± 12 ms per loop (mean ± std. dev. of 7 runs, 1 loop each)\n",
      "1.7 s ± 56.6 ms per loop (mean ± std. dev. of 7 runs, 1 loop each)\n",
      "1.85 s ± 13.4 ms per loop (mean ± std. dev. of 7 runs, 1 loop each)\n"
     ]
    }
   ],
   "source": [
    "for f in (aberatsa,aberatsa2,aberatsa3,aberatsa4,aberatsa5):\n",
    "    %timeit zenbat_aberats('bible.txt',f_aberatsa=f)"
   ]
  }
 ],
 "metadata": {
  "kernelspec": {
   "display_name": "Python 3",
   "language": "python",
   "name": "python3"
  },
  "language_info": {
   "codemirror_mode": {
    "name": "ipython",
    "version": 3
   },
   "file_extension": ".py",
   "mimetype": "text/x-python",
   "name": "python",
   "nbconvert_exporter": "python",
   "pygments_lexer": "ipython3",
   "version": "3.7.6"
  }
 },
 "nbformat": 4,
 "nbformat_minor": 4
}
