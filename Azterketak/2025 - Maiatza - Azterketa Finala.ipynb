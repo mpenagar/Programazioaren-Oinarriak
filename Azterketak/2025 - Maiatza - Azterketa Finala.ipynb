{
 "cells": [
  {
   "cell_type": "markdown",
   "metadata": {},
   "source": [
    "## 1 Hiztegi iragarleak"
   ]
  },
  {
   "cell_type": "code",
   "execution_count": 1,
   "metadata": {},
   "outputs": [],
   "source": [
    "def aurrizkiak(w):\n",
    "    for i in range(1,len(w)):\n",
    "        yield w[:i]\n",
    "def get_predict(h):\n",
    "    pred = {}\n",
    "    for w,n, in h.items():\n",
    "        for a in aurrizkiak(w):\n",
    "            if n > h.get(pred.get(a,None),0):\n",
    "                pred[a] = w\n",
    "    return pred"
   ]
  },
  {
   "cell_type": "markdown",
   "metadata": {},
   "source": [
    "Erabilpen adibide bat (ez da eskatzen):"
   ]
  },
  {
   "cell_type": "code",
   "execution_count": 2,
   "metadata": {},
   "outputs": [
    {
     "name": "stdout",
     "output_type": "stream",
     "text": [
      "ez --> e\n",
      "erre --> e er err\n",
      "eraman --> e er era eram erama\n"
     ]
    }
   ],
   "source": [
    "for w in [\"ez\", \"erre\", \"eraman\"]:\n",
    "    print(w,\"-->\",*aurrizkiak(w))"
   ]
  },
  {
   "cell_type": "code",
   "execution_count": 3,
   "metadata": {},
   "outputs": [
    {
     "data": {
      "text/plain": [
       "{'e': 'ez',\n",
       " 'er': 'erre',\n",
       " 'err': 'erre',\n",
       " 'era': 'eraman',\n",
       " 'eram': 'eraman',\n",
       " 'erama': 'eraman'}"
      ]
     },
     "execution_count": 3,
     "metadata": {},
     "output_type": "execute_result"
    }
   ],
   "source": [
    "h = {\"ez\": 30, \"erre\": 15, \"eraman\": 8}\n",
    "pred = get_predict(h)\n",
    "pred"
   ]
  },
  {
   "cell_type": "code",
   "execution_count": 4,
   "metadata": {},
   "outputs": [],
   "source": [
    "def saved_chars(w, pred):\n",
    "    for a in aurrizkiak(w):\n",
    "        w2 = pred.get(a,None)\n",
    "        if w2 is None :\n",
    "            return 0\n",
    "        elif w2 == w :\n",
    "            return len(w)-len(a)\n",
    "    return 0"
   ]
  },
  {
   "cell_type": "markdown",
   "metadata": {},
   "source": [
    "Erabilpen adibide bat (ez da eskatzen):"
   ]
  },
  {
   "cell_type": "code",
   "execution_count": 5,
   "metadata": {},
   "outputs": [
    {
     "name": "stdout",
     "output_type": "stream",
     "text": [
      "ez --> 1\n",
      "erre --> 2\n",
      "eraman --> 3\n"
     ]
    }
   ],
   "source": [
    "for w in [\"ez\", \"erre\", \"eraman\"]:\n",
    "    print(w,\"-->\",saved_chars(w,pred))"
   ]
  },
  {
   "cell_type": "code",
   "execution_count": 6,
   "metadata": {},
   "outputs": [],
   "source": [
    "def percent_saved_chars(pred, filename, encoding=\"utf8\"):\n",
    "    with open(filename, encoding=encoding) as f:\n",
    "        n_saved,n_total = 0,0\n",
    "        for line in f:\n",
    "            for w in line.split():\n",
    "                n_saved += saved_chars(w,pred)\n",
    "                n_total += len(w)\n",
    "        return n_saved/n_total*100"
   ]
  },
  {
   "cell_type": "markdown",
   "metadata": {},
   "source": [
    "Erabilpen adibide bat (ez da eskatzen):"
   ]
  },
  {
   "cell_type": "code",
   "execution_count": 7,
   "metadata": {},
   "outputs": [
    {
     "name": "stdout",
     "output_type": "stream",
     "text": [
      "words: 790957 , unique: 12871\n",
      "prefixes: 25650\n",
      "some examples:\n",
      "  i --> in\n",
      "  t --> the\n",
      "  th --> the\n",
      "  b --> be\n",
      "  be --> before\n",
      "  beg --> begat\n",
      "  begi --> beginning\n",
      "  begin --> beginning\n",
      "  beginn --> beginning\n",
      "  beginni --> beginning\n",
      "saved chars: %40.2\n"
     ]
    }
   ],
   "source": [
    "with open(\"bible.txt\", encoding=\"utf8\") as f:\n",
    "    h = {}\n",
    "    for line in f:\n",
    "        for w in line.split():\n",
    "            h[w] = h.get(w,0) + 1\n",
    "            \n",
    "print(f\"words: {sum(h.values())} , unique: {len(h)}\")\n",
    "pred = get_predict(h)\n",
    "print(f\"prefixes: {len(pred)}\")\n",
    "print(\"some examples:\", *list(f\"  {k} --> {v}\" for k,v in pred.items())[:10], sep=\"\\n\")\n",
    "x = percent_saved_chars(pred,\"bible.txt\")\n",
    "print(f\"saved chars: %{x:.1f}\")"
   ]
  },
  {
   "cell_type": "markdown",
   "metadata": {},
   "source": [
    "## 2 Konplexutasun tenporal asintotikoa"
   ]
  },
  {
   "cell_type": "markdown",
   "metadata": {},
   "source": [
    "## 3 `IndexSet` klasea"
   ]
  },
  {
   "cell_type": "code",
   "execution_count": 56,
   "metadata": {},
   "outputs": [],
   "source": [
    "class IndexSet(object):\n",
    "    \n",
    "    def __init__(self, n, it=()):\n",
    "        self.z = [False]*(n+1)\n",
    "        self.n = n\n",
    "        self.len = 0\n",
    "        for i in it:\n",
    "            self.add(i)\n",
    "            \n",
    "    def add(self, i):\n",
    "        if i<0 or i>self.n :\n",
    "            raise IndexError(\"wrong index\")\n",
    "        if not self.z[i] :\n",
    "            self.z[i] = True\n",
    "            self.len += 1\n",
    "        \n",
    "    def rank(self):\n",
    "        return self.n\n",
    "    \n",
    "    def remove(self, i):\n",
    "        if i not in self :\n",
    "            raise IndexError(\"wrong index\")\n",
    "        self.z[i] = False\n",
    "        self.len -= 1\n",
    "        \n",
    "    def __contains__(self, i):\n",
    "        return i>=0 and i<=self.n and self.z[i]\n",
    "    \n",
    "    def __len__(self):\n",
    "        return self.len\n",
    "    \n",
    "    def __eq__(self, other):\n",
    "        return type(other)==IndexSet and self.z==other.z\n",
    "    \n",
    "    def __str__(self):\n",
    "        return repr(self)\n",
    "\n",
    "    def __repr__(self):\n",
    "        return f'IndexSet({self.n},{repr(list(self))})'\n",
    "    \n",
    "    def __iter__(self):\n",
    "        for i,b in enumerate(self.z):\n",
    "            if b :\n",
    "                yield i\n",
    "    \n",
    "    def union(self, other):\n",
    "        return IndexSet(max(self.n,other.n),(x or y for x,y in zip(self,other)))\n",
    "    \n",
    "    def intersection(self, other):\n",
    "        z = [i for x,y in zip(self.z,other.z)]\n",
    "        print(z)\n",
    "        x = IndexSet(min(self.n,other.n),z)\n",
    "        print(x.z)\n",
    "        return IndexSet(min(self.n,other.n),z)    "
   ]
  },
  {
   "cell_type": "markdown",
   "metadata": {},
   "source": [
    "Erabilpen adibide bat (ez da eskatzen):"
   ]
  },
  {
   "cell_type": "code",
   "execution_count": 57,
   "metadata": {},
   "outputs": [
    {
     "name": "stdout",
     "output_type": "stream",
     "text": [
      "3 in s: True\n",
      "2 in s: False\n",
      "-1 in s: False\n",
      "10 in s: False\n",
      "*s: 0 3 4 6\n",
      "s: IndexSet(7,[0, 3, 4, 6])\n",
      "eval(repr(s)))==s: True\n",
      "Union: IndexSet(10,[1, 3, 4, 6])\n",
      "[False, False, False, False, True, False, True, False]\n",
      "[True, True, False, False, False, False, False, False]\n",
      "Intersection: IndexSet(7,[0, 1])\n"
     ]
    }
   ],
   "source": [
    "s = IndexSet(7,(0,3,4,6))\n",
    "print(f\"3 in s: {3 in s}\")\n",
    "print(f\"2 in s: {2 in s}\")\n",
    "print(f\"-1 in s: {-1 in s}\")\n",
    "print(f\"10 in s: {10 in s}\")\n",
    "print(\"*s:\", *s)\n",
    "print(\"s:\", s)\n",
    "print(\"eval(repr(s)))==s:\", eval(repr(s)) == s)\n",
    "s2 = IndexSet(10,(1,2,4,6,10))\n",
    "print(\"Union:\", s.union(s2))\n",
    "print(\"Intersection:\", s.intersection(s2))"
   ]
  },
  {
   "cell_type": "code",
   "execution_count": null,
   "metadata": {},
   "outputs": [],
   "source": []
  }
 ],
 "metadata": {
  "kernelspec": {
   "display_name": "Python 3",
   "language": "python",
   "name": "python3"
  },
  "language_info": {
   "codemirror_mode": {
    "name": "ipython",
    "version": 3
   },
   "file_extension": ".py",
   "mimetype": "text/x-python",
   "name": "python",
   "nbconvert_exporter": "python",
   "pygments_lexer": "ipython3",
   "version": "3.7.6"
  }
 },
 "nbformat": 4,
 "nbformat_minor": 4
}
