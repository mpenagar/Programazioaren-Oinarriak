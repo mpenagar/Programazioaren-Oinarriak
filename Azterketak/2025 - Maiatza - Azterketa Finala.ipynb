{
 "cells": [
  {
   "cell_type": "code",
   "execution_count": 12,
   "metadata": {},
   "outputs": [
    {
     "data": {
      "text/plain": [
       "{'e': 'ez',\n",
       " 'er': 'eraman',\n",
       " 'err': 'erre',\n",
       " 'era': 'eraman',\n",
       " 'eram': 'eraman',\n",
       " 'erama': 'eraman'}"
      ]
     },
     "execution_count": 12,
     "metadata": {},
     "output_type": "execute_result"
    }
   ],
   "source": [
    "def get_predict(h):\n",
    "    pred = {}\n",
    "    for w,n, in h.items():\n",
    "        for i in range(1,len(w)):\n",
    "            a = w[:i]\n",
    "            if n > h.get(pred.get(a,None),0):\n",
    "                pred[a] = w\n",
    "    return pred\n",
    "                \n",
    "h = {\"ez\": 30, \"erre\": 1, \"eraman\": 8}\n",
    "get_predict(h)    "
   ]
  },
  {
   "cell_type": "code",
   "execution_count": 3,
   "metadata": {},
   "outputs": [],
   "source": []
  }
 ],
 "metadata": {
  "kernelspec": {
   "display_name": "Python 3",
   "language": "python",
   "name": "python3"
  },
  "language_info": {
   "codemirror_mode": {
    "name": "ipython",
    "version": 3
   },
   "file_extension": ".py",
   "mimetype": "text/x-python",
   "name": "python",
   "nbconvert_exporter": "python",
   "pygments_lexer": "ipython3",
   "version": "3.7.6"
  }
 },
 "nbformat": 4,
 "nbformat_minor": 4
}
