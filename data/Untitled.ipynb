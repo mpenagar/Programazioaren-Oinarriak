{
 "cells": [
  {
   "cell_type": "code",
   "execution_count": 5,
   "metadata": {},
   "outputs": [],
   "source": [
    "from string import ascii_lowercase as alfa\n",
    "\n",
    "def clean(w):\n",
    "    w = w.lower()\n",
    "    for i in range(len(w)):\n",
    "        if w[i] in alfa :\n",
    "            break\n",
    "    for j in range(len(w)-1,-1,-1):\n",
    "        if w[j] in alfa :\n",
    "            break\n",
    "    if i <= j :\n",
    "        w = w[i:j+1]\n",
    "        for k in w :\n",
    "            if k not in alfa:\n",
    "                return ''\n",
    "        return w\n",
    "    return ''"
   ]
  },
  {
   "cell_type": "code",
   "execution_count": 6,
   "metadata": {},
   "outputs": [
    {
     "name": "stdout",
     "output_type": "stream",
     "text": [
      "1:1 In the beginning God created the heaven and the earth.\n",
      "--> in the beginning god created the heaven and the earth\n",
      "\n",
      "-->\n",
      "1:2 And the earth was without form, and void; and darkness was upon\n",
      "--> and the earth was without form and void and darkness was upon\n",
      "the face of the deep. And the Spirit of God moved upon the face of the\n",
      "--> the face of the deep and the spirit of god moved upon the face of the\n",
      "waters.\n",
      "--> waters\n",
      "\n",
      "-->\n",
      "1:3 And God said, Let there be light: and there was light.\n",
      "--> and god said let there be light and there was light\n",
      "\n",
      "-->\n",
      "1:4 And God saw the light, that it was good: and God divided the light\n",
      "--> and god saw the light that it was good and god divided the light\n",
      "from the darkness.\n",
      "--> from the darkness\n"
     ]
    }
   ],
   "source": [
    "with open('bible.txt',encoding='utf-8') as f:\n",
    "    for _,line in zip(range(10),f):\n",
    "        line2 = ( x for x in ( clean(x) for x in line.split() ) if x )\n",
    "        print(line,end='')\n",
    "        print('-->',*line2)"
   ]
  },
  {
   "cell_type": "code",
   "execution_count": 9,
   "metadata": {},
   "outputs": [],
   "source": [
    "with open('bible.txt',encoding='utf-8') as fin , open('bible.clean.txt',mode='w',encoding='utf-8') as fout:\n",
    "    z = []\n",
    "    for line in fin:\n",
    "        cleanwords = [ clean(x) for x in line.split() ]\n",
    "        nonempty_cleanwords = [x for x in cleanwords if x]\n",
    "        if cleanwords :\n",
    "            z.extend(nonempty_cleanwords)\n",
    "        elif z :\n",
    "            print(*z , file=fout)\n",
    "            z = []"
   ]
  }
 ],
 "metadata": {
  "kernelspec": {
   "display_name": "Python 3",
   "language": "python",
   "name": "python3"
  },
  "language_info": {
   "codemirror_mode": {
    "name": "ipython",
    "version": 3
   },
   "file_extension": ".py",
   "mimetype": "text/x-python",
   "name": "python",
   "nbconvert_exporter": "python",
   "pygments_lexer": "ipython3",
   "version": "3.7.4"
  }
 },
 "nbformat": 4,
 "nbformat_minor": 2
}
