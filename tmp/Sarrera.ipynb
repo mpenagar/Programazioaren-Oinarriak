{
 "cells": [
  {
   "cell_type": "markdown",
   "metadata": {
    "slideshow": {
     "slide_type": "slide"
    }
   },
   "source": [
    "# Espresio/Balio boolearrak\n"
   ]
  },
  {
   "cell_type": "markdown",
   "metadata": {
    "slideshow": {
     "slide_type": "slide"
    }
   },
   "source": [
    "### Espresio/Balio boolear bat egia edo gezurra ote den konprobatzeak ez du zentzurik"
   ]
  },
  {
   "cell_type": "markdown",
   "metadata": {
    "slideshow": {
     "slide_type": "fragment"
    }
   },
   "source": [
    "```python\n",
    "if propietatea == True :\n",
    "    ...\n",
    "```\n",
    "\n",
    "```python\n",
    "if (propietatea == True) == True :\n",
    "    ...\n",
    "```\n",
    "\n",
    "```python\n",
    "if ((propietatea == True) == True) == True :\n",
    "    ...\n",
    "```\n",
    "\n",
    "```python\n",
    "if (((propietatea == True) == True) == True) == True :\n",
    "    ...\n",
    "```"
   ]
  },
  {
   "cell_type": "markdown",
   "metadata": {
    "slideshow": {
     "slide_type": "slide"
    }
   },
   "source": [
    "### Oro har, `== True` edo `== False` soberan daude\n",
    "```\n",
    "\n",
    "```\n",
    "\n",
    "```python\n",
    "if propietatea:\n",
    "    ...\n",
    "```\n",
    "\n",
    "```python\n",
    "if not propietatea :\n",
    "    ...\n",
    "```"
   ]
  },
  {
   "cell_type": "markdown",
   "metadata": {
    "slideshow": {
     "slide_type": "slide"
    }
   },
   "source": [
    "Zenbaki arrunt bat lehena ote den bueltatzen duen funtzioa"
   ]
  },
  {
   "cell_type": "code",
   "execution_count": 1,
   "metadata": {
    "slideshow": {
     "slide_type": "fragment"
    }
   },
   "outputs": [],
   "source": [
    "def lehena(n):\n",
    "    for i in range(2,n):\n",
    "        if n%i == 0 :\n",
    "            return False\n",
    "    return True "
   ]
  },
  {
   "cell_type": "markdown",
   "metadata": {
    "slideshow": {
     "slide_type": "fragment"
    }
   },
   "source": [
    "`[1,100]` arteko zenbaki lehenen zerrenda sortu"
   ]
  },
  {
   "cell_type": "code",
   "execution_count": 4,
   "metadata": {
    "slideshow": {
     "slide_type": "fragment"
    }
   },
   "outputs": [
    {
     "name": "stdout",
     "output_type": "stream",
     "text": [
      "[1, 2, 3, 5, 7, 11, 13, 17, 19, 23, 29, 31, 37, 41, 43, 47, 53, 59, 61, 67, 71, 73, 79, 83, 89, 97]\n"
     ]
    }
   ],
   "source": [
    "z = []\n",
    "for i in range(1,101):\n",
    "    if lehena(i):\n",
    "        z.append(i)\n",
    "print(z)"
   ]
  },
  {
   "cell_type": "markdown",
   "metadata": {
    "slideshow": {
     "slide_type": "slide"
    }
   },
   "source": [
    "### Funtzio (boolear) batek True/False bueltatzen badu baldintza baten arabera, baldintza ez da beharrezkoa."
   ]
  },
  {
   "cell_type": "markdown",
   "metadata": {
    "slideshow": {
     "slide_type": "fragment"
    }
   },
   "source": [
    "```python\n",
    "...\n",
    "if baldintza :\n",
    "    return True\n",
    "else :\n",
    "    return False\n",
    "```"
   ]
  },
  {
   "cell_type": "markdown",
   "metadata": {
    "slideshow": {
     "slide_type": "fragment"
    }
   },
   "source": [
    "```python\n",
    "...\n",
    "return baldintza\n",
    "```\n"
   ]
  },
  {
   "cell_type": "markdown",
   "metadata": {
    "slideshow": {
     "slide_type": "slide"
    }
   },
   "source": [
    "# Karaktere kateak\n"
   ]
  },
  {
   "cell_type": "markdown",
   "metadata": {
    "slideshow": {
     "slide_type": "slide"
    }
   },
   "source": [
    "### Axioma: Karaktere kateak ALDAEZINAK dira"
   ]
  },
  {
   "cell_type": "markdown",
   "metadata": {
    "slideshow": {
     "slide_type": "fragment"
    }
   },
   "source": [
    "* **Korolarioa**: karaktere kate bat aldatzen zabiltzala uste baduzu... Kodeak ez du egiten zuk uste duzuna.\n",
    "   * Sintaxi errorea\n",
    "   * Beste zerbait egiten dabil"
   ]
  },
  {
   "cell_type": "code",
   "execution_count": 3,
   "metadata": {
    "slideshow": {
     "slide_type": "slide"
    }
   },
   "outputs": [
    {
     "name": "stdout",
     "output_type": "stream",
     "text": [
      "[0, 1, 2, 3, 4, 0, 1, 2, 3, 4, 0, 1, 2, 3, 4]\n",
      "{0, 1, 2, 3, 4}\n"
     ]
    }
   ],
   "source": [
    "zenbakiak = list(range(5))*3\n",
    "multzoa = set(zenbakiak)\n",
    "print(zenbakiak,multzoa,sep=\"\\n\")"
   ]
  },
  {
   "cell_type": "code",
   "execution_count": null,
   "metadata": {},
   "outputs": [],
   "source": [
    "* `set` motako objektuak\n",
    "* **Elementu** ez errepikatuz osotutako kolekzio aldakorra.\n",
    "  * *Baliorik gabeko* hiztegia\n",
    "* Multzoak sortzeko aukerak:\n",
    "  1. Objektuaren berezko metodoaz &rarr; `set(it)`\n",
    "  1. Balio literala &rarr; `{e1, e2, e3, ... }`\n",
    "* `len()` funtzioa &rarr; elementu kopurua"
   ]
  }
 ],
 "metadata": {
  "celltoolbar": "Slideshow",
  "kernelspec": {
   "display_name": "Python 3",
   "language": "python",
   "name": "python3"
  },
  "language_info": {
   "codemirror_mode": {
    "name": "ipython",
    "version": 3
   },
   "file_extension": ".py",
   "mimetype": "text/x-python",
   "name": "python",
   "nbconvert_exporter": "python",
   "pygments_lexer": "ipython3",
   "version": "3.7.6"
  },
  "rise": {
   "autolaunch": true,
   "footer": "<h2 align=\"center\">Konputaziorako Sarrera</h2>",
   "scroll": true
  }
 },
 "nbformat": 4,
 "nbformat_minor": 2
}
