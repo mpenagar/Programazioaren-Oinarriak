{
 "cells": [
  {
   "cell_type": "markdown",
   "metadata": {
    "slideshow": {
     "slide_type": "slide"
    }
   },
   "source": [
    "# Espresio/Balio boolearrak"
   ]
  },
  {
   "cell_type": "markdown",
   "metadata": {
    "slideshow": {
     "slide_type": "slide"
    }
   },
   "source": [
    "## Balio boolear bat egia edo gezurra ote den konprobatzeak ez du zentzurik\n",
    "```\n",
    "\n",
    "```\n",
    "\n",
    "```python\n",
    "if zerbait == True :\n",
    "    ...\n",
    "```\n",
    "\n",
    "```python\n",
    "if zerbait == False :\n",
    "    ...\n",
    "```\n"
   ]
  },
  {
   "cell_type": "code",
   "execution_count": 3,
   "metadata": {
    "slideshow": {
     "slide_type": "-"
    }
   },
   "outputs": [
    {
     "name": "stdout",
     "output_type": "stream",
     "text": [
      "[0, 1, 2, 3, 4, 0, 1, 2, 3, 4, 0, 1, 2, 3, 4]\n",
      "{0, 1, 2, 3, 4}\n"
     ]
    }
   ],
   "source": [
    "zenbakiak = list(range(5))*3\n",
    "multzoa = set(zenbakiak)\n",
    "print(zenbakiak,multzoa,sep=\"\\n\")"
   ]
  },
  {
   "cell_type": "code",
   "execution_count": null,
   "metadata": {},
   "outputs": [],
   "source": [
    "* `set` motako objektuak\n",
    "* **Elementu** ez errepikatuz osotutako kolekzio aldakorra.\n",
    "  * *Baliorik gabeko* hiztegia\n",
    "* Multzoak sortzeko aukerak:\n",
    "  1. Objektuaren berezko metodoaz &rarr; `set(it)`\n",
    "  1. Balio literala &rarr; `{e1, e2, e3, ... }`\n",
    "* `len()` funtzioa &rarr; elementu kopurua"
   ]
  }
 ],
 "metadata": {
  "celltoolbar": "Slideshow",
  "kernelspec": {
   "display_name": "Python 3",
   "language": "python",
   "name": "python3"
  },
  "language_info": {
   "codemirror_mode": {
    "name": "ipython",
    "version": 3
   },
   "file_extension": ".py",
   "mimetype": "text/x-python",
   "name": "python",
   "nbconvert_exporter": "python",
   "pygments_lexer": "ipython3",
   "version": "3.7.6"
  },
  "rise": {
   "autolaunch": true,
   "footer": "<h2 align=\"center\">Konputaziorako Sarrera</h2>",
   "scroll": true
  }
 },
 "nbformat": 4,
 "nbformat_minor": 2
}
