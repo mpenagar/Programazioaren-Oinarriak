{
 "cells": [
  {
   "cell_type": "code",
   "execution_count": 1,
   "metadata": {},
   "outputs": [],
   "source": [
    "class Pertsona(object):\n",
    "    def __init__(self,izenabizena,adina,NAN,jaioterria,helbidea):\n",
    "        self.izenabizena=izenabizena\n",
    "        self.adina=adina\n",
    "        self.NAN=NAN\n",
    "        self.jaioterria=jaioterria\n",
    "        self.helbidea=helbidea\n",
    "    def __str__(self):\n",
    "        return f'({self.izenabizena},{self.adina},{self.NAN},{self.jaioterria},{self.helbidea})'\n",
    "    def adin_nagusikoa(self):\n",
    "        if self.adina==18:\n",
    "            return True\n",
    "        else:\n",
    "            return False\n",
    "    def semealabak(self,other):\n",
    "        a=self.izenabizena\n",
    "        b=a.split()\n",
    "        c=b[1]\n",
    "        d=other.izenabizena\n",
    "        e=d.split()\n",
    "        f=e[1]\n",
    "        return(f'seme alaben abizena:{c} {f}')\n",
    "    def __repr__(self):\n",
    "        return f'Pertsona({self.izenabizena},{self.adina},{self.NAN},{self.jaioterria},{self.helbidea})'\n",
    "\n",
    "p=Pertsona('Silvia Agirre',18,'72547587K','Hernani','Latxunbeberri 28 3b')\n",
    "print(str(p))\n",
    "q=Pertsona('Iker Larrea',18,'346746456K','Bilbao','REKALDE')\n",
    "print(str(q))\n",
    "print(p.adin_nagusikoa())\n",
    "print(p.semealabak(q))      \n",
    "k=eval(repr(p))\n",
    "print(p,k)"
   ]
  }
 ],
 "metadata": {
  "kernelspec": {
   "display_name": "Python 3",
   "language": "python",
   "name": "python3"
  },
  "language_info": {
   "codemirror_mode": {
    "name": "ipython",
    "version": 3
   },
   "file_extension": ".py",
   "mimetype": "text/x-python",
   "name": "python",
   "nbconvert_exporter": "python",
   "pygments_lexer": "ipython3",
   "version": "3.7.6"
  }
 },
 "nbformat": 4,
 "nbformat_minor": 4
}
