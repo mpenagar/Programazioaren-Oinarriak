{
 "cells": [
  {
   "cell_type": "code",
   "execution_count": 2,
   "metadata": {},
   "outputs": [],
   "source": [
    "z = list()"
   ]
  },
  {
   "cell_type": "code",
   "execution_count": 24,
   "metadata": {},
   "outputs": [
    {
     "name": "stdout",
     "output_type": "stream",
     "text": [
      "1 3\n",
      "str: x=1,y=3\n",
      "repr: Point(1,3)\n",
      "x=1,y=3 x=1,y=3 False True\n"
     ]
    },
    {
     "data": {
      "text/plain": [
       "False"
      ]
     },
     "execution_count": 24,
     "metadata": {},
     "output_type": "execute_result"
    }
   ],
   "source": [
    "class Point(object):\n",
    "    \n",
    "    def __init__(self,x=0,y=0):\n",
    "        self.x = x\n",
    "        self.y = y\n",
    "        \n",
    "    def __str__(self):\n",
    "        return f'x={self.x},y={self.y}'\n",
    "\n",
    "    def __repr__(self):\n",
    "        return f'Point({self.x},{self.y})'\n",
    "\n",
    "\n",
    "p = Point(1,3)\n",
    "q = Point(1,3)\n",
    "\n",
    "Point(1,3)\n",
    "print(p.x, p.y)\n",
    "print(\"str:\", p)\n",
    "#print(str(p))\n",
    "#print(p.__str__())\n",
    "\n",
    "'Etxea'\n",
    "print(\"repr:\", repr(p))\n",
    "q = eval(repr(p))\n",
    "print(p,q,p==q, p==p)\n",
    "eval(repr(p)) == p\n",
    "\n",
    "#None"
   ]
  },
  {
   "cell_type": "code",
   "execution_count": 18,
   "metadata": {},
   "outputs": [
    {
     "data": {
      "text/plain": [
       "'Etxea'"
      ]
     },
     "execution_count": 18,
     "metadata": {},
     "output_type": "execute_result"
    }
   ],
   "source": [
    "eval('\"Etxea\"')"
   ]
  }
 ],
 "metadata": {
  "kernelspec": {
   "display_name": "Python 3",
   "language": "python",
   "name": "python3"
  },
  "language_info": {
   "codemirror_mode": {
    "name": "ipython",
    "version": 3
   },
   "file_extension": ".py",
   "mimetype": "text/x-python",
   "name": "python",
   "nbconvert_exporter": "python",
   "pygments_lexer": "ipython3",
   "version": "3.7.6"
  }
 },
 "nbformat": 4,
 "nbformat_minor": 4
}
