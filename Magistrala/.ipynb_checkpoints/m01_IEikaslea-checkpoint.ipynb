{
 "cells": [
  {
   "cell_type": "markdown",
   "metadata": {
    "slideshow": {
     "slide_type": "slide"
    }
   },
   "source": [
    "# Zozketa bat egiten..."
   ]
  },
  {
   "cell_type": "markdown",
   "metadata": {
    "slideshow": {
     "slide_type": "slide"
    }
   },
   "source": [
    "`random` moduloko `choice` metodoak sekuentzia batetako auzazko elementu bat aukera dezake."
   ]
  },
  {
   "cell_type": "code",
   "execution_count": null,
   "metadata": {
    "slideshow": {
     "slide_type": "fragment"
    }
   },
   "outputs": [],
   "source": [
    "from random import choice\n",
    "\n",
    "print(choice(range(100000)))"
   ]
  },
  {
   "cell_type": "markdown",
   "metadata": {
    "slideshow": {
     "slide_type": "slide"
    }
   },
   "source": [
    "`time` moduloko `sleep` metodoak adierazitako segundu kopurua _geldituko_ du exekuzioa."
   ]
  },
  {
   "cell_type": "code",
   "execution_count": null,
   "metadata": {
    "slideshow": {
     "slide_type": "fragment"
    }
   },
   "outputs": [],
   "source": [
    "from time import sleep\n",
    "\n",
    "for i in range(5):\n",
    "    print(choice(range(100000)))\n",
    "    sleep(3.0)"
   ]
  },
  {
   "cell_type": "markdown",
   "metadata": {
    "slideshow": {
     "slide_type": "slide"
    }
   },
   "source": [
    "`print` metodoan, `\\r` karakreteak ( _carriage return_ ) ilararen haserara bidaltzen gaitu."
   ]
  },
  {
   "cell_type": "code",
   "execution_count": null,
   "metadata": {
    "slideshow": {
     "slide_type": "fragment"
    }
   },
   "outputs": [],
   "source": [
    "for i in range(5):\n",
    "    print(choice(range(100000)), end='\\r')\n",
    "    sleep(3.0)"
   ]
  },
  {
   "cell_type": "markdown",
   "metadata": {
    "slideshow": {
     "slide_type": "slide"
    }
   },
   "source": [
    "Baina _bizkor_ idazten badugu, idatzitako gauza guztiak ez dira pantailatik agertzen, _buffering_ -a dela eta..."
   ]
  },
  {
   "cell_type": "code",
   "execution_count": null,
   "metadata": {
    "slideshow": {
     "slide_type": "fragment"
    }
   },
   "outputs": [],
   "source": [
    "for i in range(100):\n",
    "    print(i, end='\\r')\n",
    "    sleep(0.05)"
   ]
  },
  {
   "cell_type": "markdown",
   "metadata": {
    "slideshow": {
     "slide_type": "slide"
    }
   },
   "source": [
    "`flush=True` _keyword_ argumentuak ebatziko du."
   ]
  },
  {
   "cell_type": "code",
   "execution_count": null,
   "metadata": {
    "slideshow": {
     "slide_type": "fragment"
    }
   },
   "outputs": [],
   "source": [
    "for i in range(100):\n",
    "    print(i, end='\\r', flush=True)\n",
    "    sleep(0.05)"
   ]
  },
  {
   "cell_type": "markdown",
   "metadata": {
    "slideshow": {
     "slide_type": "slide"
    }
   },
   "source": [
    "Prest gaude zozketa egiteko...."
   ]
  },
  {
   "cell_type": "code",
   "execution_count": null,
   "metadata": {
    "slideshow": {
     "slide_type": "fragment"
    }
   },
   "outputs": [],
   "source": [
    "t = 0.01\n",
    "while t < 1 :\n",
    "    x = choice(range(100000))\n",
    "    print(str(x)+\"     \", end='\\r', flush=True)\n",
    "    sleep(t)\n",
    "    t *= 1.1\n",
    "print(\"Emaitza:\", x)"
   ]
  },
  {
   "cell_type": "markdown",
   "metadata": {
    "slideshow": {
     "slide_type": "slide"
    }
   },
   "source": [
    "## Zenbakien ordez izenak erabiltzen baditugu?"
   ]
  },
  {
   "cell_type": "markdown",
   "metadata": {
    "slideshow": {
     "slide_type": "fragment"
    }
   },
   "source": [
    "### Adibidez: [ikasleak-IE.txt](http://bilbao.we.lc.ehu.es:8000/edit/Programazioaren-Oinarriak-2019-2020/Magistrala/ikasleak-IE.txt)"
   ]
  },
  {
   "cell_type": "code",
   "execution_count": null,
   "metadata": {
    "slideshow": {
     "slide_type": "fragment"
    }
   },
   "outputs": [],
   "source": [
    "with open('ikasleak-IE.txt') as f:\n",
    "    z = []\n",
    "    for x in f :\n",
    "        z.append(x.split('\\t')[2].lstrip())\n",
    "print(z)"
   ]
  },
  {
   "cell_type": "code",
   "execution_count": null,
   "metadata": {
    "slideshow": {
     "slide_type": "slide"
    }
   },
   "outputs": [],
   "source": [
    "t = 0.01\n",
    "while t < 1 :\n",
    "    x = choice(z)\n",
    "    print(x + \" \"*20, end='\\r', flush=True)\n",
    "    sleep(t)\n",
    "    t *= 1.1\n",
    "print(\"Irabazlea: \", x, \"   ZORIONAK!!!\")"
   ]
  }
 ],
 "metadata": {
  "celltoolbar": "Slideshow",
  "kernelspec": {
   "display_name": "Python 3",
   "language": "python",
   "name": "python3"
  },
  "language_info": {
   "codemirror_mode": {
    "name": "ipython",
    "version": 3
   },
   "file_extension": ".py",
   "mimetype": "text/x-python",
   "name": "python",
   "nbconvert_exporter": "python",
   "pygments_lexer": "ipython3",
   "version": "3.7.4"
  }
 },
 "nbformat": 4,
 "nbformat_minor": 2
}
