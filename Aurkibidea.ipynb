{
 "cells": [
  {
   "cell_type": "markdown",
   "metadata": {
    "slideshow": {
     "slide_type": "slide"
    }
   },
   "source": [
    "# Programazioaren oinarriak - Aurkibidea\n",
    "\n",
    "1. [Python Programazio Lengoaia - Exekuzioa ingurunea](Gardenkiak/Python%20Programazio%20Lengoaia.ipynb)\n",
    "1. [Karaktere kateak](Gardenkiak/Karaktere%20kateak.ipynb)\n",
    "1. [Zerrendak](Gardenkiak/Zerrendak.ipynb)\n",
    "1. [N-Koteak](Gardenkiak/NKoteak.ipynb)\n",
    "1. [Hiztegiak - Sarrera](Gardenkiak/Hiztegiak-KS.ipynb)\n",
    "1. [Hiztegiak](Gardenkiak/Hiztegiak.ipynb)\n",
    "   * Multzoak\n",
    "1. [Sarrera-Irteera eta Fitxategiak](Gardenkiak/SarreraIrteeraEtaFitxategiak.ipynb)\n",
    "1. [Random modulua](Gardenkiak/Random.ipynb)\n",
    "1. [Hash Taulak](Gardenkiak/HashTaulak.ipynb)\n",
    "   * [Hiztegien Inplementazioa - Taularen berdimentsionatzea](Gardenkiak/Hiztegia-KolisioEbazpena1.ipynb)\n",
    "   * [Hiztegien Inplementazioa - Helbideratze Irekia](Gardenkiak/Hiztegia-KolisioEbazpena2.ipynb)\n",
    "1. [Errekurtsibitatea](Gardenkiak/Errekurtsibitatea.ipynb)\n",
    "1. [Algoritmoen Konplexutasuna eta Notazio Asintotikoa](Gardenkiak/Algoritmoen%20Konplexutasuna%20eta%20Notazio%20Asintotikoa.ipynb)\n",
    "1. [Klaseak](Gardenkiak/Klaseak.ipynb)\n",
    "1. Datu Mota Abstraktuak\n",
    "    * [Pilak](Gardenkiak/Pilak.ipynb)\n",
    "    * [Ilarak](Gardenkiak/Ilarak.ipynb)\n",
    "\n"
   ]
  }
 ],
 "metadata": {
  "celltoolbar": "Slideshow",
  "kernelspec": {
   "display_name": "Python 3",
   "language": "python",
   "name": "python3"
  },
  "language_info": {
   "codemirror_mode": {
    "name": "ipython",
    "version": 3
   },
   "file_extension": ".py",
   "mimetype": "text/x-python",
   "name": "python",
   "nbconvert_exporter": "python",
   "pygments_lexer": "ipython3",
   "version": "3.7.6"
  }
 },
 "nbformat": 4,
 "nbformat_minor": 2
}
