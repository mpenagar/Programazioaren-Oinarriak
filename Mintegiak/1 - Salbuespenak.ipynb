{
 "cells": [
  {
   "cell_type": "markdown",
   "metadata": {},
   "source": [
    "# try ... except\n",
    "\n",
    "```python\n",
    "try:\n",
    "    kodea\n",
    "except ErroreMota1 as aldagaia:\n",
    "    kudeatzeko kodea\n",
    "except ErroreMota2:\n",
    "    kudeatzeko kodea\n",
    "except (ErroreMota3, ErroreMota4):\n",
    "    kudeatzeko kodea\n",
    "except:\n",
    "    beste erroreak kudeatzeko kodea\n",
    "else:\n",
    "    erroreak ez daudenean exekutatzen den kodea\n",
    "finally:\n",
    "    beti bukaeran exekutatzen den kodea\n",
    "```"
   ]
  },
  {
   "cell_type": "markdown",
   "metadata": {},
   "source": [
    "## Salbuespenak seinaleztapen mekanismo gisa\n",
    "\n",
    "Salbuespenak ez ditugu zertan _error_ gisa soilik ulertu behar. Seinale gisa ere erabil ditzakegu kodea sinplifikatzeko"
   ]
  },
  {
   "cell_type": "markdown",
   "metadata": {},
   "source": [
    "### Ariketa\n",
    "Demagun teklatutik jasotako zenbaki oso baten karratua kalkulatu nahi dugula. Programak errorerik sor ez dezan, erabiltzaileak zenbakia gaizki idatz dezakeela suposatuko dugu:"
   ]
  },
  {
   "cell_type": "code",
   "execution_count": null,
   "metadata": {},
   "outputs": [],
   "source": [
    "s = input('Idatzi zenbaki oso bat: ')\n",
    "while not s.isnumeric() :\n",
    "    s = input(f'{s} ez da zenbaki oso bat. Idatzi zenbaki oso bat: ')\n",
    "i = int(s)\n",
    "print(f'{i}-ren karratua {i*i} da')"
   ]
  },
  {
   "cell_type": "markdown",
   "metadata": {},
   "source": [
    "Baina `str.isnumeric()` ez da guztiz aproposa. Ez digu esando `s` zenbaki osoa den, soilik bere karaktere guztiak digitoak ote diren.\n",
    "\n",
    "$\\to$ zenbaki **negatiboekin** ez du nahiko genukeen konportamoldea..."
   ]
  },
  {
   "cell_type": "code",
   "execution_count": null,
   "metadata": {},
   "outputs": [],
   "source": [
    "\"-123\".isnumeric()"
   ]
  },
  {
   "cell_type": "markdown",
   "metadata": {},
   "source": [
    "`int()` funtzioak sortzen duen salbuespena (`ValueError`) seinale bezala erabil dezakegu:"
   ]
  },
  {
   "cell_type": "code",
   "execution_count": null,
   "metadata": {},
   "outputs": [],
   "source": [
    "try :\n",
    "    a = int(input('Idatzi zenbaki oso bat: '))\n",
    "except ValueError:\n",
    "    print('Zerbait egin zenbakia zuzena EZ denean')\n",
    "else :\n",
    "    print('Zerbait egin zenbakia zuzena denean')"
   ]
  },
  {
   "cell_type": "code",
   "execution_count": null,
   "metadata": {},
   "outputs": [],
   "source": [
    "s = input('Idatzi zenbaki oso bat: ')\n",
    "while True :\n",
    "    try :\n",
    "        i = int(s)\n",
    "    except ValueError:\n",
    "        s = input(f'{s} ez da zenbaki oso bat. Idatzi zenbaki oso bat: ')\n",
    "    else :\n",
    "        break\n",
    "        \n",
    "print(f'{i}-ren karratua {i*i} da')"
   ]
  },
  {
   "cell_type": "code",
   "execution_count": null,
   "metadata": {},
   "outputs": [],
   "source": [
    "while True :\n",
    "    try :\n",
    "        s = input('Idatzi zenbaki oso bat: ')\n",
    "        i = int(s)\n",
    "    except ValueError:\n",
    "        print(f'{s} ez da zenbaki oso bat. ',end='')\n",
    "    else :\n",
    "        break\n",
    "        \n",
    "print(f'{i}-ren karratua {i*i} da')"
   ]
  },
  {
   "cell_type": "markdown",
   "metadata": {},
   "source": [
    "### Ariketa\n",
    "Sortu hiztegiek duten `dict.get(key,value=None)` moduko `get(hiztegia,key,value=None)`funtzioa bat:"
   ]
  },
  {
   "cell_type": "code",
   "execution_count": null,
   "metadata": {},
   "outputs": [],
   "source": [
    "def get(hiztegia,key,default=None):\n",
    "    if key in hiztegia :\n",
    "        return hiztegia[key]\n",
    "    else :\n",
    "        return default"
   ]
  },
  {
   "cell_type": "code",
   "execution_count": null,
   "metadata": {},
   "outputs": [],
   "source": [
    "\"kaixo\" if 2>1 else \"agur\""
   ]
  },
  {
   "cell_type": "markdown",
   "metadata": {},
   "source": [
    "```python\n",
    "if baldintza :\n",
    "    return espr1\n",
    "else :\n",
    "    return espr2\n",
    "```\n",
    "\n",
    "kodea beste era honetan adieraz dezakegu:\n",
    "\n",
    "```python\n",
    "return espr1 if baldintza else espr2\n",
    "```"
   ]
  },
  {
   "cell_type": "code",
   "execution_count": null,
   "metadata": {},
   "outputs": [],
   "source": [
    "def get(hiztegia,key,default=None):\n",
    "    return hiztegia[key] if key in hiztegia else default"
   ]
  },
  {
   "cell_type": "code",
   "execution_count": null,
   "metadata": {},
   "outputs": [],
   "source": [
    "h = {1:\"bat\" , 2:\"bi\"}\n",
    "print(h.get(2))\n",
    "print(h.get(3))\n",
    "print(h.get(3,\"ez dago\"))"
   ]
  },
  {
   "cell_type": "code",
   "execution_count": null,
   "metadata": {},
   "outputs": [],
   "source": [
    "print(get(h,2))\n",
    "print(get(h,3))\n",
    "print(get(h,3,\"ez dago\"))"
   ]
  },
  {
   "cell_type": "markdown",
   "metadata": {},
   "source": [
    "Indexazio errorea (`KeyError`) seinale bezala erabil dezakegu:"
   ]
  },
  {
   "cell_type": "code",
   "execution_count": null,
   "metadata": {},
   "outputs": [],
   "source": [
    "def get(hiztegia,key,default=None):\n",
    "    try :\n",
    "        return hiztegia[key]\n",
    "    except KeyError :\n",
    "        return default"
   ]
  },
  {
   "cell_type": "code",
   "execution_count": null,
   "metadata": {},
   "outputs": [],
   "source": [
    "print(get(h,2))\n",
    "print(get(h,3))\n",
    "print(get(h,3,\"ez dago\"))"
   ]
  },
  {
   "cell_type": "markdown",
   "metadata": {},
   "source": [
    "### Ariketa\n",
    "Demagun karaktere kate batetan zenbaki errealak ager daitezkeela, beti hutsunez bananduak:\n",
    "\n",
    "`Esperimentua t0: 24.5 hasieratzea t1: 24.3 t2: 26.8 t3: 27.5 etenaldia t4:`\n",
    "\n",
    "eta zenbaki horien zerrenda bueltatuko duen funtzioa sortu nahi dugula:\n"
   ]
  },
  {
   "cell_type": "code",
   "execution_count": null,
   "metadata": {},
   "outputs": [],
   "source": [
    "def tenperaturak(s):\n",
    "    z = []\n",
    "    for w in s.split():\n",
    "        try :\n",
    "            z.append(float(w))\n",
    "        #except ValueError as e:\n",
    "            #print(e)\n",
    "        except ValueError:\n",
    "            pass\n",
    "    return z"
   ]
  },
  {
   "cell_type": "code",
   "execution_count": null,
   "metadata": {},
   "outputs": [],
   "source": [
    "txt = \"Esperimentua t0: 24.5 hasieratzea t1: 24.3 t2: 26.8 t3: 27.5 etenaldia t4:\"\n",
    "tenperaturak(txt)"
   ]
  }
 ],
 "metadata": {
  "kernelspec": {
   "display_name": "Python 3",
   "language": "python",
   "name": "python3"
  },
  "language_info": {
   "codemirror_mode": {
    "name": "ipython",
    "version": 3
   },
   "file_extension": ".py",
   "mimetype": "text/x-python",
   "name": "python",
   "nbconvert_exporter": "python",
   "pygments_lexer": "ipython3",
   "version": "3.8.2"
  }
 },
 "nbformat": 4,
 "nbformat_minor": 4
}
