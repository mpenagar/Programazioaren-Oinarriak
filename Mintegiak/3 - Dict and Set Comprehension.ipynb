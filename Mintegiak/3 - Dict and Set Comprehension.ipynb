{
 "cells": [
  {
   "cell_type": "markdown",
   "metadata": {},
   "source": [
    "# dict comprehension\n",
    "\n",
    "```python\n",
    "{ <espr>:<espr> for x in (for | if)* }\n",
    "```"
   ]
  },
  {
   "cell_type": "code",
   "execution_count": 1,
   "metadata": {},
   "outputs": [
    {
     "name": "stdout",
     "output_type": "stream",
     "text": [
      "{0: 0, 1: 1, 2: 4, 3: 9, 4: 16, 5: 25, 6: 36, 7: 49, 8: 64, 9: 81}\n"
     ]
    }
   ],
   "source": [
    "h = {}\n",
    "for i in range(10):\n",
    "    h[i] = i*i\n",
    "print(h)"
   ]
  },
  {
   "cell_type": "code",
   "execution_count": 2,
   "metadata": {},
   "outputs": [
    {
     "name": "stdout",
     "output_type": "stream",
     "text": [
      "{0: 0, 1: 1, 2: 4, 3: 9, 4: 16, 5: 25, 6: 36, 7: 49, 8: 64, 9: 81}\n"
     ]
    }
   ],
   "source": [
    "h = { i:i*i for i in range(10) }\n",
    "print(h)"
   ]
  },
  {
   "cell_type": "code",
   "execution_count": 3,
   "metadata": {},
   "outputs": [
    {
     "name": "stdout",
     "output_type": "stream",
     "text": [
      "{0: 0, 2: 4, 4: 16, 6: 36, 8: 64}\n"
     ]
    }
   ],
   "source": [
    "h = {}\n",
    "for i in range(10):\n",
    "    if i%2 == 0:\n",
    "        h[i] = i*i\n",
    "print(h)"
   ]
  },
  {
   "cell_type": "code",
   "execution_count": 4,
   "metadata": {},
   "outputs": [
    {
     "name": "stdout",
     "output_type": "stream",
     "text": [
      "{0: 0, 2: 4, 4: 16, 6: 36, 8: 64}\n"
     ]
    }
   ],
   "source": [
    "h = { i:i*i for i in range(10) if i%2 == 0 }\n",
    "print(h)"
   ]
  },
  {
   "cell_type": "code",
   "execution_count": 5,
   "metadata": {},
   "outputs": [
    {
     "name": "stdout",
     "output_type": "stream",
     "text": [
      "21 {(0, 0): 0, (0, 1): 0, (0, 2): 0, (0, 3): 0, (0, 4): 0, (1, 0): 0, (1, 2): 2, (1, 4): 4, (2, 0): 0, (2, 1): 2, (2, 2): 4, (2, 3): 6, (2, 4): 8, (3, 0): 0, (3, 2): 6, (3, 4): 12, (4, 0): 0, (4, 1): 4, (4, 2): 8, (4, 3): 12, (4, 4): 16}\n"
     ]
    }
   ],
   "source": [
    "h = {}\n",
    "for i in range(5):\n",
    "    for j in range(5):\n",
    "        if (i*j)%2 == 0:\n",
    "            h[(i,j)] = i*j\n",
    "print(len(h),h)"
   ]
  },
  {
   "cell_type": "code",
   "execution_count": 6,
   "metadata": {},
   "outputs": [
    {
     "name": "stdout",
     "output_type": "stream",
     "text": [
      "21 {(0, 0): 0, (0, 1): 0, (0, 2): 0, (0, 3): 0, (0, 4): 0, (1, 0): 0, (1, 2): 2, (1, 4): 4, (2, 0): 0, (2, 1): 2, (2, 2): 4, (2, 3): 6, (2, 4): 8, (3, 0): 0, (3, 2): 6, (3, 4): 12, (4, 0): 0, (4, 1): 4, (4, 2): 8, (4, 3): 12, (4, 4): 16}\n"
     ]
    }
   ],
   "source": [
    "h = {(i,j):i*j for i in range(5) for j in range(5) if (i*j)%2 == 0}\n",
    "print(len(h),h)"
   ]
  },
  {
   "cell_type": "markdown",
   "metadata": {},
   "source": [
    "# set - Multzoak"
   ]
  },
  {
   "cell_type": "code",
   "execution_count": 7,
   "metadata": {},
   "outputs": [
    {
     "data": {
      "text/plain": [
       "{0, 1, 2, 3, 4, 5, 6, 7, 8, 9}"
      ]
     },
     "execution_count": 7,
     "metadata": {},
     "output_type": "execute_result"
    }
   ],
   "source": [
    "s = set()\n",
    "s = { 1 , 2 , 3 }\n",
    "# Hiztegi hutsa!!\n",
    "#s = {}\n",
    "s = set(range(10))\n",
    "s"
   ]
  },
  {
   "cell_type": "markdown",
   "metadata": {},
   "source": [
    "Multzoek ez dute elementu errepikaturik:"
   ]
  },
  {
   "cell_type": "code",
   "execution_count": 8,
   "metadata": {},
   "outputs": [
    {
     "name": "stdout",
     "output_type": "stream",
     "text": [
      "kaixo nire izena Mikel da\n",
      "{'k', 'n', 'x', 'M', 'o', 'i', 'a', 'r', 'z', 'd', ' ', 'l', 'e'}\n",
      "25 13\n"
     ]
    }
   ],
   "source": [
    "kk = 'kaixo nire izena Mikel da'\n",
    "s = set(kk)\n",
    "print(kk,s,sep='\\n')\n",
    "print(len(kk),len(s))"
   ]
  },
  {
   "cell_type": "code",
   "execution_count": null,
   "metadata": {},
   "outputs": [],
   "source": [
    "#help(s)"
   ]
  },
  {
   "cell_type": "markdown",
   "metadata": {},
   "source": [
    "# set comprehension\n",
    "\n",
    "```python\n",
    "{ <espr> for x in (for | if)* }\n",
    "```"
   ]
  },
  {
   "cell_type": "code",
   "execution_count": 9,
   "metadata": {},
   "outputs": [
    {
     "name": "stdout",
     "output_type": "stream",
     "text": [
      "{'testu', 'Dira', 'Testu', 'honetan', 'asko', 'dira', 'agertuko', 'Ez', 'hitzak', 'izango'}\n"
     ]
    }
   ],
   "source": [
    "txt = \"Testu honetan hitzak agertuko dira Ez Dira asko izango testu honetan\"\n",
    "s = set(txt.split())\n",
    "print(s)"
   ]
  },
  {
   "cell_type": "code",
   "execution_count": 10,
   "metadata": {},
   "outputs": [
    {
     "name": "stdout",
     "output_type": "stream",
     "text": [
      "{'testu', 'ez', 'honetan', 'asko', 'dira', 'agertuko', 'hitzak', 'izango'}\n"
     ]
    }
   ],
   "source": [
    "s = set()\n",
    "for w in txt.split():\n",
    "    s.add(w.lower())\n",
    "print(s)"
   ]
  },
  {
   "cell_type": "code",
   "execution_count": 11,
   "metadata": {},
   "outputs": [
    {
     "name": "stdout",
     "output_type": "stream",
     "text": [
      "{'testu', 'ez', 'honetan', 'asko', 'dira', 'agertuko', 'hitzak', 'izango'}\n"
     ]
    }
   ],
   "source": [
    "s = { w.lower() for w in txt.split()}\n",
    "print(s)"
   ]
  },
  {
   "cell_type": "code",
   "execution_count": 12,
   "metadata": {},
   "outputs": [
    {
     "name": "stdout",
     "output_type": "stream",
     "text": [
      "{'testu', 'ez', 'asko', 'dira', 'hitzak', 'izango'}\n"
     ]
    }
   ],
   "source": [
    "s = set()\n",
    "for w in txt.split():\n",
    "    if len(w) < 7 :\n",
    "        s.add(w.lower())\n",
    "print(s)"
   ]
  },
  {
   "cell_type": "code",
   "execution_count": 13,
   "metadata": {},
   "outputs": [
    {
     "name": "stdout",
     "output_type": "stream",
     "text": [
      "{'testu', 'ez', 'asko', 'dira', 'hitzak', 'izango'}\n"
     ]
    }
   ],
   "source": [
    "s = { w.lower() for w in txt.split() if len(w) < 7}\n",
    "print(s)"
   ]
  }
 ],
 "metadata": {
  "kernelspec": {
   "display_name": "Python 3",
   "language": "python",
   "name": "python3"
  },
  "language_info": {
   "codemirror_mode": {
    "name": "ipython",
    "version": 3
   },
   "file_extension": ".py",
   "mimetype": "text/x-python",
   "name": "python",
   "nbconvert_exporter": "python",
   "pygments_lexer": "ipython3",
   "version": "3.7.6"
  }
 },
 "nbformat": 4,
 "nbformat_minor": 4
}
