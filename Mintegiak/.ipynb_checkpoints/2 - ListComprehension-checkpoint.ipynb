{
 "cells": [
  {
   "cell_type": "markdown",
   "metadata": {},
   "source": [
    "# List comprehension\n",
    "\n",
    "```python\n",
    "[ <espr> for x in (for | if)* ]\n",
    "```"
   ]
  },
  {
   "cell_type": "code",
   "execution_count": null,
   "metadata": {},
   "outputs": [],
   "source": [
    "z = []\n",
    "for i in range(1,11):\n",
    "    z.append(i*i)\n",
    "print(z)"
   ]
  },
  {
   "cell_type": "code",
   "execution_count": null,
   "metadata": {},
   "outputs": [],
   "source": [
    "z = [ i*i for i in range(1,11) ]\n",
    "print(z)"
   ]
  },
  {
   "cell_type": "code",
   "execution_count": null,
   "metadata": {},
   "outputs": [],
   "source": [
    "z = []\n",
    "for i in range(1,5):\n",
    "    for j in range(1,5):\n",
    "        z.append(i*j)\n",
    "print(z)"
   ]
  },
  {
   "cell_type": "code",
   "execution_count": null,
   "metadata": {},
   "outputs": [],
   "source": [
    "z = [ i*j for i in range(1,5) for j in range(1,5) ]\n",
    "print(z)"
   ]
  },
  {
   "cell_type": "code",
   "execution_count": null,
   "metadata": {},
   "outputs": [],
   "source": [
    "z = []\n",
    "for i in range(1,11):\n",
    "    if i*i % 10 < 5 :\n",
    "        z.append(i*i)\n",
    "print(z)"
   ]
  },
  {
   "cell_type": "code",
   "execution_count": null,
   "metadata": {},
   "outputs": [],
   "source": [
    "z = [ i*i for i in range(1,11) if i*i % 10 < 5 ]\n",
    "print(z)"
   ]
  },
  {
   "cell_type": "markdown",
   "metadata": {},
   "source": [
    "### Kalkulatu zenbaki oso iteragarri batetako bikoiti kopurua"
   ]
  },
  {
   "cell_type": "code",
   "execution_count": null,
   "metadata": {},
   "outputs": [],
   "source": [
    "def bikoitiak(it):\n",
    "    k = 0\n",
    "    for i in it:\n",
    "        if i % 2 == 0:\n",
    "            k += 1\n",
    "    return k"
   ]
  },
  {
   "cell_type": "code",
   "execution_count": null,
   "metadata": {},
   "outputs": [],
   "source": [
    "z = [1,2,3,4,5,4,3,2,1]\n",
    "bikoitiak(z)"
   ]
  },
  {
   "cell_type": "code",
   "execution_count": null,
   "metadata": {},
   "outputs": [],
   "source": [
    "def bikoitiak(it):\n",
    "    return sum([ 1 for i in it if i % 2 == 0])"
   ]
  },
  {
   "cell_type": "code",
   "execution_count": null,
   "metadata": {},
   "outputs": [],
   "source": [
    "bikoitiak(z)"
   ]
  },
  {
   "cell_type": "code",
   "execution_count": null,
   "metadata": {},
   "outputs": [],
   "source": [
    "def bikoitiak(it):\n",
    "    k = 0\n",
    "    for i in it:\n",
    "        k += (1 if i % 2 == 0 else 0)\n",
    "    return k\n",
    "def bikoitiak(it):\n",
    "    return sum([ (1 if i % 2 == 0 else 0) for i in it])\n"
   ]
  },
  {
   "cell_type": "code",
   "execution_count": null,
   "metadata": {},
   "outputs": [],
   "source": [
    "bikoitiak(z)"
   ]
  },
  {
   "cell_type": "code",
   "execution_count": null,
   "metadata": {},
   "outputs": [],
   "source": [
    "def bikoitiak(it):\n",
    "    # iteragarri guztiek ez dute luzerarik\n",
    "    #return len(it) - sum([ i % 2 for i in it])\n",
    "    return sum([ 1-i%2 for i in it])"
   ]
  },
  {
   "cell_type": "code",
   "execution_count": null,
   "metadata": {},
   "outputs": [],
   "source": [
    "bikoitiak(z)"
   ]
  },
  {
   "cell_type": "code",
   "execution_count": null,
   "metadata": {},
   "outputs": [],
   "source": [
    "def bikoitiak(it):\n",
    "    return len([ i for i in it if i % 2 == 0])"
   ]
  },
  {
   "cell_type": "code",
   "execution_count": null,
   "metadata": {},
   "outputs": [],
   "source": [
    "bikoitiak(z)"
   ]
  },
  {
   "cell_type": "markdown",
   "metadata": {},
   "source": [
    "### Konprobatu zenbaki oso iteragarri batetako elementu guztiak bikoitiak ote diren"
   ]
  },
  {
   "cell_type": "code",
   "execution_count": null,
   "metadata": {},
   "outputs": [],
   "source": [
    "def guztiak_bikoitiak(it):\n",
    "    k = 0\n",
    "    for i in it:\n",
    "        if i%2==1 :\n",
    "            k += 1\n",
    "    return k==0"
   ]
  },
  {
   "cell_type": "code",
   "execution_count": null,
   "metadata": {},
   "outputs": [],
   "source": [
    "z1 = [2,4,6,4,8,5,8,10]\n",
    "z2 = [2,4,6,4,8,8,10]\n",
    "guztiak_bikoitiak(z1),guztiak_bikoitiak(z2)"
   ]
  },
  {
   "cell_type": "code",
   "execution_count": null,
   "metadata": {},
   "outputs": [],
   "source": [
    "def guztiak_bikoitiak(it):\n",
    "    bakoiti_kopurua = sum([ 1 for i in it if i%2 == 1])\n",
    "    return bakoiti_kopurua == 0"
   ]
  },
  {
   "cell_type": "code",
   "execution_count": null,
   "metadata": {},
   "outputs": [],
   "source": [
    "guztiak_bikoitiak(z1),guztiak_bikoitiak(z2)"
   ]
  },
  {
   "cell_type": "code",
   "execution_count": null,
   "metadata": {},
   "outputs": [],
   "source": [
    "def guztiak_bikoitiak(it):\n",
    "    for i in it:\n",
    "        if i%2==1 :\n",
    "            return False\n",
    "    return True"
   ]
  },
  {
   "cell_type": "code",
   "execution_count": null,
   "metadata": {},
   "outputs": [],
   "source": [
    "guztiak_bikoitiak(z1),guztiak_bikoitiak(z2)"
   ]
  },
  {
   "cell_type": "code",
   "execution_count": null,
   "metadata": {},
   "outputs": [],
   "source": [
    "guztiak_bikoitiak(range(10**1000))"
   ]
  },
  {
   "cell_type": "code",
   "execution_count": null,
   "metadata": {},
   "outputs": [],
   "source": [
    "help(all)"
   ]
  },
  {
   "cell_type": "code",
   "execution_count": null,
   "metadata": {},
   "outputs": [],
   "source": [
    "def guztiak_bikoitiak(it):\n",
    "    return all([i%2==0 for i in it])"
   ]
  },
  {
   "cell_type": "code",
   "execution_count": null,
   "metadata": {},
   "outputs": [],
   "source": [
    "guztiak_bikoitiak(z1),guztiak_bikoitiak(z2)"
   ]
  },
  {
   "cell_type": "code",
   "execution_count": null,
   "metadata": {},
   "outputs": [],
   "source": [
    "# Kontuz! all([...]) sententziak zerrenda sortuko du lehenengo,\n",
    "# eta zerrenda hori oso luzea izan liteke\n",
    "#guztiak_bikoitiak(range(10**1000))"
   ]
  },
  {
   "cell_type": "code",
   "execution_count": null,
   "metadata": {},
   "outputs": [],
   "source": []
  }
 ],
 "metadata": {
  "kernelspec": {
   "display_name": "Python 3",
   "language": "python",
   "name": "python3"
  },
  "language_info": {
   "codemirror_mode": {
    "name": "ipython",
    "version": 3
   },
   "file_extension": ".py",
   "mimetype": "text/x-python",
   "name": "python",
   "nbconvert_exporter": "python",
   "pygments_lexer": "ipython3",
   "version": "3.7.6"
  }
 },
 "nbformat": 4,
 "nbformat_minor": 4
}
