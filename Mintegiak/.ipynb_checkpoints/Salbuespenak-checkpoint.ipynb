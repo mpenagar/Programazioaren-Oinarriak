{
 "cells": [
  {
   "cell_type": "markdown",
   "metadata": {},
   "source": [
    "# try ... except\n",
    "\n",
    "```python\n",
    "try:\n",
    "    kodea\n",
    "except ErroreMota1 as aldagaia:\n",
    "    kudeatzeko kodea\n",
    "except ErroreMota2:\n",
    "    kudeatzeko kodea\n",
    "except (ErroreMota3, ErroreMota4):\n",
    "    kudeatzeko kodea\n",
    "except:\n",
    "    beste erroreak kudeatzeko kodea\n",
    "else:\n",
    "    erroreak ez daudenean exekutatzen den kodea\n",
    "finally:\n",
    "    beti bukaeran exekutatzen den kodea\n",
    "```"
   ]
  },
  {
   "cell_type": "code",
   "execution_count": 6,
   "metadata": {},
   "outputs": [
    {
     "name": "stdout",
     "output_type": "stream",
     "text": [
      "Sartu zbk. oso bat: 324nqw\n",
      "Osoa esan dut\n"
     ]
    }
   ],
   "source": [
    "try :\n",
    "    a = int(input('Sartu zbk. oso bat: '))\n",
    "    print('Zenbaki horren karratua',a*a,'da')\n",
    "except ValueError:\n",
    "    print('Osoa esan dut')"
   ]
  },
  {
   "cell_type": "code",
   "execution_count": 7,
   "metadata": {},
   "outputs": [],
   "source": [
    "def get(hiztegia,key,default=None):\n",
    "    if key in hiztegia :\n",
    "        return hiztegia[key]\n",
    "    else :\n",
    "        return default"
   ]
  },
  {
   "cell_type": "code",
   "execution_count": 9,
   "metadata": {},
   "outputs": [
    {
     "name": "stdout",
     "output_type": "stream",
     "text": [
      "bi\n",
      "None\n",
      "ez dago\n"
     ]
    }
   ],
   "source": [
    "h = {1:\"bat\" , 2:\"bi\"}\n",
    "print(h.get(2))\n",
    "print(h.get(3))\n",
    "print(h.get(3,\"ez dago\"))"
   ]
  },
  {
   "cell_type": "code",
   "execution_count": 10,
   "metadata": {},
   "outputs": [
    {
     "name": "stdout",
     "output_type": "stream",
     "text": [
      "bi\n",
      "None\n",
      "ez dago\n"
     ]
    }
   ],
   "source": [
    "print(get(h,2))\n",
    "print(get(h,3))\n",
    "print(get(h,3,\"ez dago\"))"
   ]
  },
  {
   "cell_type": "code",
   "execution_count": 13,
   "metadata": {},
   "outputs": [],
   "source": [
    "def get(hiztegia,key,default=None):\n",
    "    try :\n",
    "        return hiztegia[key]\n",
    "    except KeyError :\n",
    "        return default"
   ]
  },
  {
   "cell_type": "code",
   "execution_count": 14,
   "metadata": {},
   "outputs": [
    {
     "name": "stdout",
     "output_type": "stream",
     "text": [
      "bi\n",
      "None\n",
      "ez dago\n"
     ]
    }
   ],
   "source": [
    "print(get(h,2))\n",
    "print(get(h,3))\n",
    "print(get(h,3,\"ez dago\"))"
   ]
  },
  {
   "cell_type": "code",
   "execution_count": 19,
   "metadata": {},
   "outputs": [],
   "source": [
    "def tenperaturak(s):\n",
    "    z = []\n",
    "    for w in s.split():\n",
    "        try :\n",
    "            z.append(float(w))\n",
    "        except ValueError as e:\n",
    "            print(e)\n",
    "            pass\n",
    "    return z"
   ]
  },
  {
   "cell_type": "code",
   "execution_count": 20,
   "metadata": {},
   "outputs": [
    {
     "name": "stdout",
     "output_type": "stream",
     "text": [
      "hemendik!\n",
      "hemendik!\n",
      "hemendik!\n",
      "hemendik!\n",
      "hemendik!\n",
      "hemendik!\n",
      "hemendik!\n",
      "hemendik!\n"
     ]
    },
    {
     "data": {
      "text/plain": [
       "[24.5, 24.3, 26.8, 27.5]"
      ]
     },
     "execution_count": 20,
     "metadata": {},
     "output_type": "execute_result"
    }
   ],
   "source": [
    "txt = \"Esperimentua t0: 24.5 hasieratzea t1: 24.3 t2: 26.8 t3: 27.5 etenaldia t4:\"\n",
    "tenperaturak(txt)"
   ]
  },
  {
   "cell_type": "code",
   "execution_count": 22,
   "metadata": {},
   "outputs": [
    {
     "name": "stdout",
     "output_type": "stream",
     "text": [
      "Sartu zbk. oso bat: vdsfg\n",
      "Osoa esan dut\n",
      "kaixo\n"
     ]
    }
   ],
   "source": [
    "try :\n",
    "    a = int(input('Sartu zbk. oso bat: '))\n",
    "    print('Zenbaki horren karratua',a*a,'da')\n",
    "except ValueError:\n",
    "    print('Osoa esan dut')\n",
    "finally :\n",
    "    print('kaixo')"
   ]
  },
  {
   "cell_type": "code",
   "execution_count": 23,
   "metadata": {},
   "outputs": [
    {
     "name": "stdout",
     "output_type": "stream",
     "text": [
      "Sartu zbk. oso bat: dfga\n",
      "kaixo\n"
     ]
    },
    {
     "ename": "ValueError",
     "evalue": "invalid literal for int() with base 10: 'dfga'",
     "output_type": "error",
     "traceback": [
      "\u001b[0;31m---------------------------------------------------------------------------\u001b[0m",
      "\u001b[0;31mValueError\u001b[0m                                Traceback (most recent call last)",
      "\u001b[0;32m<ipython-input-23-e593fe575341>\u001b[0m in \u001b[0;36m<module>\u001b[0;34m\u001b[0m\n\u001b[1;32m      1\u001b[0m \u001b[0;32mtry\u001b[0m \u001b[0;34m:\u001b[0m\u001b[0;34m\u001b[0m\u001b[0;34m\u001b[0m\u001b[0m\n\u001b[0;32m----> 2\u001b[0;31m     \u001b[0ma\u001b[0m \u001b[0;34m=\u001b[0m \u001b[0mint\u001b[0m\u001b[0;34m(\u001b[0m\u001b[0minput\u001b[0m\u001b[0;34m(\u001b[0m\u001b[0;34m'Sartu zbk. oso bat: '\u001b[0m\u001b[0;34m)\u001b[0m\u001b[0;34m)\u001b[0m\u001b[0;34m\u001b[0m\u001b[0;34m\u001b[0m\u001b[0m\n\u001b[0m\u001b[1;32m      3\u001b[0m     \u001b[0mprint\u001b[0m\u001b[0;34m(\u001b[0m\u001b[0;34m'Zenbaki horren karratua'\u001b[0m\u001b[0;34m,\u001b[0m\u001b[0ma\u001b[0m\u001b[0;34m*\u001b[0m\u001b[0ma\u001b[0m\u001b[0;34m,\u001b[0m\u001b[0;34m'da'\u001b[0m\u001b[0;34m)\u001b[0m\u001b[0;34m\u001b[0m\u001b[0;34m\u001b[0m\u001b[0m\n\u001b[1;32m      4\u001b[0m \u001b[0;32mexcept\u001b[0m \u001b[0mKeyError\u001b[0m\u001b[0;34m:\u001b[0m\u001b[0;34m\u001b[0m\u001b[0;34m\u001b[0m\u001b[0m\n\u001b[1;32m      5\u001b[0m     \u001b[0mprint\u001b[0m\u001b[0;34m(\u001b[0m\u001b[0;34m'Osoa esan dut'\u001b[0m\u001b[0;34m)\u001b[0m\u001b[0;34m\u001b[0m\u001b[0;34m\u001b[0m\u001b[0m\n",
      "\u001b[0;31mValueError\u001b[0m: invalid literal for int() with base 10: 'dfga'"
     ]
    }
   ],
   "source": [
    "try :\n",
    "    a = int(input('Sartu zbk. oso bat: '))\n",
    "    print('Zenbaki horren karratua',a*a,'da')\n",
    "except KeyError:\n",
    "    print('Osoa esan dut')\n",
    "finally :\n",
    "    print('kaixo')"
   ]
  },
  {
   "cell_type": "code",
   "execution_count": null,
   "metadata": {},
   "outputs": [],
   "source": []
  }
 ],
 "metadata": {
  "kernelspec": {
   "display_name": "Python 3",
   "language": "python",
   "name": "python3"
  },
  "language_info": {
   "codemirror_mode": {
    "name": "ipython",
    "version": 3
   },
   "file_extension": ".py",
   "mimetype": "text/x-python",
   "name": "python",
   "nbconvert_exporter": "python",
   "pygments_lexer": "ipython3",
   "version": "3.8.2"
  }
 },
 "nbformat": 4,
 "nbformat_minor": 4
}
