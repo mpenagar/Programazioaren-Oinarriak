{
 "cells": [
  {
   "cell_type": "markdown",
   "metadata": {},
   "source": [
    "# try ... except\n",
    "\n",
    "```python\n",
    "try:\n",
    "    kodea\n",
    "except ErroreMota1 as aldagaia:\n",
    "    kudeatzeko kodea\n",
    "except ErroreMota2:\n",
    "    kudeatzeko kodea\n",
    "except (ErroreMota3, ErroreMota4):\n",
    "    kudeatzeko kodea\n",
    "except:\n",
    "    beste erroreak kudeatzeko kodea\n",
    "else:\n",
    "    erroreak ez daudenean exekutatzen den kodea\n",
    "finally:\n",
    "    beti bukaeran exekutatzen den kodea\n",
    "```\n",
    "\n",
    "[Salbuespenen ierarkia](https://docs.python.org/3/library/exceptions.html#exception-hierarchy)"
   ]
  },
  {
   "cell_type": "markdown",
   "metadata": {},
   "source": [
    "## Salbuespenak seinaleztapen mekanismo gisa\n",
    "\n",
    "Salbuespenak ez ditugu zertan _error_ gisa soilik ulertu behar. Seinale gisa ere erabil ditzakegu kodea sinplifikatzeko"
   ]
  },
  {
   "cell_type": "markdown",
   "metadata": {},
   "source": [
    "### Ariketa\n",
    "Demagun teklatutik jasotako zenbaki oso baten karratua kalkulatu nahi dugula. Programak errorerik sor ez dezan, erabiltzaileak zenbakia gaizki idatz dezakeela suposatuko dugu:"
   ]
  },
  {
   "cell_type": "code",
   "execution_count": 3,
   "metadata": {},
   "outputs": [
    {
     "name": "stdout",
     "output_type": "stream",
     "text": [
      "Idatzi zenbaki oso bat: -123\n",
      "-123 ez da zenbaki oso bat. Idatzi zenbaki oso bat: 123\n",
      "123-ren karratua 15129 da\n"
     ]
    }
   ],
   "source": [
    "s = input('Idatzi zenbaki oso bat: ')\n",
    "while not s.isnumeric() :\n",
    "    s = input(f'{s} ez da zenbaki oso bat. Idatzi zenbaki oso bat: ')\n",
    "i = int(s)\n",
    "print(f'{i}-ren karratua {i*i} da')"
   ]
  },
  {
   "cell_type": "markdown",
   "metadata": {},
   "source": [
    "Baina `str.isnumeric()` ez da guztiz aproposa. Ez digu esando `s` zenbaki osoa den, soilik bere karaktere guztiak digitoak ote diren.\n",
    "\n",
    "$\\to$ zenbaki **negatiboekin** ez du nahiko genukeen konportamoldea..."
   ]
  },
  {
   "cell_type": "code",
   "execution_count": 2,
   "metadata": {},
   "outputs": [
    {
     "data": {
      "text/plain": [
       "False"
      ]
     },
     "execution_count": 2,
     "metadata": {},
     "output_type": "execute_result"
    }
   ],
   "source": [
    "\"-123\".isnumeric()"
   ]
  },
  {
   "cell_type": "markdown",
   "metadata": {},
   "source": [
    "`int()` funtzioak sortzen duen salbuespena (`ValueError`) seinale bezala erabil dezakegu:"
   ]
  },
  {
   "cell_type": "code",
   "execution_count": 4,
   "metadata": {},
   "outputs": [
    {
     "name": "stdout",
     "output_type": "stream",
     "text": [
      "Idatzi zenbaki oso bat: 23523.235235\n",
      "Zerbait egin zenbakia zuzena EZ denean\n"
     ]
    }
   ],
   "source": [
    "try :\n",
    "    a = int(input('Idatzi zenbaki oso bat: '))\n",
    "except ValueError:\n",
    "    print('Zerbait egin zenbakia zuzena EZ denean')\n",
    "else :\n",
    "    print('Zerbait egin zenbakia zuzena denean')"
   ]
  },
  {
   "cell_type": "code",
   "execution_count": 5,
   "metadata": {},
   "outputs": [
    {
     "name": "stdout",
     "output_type": "stream",
     "text": [
      "Idatzi zenbaki oso bat: 2354.2352\n",
      "2354.2352 ez da zenbaki oso bat. Idatzi zenbaki oso bat: fgadsf\n",
      "fgadsf ez da zenbaki oso bat. Idatzi zenbaki oso bat: ewrdf sdfgsd\n",
      "ewrdf sdfgsd ez da zenbaki oso bat. Idatzi zenbaki oso bat: -123\n",
      "-123-ren karratua 15129 da\n"
     ]
    }
   ],
   "source": [
    "s = input('Idatzi zenbaki oso bat: ')\n",
    "while True :\n",
    "    try :\n",
    "        i = int(s)\n",
    "    except ValueError:\n",
    "        s = input(f'{s} ez da zenbaki oso bat. Idatzi zenbaki oso bat: ')\n",
    "    else :\n",
    "        break\n",
    "        \n",
    "print(f'{i}-ren karratua {i*i} da')"
   ]
  },
  {
   "cell_type": "code",
   "execution_count": 6,
   "metadata": {},
   "outputs": [
    {
     "name": "stdout",
     "output_type": "stream",
     "text": [
      "Idatzi zenbaki oso bat: 3214.341\n",
      "3214.341 ez da zenbaki oso bat. Idatzi zenbaki oso bat: fgasdr5tew\n",
      "fgasdr5tew ez da zenbaki oso bat. Idatzi zenbaki oso bat: 123\n",
      "123-ren karratua 15129 da\n"
     ]
    }
   ],
   "source": [
    "while True :\n",
    "    s = input('Idatzi zenbaki oso bat: ')\n",
    "    try :\n",
    "        i = int(s)\n",
    "    except ValueError:\n",
    "        print(f'{s} ez da zenbaki oso bat. ',end='')\n",
    "    else :\n",
    "        break\n",
    "        \n",
    "print(f'{i}-ren karratua {i*i} da')"
   ]
  },
  {
   "cell_type": "markdown",
   "metadata": {},
   "source": [
    "### Ariketa\n",
    "Sortu hiztegiek duten `dict.get(key,value=None)` moduko `get(hiztegia,key,value=None)`funtzioa bat:"
   ]
  },
  {
   "cell_type": "code",
   "execution_count": null,
   "metadata": {},
   "outputs": [],
   "source": [
    "def get(hiztegia,key,default=None):\n",
    "    if key in hiztegia :\n",
    "        return hiztegia[key]\n",
    "    else :\n",
    "        return default"
   ]
  },
  {
   "cell_type": "markdown",
   "metadata": {},
   "source": [
    "#### `_ if _ else _` eragile ternarioa (*elvis* eragilea)"
   ]
  },
  {
   "cell_type": "code",
   "execution_count": 8,
   "metadata": {},
   "outputs": [
    {
     "data": {
      "text/plain": [
       "'kaixo'"
      ]
     },
     "execution_count": 8,
     "metadata": {},
     "output_type": "execute_result"
    }
   ],
   "source": [
    "\"kaixo\" if 2>1 else \"agur\""
   ]
  },
  {
   "cell_type": "markdown",
   "metadata": {},
   "source": [
    "#### Elvis eragilearen onurak...\n",
    "\n",
    "Demagun 3 argumentu dituen funtzio bat dugula:\n",
    "\n",
    "```python\n",
    "f(_,_,_)\n",
    "```\n",
    "\n",
    "Hau egin dezakegu:\n",
    "\n",
    "```python\n",
    "f(x1 if b1 else y1, x2 if b2 else y2, x3 if b3 else y3)\n",
    "```\n",
    "\n",
    "Saia zaitez gauza bera egiten *elvis* eragilerik gabe..."
   ]
  },
  {
   "cell_type": "markdown",
   "metadata": {},
   "source": [
    "#### Ariketarekin jarraituz...\n",
    "\n",
    "```python\n",
    "if baldintza :\n",
    "    return espr1\n",
    "else :\n",
    "    return espr2\n",
    "```\n",
    "\n",
    "kodea beste era honetan adieraz dezakegu:\n",
    "\n",
    "```python\n",
    "return espr1 if baldintza else espr2\n",
    "```"
   ]
  },
  {
   "cell_type": "code",
   "execution_count": 9,
   "metadata": {},
   "outputs": [],
   "source": [
    "def get(hiztegia,key,default=None):\n",
    "    return hiztegia[key] if key in hiztegia else default"
   ]
  },
  {
   "cell_type": "code",
   "execution_count": 10,
   "metadata": {},
   "outputs": [
    {
     "name": "stdout",
     "output_type": "stream",
     "text": [
      "bi\n",
      "None\n",
      "ez dago\n"
     ]
    }
   ],
   "source": [
    "h = {1:\"bat\" , 2:\"bi\"}\n",
    "print(h.get(2))\n",
    "print(h.get(3))\n",
    "print(h.get(3,\"ez dago\"))"
   ]
  },
  {
   "cell_type": "code",
   "execution_count": 11,
   "metadata": {},
   "outputs": [
    {
     "name": "stdout",
     "output_type": "stream",
     "text": [
      "bi\n",
      "None\n",
      "ez dago\n"
     ]
    }
   ],
   "source": [
    "print(get(h,2))\n",
    "print(get(h,3))\n",
    "print(get(h,3,\"ez dago\"))"
   ]
  },
  {
   "cell_type": "markdown",
   "metadata": {},
   "source": [
    "Indexazio errorea (`KeyError`) seinale bezala erabil dezakegu:"
   ]
  },
  {
   "cell_type": "code",
   "execution_count": 12,
   "metadata": {},
   "outputs": [],
   "source": [
    "def get(hiztegia,key,default=None):\n",
    "    try :\n",
    "        return hiztegia[key]\n",
    "    except KeyError :\n",
    "        return default"
   ]
  },
  {
   "cell_type": "code",
   "execution_count": 13,
   "metadata": {},
   "outputs": [
    {
     "name": "stdout",
     "output_type": "stream",
     "text": [
      "bi\n",
      "None\n",
      "ez dago\n"
     ]
    }
   ],
   "source": [
    "print(get(h,2))\n",
    "print(get(h,3))\n",
    "print(get(h,3,\"ez dago\"))"
   ]
  },
  {
   "cell_type": "markdown",
   "metadata": {},
   "source": [
    "### Ariketa\n",
    "Demagun karaktere kate batetan zenbaki errealak ager daitezkeela, beti hutsunez bananduak:\n",
    "\n",
    "`Esperimentua t0: 24.5 hasieratzea t1: 24.3 t2: 26.8 t3: 27.5 etenaldia t4: 1.234e6 12.34e-20`\n",
    "\n",
    "eta zenbaki horien zerrenda bueltatuko duen funtzioa sortu nahi dugula:\n"
   ]
  },
  {
   "cell_type": "code",
   "execution_count": 18,
   "metadata": {},
   "outputs": [],
   "source": [
    "def tenperaturak(s):\n",
    "    z = []\n",
    "    for w in s.split():\n",
    "        try :\n",
    "            z.append(float(w))\n",
    "        #except ValueError as e:\n",
    "        #    print(e)\n",
    "        except ValueError:\n",
    "            pass\n",
    "    return z"
   ]
  },
  {
   "cell_type": "code",
   "execution_count": 19,
   "metadata": {},
   "outputs": [
    {
     "data": {
      "text/plain": [
       "[24.5, 24.3, 26.8, 27.5, 1234000.0, 1.234e-19]"
      ]
     },
     "execution_count": 19,
     "metadata": {},
     "output_type": "execute_result"
    }
   ],
   "source": [
    "txt = \"Esperimentua t0: 24.5 hasieratzea t1: 24.3 t2: 26.8 t3: 27.5 etenaldia t4: 1.234e6 12.34e-20\"\n",
    "tenperaturak(txt)"
   ]
  },
  {
   "cell_type": "markdown",
   "metadata": {},
   "source": [
    "## Salbuespenak sortzen\n",
    "\n",
    "Gure funtziek, emaitzarik lortu ezin dutenean, salbuespen bat sortu beharko lukete **BETI**.\n",
    "\n",
    "* Argumenturen baten balioa okerra delako $\\to$ `ValueError`\n",
    "* Argumenturen baten datu mota okerra delako $\\to$ `TypeError`\n",
    "* ...\n"
   ]
  },
  {
   "cell_type": "code",
   "execution_count": 27,
   "metadata": {},
   "outputs": [],
   "source": [
    "#float('fgsdfg')\n",
    "#{}[4]\n",
    "#float({})"
   ]
  },
  {
   "cell_type": "markdown",
   "metadata": {},
   "source": [
    "Salbuespen bat sortzeko:\n",
    "\n",
    "```python\n",
    "raise Salbuespen_Objektua\n",
    "```\n",
    "\n",
    "Normalean,\n",
    "\n",
    "```python\n",
    "raise Salbuespen_Mota(\"mezua\")\n",
    "```"
   ]
  },
  {
   "cell_type": "code",
   "execution_count": 27,
   "metadata": {},
   "outputs": [
    {
     "ename": "ValueError",
     "evalue": "zerbait gaizki dago...",
     "output_type": "error",
     "traceback": [
      "\u001b[0;31m---------------------------------------------------------------------------\u001b[0m",
      "\u001b[0;31mValueError\u001b[0m                                Traceback (most recent call last)",
      "\u001b[0;32m<ipython-input-27-7ebdb5da4567>\u001b[0m in \u001b[0;36m<module>\u001b[0;34m\u001b[0m\n\u001b[0;32m----> 1\u001b[0;31m \u001b[0;32mraise\u001b[0m \u001b[0mValueError\u001b[0m\u001b[0;34m(\u001b[0m\u001b[0;34m\"zerbait gaizki dago...\"\u001b[0m\u001b[0;34m)\u001b[0m\u001b[0;34m\u001b[0m\u001b[0;34m\u001b[0m\u001b[0m\n\u001b[0m",
      "\u001b[0;31mValueError\u001b[0m: zerbait gaizki dago..."
     ]
    }
   ],
   "source": [
    "raise ValueError(\"zerbait gaizki dago...\")"
   ]
  }
 ],
 "metadata": {
  "kernelspec": {
   "display_name": "Python 3",
   "language": "python",
   "name": "python3"
  },
  "language_info": {
   "codemirror_mode": {
    "name": "ipython",
    "version": 3
   },
   "file_extension": ".py",
   "mimetype": "text/x-python",
   "name": "python",
   "nbconvert_exporter": "python",
   "pygments_lexer": "ipython3",
   "version": "3.7.6"
  }
 },
 "nbformat": 4,
 "nbformat_minor": 4
}
