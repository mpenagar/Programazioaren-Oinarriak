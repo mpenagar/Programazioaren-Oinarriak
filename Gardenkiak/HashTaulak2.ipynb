{
 "cells": [
  {
   "cell_type": "markdown",
   "metadata": {
    "slideshow": {
     "slide_type": "slide"
    }
   },
   "source": [
    "# Hash Taulak ( _Associative array_ , _Elkartze Arrayak_ )\n",
    "\n",
    "   * Elementuak **taula** (zerrenda) batetan gordetzen dira\n",
    "      * $Taularen \\; tamaina \\ge elementu \\; kopurua$\n",
    "   * Elementuaren arabera, bakoitzari posizio bat dagokio\n",
    "      * Ez dago elementu errepikaturik $\\to$ multzo bat\n",
    "      * Hash funtzioa $\\to$ elementu bakoitzari dagokion posizioa\n",
    "\n",
    "<center><img src=\"../img/HashTable2.png\" alt=\"Hash Table\" style=\"height: 285px;\"/></center>"
   ]
  },
  {
   "cell_type": "markdown",
   "metadata": {
    "slideshow": {
     "slide_type": "slide"
    }
   },
   "source": [
    "## Hash Funtzioa\n",
    "\n",
    "   * Edozein informazioren gain aplikatzean, tamaina finkoko balio bat (zenbaki bat) lortu.\n",
    "   * Informazio baten _sinadura_ (laburpen) digitala.\n",
    "   * Propietateak:\n",
    "      * Hash balioen banaketa uniformea\n",
    "      * Berdinak diren bi objektuen hash balioak berdinak dira\n",
    "         * Kontrakoak ez du zertan egia izan behar. \n",
    "   * Adibide bat:\n",
    "        * [SHA256:](https://andersbrownworth.com/blockchain/hash)  _informazioa_ &rarr; 256 bit"
   ]
  },
  {
   "cell_type": "markdown",
   "metadata": {
    "slideshow": {
     "slide_type": "slide"
    }
   },
   "source": [
    "## Hash Taulen inplementazioa\n",
    "\n",
    "   * $N$ tamainako Zerrenda bat erabili.\n",
    "   * Okupazio faktorea (*load factor*):  $LF = {n_{stored}}/{N}$\n",
    "   * $e$ elementu bati taulan dagokion posizioa: $i \\; = \\; hash(e)\\; \\% \\; N$\n",
    "   * *Talkak* edo *kolisioak* gerta daitezke\n",
    "      * **Kolisioa**: Bi $e_1 , e_2$ elementu ezberdinei $i_1 = i_2$ posizio berdina esleitzea\n",
    "      * $hash(e_1) = hash(e_2)$ balio berdina izan dezakete.\n",
    "      * $hash(e_1) \\ne hash(e_2)$ izanda ere,  $(hash(e_1)\\, \\% \\, N) = (hash(e_2)\\, \\% \\, N)$ gerta daiteke."
   ]
  },
  {
   "cell_type": "code",
   "execution_count": 45,
   "metadata": {
    "slideshow": {
     "slide_type": "slide"
    }
   },
   "outputs": [
    {
     "name": "stdout",
     "output_type": "stream",
     "text": [
      "[None, None, None, None, None, None, None, None, None, None]\n",
      "Ane --> 3\n",
      "[None, None, None, 'Ane', None, None, None, None, None, None]\n",
      "Jon --> 0\n",
      "['Jon', None, None, 'Ane', None, None, None, None, None, None]\n",
      "Miren --> 4\n",
      "['Jon', None, None, 'Ane', 'Miren', None, None, None, None, None]\n",
      "Asier --> 7\n",
      "['Jon', None, None, 'Ane', 'Miren', None, None, 'Asier', None, None]\n",
      "Nora --> 2\n",
      "['Jon', None, 'Nora', 'Ane', 'Miren', None, None, 'Asier', None, None]\n"
     ]
    }
   ],
   "source": [
    "N=10\n",
    "T = [None]*N\n",
    "print(T)\n",
    "for e in (\"Ane\",\"Jon\",\"Miren\",\"Asier\",\"Nora\"):\n",
    "    i = hash(e)%N\n",
    "    print(f'{e} --> {i}')\n",
    "    T[i] = e\n",
    "    print(T)"
   ]
  },
  {
   "cell_type": "code",
   "execution_count": 59,
   "metadata": {
    "slideshow": {
     "slide_type": "slide"
    }
   },
   "outputs": [
    {
     "name": "stdout",
     "output_type": "stream",
     "text": [
      "Ane --> 3\n",
      "[None, None, None, 'Ane', None, None, None, None, None, None]\n",
      "Jon --> 0\n",
      "['Jon', None, None, 'Ane', None, None, None, None, None, None]\n",
      "Miren --> 4\n",
      "['Jon', None, None, 'Ane', 'Miren', None, None, None, None, None]\n",
      "Asier --> 7\n",
      "['Jon', None, None, 'Ane', 'Miren', None, None, 'Asier', None, None]\n",
      "Nora --> 2\n",
      "['Jon', None, 'Nora', 'Ane', 'Miren', None, None, 'Asier', None, None]\n",
      "Aiala --> 5\n",
      "['Jon', None, 'Nora', 'Ane', 'Miren', 'Aiala', None, 'Asier', None, None]\n",
      "Eneritz --> 3\n",
      "Kolisio bat dago!!!!\n"
     ]
    }
   ],
   "source": [
    "N=10\n",
    "T = [None]*N\n",
    "for e in (\"Ane\",\"Jon\",\"Miren\",\"Asier\",\"Nora\",\"Aiala\",\"Eneritz\",\"Igor\"):\n",
    "    i = hash(e)%N\n",
    "    print(f'{e} --> {i}')\n",
    "    if T[i] != None :\n",
    "        print(\"Kolisio bat dago!!!!\")\n",
    "        break\n",
    "    T[i] = e\n",
    "    print(T)"
   ]
  },
  {
   "cell_type": "code",
   "execution_count": 53,
   "metadata": {
    "slideshow": {
     "slide_type": "fragment"
    }
   },
   "outputs": [
    {
     "name": "stdout",
     "output_type": "stream",
     "text": [
      "Ane -4629060251877988377 3\n",
      "Eneritz 2050524501275771253 3\n"
     ]
    }
   ],
   "source": [
    "print(\"Ane\", hash(\"Ane\"), hash(\"Ane\")%N)\n",
    "print(\"Eneritz\", hash(\"Eneritz\"), hash(\"Eneritz\")%N)"
   ]
  },
  {
   "cell_type": "markdown",
   "metadata": {
    "slideshow": {
     "slide_type": "slide"
    }
   },
   "source": [
    "### Kolisioen ebazpena I : Taula berdimentsionatu\n",
    "\n",
    "* Kolisio bat ematen den bakoitzean, taularen tamaina handitu dezakegu.\n",
    "* Tamaina handitzean, talka berri baten probabilitatea txikiagoa da.\n",
    "   * Baina... zenbatekoa da probabilitate hori?\n",
    "   * 2450 gako baditugu 1.000.000 tamaina duen taula batetan (400-etik gelaxka bakarra okupatua), guztiz uniformea den hash funtzio bat erabilita ere, talka bat gertatzeko probabilitatea 95% da\n",
    "   * _Birthday Problem_ edo [Urtebetetzeen Ebazkizuna](https://eu.wikipedia.org/wiki/Urtebetetzeen_ebazkizuna)\n",
    "* $LF \\; \\ll \\; 1$\n",
    "* Memoriaren erabilpen **oso kaxkarra**"
   ]
  },
  {
   "cell_type": "markdown",
   "metadata": {
    "slideshow": {
     "slide_type": "slide"
    }
   },
   "source": [
    "### Kolisioen ebazpena II : Helbideratze Irekia (*Open addressing*)\n",
    "\n",
    "* $e$ elementu bati taulan dagokion posizioa ez da $i \\; = \\; hash(e)\\; \\% \\; N$ izango\n",
    "* $i$ posiziotik abiatuko gara\n",
    "    * elementua topatu arte\n",
    "    * gelaxka huts bat topatu arte\n",
    "\n",
    "<center><img src=\"../img/HashTable_OA2.png\" alt=\"Hash Table - Open addressing\" style=\"height: 285px;\"/></center>\n"
   ]
  },
  {
   "cell_type": "code",
   "execution_count": 58,
   "metadata": {},
   "outputs": [
    {
     "name": "stdout",
     "output_type": "stream",
     "text": [
      "Ane --> 3\n",
      "[None, None, None, 'Ane', None, None, None, None, None, None]\n",
      "Jon --> 0\n",
      "['Jon', None, None, 'Ane', None, None, None, None, None, None]\n",
      "Miren --> 4\n",
      "['Jon', None, None, 'Ane', 'Miren', None, None, None, None, None]\n",
      "Asier --> 7\n",
      "['Jon', None, None, 'Ane', 'Miren', None, None, 'Asier', None, None]\n",
      "Nora --> 2\n",
      "['Jon', None, 'Nora', 'Ane', 'Miren', None, None, 'Asier', None, None]\n",
      "Aiala --> 5\n",
      "['Jon', None, 'Nora', 'Ane', 'Miren', 'Aiala', None, 'Asier', None, None]\n",
      "Eneritz --> 3\n",
      "Eneritz --> 4\n",
      "Eneritz --> 5\n",
      "Eneritz --> 6\n",
      "['Jon', None, 'Nora', 'Ane', 'Miren', 'Aiala', 'Eneritz', 'Asier', None, None]\n",
      "Igor --> 5\n",
      "Igor --> 6\n",
      "Igor --> 7\n",
      "Igor --> 8\n",
      "['Jon', None, 'Nora', 'Ane', 'Miren', 'Aiala', 'Eneritz', 'Asier', 'Igor', None]\n"
     ]
    }
   ],
   "source": [
    "N=10\n",
    "T = [None]*N\n",
    "for e in (\"Ane\",\"Jon\",\"Miren\",\"Asier\",\"Nora\",\"Aiala\",\"Eneritz\",\"Igor\"):\n",
    "    i = hash(e)%N\n",
    "    print(f'{e} --> {i}')\n",
    "    while T[i] != None :\n",
    "        i = (i+1)%N\n",
    "        print(f'{e} --> {i}')\n",
    "    T[i] = e\n",
    "    print(T)"
   ]
  },
  {
   "cell_type": "markdown",
   "metadata": {
    "slideshow": {
     "slide_type": "slide"
    }
   },
   "source": [
    "**Helbideratze Irekia**-ren ezaugarriak:\n",
    "\n",
    "* Hash balioen banaketa uniformeak garrantzi handia du\n",
    "* $LF \\; <= \\; 1$\n",
    "* $LF \\; > 0.7$ &rarr; **errendimendu eskasa**  &rarr; Taula berdimentsionatu\n",
    "\n",
    "<center><img src=\"../img/Hash_table_average_insertion_time.png\" alt=\"Hash Table - Average insertion time\" style=\"width: 400px;\"/></center>\n",
    "\n"
   ]
  },
  {
   "cell_type": "markdown",
   "metadata": {
    "slideshow": {
     "slide_type": "slide"
    }
   },
   "source": [
    "### Kolisioen ebazpena III : Kateatze Banatua (*Separate Chaining*)\n",
    "\n",
    "* $e$ elementu bati taulako $i \\; = \\; hash(e)\\; \\% \\; N$ posizioko **zerrenda** dagokio \n",
    "\n",
    "<center><img src=\"../img/HashTable_CH2.png\" alt=\"Hash Table - Separate Chaining\" style=\"height: 285px;\"/></center>\n"
   ]
  },
  {
   "cell_type": "code",
   "execution_count": 60,
   "metadata": {
    "slideshow": {
     "slide_type": "slide"
    }
   },
   "outputs": [
    {
     "name": "stdout",
     "output_type": "stream",
     "text": [
      "[[], [], []]\n",
      "Ane --> 0\n",
      "[['Ane'], [], []]\n",
      "Jon --> 2\n",
      "[['Ane'], [], ['Jon']]\n",
      "Miren --> 2\n",
      "[['Ane'], [], ['Jon', 'Miren']]\n",
      "Asier --> 0\n",
      "[['Ane', 'Asier'], [], ['Jon', 'Miren']]\n",
      "Nora --> 0\n",
      "[['Ane', 'Asier', 'Nora'], [], ['Jon', 'Miren']]\n",
      "Aiala --> 0\n",
      "[['Ane', 'Asier', 'Nora', 'Aiala'], [], ['Jon', 'Miren']]\n",
      "Eneritz --> 0\n",
      "[['Ane', 'Asier', 'Nora', 'Aiala', 'Eneritz'], [], ['Jon', 'Miren']]\n",
      "Igor --> 0\n",
      "[['Ane', 'Asier', 'Nora', 'Aiala', 'Eneritz', 'Igor'], [], ['Jon', 'Miren']]\n"
     ]
    }
   ],
   "source": [
    "N=3\n",
    "T = [[] for _ in range(N)]\n",
    "print(T)\n",
    "for e in (\"Ane\",\"Jon\",\"Miren\",\"Asier\",\"Nora\",\"Aiala\",\"Eneritz\",\"Igor\") :\n",
    "    i = hash(e)%N\n",
    "    print(f'{e} --> {i}')\n",
    "    T[i].append(e)\n",
    "    print(T)"
   ]
  },
  {
   "cell_type": "markdown",
   "metadata": {
    "slideshow": {
     "slide_type": "slide"
    }
   },
   "source": [
    "**Kateatze Banatua**-ren ezaugarriak:\n",
    "\n",
    "* $LF \\; > \\; 1$ izan daiteke\n",
    "* $LF \\; \\gg 1$ &rarr; **errendimendu eskasa**  &rarr; Taula berdimentsionatu"
   ]
  }
 ],
 "metadata": {
  "celltoolbar": "Slideshow",
  "kernelspec": {
   "display_name": "Python 3",
   "language": "python",
   "name": "python3"
  },
  "language_info": {
   "codemirror_mode": {
    "name": "ipython",
    "version": 3
   },
   "file_extension": ".py",
   "mimetype": "text/x-python",
   "name": "python",
   "nbconvert_exporter": "python",
   "pygments_lexer": "ipython3",
   "version": "3.7.6"
  },
  "rise": {
   "autolaunch": false,
   "footer": "<h2 align=\"center\">Konputaziorako Sarrera</h2>",
   "scroll": true
  }
 },
 "nbformat": 4,
 "nbformat_minor": 2
}
