{
 "cells": [
  {
   "cell_type": "markdown",
   "metadata": {
    "slideshow": {
     "slide_type": "slide"
    }
   },
   "source": [
    "# Hash Taulak ( _Associative array_ , _Elkartze Arrayak_ )\n",
    "\n",
    "   * Elementuak **taula** (zerrenda) batetan gordetzen dira\n",
    "      * $Taularen \\; tamaina \\ge elementu \\; kopurua$\n",
    "   * Elementuaren arabera, bakoitzari posizio bat dagokio\n",
    "      * Ez dago elementu errepikaturik $\\to$ multzo bat\n",
    "      * Hash funtzioa $\\to$ elementu bakoitzari dagokion posizioa\n",
    "\n",
    "<center>\n",
    "<img src=\"../img/HashTable2.png\" alt=\"Hash Table\" style=\"width: 400px;\"/>\n",
    "</center>\n"
   ]
  },
  {
   "cell_type": "markdown",
   "metadata": {
    "slideshow": {
     "slide_type": "slide"
    }
   },
   "source": [
    "## Hash Funtzioa\n",
    "\n",
    "   * Edozein informazioren gain aplikatzean, tamaina finkoko balio bat (zenbaki bat) lortu.\n",
    "   * Informazio baten _sinadura_ (laburpen) digitala.\n",
    "   * Propietateak:\n",
    "      * Hash balioen banaketa uniformea\n",
    "      * Berdinak diren bi objektuen hash balioak berdinak dira\n",
    "         * Kontrakoak ez du zertan egia izan behar. \n",
    "   * Adibide bat:\n",
    "        * [SHA256:](https://andersbrownworth.com/blockchain/hash)  _informazioa_ &rarr; 256 bit"
   ]
  },
  {
   "cell_type": "markdown",
   "metadata": {
    "slideshow": {
     "slide_type": "slide"
    }
   },
   "source": [
    "## Hash Taulen inplementazioa\n",
    "\n",
    "   * $N$ tamainako Zerrenda bat erabili.\n",
    "   * Okupazio faktorea (*load factor*):  $LF = {n_{stored}}/{N}$\n",
    "   * $e$ elementu bati taulan dagokion posizioa: $i \\; = \\; hash(e)\\; \\% \\; N$\n",
    "   * *Talkak* edo *kolisioak* gerta daitezke\n",
    "      * **Kolisioa**: Bi $e_1 , e_2$ elementu ezberdinei $i_1 = i_2$ posizio berdina esleitzea\n",
    "      * $hash(e_1) = hash(e_2)$ balio berdina izan dezakete.\n",
    "      * $hash(e_1) \\ne hash(e_2)$ izanda ere,  $(hash(e_1)\\, \\% \\, N) = (hash(e_2)\\, \\% \\, N)$ gerta daiteke."
   ]
  },
  {
   "cell_type": "code",
   "execution_count": 34,
   "metadata": {
    "slideshow": {
     "slide_type": "slide"
    }
   },
   "outputs": [
    {
     "name": "stdout",
     "output_type": "stream",
     "text": [
      "[None, None, None, None, None, None, None, None, None, None, None, None, None, None, None, None, None]\n",
      "[None, None, ('Ane', 656354364), None, None, None, None, None, None, None, None, None, None, None, None, None, None]\n",
      "[None, None, ('Ane', 656354364), None, None, None, None, None, None, None, None, None, None, None, None, ('Unai', 656455384), None]\n",
      "[None, None, ('Ane', 656354364), None, None, ('Raul', 656455384), None, None, None, None, None, None, None, None, None, ('Unai', 656455384), None]\n"
     ]
    }
   ],
   "source": [
    "N=17\n",
    "T = [None]*N\n",
    "print(T)\n",
    "e = \"Ane\"\n",
    "i = hash(e)%N\n",
    "T[i] = e\n",
    "print(T)\n",
    "e = \"Jon\"\n",
    "i = hash(e)%N\n",
    "T[i] = (g,b)\n",
    "print(T)\n",
    "g,b = \"Raul\",656455384\n",
    "i = hash(g)%N\n",
    "T[i] = (g,b)\n",
    "print(T)"
   ]
  },
  {
   "cell_type": "code",
   "execution_count": 10,
   "metadata": {
    "slideshow": {
     "slide_type": "slide"
    }
   },
   "outputs": [
    {
     "name": "stdout",
     "output_type": "stream",
     "text": [
      "5440056905610189769 9\n",
      "1199183044890590629 9\n"
     ]
    }
   ],
   "source": [
    "print(hash(\"kaixo\"), hash(\"kaixo\") % 10)\n",
    "print(hash(\"kaixoooooooooooooooo\"), hash(\"kaixoooooooooooooooo\") % 10)"
   ]
  },
  {
   "cell_type": "markdown",
   "metadata": {
    "slideshow": {
     "slide_type": "slide"
    }
   },
   "source": [
    "### Kolisioen ebazpena I : Taula berdimentsionatu\n",
    "\n",
    "* Kolisio bat ematen den bakoitzean, taularen tamaina handitu dezakegu.\n",
    "* Tamaina handitzean, talka berri baten probabilitatea txikiagoa da.\n",
    "   * Baina... zenbatekoa da probabilitate hori?\n",
    "   * 2450 gako baditugu 1.000.000 tamaina duen taula batetan (400-etik gelaxka bakarra okupatua), guztiz uniformea den hash funtzio bat erabilita ere, talka bat gertatzeko probabilitatea 95% da\n",
    "   * _Birthday Problem_ edo [Urtebetetzeen Ebazkizuna](https://eu.wikipedia.org/wiki/Urtebetetzeen_ebazkizuna)\n",
    "* $LF \\; \\ll \\; 1$\n",
    "* Memoriaren erabilpen **oso kaxkarra**"
   ]
  },
  {
   "cell_type": "markdown",
   "metadata": {
    "slideshow": {
     "slide_type": "slide"
    }
   },
   "source": [
    "### Kolisioen ebazpena II : Helbideratze Irekia (*Open addressing*)\n",
    "\n",
    "* $g$ gako bati taulan dagokion posizioa ez da $i \\; = \\; hash(g)\\; \\% \\; N$ izango\n",
    "* $i$ posiziotik abiatuko gara\n",
    "    * elementua topatu arte\n",
    "    * gelaxka huts bat topatu arte\n",
    "\n",
    "<img src=\"../img/HashTable_OA.png\" alt=\"Hash Table - Open addressing\" style=\"width: 400px;\"/>\n"
   ]
  },
  {
   "cell_type": "code",
   "execution_count": 36,
   "metadata": {
    "slideshow": {
     "slide_type": "slide"
    }
   },
   "outputs": [
    {
     "name": "stdout",
     "output_type": "stream",
     "text": [
      "[None, None, None, None, None, None, None, None, None, None]\n",
      "[None, None, None, ('Ane', 656354364), None, None, None, None, None, None]\n",
      "[None, None, None, ('Ane', 656354364), ('Unai', 656455384), None, None, None, None, None]\n",
      "[None, None, None, ('Ane', 656354364), ('Unai', 656455384), ('Raul', 656455384), None, None, None, None]\n"
     ]
    }
   ],
   "source": [
    "N=10\n",
    "T = [None]*N\n",
    "print(T)\n",
    "g,b = \"Ane\",656354364\n",
    "i = hash(g)%N\n",
    "T[i] = (g,b)\n",
    "print(T)\n",
    "g,b = \"Unai\",656455384\n",
    "i = hash(g)%N\n",
    "T[i] = (g,b)\n",
    "print(T)\n",
    "g,b = \"Raul\",656455384\n",
    "i = hash(g)%N\n",
    "# behar adina aldiz...\n",
    "i = (i+1)%N\n",
    "T[i] = (g,b)\n",
    "print(T)"
   ]
  },
  {
   "cell_type": "markdown",
   "metadata": {
    "slideshow": {
     "slide_type": "slide"
    }
   },
   "source": [
    "**Helbideratze Irekia**-ren ezaugarriak:\n",
    "\n",
    "* Hash balioen banaketa uniformeak garrantzi handia du\n",
    "* $LF \\; <= \\; 1$\n",
    "* $LF \\; > 0.7$ &rarr; **errendimendu eskasa**  &rarr; Taula berdimentsionatu\n",
    "\n",
    "<img src=\"../img/Hash_table_average_insertion_time.png\" alt=\"Hash Table - Average insertion time\" style=\"width: 400px;\"/>\n",
    "\n"
   ]
  },
  {
   "cell_type": "markdown",
   "metadata": {
    "slideshow": {
     "slide_type": "slide"
    }
   },
   "source": [
    "### Kolisioen ebazpena III : Kateatze Banatua (*Separate Chaining*)\n",
    "\n",
    "* $g$ gako bati taulako $i \\; = \\; hash(g)\\; \\% \\; N$ posizioko **zerrenda** dagokio \n",
    "\n",
    "<img src=\"../img/HashTable_CH.png\" alt=\"Hash Table - Separate Chaining\" style=\"width: 400px;\"/>\n"
   ]
  },
  {
   "cell_type": "code",
   "execution_count": 42,
   "metadata": {
    "slideshow": {
     "slide_type": "slide"
    }
   },
   "outputs": [
    {
     "name": "stdout",
     "output_type": "stream",
     "text": [
      "[[], [], []]\n",
      "[[('Ane', 656354364)], [], []]\n",
      "[[('Ane', 656354364)], [('Unai', 656455384)], []]\n",
      "[[('Ane', 656354364), ('Raul', 656455384)], [('Unai', 656455384)], []]\n"
     ]
    }
   ],
   "source": [
    "N=3\n",
    "T = [[] for _ in range(N)]\n",
    "print(T)\n",
    "g,b = \"Ane\",656354364\n",
    "i = hash(g)%N\n",
    "T[i].append((g,b))\n",
    "print(T)\n",
    "g,b = \"Unai\",656455384\n",
    "i = hash(g)%N\n",
    "T[i].append((g,b))\n",
    "print(T)\n",
    "g,b = \"Raul\",656455384\n",
    "i = hash(g)%N\n",
    "T[i].append((g,b))\n",
    "print(T)"
   ]
  },
  {
   "cell_type": "markdown",
   "metadata": {
    "slideshow": {
     "slide_type": "slide"
    }
   },
   "source": [
    "**Kateatze Banatua**-ren ezaugarriak:\n",
    "\n",
    "* $LF \\; > \\; 1$ izan daiteke\n",
    "* $LF \\; \\gg 1$ &rarr; **errendimendu eskasa**  &rarr; Taula berdimentsionatu"
   ]
  }
 ],
 "metadata": {
  "celltoolbar": "Slideshow",
  "kernelspec": {
   "display_name": "Python 3",
   "language": "python",
   "name": "python3"
  },
  "language_info": {
   "codemirror_mode": {
    "name": "ipython",
    "version": 3
   },
   "file_extension": ".py",
   "mimetype": "text/x-python",
   "name": "python",
   "nbconvert_exporter": "python",
   "pygments_lexer": "ipython3",
   "version": "3.7.6"
  },
  "rise": {
   "autolaunch": false,
   "footer": "<h2 align=\"center\">Konputaziorako Sarrera</h2>",
   "scroll": true
  }
 },
 "nbformat": 4,
 "nbformat_minor": 2
}
