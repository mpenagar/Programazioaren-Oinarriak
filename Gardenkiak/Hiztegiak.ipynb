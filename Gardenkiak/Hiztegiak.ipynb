{
 "cells": [
  {
   "cell_type": "markdown",
   "metadata": {
    "hide_input": true,
    "slideshow": {
     "slide_type": "slide"
    }
   },
   "source": [
    "# `dict` - Hiztegiak\n",
    "\n",
    " * `dict` motako objektuak\n",
    " * **gako**-**balio** bikoteez osotua.\n",
    "    * Gako _multzo_ bat &rarr; ez dago gako errepikaturik\n",
    "       * Gakoek balio **aldaezina** behar dute izan.\n",
    "    * Balio _sorta_ bat &rarr; balio errepikatuak egon daitezke\n",
    " * Propietateak: Iteragarriak, Indexagarriak, Aldakorrak\n",
    " * Metodoak: 11 (`clear`, `copy`, `fromkeys`, `get`, `items`, `keys`, `pop`, `popitem`, `setdefault`, `update`, `values`)\n",
    " * Eragileak: `in` , `not in`"
   ]
  },
  {
   "cell_type": "code",
   "execution_count": null,
   "metadata": {
    "slideshow": {
     "slide_type": "slide"
    }
   },
   "outputs": [],
   "source": [
    "help({}.fromkeys)\n"
   ]
  },
  {
   "cell_type": "markdown",
   "metadata": {
    "slideshow": {
     "slide_type": "-"
    }
   },
   "source": [
    "`fromkeys()` metodoa berezia da... `dict` objektu baten bidez exekutatu beharrean, `dict` datu motaren bidez exekutatuko dugu:"
   ]
  },
  {
   "cell_type": "code",
   "execution_count": null,
   "metadata": {
    "slideshow": {
     "slide_type": "fragment"
    }
   },
   "outputs": [],
   "source": [
    "h1 = dict.fromkeys(range(5))\n",
    "h2 = dict.fromkeys(range(5),0)\n",
    "print(f'h1 = {h1}')\n",
    "print(f'h2 = {h2}')"
   ]
  },
  {
   "cell_type": "code",
   "execution_count": null,
   "metadata": {
    "slideshow": {
     "slide_type": "slide"
    }
   },
   "outputs": [],
   "source": [
    "help({}.pop)"
   ]
  },
  {
   "cell_type": "code",
   "execution_count": null,
   "metadata": {
    "slideshow": {
     "slide_type": "fragment"
    }
   },
   "outputs": [],
   "source": [
    "h = {1:'bat' , 2:'bi' , 3:'hiru' , 4:'lau' , 5:'bost'}\n",
    "for k in list(h) :\n",
    "    print(f'h[{k}] = {h.pop(k)} , h = {h}')"
   ]
  },
  {
   "cell_type": "markdown",
   "metadata": {
    "slideshow": {
     "slide_type": "slide"
    }
   },
   "source": [
    "**OHARRA**: Aldatzen ari garen egitura bat zeharkatzea ez da ideia ona...\n"
   ]
  },
  {
   "cell_type": "code",
   "execution_count": null,
   "metadata": {
    "slideshow": {
     "slide_type": "-"
    }
   },
   "outputs": [],
   "source": [
    "h = {1:'bat' , 2:'bi' , 3:'hiru' , 4:'lau' , 5:'bost'}\n",
    "for k in list(h) :\n",
    "#for k in h :\n",
    "    print(f'h[{k}] = {h.pop(k)}')"
   ]
  },
  {
   "cell_type": "markdown",
   "metadata": {
    "slideshow": {
     "slide_type": "-"
    }
   },
   "source": [
    "Honek ez du esan nahi beti `for k in list(h) :` erabili behar denik..."
   ]
  },
  {
   "cell_type": "code",
   "execution_count": null,
   "metadata": {
    "slideshow": {
     "slide_type": "slide"
    }
   },
   "outputs": [],
   "source": [
    "help({}.popitem)"
   ]
  },
  {
   "cell_type": "code",
   "execution_count": null,
   "metadata": {
    "slideshow": {
     "slide_type": "slide"
    }
   },
   "outputs": [],
   "source": [
    "h = {1:'bat' , 2:'bi' , 3:'hiru'}\n",
    "while h :\n",
    "    g,b = h.popitem()\n",
    "    print(f'h[{g}] = {b}')"
   ]
  },
  {
   "cell_type": "code",
   "execution_count": null,
   "metadata": {
    "slideshow": {
     "slide_type": "fragment"
    }
   },
   "outputs": [],
   "source": [
    "h = {1:'bat' , 2:'bi' , 3:'hiru'}\n",
    "while h :\n",
    "    #g,b = h.popitem()\n",
    "    #print('h[{}] = {}'.format(g,b))\n",
    "    print('h[{}] = {}'.format(*h.popitem()))"
   ]
  },
  {
   "cell_type": "code",
   "execution_count": null,
   "metadata": {
    "slideshow": {
     "slide_type": "fragment"
    }
   },
   "outputs": [],
   "source": [
    "h = {1:'bat' , 2:'bi' , 3:'hiru'}\n",
    "while h :\n",
    "    print('{1} = h[{0}]'.format(*h.popitem()))"
   ]
  },
  {
   "cell_type": "code",
   "execution_count": null,
   "metadata": {
    "slideshow": {
     "slide_type": "slide"
    }
   },
   "outputs": [],
   "source": [
    "help({}.setdefault)"
   ]
  },
  {
   "cell_type": "markdown",
   "metadata": {
    "slideshow": {
     "slide_type": "slide"
    }
   },
   "source": [
    "**Ariketa**: Karaktere kate batetan agertzen diren hitzak hiztegi batetan gorde. Hiztegiko gakoak hitzen luzera izango dira eta balioak luzera hori duten hitzen zerrendak"
   ]
  },
  {
   "cell_type": "code",
   "execution_count": 25,
   "metadata": {},
   "outputs": [
    {
     "data": {
      "text/plain": [
       "{4: ['aaaa', 'oooo'], 3: ['eee', 'iii', 'aaa'], 1: ['u']}"
      ]
     },
     "execution_count": 25,
     "metadata": {},
     "output_type": "execute_result"
    }
   ],
   "source": [
    "s = \"aaaa eee iii aaa oooo u\"\n",
    "h = {}\n",
    "for hitz in s.split() :\n",
    "    n = len(hitz)\n",
    "    if n in h :\n",
    "        h[n].append(hitz)\n",
    "    else :\n",
    "        h[n] = [hitz]\n",
    "    # h.setdefault(n,[]).append(hitz)\n",
    "h    \n",
    "    "
   ]
  },
  {
   "cell_type": "code",
   "execution_count": 33,
   "metadata": {
    "slideshow": {
     "slide_type": "slide"
    }
   },
   "outputs": [
    {
     "name": "stdout",
     "output_type": "stream",
     "text": [
      "dict_items([(5, ['testu', 'diren']), (7, ['honetan', 'bilduko']), (8, ['agertzen']), (6, ['hitzak', 'ditugu']), (4, ['bere']), (12, ['luzerarekiko'])])\n",
      "[(5, ['testu', 'diren']), (7, ['honetan', 'bilduko']), (8, ['agertzen']), (6, ['hitzak', 'ditugu']), (4, ['bere']), (12, ['luzerarekiko'])]\n",
      "[(4, ['bere']), (5, ['testu', 'diren']), (6, ['hitzak', 'ditugu']), (7, ['honetan', 'bilduko']), (8, ['agertzen']), (12, ['luzerarekiko'])]\n",
      "(4, ['bere']) (5, ['testu', 'diren']) (6, ['hitzak', 'ditugu']) (7, ['honetan', 'bilduko']) (8, ['agertzen']) (12, ['luzerarekiko'])\n",
      "(4, ['bere'])\n",
      "(5, ['testu', 'diren'])\n",
      "(6, ['hitzak', 'ditugu'])\n",
      "(7, ['honetan', 'bilduko'])\n",
      "(8, ['agertzen'])\n",
      "(12, ['luzerarekiko'])\n"
     ]
    }
   ],
   "source": [
    "s = \"testu honetan agertzen diren hitzak bere luzerarekiko bilduko ditugu\"\n",
    "h = {}\n",
    "for w in s.split():\n",
    "    h.setdefault(len(w),[]).append(w)\n",
    "\n",
    "print(h.items())\n",
    "print(list(h.items()))\n",
    "print(sorted(h.items()))\n",
    "print(*sorted(h.items()))\n",
    "print(*sorted(h.items()),sep='\\n')"
   ]
  },
  {
   "cell_type": "markdown",
   "metadata": {
    "slideshow": {
     "slide_type": "slide"
    }
   },
   "source": [
    "**OHARRA**: Orain arte, `seq` sekuentzia baten edukia ikusi nahi genuenean `print(list(seq))` erabiltzen genuen... hemendik aurrera `print(*seq)` erabil dezakegu:"
   ]
  },
  {
   "cell_type": "code",
   "execution_count": 34,
   "metadata": {
    "slideshow": {
     "slide_type": "fragment"
    }
   },
   "outputs": [
    {
     "name": "stdout",
     "output_type": "stream",
     "text": [
      "[0, 1, 2, 3, 4]\n",
      "range(0, 5)\n",
      "0 1 2 3 4\n",
      "--------------------------------------------------\n",
      "[(0, 'a'), (1, 'e'), (2, 'o'), (3, 'i'), (4, 'u')]\n",
      "<enumerate object at 0x7f63d57d8870>\n",
      "(0, 'a') (1, 'e') (2, 'o') (3, 'i') (4, 'u')\n",
      "--------------------------------------------------\n",
      "[('a', 0), ('e', 1), ('o', 2), ('i', 3), ('u', 4)]\n",
      "<zip object at 0x7f63d57d8870>\n",
      "('a', 0) ('e', 1) ('o', 2) ('i', 3) ('u', 4)\n"
     ]
    }
   ],
   "source": [
    "print(list(range(5)))\n",
    "print(range(5))\n",
    "print(*range(5))\n",
    "print('-'*50)\n",
    "print(list(enumerate('aeoiu')))\n",
    "print(enumerate('aeoiu'))\n",
    "print(*enumerate('aeoiu'))\n",
    "print('-'*50)\n",
    "print(list(zip('aeoiu',range(100))))\n",
    "print(zip('aeoiu',range(100)))\n",
    "print(*zip('aeoiu',range(100)))"
   ]
  },
  {
   "cell_type": "code",
   "execution_count": 35,
   "metadata": {
    "slideshow": {
     "slide_type": "slide"
    }
   },
   "outputs": [
    {
     "name": "stdout",
     "output_type": "stream",
     "text": [
      "Help on built-in function update:\n",
      "\n",
      "update(...) method of builtins.dict instance\n",
      "    D.update([E, ]**F) -> None.  Update D from dict/iterable E and F.\n",
      "    If E is present and has a .keys() method, then does:  for k in E: D[k] = E[k]\n",
      "    If E is present and lacks a .keys() method, then does:  for k, v in E: D[k] = v\n",
      "    In either case, this is followed by: for k in F:  D[k] = F[k]\n",
      "\n"
     ]
    }
   ],
   "source": [
    "help({}.update)"
   ]
  },
  {
   "cell_type": "code",
   "execution_count": 36,
   "metadata": {
    "slideshow": {
     "slide_type": "fragment"
    }
   },
   "outputs": [
    {
     "name": "stdout",
     "output_type": "stream",
     "text": [
      "h1 = {0: None, 1: None, 2: None, 3: None, 4: None}\n",
      "h2 = {0: 0, 1: 0, 2: 0}\n",
      "h1 = {0: 0, 1: 0, 2: 0, 3: None, 4: None}\n"
     ]
    }
   ],
   "source": [
    "h1 = dict.fromkeys(range(5))\n",
    "h2 = dict.fromkeys(range(3),0)\n",
    "print(f'h1 = {h1}')\n",
    "print(f'h2 = {h2}')\n",
    "h1.update(h2)\n",
    "print(f'h1 = {h1}')"
   ]
  },
  {
   "cell_type": "code",
   "execution_count": 37,
   "metadata": {
    "slideshow": {
     "slide_type": "slide"
    }
   },
   "outputs": [
    {
     "name": "stdout",
     "output_type": "stream",
     "text": [
      "{0: 0, 1: 0, 2: 0}\n",
      "{0: 'a', 1: 'e', 2: 'i', 3: 'o', 4: 'u'}\n"
     ]
    }
   ],
   "source": [
    "h=dict.fromkeys(range(3),0)\n",
    "print(h)\n",
    "h.update(enumerate(\"aeiou\"))\n",
    "print(h)"
   ]
  },
  {
   "cell_type": "markdown",
   "metadata": {
    "slideshow": {
     "slide_type": "slide"
    }
   },
   "source": [
    "## Hiztegiak zeharkatzen: `keys()`, `values()` eta `items()`\n",
    "\n",
    "* Gakoak **soilik** behar ditugunean, `hizt.keys()` (edo `hizt`)\n",
    "   * `for k in hizt.keys() :` &harr; `for k in hizt :`\n",
    "* Balioak **soilik** behar ditugunean, `hizt.values()`\n",
    "* Gakoak eta balioak behar ditugunean, `hizt.items()` &rarr; `(gako,balio)` bikote sekuentzia."
   ]
  },
  {
   "cell_type": "markdown",
   "metadata": {
    "slideshow": {
     "slide_type": "slide"
    }
   },
   "source": [
    "**ARIKETA**: {izena &rarr; adina} hiztegi batetako pertsona zaharrenaren izena."
   ]
  },
  {
   "cell_type": "code",
   "execution_count": 43,
   "metadata": {
    "slideshow": {
     "slide_type": "fragment"
    }
   },
   "outputs": [
    {
     "name": "stdout",
     "output_type": "stream",
     "text": [
      "Ainara\n"
     ]
    }
   ],
   "source": [
    "def zaharrena(h):\n",
    "    zahar = None\n",
    "    for izena in h :\n",
    "        if zahar == None or h[izena] > h[zahar] :\n",
    "            zahar = izena\n",
    "    return zahar\n",
    "\n",
    "h = {'Iñaki':24 , 'Ainara': 33 , 'Leire':27}\n",
    "print(zaharrena(h))"
   ]
  },
  {
   "cell_type": "code",
   "execution_count": 44,
   "metadata": {
    "slideshow": {
     "slide_type": "slide"
    }
   },
   "outputs": [
    {
     "name": "stdout",
     "output_type": "stream",
     "text": [
      "Ainara\n"
     ]
    }
   ],
   "source": [
    "def zaharrena_b(h):\n",
    "    zahar_adina = -1\n",
    "    for izena in h :\n",
    "        if h[izena] > zahar_adina :\n",
    "            zahar = izena\n",
    "            zahar_adina = h[izena]\n",
    "    return zahar\n",
    "\n",
    "h = {'Iñaki':24 , 'Ainara': 33 , 'Leire':27}\n",
    "print(zaharrena(h))"
   ]
  },
  {
   "cell_type": "code",
   "execution_count": 45,
   "metadata": {
    "slideshow": {
     "slide_type": "fragment"
    }
   },
   "outputs": [
    {
     "name": "stdout",
     "output_type": "stream",
     "text": [
      "Ainara\n"
     ]
    }
   ],
   "source": [
    "def zaharrena_c(h):\n",
    "    zahar = list(h)[0]\n",
    "    for izena in h :\n",
    "        if h[izena] > h[zahar] :\n",
    "            zahar = izena\n",
    "    return zahar\n",
    "\n",
    "h = {'Iñaki':24 , 'Ainara': 33 , 'Leire':27}\n",
    "print(zaharrena(h))"
   ]
  },
  {
   "cell_type": "markdown",
   "metadata": {
    "slideshow": {
     "slide_type": "fragment"
    }
   },
   "source": [
    "Ebazpen honi buruz...\n",
    "\n",
    "* Hiztegi baten indexazioa (`h[x]`) bizkorra bada ere (aurrerago aztertuko dugu), **ez da arbuiagarria**.\n",
    "* Hiztegiaren gakoak zeharkatu, balioak kontsultatzeko... GAIZKI"
   ]
  },
  {
   "cell_type": "code",
   "execution_count": 46,
   "metadata": {
    "slideshow": {
     "slide_type": "slide"
    }
   },
   "outputs": [
    {
     "name": "stdout",
     "output_type": "stream",
     "text": [
      "Ainara\n"
     ]
    }
   ],
   "source": [
    "def zaharrena2(h):\n",
    "    izena_zahar = None\n",
    "    for izena,adina in h.items() :\n",
    "        if izena_zahar == None or adina > adina_zahar :\n",
    "            izena_zahar = izena\n",
    "            adina_zahar = adina\n",
    "    return izena_zahar\n",
    "\n",
    "h = {'Iñaki':24 , 'Ainara': 33 , 'Leire':27}\n",
    "print(zaharrena2(h))"
   ]
  },
  {
   "cell_type": "markdown",
   "metadata": {
    "slideshow": {
     "slide_type": "slide"
    }
   },
   "source": [
    "Baina... benetan... ba al dago ezberdintasun nabaririk modu batean ala bestean eginez gero? **Ikustagun**:"
   ]
  },
  {
   "cell_type": "code",
   "execution_count": 49,
   "metadata": {
    "slideshow": {
     "slide_type": "fragment"
    }
   },
   "outputs": [],
   "source": [
    "from random import sample, randint\n",
    "#help(sample)\n",
    "#help(randint)"
   ]
  },
  {
   "cell_type": "code",
   "execution_count": 127,
   "metadata": {
    "slideshow": {
     "slide_type": "fragment"
    }
   },
   "outputs": [
    {
     "name": "stdout",
     "output_type": "stream",
     "text": [
      "['a', 'w', 'v', 'z', 'f', 'n', 'd', 'm', 'x', 'b']\n",
      "fpnmabyxhz\n",
      "71\n"
     ]
    }
   ],
   "source": [
    "alfa=\"abcdefghijklmnñopqrstuvwxyz\"\n",
    "print(sample(alfa,10))\n",
    "print(\"\".join(sample(alfa,10)))\n",
    "print(randint(1,100))"
   ]
  },
  {
   "cell_type": "code",
   "execution_count": 132,
   "metadata": {
    "slideshow": {
     "slide_type": "slide"
    }
   },
   "outputs": [
    {
     "name": "stdout",
     "output_type": "stream",
     "text": [
      "10000\n"
     ]
    }
   ],
   "source": [
    "n = 10000\n",
    "h = {}\n",
    "for i in range(n):\n",
    "    h[\"\".join(sample(alfa,10))] = randint(1,100)\n",
    "print(len(h))"
   ]
  },
  {
   "cell_type": "code",
   "execution_count": 133,
   "metadata": {
    "slideshow": {
     "slide_type": "slide"
    }
   },
   "outputs": [
    {
     "name": "stdout",
     "output_type": "stream",
     "text": [
      "zoñvqmnucj\n",
      "zoñvqmnucj\n",
      "100\n"
     ]
    }
   ],
   "source": [
    "print(zaharrena(h))\n",
    "print(zaharrena2(h))\n",
    "print(h[zaharrena(h)])"
   ]
  },
  {
   "cell_type": "code",
   "execution_count": 134,
   "metadata": {
    "scrolled": true,
    "slideshow": {
     "slide_type": "fragment"
    }
   },
   "outputs": [
    {
     "name": "stdout",
     "output_type": "stream",
     "text": [
      "--- zaharrena  ---\n",
      "2.29 ms ± 52 µs per loop (mean ± std. dev. of 7 runs, 100 loops each)\n",
      "--- zaharrena2 ---\n",
      "1.48 ms ± 34 µs per loop (mean ± std. dev. of 7 runs, 1000 loops each)\n"
     ]
    }
   ],
   "source": [
    "print('--- zaharrena  ---')\n",
    "%timeit zaharrena(h)\n",
    "\n",
    "print('--- zaharrena2 ---')\n",
    "%timeit zaharrena2(h)"
   ]
  },
  {
   "cell_type": "markdown",
   "metadata": {
    "slideshow": {
     "slide_type": "slide"
    }
   },
   "source": [
    "Apur bat gehiago bizkortuz..."
   ]
  },
  {
   "cell_type": "code",
   "execution_count": 135,
   "metadata": {
    "slideshow": {
     "slide_type": "fragment"
    }
   },
   "outputs": [
    {
     "name": "stdout",
     "output_type": "stream",
     "text": [
      "--- zaharrena3 ---\n",
      "860 µs ± 6.59 µs per loop (mean ± std. dev. of 7 runs, 1000 loops each)\n"
     ]
    }
   ],
   "source": [
    "def zaharrena3(h):\n",
    "    for izena_zahar,adina_zahar in h.items() :\n",
    "        break\n",
    "    for izena,adina in h.items() :\n",
    "        if adina > adina_zahar :\n",
    "            izena_zahar = izena\n",
    "            adina_zahar = adina\n",
    "    return izena_zahar\n",
    "\n",
    "print('--- zaharrena3 ---')\n",
    "%timeit zaharrena3(h)"
   ]
  },
  {
   "cell_type": "markdown",
   "metadata": {
    "slideshow": {
     "slide_type": "-"
    }
   },
   "source": [
    "<table border=\"0\" width=\"100%\" style=\"margin: 0px;\">\n",
    "<tr>  \n",
    "  <td style=\"text-align:left\"><a href=\"NKoteak.ipynb\">&lt; &lt; N-Koteak &lt; &lt;</a></td>\n",
    "  <td style=\"text-align:right\"><a href=\"SarreraIrteeraEtaFitxategiak.ipynb\">&gt; &gt; Sarrera-Irteera eta Fitxategiak &gt; &gt;</a></td>\n",
    "</tr>\n",
    "</table>"
   ]
  }
 ],
 "metadata": {
  "celltoolbar": "Slideshow",
  "kernelspec": {
   "display_name": "Python 3",
   "language": "python",
   "name": "python3"
  },
  "language_info": {
   "codemirror_mode": {
    "name": "ipython",
    "version": 3
   },
   "file_extension": ".py",
   "mimetype": "text/x-python",
   "name": "python",
   "nbconvert_exporter": "python",
   "pygments_lexer": "ipython3",
   "version": "3.7.6"
  },
  "rise": {
   "autolaunch": false,
   "footer": "<h2 align=\"center\">Konputaziorako Sarrera</h2>",
   "scroll": true
  }
 },
 "nbformat": 4,
 "nbformat_minor": 2
}
