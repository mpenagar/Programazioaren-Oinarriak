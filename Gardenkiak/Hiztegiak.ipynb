{
 "cells": [
  {
   "cell_type": "markdown",
   "metadata": {
    "hide_input": true,
    "slideshow": {
     "slide_type": "slide"
    }
   },
   "source": [
    "# `dict` - Hiztegiak\n",
    "\n",
    " * `dict` motako objektuak\n",
    " * **gako**-**balio** bikoteez osotua.\n",
    "    * Gako _multzo_ bat &rarr; ez dago gako errepikaturik\n",
    "       * Gakoek balio **aldaezina** behar dute izan.\n",
    "    * Balio _sorta_ bat &rarr; balio errepikatuak egon daitezke\n",
    " * Propietateak: Iteragarriak, Indexagarriak, Aldakorrak\n",
    " * Metodoak: 11 (`clear`, `copy`, `fromkeys`, `get`, `items`, `keys`, `pop`, `popitem`, `setdefault`, `update`, `values`)\n",
    " * Eragileak: `in` , `not in`"
   ]
  },
  {
   "cell_type": "markdown",
   "metadata": {
    "slideshow": {
     "slide_type": "slide"
    }
   },
   "source": [
    "### Hiztegien *indizeak* (gakoak)  &rarr;  balio aldaezinak dituzten objektuak\n",
    "\n",
    "* `int` &rarr; balio aldaezina\n",
    "* `float` &rarr; balio aldaezina\n",
    "* `bool` &rarr; balio aldaezina\n",
    "* `str` &rarr; balio aldaezina\n",
    "* `None` &rarr; balio aldaezina\n",
    "* `list` &rarr; **balio aldakorra**\n",
    "* `tuple` &rarr; **balio aldakorra** izan lezake"
   ]
  },
  {
   "cell_type": "markdown",
   "metadata": {
    "slideshow": {
     "slide_type": "slide"
    }
   },
   "source": [
    "## Iteragarritasuna\n",
    "* Hiztegi bat zeharkatzean, bere gakoak zeharkatzen ditugu.\n",
    "* Hiztegia zeharkatzean, ez dugu inongo ordenik espero.\n",
    "  * Azkeneko bertsioetan bai..."
   ]
  },
  {
   "cell_type": "code",
   "execution_count": 33,
   "metadata": {
    "slideshow": {
     "slide_type": "fragment"
    }
   },
   "outputs": [
    {
     "name": "stdout",
     "output_type": "stream",
     "text": [
      "[0, 1, 2, 4, 3, 5]\n",
      "0 1 2 4 3 5\n"
     ]
    }
   ],
   "source": [
    "h = {0:'zero', 1:'bat', 2:'bi', 4:'lau', 3:'hiru', 5:'bost'}\n",
    "print(list(h))\n",
    "print(*h)"
   ]
  },
  {
   "cell_type": "markdown",
   "metadata": {
    "slideshow": {
     "slide_type": "slide"
    }
   },
   "source": [
    "Hiztegi baten gako, balio eta sarrera sekuentziak lor ditzakegu:\n",
    "* `dict.keys()` &rarr; gako sekuentzia\n",
    "* `dict.values()` &rarr; balio sekuentzia\n",
    "* `dict.items()` &rarr; (gako,balio) bikote sekuentzia"
   ]
  },
  {
   "cell_type": "code",
   "execution_count": 34,
   "metadata": {
    "slideshow": {
     "slide_type": "slide"
    }
   },
   "outputs": [
    {
     "name": "stdout",
     "output_type": "stream",
     "text": [
      "{0: 'zero', 1: 'bat', 2: 'bi', 3: 'lau', 5: 'bat'}\n",
      "dict_keys([0, 1, 2, 3, 5])\n",
      "dict_values(['zero', 'bat', 'bi', 'lau', 'bat'])\n",
      "dict_items([(0, 'zero'), (1, 'bat'), (2, 'bi'), (3, 'lau'), (5, 'bat')])\n",
      "------\n",
      "0 1 2 3 5\n",
      "0 1 2 3 5\n",
      "zero bat bi lau bat\n",
      "(0, 'zero') (1, 'bat') (2, 'bi') (3, 'lau') (5, 'bat')\n"
     ]
    }
   ],
   "source": [
    "h = {0:'zero', 1:'bat', 2:'bi', 3:'hiru', 3:'lau', 5:'bat'}\n",
    "print(h)\n",
    "print(h.keys())\n",
    "print(h.values())\n",
    "print(h.items())\n",
    "\n",
    "print(\"------\")\n",
    "print(*h)\n",
    "print(*h.keys())\n",
    "print(*h.values())\n",
    "print(*h.items())"
   ]
  },
  {
   "cell_type": "code",
   "execution_count": 35,
   "metadata": {
    "slideshow": {
     "slide_type": "slide"
    }
   },
   "outputs": [
    {
     "name": "stdout",
     "output_type": "stream",
     "text": [
      "Help on built-in function fromkeys:\n",
      "\n",
      "fromkeys(iterable, value=None, /) method of builtins.type instance\n",
      "    Create a new dictionary with keys from iterable and values set to value.\n",
      "\n"
     ]
    }
   ],
   "source": [
    "help({}.fromkeys)\n"
   ]
  },
  {
   "cell_type": "markdown",
   "metadata": {
    "slideshow": {
     "slide_type": "-"
    }
   },
   "source": [
    "`fromkeys()` metodoa berezia da... `dict` objektu baten bidez exekutatu beharrean, `dict` datu motaren bidez exekutatuko dugu:"
   ]
  },
  {
   "cell_type": "code",
   "execution_count": 36,
   "metadata": {
    "slideshow": {
     "slide_type": "fragment"
    }
   },
   "outputs": [
    {
     "name": "stdout",
     "output_type": "stream",
     "text": [
      "h1 = {0: None, 1: None, 2: None, 3: None, 4: None}\n",
      "h2 = {0: 0, 1: 0, 2: 0, 3: 0, 4: 0}\n"
     ]
    }
   ],
   "source": [
    "h1 = dict.fromkeys(range(5))\n",
    "h2 = dict.fromkeys(range(5),0)\n",
    "print(f'h1 = {h1}')\n",
    "print(f'h2 = {h2}')"
   ]
  },
  {
   "cell_type": "code",
   "execution_count": 37,
   "metadata": {
    "slideshow": {
     "slide_type": "slide"
    }
   },
   "outputs": [
    {
     "name": "stdout",
     "output_type": "stream",
     "text": [
      "Help on built-in function pop:\n",
      "\n",
      "pop(...) method of builtins.dict instance\n",
      "    D.pop(k[,d]) -> v, remove specified key and return the corresponding value.\n",
      "    If key is not found, d is returned if given, otherwise KeyError is raised\n",
      "\n"
     ]
    }
   ],
   "source": [
    "help({}.pop)"
   ]
  },
  {
   "cell_type": "code",
   "execution_count": 38,
   "metadata": {
    "slideshow": {
     "slide_type": "fragment"
    }
   },
   "outputs": [
    {
     "name": "stdout",
     "output_type": "stream",
     "text": [
      "h[1] = bat , h = {2: 'bi', 3: 'hiru', 4: 'lau', 5: 'bost'}\n",
      "h[2] = bi , h = {3: 'hiru', 4: 'lau', 5: 'bost'}\n",
      "h[3] = hiru , h = {4: 'lau', 5: 'bost'}\n",
      "h[4] = lau , h = {5: 'bost'}\n",
      "h[5] = bost , h = {}\n"
     ]
    }
   ],
   "source": [
    "h = {1:'bat' , 2:'bi' , 3:'hiru' , 4:'lau' , 5:'bost'}\n",
    "for k in list(h) :\n",
    "    print(f'h[{k}] = {h.pop(k)} , h = {h}')"
   ]
  },
  {
   "cell_type": "markdown",
   "metadata": {
    "slideshow": {
     "slide_type": "slide"
    }
   },
   "source": [
    "**OHARRA**: Aldatzen ari garen egitura bat zeharkatzea ez da ideia ona...\n"
   ]
  },
  {
   "cell_type": "code",
   "execution_count": 39,
   "metadata": {
    "slideshow": {
     "slide_type": "-"
    }
   },
   "outputs": [
    {
     "name": "stdout",
     "output_type": "stream",
     "text": [
      "h[1] = bat\n",
      "h[2] = bi\n",
      "h[3] = hiru\n",
      "h[4] = lau\n",
      "h[5] = bost\n"
     ]
    }
   ],
   "source": [
    "h = {1:'bat' , 2:'bi' , 3:'hiru' , 4:'lau' , 5:'bost'}\n",
    "for k in list(h) :\n",
    "#for k in h :\n",
    "    print(f'h[{k}] = {h.pop(k)}')"
   ]
  },
  {
   "cell_type": "markdown",
   "metadata": {
    "slideshow": {
     "slide_type": "-"
    }
   },
   "source": [
    "Honek ez du esan nahi beti `for k in list(h) :` erabili behar denik..."
   ]
  },
  {
   "cell_type": "markdown",
   "metadata": {
    "slideshow": {
     "slide_type": "slide"
    }
   },
   "source": [
    "Zerrenden kasuan ez da errorerik sortzen..."
   ]
  },
  {
   "cell_type": "code",
   "execution_count": 40,
   "metadata": {
    "slideshow": {
     "slide_type": "-"
    }
   },
   "outputs": [
    {
     "name": "stdout",
     "output_type": "stream",
     "text": [
      "[0, 1, 2, 3, 4, 5, 6, 7, 8, 9]\n",
      "[1, 3, 5, 7, 9]\n"
     ]
    }
   ],
   "source": [
    "z = list(range(10))\n",
    "print(z)\n",
    "for x in z :\n",
    "    z.remove(x)\n",
    "print(z)\n"
   ]
  },
  {
   "cell_type": "markdown",
   "metadata": {
    "slideshow": {
     "slide_type": "-"
    }
   },
   "source": [
    "Baina emaitza ez da esperoko genukeena.\n",
    "\n",
    "**Aldatzen ari garen egitura bat zeharkatzea ez da ideia ona...**"
   ]
  },
  {
   "cell_type": "code",
   "execution_count": 41,
   "metadata": {
    "slideshow": {
     "slide_type": "slide"
    }
   },
   "outputs": [
    {
     "name": "stdout",
     "output_type": "stream",
     "text": [
      "Help on built-in function popitem:\n",
      "\n",
      "popitem(...) method of builtins.dict instance\n",
      "    D.popitem() -> (k, v), remove and return some (key, value) pair as a\n",
      "    2-tuple; but raise KeyError if D is empty.\n",
      "\n"
     ]
    }
   ],
   "source": [
    "help({}.popitem)"
   ]
  },
  {
   "cell_type": "code",
   "execution_count": 42,
   "metadata": {
    "slideshow": {
     "slide_type": "slide"
    }
   },
   "outputs": [
    {
     "name": "stdout",
     "output_type": "stream",
     "text": [
      "h[3] = hiru\n",
      "h[2] = bi\n",
      "h[1] = bat\n"
     ]
    }
   ],
   "source": [
    "h = {1:'bat' , 2:'bi' , 3:'hiru'}\n",
    "while h :\n",
    "    g,b = h.popitem()\n",
    "    #print('h[{g}] = {b}')\n",
    "    print(f'h[{g}] = {b}')\n",
    "    "
   ]
  },
  {
   "cell_type": "code",
   "execution_count": 43,
   "metadata": {
    "slideshow": {
     "slide_type": "fragment"
    }
   },
   "outputs": [
    {
     "name": "stdout",
     "output_type": "stream",
     "text": [
      "h[3] = hiru\n",
      "h[2] = bi\n",
      "h[1] = bat\n"
     ]
    }
   ],
   "source": [
    "h = {1:'bat' , 2:'bi' , 3:'hiru'}\n",
    "while h :\n",
    "    #g,b = h.popitem()\n",
    "    #print('h[{}] = {}'.format(g,b))\n",
    "    print('h[{}] = {}'.format(*h.popitem()))"
   ]
  },
  {
   "cell_type": "code",
   "execution_count": 44,
   "metadata": {
    "slideshow": {
     "slide_type": "fragment"
    }
   },
   "outputs": [
    {
     "name": "stdout",
     "output_type": "stream",
     "text": [
      "hiru = h[3]\n",
      "bi = h[2]\n",
      "bat = h[1]\n"
     ]
    }
   ],
   "source": [
    "h = {1:'bat' , 2:'bi' , 3:'hiru'}\n",
    "while h :\n",
    "    print('{1} = h[{0}]'.format(*h.popitem()))"
   ]
  },
  {
   "cell_type": "code",
   "execution_count": 45,
   "metadata": {
    "slideshow": {
     "slide_type": "slide"
    }
   },
   "outputs": [
    {
     "name": "stdout",
     "output_type": "stream",
     "text": [
      "Help on built-in function setdefault:\n",
      "\n",
      "setdefault(key, default=None, /) method of builtins.dict instance\n",
      "    Insert key with a value of default if key is not in the dictionary.\n",
      "    \n",
      "    Return the value for key if key is in the dictionary, else default.\n",
      "\n"
     ]
    }
   ],
   "source": [
    "help({}.setdefault)"
   ]
  },
  {
   "cell_type": "markdown",
   "metadata": {
    "slideshow": {
     "slide_type": "slide"
    }
   },
   "source": [
    "**Ariketa**: Karaktere kate batetan agertzen diren hitzak hiztegi batetan gorde. Hiztegiko gakoak hitzen luzerak izango dira eta balioak luzera hori duten hitzen zerrendak"
   ]
  },
  {
   "cell_type": "code",
   "execution_count": 46,
   "metadata": {},
   "outputs": [
    {
     "name": "stdout",
     "output_type": "stream",
     "text": [
      "{4: ['aaaa', 'oooo'], 3: ['eee', 'iii', 'aaa'], 1: ['u']}\n",
      "{4: ['aaaa', 'oooo'], 3: ['eee', 'iii', 'aaa'], 1: ['u']}\n",
      "{4: ['aaaa', 'oooo'], 3: ['eee', 'iii', 'aaa'], 1: ['u']}\n"
     ]
    }
   ],
   "source": [
    "s = \"aaaa eee iii aaa oooo u\"\n",
    "h = {}\n",
    "for hitz in s.split():\n",
    "    n = len(hitz)\n",
    "    if n in h :\n",
    "        h[n].append(hitz)\n",
    "    else :\n",
    "        h[n] = [hitz]\n",
    "print(h)\n",
    "h = {}\n",
    "for hitz in s.split():\n",
    "    n = len(hitz)\n",
    "    if n not in h :\n",
    "       h[n] = [] \n",
    "    h[n].append(hitz)\n",
    "print(h)\n",
    "h = {}\n",
    "for hitz in s.split():\n",
    "    n = len(hitz)\n",
    "    h.setdefault(n,[]).append(hitz)\n",
    "print(h)"
   ]
  },
  {
   "cell_type": "code",
   "execution_count": 47,
   "metadata": {
    "slideshow": {
     "slide_type": "slide"
    }
   },
   "outputs": [
    {
     "name": "stdout",
     "output_type": "stream",
     "text": [
      "Help on built-in function update:\n",
      "\n",
      "update(...) method of builtins.dict instance\n",
      "    D.update([E, ]**F) -> None.  Update D from dict/iterable E and F.\n",
      "    If E is present and has a .keys() method, then does:  for k in E: D[k] = E[k]\n",
      "    If E is present and lacks a .keys() method, then does:  for k, v in E: D[k] = v\n",
      "    In either case, this is followed by: for k in F:  D[k] = F[k]\n",
      "\n"
     ]
    }
   ],
   "source": [
    "help({}.update)"
   ]
  },
  {
   "cell_type": "code",
   "execution_count": 49,
   "metadata": {
    "slideshow": {
     "slide_type": "fragment"
    }
   },
   "outputs": [
    {
     "name": "stdout",
     "output_type": "stream",
     "text": [
      "h1 = {1: None, 2: None, 3: None, 4: None}\n",
      "h2 = {0: 0, 1: 0, 2: 0}\n",
      "h1 = {1: 0, 2: 0, 3: None, 4: None, 0: 0}\n"
     ]
    }
   ],
   "source": [
    "h1 = dict.fromkeys(range(1,5))\n",
    "h2 = dict.fromkeys(range(3),0)\n",
    "print(f'h1 = {h1}')\n",
    "print(f'h2 = {h2}')\n",
    "h1.update(h2)\n",
    "print(f'h1 = {h1}')"
   ]
  },
  {
   "cell_type": "code",
   "execution_count": 50,
   "metadata": {
    "slideshow": {
     "slide_type": "slide"
    }
   },
   "outputs": [
    {
     "name": "stdout",
     "output_type": "stream",
     "text": [
      "{0: 0, 1: 0, 2: 0, 3: 0, 4: 0, 5: 0, 6: 0, 7: 0, 8: 0, 9: 0}\n",
      "{0: 'a', 1: 'e', 2: 'i', 3: 'o', 4: 'u', 5: 0, 6: 0, 7: 0, 8: 0, 9: 0}\n"
     ]
    }
   ],
   "source": [
    "h=dict.fromkeys(range(10),0)\n",
    "print(h)\n",
    "h.update(enumerate(\"aeiou\"))\n",
    "print(h)"
   ]
  },
  {
   "cell_type": "markdown",
   "metadata": {
    "slideshow": {
     "slide_type": "slide"
    }
   },
   "source": [
    "## Hiztegiak zeharkatzen: `keys()`, `values()` eta `items()`\n",
    "\n",
    "* Gakoak **soilik** behar ditugunean, `hizt.keys()` (edo `hizt`)\n",
    "   * `for k in hizt.keys() :` &harr; `for k in hizt :`\n",
    "* Balioak **soilik** behar ditugunean, `hizt.values()`\n",
    "* Gakoak eta balioak behar ditugunean, `hizt.items()` &rarr; `(gako,balio)` bikote sekuentzia."
   ]
  },
  {
   "cell_type": "markdown",
   "metadata": {
    "slideshow": {
     "slide_type": "slide"
    }
   },
   "source": [
    "**ARIKETA**: {izena &rarr; adina} hiztegi batetako pertsona zaharrenaren izena."
   ]
  },
  {
   "cell_type": "code",
   "execution_count": 51,
   "metadata": {
    "slideshow": {
     "slide_type": "fragment"
    }
   },
   "outputs": [
    {
     "name": "stdout",
     "output_type": "stream",
     "text": [
      "Ainara\n"
     ]
    }
   ],
   "source": [
    "def zaharrena(h):\n",
    "    max_izena = None\n",
    "    for izena in h :\n",
    "        adina = h[izena]\n",
    "        if max_izena == None or adina > max_adina :\n",
    "            max_izena = izena\n",
    "            max_adina = adina\n",
    "    return max_izena\n",
    "\n",
    "h = {'Iñaki':24 , 'Ainara': 33 , 'Leire':27}\n",
    "print(zaharrena(h))"
   ]
  },
  {
   "cell_type": "markdown",
   "metadata": {
    "slideshow": {
     "slide_type": "slide"
    }
   },
   "source": [
    "`if` kontrol egitura behin eta berriro exekutatzen ari da, bizkortzen badugu funtzioa bizkortuko dugu:"
   ]
  },
  {
   "cell_type": "code",
   "execution_count": 52,
   "metadata": {
    "slideshow": {
     "slide_type": "fragment"
    }
   },
   "outputs": [
    {
     "name": "stdout",
     "output_type": "stream",
     "text": [
      "Ainara\n"
     ]
    }
   ],
   "source": [
    "def zaharrena_b(h):\n",
    "    max_adina = -1\n",
    "    for izena in h :\n",
    "        adina = h[izena]\n",
    "        if adina > max_adina :\n",
    "            max_izena = izena\n",
    "            max_adina = adina\n",
    "    return max_izena\n",
    "\n",
    "h = {'Iñaki':24 , 'Ainara': 33 , 'Leire':27}\n",
    "print(zaharrena_b(h))"
   ]
  },
  {
   "cell_type": "markdown",
   "metadata": {
    "slideshow": {
     "slide_type": "slide"
    }
   },
   "source": [
    "Exekuzio denborak konparatzen..."
   ]
  },
  {
   "cell_type": "code",
   "execution_count": 56,
   "metadata": {
    "slideshow": {
     "slide_type": "fragment"
    }
   },
   "outputs": [],
   "source": [
    "from random import sample, randint\n",
    "#help(sample)\n",
    "#help(randint)"
   ]
  },
  {
   "cell_type": "code",
   "execution_count": 102,
   "metadata": {
    "slideshow": {
     "slide_type": "fragment"
    }
   },
   "outputs": [
    {
     "name": "stdout",
     "output_type": "stream",
     "text": [
      "['h', 'p', 'o', 'x', 'd', 't', 'l', 'b', 'k', 'g']\n",
      "unzvkrlcyw\n",
      "100\n"
     ]
    }
   ],
   "source": [
    "alfa=\"abcdefghijklmnñopqrstuvwxyz\"\n",
    "print(sample(alfa,10))\n",
    "print(\"\".join(sample(alfa,10)))\n",
    "print(randint(1,100))"
   ]
  },
  {
   "cell_type": "code",
   "execution_count": 103,
   "metadata": {
    "slideshow": {
     "slide_type": "slide"
    }
   },
   "outputs": [
    {
     "name": "stdout",
     "output_type": "stream",
     "text": [
      "100000\n"
     ]
    }
   ],
   "source": [
    "n = 100_000\n",
    "h_huge = {}\n",
    "for _ in range(n):\n",
    "    h_huge[\"\".join(sample(alfa,10))] = randint(1,100)\n",
    "print(len(h_huge))"
   ]
  },
  {
   "cell_type": "code",
   "execution_count": 104,
   "metadata": {
    "slideshow": {
     "slide_type": "slide"
    }
   },
   "outputs": [
    {
     "name": "stdout",
     "output_type": "stream",
     "text": [
      "yjqpvcnxgt 100\n",
      "yjqpvcnxgt 100\n"
     ]
    }
   ],
   "source": [
    "izena = zaharrena(h_huge)\n",
    "print(izena,h_huge[izena])\n",
    "\n",
    "zahar = zaharrena_b(h_huge)\n",
    "print(izena,h_huge[izena])"
   ]
  },
  {
   "cell_type": "markdown",
   "metadata": {
    "slideshow": {
     "slide_type": "slide"
    }
   },
   "source": [
    "Jupyter-ek berezkoak diren aginduak ditu (**ez dira python-eko aginduak**):\n",
    "\n",
    "   * [Built-in magic commands](https://ipython.readthedocs.io/en/stable/interactive/magics.html)\n",
    "   \n",
    "Exekuzio denborak neurtzeko, `%timeit` erabili dezakegu:"
   ]
  },
  {
   "cell_type": "code",
   "execution_count": 108,
   "metadata": {
    "slideshow": {
     "slide_type": "fragment"
    }
   },
   "outputs": [
    {
     "name": "stdout",
     "output_type": "stream",
     "text": [
      "140 ns ± 1.28 ns per loop (mean ± std. dev. of 7 runs, 10000000 loops each)\n",
      "151 ns ± 5.29 ns per loop (mean ± std. dev. of 7 runs, 10000000 loops each)\n",
      "98.1 ns ± 1.4 ns per loop (mean ± std. dev. of 7 runs, 10000000 loops each)\n"
     ]
    }
   ],
   "source": [
    "import math\n",
    "from math import sqrt\n",
    "\n",
    "x = 2\n",
    "\n",
    "%timeit x**0.5\n",
    "%timeit math.sqrt(x)\n",
    "%timeit sqrt(x)"
   ]
  },
  {
   "cell_type": "markdown",
   "metadata": {
    "slideshow": {
     "slide_type": "slide"
    }
   },
   "source": [
    "Konpara ditzagun orain hiru funtzioen exekuzio denborak:"
   ]
  },
  {
   "cell_type": "code",
   "execution_count": 109,
   "metadata": {
    "scrolled": true,
    "slideshow": {
     "slide_type": "-"
    }
   },
   "outputs": [
    {
     "name": "stdout",
     "output_type": "stream",
     "text": [
      "--- zaharrena  ---\n",
      "22.2 ms ± 23.7 µs per loop (mean ± std. dev. of 7 runs, 10 loops each)\n",
      "--- zaharrena_b  ---\n",
      "15.6 ms ± 75.1 µs per loop (mean ± std. dev. of 7 runs, 100 loops each)\n"
     ]
    }
   ],
   "source": [
    "print('--- zaharrena  ---')\n",
    "%timeit zaharrena(h_huge)\n",
    "\n",
    "print('--- zaharrena_b  ---')\n",
    "%timeit zaharrena_b(h_huge)"
   ]
  },
  {
   "cell_type": "markdown",
   "metadata": {
    "slideshow": {
     "slide_type": "slide"
    }
   },
   "source": [
    "`zahar_adina = -1` moduko hasieratzeak batzuetan arriskutsuak izan daitezke, argi izan behar dugu maximoa/minimoa baino balio handiagoa/txikiagoa izango dela beti. Lehen balioarekin hasieratzea zentzuzkoagoa da:"
   ]
  },
  {
   "cell_type": "code",
   "execution_count": 110,
   "metadata": {
    "slideshow": {
     "slide_type": "fragment"
    }
   },
   "outputs": [
    {
     "name": "stdout",
     "output_type": "stream",
     "text": [
      "Ainara\n"
     ]
    }
   ],
   "source": [
    "def zaharrena_c(h):\n",
    "    max_izena = list(h)[0]\n",
    "    max_adina = h[max_izena]\n",
    "    for izena in h :\n",
    "        adina = h[izena]\n",
    "        if adina > max_adina :\n",
    "            max_izena = izena\n",
    "            max_adina = adina\n",
    "    return max_izena\n",
    "\n",
    "h = {'Iñaki':24 , 'Ainara': 33 , 'Leire':27}\n",
    "print(zaharrena_c(h))"
   ]
  },
  {
   "cell_type": "markdown",
   "metadata": {
    "slideshow": {
     "slide_type": "slide"
    }
   },
   "source": [
    "Iteragarri baten 1. elementua lortzeko aukera ezberdinak daude (zerrenda osoa sortu beharrik izan gabe):"
   ]
  },
  {
   "cell_type": "code",
   "execution_count": 111,
   "metadata": {
    "slideshow": {
     "slide_type": "fragment"
    }
   },
   "outputs": [
    {
     "name": "stdout",
     "output_type": "stream",
     "text": [
      "Ainara\n"
     ]
    }
   ],
   "source": [
    "def zaharrena_d(h):\n",
    "    for max_izena in h:\n",
    "        break\n",
    "    max_adina = h[max_izena]\n",
    "    for izena in h :\n",
    "        adina = h[izena]\n",
    "        if adina > max_adina :\n",
    "            max_izena = izena\n",
    "            max_adina = adina\n",
    "    return max_izena\n",
    "\n",
    "h = {'Iñaki':24 , 'Ainara': 33 , 'Leire':27}\n",
    "print(zaharrena_d(h))"
   ]
  },
  {
   "cell_type": "markdown",
   "metadata": {
    "slideshow": {
     "slide_type": "slide"
    }
   },
   "source": [
    "Aurrerago ikusiko dugun moduan, *iteragarritasun* propietatea *iteradoreak* lortzeko gaitasunarekin erlazionatua dago:"
   ]
  },
  {
   "cell_type": "code",
   "execution_count": 112,
   "metadata": {
    "slideshow": {
     "slide_type": "fragment"
    }
   },
   "outputs": [
    {
     "name": "stdout",
     "output_type": "stream",
     "text": [
      "Ainara\n"
     ]
    }
   ],
   "source": [
    "def zaharrena_e(h):\n",
    "    max_izena = next(iter(h))\n",
    "    max_adina = h[max_izena]\n",
    "    for izena in h :\n",
    "        adina = h[izena]\n",
    "        if adina > max_adina :\n",
    "            max_izena = izena\n",
    "            max_adina = adina\n",
    "    return max_izena\n",
    "\n",
    "h = {'Iñaki':24 , 'Ainara': 33 , 'Leire':27}\n",
    "print(zaharrena_e(h))"
   ]
  },
  {
   "cell_type": "markdown",
   "metadata": {
    "slideshow": {
     "slide_type": "slide"
    }
   },
   "source": [
    "Python-en, funtzioak objektuak dira baita ere, eta beraz:\n",
    " * aldagai bati esleitu diezaiokegu\n",
    " * zerrenda batean sar dezakegu\n",
    " * ...\n",
    " \n",
    "Propietate hau oso interesgarria da funtzio ezberdinekin gauza berdinak egiun nahi ditugunean.\n",
    "\n",
    "Beste edonein objektu bezala, atributoak izan ditzakete. Horietako bat, `__name__` deritzona da, funtziooaren definizioan erabilitako izena, hain zuzen ere"
   ]
  },
  {
   "cell_type": "code",
   "execution_count": 113,
   "metadata": {
    "slideshow": {
     "slide_type": "-"
    }
   },
   "outputs": [
    {
     "name": "stdout",
     "output_type": "stream",
     "text": [
      "3.45\n",
      "abs\n"
     ]
    }
   ],
   "source": [
    "balio_absolutua = abs\n",
    "print(balio_absolutua(-3.45))\n",
    "print(balio_absolutua.__name__)"
   ]
  },
  {
   "cell_type": "markdown",
   "metadata": {
    "slideshow": {
     "slide_type": "slide"
    }
   },
   "source": [
    "Denen abiadura neurtzeko:"
   ]
  },
  {
   "cell_type": "code",
   "execution_count": 114,
   "metadata": {
    "slideshow": {
     "slide_type": "-"
    }
   },
   "outputs": [
    {
     "name": "stdout",
     "output_type": "stream",
     "text": [
      "--- zaharrena  ---\n",
      "22.2 ms ± 60.1 µs per loop (mean ± std. dev. of 7 runs, 10 loops each)\n",
      "--- zaharrena_b  ---\n",
      "15.9 ms ± 253 µs per loop (mean ± std. dev. of 7 runs, 100 loops each)\n",
      "--- zaharrena_c  ---\n",
      "17.3 ms ± 122 µs per loop (mean ± std. dev. of 7 runs, 100 loops each)\n",
      "--- zaharrena_d  ---\n",
      "15.6 ms ± 76.5 µs per loop (mean ± std. dev. of 7 runs, 100 loops each)\n",
      "--- zaharrena_e  ---\n",
      "15.7 ms ± 109 µs per loop (mean ± std. dev. of 7 runs, 100 loops each)\n"
     ]
    }
   ],
   "source": [
    "for f in (zaharrena,zaharrena_b,zaharrena_c,zaharrena_d,zaharrena_e):\n",
    "    print(f'--- {f.__name__}  ---')\n",
    "    %timeit f(h_huge)"
   ]
  },
  {
   "cell_type": "markdown",
   "metadata": {
    "slideshow": {
     "slide_type": "slide"
    }
   },
   "source": [
    "Ebazpen honi buruz...\n",
    "\n",
    "* Hiztegi baten indexazioa (`h[x]`) bizkorra bada ere (aurrerago aztertuko dugu), **ez da arbuiagarria**.\n",
    "* Hiztegiaren gakoak zeharkatu, balioak kontsultatzeko... GAIZKI"
   ]
  },
  {
   "cell_type": "code",
   "execution_count": 115,
   "metadata": {
    "slideshow": {
     "slide_type": "slide"
    }
   },
   "outputs": [
    {
     "name": "stdout",
     "output_type": "stream",
     "text": [
      "Ainara\n"
     ]
    }
   ],
   "source": [
    "def zaharrena2(h):\n",
    "    izena_zahar,adina_zahar = next(iter(h.items()))\n",
    "    for izena,adina in h.items() :\n",
    "        if adina > adina_zahar :\n",
    "            izena_zahar = izena\n",
    "            adina_zahar = adina\n",
    "    return izena_zahar\n",
    "\n",
    "h = {'Iñaki':24 , 'Ainara': 33 , 'Leire':27}\n",
    "print(zaharrena2(h))"
   ]
  },
  {
   "cell_type": "markdown",
   "metadata": {
    "slideshow": {
     "slide_type": "slide"
    }
   },
   "source": [
    "Baina... benetan... ba al dago ezberdintasun nabaririk modu batean ala bestean eginez gero? **Ikustagun**:"
   ]
  },
  {
   "cell_type": "code",
   "execution_count": 116,
   "metadata": {
    "slideshow": {
     "slide_type": "-"
    }
   },
   "outputs": [
    {
     "name": "stdout",
     "output_type": "stream",
     "text": [
      "--- zaharrena  ---\n",
      "21.4 ms ± 248 µs per loop (mean ± std. dev. of 7 runs, 10 loops each)\n",
      "--- zaharrena_b  ---\n",
      "15.3 ms ± 55.5 µs per loop (mean ± std. dev. of 7 runs, 100 loops each)\n",
      "--- zaharrena_c  ---\n",
      "16.8 ms ± 81.1 µs per loop (mean ± std. dev. of 7 runs, 100 loops each)\n",
      "--- zaharrena_d  ---\n",
      "15.2 ms ± 71.7 µs per loop (mean ± std. dev. of 7 runs, 100 loops each)\n",
      "--- zaharrena_e  ---\n",
      "15.2 ms ± 51 µs per loop (mean ± std. dev. of 7 runs, 100 loops each)\n",
      "--- zaharrena2  ---\n",
      "8.66 ms ± 37.4 µs per loop (mean ± std. dev. of 7 runs, 100 loops each)\n"
     ]
    }
   ],
   "source": [
    "for f in (zaharrena,zaharrena_b,zaharrena_c,zaharrena_d,zaharrena_e,zaharrena2):\n",
    "    print(f'--- {f.__name__}  ---')\n",
    "    %timeit f(h_huge)"
   ]
  },
  {
   "cell_type": "markdown",
   "metadata": {
    "slideshow": {
     "slide_type": "-"
    }
   },
   "source": [
    "<table border=\"0\" width=\"100%\" style=\"margin: 0px;\">\n",
    "<tr>  \n",
    "  <td style=\"text-align:left\"><a href=\"NKoteak.ipynb\">&lt; &lt; N-Koteak &lt; &lt;</a></td>\n",
    "  <td style=\"text-align:right\"><a href=\"Multzoak.ipynb\">&gt; &gt; Multzoak &gt; &gt;</a></td>\n",
    "</tr>\n",
    "</table>"
   ]
  }
 ],
 "metadata": {
  "celltoolbar": "Slideshow",
  "kernelspec": {
   "display_name": "Python 3",
   "language": "python",
   "name": "python3"
  },
  "language_info": {
   "codemirror_mode": {
    "name": "ipython",
    "version": 3
   },
   "file_extension": ".py",
   "mimetype": "text/x-python",
   "name": "python",
   "nbconvert_exporter": "python",
   "pygments_lexer": "ipython3",
   "version": "3.7.6"
  },
  "rise": {
   "autolaunch": false,
   "footer": "<h2 align=\"center\">Konputaziorako Sarrera</h2>",
   "scroll": true
  }
 },
 "nbformat": 4,
 "nbformat_minor": 2
}
