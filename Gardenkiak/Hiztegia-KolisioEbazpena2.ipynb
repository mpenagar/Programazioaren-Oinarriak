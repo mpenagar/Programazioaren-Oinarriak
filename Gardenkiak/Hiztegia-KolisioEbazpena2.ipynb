{
 "cells": [
  {
   "cell_type": "markdown",
   "metadata": {
    "slideshow": {
     "slide_type": "slide"
    }
   },
   "source": [
    "# Hiztegi baten inplementazioa\n",
    "\n",
    "\n",
    "## Kolisioen ebazpena II : Helbideratze Irekia (*Open addressing*)\n",
    "\n",
    "* $g$ gako bati taulan dagokion posizioa ez da $i \\; = \\; hash(g)\\; \\% \\; N$ izango\n",
    "* $i$ posiziotik abiatuko gara\n",
    "    * elementua topatu arte\n",
    "    * gelaxka huts bat topatu arte\n",
    "* $LF \\; \\le \\; 1$\n",
    "   * Kolisio tasa mugatzeko: $LF \\; < \\; 0.7$"
   ]
  },
  {
   "cell_type": "markdown",
   "metadata": {
    "slideshow": {
     "slide_type": "slide"
    }
   },
   "source": [
    "Hiztegi berri bat sortzeko funtzioa, `dict()`-en baliokidea"
   ]
  },
  {
   "cell_type": "code",
   "execution_count": 4,
   "metadata": {
    "slideshow": {
     "slide_type": "fragment"
    }
   },
   "outputs": [],
   "source": [
    "def h_new(n=7):\n",
    "    return [None] * n"
   ]
  },
  {
   "cell_type": "markdown",
   "metadata": {
    "slideshow": {
     "slide_type": "fragment"
    }
   },
   "source": [
    "Sortu hiztegi bate ta *eskuz* gorde ondokoak: `3:'hiru'` eta `'lau':4`"
   ]
  },
  {
   "cell_type": "code",
   "execution_count": 5,
   "metadata": {
    "slideshow": {
     "slide_type": "fragment"
    }
   },
   "outputs": [
    {
     "name": "stdout",
     "output_type": "stream",
     "text": [
      "[None, None, ('lau', 4), (3, 'hiru'), None, None, None]\n"
     ]
    }
   ],
   "source": [
    "h = h_new()\n",
    "h[hash(3)%len(h)] = (3,'hiru')\n",
    "h[hash('lau')%len(h)] = ('lau',4)\n",
    "print(h)"
   ]
  },
  {
   "cell_type": "markdown",
   "metadata": {
    "slideshow": {
     "slide_type": "slide"
    }
   },
   "source": [
    "Hiztegi baten `(gako,balio)` bikote zerrenda bueltatuko duen funtzioa, `dict.items()`-ren baliokidea"
   ]
  },
  {
   "cell_type": "code",
   "execution_count": 6,
   "metadata": {
    "slideshow": {
     "slide_type": "fragment"
    }
   },
   "outputs": [],
   "source": [
    "def h_items(h):\n",
    "    z = []\n",
    "    for x in h :\n",
    "        if x :\n",
    "            z.append(x)\n",
    "    return z"
   ]
  },
  {
   "cell_type": "code",
   "execution_count": 7,
   "metadata": {
    "slideshow": {
     "slide_type": "fragment"
    }
   },
   "outputs": [
    {
     "name": "stdout",
     "output_type": "stream",
     "text": [
      "h zerrendako elementuak: None None ('lau', 4) (3, 'hiru') None None None\n",
      "h hiztegiko elementuak: ('lau', 4) (3, 'hiru')\n"
     ]
    }
   ],
   "source": [
    "print('h zerrendako elementuak:',*h)\n",
    "print('h hiztegiko elementuak:',*h_items(h))"
   ]
  },
  {
   "cell_type": "markdown",
   "metadata": {
    "slideshow": {
     "slide_type": "slide"
    }
   },
   "source": [
    "Hiztegi baten tamaina bueltatuko duen funtzioa, `len()`-ren baliokidea"
   ]
  },
  {
   "cell_type": "code",
   "execution_count": 5,
   "metadata": {
    "slideshow": {
     "slide_type": "fragment"
    }
   },
   "outputs": [],
   "source": [
    "def h_len(h):\n",
    "    n = 0\n",
    "    for x in h :\n",
    "        if x :\n",
    "            n += 1\n",
    "    return n\n",
    "\n",
    "def h_len2(h):\n",
    "    return len(h_items(h))"
   ]
  },
  {
   "cell_type": "code",
   "execution_count": 6,
   "metadata": {
    "slideshow": {
     "slide_type": "fragment"
    }
   },
   "outputs": [
    {
     "name": "stdout",
     "output_type": "stream",
     "text": [
      "h zerrendaren tamaina: 7\n",
      "h hiztegiaren tamaina: 2\n",
      "h hiztegiaren tamaina: 2\n"
     ]
    }
   ],
   "source": [
    "print(f'h zerrendaren tamaina: {len(h)}')\n",
    "print(f'h hiztegiaren tamaina: {h_len(h)}')\n",
    "print(f'h hiztegiaren tamaina: {h_len2(h)}')"
   ]
  },
  {
   "cell_type": "markdown",
   "metadata": {
    "slideshow": {
     "slide_type": "slide"
    }
   },
   "source": [
    "Hiztegi batetik karaktere kate bat sortzeko funtzioa, `str()`-ren baliokidea"
   ]
  },
  {
   "cell_type": "code",
   "execution_count": 7,
   "metadata": {
    "slideshow": {
     "slide_type": "fragment"
    }
   },
   "outputs": [],
   "source": [
    "def h_str(h):\n",
    "    z = []\n",
    "    for k,v in h_items(h) :\n",
    "        z.append(repr(k) + ':' + repr(v))\n",
    "    return '{ ' + ' , '.join(z) + ' }'"
   ]
  },
  {
   "cell_type": "code",
   "execution_count": 8,
   "metadata": {
    "slideshow": {
     "slide_type": "fragment"
    }
   },
   "outputs": [
    {
     "name": "stdout",
     "output_type": "stream",
     "text": [
      "[None, None, ('lau', 4), (3, 'hiru'), None, None, None]\n",
      "{ 'lau':4 , 3:'hiru' }\n"
     ]
    }
   ],
   "source": [
    "print(str(h))\n",
    "print(h_str(h))"
   ]
  },
  {
   "cell_type": "markdown",
   "metadata": {
    "slideshow": {
     "slide_type": "slide"
    }
   },
   "source": [
    "Gako bati dagokion balioa kontsultatzeko funtzioa, `dict.get()`-en baliokidea"
   ]
  },
  {
   "cell_type": "code",
   "execution_count": 16,
   "metadata": {
    "slideshow": {
     "slide_type": "fragment"
    }
   },
   "outputs": [],
   "source": [
    "def h_get(h,k,d=None):\n",
    "    i = hash(k) % len(h)\n",
    "    while h[i] :\n",
    "        k2,v2 = h[i]\n",
    "        if k2 == k :\n",
    "            return v2\n",
    "        i = (i+1) % len(h)\n",
    "    return d "
   ]
  },
  {
   "cell_type": "code",
   "execution_count": 19,
   "metadata": {
    "slideshow": {
     "slide_type": "fragment"
    }
   },
   "outputs": [
    {
     "name": "stdout",
     "output_type": "stream",
     "text": [
      "[None, None, ('lau', 4), (3, 'hiru'), None, None, None]\n",
      "{ 'lau':4 , 3:'hiru' }\n",
      "hizt[3] = hiru\n",
      "hizt[\"hiru\"] = None\n",
      "hizt[\"lau\"] = 4\n",
      "hizt[4] = None , baina h[2]=('lau', 4)\n"
     ]
    }
   ],
   "source": [
    "print(h)\n",
    "print(h_str(h))\n",
    "print(f'hizt[3] = {h_get(h,3)}')\n",
    "print(f'hizt[\"hiru\"] = {h_get(h,\"hiru\")}')\n",
    "print(f'hizt[\"lau\"] = {h_get(h,\"lau\")}')\n",
    "print(f'hizt[4] = {h_get(h,4)} , baina h[2]={h[2]}')"
   ]
  },
  {
   "cell_type": "markdown",
   "metadata": {
    "slideshow": {
     "slide_type": "slide"
    }
   },
   "source": [
    "Hiztegi batetan gako bati dagokion balioa gordeko duen funtzioa, `h[k]=v`-en baliokidea."
   ]
  },
  {
   "cell_type": "code",
   "execution_count": 23,
   "metadata": {
    "slideshow": {
     "slide_type": "fragment"
    }
   },
   "outputs": [],
   "source": [
    "def h_put(h,k,v,check_lf=True):\n",
    "    i = hash(k) % len(h)\n",
    "    while h[i] :\n",
    "        k2,v2 = h[i]\n",
    "        if k2 == k :\n",
    "            h[i] = (k,v)\n",
    "        i = (i+1) % len(h)\n",
    "    h[i] = (k,v)\n",
    "    if check_lf :\n",
    "        # LF < 0.7\n",
    "        if h_len(h) / len(h) >= 0.7 :\n",
    "            h_resize(h,int(len(h)*1.7),check_lf=False)"
   ]
  },
  {
   "cell_type": "markdown",
   "metadata": {
    "slideshow": {
     "slide_type": "slide"
    }
   },
   "source": [
    "Hiztegi baten *barne tamaina* aldatuko duen funtzioa"
   ]
  },
  {
   "cell_type": "code",
   "execution_count": 24,
   "metadata": {
    "hide_input": false,
    "slideshow": {
     "slide_type": "fragment"
    }
   },
   "outputs": [],
   "source": [
    "def h_resize(h,n):\n",
    "    check_lf = n < len(h)\n",
    "    items = h_items(h)\n",
    "    h.clear()\n",
    "    h.extend([None] * n)\n",
    "    for k,v in items :\n",
    "        h_put(h,k,v,check_lf)"
   ]
  },
  {
   "cell_type": "markdown",
   "metadata": {
    "slideshow": {
     "slide_type": "slide"
    }
   },
   "source": [
    "`h_put()` eta `h_resize()` biak batera frogatuko ditugu..."
   ]
  },
  {
   "cell_type": "code",
   "execution_count": 27,
   "metadata": {
    "slideshow": {
     "slide_type": "fragment"
    }
   },
   "outputs": [
    {
     "name": "stdout",
     "output_type": "stream",
     "text": [
      "--------------------------------------------------\n",
      " 7 [None, None, ('lau', 4), (3, 'hiru'), None, None, None]\n",
      "{ 'lau':4 , 3:'hiru' }\n",
      "--------------------------------------------------\n",
      " 9 [None, None, None, (3, 'hiru'), None, ('lau', 4), None, None, None]\n",
      "{ 3:'hiru' , 'lau':4 }\n"
     ]
    }
   ],
   "source": [
    "h = h_new()\n",
    "h_put(h,3,'hiru')\n",
    "h_put(h,'lau',4)\n",
    "\n",
    "print('-'*50+'\\n',len(h),h)\n",
    "print(h_str(h))\n",
    "\n",
    "h_resize(h,9)\n",
    "print('-'*50+'\\n',len(h),h)\n",
    "print(h_str(h))\n"
   ]
  },
  {
   "cell_type": "markdown",
   "metadata": {
    "slideshow": {
     "slide_type": "slide"
    }
   },
   "source": [
    "Frogak egin ditzagun...."
   ]
  },
  {
   "cell_type": "code",
   "execution_count": 32,
   "metadata": {},
   "outputs": [
    {
     "name": "stdout",
     "output_type": "stream",
     "text": [
      "18 10\n",
      "[(0, '0'), (1, '1'), (2, '2'), (3, '3'), (4, '4'), (5, '5'), (6, '6'), (7, '7'), (8, '8'), (9, '9'), None, None, None, None, None, None, None, None]\n",
      "146 100\n",
      "[(0, '0'), (1, '1'), (2, '2'), (3, '3'), (4, '4'), (5, '5'), (6, '6'), (7, '7'), (8, '8'), (9, '9'), (10, '10'), (11, '11'), (12, '12'), (13, '13'), (14, '14'), (15, '15'), (16, '16'), (17, '17'), (18, '18'), (19, '19'), (20, '20'), (21, '21'), (22, '22'), (23, '23'), (24, '24'), (25, '25'), (26, '26'), (27, '27'), (28, '28'), (29, '29'), (30, '30'), (31, '31'), (32, '32'), (33, '33'), (34, '34'), (35, '35'), (36, '36'), (37, '37'), (38, '38'), (39, '39'), (40, '40'), (41, '41'), (42, '42'), (43, '43'), (44, '44'), (45, '45'), (46, '46'), (47, '47'), (48, '48'), (49, '49'), (50, '50'), (51, '51'), (52, '52'), (53, '53'), (54, '54'), (55, '55'), (56, '56'), (57, '57'), (58, '58'), (59, '59'), (60, '60'), (61, '61'), (62, '62'), (63, '63'), (64, '64'), (65, '65'), (66, '66'), (67, '67'), (68, '68'), (69, '69'), (70, '70'), (71, '71'), (72, '72'), (73, '73'), (74, '74'), (75, '75'), (76, '76'), (77, '77'), (78, '78'), (79, '79'), (80, '80'), (81, '81'), (82, '82'), (83, '83'), (84, '84'), (85, '85'), (86, '86'), (87, '87'), (88, '88'), (89, '89'), (90, '90'), (91, '91'), (92, '92'), (93, '93'), (94, '94'), (95, '95'), (96, '96'), (97, '97'), (98, '98'), (99, '99'), None, None, None, None, None, None, None, None, None, None, None, None, None, None, None, None, None, None, None, None, None, None, None, None, None, None, None, None, None, None, None, None, None, None, None, None, None, None, None, None, None, None, None, None, None, None]\n",
      "2065 1000\n",
      "17243 10000\n"
     ]
    }
   ],
   "source": [
    "for n in 10,100,1000,10000 :\n",
    "    h = h_new()\n",
    "    for i in range(n):\n",
    "        h_put(h,i,str(i))\n",
    "    print(len(h),h_len(h))\n",
    "    if len(h) < 1000 :\n",
    "        print(h)"
   ]
  },
  {
   "cell_type": "markdown",
   "metadata": {
    "slideshow": {
     "slide_type": "fragment"
    }
   },
   "source": [
    "Zenbaki osoen hash balioa bere burua delako, `h` zerrendaren tamaina gordetzen ari garen `i` gako handiena baina handiagoa izatea nahikoa da... **EZ DA KOLISIORIK EGONGO**"
   ]
  },
  {
   "cell_type": "code",
   "execution_count": 31,
   "metadata": {
    "slideshow": {
     "slide_type": "slide"
    }
   },
   "outputs": [
    {
     "name": "stdout",
     "output_type": "stream",
     "text": [
      "18 10\n",
      "[('5', 5), ('3', 3), None, None, ('9', 9), None, ('4', 4), None, None, ('2', 2), ('8', 8), ('6', 6), None, None, ('0', 0), None, ('1', 1), ('7', 7)]\n",
      "146 100\n",
      "[('90', 90), None, None, ('36', 36), ('12', 12), None, ('21', 21), None, ('48', 48), None, ('17', 17), ('19', 19), ('31', 31), ('59', 59), ('85', 85), ('58', 58), ('95', 95), None, None, ('94', 94), ('9', 9), ('16', 16), ('20', 20), ('39', 39), ('42', 42), ('64', 64), ('68', 68), ('7', 7), ('74', 74), None, ('84', 84), ('98', 98), ('66', 66), ('11', 11), ('53', 53), ('28', 28), ('87', 87), None, ('88', 88), ('38', 38), ('54', 54), ('13', 13), ('8', 8), ('69', 69), ('56', 56), ('79', 79), ('89', 89), None, None, ('78', 78), None, None, ('29', 29), ('44', 44), ('33', 33), None, None, None, None, None, ('4', 4), None, None, ('67', 67), None, None, ('10', 10), ('37', 37), ('70', 70), ('80', 80), ('91', 91), ('99', 99), None, None, None, ('46', 46), None, None, ('34', 34), ('6', 6), ('25', 25), ('61', 61), ('62', 62), ('52', 52), None, ('81', 81), ('24', 24), ('18', 18), ('43', 43), ('72', 72), None, None, None, None, ('86', 86), ('71', 71), None, ('32', 32), ('1', 1), ('63', 63), ('92', 92), ('3', 3), ('41', 41), ('73', 73), None, None, None, None, ('60', 60), ('0', 0), ('40', 40), ('51', 51), ('5', 5), ('30', 30), ('65', 65), ('2', 2), None, ('97', 97), ('77', 77), None, ('50', 50), ('83', 83), None, ('35', 35), ('22', 22), ('15', 15), ('82', 82), ('49', 49), None, None, ('14', 14), ('27', 27), ('26', 26), ('76', 76), None, ('23', 23), ('45', 45), ('47', 47), ('96', 96), ('55', 55), None, None, ('57', 57), ('93', 93), None, ('75', 75)]\n",
      "2065 1000\n",
      "17243 10000\n"
     ]
    }
   ],
   "source": [
    "for n in 10,100,1000,10000 :\n",
    "    h = h_new()\n",
    "    for i in range(n):\n",
    "        h_put(h,str(i),i)\n",
    "    print(len(h),h_len(h))\n",
    "    if len(h) < 1000 :\n",
    "        print(h)"
   ]
  },
  {
   "cell_type": "markdown",
   "metadata": {
    "slideshow": {
     "slide_type": "slide"
    }
   },
   "source": [
    "Lehenengo kasuan, gakoak `[0,n]` tarteko zenbakiak izan beharrean auzazkoak izan balira..."
   ]
  },
  {
   "cell_type": "code",
   "execution_count": 33,
   "metadata": {
    "slideshow": {
     "slide_type": "fragment"
    }
   },
   "outputs": [
    {
     "name": "stdout",
     "output_type": "stream",
     "text": [
      "18 10\n",
      "[None, (993856429, 'KAKA!'), (230995352, 'KAKA!'), (401499811, 'KAKA!'), (906925018, 'KAKA!'), None, (531333816, 'KAKA!'), None, (796369742, 'KAKA!'), None, (161651566, 'KAKA!'), None, None, None, None, (382689429, 'KAKA!'), (216732202, 'KAKA!'), (929514149, 'KAKA!')]\n",
      "146 100\n",
      "[(323231589, 'KAKA!'), None, (167658518, 'KAKA!'), (66316560, 'KAKA!'), None, (757034241, 'KAKA!'), (388340003, 'KAKA!'), None, (270628674, 'KAKA!'), (586624651, 'KAKA!'), (394040432, 'KAKA!'), (698428679, 'KAKA!'), (885151292, 'KAKA!'), (889495377, 'KAKA!'), (959884167, 'KAKA!'), (823705151, 'KAKA!'), (120451476, 'KAKA!'), (609655134, 'KAKA!'), (612200938, 'KAKA!'), (377299783, 'KAKA!'), (447297446, 'KAKA!'), (847366793, 'KAKA!'), (148077602, 'KAKA!'), (362163243, 'KAKA!'), (369259134, 'KAKA!'), (384575995, 'KAKA!'), (100185080, 'KAKA!'), (119361889, 'KAKA!'), (754784696, 'KAKA!'), (784116674, 'KAKA!'), None, (771853121, 'KAKA!'), None, None, (652252260, 'KAKA!'), (526180238, 'KAKA!'), None, (267590881, 'KAKA!'), (166244836, 'KAKA!'), (182002471, 'KAKA!'), (491112794, 'KAKA!'), (981949613, 'KAKA!'), (448320198, 'KAKA!'), None, None, None, None, (527119177, 'KAKA!'), None, None, None, (109283679, 'KAKA!'), (718713959, 'KAKA!'), (724200057, 'KAKA!'), (950452462, 'KAKA!'), (917254251, 'KAKA!'), None, (772609865, 'KAKA!'), (628148121, 'KAKA!'), (881652011, 'KAKA!'), (122285864, 'KAKA!'), (737108363, 'KAKA!'), (686646822, 'KAKA!'), (357634071, 'KAKA!'), None, None, None, (6665259, 'KAKA!'), (690769576, 'KAKA!'), (830906071, 'KAKA!'), (707063759, 'KAKA!'), (991999261, 'KAKA!'), None, (337767423, 'KAKA!'), (386533322, 'KAKA!'), (42214807, 'KAKA!'), None, None, None, None, None, (379916463, 'KAKA!'), (654096580, 'KAKA!'), (47530675, 'KAKA!'), (432738244, 'KAKA!'), (87286182, 'KAKA!'), (713885628, 'KAKA!'), (555084641, 'KAKA!'), (263950568, 'KAKA!'), None, None, (322894713, 'KAKA!'), (667782921, 'KAKA!'), (582521988, 'KAKA!'), (562865717, 'KAKA!'), None, (839237442, 'KAKA!'), (28611278, 'KAKA!'), None, None, None, (821508521, 'KAKA!'), (740761761, 'KAKA!'), None, (534619692, 'KAKA!'), None, (769141684, 'KAKA!'), None, (936349062, 'KAKA!'), (812370827, 'KAKA!'), (320907087, 'KAKA!'), (271886421, 'KAKA!'), (674117444, 'KAKA!'), (804085181, 'KAKA!'), None, (478775871, 'KAKA!'), (940114702, 'KAKA!'), (409533913, 'KAKA!'), (75477008, 'KAKA!'), None, (676620184, 'KAKA!'), (47472605, 'KAKA!'), (703561858, 'KAKA!'), (784620620, 'KAKA!'), (705848947, 'KAKA!'), (382550780, 'KAKA!'), None, None, (922479520, 'KAKA!'), None, (722397034, 'KAKA!'), (705622949, 'KAKA!'), None, (145793835, 'KAKA!'), (176829347, 'KAKA!'), (457187455, 'KAKA!'), (89058967, 'KAKA!'), None, None, None, (710920422, 'KAKA!'), None, None, None, None, (688981007, 'KAKA!')]\n",
      "2065 1000\n",
      "17243 10000\n"
     ]
    }
   ],
   "source": [
    "from random import randrange\n",
    "for n in 10,100,1000,10000 :\n",
    "    h = h_new()\n",
    "    for i in range(n):\n",
    "        h_put(h,randrange(1000000000),'KAKA!')\n",
    "    print(len(h),h_len(h))\n",
    "    if len(h) < 1000 :\n",
    "        print(h)"
   ]
  }
 ],
 "metadata": {
  "celltoolbar": "Slideshow",
  "kernelspec": {
   "display_name": "Python 3",
   "language": "python",
   "name": "python3"
  },
  "language_info": {
   "codemirror_mode": {
    "name": "ipython",
    "version": 3
   },
   "file_extension": ".py",
   "mimetype": "text/x-python",
   "name": "python",
   "nbconvert_exporter": "python",
   "pygments_lexer": "ipython3",
   "version": "3.7.6"
  }
 },
 "nbformat": 4,
 "nbformat_minor": 2
}
