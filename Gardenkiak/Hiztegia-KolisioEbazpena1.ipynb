{
 "cells": [
  {
   "cell_type": "markdown",
   "metadata": {
    "slideshow": {
     "slide_type": "slide"
    }
   },
   "source": [
    "# Hiztegi baten inplementazioa\n",
    "\n",
    "## Kolisioen ebazpena I : Taula berdimentsionatu\n",
    "\n",
    "* $g$ gako bati taulan dagokion posizioa: $i \\; = \\; hash(g)\\; \\% \\; N$\n",
    "   * $i$ posizioan `(gako,balio)` bikotea gordeko da\n",
    "   * Hutsik dagoen gelaxkan, `None` egongo da\n",
    "* Kolisio bat ematen den bakoitzean, taularen tamaina handitu.\n",
    "* $LF \\; \\ll \\; 1$\n"
   ]
  },
  {
   "cell_type": "markdown",
   "metadata": {
    "slideshow": {
     "slide_type": "slide"
    }
   },
   "source": [
    "#### 1 - Hiztegi berri bat sortzeko funtzioa, `dict()`-en baliokidea"
   ]
  },
  {
   "cell_type": "code",
   "execution_count": null,
   "metadata": {
    "slideshow": {
     "slide_type": "fragment"
    }
   },
   "outputs": [],
   "source": [
    "def h_new(N = 7):\n",
    "    return [None]*N\n",
    "    \n",
    "h_new(12)"
   ]
  },
  {
   "cell_type": "markdown",
   "metadata": {
    "slideshow": {
     "slide_type": "fragment"
    }
   },
   "source": [
    "#### 2 - Sortu hiztegi bat eta *eskuz* gorde ondokoak: `3:'hiru'` eta `'lau':4`"
   ]
  },
  {
   "cell_type": "code",
   "execution_count": null,
   "metadata": {
    "slideshow": {
     "slide_type": "fragment"
    }
   },
   "outputs": [],
   "source": [
    "h = h_new()\n",
    "h[hash(3) % len(h)] = (3,'hiru')\n",
    "h[hash('lau') % len(h)] = ('lau',4)\n",
    "print(h)\n",
    "hash(3)%7,hash('lau')%7"
   ]
  },
  {
   "cell_type": "markdown",
   "metadata": {
    "slideshow": {
     "slide_type": "slide"
    }
   },
   "source": [
    "#### 3 - Hiztegi baten `(gako,balio)` bikote zerrenda bueltatuko duen funtzioa, `dict.items()`-ren baliokidea"
   ]
  },
  {
   "cell_type": "code",
   "execution_count": null,
   "metadata": {
    "slideshow": {
     "slide_type": "fragment"
    }
   },
   "outputs": [],
   "source": [
    "def h_items(h):\n",
    "    z = []\n",
    "    for x in h :\n",
    "        if x != None :\n",
    "            z.append(x)\n",
    "    return z\n",
    "def h_items(h):\n",
    "    z = []\n",
    "    for x in h :\n",
    "        if x :\n",
    "            z.append(x)\n",
    "    return z\n",
    "def h_items(h):\n",
    "    return  [x for x in h if x ]"
   ]
  },
  {
   "cell_type": "code",
   "execution_count": null,
   "metadata": {
    "slideshow": {
     "slide_type": "fragment"
    }
   },
   "outputs": [],
   "source": [
    "print('h \"zerrendako\" elementuak:',*h)\n",
    "print('h \"hiztegiko\" elementuak:',*h_items(h))"
   ]
  },
  {
   "cell_type": "markdown",
   "metadata": {
    "slideshow": {
     "slide_type": "slide"
    }
   },
   "source": [
    "#### 4 - Hiztegi baten tamaina bueltatuko duen funtzioa, `len()`-ren baliokidea"
   ]
  },
  {
   "cell_type": "code",
   "execution_count": null,
   "metadata": {
    "slideshow": {
     "slide_type": "fragment"
    }
   },
   "outputs": [],
   "source": [
    "def h_len(h):\n",
    "    n = 0\n",
    "    for x in h :\n",
    "        if x != None :\n",
    "            n += 1\n",
    "    return n\n",
    "def h_len(h):\n",
    "    n = 0\n",
    "    for x in h :\n",
    "        if x :\n",
    "            n += 1\n",
    "    return n\n",
    "def h_len(h):\n",
    "    #return sum([1 for x in h if x])\n",
    "    #return sum(1 for x in h if x)\n",
    "    # bool(None)==False, bool((g,b))==True\n",
    "    # 1==int(True),0==int(False)    \n",
    "    #return sum(int(bool(x)) for x in h)\n",
    "    # 1+True+False+True == 3\n",
    "    return sum(bool(x) for x in h)\n",
    "\n",
    "#def h_len(h):\n",
    "#    return len(h_items(h))"
   ]
  },
  {
   "cell_type": "code",
   "execution_count": null,
   "metadata": {
    "slideshow": {
     "slide_type": "fragment"
    }
   },
   "outputs": [],
   "source": [
    "print(f'h \"zerrendaren\" tamaina: {len(h)}')\n",
    "print(f'h \"hiztegiaren\" tamaina: {h_len(h)}')"
   ]
  },
  {
   "cell_type": "markdown",
   "metadata": {
    "slideshow": {
     "slide_type": "slide"
    }
   },
   "source": [
    "#### 5 - Hiztegi batetik karaktere kate bat sortzeko funtzioa, `str()`-ren baliokidea"
   ]
  },
  {
   "cell_type": "code",
   "execution_count": null,
   "metadata": {},
   "outputs": [],
   "source": [
    "s = {1:2,3:'kaixo'}\n",
    "print(s)\n",
    "print(str(s))\n",
    "str(s)"
   ]
  },
  {
   "cell_type": "code",
   "execution_count": null,
   "metadata": {
    "slideshow": {
     "slide_type": "fragment"
    }
   },
   "outputs": [],
   "source": [
    "def h_str(h):\n",
    "    z = []\n",
    "    for g,b in h_items(h):\n",
    "        z.append(repr(g) + ': ' + repr(b))\n",
    "    return '{' + ', '.join(z) + '}'\n",
    "def h_str(h):\n",
    "    z = [repr(g) + ': ' + repr(b) for g,b in h_items(h)]\n",
    "    return '{' + ', '.join(z) + '}'\n",
    "def h_str(h):\n",
    "    g = (repr(g) + ': ' + repr(b) for g,b in h_items(h))\n",
    "    return '{' + ', '.join(g) + '}'"
   ]
  },
  {
   "cell_type": "code",
   "execution_count": null,
   "metadata": {
    "slideshow": {
     "slide_type": "fragment"
    }
   },
   "outputs": [],
   "source": [
    "print(str(h))\n",
    "print(h_str(h))"
   ]
  },
  {
   "cell_type": "markdown",
   "metadata": {
    "slideshow": {
     "slide_type": "slide"
    }
   },
   "source": [
    "#### 6 - Gako bati dagokion balioa kontsultatzeko funtzioa, `dict.get()`-en baliokidea"
   ]
  },
  {
   "cell_type": "code",
   "execution_count": null,
   "metadata": {
    "slideshow": {
     "slide_type": "fragment"
    }
   },
   "outputs": [],
   "source": [
    "def h_get(h,g,d=None):\n",
    "    x = h[hash(g) % len(h)] \n",
    "    if x != None :\n",
    "        g2,b2 = x\n",
    "        if g2 == g :\n",
    "            return b2\n",
    "        else :\n",
    "            return d\n",
    "    else :\n",
    "        return d\n",
    "    \n",
    "def h_get(h,g,d=None):\n",
    "    x = h[hash(g) % len(h)] \n",
    "    if x != None :\n",
    "        g2,b2 = x\n",
    "        if g2 == g :\n",
    "            return b2\n",
    "    return d"
   ]
  },
  {
   "cell_type": "code",
   "execution_count": null,
   "metadata": {
    "slideshow": {
     "slide_type": "slide"
    }
   },
   "outputs": [],
   "source": [
    "print(h)\n",
    "print(h_str(h))\n",
    "print(f'hizt[3] = {h_get(h,3)}')\n",
    "print(f'hizt[1] = {h_get(h,1)}')\n",
    "print(f'hizt[\"lau\"] = {h_get(h,\"lau\")}')\n",
    "print(f'hizt[4] = {h_get(h,4)}')"
   ]
  },
  {
   "cell_type": "markdown",
   "metadata": {
    "slideshow": {
     "slide_type": "slide"
    }
   },
   "source": [
    "#### 7 - Hiztegi batetan gako bati dagokion balioa gordeko duen funtzioa, `h[k]=v`-en baliokidea."
   ]
  },
  {
   "cell_type": "code",
   "execution_count": null,
   "metadata": {
    "slideshow": {
     "slide_type": "fragment"
    }
   },
   "outputs": [],
   "source": [
    "def h_put(h,k,v):\n",
    "    i = hash(k) % len(h)\n",
    "    x = h[i] \n",
    "    if x != None :\n",
    "        k2,v2 = x\n",
    "        if k2 == k :\n",
    "            h[i] = (k,v)\n",
    "        else :\n",
    "            # KOLISIOA!!!!!\n",
    "            h_resize(h,len(h)*2)\n",
    "            h_put(h,k,v)\n",
    "    else :\n",
    "        h[i] = (k,v)    "
   ]
  },
  {
   "cell_type": "markdown",
   "metadata": {
    "slideshow": {
     "slide_type": "fragment"
    }
   },
   "source": [
    "`h_resize()` funtzio bat behar dugu..."
   ]
  },
  {
   "cell_type": "markdown",
   "metadata": {
    "slideshow": {
     "slide_type": "slide"
    }
   },
   "source": [
    "Saia gaitezen `h_put(h,k,v)`errekurtsibitatea ebitatzen..."
   ]
  },
  {
   "cell_type": "code",
   "execution_count": null,
   "metadata": {
    "slideshow": {
     "slide_type": "fragment"
    }
   },
   "outputs": [],
   "source": [
    "def h_put(h,k,v):\n",
    "    i = hash(k) % len(h)\n",
    "    x = h[i] \n",
    "    if x != None :\n",
    "        k2,v2 = x\n",
    "        if k2 == k :\n",
    "            h[i] = (k,v)\n",
    "        else :\n",
    "            # KOLISIOA!!!!!\n",
    "            while h[hash(k) % len(h)] != None :\n",
    "                h_resize(h,len(h)*2)\n",
    "            h[hash(k) % len(h)] = (k,v)     \n",
    "    else :\n",
    "        h[i] = (k,v)    "
   ]
  },
  {
   "cell_type": "markdown",
   "metadata": {
    "slideshow": {
     "slide_type": "slide"
    }
   },
   "source": [
    "#### 8 - Hiztegi baten *barne tamaina* aldatuko duen funtzioa"
   ]
  },
  {
   "cell_type": "code",
   "execution_count": null,
   "metadata": {
    "hide_input": false,
    "slideshow": {
     "slide_type": "fragment"
    }
   },
   "outputs": [],
   "source": [
    "def h_resize(h,N):\n",
    "    items = list(h_items(h))\n",
    "    # KONTUZ!!!\n",
    "    # h = [None] * N\n",
    "    h.clear()\n",
    "    h.extend([None] * N)\n",
    "    for k,v in items :\n",
    "        h_put(h,k,v)"
   ]
  },
  {
   "cell_type": "markdown",
   "metadata": {
    "slideshow": {
     "slide_type": "slide"
    }
   },
   "source": [
    "`h_put()` eta `h_resize()` biak batera frogatuko ditugu..."
   ]
  },
  {
   "cell_type": "code",
   "execution_count": null,
   "metadata": {
    "slideshow": {
     "slide_type": "fragment"
    }
   },
   "outputs": [],
   "source": [
    "h = h_new()\n",
    "h_put(h,3,'hiru')\n",
    "h_put(h,'laux',4)\n",
    "\n",
    "print('-'*50+'\\n',len(h),h)\n",
    "print(h_str(h))\n",
    "\n",
    "h_resize(h,9)\n",
    "print('-'*50+'\\n',len(h),h)\n",
    "print(h_str(h))\n",
    "\n",
    "h_resize(h,17)\n",
    "print('-'*50+'\\n',len(h),h)\n",
    "print(h_str(h))\n",
    "print(hash(3), hash('lau'))\n",
    "print(hash(3)%9, hash('lau')%9)\n",
    "print(hash(3)%17, hash('lau')%17)"
   ]
  },
  {
   "cell_type": "markdown",
   "metadata": {
    "slideshow": {
     "slide_type": "slide"
    }
   },
   "source": [
    "#### 9 - Hiztegi baten *karga faktorea* kalkulatuko duen funtzioa"
   ]
  },
  {
   "cell_type": "code",
   "execution_count": null,
   "metadata": {},
   "outputs": [],
   "source": [
    "def h_lf(h):\n",
    "    return h_len(h)/len(h)\n",
    "print(h_str(h),h_len(h),len(h),h_lf(h))\n",
    "h_resize(h,25)\n",
    "print(h_str(h),h_len(h),len(h),h_lf(h))\n",
    "h_resize(h,11)\n",
    "print(h_str(h),h_len(h),len(h),h_lf(h))"
   ]
  },
  {
   "cell_type": "markdown",
   "metadata": {
    "slideshow": {
     "slide_type": "slide"
    }
   },
   "source": [
    "Frogak egin ditzagun...."
   ]
  },
  {
   "cell_type": "code",
   "execution_count": null,
   "metadata": {},
   "outputs": [],
   "source": [
    "for n in 10,100,1000,10000 :\n",
    "    h = h_new()\n",
    "    for i in range(n):\n",
    "        h_put(h,i,str(i))\n",
    "    print(len(h),h_len(h),h_lf(h))\n",
    "\n",
    "[7 * (2 ** i) for i in range(14)]\n",
    "    "
   ]
  },
  {
   "cell_type": "markdown",
   "metadata": {
    "slideshow": {
     "slide_type": "fragment"
    }
   },
   "source": [
    "Zenbaki osoen hash balioa bere burua delako, `h` zerrendaren tamaina gordetzen ari garen `i` gako handiena baina handiagoa izatea nahikoa da... **EZ DA KOLISIORIK EGONGO**"
   ]
  },
  {
   "cell_type": "code",
   "execution_count": null,
   "metadata": {
    "slideshow": {
     "slide_type": "slide"
    }
   },
   "outputs": [],
   "source": [
    "for n in 10,100,1000,10000 :\n",
    "    h = h_new()\n",
    "    for i in range(n):\n",
    "        h_put(h,str(i),i)\n",
    "    print(len(h),h_len(h),h_lf(h))"
   ]
  },
  {
   "cell_type": "markdown",
   "metadata": {
    "slideshow": {
     "slide_type": "slide"
    }
   },
   "source": [
    "Lehenengo kasuan, gakoak `[0,n]` tarteko zenbakiak izan beharrean auzazkoak izan balira..."
   ]
  },
  {
   "cell_type": "code",
   "execution_count": null,
   "metadata": {
    "slideshow": {
     "slide_type": "fragment"
    }
   },
   "outputs": [],
   "source": [
    "from random import randrange\n",
    "for n in 10,100,1000,10000 :\n",
    "    h = h_new()\n",
    "    for i in range(n):\n",
    "        h_put(h,randrange(1000000000),'KAKA!')\n",
    "    print(len(h),h_len(h),h_lf(h))"
   ]
  },
  {
   "cell_type": "markdown",
   "metadata": {
    "slideshow": {
     "slide_type": "slide"
    }
   },
   "source": [
    "#### 10 - Hiztegien beste hainbat funtzio falta dira..."
   ]
  },
  {
   "cell_type": "markdown",
   "metadata": {
    "slideshow": {
     "slide_type": "slide"
    }
   },
   "source": [
    "### `h_values()`\n",
    "\n",
    "```\n",
    "  D.values() -> an object providing a view on D's values\n",
    "```"
   ]
  },
  {
   "cell_type": "markdown",
   "metadata": {
    "slideshow": {
     "slide_type": "slide"
    }
   },
   "source": [
    "### `h_clear()`\n",
    "\n",
    "```\n",
    "  D.clear() -> None.  Remove all items from D.\n",
    "```"
   ]
  },
  {
   "cell_type": "markdown",
   "metadata": {
    "slideshow": {
     "slide_type": "slide"
    }
   },
   "source": [
    "### `h_pop(k[,d])`\n",
    "\n",
    "```\n",
    "  D.pop(k[,d]) -> v, remove specified key and return the corresponding value.\n",
    "  If key is not found, d is returned if given, otherwise KeyError is raised\n",
    "```"
   ]
  },
  {
   "cell_type": "markdown",
   "metadata": {
    "slideshow": {
     "slide_type": "slide"
    }
   },
   "source": [
    "### `h_popitem()`\n",
    "\n",
    "```\n",
    "  D.popitem() -> (k, v), remove and return some (key, value) pair as a\n",
    "  2-tuple; but raise KeyError if D is empty.\n",
    "```"
   ]
  },
  {
   "cell_type": "markdown",
   "metadata": {
    "slideshow": {
     "slide_type": "slide"
    }
   },
   "source": [
    "### `h_setdefault(key, default=None)`\n",
    "\n",
    "```\n",
    "  Insert key with a value of default if key is not in the dictionary.      \n",
    "  Return the value for key if key is in the dictionary, else default.\n",
    "```"
   ]
  },
  {
   "cell_type": "markdown",
   "metadata": {
    "slideshow": {
     "slide_type": "slide"
    }
   },
   "source": [
    "#### 11 - Hiztegiaren tamaina\n",
    "\n",
    "Sortutako egituran, hiztegiaren tamaina kontsultatu nahi dugun bakoitzean, zeharkatu egin behar dugu eta `None`-ren ezberdinak diren elementu kopurua kontatu. Zerrendan hiztegiaren tamaina gordeko bagenu, bizkorragoa litzateke:\n",
    "\n",
    "* `h[-1]`-en hiztegiaren tamaina gorde\n",
    "* Hash Taularen tamaina: `N = len(h)-1`\n",
    "* $g$ gako bati taulan dagokion posizioa: $i \\; = \\; hash(g)\\; \\% \\; N$\n",
    "* Okupazio aldaketak:\n",
    "   * hiztegia sortzean, `h[-1] = 0`\n",
    "   * sarrera bat gehitzean, `h[-1] += 1`\n",
    "   * sarrera bat ezabatzean, `h[-1] -= 1`\n",
    "* `LF = h[-1]/(len(h)-1)`"
   ]
  },
  {
   "cell_type": "markdown",
   "metadata": {
    "slideshow": {
     "slide_type": "slide"
    }
   },
   "source": [
    "Beste aukera posible bat, hiztegia bi elementutako zerrenda baten bidez adieraztea litzateke. Zerrendako lehenengo elementua Hash Taula gordetzen dueneko zerrenda litzateke eta bigarrena hiztegiaren tamaina (taularen okupazioa):\n",
    "* `h = [taula , okupazioa]`\n",
    "* Hash Taularen tamaina: `N = len(h[0])`\n",
    "* $g$ gako bati taulan dagokion posizioa: $i \\; = \\; hash(g)\\; \\% \\; N$\n",
    "* Okupazio aldaketak:\n",
    "   * hiztegia sortzean, `h[1] = 0`\n",
    "   * sarrera bat gehitzean, `h[1] += 1`\n",
    "   * sarrera bat ezabatzean, `h[1] -= 1`\n",
    "* `LF = h[1]/len(h[0])`"
   ]
  }
 ],
 "metadata": {
  "celltoolbar": "Slideshow",
  "kernelspec": {
   "display_name": "Python 3",
   "language": "python",
   "name": "python3"
  },
  "language_info": {
   "codemirror_mode": {
    "name": "ipython",
    "version": 3
   },
   "file_extension": ".py",
   "mimetype": "text/x-python",
   "name": "python",
   "nbconvert_exporter": "python",
   "pygments_lexer": "ipython3",
   "version": "3.7.6"
  }
 },
 "nbformat": 4,
 "nbformat_minor": 2
}
