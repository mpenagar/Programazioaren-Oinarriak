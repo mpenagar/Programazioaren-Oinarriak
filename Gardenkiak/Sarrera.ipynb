{
 "cells": [
  {
   "cell_type": "code",
   "execution_count": 64,
   "metadata": {
    "slideshow": {
     "slide_type": "slide"
    },
    "tags": [
     "hide-input"
    ]
   },
   "outputs": [
    {
     "data": {
      "text/html": [
       "<style>.container { width:100% !important; }</style>"
      ],
      "text/plain": [
       "<IPython.core.display.HTML object>"
      ]
     },
     "metadata": {},
     "output_type": "display_data"
    }
   ],
   "source": [
    "from IPython.display import display, HTML\n",
    "display(HTML(\"<style>.container { width:100% !important; }</style>\"))"
   ]
  },
  {
   "cell_type": "markdown",
   "metadata": {
    "slideshow": {
     "slide_type": "slide"
    }
   },
   "source": [
    "# Azterketak idazten\n"
   ]
  },
  {
   "cell_type": "markdown",
   "metadata": {
    "slideshow": {
     "slide_type": "fragment"
    }
   },
   "source": [
    "* Azterketak ez dira arkatzez idazten.\n",
    "   * Are gutxiago lehenengo arkatzez idatzi eta ondoren gainetik boligrafoz.\n",
    "   * Tinta ezabagarria duten boligrafoak existitzen dira. "
   ]
  },
  {
   "cell_type": "markdown",
   "metadata": {
    "slideshow": {
     "slide_type": "fragment"
    }
   },
   "source": [
    "* Idatzizko azterketa batek ulergarria izan behar du.\n",
    "   * Ulertzen ez dena ezin da zuzendu. "
   ]
  },
  {
   "cell_type": "markdown",
   "metadata": {
    "slideshow": {
     "slide_type": "slide"
    }
   },
   "source": [
    "# Karaktere kateak\n"
   ]
  },
  {
   "cell_type": "markdown",
   "metadata": {
    "slideshow": {
     "slide_type": "slide"
    }
   },
   "source": [
    "### AXIOMA: Karaktere kateak ALDAEZINAK dira"
   ]
  },
  {
   "cell_type": "markdown",
   "metadata": {
    "slideshow": {
     "slide_type": "fragment"
    }
   },
   "source": [
    "* **Korolarioa**: karaktere kate bat aldatzen zabiltzala uste baduzu...\n",
    "   * Sintaxi errore bat izango duzu\n",
    "   * Zure kodea beste zerbait egiten dabil"
   ]
  },
  {
   "cell_type": "code",
   "execution_count": 57,
   "metadata": {
    "slideshow": {
     "slide_type": "slide"
    }
   },
   "outputs": [],
   "source": [
    "s = \"kaixo\"\n",
    "\n",
    "# TypeError: 'str' object does not support item assignment\n",
    "#s[0] = 'K'\n",
    "\n",
    "# AttributeError: 'str' object has no attribute 'append'\n",
    "#s.append('agur')"
   ]
  },
  {
   "cell_type": "markdown",
   "metadata": {
    "slideshow": {
     "slide_type": "slide"
    }
   },
   "source": [
    "# Baldintzazko kontrol egiturak\n"
   ]
  },
  {
   "cell_type": "markdown",
   "metadata": {
    "slideshow": {
     "slide_type": "slide"
    }
   },
   "source": [
    "### Espresio/Balio boolear bat egia edo gezurra ote den konprobatzeak ez du zentzurik"
   ]
  },
  {
   "cell_type": "markdown",
   "metadata": {
    "slideshow": {
     "slide_type": "fragment"
    }
   },
   "source": [
    "```python\n",
    "if propietatea == True :\n",
    "    ...\n",
    "```\n",
    "\n",
    "```python\n",
    "if (propietatea == True) == True :\n",
    "    ...\n",
    "```\n",
    "\n",
    "```python\n",
    "if ((propietatea == True) == True) == True :\n",
    "    ...\n",
    "```\n",
    "\n",
    "```python\n",
    "if (((propietatea == True) == True) == True) == True :\n",
    "    ...\n",
    "```"
   ]
  },
  {
   "cell_type": "markdown",
   "metadata": {
    "slideshow": {
     "slide_type": "slide"
    }
   },
   "source": [
    "### Oro har, `== True` edo `== False` soberan daude\n",
    "```\n",
    "\n",
    "```\n",
    "\n",
    "```python\n",
    "if propietatea:\n",
    "    ...\n",
    "```\n",
    "\n",
    "```python\n",
    "if not propietatea :\n",
    "    ...\n",
    "```"
   ]
  },
  {
   "cell_type": "markdown",
   "metadata": {
    "slideshow": {
     "slide_type": "slide"
    }
   },
   "source": [
    "Zenbaki arrunt bat lehena ote den bueltatzen duen funtzioa"
   ]
  },
  {
   "cell_type": "code",
   "execution_count": 58,
   "metadata": {
    "slideshow": {
     "slide_type": "fragment"
    }
   },
   "outputs": [],
   "source": [
    "def lehena(n):\n",
    "    for i in range(2,n):\n",
    "        if n%i == 0 :\n",
    "            return False\n",
    "    return True "
   ]
  },
  {
   "cell_type": "markdown",
   "metadata": {
    "slideshow": {
     "slide_type": "fragment"
    }
   },
   "source": [
    "`[1,100]` arteko zenbaki lehenen zerrenda sortu"
   ]
  },
  {
   "cell_type": "code",
   "execution_count": 59,
   "metadata": {
    "slideshow": {
     "slide_type": "fragment"
    }
   },
   "outputs": [
    {
     "name": "stdout",
     "output_type": "stream",
     "text": [
      "[1, 2, 3, 5, 7, 11, 13, 17, 19, 23, 29, 31, 37, 41, 43, 47, 53, 59, 61, 67, 71, 73, 79, 83, 89, 97]\n"
     ]
    }
   ],
   "source": [
    "z = []\n",
    "for i in range(1,101):\n",
    "    if lehena(i):\n",
    "        z.append(i)\n",
    "print(z)"
   ]
  },
  {
   "cell_type": "markdown",
   "metadata": {
    "slideshow": {
     "slide_type": "slide"
    }
   },
   "source": [
    "### Funtzio (boolear) batek True/False bueltatzen badu baldintza baten arabera, baldintza ez da beharrezkoa."
   ]
  },
  {
   "cell_type": "markdown",
   "metadata": {
    "slideshow": {
     "slide_type": "fragment"
    }
   },
   "source": [
    "```python\n",
    "...\n",
    "if baldintza :\n",
    "    return True\n",
    "else :\n",
    "    return False\n",
    "```"
   ]
  },
  {
   "cell_type": "markdown",
   "metadata": {
    "slideshow": {
     "slide_type": "fragment"
    }
   },
   "source": [
    "```python\n",
    "...\n",
    "return baldintza\n",
    "```\n"
   ]
  },
  {
   "cell_type": "markdown",
   "metadata": {
    "slideshow": {
     "slide_type": "slide"
    }
   },
   "source": [
    "# `pass`, `a = a` eta `continue`-ren erabilera okerra  \n"
   ]
  },
  {
   "cell_type": "markdown",
   "metadata": {
    "slideshow": {
     "slide_type": "slide"
    }
   },
   "source": [
    "### `else: pass` batek ez du ezertarako balio\n"
   ]
  },
  {
   "cell_type": "markdown",
   "metadata": {
    "slideshow": {
     "slide_type": "fragment"
    }
   },
   "source": [
    "```python\n",
    "if baldintza :\n",
    "    # zerbait egin\n",
    "    ...\n",
    "else :\n",
    "    # ez egin ezer ere\n",
    "    pass\n",
    "```"
   ]
  },
  {
   "cell_type": "markdown",
   "metadata": {
    "slideshow": {
     "slide_type": "fragment"
    }
   },
   "source": [
    "Ezer egin nahi ez baduzu, etzazu ezer jarri. `else`-a hautazkoa da:"
   ]
  },
  {
   "cell_type": "markdown",
   "metadata": {
    "slideshow": {
     "slide_type": "-"
    }
   },
   "source": [
    "```python\n",
    "if baldintza :\n",
    "    # zerbait egin\n",
    "    ...\n",
    "```"
   ]
  },
  {
   "cell_type": "markdown",
   "metadata": {
    "slideshow": {
     "slide_type": "slide"
    }
   },
   "source": [
    "<center>\n",
    "    <h3>Orduan... zertarako balio du <code>pass</code> sententziak????</h3>\n",
    "    <img src=\"../img/guessing.gif\" alt=\"Erronka\"/>\n",
    "</center>"
   ]
  },
  {
   "cell_type": "markdown",
   "metadata": {
    "slideshow": {
     "slide_type": "slide"
    }
   },
   "source": [
    "### `aldagaia = aldagaia` esleipenak ez du ezertarako balio"
   ]
  },
  {
   "cell_type": "markdown",
   "metadata": {
    "slideshow": {
     "slide_type": "fragment"
    }
   },
   "source": [
    "```python\n",
    "if baldintza :\n",
    "    # aldagai baten balioa aldatu\n",
    "    a = ...\n",
    "else :\n",
    "    # aldagaiaren balioa ez da aldatzen\n",
    "    a = a\n",
    "```"
   ]
  },
  {
   "cell_type": "markdown",
   "metadata": {
    "slideshow": {
     "slide_type": "fragment"
    }
   },
   "source": [
    "Ezer egiten ez baduzu, aldagaiaren balioa ez da aldatuko:"
   ]
  },
  {
   "cell_type": "markdown",
   "metadata": {
    "slideshow": {
     "slide_type": "-"
    }
   },
   "source": [
    "```python\n",
    "if baldintza :\n",
    "    # aldagai baten balioa aldatu\n",
    "    a = ...\n",
    "```"
   ]
  },
  {
   "cell_type": "markdown",
   "metadata": {
    "slideshow": {
     "slide_type": "slide"
    }
   },
   "source": [
    "### `for` edo `while` baten amaieran dagoen `else: continue` batek ez du ezertarako balio\n"
   ]
  },
  {
   "cell_type": "markdown",
   "metadata": {
    "slideshow": {
     "slide_type": "fragment"
    }
   },
   "source": [
    "```python\n",
    "for i in it :\n",
    "    ...\n",
    "    if baldintza :\n",
    "        # zerbait egin\n",
    "        ...\n",
    "    else :\n",
    "        # ez egin ezer ere\n",
    "        continue\n",
    "```"
   ]
  },
  {
   "cell_type": "markdown",
   "metadata": {
    "slideshow": {
     "slide_type": "fragment"
    }
   },
   "source": [
    "`continue`-ak `for` edo `while`-ean atzetik datozen sententziak exekutatu gabe uzten ditu. Sententziarik ez badago, `continue`-a soberan dago"
   ]
  },
  {
   "cell_type": "markdown",
   "metadata": {
    "slideshow": {
     "slide_type": "fragment"
    }
   },
   "source": [
    "```python\n",
    "for i in it :\n",
    "    ...\n",
    "    if baldintza :\n",
    "        # zerbait egin\n",
    "        ...\n",
    "```"
   ]
  },
  {
   "cell_type": "markdown",
   "metadata": {
    "slideshow": {
     "slide_type": "slide"
    }
   },
   "source": [
    "# Datuak eraldatzen\n",
    "\n",
    "## edo... behar ez diran objektu berriak sortzen"
   ]
  },
  {
   "cell_type": "markdown",
   "metadata": {
    "slideshow": {
     "slide_type": "slide"
    }
   },
   "source": [
    "### `x` karaktere kate bat bada, `str(x)`-k ez du ezertarako balio"
   ]
  },
  {
   "cell_type": "markdown",
   "metadata": {
    "slideshow": {
     "slide_type": "fragment"
    }
   },
   "source": [
    "```python\n",
    "x = \"kaixo\"\n",
    "b = str(x)\n",
    "b = str(str(str(str(str(str(x))))))\n",
    "```"
   ]
  },
  {
   "cell_type": "markdown",
   "metadata": {
    "slideshow": {
     "slide_type": "fragment"
    }
   },
   "source": [
    "```python\n",
    "x = str(input(\"Zein da zure izena? \"))\n",
    "b = str(str(str(str(str(str(input(\"Zein da zure izena? \")))))))\n",
    "```"
   ]
  },
  {
   "cell_type": "markdown",
   "metadata": {
    "slideshow": {
     "slide_type": "slide"
    }
   },
   "source": [
    "### `x` karaktere kate bat ez bada, `str(x)` arriskutsua izan daiteke"
   ]
  },
  {
   "cell_type": "markdown",
   "metadata": {
    "slideshow": {
     "slide_type": "fragment"
    }
   },
   "source": [
    "```python\n",
    "def f(izena):\n",
    "    izena2 = str(izena)\n",
    "    ...\n",
    "```\n",
    "\n",
    "**Galdera**: `izena` aldagaia `str` motakoa ez bada... zein motatakoa da orduan? "
   ]
  },
  {
   "cell_type": "markdown",
   "metadata": {
    "slideshow": {
     "slide_type": "slide"
    }
   },
   "source": [
    "### `x` zerrenda bat bada, `list(x)`-k ez du *askorako* balio\n",
    "\n",
    "&rarr; `list(x)` `x`-n kopia bat baino ez da "
   ]
  },
  {
   "cell_type": "markdown",
   "metadata": {
    "slideshow": {
     "slide_type": "fragment"
    }
   },
   "source": [
    "```python\n",
    "for ilara in fitx :\n",
    "    z = list(ilara.split())\n",
    "    for hitza in z:\n",
    "        ...\n",
    "```"
   ]
  },
  {
   "cell_type": "markdown",
   "metadata": {
    "slideshow": {
     "slide_type": "fragment"
    }
   },
   "source": [
    "`ilara.split()` dagoeneko zerrenda bat da... \n",
    "```python\n",
    "for ilara in fitx :\n",
    "    for hitza in ilara.split():\n",
    "        ...\n",
    "```"
   ]
  },
  {
   "cell_type": "markdown",
   "metadata": {
    "slideshow": {
     "slide_type": "slide"
    }
   },
   "source": [
    "### `for x in list(y):` ia ia ia beti tontakeri bat da "
   ]
  },
  {
   "cell_type": "markdown",
   "metadata": {
    "slideshow": {
     "slide_type": "fragment"
    }
   },
   "source": [
    "* `list(y)`-k errorerik sortzen ez badu &rarr; `y` iteragarria da"
   ]
  },
  {
   "cell_type": "markdown",
   "metadata": {
    "slideshow": {
     "slide_type": "fragment"
    }
   },
   "source": [
    "* `y` iteragarria bada... zertarako behar dugu `list(y)`?\n",
    "\n",
    "`for x in list(y):` &rarr; `for x in y:`"
   ]
  },
  {
   "cell_type": "markdown",
   "metadata": {
    "slideshow": {
     "slide_type": "slide"
    }
   },
   "source": [
    "### Noiz erabili `str()`, `int()`, `float()` edo `list()`?\n",
    "\n",
    "&rarr; Beharrezkoak direnean soilik"
   ]
  },
  {
   "cell_type": "code",
   "execution_count": null,
   "metadata": {
    "slideshow": {
     "slide_type": "fragment"
    }
   },
   "outputs": [],
   "source": [
    "i = int(input(\"idatzi zenbaki oso bat: \"))\n",
    "x = float(input(\"idatzi zenbaki erreal bat: \"))\n",
    "mezua = \"i=\" + str(i) + \" x=\" + str(x) + \" i+x=\" + str(i+x)\n",
    "print(mezua)"
   ]
  },
  {
   "cell_type": "markdown",
   "metadata": {
    "slideshow": {
     "slide_type": "fragment"
    }
   },
   "source": [
    "Gogoratu `f-string`ak existitzen direla..."
   ]
  },
  {
   "cell_type": "code",
   "execution_count": null,
   "metadata": {
    "slideshow": {
     "slide_type": "-"
    }
   },
   "outputs": [],
   "source": [
    "print(f\"i={i} x={x} i+x={i+x}\")"
   ]
  },
  {
   "cell_type": "markdown",
   "metadata": {
    "slideshow": {
     "slide_type": "fragment"
    }
   },
   "source": [
    "`list()` aproposa izan liteke iteragarriak konkatenatzeko:"
   ]
  },
  {
   "cell_type": "code",
   "execution_count": null,
   "metadata": {
    "slideshow": {
     "slide_type": "-"
    }
   },
   "outputs": [],
   "source": [
    "z = list(range(10)) + list(range(100,110))\n",
    "print(z)"
   ]
  },
  {
   "cell_type": "markdown",
   "metadata": {
    "slideshow": {
     "slide_type": "slide"
    }
   },
   "source": [
    "### `s` karaktere kate bat bada, ez dugu `list(s)` behar katea zeharkatzeko"
   ]
  },
  {
   "cell_type": "markdown",
   "metadata": {
    "slideshow": {
     "slide_type": "fragment"
    }
   },
   "source": [
    "```python\n",
    "s = \"hau da nire katea\"\n",
    "z = list(s)\n",
    "for k in z :\n",
    "    # k zerbaitetarako erabili\n",
    "    ...\n",
    "```"
   ]
  },
  {
   "cell_type": "markdown",
   "metadata": {
    "slideshow": {
     "slide_type": "fragment"
    }
   },
   "source": [
    "Karaktere kateak **ITERAGARRIAK** dira!\n",
    "```python\n",
    "s = \"hau da nire katea\"\n",
    "for k in s:\n",
    "    # k zerbaitetarako erabili\n",
    "    ...\n",
    "```"
   ]
  },
  {
   "cell_type": "markdown",
   "metadata": {
    "slideshow": {
     "slide_type": "slide"
    }
   },
   "source": [
    "### `s` karaktere kate bat bada, ez dugu `list(s)` behar katea indexatzeko"
   ]
  },
  {
   "cell_type": "markdown",
   "metadata": {
    "slideshow": {
     "slide_type": "fragment"
    }
   },
   "source": [
    "```python\n",
    "s = \"hau da nire katea\"\n",
    "z = list(s)\n",
    "for i in range(len(z)) :\n",
    "    # z[i] zerbaitetarako erabili\n",
    "    ...\n",
    "```"
   ]
  },
  {
   "cell_type": "markdown",
   "metadata": {
    "slideshow": {
     "slide_type": "fragment"
    }
   },
   "source": [
    "Karaktere kateak **INDEXAGARRIAK** dira!\n",
    "```python\n",
    "s = \"hau da nire katea\"\n",
    "for i in range(len(s)) :\n",
    "    # s[i] zerbaitetarako erabili\n",
    "    ...\n",
    "```"
   ]
  },
  {
   "cell_type": "markdown",
   "metadata": {
    "slideshow": {
     "slide_type": "slide"
    }
   },
   "source": [
    "### `s` karaktere kate batetik  abiatuz, aldaketak egin eta karaktere kate berri bat lortu nahi badugu, `list(s)` erabiltzea zentzuzkoa izan liteke\n",
    "\n",
    "&rarr; Gogoratu, Karaktere kateak **ALDAEZINAK** direla..."
   ]
  },
  {
   "cell_type": "code",
   "execution_count": null,
   "metadata": {
    "slideshow": {
     "slide_type": "fragment"
    }
   },
   "outputs": [],
   "source": [
    "def bokalak_maiuskulaz(s):\n",
    "    z = list(s)\n",
    "    for i in range(len(z)):\n",
    "        if z[i] in \"aeiou\" :\n",
    "            z[i] = z[i].upper()\n",
    "    return \"\".join(z)\n",
    "    \n",
    "print(bokalak_maiuskulaz(\"hau da nire katea\"))"
   ]
  },
  {
   "cell_type": "markdown",
   "metadata": {
    "slideshow": {
     "slide_type": "fragment"
    }
   },
   "source": [
    "Beste bide bat ere badago..."
   ]
  },
  {
   "cell_type": "code",
   "execution_count": null,
   "metadata": {
    "slideshow": {
     "slide_type": "-"
    }
   },
   "outputs": [],
   "source": [
    "def bokalak_maiuskulaz2(s):\n",
    "    e = \"\"\n",
    "    for k in s:\n",
    "        if k in \"aeiou\" :\n",
    "            e += k.upper()\n",
    "        else :\n",
    "            e += k\n",
    "    return e\n",
    "    \n",
    "print(bokalak_maiuskulaz2(\"hau da nire katea\"))"
   ]
  },
  {
   "cell_type": "markdown",
   "metadata": {
    "slideshow": {
     "slide_type": "slide"
    }
   },
   "source": [
    "# Zerrendak ahalik eta modu errezenean sortu"
   ]
  },
  {
   "cell_type": "markdown",
   "metadata": {
    "slideshow": {
     "slide_type": "slide"
    }
   },
   "source": [
    "### Zerrenda sortu <u>behar</u> badugu, `list()` erabiltzen saiatu."
   ]
  },
  {
   "cell_type": "markdown",
   "metadata": {
    "slideshow": {
     "slide_type": "fragment"
    }
   },
   "source": [
    "`it` iteragarri batetako elementuekin `z` zerrenda osatu nahi badut\n",
    "\n",
    "```python\n",
    "z = []\n",
    "for x in it :\n",
    "    z.append(x)\n",
    "```"
   ]
  },
  {
   "cell_type": "markdown",
   "metadata": {
    "slideshow": {
     "slide_type": "fragment"
    }
   },
   "source": [
    "`it` iteragarri batetatik zerrenda bat lortzeko &rarr; `list(it)`\n",
    "\n",
    "```python\n",
    "z = list(it)\n",
    "```"
   ]
  },
  {
   "cell_type": "markdown",
   "metadata": {
    "slideshow": {
     "slide_type": "slide"
    }
   },
   "source": [
    "### Testu ilara batetako hitzak zerrenda batean nahi baditugu"
   ]
  },
  {
   "cell_type": "markdown",
   "metadata": {
    "slideshow": {
     "slide_type": "fragment"
    }
   },
   "source": [
    "```python\n",
    "z = []\n",
    "for x in ilara.split() :\n",
    "    z.append(x)\n",
    "```"
   ]
  },
  {
   "cell_type": "markdown",
   "metadata": {
    "slideshow": {
     "slide_type": "fragment"
    }
   },
   "source": [
    "`ilara.split()` dagoeneko zerrenda bat da...\n",
    "```python\n",
    "z = ilara.split()\n",
    "```"
   ]
  },
  {
   "cell_type": "markdown",
   "metadata": {
    "slideshow": {
     "slide_type": "fragment"
    }
   },
   "source": [
    "kontuz beste honekin...\n",
    "```python\n",
    "z = list(ilara)\n",
    "```"
   ]
  },
  {
   "cell_type": "markdown",
   "metadata": {
    "slideshow": {
     "slide_type": "slide"
    }
   },
   "source": [
    "# Kontuz zerrendak *biderkatzean*\n",
    "\n",
    "```python\n",
    "matrizea = [[0,0,0],[0,0,0]]\n",
    "matrizea = [[0]*3,[0]*3]\n",
    "matrizea = [[0,0,0]]*2\n",
    "matrizea = [[0]*3]*2\n",
    "```"
   ]
  },
  {
   "cell_type": "markdown",
   "metadata": {
    "slideshow": {
     "slide_type": "slide"
    }
   },
   "source": [
    "### * `x` objektua dugularik, `[x,x]` eta `[x]*2` gauza bera dira\n",
    "### *  `[[0,0,0],[0,0,0]]` eta `[[0,0,0]]*2` ez "
   ]
  },
  {
   "cell_type": "code",
   "execution_count": null,
   "metadata": {
    "slideshow": {
     "slide_type": "fragment"
    }
   },
   "outputs": [],
   "source": [
    "A = [[0,0,0],[0,0,0]]\n",
    "B = [[0,0,0]]*2\n",
    "x = [0,0,0]\n",
    "C = [x,x]\n",
    "print(f\"A={A}  B={B}  C={C}\")"
   ]
  },
  {
   "cell_type": "markdown",
   "metadata": {
    "slideshow": {
     "slide_type": "fragment"
    }
   },
   "source": [
    "Berdinak diruditen arren..."
   ]
  },
  {
   "cell_type": "code",
   "execution_count": null,
   "metadata": {
    "slideshow": {
     "slide_type": "-"
    }
   },
   "outputs": [],
   "source": [
    "A[0][0] = 1\n",
    "B[0][0] = 1\n",
    "C[0][0] = 1\n",
    "print(f\"A={A}  B={B}  C={C}\")"
   ]
  },
  {
   "cell_type": "markdown",
   "metadata": {
    "slideshow": {
     "slide_type": "slide"
    }
   },
   "source": [
    "**[Python Tutor](https://pythontutor.com/render.html#mode=display)**-ek kodearen exekuzioa irudikatzen du:\n",
    "<center>\n",
    "    <img src=\"../img/PythonTutor.png\" alt=\"Erronka\"/>\n",
    "</center>"
   ]
  }
 ],
 "metadata": {
  "celltoolbar": "Edit Metadata",
  "kernelspec": {
   "display_name": "Python 3",
   "language": "python",
   "name": "python3"
  },
  "language_info": {
   "codemirror_mode": {
    "name": "ipython",
    "version": 3
   },
   "file_extension": ".py",
   "mimetype": "text/x-python",
   "name": "python",
   "nbconvert_exporter": "python",
   "pygments_lexer": "ipython3",
   "version": "3.7.6"
  },
  "rise": {
   "autolaunch": true,
   "footer": "<h2 align=\"center\">Konputaziorako Sarrera</h2>",
   "scroll": true
  }
 },
 "nbformat": 4,
 "nbformat_minor": 2
}
