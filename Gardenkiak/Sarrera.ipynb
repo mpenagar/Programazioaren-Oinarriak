{
 "cells": [
  {
   "cell_type": "markdown",
   "metadata": {
    "slideshow": {
     "slide_type": "slide"
    }
   },
   "source": [
    "# Azterketak idazten\n"
   ]
  },
  {
   "cell_type": "markdown",
   "metadata": {
    "slideshow": {
     "slide_type": "fragment"
    }
   },
   "source": [
    "* Azterketak ez dira arkatzez idazten.\n",
    "   * Are gutxiago lehenengo arkatzez idatzi eta ondoren gainetik boligrafoz.\n",
    "   * Tinta ezabagarria duten boligrafoak existitzen dira. "
   ]
  },
  {
   "cell_type": "markdown",
   "metadata": {
    "slideshow": {
     "slide_type": "fragment"
    }
   },
   "source": [
    "* Idatzizko azterketa batek ulergarria izan behar du.\n",
    "   * Ulertzen ez dena ezin da zuzendu. "
   ]
  },
  {
   "cell_type": "markdown",
   "metadata": {
    "slideshow": {
     "slide_type": "slide"
    }
   },
   "source": [
    "# Karaktere kateak\n"
   ]
  },
  {
   "cell_type": "markdown",
   "metadata": {
    "slideshow": {
     "slide_type": "slide"
    }
   },
   "source": [
    "### AXIOMA: Karaktere kateak ALDAEZINAK dira"
   ]
  },
  {
   "cell_type": "markdown",
   "metadata": {
    "slideshow": {
     "slide_type": "fragment"
    }
   },
   "source": [
    "* **Korolarioa**: karaktere kate bat aldatzen zabiltzala uste baduzu...\n",
    "   * Sintaxi errore bat izango duzu\n",
    "   * Zure kodea beste zerbait egiten dabil"
   ]
  },
  {
   "cell_type": "code",
   "execution_count": 10,
   "metadata": {
    "slideshow": {
     "slide_type": "slide"
    }
   },
   "outputs": [],
   "source": [
    "s = \"kaixo\"\n",
    "\n",
    "# TypeError: 'str' object does not support item assignment\n",
    "#s[0] = 'K'\n",
    "\n",
    "# AttributeError: 'str' object has no attribute 'append'\n",
    "#s.append('agur')"
   ]
  },
  {
   "cell_type": "markdown",
   "metadata": {
    "slideshow": {
     "slide_type": "slide"
    }
   },
   "source": [
    "# Espresio/Balio boolearrak\n"
   ]
  },
  {
   "cell_type": "markdown",
   "metadata": {
    "slideshow": {
     "slide_type": "slide"
    }
   },
   "source": [
    "### Espresio/Balio boolear bat egia edo gezurra ote den konprobatzeak ez du zentzurik"
   ]
  },
  {
   "cell_type": "markdown",
   "metadata": {
    "slideshow": {
     "slide_type": "fragment"
    }
   },
   "source": [
    "```python\n",
    "if propietatea == True :\n",
    "    ...\n",
    "```\n",
    "\n",
    "```python\n",
    "if (propietatea == True) == True :\n",
    "    ...\n",
    "```\n",
    "\n",
    "```python\n",
    "if ((propietatea == True) == True) == True :\n",
    "    ...\n",
    "```\n",
    "\n",
    "```python\n",
    "if (((propietatea == True) == True) == True) == True :\n",
    "    ...\n",
    "```"
   ]
  },
  {
   "cell_type": "markdown",
   "metadata": {
    "slideshow": {
     "slide_type": "slide"
    }
   },
   "source": [
    "### Oro har, `== True` edo `== False` soberan daude\n",
    "```\n",
    "\n",
    "```\n",
    "\n",
    "```python\n",
    "if propietatea:\n",
    "    ...\n",
    "```\n",
    "\n",
    "```python\n",
    "if not propietatea :\n",
    "    ...\n",
    "```"
   ]
  },
  {
   "cell_type": "markdown",
   "metadata": {
    "slideshow": {
     "slide_type": "slide"
    }
   },
   "source": [
    "Zenbaki arrunt bat lehena ote den bueltatzen duen funtzioa"
   ]
  },
  {
   "cell_type": "code",
   "execution_count": 1,
   "metadata": {
    "slideshow": {
     "slide_type": "fragment"
    }
   },
   "outputs": [],
   "source": [
    "def lehena(n):\n",
    "    for i in range(2,n):\n",
    "        if n%i == 0 :\n",
    "            return False\n",
    "    return True "
   ]
  },
  {
   "cell_type": "markdown",
   "metadata": {
    "slideshow": {
     "slide_type": "fragment"
    }
   },
   "source": [
    "`[1,100]` arteko zenbaki lehenen zerrenda sortu"
   ]
  },
  {
   "cell_type": "code",
   "execution_count": 4,
   "metadata": {
    "slideshow": {
     "slide_type": "fragment"
    }
   },
   "outputs": [
    {
     "name": "stdout",
     "output_type": "stream",
     "text": [
      "[1, 2, 3, 5, 7, 11, 13, 17, 19, 23, 29, 31, 37, 41, 43, 47, 53, 59, 61, 67, 71, 73, 79, 83, 89, 97]\n"
     ]
    }
   ],
   "source": [
    "z = []\n",
    "for i in range(1,101):\n",
    "    if lehena(i):\n",
    "        z.append(i)\n",
    "print(z)"
   ]
  },
  {
   "cell_type": "markdown",
   "metadata": {
    "slideshow": {
     "slide_type": "slide"
    }
   },
   "source": [
    "### Funtzio (boolear) batek True/False bueltatzen badu baldintza baten arabera, baldintza ez da beharrezkoa."
   ]
  },
  {
   "cell_type": "markdown",
   "metadata": {
    "slideshow": {
     "slide_type": "fragment"
    }
   },
   "source": [
    "```python\n",
    "...\n",
    "if baldintza :\n",
    "    return True\n",
    "else :\n",
    "    return False\n",
    "```"
   ]
  },
  {
   "cell_type": "markdown",
   "metadata": {
    "slideshow": {
     "slide_type": "fragment"
    }
   },
   "source": [
    "```python\n",
    "...\n",
    "return baldintza\n",
    "```\n"
   ]
  },
  {
   "cell_type": "markdown",
   "metadata": {
    "slideshow": {
     "slide_type": "slide"
    }
   },
   "source": [
    "# `pass`, `a = a` eta `continue`-ren erabilera okerra  \n"
   ]
  },
  {
   "cell_type": "markdown",
   "metadata": {
    "slideshow": {
     "slide_type": "slide"
    }
   },
   "source": [
    "### `else: pass` batek ez du ezertarako balio\n"
   ]
  },
  {
   "cell_type": "markdown",
   "metadata": {
    "slideshow": {
     "slide_type": "fragment"
    }
   },
   "source": [
    "```python\n",
    "if baldintza :\n",
    "    # zerbait egin\n",
    "    ...\n",
    "else :\n",
    "    # ez egin ezer ere\n",
    "    pass\n",
    "```"
   ]
  },
  {
   "cell_type": "markdown",
   "metadata": {
    "slideshow": {
     "slide_type": "fragment"
    }
   },
   "source": [
    "Ezer egin nahi ez baduzu, etzazu ezer jarri. `else`-a hautazkoa da:"
   ]
  },
  {
   "cell_type": "markdown",
   "metadata": {
    "slideshow": {
     "slide_type": "-"
    }
   },
   "source": [
    "```python\n",
    "if baldintza :\n",
    "    # zerbait egin\n",
    "    ...\n",
    "```"
   ]
  },
  {
   "cell_type": "markdown",
   "metadata": {
    "slideshow": {
     "slide_type": "slide"
    }
   },
   "source": [
    "<center>\n",
    "    <h3>Orduan... zertarako balio du <code>pass</code> sententziak????</h3>\n",
    "    <img src=\"../img/guessing.gif\" alt=\"Erronka\"/>\n",
    "</center>"
   ]
  },
  {
   "cell_type": "markdown",
   "metadata": {
    "slideshow": {
     "slide_type": "slide"
    }
   },
   "source": [
    "### `aldagaia = aldagaia` esleipenak ez du ezertarako balio"
   ]
  },
  {
   "cell_type": "markdown",
   "metadata": {
    "slideshow": {
     "slide_type": "fragment"
    }
   },
   "source": [
    "```python\n",
    "if baldintza :\n",
    "    # aldagai baten balioa aldatu\n",
    "    a = ...\n",
    "else :\n",
    "    # aldagaiaren balioa ez da aldatzen\n",
    "    a = a\n",
    "```"
   ]
  },
  {
   "cell_type": "markdown",
   "metadata": {
    "slideshow": {
     "slide_type": "fragment"
    }
   },
   "source": [
    "Ezer egiten ez baduzu, aldagaiaren balioa ez da aldatuko:"
   ]
  },
  {
   "cell_type": "markdown",
   "metadata": {
    "slideshow": {
     "slide_type": "-"
    }
   },
   "source": [
    "```python\n",
    "if baldintza :\n",
    "    # aldagai baten balioa aldatu\n",
    "    a = ...\n",
    "```"
   ]
  },
  {
   "cell_type": "markdown",
   "metadata": {
    "slideshow": {
     "slide_type": "slide"
    }
   },
   "source": [
    "### `for` edo `while` baten amaieran dagoen `else: continue` batek ez du ezertarako balio\n"
   ]
  },
  {
   "cell_type": "markdown",
   "metadata": {
    "slideshow": {
     "slide_type": "fragment"
    }
   },
   "source": [
    "```python\n",
    "for i in it :\n",
    "    ...\n",
    "    if baldintza :\n",
    "        # zerbait egin\n",
    "        ...\n",
    "    else :\n",
    "        # ez egin ezer ere\n",
    "        continue\n",
    "```"
   ]
  },
  {
   "cell_type": "markdown",
   "metadata": {
    "slideshow": {
     "slide_type": "fragment"
    }
   },
   "source": [
    "`continue`-ak `for` edo `while`-ean atzetik datozen sententziak exekutatu gabe uzten ditu. Sententziarik ez badago, `continue`-a soberan dago"
   ]
  },
  {
   "cell_type": "markdown",
   "metadata": {
    "slideshow": {
     "slide_type": "fragment"
    }
   },
   "source": [
    "```python\n",
    "for i in it :\n",
    "    ...\n",
    "    if baldintza :\n",
    "        # zerbait egin\n",
    "        ...\n",
    "```"
   ]
  },
  {
   "cell_type": "markdown",
   "metadata": {
    "slideshow": {
     "slide_type": "slide"
    }
   },
   "source": [
    "# Datuak eraldatzen\n",
    "\n",
    "## edo... behar ez diran objektu berriak sortzen"
   ]
  },
  {
   "cell_type": "markdown",
   "metadata": {
    "slideshow": {
     "slide_type": "slide"
    }
   },
   "source": [
    "### `x` karaktere kate bat bada, `str(x)`-k ez du ezertarako balio"
   ]
  },
  {
   "cell_type": "markdown",
   "metadata": {
    "slideshow": {
     "slide_type": "fragment"
    }
   },
   "source": [
    "```python\n",
    "x = \"kaixo\"\n",
    "b = str(x)\n",
    "b = str(str(str(str(str(str(x))))))\n",
    "```"
   ]
  },
  {
   "cell_type": "markdown",
   "metadata": {
    "slideshow": {
     "slide_type": "fragment"
    }
   },
   "source": [
    "```python\n",
    "x = str(input(\"Zein da zure izena? \"))\n",
    "b = str(str(str(str(str(str(input(\"Zein da zure izena? \")))))))\n",
    "```"
   ]
  },
  {
   "cell_type": "markdown",
   "metadata": {
    "slideshow": {
     "slide_type": "slide"
    }
   },
   "source": [
    "### `x` karaktere kate bat ez bada, `str(x)` arriskutsua izan daiteke"
   ]
  },
  {
   "cell_type": "markdown",
   "metadata": {
    "slideshow": {
     "slide_type": "fragment"
    }
   },
   "source": [
    "```python\n",
    "def f(izena):\n",
    "    izena2 = str(izena)\n",
    "    ...\n",
    "```\n",
    "\n",
    "**Galdera**: `izena` aldagaia `str` motakoa ez bada... zein motatakoa da orduan? "
   ]
  },
  {
   "cell_type": "markdown",
   "metadata": {
    "slideshow": {
     "slide_type": "slide"
    }
   },
   "source": [
    "### `x` zerrenda bat bada, `list(x)`-k ez du *askorako* balio\n",
    "\n",
    "&rarr; ... kopia bat baino ez da "
   ]
  },
  {
   "cell_type": "markdown",
   "metadata": {
    "slideshow": {
     "slide_type": "fragment"
    }
   },
   "source": [
    "```python\n",
    "x = \"kaixo\"\n",
    "b = str(x)\n",
    "b = str(str(str(str(str(str(x))))))\n",
    "```"
   ]
  },
  {
   "cell_type": "code",
   "execution_count": null,
   "metadata": {},
   "outputs": [],
   "source": []
  }
 ],
 "metadata": {
  "celltoolbar": "Slideshow",
  "kernelspec": {
   "display_name": "Python 3",
   "language": "python",
   "name": "python3"
  },
  "language_info": {
   "codemirror_mode": {
    "name": "ipython",
    "version": 3
   },
   "file_extension": ".py",
   "mimetype": "text/x-python",
   "name": "python",
   "nbconvert_exporter": "python",
   "pygments_lexer": "ipython3",
   "version": "3.7.6"
  },
  "rise": {
   "autolaunch": true,
   "footer": "<h2 align=\"center\">Konputaziorako Sarrera</h2>",
   "scroll": true
  }
 },
 "nbformat": 4,
 "nbformat_minor": 2
}
