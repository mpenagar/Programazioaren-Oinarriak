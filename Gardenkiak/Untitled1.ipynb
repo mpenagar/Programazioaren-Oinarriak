{
 "cells": [
  {
   "cell_type": "code",
   "execution_count": 1,
   "metadata": {},
   "outputs": [
    {
     "data": {
      "text/plain": [
       "-8334702138109876578"
      ]
     },
     "execution_count": 1,
     "metadata": {},
     "output_type": "execute_result"
    }
   ],
   "source": [
    "hash('hola')"
   ]
  },
  {
   "cell_type": "markdown",
   "metadata": {},
   "source": [
    "$$\n",
    "zkh(a,b) = \\left\\{\n",
    "\\begin{matrix}\n",
    "b & , & a\\%b == 0\\\\\n",
    "zkh(b,a\\%b) & , & a\\%b \\ne 0\n",
    "\\end{matrix}\\right.\n",
    "$$\n"
   ]
  },
  {
   "cell_type": "markdown",
   "metadata": {},
   "source": [
    "$$\n",
    "zkh(a,b) = \\left\\{\n",
    "\\begin{matrix}\n",
    "b & , & a\\%b == 0\\\\\n",
    "1 & , & i=1\\\\\n",
    "fib(i-2)+fib(i-1) & , & i>1\n",
    "\\end{matrix}\\right.\n",
    "$$\n"
   ]
  },
  {
   "cell_type": "markdown",
   "metadata": {},
   "source": [
    "$$\n",
    "\\begin{matrix}\n",
    "0 & 0 & 0 & 3 & 0 & 0\\\\\n",
    "0 & 1 & 0 & 0 & 0 & 0\\\\\n",
    "0 & 0 & 0 & 0 & 0 & 0\\\\\n",
    "0 & 0 & 4 & 0 & 0 & 0\n",
    "\\end{matrix}\n",
    "$$\n"
   ]
  }
 ],
 "metadata": {
  "kernelspec": {
   "display_name": "Python 3",
   "language": "python",
   "name": "python3"
  },
  "language_info": {
   "codemirror_mode": {
    "name": "ipython",
    "version": 3
   },
   "file_extension": ".py",
   "mimetype": "text/x-python",
   "name": "python",
   "nbconvert_exporter": "python",
   "pygments_lexer": "ipython3",
   "version": "3.7.6"
  }
 },
 "nbformat": 4,
 "nbformat_minor": 4
}
