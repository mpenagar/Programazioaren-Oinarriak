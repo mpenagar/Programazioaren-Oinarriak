{
 "cells": [
  {
   "cell_type": "markdown",
   "metadata": {
    "slideshow": {
     "slide_type": "slide"
    }
   },
   "source": [
    "# Hash Taulak ( _Associative array_ , _Elkartze Arrayak_ )\n",
    "\n",
    "   * _gako_ -etatik _balio_ -etarako aplikazioa\n",
    "   * Python-eko `dict` eta `set` objektuak\n",
    "   * _gako_ -aren gain _Hash funtzio_ bat aplikatzean, arrayari dagokion indize bat lortu.\n",
    "\n",
    "<img src=\"../img/HashTable.png\" alt=\"Hash Table\" style=\"width: 400px;\"/>"
   ]
  },
  {
   "cell_type": "markdown",
   "metadata": {
    "slideshow": {
     "slide_type": "slide"
    }
   },
   "source": [
    "## Hash Funtzioa\n",
    "\n",
    "   * Edozein informazioren gain aplikatzean, tamaina finkoko balio bat (zenbaki bat) lortu.\n",
    "   * Informazio baten _sinadura_ (laburpen) digitala.\n",
    "   * Propietateak:\n",
    "      * Hash balioen banaketa uniformea\n",
    "      * Berdinak diren bi objektuen hash balioak berdinak dira\n",
    "         * Kontrakoak ez du zertan egia izan behar. \n",
    "   * Adibide bat:\n",
    "        * [SHA256:](https://andersbrownworth.com/blockchain/hash)  _informazioa_ &rarr; 256 bit"
   ]
  },
  {
   "cell_type": "markdown",
   "metadata": {
    "slideshow": {
     "slide_type": "slide"
    }
   },
   "source": [
    "## Hash Taulen bi erabilpen\n",
    "\n",
    "* **Hash Map** (hiztegiak) : `gako` &rarr; `(gako,balio)`\n",
    "* **Hash Set** (multzoak) : `gako` &rarr; `(gako,)`\n"
   ]
  },
  {
   "cell_type": "markdown",
   "metadata": {
    "slideshow": {
     "slide_type": "slide"
    }
   },
   "source": [
    "## Hash Taulen inplementazioa\n",
    "\n",
    "   * $N$ tamainako Taula/Array/Zerrenda bat erabili.\n",
    "   * Okupazio faktorea (*load factor*): $LF : {n_{stored}}/{N}$\n",
    "   * $g$ gako bati taulan dagokion posizioa: $i \\; = \\; hash(g)\\; \\% \\; N$\n",
    "   * *Talkak* edo *kolisioak* gerta daitezke\n",
    "      * **Kolisioa**: Bi $g_1 , g_2$ gako ezberdinei $i_1 = i_2$ posizio berdina esleitzea\n",
    "      * $hash(g_1) = hash(g_2)$ balio berdina izan dezakete.\n",
    "      * $hash(g_1) \\ne hash(g_2)$ izanda ere,  $(hash(g_1)\\, \\% \\, N) = (hash(g_2)\\, \\% \\, N)$ gerta daiteke."
   ]
  },
  {
   "cell_type": "code",
   "execution_count": 1,
   "metadata": {
    "slideshow": {
     "slide_type": "slide"
    }
   },
   "outputs": [
    {
     "name": "stdout",
     "output_type": "stream",
     "text": [
      "5440056905610189769 9\n",
      "1199183044890590629 9\n"
     ]
    }
   ],
   "source": [
    "print(hash(\"kaixo\"), hash(\"kaixo\") % 10)\n",
    "print(hash(\"kaixoooooooooooooooo\"), hash(\"kaixoooooooooooooooo\") % 10)"
   ]
  },
  {
   "cell_type": "code",
   "execution_count": null,
   "metadata": {
    "slideshow": {
     "slide_type": "slide"
    }
   },
   "outputs": [],
   "source": [
    "print(hash(\"John Smith\"))\n",
    "print(hash(\"John smith\"))\n",
    "print(hash(\"John smith\") % 2)\n",
    "print(hash(\"John Smithx\") % 2)\n"
   ]
  },
  {
   "cell_type": "markdown",
   "metadata": {
    "slideshow": {
     "slide_type": "slide"
    }
   },
   "source": [
    "### Kolisioen ebazpena I : Taula berdimentsionatu\n",
    "\n",
    "* Kolisio bat ematen den bakoitzean, taularen tamaina handitu dezakegu.\n",
    "* Tamaina handitzean, talka berri baten probabilitatea txikiagoa da.\n",
    "   * Baina... zenbatekoa da probabilitate hori?\n",
    "   * 2450 gako baditugu 1.000.000 tamaina duen taula batetan (400-etik gelaxka bakarra okupatua), guztiz uniformea den hash funtzio bat erabilita ere, talka bat gertatzeko probabilitatea 95% da\n",
    "   * _Birthday Problem_ edo [Urtebetetzeen Ebazkizuna](https://eu.wikipedia.org/wiki/Urtebetetzeen_ebazkizuna)\n",
    "* $LF \\; \\ll \\; 1$\n",
    "* Memoriaren erabilpen **oso kaxkarra**"
   ]
  },
  {
   "cell_type": "markdown",
   "metadata": {
    "slideshow": {
     "slide_type": "slide"
    }
   },
   "source": [
    "### Kolisioen ebazpena II : Helbideratze Irekia (*Open addressing*)\n",
    "\n",
    "* $g$ gako bati taulan dagokion posizioa ez da $i \\; = \\; hash(g)\\; \\% \\; N$ izango\n",
    "* $i$ posiziotik abiatuko gara\n",
    "    * elementua topatu arte\n",
    "    * gelaxka huts bat topatu arte\n",
    "\n",
    "<img src=\"../img/HashTable_OA.png\" alt=\"Hash Table - Open addressing\" style=\"width: 400px;\"/>\n"
   ]
  },
  {
   "cell_type": "markdown",
   "metadata": {
    "slideshow": {
     "slide_type": "slide"
    }
   },
   "source": [
    "**Helbideratze Irekia**-ren ezaugarriak:\n",
    "\n",
    "* Hash balioen banaketa uniformeak garrantzi handia du\n",
    "* $LF \\; <= \\; 1$\n",
    "* $LF \\; > 0.7$ &rarr; **errendimendu eskasa**  &rarr; Taula berdimentsionatu\n",
    "\n",
    "<img src=\"../img/Hash_table_average_insertion_time.png\" alt=\"Hash Table - Average insertion time\" style=\"width: 400px;\"/>\n",
    "\n"
   ]
  },
  {
   "cell_type": "markdown",
   "metadata": {
    "slideshow": {
     "slide_type": "slide"
    }
   },
   "source": [
    "### Kolisioen ebazpena III : Kateatze Banatua (*Separate Chaining*)\n",
    "\n",
    "* $g$ gako bati taulako $i \\; = \\; hash(g)\\; \\% \\; N$ posizioko **zerrenda** dagokio \n",
    "\n",
    "<img src=\"../img/HashTable_CH.png\" alt=\"Hash Table - Separate Chaining\" style=\"width: 400px;\"/>\n"
   ]
  },
  {
   "cell_type": "markdown",
   "metadata": {
    "slideshow": {
     "slide_type": "slide"
    }
   },
   "source": [
    "**Kateatze Banatua**-ren ezaugarriak:\n",
    "\n",
    "* $LF \\; > \\; 1$ izan daiteke\n",
    "* $LF \\; \\gg 1$ &rarr; **errendimendu eskasa**  &rarr; Taula berdimentsionatu\n",
    "\n",
    "<img src=\"../img/Hash_table_average_insertion_time.png\" alt=\"Hash Table - Average insertion time\" style=\"width: 400px;\"/>"
   ]
  }
 ],
 "metadata": {
  "celltoolbar": "Slideshow",
  "kernelspec": {
   "display_name": "Python 3",
   "language": "python",
   "name": "python3"
  },
  "language_info": {
   "codemirror_mode": {
    "name": "ipython",
    "version": 3
   },
   "file_extension": ".py",
   "mimetype": "text/x-python",
   "name": "python",
   "nbconvert_exporter": "python",
   "pygments_lexer": "ipython3",
   "version": "3.7.6"
  },
  "rise": {
   "autolaunch": false,
   "footer": "<h2 align=\"center\">Konputaziorako Sarrera</h2>",
   "scroll": true
  }
 },
 "nbformat": 4,
 "nbformat_minor": 2
}
