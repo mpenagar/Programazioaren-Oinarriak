{
 "cells": [
  {
   "cell_type": "markdown",
   "metadata": {
    "hide_input": true,
    "slideshow": {
     "slide_type": "slide"
    }
   },
   "source": [
    "# `list` - Zerrendak\n",
    "\n",
    " * `list` motako objektuak\n",
    " * Objektu sekuentzia **ALDAKORRA**.\n",
    "    * Objektu guztiek ez dute mota berdinekoa izan beharrik.\n",
    " * Propietateak: Iteragarriak, Indexagarriak, Aldakorrak\n",
    " * Metodoak: 11 (`append`, `clear`, `copy`, `count`, `extend`, `index`, `insert`, `pop`, `remove`, `reverse`, `sort`)\n",
    " * Eragileak: `+` , `*` , `in` , `not in`"
   ]
  },
  {
   "cell_type": "markdown",
   "metadata": {
    "slideshow": {
     "slide_type": "slide"
    }
   },
   "source": [
    "## Iteragarritasuna\n",
    "Elementuak zeharkatzearekin nahikoa denean...\n",
    "\n",
    "**Ariketa:** Kontatu zenbat aldiz agertzen den elementu bat zerrenda batetan."
   ]
  },
  {
   "cell_type": "code",
   "execution_count": 1,
   "metadata": {
    "slideshow": {
     "slide_type": "fragment"
    }
   },
   "outputs": [
    {
     "name": "stdout",
     "output_type": "stream",
     "text": [
      "3\n",
      "3\n"
     ]
    }
   ],
   "source": [
    "def kontatzen(x,z):\n",
    "    k = 0\n",
    "    for y in z :\n",
    "        if x == y :\n",
    "            k += 1\n",
    "    return k\n",
    "\n",
    "print(kontatzen(3,[1,2,3,1,2,3,1,2,3]))\n",
    "\n",
    "def kontatzen(x,z):\n",
    "    return z.count(x)\n",
    "\n",
    "print(kontatzen(3,[1,2,3,1,2,3,1,2,3]))"
   ]
  },
  {
   "cell_type": "markdown",
   "metadata": {
    "slideshow": {
     "slide_type": "slide"
    }
   },
   "source": [
    "## Indexagarritasuna\n",
    "Elementuen posizioak zerbaitetarako _behar_ ditugunean.\n",
    "\n",
    "**Ariketa:** Bi zerrenda ditugu, batean izenak eta bestean telefono zenbakiak, bilatu pertsona baten telefono zenbakia. "
   ]
  },
  {
   "cell_type": "code",
   "execution_count": 8,
   "metadata": {
    "slideshow": {
     "slide_type": "fragment"
    }
   },
   "outputs": [
    {
     "name": "stdout",
     "output_type": "stream",
     "text": [
      "634543234\n"
     ]
    }
   ],
   "source": [
    "def bilatu(pertsona,izenak,telefonoak):\n",
    "    pertsona = pertsona.lower()\n",
    "    for i in range(len(izenak)) :\n",
    "        if izenak[i].lower() ==  pertsona:\n",
    "            return telefonoak[i]\n",
    "    return None\n",
    "\n",
    "z1 = ['iñaki' , 'arantxa', 'irati']\n",
    "z2 = [645342354 , 634543234 , 686534238]\n",
    "print(bilatu('Arantxa',z1,z2))"
   ]
  },
  {
   "cell_type": "markdown",
   "metadata": {
    "slideshow": {
     "slide_type": "slide"
    }
   },
   "source": [
    "`enumerate` funtzioa erabilgarria izan daiteke sekuentzia bat zeharkatzeko eta elementuan posizioak kudeatzeko. Tupla sekuentzia bat bueltatzen du, indizeez eta balioez osotua:"
   ]
  },
  {
   "cell_type": "code",
   "execution_count": 28,
   "metadata": {
    "slideshow": {
     "slide_type": "fragment"
    }
   },
   "outputs": [
    {
     "name": "stdout",
     "output_type": "stream",
     "text": [
      "<enumerate object at 0x7f8fb804bb40>\n",
      "[(0, 34), (1, 234), (2, 123)]\n",
      "(0, 34) (1, 234) (2, 123)\n",
      "[(100, 34), (101, 234), (102, 123)]\n",
      "----------------------------------------\n",
      "[(0, 34), (1, 234), (2, 123)]\n",
      "[]\n",
      "[0, 1, 2, 3, 4, 5, 6, 7, 8, 9]\n",
      "[0, 1, 2, 3, 4, 5, 6, 7, 8, 9]\n"
     ]
    }
   ],
   "source": [
    "z = [34,234,123]\n",
    "print(enumerate(z))\n",
    "print(list(enumerate(z)))\n",
    "print(*enumerate(z))\n",
    "print(list(enumerate(z,100)))\n",
    "print(\"-\"*40)\n",
    "e = enumerate(z)\n",
    "print(list(e))\n",
    "print(list(e))\n",
    "r = range(10)\n",
    "print(list(r))\n",
    "print(list(r))\n"
   ]
  },
  {
   "cell_type": "markdown",
   "metadata": {
    "slideshow": {
     "slide_type": "slide"
    }
   },
   "source": [
    "Bikote sekuentzia bat zeharkatzeko aukerak:"
   ]
  },
  {
   "cell_type": "markdown",
   "metadata": {
    "slideshow": {
     "slide_type": "fragment"
    }
   },
   "source": [
    "   * Tupplak erabiliz:"
   ]
  },
  {
   "cell_type": "code",
   "execution_count": 29,
   "metadata": {},
   "outputs": [
    {
     "name": "stdout",
     "output_type": "stream",
     "text": [
      "0 posizioan: a\n",
      "1 posizioan: e\n",
      "2 posizioan: i\n",
      "3 posizioan: o\n",
      "4 posizioan: u\n"
     ]
    }
   ],
   "source": [
    "for t in enumerate(\"aeiou\") :\n",
    "    print(t[0],'posizioan:',t[1])"
   ]
  },
  {
   "cell_type": "markdown",
   "metadata": {
    "slideshow": {
     "slide_type": "fragment"
    }
   },
   "source": [
    "   * Esleipen anitza erabiliz:"
   ]
  },
  {
   "cell_type": "code",
   "execution_count": 30,
   "metadata": {},
   "outputs": [
    {
     "name": "stdout",
     "output_type": "stream",
     "text": [
      "0 posizioan: a\n",
      "1 posizioan: e\n",
      "2 posizioan: i\n",
      "3 posizioan: o\n",
      "4 posizioan: u\n"
     ]
    }
   ],
   "source": [
    "for i,x in enumerate(\"aeiou\") :\n",
    "    print(i,'posizioan:',x)"
   ]
  },
  {
   "cell_type": "markdown",
   "metadata": {
    "slideshow": {
     "slide_type": "slide"
    }
   },
   "source": [
    "Zer da _esleipen anitza_ delako hori?"
   ]
  },
  {
   "cell_type": "markdown",
   "metadata": {
    "slideshow": {
     "slide_type": "fragment"
    }
   },
   "source": [
    "   * Python-en esleipen anitzak egin ditzakegu:"
   ]
  },
  {
   "cell_type": "code",
   "execution_count": 35,
   "metadata": {
    "slideshow": {
     "slide_type": "-"
    }
   },
   "outputs": [
    {
     "name": "stdout",
     "output_type": "stream",
     "text": [
      "1 2 3\n"
     ]
    }
   ],
   "source": [
    "#a, b, c = (1, 2, 3)\n",
    "a, b, c = 1, 2, 3\n",
    "print(a,b,c)"
   ]
  },
  {
   "cell_type": "markdown",
   "metadata": {
    "slideshow": {
     "slide_type": "fragment"
    }
   },
   "source": [
    "   * Esleipen anitzak elkarraldaketak egiteko erabili ohi dira:"
   ]
  },
  {
   "cell_type": "code",
   "execution_count": 36,
   "metadata": {
    "slideshow": {
     "slide_type": "-"
    }
   },
   "outputs": [
    {
     "name": "stdout",
     "output_type": "stream",
     "text": [
      "2 1\n"
     ]
    }
   ],
   "source": [
    "a = 1\n",
    "b = 2 \n",
    "a , b = b , a\n",
    "print(a,b)"
   ]
  },
  {
   "cell_type": "markdown",
   "metadata": {
    "slideshow": {
     "slide_type": "slide"
    }
   },
   "source": [
    "   * Esleipenaren eskuinaldean edozein sekuentzia jar dezakegu:"
   ]
  },
  {
   "cell_type": "code",
   "execution_count": 37,
   "metadata": {
    "slideshow": {
     "slide_type": "-"
    }
   },
   "outputs": [
    {
     "name": "stdout",
     "output_type": "stream",
     "text": [
      "0 1 2\n"
     ]
    }
   ],
   "source": [
    "a, b, c = range(3)\n",
    "print(a,b,c)"
   ]
  },
  {
   "cell_type": "markdown",
   "metadata": {
    "slideshow": {
     "slide_type": "fragment"
    }
   },
   "source": [
    "   * Esleipenaren ezkerraldean _egiturak_ agertu daitezke:"
   ]
  },
  {
   "cell_type": "code",
   "execution_count": 38,
   "metadata": {
    "slideshow": {
     "slide_type": "-"
    }
   },
   "outputs": [
    {
     "name": "stdout",
     "output_type": "stream",
     "text": [
      "1 x y\n"
     ]
    }
   ],
   "source": [
    "a, (b, c) = 1 , \"xy\"\n",
    "print(a,b,c)"
   ]
  },
  {
   "cell_type": "code",
   "execution_count": 39,
   "metadata": {
    "slideshow": {
     "slide_type": "-"
    }
   },
   "outputs": [
    {
     "name": "stdout",
     "output_type": "stream",
     "text": [
      "0 1 x y\n"
     ]
    }
   ],
   "source": [
    "(a, b) , (c, d) = range(2) , \"xy\"\n",
    "print(a,b,c,d)"
   ]
  },
  {
   "cell_type": "markdown",
   "metadata": {
    "slideshow": {
     "slide_type": "slide"
    }
   },
   "source": [
    "   * Ezkerreko egituraren eta eskuineko sekuentziaren tamainek bat egin behar dute:"
   ]
  },
  {
   "cell_type": "code",
   "execution_count": 42,
   "metadata": {
    "slideshow": {
     "slide_type": "-"
    }
   },
   "outputs": [],
   "source": [
    "# ValueError: too many values to unpack (expected 3)\n",
    "#a, b, c = range(10)\n",
    "\n",
    "# ValueError: not enough values to unpack (expected 3, got 2)\n",
    "#a, b, c = \"eo\""
   ]
  },
  {
   "cell_type": "markdown",
   "metadata": {
    "slideshow": {
     "slide_type": "slide"
    }
   },
   "source": [
    "`for` kontrol egituretan, zeharkatzen dugun sekuentzia azpisekuentziez osotua badago, nahi adina aldagai jar ditzakegu:"
   ]
  },
  {
   "cell_type": "code",
   "execution_count": 43,
   "metadata": {},
   "outputs": [
    {
     "name": "stdout",
     "output_type": "stream",
     "text": [
      "1 \teuskara: bat \tenglish: one\n",
      "1\teuskara: bat\tenglish: one\n",
      "2 \teuskara: bi \tenglish: two\n",
      "2\teuskara: bi\tenglish: two\n",
      "3 \teuskara: hiru \tenglish: three\n",
      "3\teuskara: hiru\tenglish: three\n"
     ]
    }
   ],
   "source": [
    "z = [ (1,'bat','one') , (2,'bi','two') , (3,'hiru','three') ]\n",
    "for n,eu,en in z :\n",
    "     print(n,'\\teuskara:',eu,'\\tenglish:',en)\n",
    "     print(f'{n}\\teuskara: {eu}\\tenglish: {en}')"
   ]
  },
  {
   "cell_type": "markdown",
   "metadata": {
    "slideshow": {
     "slide_type": "slide"
    }
   },
   "source": [
    "### ariketara bueltatuz...\n",
    "\n",
    "`enumerate` funtzioa erabiliz izenen zerrenda zeharkatu dezakegu eta telefono zenbakiena indexatu: "
   ]
  },
  {
   "cell_type": "code",
   "execution_count": 46,
   "metadata": {
    "slideshow": {
     "slide_type": "fragment"
    }
   },
   "outputs": [
    {
     "name": "stdout",
     "output_type": "stream",
     "text": [
      "634543234\n"
     ]
    }
   ],
   "source": [
    "def bilatu(pertsona,izenak,telefonoak):\n",
    "    for pos,izen in enumerate(izenak) :\n",
    "        if izen == pertsona :\n",
    "            return telefonoak[pos]\n",
    "    return None\n",
    "\n",
    "z1 = ['iñaki' , 'arantxa', 'irati']\n",
    "z2 = [645342354 , 634543234 , 686534238]\n",
    "print(bilatu('arantxa',z1,z2))"
   ]
  },
  {
   "cell_type": "markdown",
   "metadata": {
    "slideshow": {
     "slide_type": "slide"
    }
   },
   "source": [
    "`zip` funtzioa oso erabilgarria bi sekuentzia (edo gehiago) batera zeharkatzeko. Tupla sekuentzia bat bueltatzen du, sekuentzia bakoitzeko elementuez osotua:"
   ]
  },
  {
   "cell_type": "code",
   "execution_count": 47,
   "metadata": {
    "slideshow": {
     "slide_type": "fragment"
    }
   },
   "outputs": [
    {
     "name": "stdout",
     "output_type": "stream",
     "text": [
      "<zip object at 0x7f8fa9f5afa0>\n",
      "<class 'zip'>\n",
      "('iñaki', 645342354) ('arantxa', 634543234) ('irati', 686534238)\n",
      "[('iñaki', 645342354), ('arantxa', 634543234), ('irati', 686534238)]\n",
      "----------------------------------------\n",
      "[('iñaki', 645342354), ('arantxa', 634543234), ('irati', 686534238)]\n",
      "[]\n"
     ]
    }
   ],
   "source": [
    "z1 = ['iñaki' , 'arantxa', 'irati']\n",
    "z2 = [645342354 , 634543234 , 686534238]\n",
    "print(zip(z1,z2))\n",
    "print(type(zip(z1,z2)))\n",
    "print(*zip(z1,z2))\n",
    "print(list(zip(z1,z2)))\n",
    "print(\"-\"*40)\n",
    "z = zip(z1,z2)\n",
    "print(list(z))\n",
    "print(list(z))"
   ]
  },
  {
   "cell_type": "markdown",
   "metadata": {
    "slideshow": {
     "slide_type": "slide"
    }
   },
   "source": [
    "`zip` funtzioa erabiliz aurreko ariketako bi zerrendak batera zeharkatu ditzakegu: "
   ]
  },
  {
   "cell_type": "code",
   "execution_count": 48,
   "metadata": {
    "slideshow": {
     "slide_type": "fragment"
    }
   },
   "outputs": [
    {
     "name": "stdout",
     "output_type": "stream",
     "text": [
      "634543234\n"
     ]
    }
   ],
   "source": [
    "def bilatu(pertsona,izenak,telefonoak):\n",
    "    for izen,tel in zip(izenak,telefonoak) :\n",
    "        if izen == pertsona :\n",
    "            return tel\n",
    "    return None\n",
    "\n",
    "z1 = ['iñaki' , 'arantxa', 'irati']\n",
    "z2 = [645342354 , 634543234 , 686534238]\n",
    "print(bilatu('arantxa',z1,z2))"
   ]
  },
  {
   "cell_type": "markdown",
   "metadata": {
    "slideshow": {
     "slide_type": "slide"
    }
   },
   "source": [
    "`zip` funtzioaren argumentutako batek besteak baina elementu gutxiago badu, tupla sekuentzia _agortu_ egiten da: "
   ]
  },
  {
   "cell_type": "code",
   "execution_count": 49,
   "metadata": {
    "slideshow": {
     "slide_type": "fragment"
    }
   },
   "outputs": [
    {
     "data": {
      "text/plain": [
       "[('k', 'a'), ('j', 'e'), ('h', 'i'), ('b', 'o'), ('k', 'u')]"
      ]
     },
     "execution_count": 49,
     "metadata": {},
     "output_type": "execute_result"
    }
   ],
   "source": [
    "list(zip(\"kjhbkjhvkjhvkljgcvkhgcvjhgcv\",\"aeiou\"))"
   ]
  },
  {
   "cell_type": "code",
   "execution_count": 50,
   "metadata": {
    "slideshow": {
     "slide_type": "fragment"
    }
   },
   "outputs": [
    {
     "data": {
      "text/plain": [
       "[('a', 'k'), ('e', 'j'), ('i', 'h'), ('o', 'b'), ('u', 'k')]"
      ]
     },
     "execution_count": 50,
     "metadata": {},
     "output_type": "execute_result"
    }
   ],
   "source": [
    "list(zip(\"aeiou\",\"kjhbkjhvkjhvkljgcvkhgcvjhgcv\"))"
   ]
  },
  {
   "cell_type": "code",
   "execution_count": 51,
   "metadata": {
    "slideshow": {
     "slide_type": "fragment"
    }
   },
   "outputs": [
    {
     "data": {
      "text/plain": [
       "[-20, 4, 416, -369, 181, -201, -29, 18, 31, -31, 29, -47, -3]"
      ]
     },
     "execution_count": 51,
     "metadata": {},
     "output_type": "execute_result"
    }
   ],
   "source": [
    "z = [23,3,7,423,54,235,34,5,23,54,23,52,5,2]\n",
    "z2 = []\n",
    "for b,a in zip(z[1:],z):\n",
    "    z2.append(b-a)\n",
    "z2"
   ]
  },
  {
   "cell_type": "markdown",
   "metadata": {
    "slideshow": {
     "slide_type": "slide"
    }
   },
   "source": [
    "`enumerate` moduko objektuak `zip`-en bidez sortu ditzakegu: "
   ]
  },
  {
   "cell_type": "code",
   "execution_count": 5,
   "metadata": {
    "slideshow": {
     "slide_type": "fragment"
    }
   },
   "outputs": [
    {
     "name": "stdout",
     "output_type": "stream",
     "text": [
      "(0, 34);(1, 234);(2, 123)\n",
      "(0, 34) (1, 234) (2, 123)\n",
      "(100, 34) (101, 234) (102, 123)\n",
      "(100, 34) (101, 234) (102, 123)\n"
     ]
    }
   ],
   "source": [
    "def my_enumerate(it, start=0):\n",
    "    return zip(range(start,start+10**300),it)\n",
    "\n",
    "z = [34,234,123]\n",
    "print(*enumerate(z))\n",
    "print(*my_enumerate(z))\n",
    "print(*enumerate(z,100))\n",
    "print(*my_enumerate(z,100))"
   ]
  },
  {
   "cell_type": "markdown",
   "metadata": {
    "slideshow": {
     "slide_type": "slide"
    }
   },
   "source": [
    "## Eragileak: `+` , `*` , `in` , `not in`\n",
    "\n",
    "* `+` &rarr; konkatenazioa\n",
    "* `*` &rarr; konkatenazio errepikatua\n",
    "* `in` , `not in` &rarr; `True`/`False` "
   ]
  },
  {
   "cell_type": "markdown",
   "metadata": {
    "slideshow": {
     "slide_type": "slide"
    }
   },
   "source": [
    "## KONTUZ  `+`  eta `+=` eragileen erabilpenarekin\n",
    "\n",
    "* `z` zerrenda bat izanik, ondoko kodeak baliokideak dira:\n",
    "```python\n",
    "z.extend(x)\n",
    "z += x\n",
    "```\n",
    "* Aurrekoan oinarrituz, ondoko kodeak baliokideak dira ere:\n",
    "```python\n",
    "z.append(x)\n",
    "z.extend([x])\n",
    "z.extend((x,))\n",
    "z += [x]\n",
    "z += (x,)\n",
    "```\n"
   ]
  },
  {
   "cell_type": "markdown",
   "metadata": {
    "slideshow": {
     "slide_type": "slide"
    }
   },
   "source": [
    "Baina `z += [x]` eta `z = z + [x]`, eta `z += x` eta `z = z + x` **EZ DIRA BALIOKIDEAK**"
   ]
  },
  {
   "cell_type": "code",
   "execution_count": null,
   "metadata": {
    "slideshow": {
     "slide_type": "fragment"
    }
   },
   "outputs": [],
   "source": [
    "z = list(\"aeiou\")\n",
    "y = z\n",
    "z += [\"A\"]\n",
    "print(z==y,z,y)\n",
    "z = z + [\"B\"]\n",
    "print(z==y,z,y)"
   ]
  },
  {
   "cell_type": "code",
   "execution_count": null,
   "metadata": {
    "slideshow": {
     "slide_type": "fragment"
    }
   },
   "outputs": [],
   "source": [
    "z = list(\"aeiou\")\n",
    "y = z\n",
    "z += [\"AB\"]\n",
    "print(z==y,z,y)\n",
    "z = z + [\"CD\"]\n",
    "print(z==y,z,y)"
   ]
  },
  {
   "cell_type": "markdown",
   "metadata": {
    "slideshow": {
     "slide_type": "slide"
    }
   },
   "source": [
    "### Gomendioa:\n",
    "* Ez erabili `+=` &rarr; `append` eta `extend` argiagoak dira.\n",
    "* Ez erabili `+` beharrezkoa ez bada.\n",
    "   * Bi zerrrenden konkatenazioa behar dugunean, bietako bat ere aldatu gabe."
   ]
  },
  {
   "cell_type": "markdown",
   "metadata": {
    "slideshow": {
     "slide_type": "slide"
    }
   },
   "source": [
    "## Zerrenden metodoak\n",
    "\n",
    "* 11 metodo: `append`, `clear`, `copy`, `count`, `extend`, `index`, `insert`, `pop`, `remove`, `reverse`, `sort`\n",
    "* Batzuk erroreak sortu ditzakete:\n",
    "   * `index` &rarr; $\\texttt{Raises ValueError if the value is not present}$\n",
    "   * `pop` &rarr; $\\texttt{Raises IndexError if list is empty or index is out of range}$\n",
    "   * `remove` &rarr; $\\texttt{Raises ValueError if the value is not present}$\n",
    "* Batzuk _bizkorrak_ dira (zerrendaren luzerarekiko askeak):\n",
    "   * `append`, `clear`, `extend`, `insert(len(z),x)`, `pop()`\n",
    "* Batzuk _motelak_ dira (geroz eta zerrenda luzeagoa, geroz eta motelagoak):\n",
    "   * `copy`, `count`, `index`, `insert`, `pop(0)`, `remove`, `reverse`, `sort`"
   ]
  },
  {
   "cell_type": "markdown",
   "metadata": {
    "slideshow": {
     "slide_type": "slide"
    }
   },
   "source": [
    "## *Slice* notazioa\n",
    "\n",
    "* Objetu indexagarrietan elementu bat baina gehiago adierazteko aukera\n",
    "* `a[i:j]` eta `a[i:j:k]`-k objektu berriak sortzen dituzte."
   ]
  },
  {
   "cell_type": "code",
   "execution_count": null,
   "metadata": {
    "slideshow": {
     "slide_type": "-"
    }
   },
   "outputs": [],
   "source": [
    "a = \"abcdefghijklmnñopqrstuvwxyz\"\n",
    "b = list(a)\n",
    "print(a==a[:],a is a[:])\n",
    "print(b==b[:],b is b[:])"
   ]
  },
  {
   "cell_type": "markdown",
   "metadata": {
    "slideshow": {
     "slide_type": "slide"
    }
   },
   "source": [
    "Slice notazioa esleipenaren ezkerraldean erabili daiteke, eskuinaldean iteragarri bat badago:"
   ]
  },
  {
   "cell_type": "code",
   "execution_count": null,
   "metadata": {
    "slideshow": {
     "slide_type": "fragment"
    }
   },
   "outputs": [],
   "source": [
    "z = list(range(10))\n",
    "# Esleipenaren eskuinaldean iteragarri bat behar dugu\n",
    "#z[0:1] = 100\n",
    "z[0:5] = \"aeiou\"\n",
    "z"
   ]
  },
  {
   "cell_type": "markdown",
   "metadata": {
    "slideshow": {
     "slide_type": "slide"
    }
   },
   "source": [
    "Iteragarriaren tamaina **handiagoa** edo **txikiagoa** izan daiteke, zerrendan elementuak **txertatuz** edo **ezabatuz**:"
   ]
  },
  {
   "cell_type": "code",
   "execution_count": null,
   "metadata": {
    "slideshow": {
     "slide_type": "fragment"
    }
   },
   "outputs": [],
   "source": [
    "z = list(range(10))\n",
    "z[0:5] = \"aei\"\n",
    "print(z)\n",
    "z[0:3] = range(5)\n",
    "print(z)"
   ]
  },
  {
   "cell_type": "markdown",
   "metadata": {
    "slideshow": {
     "slide_type": "slide"
    }
   },
   "source": [
    "Slice notazioko hurratsa ere erabil daiteke:"
   ]
  },
  {
   "cell_type": "code",
   "execution_count": null,
   "metadata": {
    "slideshow": {
     "slide_type": "fragment"
    }
   },
   "outputs": [],
   "source": [
    "z = list(range(10))\n",
    "z[::2] = \"aeiou\"\n",
    "z"
   ]
  },
  {
   "cell_type": "markdown",
   "metadata": {
    "slideshow": {
     "slide_type": "slide"
    }
   },
   "source": [
    "## Elementuak ezabatzeko modu ezberdinak daude\n",
    "* `pop` metodoa\n",
    "* `remove` metodoa\n",
    "* Slice notazioa\n",
    "* `del` eragilea"
   ]
  },
  {
   "cell_type": "markdown",
   "metadata": {
    "slideshow": {
     "slide_type": "slide"
    }
   },
   "source": [
    "### `pop` metodoa:\n",
    "   * `pop(index=-1)` &rarr; $\\texttt{Remove and return item at index}$\n",
    "   * Elementuaren posizioa ezagutu behar dugu\n",
    "   * Ezabatuko den elementua ezagutu nahi dugunean\n",
    "   * **gogoratu** `pop(0)` motela dela..."
   ]
  },
  {
   "cell_type": "code",
   "execution_count": null,
   "metadata": {
    "slideshow": {
     "slide_type": "fragment"
    }
   },
   "outputs": [],
   "source": [
    "z = list(\"aeiou\")\n",
    "while z :\n",
    "#while len(z) :\n",
    "#while len(z) > 0 :\n",
    "    x = z.pop()\n",
    "    print('Ezabatutako elementua:', x, \"zerrendaren tamaina berria:\", len(z))"
   ]
  },
  {
   "cell_type": "markdown",
   "metadata": {
    "slideshow": {
     "slide_type": "slide"
    }
   },
   "source": [
    "### `remove` metodoa:\n",
    "   * `remove(value)` &rarr; $\\texttt{Remove first occurrence of value.}$\n",
    "   * Elementuaren balioa ezagutu behar dugu\n",
    "   * **gogoratu** `remove()` motela dela...\n",
    "   * **gogoratu** `remove()`-ek erroreak sortu ditzakela..."
   ]
  },
  {
   "cell_type": "markdown",
   "metadata": {
    "slideshow": {
     "slide_type": "slide"
    }
   },
   "source": [
    "**Ariketa**: Ezabatu karaktere kate batetatik `a`-ren agerpen guztiak."
   ]
  },
  {
   "cell_type": "code",
   "execution_count": null,
   "metadata": {
    "slideshow": {
     "slide_type": "fragment"
    }
   },
   "outputs": [],
   "source": [
    "s1 = \"a letra guztiak\"\n",
    "z = list(s1)\n",
    "while 'a' in z :\n",
    "    z.remove('a')\n",
    "    #print(z)\n",
    "    print(*z,sep='')\n",
    "s2 = \"\".join(z)\n",
    "print(f'\"{s2}\"')"
   ]
  },
  {
   "cell_type": "code",
   "execution_count": null,
   "metadata": {
    "slideshow": {
     "slide_type": "slide"
    }
   },
   "outputs": [],
   "source": [
    "s1 = \"a letra guztiak\"\n",
    "s2 = \"\"\n",
    "for x in s1 :\n",
    "    if x != 'a' :\n",
    "        s2 += x\n",
    "print(f'\"{s2}\"')"
   ]
  },
  {
   "cell_type": "code",
   "execution_count": null,
   "metadata": {
    "slideshow": {
     "slide_type": "slide"
    }
   },
   "outputs": [],
   "source": [
    "s1 = \"a letra guztiak\"\n",
    "z = []\n",
    "for x in s1 :\n",
    "    if x != 'a' :\n",
    "        z.append(x)\n",
    "s2 = \"\".join(z)\n",
    "print(f'\"{s2}\"')"
   ]
  },
  {
   "cell_type": "code",
   "execution_count": null,
   "metadata": {
    "slideshow": {
     "slide_type": "slide"
    }
   },
   "outputs": [],
   "source": [
    "help(\"\".replace)"
   ]
  },
  {
   "cell_type": "code",
   "execution_count": null,
   "metadata": {
    "slideshow": {
     "slide_type": "fragment"
    }
   },
   "outputs": [],
   "source": [
    "s1 = \"a letra guztiak\"\n",
    "s2 = s1.replace('a','')\n",
    "print(f'\"{s2}\"')"
   ]
  },
  {
   "cell_type": "markdown",
   "metadata": {
    "slideshow": {
     "slide_type": "slide"
    }
   },
   "source": [
    "### Slice notazioa:\n",
    "   * Iteragarriaren tamaina esleitzen diren elementu kopurua baino txikiagoa bada, elementuak ezabatuko dira.\n",
    "   * Elementu bat baina gehiago ezabatzeko aukera ematen du\n",
    "   * **kontuz**: ez da programazio estilo oso argia..."
   ]
  },
  {
   "cell_type": "code",
   "execution_count": null,
   "metadata": {
    "slideshow": {
     "slide_type": "fragment"
    }
   },
   "outputs": [],
   "source": [
    "z = list(range(10))\n",
    "z[5:] = range(3) \n",
    "print(z)\n",
    "z[0:1] = range(0) \n",
    "print(z)"
   ]
  },
  {
   "cell_type": "markdown",
   "metadata": {
    "slideshow": {
     "slide_type": "slide"
    }
   },
   "source": [
    "Sekuentzia huts bat esleitzean, berdin dio datu mota zein den.."
   ]
  },
  {
   "cell_type": "code",
   "execution_count": null,
   "metadata": {
    "slideshow": {
     "slide_type": "-"
    }
   },
   "outputs": [],
   "source": [
    "z[5:] = []\n",
    "z"
   ]
  },
  {
   "cell_type": "code",
   "execution_count": null,
   "metadata": {
    "slideshow": {
     "slide_type": "-"
    }
   },
   "outputs": [],
   "source": [
    "z[3:] = \"\"\n",
    "z"
   ]
  },
  {
   "cell_type": "markdown",
   "metadata": {
    "slideshow": {
     "slide_type": "slide"
    }
   },
   "source": [
    "### `del` eragilea:\n",
    "   * Slice notazioa sekuentzia huts batekin esleitzearen baliokidea\n",
    "   * **Askozaz ere argiagoa**"
   ]
  },
  {
   "cell_type": "code",
   "execution_count": null,
   "metadata": {},
   "outputs": [],
   "source": [
    "z = list(range(10))\n",
    "del z[5:]\n",
    "print(z)\n",
    "del z[0]\n",
    "print(z)"
   ]
  },
  {
   "cell_type": "markdown",
   "metadata": {
    "slideshow": {
     "slide_type": "slide"
    }
   },
   "source": [
    "## Zerrendak eta karaktere kateak\n",
    "\n",
    "   * Karaktere kateen `split` eta `join` metodoak osagarriak dira\n",
    "   * `split(sep=None, maxsplit=-1)` : `str` &rarr; `list<of str>`\n",
    "      * Karaktere kate  &rarr;  karaktere kate zerrenda\n",
    "   * `join(iterable)` : `seq<of str>` &rarr; `str` \n",
    "      * Karaktere kate sekuentzia  &rarr;  karaktere kate"
   ]
  },
  {
   "cell_type": "markdown",
   "metadata": {
    "slideshow": {
     "slide_type": "slide"
    }
   },
   "source": [
    "**Gogoratu**: `split` funtzioak `str` sekuentzia bat bueltatzen du:\n",
    "```python\n",
    "sum(\"1 2 3 4\".split())\n",
    "\n",
    "TypeError: unsupported operand type(s) for +: 'int' and 'str'\n",
    "```"
   ]
  },
  {
   "cell_type": "code",
   "execution_count": null,
   "metadata": {
    "slideshow": {
     "slide_type": "fragment"
    }
   },
   "outputs": [],
   "source": [
    "z = []\n",
    "for x in \"1 2 3 4\".split() :\n",
    "    z.append(int(x))\n",
    "sum(z)"
   ]
  },
  {
   "cell_type": "markdown",
   "metadata": {
    "slideshow": {
     "slide_type": "slide"
    }
   },
   "source": [
    "## Zerrendak eta funtzio argumentuak\n",
    "\n",
    "* Funtzio bat exekutatzean, bere argumentuetan adierazten den objektuaren **erreferentzia**ren kopia bat jasotzen du.\n",
    "* Argumentua zerrenda bat denean, funtzioak zerrenda horretan aldaketak egin ditzake.\n",
    "   * Aldaketa hauek funtzioa exekutatua izan deneko kontextuan somatu daiteke\n",
    "* Guzti hau aldakorra den edozein objekturekin ere gertatuko da.\n"
   ]
  },
  {
   "cell_type": "code",
   "execution_count": null,
   "metadata": {
    "slideshow": {
     "slide_type": "slide"
    }
   },
   "outputs": [],
   "source": [
    "def f(z):\n",
    "    z[0] = None\n",
    "\n",
    "x = list(\"aeiou\")\n",
    "f(x)\n",
    "print(x)"
   ]
  },
  {
   "cell_type": "markdown",
   "metadata": {
    "slideshow": {
     "slide_type": "-"
    }
   },
   "source": [
    "&rarr; [view in Python Tutor](http://pythontutor.com/live.html#code=def%20f%28z%29%3A%0A%20%20%20%20z%5B0%5D%20%3D%20None%0A%0Ax%20%3D%20list%28%22aeiou%22%29%0Af%28x%29&cumulative=false&curInstr=6&heapPrimitives=nevernest&mode=display&origin=opt-live.js&py=3&rawInputLstJSON=%5B%5D&textReferences=false)"
   ]
  },
  {
   "cell_type": "code",
   "execution_count": null,
   "metadata": {
    "slideshow": {
     "slide_type": "slide"
    }
   },
   "outputs": [],
   "source": [
    "def f(z):\n",
    "    del z[0]\n",
    "\n",
    "x = list(\"aeiou\")\n",
    "f(x)\n",
    "print(x)"
   ]
  },
  {
   "cell_type": "markdown",
   "metadata": {
    "slideshow": {
     "slide_type": "-"
    }
   },
   "source": [
    "&rarr; [view in Python Tutor](http://pythontutor.com/live.html#code=def%20f%28z%29%3A%0A%20%20%20%20del%20z%5B0%5D%0A%0Ax%20%3D%20list%28%22aeiou%22%29%0Af%28x%29&cumulative=false&curInstr=0&heapPrimitives=nevernest&mode=display&origin=opt-live.js&py=3&rawInputLstJSON=%5B%5D&textReferences=false)"
   ]
  },
  {
   "cell_type": "code",
   "execution_count": null,
   "metadata": {
    "slideshow": {
     "slide_type": "slide"
    }
   },
   "outputs": [],
   "source": [
    "def f(z):\n",
    "    z = z[1:]\n",
    "\n",
    "x = list(\"aeiou\")\n",
    "f(x)\n",
    "print(x)"
   ]
  },
  {
   "cell_type": "markdown",
   "metadata": {
    "slideshow": {
     "slide_type": "-"
    }
   },
   "source": [
    "&rarr; [view in Python Tutor](http://pythontutor.com/live.html#code=def%20f%28z%29%3A%0A%20%20%20%20z%20%3D%20z%5B1%3A%5D%0A%0Ax%20%3D%20list%28%22aeiou%22%29%0Af%28x%29&cumulative=false&curInstr=0&heapPrimitives=nevernest&mode=display&origin=opt-live.js&py=3&rawInputLstJSON=%5B%5D&textReferences=false)"
   ]
  },
  {
   "cell_type": "markdown",
   "metadata": {
    "slideshow": {
     "slide_type": "slide"
    }
   },
   "source": [
    "```python\n",
    "def f(z):\n",
    "    z = None\n",
    "x = list(\"aeiou\")\n",
    "f(x)\n",
    "\n",
    "```\n",
    "   * `z = None` sententziak ez du jasotako `z` zerrenda aldatu, baizik eta `z` aldagaia erabili objektu berri baten erreferentzia bezala.\n",
    "   * `z = None` ostean, `z` aldagaiak ez du zerikusirik `x` aldagaiarekin.\n",
    "   * Hau baliokidea litzateke:\n",
    "```python\n",
    "x = list(\"aeiou\")\n",
    "z = x\n",
    "z = None\n",
    "```"
   ]
  },
  {
   "cell_type": "markdown",
   "metadata": {
    "slideshow": {
     "slide_type": "slide"
    }
   },
   "source": [
    "## Matrizeak: zerrenden zerrendak\n",
    "\n",
    "* Zerrendak indexagarriak direnez, zerrenda baten zerrenda bat gordetzean indize bikoitzak erabil daitezke.\n",
    "```python\n",
    "M = [ [1,2,3,4] , [5,6,7,8] , [9,10,11,12] ]\n",
    "```\n",
    "* `M[1]`-k `M` zerrendako bigarren elementua adierazten du &rarr; bigarren ilarako zerrenda.\n",
    "* `M[1][3]`-k `M[1]`zerrendako laugarren elementua adierazten du &rarr; bigarren ilarako laugarren zutabeko elementua.\n",
    "\n",
    "&rarr; [view in Python Tutor](http://pythontutor.com/live.html#code=M%20%3D%20%5B%20%5B1,2,3,4%5D%20,%20%5B5,6,7,8%5D%20,%20%5B9,10,11,12%5D%20%5D%0A%0Az%20%3D%20M%5B1%5D%0A%0Ax%20%3D%20z%5B3%5D%0Ay%20%3D%20M%5B1%5D%5B3%5D&cumulative=false&curInstr=4&heapPrimitives=nevernest&mode=display&origin=opt-live.js&py=3&rawInputLstJSON=%5B%5D&textReferences=false)"
   ]
  },
  {
   "cell_type": "markdown",
   "metadata": {
    "slideshow": {
     "slide_type": "-"
    }
   },
   "source": [
    "<table border=\"0\" width=\"100%\" style=\"margin: 0px;\">\n",
    "<tr>  \n",
    "  <td style=\"text-align:left\"><a href=\"Karaktere kateak.ipynb\">&lt; &lt; Karaktere kateak &lt; &lt;</a></td>\n",
    "  <td style=\"text-align:right\"><a href=\"NKoteak.ipynb\">&gt; &gt; NKoteak &gt; &gt;</a></td>\n",
    "</tr>\n",
    "</table>"
   ]
  }
 ],
 "metadata": {
  "celltoolbar": "Slideshow",
  "kernelspec": {
   "display_name": "Python 3",
   "language": "python",
   "name": "python3"
  },
  "language_info": {
   "codemirror_mode": {
    "name": "ipython",
    "version": 3
   },
   "file_extension": ".py",
   "mimetype": "text/x-python",
   "name": "python",
   "nbconvert_exporter": "python",
   "pygments_lexer": "ipython3",
   "version": "3.7.6"
  },
  "rise": {
   "autolaunch": false,
   "footer": "<h2 align=\"center\">Konputaziorako Sarrera</h2>",
   "scroll": true
  }
 },
 "nbformat": 4,
 "nbformat_minor": 2
}
