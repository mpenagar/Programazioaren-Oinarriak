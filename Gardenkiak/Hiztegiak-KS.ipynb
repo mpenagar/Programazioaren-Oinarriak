{
 "cells": [
  {
   "cell_type": "markdown",
   "metadata": {
    "slideshow": {
     "slide_type": "slide"
    }
   },
   "source": [
    "# Hiztegiak\n",
    "\n",
    "* `dict` motako objektuak\n",
    "* **Gako-Balio** bikotez osotutako multzo aldakorra.\n",
    "  * Gakoek multzo bat osatzen dute\n",
    "  * Balioek sekuentzia bat osatzen dute\n",
    "* Hiztegiak sortzeko aukerak:\n",
    "  1. Objektuaren berezko metodoaz &rarr; `dict(it)  dict(**kwargs)`\n",
    "  1. Balio literala &rarr; `{g1:b1 , g2:b2 , g3:b3, ... }`\n",
    "* `len()` funtzioa &rarr; sarrera (gako-balio bikote) kopurua"
   ]
  },
  {
   "cell_type": "markdown",
   "metadata": {
    "slideshow": {
     "slide_type": "slide"
    }
   },
   "source": [
    "### Hiztegi hutsa"
   ]
  },
  {
   "cell_type": "code",
   "execution_count": 1,
   "metadata": {
    "slideshow": {
     "slide_type": "-"
    }
   },
   "outputs": [
    {
     "name": "stdout",
     "output_type": "stream",
     "text": [
      "{} 0\n"
     ]
    }
   ],
   "source": [
    "# hiztegi hutsa\n",
    "h = dict()\n",
    "print(h,len(h))"
   ]
  },
  {
   "cell_type": "code",
   "execution_count": 2,
   "metadata": {
    "slideshow": {
     "slide_type": "-"
    }
   },
   "outputs": [
    {
     "name": "stdout",
     "output_type": "stream",
     "text": [
      "{} 0\n"
     ]
    }
   ],
   "source": [
    "# hiztegi hutsa\n",
    "h = {}\n",
    "print(h,len(h))"
   ]
  },
  {
   "cell_type": "markdown",
   "metadata": {
    "slideshow": {
     "slide_type": "slide"
    }
   },
   "source": [
    "### `{g1:b1 , g2:b2 , g3:b3, ... }`\n",
    "Adierazitako bikoteez osotutako hiztegia sortzen du:"
   ]
  },
  {
   "cell_type": "code",
   "execution_count": 2,
   "metadata": {
    "slideshow": {
     "slide_type": "-"
    }
   },
   "outputs": [
    {
     "name": "stdout",
     "output_type": "stream",
     "text": [
      "{'Jon': 23, 'Enara': 19, 'Ane': 21} 3\n"
     ]
    }
   ],
   "source": [
    "adinak = {\"Jon\":23 , \"Enara\":19 , \"Ane\":21}\n",
    "print(adinak,len(adinak))"
   ]
  },
  {
   "cell_type": "markdown",
   "metadata": {
    "slideshow": {
     "slide_type": "slide"
    }
   },
   "source": [
    "### `dict(iteragarria)`\n",
    "Iteragarria zeharkatu eta bere bikoteez osotutako hiztegia sortzen du:"
   ]
  },
  {
   "cell_type": "code",
   "execution_count": 4,
   "metadata": {
    "slideshow": {
     "slide_type": "-"
    }
   },
   "outputs": [
    {
     "name": "stdout",
     "output_type": "stream",
     "text": [
      "{'Jon': 23, 'Enara': 19, 'Ane': 21} 3\n",
      "{'Jon': 23, 'Enara': 19, 'Ane': 21} 3\n"
     ]
    }
   ],
   "source": [
    "adinak = dict([(\"Jon\",23),(\"Enara\",19),(\"Ane\",21)])\n",
    "print(adinak,len(adinak))\n",
    "adinak = dict(([\"Jon\",23],(\"Enara\",19),(\"Ane\",21)))\n",
    "print(adinak,len(adinak))"
   ]
  },
  {
   "cell_type": "code",
   "execution_count": 7,
   "metadata": {
    "slideshow": {
     "slide_type": "-"
    }
   },
   "outputs": [
    {
     "name": "stdout",
     "output_type": "stream",
     "text": [
      "[(0, 'zero'), (1, 'bat'), (2, 'bi'), (3, 'hiru'), (4, 'lau'), (5, 'bat')]\n",
      "{0: 'zero', 1: 'bat', 2: 'bi', 3: 'hiru', 4: 'lau', 5: 'bat'} 6\n"
     ]
    }
   ],
   "source": [
    "zenbakiak = (\"zero\",\"bat\",\"bi\",\"hiru\",\"lau\",\"bat\")\n",
    "print(list(enumerate(zenbakiak)))\n",
    "h = dict(enumerate(zenbakiak))\n",
    "print(h,len(h))"
   ]
  },
  {
   "cell_type": "markdown",
   "metadata": {
    "slideshow": {
     "slide_type": "slide"
    }
   },
   "source": [
    "### `dict(**kwargs)`\n",
    "\n",
    "Keyword argumentuak gako bezala (`str` motakoak) eta beren balioez osotutako hiztegia sortzen du:"
   ]
  },
  {
   "cell_type": "code",
   "execution_count": 6,
   "metadata": {
    "slideshow": {
     "slide_type": "-"
    }
   },
   "outputs": [
    {
     "name": "stdout",
     "output_type": "stream",
     "text": [
      "{'Jon': 23, 'Enara': 19, 'Ane': 21} 3\n"
     ]
    }
   ],
   "source": [
    "adinak = dict(Jon=23,Enara=19,Ane=21)\n",
    "print(adinak,len(adinak))"
   ]
  },
  {
   "cell_type": "code",
   "execution_count": 7,
   "metadata": {
    "slideshow": {
     "slide_type": "-"
    }
   },
   "outputs": [
    {
     "name": "stdout",
     "output_type": "stream",
     "text": [
      "{'zero': 0, 'bat': 1, 'bi': 2, 'hiru': 3, 'lau': 4, 'bost': 5} 6\n",
      "{0: 'zero', 1: 'bat', 2: 'bi', 3: 'hiru', 4: 'lau', 5: 'bost'} 6\n"
     ]
    }
   ],
   "source": [
    "h1 = dict(zero=0,bat=1,bi=2,hiru=3,lau=4,bost=5)\n",
    "h2 = dict(enumerate((\"zero\",\"bat\",\"bi\",\"hiru\",\"lau\",\"bost\")))\n",
    "print(h1,len(h1))\n",
    "print(h2,len(h2))"
   ]
  },
  {
   "cell_type": "markdown",
   "metadata": {
    "slideshow": {
     "slide_type": "slide"
    }
   },
   "source": [
    "## Hiztegien ezaugarriak\n",
    "\n",
    "* Indexagarriak &rarr; `h[5]` `h[\"jon\"]`\n",
    "   * Indizeak: aldaezinak diren objektuak\n",
    "* Iteragarriak &rarr; `for i in h :`\n",
    "* Aldakorrak &rarr; `h[zerbait] = beste_zerbait`"
   ]
  },
  {
   "cell_type": "markdown",
   "metadata": {
    "slideshow": {
     "slide_type": "slide"
    }
   },
   "source": [
    "### Hiztegien *indizeak* (gakoak)  &rarr;  balio aldaezinak dituzten objektuak"
   ]
  },
  {
   "cell_type": "code",
   "execution_count": 8,
   "metadata": {
    "slideshow": {
     "slide_type": "-"
    }
   },
   "outputs": [
    {
     "name": "stdout",
     "output_type": "stream",
     "text": [
      "23\n"
     ]
    }
   ],
   "source": [
    "h = {\"Jon\":23 , \"Enara\":19 , \"Ane\":21}\n",
    "print(h[\"Jon\"])"
   ]
  },
  {
   "cell_type": "code",
   "execution_count": 9,
   "metadata": {
    "slideshow": {
     "slide_type": "-"
    }
   },
   "outputs": [
    {
     "name": "stdout",
     "output_type": "stream",
     "text": [
      "lau\n"
     ]
    }
   ],
   "source": [
    "h = {0:'zero', 1:'bat', 2:'bi', 3:'hiru', 4:'lau', 5:'bost'}\n",
    "print(h[4])"
   ]
  },
  {
   "cell_type": "markdown",
   "metadata": {
    "slideshow": {
     "slide_type": "slide"
    }
   },
   "source": [
    "### Zein objektuk dute balio aldaezina?\n",
    "* Balioz aldatu ezin daitezkeenak\n",
    "* `int` &rarr; balio aldaezina\n",
    "* `float` &rarr; balio aldaezina\n",
    "* `bool` &rarr; balio aldaezina\n",
    "* `str` &rarr; balio aldaezina\n",
    "* `None` &rarr; balio aldaezina\n",
    "* `list` &rarr; **balio aldakorra**\n",
    "* `tuple` &rarr; **balio aldakorra** izan lezake (???????)"
   ]
  },
  {
   "cell_type": "markdown",
   "metadata": {
    "slideshow": {
     "slide_type": "slide"
    }
   },
   "source": [
    "### Baina NKoteak ez ziren aldaezinak?\n",
    "* Bai, NKoteak eduki aldaezina dute...\n",
    "  * Baina balio aldakorra izan dezakete.\n",
    "  * Bere barnean dauden objektuak aldakorrak izan daitezke\n",
    "* Bi NKote, balio berdina izatetik ezberdina izatera pasa daitezke: "
   ]
  },
  {
   "cell_type": "code",
   "execution_count": 10,
   "metadata": {
    "slideshow": {
     "slide_type": "fragment"
    }
   },
   "outputs": [
    {
     "name": "stdout",
     "output_type": "stream",
     "text": [
      "('AAA', 'BBB', [3, 4])\n",
      "('AAA', 'BBB', [3, 4])\n",
      "True\n",
      "('AAA', 'BBB', [3, 4, 'a', 'e', 'i', 'o', 'u'])\n",
      "('AAA', 'BBB', [3, 4])\n",
      "False\n"
     ]
    }
   ],
   "source": [
    "a = ( \"AAA\" , \"BBB\" , [3,4])\n",
    "b = ( \"AAA\" , \"BBB\" , [3,4])\n",
    "print(a,b,a==b,sep=\"\\n\")\n",
    "a[2].extend(\"aeiou\")\n",
    "print(a,b,a==b,sep=\"\\n\")"
   ]
  },
  {
   "cell_type": "markdown",
   "metadata": {
    "slideshow": {
     "slide_type": "slide"
    }
   },
   "source": [
    "### Beraz, NKoteak ezin daitezke hiztegien gako izan?\n",
    "* Bai, izan daitezke.\n",
    "* Balio aldaezina badute\n",
    "  * Bere barnean dauden objektuak aldaezinak badira."
   ]
  },
  {
   "cell_type": "code",
   "execution_count": 11,
   "metadata": {
    "slideshow": {
     "slide_type": "-"
    }
   },
   "outputs": [
    {
     "name": "stdout",
     "output_type": "stream",
     "text": [
      "{1: 'bat', 'bi': 2, (3, 4): 'zerbait'}\n"
     ]
    }
   ],
   "source": [
    "h = {}\n",
    "h[1] = \"bat\"\n",
    "h[\"bi\"] = 2\n",
    "h[(3,4)] = \"zerbait\"\n",
    "# TypeError: unhashable type: 'list'\n",
    "#h[(0,[1,2])] = \"kk\"\n",
    "print(h)"
   ]
  },
  {
   "cell_type": "markdown",
   "metadata": {
    "slideshow": {
     "slide_type": "slide"
    }
   },
   "source": [
    "## Iteragarritasuna\n",
    "* Hiztegi bat zeharkatzean, bere gakoak zeharkatzen ditugu.\n",
    "* Hiztegia zeharkatzean, ez dugu inongo ordenik espero.\n",
    "  * Azkeneko bertsioetan bai..."
   ]
  },
  {
   "cell_type": "code",
   "execution_count": 12,
   "metadata": {
    "slideshow": {
     "slide_type": "fragment"
    }
   },
   "outputs": [
    {
     "name": "stdout",
     "output_type": "stream",
     "text": [
      "[0, 1, 2, 3, 4, 5]\n"
     ]
    }
   ],
   "source": [
    "h = {0:'zero', 1:'bat', 2:'bi', 3:'hiru', 4:'lau', 5:'bost'}\n",
    "print(list(h))"
   ]
  },
  {
   "cell_type": "markdown",
   "metadata": {
    "slideshow": {
     "slide_type": "slide"
    }
   },
   "source": [
    "Hiztegi baten gako, balio eta sarrera sekuentziak lor ditzakegu:\n",
    "* `dict.keys()` &rarr; gako sekuentzia\n",
    "* `dict.values()` &rarr; balio sekuentzia\n",
    "* `dict.items()` &rarr; (gako,balio) bikote sekuentzia"
   ]
  },
  {
   "cell_type": "code",
   "execution_count": 8,
   "metadata": {
    "slideshow": {
     "slide_type": "-"
    }
   },
   "outputs": [
    {
     "name": "stdout",
     "output_type": "stream",
     "text": [
      "[0, 1, 2, 3, 5]\n",
      "[0, 1, 2, 3, 5]\n",
      "['zero', 'bat', 'bi', 'lau', 'bat']\n",
      "[(0, 'zero'), (1, 'bat'), (2, 'bi'), (3, 'lau'), (5, 'bat')]\n"
     ]
    }
   ],
   "source": [
    "h = {0:'zero', 1:'bat', 2:'bi', 3:'hiru', 3:'lau', 5:'bat'}\n",
    "print(list(h))\n",
    "print(list(h.keys()))\n",
    "print(list(h.values()))\n",
    "print(list(h.items()))"
   ]
  },
  {
   "cell_type": "markdown",
   "metadata": {
    "slideshow": {
     "slide_type": "slide"
    }
   },
   "source": [
    "Hiztegien gako/balio sarrerak zeharkatzeko aukera bat:"
   ]
  },
  {
   "cell_type": "code",
   "execution_count": 9,
   "metadata": {},
   "outputs": [
    {
     "name": "stdout",
     "output_type": "stream",
     "text": [
      "0 --> zero\n",
      "1 --> bat\n",
      "2 --> bi\n",
      "3 --> hiru\n",
      "4 --> lau\n",
      "5 --> bost\n"
     ]
    }
   ],
   "source": [
    "h = {0:'zero', 1:'bat', 2:'bi', 3:'hiru', 4:'lau', 5:'bost'}\n",
    "for g in h:\n",
    "    b = h[g]\n",
    "    print(g,\"-->\",b)"
   ]
  },
  {
   "cell_type": "markdown",
   "metadata": {
    "slideshow": {
     "slide_type": "slide"
    }
   },
   "source": [
    "Baina askozaz errazago (eta **bizkorrago**) egin daiteke:"
   ]
  },
  {
   "cell_type": "code",
   "execution_count": 11,
   "metadata": {},
   "outputs": [
    {
     "name": "stdout",
     "output_type": "stream",
     "text": [
      "0 --> zero\n",
      "1 --> bat\n",
      "2 --> bi\n",
      "3 --> hiru\n",
      "4 --> lau\n",
      "5 --> bost\n",
      "--------\n",
      "0 --> zero\n",
      "1 --> bat\n",
      "2 --> bi\n",
      "3 --> hiru\n",
      "4 --> lau\n",
      "5 --> bost\n"
     ]
    }
   ],
   "source": [
    "h = {0:'zero', 1:'bat', 2:'bi', 3:'hiru', 4:'lau', 5:'bost'}\n",
    "for g in h:\n",
    "    b = h[g]\n",
    "    print(g,\"-->\",b)\n",
    "    \n",
    "print(\"--------\")\n",
    "for g,b in h.items():\n",
    "    print(g,\"-->\",b)"
   ]
  },
  {
   "cell_type": "markdown",
   "metadata": {
    "slideshow": {
     "slide_type": "slide"
    }
   },
   "source": [
    "## Hiztegien eragileak\n",
    "* `h1==h2` , `h1!=h2` &rarr; `bool` : edukiarekiko konparaketa\n",
    "* `g in h`, `g not in h` &rarr; `bool` : `g` gakoa `h` hiztegian ote dagoen\n",
    "* `a is b` &rarr; `bool` : `a` objektua `b` ote den"
   ]
  },
  {
   "cell_type": "markdown",
   "metadata": {
    "slideshow": {
     "slide_type": "slide"
    }
   },
   "source": [
    "## Hiztegien metodoak\n",
    "\n",
    "* Metodo hauek izendatzeko: `hiztegia.metodo_izena`\n",
    "* Hiztegiek, [11 metodo](https://docs.python.org/3/library/stdtypes.html#typesmapping) dituzte.\n",
    "```\n",
    "keys(...) method of builtins.dict instance\n",
    "    D.keys() -> a set-like object providing a view on D's keys\n",
    "```\n",
    "```\n",
    "values(...) method of builtins.dict instance\n",
    "    D.values() -> an object providing a view on D's values\n",
    "```\n",
    "```\n",
    "items(...) method of builtins.dict instance\n",
    "    D.items() -> a set-like object providing a view on D's items\n",
    "```"
   ]
  },
  {
   "cell_type": "markdown",
   "metadata": {
    "slideshow": {
     "slide_type": "slide"
    }
   },
   "source": [
    "### dict.clear\n",
    "```\n",
    "clear(...) method of builtins.dict instance\n",
    "    D.clear() -> None.  Remove all items from D.\n",
    "```"
   ]
  },
  {
   "cell_type": "markdown",
   "metadata": {
    "slideshow": {
     "slide_type": "slide"
    }
   },
   "source": [
    "### dict.copy\n",
    "```\n",
    "copy(...) method of builtins.dict instance\n",
    "    D.copy() -> a shallow copy of D\n",
    "```"
   ]
  },
  {
   "cell_type": "code",
   "execution_count": 16,
   "metadata": {
    "slideshow": {
     "slide_type": "-"
    }
   },
   "outputs": [
    {
     "name": "stdout",
     "output_type": "stream",
     "text": [
      "{'a': [1, 2, 3], 'b': [4, 5, 6]}\n",
      "{'a': [1, 2, 3], 'b': [4, 5, 6]}\n",
      "True\n",
      "{'a': [1, 2, 3, 'EPAAA'], 'b': [4, 5, 6]}\n",
      "{'a': [1, 2, 3, 'EPAAA'], 'b': [4, 5, 6]}\n"
     ]
    }
   ],
   "source": [
    "h1 = {\"a\":[1,2,3],\"b\":[4,5,6]}\n",
    "h2 = h1.copy()\n",
    "print(h1,h2,sep=\"\\n\")\n",
    "print(h2[\"a\"] is h1[\"a\"])\n",
    "h1[\"a\"].append(\"EPAAA\")\n",
    "print(h1,h2,sep=\"\\n\")"
   ]
  },
  {
   "cell_type": "markdown",
   "metadata": {
    "slideshow": {
     "slide_type": "slide"
    }
   },
   "source": [
    "### dict.fromkeys\n",
    "```\n",
    "fromkeys(iterable, value=None, /) method of builtins.type instance\n",
    "    Returns a new dict with keys from iterable and values equal to value.\n",
    "```\n",
    "* Normalean objekturik gabe erabilia (`dict` erabiliz):"
   ]
  },
  {
   "cell_type": "code",
   "execution_count": 17,
   "metadata": {},
   "outputs": [
    {
     "name": "stdout",
     "output_type": "stream",
     "text": [
      "{'a': 0, 'e': 0, 'i': 0, 'o': 0, 'u': 0}\n",
      "{'a': 5, 'e': 7, 'i': 1, 'o': 2, 'u': 1}\n"
     ]
    }
   ],
   "source": [
    "h =  dict.fromkeys(\"aeiou\",0)\n",
    "print(h)\n",
    "for k in \"ea zenbat bokal agertzen diren testu honetan\":\n",
    "    if k in \"aeiou\":\n",
    "        h[k] += 1\n",
    "print(h)"
   ]
  },
  {
   "cell_type": "markdown",
   "metadata": {
    "slideshow": {
     "slide_type": "slide"
    }
   },
   "source": [
    "### dict.get\n",
    "```\n",
    "get(...) method of builtins.dict instance\n",
    "    D.get(k[,d]) -> D[k] if k in D, else d.  d defaults to None.\n",
    "```\n",
    "* `h[k]` &rarr; errorea, `k` gakorik ez badago \n",
    "* `h.get(k)` &rarr; `None` bueltatu, `k` gakorik ez badago \n",
    "* `h.get(k,x)` &rarr; `x` bueltatu, `k` gakorik ez badago "
   ]
  },
  {
   "cell_type": "code",
   "execution_count": 18,
   "metadata": {
    "slideshow": {
     "slide_type": "slide"
    }
   },
   "outputs": [
    {
     "name": "stdout",
     "output_type": "stream",
     "text": [
      "{'e': 8, 'a': 4, ' ': 6, 'z': 2, 'i': 2, 'n': 5, 'l': 1, 't': 5, 'r': 3, 'g': 1, 'd': 1, 's': 1, 'u': 1, 'h': 1, 'o': 1}\n"
     ]
    }
   ],
   "source": [
    "h = {}\n",
    "for k in \"ea zein letra agertzen diren testu honetan\":\n",
    "    if k not in h :\n",
    "        h[k] = 1\n",
    "    else :\n",
    "        h[k] += 1\n",
    "print(h)"
   ]
  },
  {
   "cell_type": "code",
   "execution_count": 19,
   "metadata": {
    "slideshow": {
     "slide_type": "fragment"
    }
   },
   "outputs": [
    {
     "name": "stdout",
     "output_type": "stream",
     "text": [
      "{'e': 8, 'a': 4, ' ': 6, 'z': 2, 'i': 2, 'n': 5, 'l': 1, 't': 5, 'r': 3, 'g': 1, 'd': 1, 's': 1, 'u': 1, 'h': 1, 'o': 1}\n"
     ]
    }
   ],
   "source": [
    "h = {}\n",
    "for k in \"ea zein letra agertzen diren testu honetan\":\n",
    "        h[k] = h.get(k,0) + 1\n",
    "print(h)"
   ]
  },
  {
   "cell_type": "markdown",
   "metadata": {
    "slideshow": {
     "slide_type": "slide"
    }
   },
   "source": [
    "### dict.pop\n",
    "```\n",
    "pop(...) method of builtins.dict instance\n",
    "    D.pop(k[,d]) -> v, remove specified key and return the corresponding value.\n",
    "    If key is not found, d is returned if given, otherwise KeyError is raised\n",
    "```"
   ]
  },
  {
   "cell_type": "markdown",
   "metadata": {
    "slideshow": {
     "slide_type": "slide"
    }
   },
   "source": [
    "### dict.popitem\n",
    "```\n",
    "popitem(...) method of builtins.dict instance\n",
    "    D.popitem() -> (k, v), remove and return some (key, value) pair as a\n",
    "    2-tuple; but raise KeyError if D is empty.\n",
    "```"
   ]
  },
  {
   "cell_type": "markdown",
   "metadata": {
    "slideshow": {
     "slide_type": "slide"
    }
   },
   "source": [
    "### dict.setdefault\n",
    "```\n",
    "setdefault(...) method of builtins.dict instance\n",
    "    D.setdefault(k[,d]) -> D.get(k,d), also set D[k]=d if k not in D\n",
    "```"
   ]
  },
  {
   "cell_type": "markdown",
   "metadata": {
    "slideshow": {
     "slide_type": "slide"
    }
   },
   "source": [
    "### dict.update\n",
    "```\n",
    "update(...) method of builtins.dict instance\n",
    "    D.update([E, ]**F) -> None.  Update D from dict/iterable E and F.\n",
    "    If E is present and has a .keys() method, then does:  for k in E: D[k] = E[k]\n",
    "    If E is present and lacks a .keys() method, then does:  for k, v in E: D[k] = v\n",
    "    In either case, this is followed by: for k in F:  D[k] = F[k]\n",
    "```"
   ]
  },
  {
   "cell_type": "markdown",
   "metadata": {
    "slideshow": {
     "slide_type": "-"
    }
   },
   "source": [
    "<table border=\"0\" width=\"100%\" style=\"margin: 0px;\">\n",
    "<tr>  \n",
    "  <td style=\"text-align:left\"><a href=\"NKoteak.ipynb\">&lt; &lt; NKoteak &lt; &lt;</a></td>\n",
    "  <td style=\"text-align:right\"><a href=\"Multzoak.ipynb\">&gt; &gt; Multzoak &gt; &gt;</a></td>\n",
    "</tr>\n",
    "</table>"
   ]
  }
 ],
 "metadata": {
  "celltoolbar": "Slideshow",
  "kernelspec": {
   "display_name": "Python 3",
   "language": "python",
   "name": "python3"
  },
  "language_info": {
   "codemirror_mode": {
    "name": "ipython",
    "version": 3
   },
   "file_extension": ".py",
   "mimetype": "text/x-python",
   "name": "python",
   "nbconvert_exporter": "python",
   "pygments_lexer": "ipython3",
   "version": "3.7.6"
  },
  "rise": {
   "autolaunch": true,
   "footer": "<h2 align=\"center\">Konputaziorako Sarrera</h2>",
   "scroll": true
  }
 },
 "nbformat": 4,
 "nbformat_minor": 2
}
