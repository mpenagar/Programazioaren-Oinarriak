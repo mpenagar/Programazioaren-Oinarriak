{
 "cells": [
  {
   "cell_type": "markdown",
   "metadata": {
    "slideshow": {
     "slide_type": "slide"
    }
   },
   "source": [
    "# Multzoak\n",
    "\n",
    "* `set` motako objektuak\n",
    "* **Elementu** ez errepikatuz osotutako kolekzio aldakorra.\n",
    "  * *Baliorik gabeko* hiztegia\n",
    "* Multzoak sortzeko aukerak:\n",
    "  1. Objektuaren berezko metodoaz &rarr; `set(it)`\n",
    "  1. Balio literala &rarr; `{e1, e2, e3, ... }`\n",
    "* `len()` funtzioa &rarr; elementu kopurua"
   ]
  },
  {
   "cell_type": "markdown",
   "metadata": {
    "slideshow": {
     "slide_type": "slide"
    }
   },
   "source": [
    "### Multzo hutsa"
   ]
  },
  {
   "cell_type": "code",
   "execution_count": 1,
   "metadata": {
    "slideshow": {
     "slide_type": "-"
    }
   },
   "outputs": [
    {
     "name": "stdout",
     "output_type": "stream",
     "text": [
      "set() 0\n",
      "{} 0 <class 'dict'>\n"
     ]
    }
   ],
   "source": [
    "# multzo hutsa\n",
    "m = set()\n",
    "print(m,len(m))\n",
    "# kontuz, hau ez da multzo huts bat\n",
    "m = {}\n",
    "print(m,len(m),type(m))"
   ]
  },
  {
   "cell_type": "markdown",
   "metadata": {
    "slideshow": {
     "slide_type": "slide"
    }
   },
   "source": [
    "### `{e1 , e2 , e3, ... }`\n",
    "Adierazitako elementuez osotutako multzoa sortzen du:"
   ]
  },
  {
   "cell_type": "code",
   "execution_count": 2,
   "metadata": {
    "slideshow": {
     "slide_type": "-"
    }
   },
   "outputs": [
    {
     "name": "stdout",
     "output_type": "stream",
     "text": [
      "{'Jon', 'Ane', 'Enara'} 3\n"
     ]
    }
   ],
   "source": [
    "lagunak = {\"Jon\",\"Enara\",\"Ane\",\"Jon\"}\n",
    "print(lagunak,len(lagunak))"
   ]
  },
  {
   "cell_type": "markdown",
   "metadata": {
    "slideshow": {
     "slide_type": "slide"
    }
   },
   "source": [
    "### `set(iteragarria)`\n",
    "Iteragarria zeharkatu eta bere elementuez osotutako multzoa sortzen du:"
   ]
  },
  {
   "cell_type": "code",
   "execution_count": 3,
   "metadata": {
    "slideshow": {
     "slide_type": "-"
    }
   },
   "outputs": [
    {
     "name": "stdout",
     "output_type": "stream",
     "text": [
      "[0, 1, 2, 3, 4, 0, 1, 2, 3, 4, 0, 1, 2, 3, 4]\n",
      "{0, 1, 2, 3, 4}\n"
     ]
    }
   ],
   "source": [
    "zenbakiak = list(range(5))*3\n",
    "multzoa = set(zenbakiak)\n",
    "print(zenbakiak,multzoa,sep=\"\\n\")"
   ]
  },
  {
   "cell_type": "markdown",
   "metadata": {
    "slideshow": {
     "slide_type": "slide"
    }
   },
   "source": [
    "## Multzoen ezaugarriak\n",
    "\n",
    "\n",
    "* Iteragarriak &rarr; `for i in m :`\n",
    "* Aldakorrak\n",
    "\n",
    "### Multzoko elementuak  &rarr;  balio aldaezinak dituzten objektuak\n",
    "\n",
    "* Balioz aldatu ezin daitezkeenak\n",
    "* `int` &rarr; balio aldaezina\n",
    "* `float` &rarr; balio aldaezina\n",
    "* `bool` &rarr; balio aldaezina\n",
    "* `str` &rarr; balio aldaezina\n",
    "* `None` &rarr; balio aldaezina\n",
    "* `list` &rarr; **balio aldakorra**\n",
    "* `tuple` &rarr; **balio aldakorra** izan lezake"
   ]
  },
  {
   "cell_type": "markdown",
   "metadata": {
    "slideshow": {
     "slide_type": "slide"
    }
   },
   "source": [
    "## Iteragarritasuna\n",
    "* Multzo bat zeharkatzean, bere elementuak zeharkatzen ditugu.\n",
    "* Multzo bat zeharkatzean, ez dugu inongo ordenik espero."
   ]
  },
  {
   "cell_type": "code",
   "execution_count": 7,
   "metadata": {
    "slideshow": {
     "slide_type": "fragment"
    }
   },
   "outputs": [
    {
     "name": "stdout",
     "output_type": "stream",
     "text": [
      "['o', 'i', 'a', 'u', 'e']\n",
      "o i a u e\n",
      "{'o', 'i', 'a', 'u', 'e'}\n"
     ]
    }
   ],
   "source": [
    "m = set(\"aeiouaei\")\n",
    "#m = [0,1,2,3,4,5,6,7,8,9]\n",
    "print(list(m))\n",
    "print(*m)\n",
    "print(m)"
   ]
  },
  {
   "cell_type": "markdown",
   "metadata": {
    "slideshow": {
     "slide_type": "slide"
    }
   },
   "source": [
    "## Multzoen eragileak\n",
    "* `m1==m2` , `m1!=m2` &rarr; `bool` : edukiarekiko konparaketa\n",
    "* `e in m`, `e not in m` &rarr; `bool` : `e` elementua `m` multzoan ote dagoen\n",
    "* `a is b` &rarr; `bool` : `a` objektua `b` ote den\n",
    "* multzoen arteko eragiketak:\n",
    "   * `|` $\\to$ bilkura: `A | B` = $A \\cup B$  \n",
    "   * `&` $\\to$ ebakidura: `A & B` = $A \\cap B$\n",
    "   * ...\n",
    "   "
   ]
  },
  {
   "cell_type": "markdown",
   "metadata": {
    "slideshow": {
     "slide_type": "slide"
    }
   },
   "source": [
    "## Multzoen metodoak\n",
    "\n",
    "* Metodo hauek izendatzeko: `multzoa.metodo_izena`\n",
    "* Multzoek, [17 metodo](https://docs.python.org/3/library/stdtypes.html#set-types-set-frozenset) dituzte.\n",
    "   * Askok eragile baliokide bat dute.\n",
    "   * `add(element)`\n",
    "   * `pop()`\n",
    "   * `remove(element)`\n",
    "   * `clear()`"
   ]
  },
  {
   "cell_type": "markdown",
   "metadata": {
    "slideshow": {
     "slide_type": "slide"
    }
   },
   "source": [
    "### `union` edo `|`"
   ]
  },
  {
   "cell_type": "code",
   "execution_count": null,
   "metadata": {
    "slideshow": {
     "slide_type": "-"
    }
   },
   "outputs": [],
   "source": [
    "A = set(\"aeiou\")\n",
    "B = set(\"abcde\")\n",
    "C = A.union(B)\n",
    "print(A)\n",
    "print(B)\n",
    "print(C)\n",
    "C = A | B\n",
    "print(C)"
   ]
  },
  {
   "cell_type": "markdown",
   "metadata": {
    "slideshow": {
     "slide_type": "slide"
    }
   },
   "source": [
    "### `intersection` edo `&`"
   ]
  },
  {
   "cell_type": "code",
   "execution_count": null,
   "metadata": {
    "slideshow": {
     "slide_type": "-"
    }
   },
   "outputs": [],
   "source": [
    "A = set(\"aeiou\")\n",
    "B = set(\"abcde\")\n",
    "C = A.intersection(B)\n",
    "print(A)\n",
    "print(B)\n",
    "print(C)\n",
    "C = A & B\n",
    "print(C)"
   ]
  },
  {
   "cell_type": "markdown",
   "metadata": {
    "slideshow": {
     "slide_type": "slide"
    }
   },
   "source": [
    "### `update` edo `|=`"
   ]
  },
  {
   "cell_type": "code",
   "execution_count": null,
   "metadata": {
    "slideshow": {
     "slide_type": "-"
    }
   },
   "outputs": [],
   "source": [
    "A = set(\"aeiou\")\n",
    "B = set(\"abcde\")\n",
    "A.update(B)\n",
    "print(A)\n",
    "A = set(\"aeiou\")\n",
    "B = set(\"abcde\")\n",
    "A |= B\n",
    "print(A)"
   ]
  },
  {
   "cell_type": "markdown",
   "metadata": {
    "slideshow": {
     "slide_type": "slide"
    }
   },
   "source": [
    "### `difference` edo `-`"
   ]
  },
  {
   "cell_type": "code",
   "execution_count": null,
   "metadata": {
    "slideshow": {
     "slide_type": "-"
    }
   },
   "outputs": [],
   "source": [
    "A = set(\"aeiou\")\n",
    "B = set(\"abcde\")\n",
    "C = A.difference(B)\n",
    "print(C)\n",
    "C = A - B\n",
    "print(C)"
   ]
  },
  {
   "cell_type": "markdown",
   "metadata": {
    "slideshow": {
     "slide_type": "slide"
    }
   },
   "source": [
    "### `issubset` edo `<=` (eta `<`)"
   ]
  },
  {
   "cell_type": "code",
   "execution_count": null,
   "metadata": {
    "slideshow": {
     "slide_type": "-"
    }
   },
   "outputs": [],
   "source": [
    "A = set(\"ae\")\n",
    "B = set(\"abcde\")\n",
    "print(A.issubset(B))\n",
    "print(A<=B)\n",
    "print(A<B)"
   ]
  },
  {
   "cell_type": "markdown",
   "metadata": {
    "slideshow": {
     "slide_type": "-"
    }
   },
   "source": [
    "<table border=\"0\" width=\"100%\" style=\"margin: 0px;\">\n",
    "<tr>  \n",
    "  <td style=\"text-align:left\"><a href=\"Hiztegiak.ipynb\">&lt; &lt; Hiztegiak &lt; &lt;</a></td>\n",
    "  <td style=\"text-align:right\"><a href=\"SarreraIrteeraEtaFitxategiak.ipynb\">&gt; &gt; Sarrera-Irteera eta Fitxategiak &gt; &gt;</a></td>\n",
    "</tr>\n",
    "</table>"
   ]
  }
 ],
 "metadata": {
  "celltoolbar": "Slideshow",
  "kernelspec": {
   "display_name": "Python 3",
   "language": "python",
   "name": "python3"
  },
  "language_info": {
   "codemirror_mode": {
    "name": "ipython",
    "version": 3
   },
   "file_extension": ".py",
   "mimetype": "text/x-python",
   "name": "python",
   "nbconvert_exporter": "python",
   "pygments_lexer": "ipython3",
   "version": "3.7.6"
  },
  "rise": {
   "autolaunch": true,
   "footer": "<h2 align=\"center\">Konputaziorako Sarrera</h2>",
   "scroll": true
  }
 },
 "nbformat": 4,
 "nbformat_minor": 2
}
