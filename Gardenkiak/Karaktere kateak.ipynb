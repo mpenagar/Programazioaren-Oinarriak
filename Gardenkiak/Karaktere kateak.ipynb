{
 "cells": [
  {
   "cell_type": "markdown",
   "metadata": {
    "hide_input": true,
    "slideshow": {
     "slide_type": "slide"
    }
   },
   "source": [
    "# `str` - Karaktere kateak\n",
    "\n",
    " * `str` motako objektuak\n",
    " * Karaktere sekuentzia **ALDAEZINA**.\n",
    " * Propietateak: Indexagarriak, Iteragarriak, Aldaezinak"
   ]
  },
  {
   "cell_type": "markdown",
   "metadata": {
    "slideshow": {
     "slide_type": "slide"
    }
   },
   "source": [
    "## Indexagarritasuna\n",
    "Kontatu zenbatetan agertzen den letra bat karaktere kate baten barnean."
   ]
  },
  {
   "cell_type": "code",
   "execution_count": 1,
   "metadata": {
    "slideshow": {
     "slide_type": "fragment"
    }
   },
   "outputs": [
    {
     "name": "stdout",
     "output_type": "stream",
     "text": [
      "3\n"
     ]
    }
   ],
   "source": [
    "def kontatzen(hitza,letra):\n",
    "    k = 0\n",
    "    i = 0\n",
    "    while i < len(hitza) :\n",
    "        if hitza[i] == letra :\n",
    "            k += 1\n",
    "        i += 1\n",
    "    return k\n",
    "\n",
    "print(kontatzen('amara','a'))"
   ]
  },
  {
   "cell_type": "code",
   "execution_count": 2,
   "metadata": {
    "slideshow": {
     "slide_type": "slide"
    }
   },
   "outputs": [
    {
     "name": "stdout",
     "output_type": "stream",
     "text": [
      "3\n"
     ]
    }
   ],
   "source": [
    "def kontatzen(hitza,letra):\n",
    "    k = 0\n",
    "    for i in range(len(hitza)) :\n",
    "        if hitza[i] == letra :\n",
    "            k += 1\n",
    "    return k\n",
    "\n",
    "print(kontatzen('amara','a'))"
   ]
  },
  {
   "cell_type": "markdown",
   "metadata": {
    "slideshow": {
     "slide_type": "slide"
    }
   },
   "source": [
    "## Iteragarritasuna\n",
    "Kontatu zenbatetan agertzen den letra bat hitz baten barnean."
   ]
  },
  {
   "cell_type": "code",
   "execution_count": 3,
   "metadata": {
    "slideshow": {
     "slide_type": "fragment"
    }
   },
   "outputs": [
    {
     "name": "stdout",
     "output_type": "stream",
     "text": [
      "0\n",
      "1\n"
     ]
    }
   ],
   "source": [
    "def kontatzen(hitza,letra):\n",
    "    k = 0\n",
    "    for x in hitza :\n",
    "        if x == letra :\n",
    "            k += 1\n",
    "    return k\n",
    "\n",
    "print(kontatzen('amara','am'))\n",
    "\n",
    "def kontatzen(hitza,letra):\n",
    "    return hitza.count(letra)\n",
    "\n",
    "print(kontatzen('amara','am'))"
   ]
  },
  {
   "cell_type": "markdown",
   "metadata": {
    "slideshow": {
     "slide_type": "slide"
    }
   },
   "source": [
    "## Eragileak: `+` , `*` , `in` , `not in`\n",
    "__Ariketa:__ Zenbaki oso bat era bitarrean adierazi karaktere kate baten bidez."
   ]
  },
  {
   "cell_type": "code",
   "execution_count": null,
   "metadata": {
    "slideshow": {
     "slide_type": "fragment"
    }
   },
   "outputs": [],
   "source": [
    "def bitarrera(n):\n",
    "    if n == 0 :\n",
    "        return '0'\n",
    "    s = ''\n",
    "    while n > 0 :\n",
    "        s = str(n%2) + s\n",
    "        n //= 2\n",
    "    return s\n",
    "\n",
    "print(bitarrera(0))\n",
    "print(bitarrera(25))\n",
    "print(bitarrera(1423462))"
   ]
  },
  {
   "cell_type": "markdown",
   "metadata": {
    "slideshow": {
     "slide_type": "slide"
    }
   },
   "source": [
    "__Ariketa:__ Zenbaki oso bat edozein oinarritan adierazi karaktere kate baten bidez."
   ]
  },
  {
   "cell_type": "code",
   "execution_count": null,
   "metadata": {
    "slideshow": {
     "slide_type": "fragment"
    }
   },
   "outputs": [],
   "source": [
    "def oinarrira(n,oin=10):\n",
    "    s = ''\n",
    "    while n > 0 :\n",
    "        s = str(n%oin) + s\n",
    "        n //= oin\n",
    "    return s\n",
    "\n",
    "#for o in range(2,11) :\n",
    "#    print(15,o,'oinarrian:',oinarrira(15,o))\n",
    "\n",
    "print(oinarrira(15,16),\"\\n\\n\")"
   ]
  },
  {
   "cell_type": "markdown",
   "metadata": {
    "slideshow": {
     "slide_type": "slide"
    }
   },
   "source": [
    "__Ariketa:__ 10 Oinarritik gora joan nahi badugu, `[0-9]` gainetik digitu berriak behar ditugu. Adibidez, letrak erabili ditzakegu: `A, B, C...`"
   ]
  },
  {
   "cell_type": "code",
   "execution_count": null,
   "metadata": {
    "slideshow": {
     "slide_type": "fragment"
    }
   },
   "outputs": [],
   "source": [
    "def num2str(n):\n",
    "    n2s = '0123456789ABCDEF'\n",
    "    if n < 16 :\n",
    "        return n2s[n]\n",
    "    raise ValueError('Unsupported value: ' + str(n))\n",
    "\n",
    "def oinarrira(n,oin):\n",
    "    s = ''\n",
    "    while n > 0 :\n",
    "        s = num2str(n%oin) + s\n",
    "        n //= oin\n",
    "    return s\n",
    "\n",
    "for o in range(2,17) :\n",
    "    print(15,o,'oinarrian:',oinarrira(15,o))\n",
    "\n",
    "#print(oinarrira(16,17))"
   ]
  },
  {
   "cell_type": "markdown",
   "metadata": {
    "slideshow": {
     "slide_type": "slide"
    }
   },
   "source": [
    "__Ariketa:__ Kate bat pantailatik inprimatu, aurretik behar adina hutsune utziz edo haserako karaktereak ezabatuz, idatzitako testuaren luzera 40 izan dadin. Hau da, testua beti eskuinera lerrokatua agertuko da."
   ]
  },
  {
   "cell_type": "code",
   "execution_count": null,
   "metadata": {
    "slideshow": {
     "slide_type": "fragment"
    }
   },
   "outputs": [],
   "source": [
    "def idatzi_eskuinean(s, zabalera=40):\n",
    "    n = (zabalera - len(s))\n",
    "    if n > 0 :\n",
    "        s = n * ' ' + s\n",
    "    else :\n",
    "        s = s[-zabalera:]\n",
    "    print(s)\n",
    "    \n",
    "idatzi_eskuinean('kaixo')\n",
    "idatzi_eskuinean('ea nola ateratzen den')\n",
    "idatzi_eskuinean('Orain beste',30)\n",
    "idatzi_eskuinean('zabalera',25)\n",
    "idatzi_eskuinean('batekin',25)\n",
    "idatzi_eskuinean('hau luzeegia denez ezingo da osorik agertu',25)"
   ]
  },
  {
   "cell_type": "markdown",
   "metadata": {
    "slideshow": {
     "slide_type": "slide"
    }
   },
   "source": [
    "__Ariketa:__ Idatzi funtzio bat, `True` bueltatzen duena emandako hitzak `a` letrarik ez duenean eta `False` kontrako kasuan."
   ]
  },
  {
   "cell_type": "code",
   "execution_count": 4,
   "metadata": {
    "slideshow": {
     "slide_type": "fragment"
    }
   },
   "outputs": [
    {
     "name": "stdout",
     "output_type": "stream",
     "text": [
      "True\n",
      "False\n"
     ]
    }
   ],
   "source": [
    "def a_rik_ez(hitza):\n",
    "    for k in hitza :\n",
    "        if k == 'a' :\n",
    "            return False\n",
    "    return True\n",
    "\n",
    "print(a_rik_ez('ondoloin'))\n",
    "print(a_rik_ez('kaixo'))"
   ]
  },
  {
   "cell_type": "markdown",
   "metadata": {
    "slideshow": {
     "slide_type": "slide"
    }
   },
   "source": [
    "`in` eragilea erabiliz, funtzioa erreztu dezakegu:"
   ]
  },
  {
   "cell_type": "code",
   "execution_count": 5,
   "metadata": {
    "slideshow": {
     "slide_type": "fragment"
    }
   },
   "outputs": [
    {
     "name": "stdout",
     "output_type": "stream",
     "text": [
      "True\n",
      "False\n"
     ]
    }
   ],
   "source": [
    "def a_rik_ez(hitza):\n",
    "    if 'a' in hitza :\n",
    "        return False\n",
    "    else :\n",
    "        return True\n",
    "\n",
    "print(a_rik_ez('ondoloin'))\n",
    "print(a_rik_ez('kaixo'))"
   ]
  },
  {
   "cell_type": "markdown",
   "metadata": {
    "slideshow": {
     "slide_type": "slide"
    }
   },
   "source": [
    "Ondoko egitura:\n",
    "```python\n",
    "if xxx :\n",
    "    return True\n",
    "else :\n",
    "    return False\n",
    "```\n",
    "beste modu hontan adieraz daiteke (ez da berdina, baina bai baliokidea):\n",
    "\n",
    "```python\n",
    "return xxx\n",
    "```\n",
    "Guztiz baliokidea litzateke:\n",
    "```python\n",
    "return bool(xxx)\n",
    "```\n",
    "\n",
    "Era berean,\n",
    "```python\n",
    "if xxx :\n",
    "    return False\n",
    "else :\n",
    "    return True\n",
    "```\n",
    "idatzi ordez (hau guztiz berdina da):\n",
    "\n",
    "```python\n",
    "return not xxx\n",
    "```"
   ]
  },
  {
   "cell_type": "markdown",
   "metadata": {
    "slideshow": {
     "slide_type": "slide"
    }
   },
   "source": [
    "### `bool(x)` funtzioa\n",
    "\n",
    "* `0` (edo `0.0`) ez diren zenbakizko balio guztiak egiak dira.\n",
    "* Hutsik ez dauden sekuentzia guztiak egiak dira."
   ]
  },
  {
   "cell_type": "code",
   "execution_count": 6,
   "metadata": {
    "slideshow": {
     "slide_type": "fragment"
    }
   },
   "outputs": [
    {
     "name": "stdout",
     "output_type": "stream",
     "text": [
      "Gezurra: 0 False\n",
      "Egia: 1 True\n",
      "Gezurra: 0.0 False\n",
      "Egia: 1.0 True\n",
      "Egia: 1e-30 True\n",
      "Egia: kaixo True\n",
      "Gezurra:  False\n",
      "Egia: [1, 2, 3] True\n",
      "Gezurra: [] False\n",
      "Egia: range(0, 10) True\n",
      "Gezurra: range(0, 0) False\n"
     ]
    }
   ],
   "source": [
    "for x in [0,1,0.0,1.0,1e-30,\"kaixo\",\"\",[1,2,3],[],range(10),range(0)] :\n",
    "    if x :\n",
    "        print(\"Egia:\",x,bool(x))\n",
    "    else :\n",
    "        print(\"Gezurra:\",x,bool(x))          "
   ]
  },
  {
   "cell_type": "markdown",
   "metadata": {
    "slideshow": {
     "slide_type": "slide"
    }
   },
   "source": [
    "Ariketara bueltatuz:"
   ]
  },
  {
   "cell_type": "code",
   "execution_count": 7,
   "metadata": {
    "slideshow": {
     "slide_type": "fragment"
    }
   },
   "outputs": [
    {
     "name": "stdout",
     "output_type": "stream",
     "text": [
      "True\n",
      "False\n",
      "True\n",
      "False\n"
     ]
    }
   ],
   "source": [
    "def a_rik_ez(hitza):\n",
    "    return not ('a' in hitza)\n",
    "\n",
    "print(a_rik_ez('ondoloin'))\n",
    "print(a_rik_ez('kaixo'))\n",
    "\n",
    "\n",
    "def a_rik_ez(hitza):\n",
    "    return 'a' not in hitza\n",
    "\n",
    "print(a_rik_ez('ondoloin'))\n",
    "print(a_rik_ez('kaixo'))"
   ]
  },
  {
   "cell_type": "markdown",
   "metadata": {
    "slideshow": {
     "slide_type": "slide"
    }
   },
   "source": [
    "## Formatudun karaktere kateak\n",
    "\n",
    "Demagun bi aldagai ditugula, `a` eta `b`, Ane eta Xabiren adinekin, eta ondoko karaktere katea osatu nahi dugula:\n",
    "\n",
    "`Anek ... urte ditu eta Xabik ...`\n",
    "\n",
    "Karaktere kate baten barnean datuak txertatu naghi ditugunean, aukera ezberdinak ditugu."
   ]
  },
  {
   "cell_type": "markdown",
   "metadata": {
    "slideshow": {
     "slide_type": "slide"
    }
   },
   "source": [
    "### _Eskuz_ eratutako formatudun karaktere katea"
   ]
  },
  {
   "cell_type": "code",
   "execution_count": 8,
   "metadata": {
    "slideshow": {
     "slide_type": "fragment"
    }
   },
   "outputs": [
    {
     "name": "stdout",
     "output_type": "stream",
     "text": [
      "Anek 23 urte ditu eta Xabik 25\n",
      "Anek23urte ditu eta Xabik25\n"
     ]
    }
   ],
   "source": [
    "a = 23\n",
    "b = 25\n",
    "print(\"Anek \" + str(a) + \" urte ditu eta Xabik \" + str(b))\n",
    "print(\"Anek\" + str(a) + \"urte ditu eta Xabik\" + str(b))"
   ]
  },
  {
   "cell_type": "markdown",
   "metadata": {
    "slideshow": {
     "slide_type": "fragment"
    }
   },
   "source": [
    "Metodo honek desabantaila asko ditu.\n",
    "   * Sortzen den karaktere katearen egitura ez da oso argia.\n",
    "   * Edozein datu txertatzeko `str(...)` erabili behar dugu.\n",
    "   * Kontu handia eduki behar dugu sortu nahi ditugun hutsuneekin."
   ]
  },
  {
   "cell_type": "markdown",
   "metadata": {
    "slideshow": {
     "slide_type": "slide"
    }
   },
   "source": [
    "### `%` eragilea: _C-style string formatting_\n",
    "\n",
    "   * `%` eragilearen ezkerraldean karaktere kate bat dagoenean, eskuinaldean txertatuko ditugun balioen tupla bat jar dezakegu.\n",
    "   * Karaktere katearen barnean `%` agertzen den lekuetan, balioak txertatuko dira.\n",
    "   * Balioak txertatzean formatua adieraziko dugu:\n",
    "      * `%d` &rarr; zenbaki osoa\n",
    "      * `%e` `%f` `%g` &rarr; zenbaki erreala (notazio zientifikoa, dezimala eta nahasia)\n",
    "      * `%s` &rarr; karaktere katea\n",
    "      * ..."
   ]
  },
  {
   "cell_type": "code",
   "execution_count": null,
   "metadata": {
    "slideshow": {
     "slide_type": "slide"
    }
   },
   "outputs": [],
   "source": [
    "a = 23\n",
    "b = 25\n",
    "print(\"Anek %d urte ditu eta Xabik %d\" % (a,b))"
   ]
  },
  {
   "cell_type": "markdown",
   "metadata": {
    "slideshow": {
     "slide_type": "fragment"
    }
   },
   "source": [
    "Metodo honek abantailak ditu aurrekoarekin konparatuz.\n",
    "   * Sortzen den karaktere katearen egitura nahiko argia da.\n",
    "   * Sintaxia sinpleagoa da (batez ere C lengoaiatik datozenentzat!)."
   ]
  },
  {
   "cell_type": "markdown",
   "metadata": {
    "slideshow": {
     "slide_type": "slide"
    }
   },
   "source": [
    "### `str.format()` bidezko formatua\n",
    "\n",
    "   * `%` eragilearen hobekuntza bat da\n",
    "   * `s.format(...)` metodoko argumentuak `s` karaktere katean txertatuko dira\n",
    "   * Karaktere katearen barnean `{}` agertzen den lekuetan, balioak txertatuko dira."
   ]
  },
  {
   "cell_type": "code",
   "execution_count": null,
   "metadata": {
    "slideshow": {
     "slide_type": "fragment"
    }
   },
   "outputs": [],
   "source": [
    "a = 23\n",
    "b = 25\n",
    "print(\"Anek {} urte ditu eta Xabik {}\".format(a,b))"
   ]
  },
  {
   "cell_type": "markdown",
   "metadata": {
    "slideshow": {
     "slide_type": "fragment"
    }
   },
   "source": [
    "Gauza berdina badirudi ere, `str.format(...)` metodoa `%` eragilea baina askosaz erabilgarriagoa da."
   ]
  },
  {
   "cell_type": "markdown",
   "metadata": {
    "slideshow": {
     "slide_type": "slide"
    }
   },
   "source": [
    "   * `{n}`-k Argumentu indizea adierazten du. Posizioz alda daiteke, ala nahi adina aldiz erabili."
   ]
  },
  {
   "cell_type": "code",
   "execution_count": null,
   "metadata": {
    "slideshow": {
     "slide_type": "fragment"
    }
   },
   "outputs": [],
   "source": [
    "print(\"Anek {0} urte ditu eta Xabik {1}\".format(a,b))\n",
    "print(\"Xabik {1} urte ditu eta Anek {0}\".format(a,b))\n",
    "print(\"Xabik {1} urte ditu, Anek {0} eta Xabik {1}\".format(a,b))"
   ]
  },
  {
   "cell_type": "markdown",
   "metadata": {
    "slideshow": {
     "slide_type": "slide"
    }
   },
   "source": [
    "   * `*s` espresioak `s` sekuentziaren espantsioa adierazten du eta oso erabilkorra da sekuentzia baten elementuak metodo baten argumentu bilakatzeko."
   ]
  },
  {
   "cell_type": "code",
   "execution_count": null,
   "metadata": {
    "slideshow": {
     "slide_type": "fragment"
    }
   },
   "outputs": [],
   "source": [
    "z = [234,938,262,232,432,2]\n",
    "print('lehenengo hiru elementuak {0}, {1} eta {2} dira'.format(*z))"
   ]
  },
  {
   "cell_type": "markdown",
   "metadata": {
    "slideshow": {
     "slide_type": "fragment"
    }
   },
   "source": [
    "__OHARRA:__ `*s` espresioak ez du zerikusirik `format` metodoarekin, beste edozein lekutan erabil daiteke. "
   ]
  },
  {
   "cell_type": "markdown",
   "metadata": {
    "slideshow": {
     "slide_type": "slide"
    }
   },
   "source": [
    "   * `{keyword}`-k _keyword_ argumentu bat adierazten du. Hau da, izenaren bidez adierazitako argumentua."
   ]
  },
  {
   "cell_type": "code",
   "execution_count": null,
   "metadata": {
    "slideshow": {
     "slide_type": "fragment"
    }
   },
   "outputs": [],
   "source": [
    "print(\"Anek {ane} urte ditu eta Xabik {xabi}\".format(ane=23, xabi=25))"
   ]
  },
  {
   "cell_type": "markdown",
   "metadata": {
    "slideshow": {
     "slide_type": "slide"
    }
   },
   "source": [
    "   * `**d` espresioak `d` hiztegiaren espantsioa adierazten du eta oso erabilkorra da hiztegi batetako sarrerak metodo baten _keyword_ argumentu bilakatzeko."
   ]
  },
  {
   "cell_type": "code",
   "execution_count": null,
   "metadata": {
    "slideshow": {
     "slide_type": "fragment"
    }
   },
   "outputs": [],
   "source": [
    "h = {'ane':23, 'xabi':25}\n",
    "print(\"Anek {ane} urte ditu eta Xabik {xabi}\".format(**h))"
   ]
  },
  {
   "cell_type": "markdown",
   "metadata": {
    "slideshow": {
     "slide_type": "fragment"
    }
   },
   "source": [
    "__OHARRA:__ `**d` espresioak ez du zerikusirik `format` metodoarekin, beste edozein lekutan erabil daiteke. "
   ]
  },
  {
   "cell_type": "markdown",
   "metadata": {
    "slideshow": {
     "slide_type": "slide"
    }
   },
   "source": [
    "### _f-Strings_ edo _formatted string literals_\n",
    "\n",
    "   * `format` metodoa baina malguagoa da\n",
    "   * `f` letra aurretik daramaten karaktere kate literala: `f'....'`\n",
    "   * `format(...)` metodoak txertatzeko balioak argumentoetatik lortzen dituen moduan, _f-String_ -ak exekuzio ingurunetik lortzen ditu zuzenean"
   ]
  },
  {
   "cell_type": "code",
   "execution_count": 9,
   "metadata": {
    "slideshow": {
     "slide_type": "fragment"
    }
   },
   "outputs": [
    {
     "name": "stdout",
     "output_type": "stream",
     "text": [
      "Anek 23 urte ditu eta Xabik 25\n"
     ]
    }
   ],
   "source": [
    "a = 23\n",
    "b = 25\n",
    "print(f\"Anek {a} urte ditu eta Xabik {b}\")"
   ]
  },
  {
   "cell_type": "markdown",
   "metadata": {
    "slideshow": {
     "slide_type": "slide"
    }
   },
   "source": [
    "   * `{..}` barnean dagoen espresioa ebaluatu egiten da"
   ]
  },
  {
   "cell_type": "code",
   "execution_count": 10,
   "metadata": {
    "slideshow": {
     "slide_type": "fragment"
    }
   },
   "outputs": [
    {
     "name": "stdout",
     "output_type": "stream",
     "text": [
      "3 * 4 = 12\n",
      "3 ** 4 = 81\n",
      "sum(range(1,501)) = 125250\n",
      "Pelikularen izenburua \"Hodeiak Pintatzeko Makina\" zen\n"
     ]
    }
   ],
   "source": [
    "print(f'3 * 4 = {3*4}')\n",
    "print(f'3 ** 4 = {3**4}')\n",
    "print(f'sum(range(1,501)) = {sum(range(1,501))}')\n",
    "filma='hodeiak pintatzeko makina'\n",
    "print(f'Pelikularen izenburua \"{filma.title()}\" zen')"
   ]
  },
  {
   "cell_type": "markdown",
   "metadata": {
    "slideshow": {
     "slide_type": "slide"
    }
   },
   "source": [
    "   * Lerro anitzetako _f-String_ -ak ere sortu daitezke, `f''' ... '''` erabiliz"
   ]
  },
  {
   "cell_type": "code",
   "execution_count": 11,
   "metadata": {
    "slideshow": {
     "slide_type": "fragment"
    }
   },
   "outputs": [
    {
     "name": "stdout",
     "output_type": "stream",
     "text": [
      "\n",
      "1x1 = 1\n",
      "2x2 = 4\n",
      "3x3 = 9\n",
      "4x4 = 16\n",
      "...\n",
      "\n"
     ]
    }
   ],
   "source": [
    "txt = f'''\n",
    "1x1 = {1*1}\n",
    "2x2 = {2*2}\n",
    "3x3 = {3*3}\n",
    "4x4 = {4*4}\n",
    "...\n",
    "'''\n",
    "\n",
    "print(txt)"
   ]
  },
  {
   "cell_type": "markdown",
   "metadata": {
    "slideshow": {
     "slide_type": "slide"
    }
   },
   "source": [
    "## *Slice* notazioa\n",
    "Objetu indexagarrietan elementu bat baina gehiago adierazteko aukera\n",
    "* `a[i:j]` : `a`-ko azpi-sekuentzia, `i` indizetik (barne) `j`-ra (kanpo).\n",
    "  * `i` edo `j` negatiboak &rarr; `len(a)-i` , `len(a)-j`\n",
    "  * `i` edo `j` > `len(a)` &rarr; `len(a)`\n",
    "  * `i` ez adierazia edo `None` &rarr; `0`\n",
    "  * `j` ez adierazia edo `None` &rarr; `len(a)`\n",
    "* `a[i:j:k]` : `a`-ko azpi-sekuentzia, `i`-tik (barne) `j`-ra (kanpo), `k` hurratsarekin.\n",
    "* `a[i:j]` eta `a[i:j:k]`-k objektu berriak sortzen dituzte... **ia beti**.\n",
    "\n",
    "Adibideak:\n",
    "```\n",
    "\t[hasi:gelditu:hurratsa] (hurrats negatiboa ere)\n",
    "\t[hasi:gelditu]\n",
    "\t[hasi:]\n",
    "\t[:gelditu]\n",
    "\t[:]\n",
    "\t[hasi::hurratsa]        (hurrats negatiboa ere)\n",
    "\t[:gelditu:hurratsa]     (hurrats negatiboa ere)\n",
    "\t[::hurratsa]            (hurrats negatiboa ere)\n",
    "```"
   ]
  },
  {
   "cell_type": "code",
   "execution_count": 12,
   "metadata": {
    "slideshow": {
     "slide_type": "slide"
    }
   },
   "outputs": [
    {
     "name": "stdout",
     "output_type": "stream",
     "text": [
      "abcde\n",
      "fghijklmnñopqrstuvwxyz\n",
      "abcde\n",
      "fghijklmnñopqrstuvwxyz\n",
      "abcdefghijklmnñopqrstuvwxyz\n",
      "True True\n"
     ]
    }
   ],
   "source": [
    "a = \"abcdefghijklmnñopqrstuvwxyz\"\n",
    "print(a[0:5])\n",
    "print(a[5:len(a)])\n",
    "print(a[:5])\n",
    "print(a[5:])\n",
    "print(a[:])\n",
    "print(a==a[:],a is a[:])\n"
   ]
  },
  {
   "cell_type": "code",
   "execution_count": 13,
   "metadata": {
    "slideshow": {
     "slide_type": "slide"
    }
   },
   "outputs": [
    {
     "name": "stdout",
     "output_type": "stream",
     "text": [
      "acegikmñprtvxz\n",
      "acegikmñprtvxz\n",
      "froga1: \n",
      "froga2: zyxwvutsrqpoñnmlkjihgfedcb\n",
      "froga3: zyxwvutsrqpoñnmlkjihgfedcba\n",
      "froga3: \n",
      "froga4: zyxwvutsrqpoñnmlkjihgfedcba\n",
      "froga5: zyxwvutsrqpoñnmlkjihgfedcba\n"
     ]
    }
   ],
   "source": [
    "a = \"abcdefghijklmnñopqrstuvwxyz\"\n",
    "print(a[0:len(a):2])\n",
    "print(a[::2])\n",
    "print('froga1:',a[0:len(a):-1])\n",
    "print('froga2:',a[len(a)-1:0:-1])\n",
    "print('froga3:',a[-1:-len(a)-1:-1])\n",
    "print('froga3:',a[len(a)-1:-1:-1])\n",
    "print('froga4:',a[len(a)-1::-1])\n",
    "print('froga5:',a[::-1])"
   ]
  },
  {
   "cell_type": "markdown",
   "metadata": {
    "slideshow": {
     "slide_type": "slide"
    }
   },
   "source": [
    "## Karaktere kateen metodoak (funtzioak)\n",
    "\n",
    "* Objektu mota bakoitzak berezko metodo sorta bat eduki dezake.\n",
    "* Metodo hauek izendatzeko: `objektua.metodo_izena`\n",
    "* Karaktere kateek, [45 bat metodo](https://docs.python.org/3.5/library/stdtypes.html#string-methods) dituzte...\n",
    "\n",
    "Metodo erabilgarri batzuk:\n",
    "\n",
    "   * `s.count(a[,i,j])` , `s.find(a[,i,j])`\n",
    "   * `s.replace(a,b[,maxreps])`\n",
    "   * `s.strip([charset])` , `s.lstrip([charset])` , `s.rstrip([charset])`\n",
    "   * `s.split([sep[,maxsplits]])` , `s.splitlines([keepends])`\n",
    "   * `s.join(t)`\n",
    "   * `s.lower()` , `s.upper()` , `s.capitalize()` , `s.title()`"
   ]
  },
  {
   "cell_type": "markdown",
   "metadata": {
    "slideshow": {
     "slide_type": "slide"
    }
   },
   "source": [
    "## `string` moduloa\n",
    "\n",
    "Karaktere multzoak dituzten karaktere kateak definitzen dira\n",
    "\n",
    "`import string`\n",
    "\n",
    "   * `string.ascii_letters`  &rarr;  lowercase + uppercase \n",
    "   * `string.ascii_lowercase`  &rarr;  letra xeheak (a-z) \n",
    "   * `string.ascii_uppercase`  &rarr; letra larriak (A-Z) \n",
    "   * `string.digits`  &rarr;  digito hamartarrak\t\n",
    "   * `string.hexdigits`  &rarr;  digito hexadezimalak (0-9a-fA-F) \n",
    "   * `string.octdigits`  &rarr;  digito zortzitarrak \n",
    "   * `string.punctuation`  &rarr;  puntuazio seinuak \n",
    "   * `string.printable`  &rarr;  letrak + dig. + puntuaz. + huts. \n",
    "   * `string.whitespace`  &rarr;  hutsuneak bezala hartzen diren karak.\n",
    "\n"
   ]
  },
  {
   "cell_type": "markdown",
   "metadata": {
    "slideshow": {
     "slide_type": "slide"
    }
   },
   "source": [
    "__OHARRA:__ Multzo hauek ingelesean oinarrituak daude...."
   ]
  },
  {
   "cell_type": "code",
   "execution_count": 14,
   "metadata": {
    "slideshow": {
     "slide_type": "-"
    }
   },
   "outputs": [
    {
     "name": "stdout",
     "output_type": "stream",
     "text": [
      "abcdefghijklmnopqrstuvwxyz\n",
      "abcdefghijklmnopqrstuvwxyz\n",
      "abcdefghijklmnopqrstuvwxyz\n",
      "True False True False\n",
      "False\n"
     ]
    }
   ],
   "source": [
    "import string\n",
    "print(string.ascii_lowercase)\n",
    "from string import ascii_lowercase\n",
    "print(ascii_lowercase)\n",
    "from string import ascii_lowercase as lowercase\n",
    "print(lowercase)\n",
    "print('n' in lowercase , 'ñ' in lowercase , 'u' in lowercase , 'ú' in lowercase)\n",
    "print('ñ'<'o')"
   ]
  },
  {
   "cell_type": "markdown",
   "metadata": {
    "slideshow": {
     "slide_type": "-"
    }
   },
   "source": [
    "<table border=\"0\" width=\"100%\" style=\"margin: 0px;\">\n",
    "<tr>  \n",
    "  <td style=\"text-align:left\"><a href=\"Python Programazio Lengoaia.ipynb\">&lt; &lt; Python Programazio Lengoaia &lt; &lt;</a></td>\n",
    "  <td style=\"text-align:right\"><a href=\"Zerrendak.ipynb\">&gt; &gt; Zerrendak &gt; &gt;</a></td>\n",
    "</tr>\n",
    "</table>"
   ]
  }
 ],
 "metadata": {
  "celltoolbar": "Slideshow",
  "kernelspec": {
   "display_name": "Python 3",
   "language": "python",
   "name": "python3"
  },
  "language_info": {
   "codemirror_mode": {
    "name": "ipython",
    "version": 3
   },
   "file_extension": ".py",
   "mimetype": "text/x-python",
   "name": "python",
   "nbconvert_exporter": "python",
   "pygments_lexer": "ipython3",
   "version": "3.7.6"
  },
  "rise": {
   "autolaunch": false,
   "footer": "<h2 align=\"center\">Konputaziorako Sarrera</h2>",
   "scroll": true
  }
 },
 "nbformat": 4,
 "nbformat_minor": 2
}
