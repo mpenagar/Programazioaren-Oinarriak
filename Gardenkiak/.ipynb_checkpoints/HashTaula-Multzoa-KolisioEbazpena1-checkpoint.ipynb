{
 "cells": [
  {
   "cell_type": "markdown",
   "metadata": {
    "slideshow": {
     "slide_type": "slide"
    }
   },
   "source": [
    "# Hash taula bidezko multzo baten inplementazioa\n",
    "\n",
    "## Kolisioen ebazpena I : Taula berdimentsionatu\n",
    "\n",
    "* $e$ elementu bati taulan dagokion posizioa: $i \\; = \\; hash(n)\\; \\% \\; N$\n",
    "   * $i$ posizioan $e$ elementua gordeko da\n",
    "   * Hutsik dagoen gelaxkan _balio berezi_ bat egongo da\n",
    "      * `None` balitz, ezingo genuke `None`-rik gorde\n",
    "* Kolisio bat ematen den bakoitzean, taularen tamaina handitu: bikoiztu, adibidez.\n",
    "* $LF \\; \\ll \\; 1$\n"
   ]
  },
  {
   "cell_type": "markdown",
   "metadata": {},
   "source": [
    "#### 0 - Multzo klasearen egitura"
   ]
  },
  {
   "cell_type": "code",
   "execution_count": 86,
   "metadata": {},
   "outputs": [],
   "source": [
    "class myset():\n",
    "    \n",
    "    def __init__(self, N=10):\n",
    "        self.EMPTY = object()\n",
    "        self.t = [self.EMPTY] * N"
   ]
  },
  {
   "cell_type": "code",
   "execution_count": 87,
   "metadata": {},
   "outputs": [
    {
     "name": "stdout",
     "output_type": "stream",
     "text": [
      "[<object object at 0x7fed2156fe20>, <object object at 0x7fed2156fe20>, <object object at 0x7fed2156fe20>, <object object at 0x7fed2156fe20>, <object object at 0x7fed2156fe20>, <object object at 0x7fed2156fe20>, <object object at 0x7fed2156fe20>, <object object at 0x7fed2156fe20>, <object object at 0x7fed2156fe20>, <object object at 0x7fed2156fe20>]\n",
      "[<object object at 0x7fed2156ffc0>, <object object at 0x7fed2156ffc0>, <object object at 0x7fed2156ffc0>]\n"
     ]
    }
   ],
   "source": [
    "s = myset()\n",
    "print(s.t)\n",
    "s = myset(3)\n",
    "print(s.t)"
   ]
  },
  {
   "cell_type": "code",
   "execution_count": 99,
   "metadata": {},
   "outputs": [],
   "source": [
    "class empty():\n",
    "    def __repr__(self):\n",
    "        return \"✗\"\n",
    "\n",
    "class myset():\n",
    "    \n",
    "    def __init__(self, N=10): # t(n) = N>>n\n",
    "        self.EMPTY = empty()\n",
    "        self.t = [self.EMPTY] * N"
   ]
  },
  {
   "cell_type": "code",
   "execution_count": 100,
   "metadata": {},
   "outputs": [
    {
     "name": "stdout",
     "output_type": "stream",
     "text": [
      "[✗, ✗, ✗, ✗, ✗, ✗, ✗, ✗, ✗, ✗]\n",
      "[✗, ✗, ✗]\n"
     ]
    }
   ],
   "source": [
    "s = myset()\n",
    "print(s.t)\n",
    "s = myset(3)\n",
    "print(s.t)"
   ]
  },
  {
   "cell_type": "markdown",
   "metadata": {
    "slideshow": {
     "slide_type": "slide"
    }
   },
   "source": [
    "#### 1 - Multzoen `add(e)`-en baliokidea (kolisioak kontuan izan gabe)"
   ]
  },
  {
   "cell_type": "code",
   "execution_count": 101,
   "metadata": {
    "slideshow": {
     "slide_type": "fragment"
    }
   },
   "outputs": [],
   "source": [
    "class myset():\n",
    "    \n",
    "    def __init__(self, N=10): # t(n) = N>>n\n",
    "        self.EMPTY = empty()\n",
    "        self.t = [self.EMPTY] * N\n",
    "        \n",
    "    def add(self,e): # t(n) = 1\n",
    "        i = hash(e) % len(self.t)\n",
    "        self.t[i] = e\n",
    "        "
   ]
  },
  {
   "cell_type": "code",
   "execution_count": 102,
   "metadata": {},
   "outputs": [
    {
     "name": "stdout",
     "output_type": "stream",
     "text": [
      "['Jon', ✗, 'Nora', 'Ane', 'Miren', ✗, ✗, 'Asier', ✗, ✗]\n"
     ]
    }
   ],
   "source": [
    "s = myset()\n",
    "for e in (\"Ane\",\"Jon\",\"Miren\",\"Asier\",\"Nora\"):\n",
    "    s.add(e)\n",
    "print(s.t)"
   ]
  },
  {
   "cell_type": "code",
   "execution_count": 103,
   "metadata": {},
   "outputs": [
    {
     "name": "stdout",
     "output_type": "stream",
     "text": [
      "['Jon', ✗, 'Nora', 'Eneritz', 'Miren', 'Aiala', ✗, 'Asier', ✗, ✗]\n"
     ]
    }
   ],
   "source": [
    "s = myset()\n",
    "for e in (\"Ane\",\"Jon\",\"Miren\",\"Asier\",\"Nora\",\"Aiala\",\"Eneritz\"):\n",
    "    s.add(e)\n",
    "print(s.t)"
   ]
  },
  {
   "cell_type": "markdown",
   "metadata": {
    "slideshow": {
     "slide_type": "slide"
    }
   },
   "source": [
    "#### 2 - Multzoen `set(iterable)`-en baliokidea (kolisioak kontuan izan gabe)"
   ]
  },
  {
   "cell_type": "code",
   "execution_count": 128,
   "metadata": {
    "slideshow": {
     "slide_type": "fragment"
    }
   },
   "outputs": [],
   "source": [
    "class myset():\n",
    "    \n",
    "    def __init__(self, iterable=tuple(), N=10): # t(n) = len(iterable) + N>>n \n",
    "        self.EMPTY = empty()\n",
    "        self.t = [self.EMPTY] * N\n",
    "        for e in iterable:\n",
    "            self.add(e)\n",
    "        \n",
    "    def add(self,e): # t(n) = 1\n",
    "        i = hash(e) % len(self.t)\n",
    "        self.t[i] = e\n",
    "        "
   ]
  },
  {
   "cell_type": "code",
   "execution_count": 129,
   "metadata": {},
   "outputs": [
    {
     "name": "stdout",
     "output_type": "stream",
     "text": [
      "['Jon', ✗, 'Nora', 'Ane', 'Miren', ✗, ✗, 'Asier', ✗, ✗]\n"
     ]
    }
   ],
   "source": [
    "s = myset([\"Ane\",\"Jon\",\"Miren\",\"Asier\",\"Nora\"])\n",
    "print(s.t)"
   ]
  },
  {
   "cell_type": "code",
   "execution_count": 130,
   "metadata": {},
   "outputs": [
    {
     "name": "stdout",
     "output_type": "stream",
     "text": [
      "['Jon', ✗, 'Nora', 'Eneritz', 'Miren', 'Aiala', ✗, 'Asier', ✗, ✗]\n"
     ]
    }
   ],
   "source": [
    "s = myset([\"Ane\",\"Jon\",\"Miren\",\"Asier\",\"Nora\",\"Aiala\",\"Eneritz\"])\n",
    "print(s.t)"
   ]
  },
  {
   "cell_type": "markdown",
   "metadata": {},
   "source": [
    "#### 3 - Multzoen `len()`-en baliokidea"
   ]
  },
  {
   "cell_type": "code",
   "execution_count": 131,
   "metadata": {},
   "outputs": [],
   "source": [
    "class myset():\n",
    "    \n",
    "    def __init__(self, iterable=tuple(), N=10): # t(n) = len(iterable) + N>>n\n",
    "        self.EMPTY = empty()\n",
    "        self.t = [self.EMPTY] * N\n",
    "        for e in iterable:\n",
    "            self.add(e)\n",
    "        \n",
    "    def add(self,e): # t(n) = 1\n",
    "        i = hash(e) % len(self.t)\n",
    "        self.t[i] = e\n",
    "        \n",
    "    def __len__(self): # t(n) = N >> n\n",
    "        return sum(e != self.EMPTY for e in self.t)"
   ]
  },
  {
   "cell_type": "code",
   "execution_count": 132,
   "metadata": {},
   "outputs": [
    {
     "name": "stdout",
     "output_type": "stream",
     "text": [
      "['Jon', ✗, 'Nora', 'Ane', 'Miren', ✗, ✗, 'Asier', ✗, ✗]\n",
      "5\n"
     ]
    }
   ],
   "source": [
    "s = myset([\"Ane\",\"Jon\",\"Miren\",\"Asier\",\"Nora\"])\n",
    "print(s.t)\n",
    "print(len(s))"
   ]
  },
  {
   "cell_type": "markdown",
   "metadata": {},
   "source": [
    "Kontadore bat eraman dezakegu, pauso bakarrean egiteko"
   ]
  },
  {
   "cell_type": "code",
   "execution_count": 134,
   "metadata": {},
   "outputs": [],
   "source": [
    "class myset():\n",
    "    \n",
    "    def __init__(self, iterable=tuple(), N=10): # t(n) = len(iterable) + N>>n\n",
    "        self.EMPTY = empty()\n",
    "        self.t = [self.EMPTY] * N\n",
    "        self.n = 0\n",
    "        for e in iterable:\n",
    "            self.add(e)\n",
    "        \n",
    "    def add(self,e): # t(n) = 1\n",
    "        i = hash(e) % len(self.t)\n",
    "        if self.t[i] == self.EMPTY:\n",
    "            self.t[i] = e\n",
    "            self.n += 1\n",
    "        \n",
    "    def __len__(self): # t(n) = 1\n",
    "        return self.n"
   ]
  },
  {
   "cell_type": "code",
   "execution_count": 136,
   "metadata": {},
   "outputs": [
    {
     "name": "stdout",
     "output_type": "stream",
     "text": [
      "['Jon', ✗, 'Nora', 'Ane', 'Miren', ✗, ✗, 'Asier', ✗, ✗]\n",
      "5\n"
     ]
    }
   ],
   "source": [
    "s = myset([\"Ane\",\"Jon\",\"Miren\",\"Asier\",\"Nora\"])\n",
    "print(s.t)\n",
    "print(len(s))"
   ]
  },
  {
   "cell_type": "markdown",
   "metadata": {},
   "source": [
    "#### 4 - ITERAGARRITASUNA: Multzoen `iter()`-en baliokidea"
   ]
  },
  {
   "cell_type": "code",
   "execution_count": 137,
   "metadata": {},
   "outputs": [],
   "source": [
    "class myset():\n",
    "    \n",
    "    def __init__(self, iterable=tuple(), N=10): # t(n) = len(iterable) + N>>n\n",
    "        self.EMPTY = empty()\n",
    "        self.t = [self.EMPTY] * N\n",
    "        self.n = 0\n",
    "        for e in iterable:\n",
    "            self.add(e)\n",
    "        \n",
    "    def add(self,e): # t(n) = 1\n",
    "        i = hash(e) % len(self.t)\n",
    "        if self.t[i] == self.EMPTY:\n",
    "            self.t[i] = e\n",
    "            self.n += 1\n",
    "        \n",
    "    def __len__(self): # t(n) = 1\n",
    "        return self.n\n",
    "    \n",
    "    def __iter__(self): # t(n) = 1 (zeharkatzean, N>>n)\n",
    "        for e in self.t:\n",
    "            if e != self.EMPTY :\n",
    "                yield e"
   ]
  },
  {
   "cell_type": "code",
   "execution_count": 138,
   "metadata": {},
   "outputs": [
    {
     "name": "stdout",
     "output_type": "stream",
     "text": [
      "['Jon', ✗, 'Nora', 'Ane', 'Miren', ✗, ✗, 'Asier', ✗, ✗]\n",
      "Jon Nora Ane Miren Asier\n"
     ]
    }
   ],
   "source": [
    "s = myset([\"Ane\",\"Jon\",\"Miren\",\"Asier\",\"Nora\"])\n",
    "print(s.t)\n",
    "print(*s)"
   ]
  },
  {
   "cell_type": "markdown",
   "metadata": {},
   "source": [
    "#### 5 - Multzoen `str()`-en baliokidea"
   ]
  },
  {
   "cell_type": "code",
   "execution_count": 139,
   "metadata": {},
   "outputs": [],
   "source": [
    "class myset():\n",
    "    \n",
    "    def __init__(self, iterable=tuple(), N=10): # t(n) = len(iterable) + N>>n\n",
    "        self.EMPTY = empty()\n",
    "        self.t = [self.EMPTY] * N\n",
    "        self.n = 0\n",
    "        for e in iterable:\n",
    "            self.add(e)\n",
    "        \n",
    "    def add(self,e): # t(n) = 1\n",
    "        i = hash(e) % len(self.t)\n",
    "        if self.t[i] == self.EMPTY:\n",
    "            self.t[i] = e\n",
    "            self.n += 1\n",
    "        \n",
    "    def __len__(self): # t(n) = 1\n",
    "        return self.n\n",
    "    \n",
    "    def __iter__(self): # t(n) = 1 (zeharkatzean, N>>n)\n",
    "        for e in self.t:\n",
    "            if e != self.EMPTY :\n",
    "                yield e\n",
    "                \n",
    "    def __str__(self): # t(n) = N>>n\n",
    "        return \"{\" + \", \".join(repr(e) for e in self) + \"}\""
   ]
  },
  {
   "cell_type": "code",
   "execution_count": 140,
   "metadata": {},
   "outputs": [
    {
     "name": "stdout",
     "output_type": "stream",
     "text": [
      "['Jon', ✗, 'Nora', 'Ane', 'Miren', ✗, ✗, 'Asier', ✗, ✗]\n",
      "{'Jon', 'Nora', 'Ane', 'Miren', 'Asier'}\n"
     ]
    }
   ],
   "source": [
    "s = myset([\"Ane\",\"Jon\",\"Miren\",\"Asier\",\"Nora\"])\n",
    "print(s.t)\n",
    "print(s)"
   ]
  },
  {
   "cell_type": "markdown",
   "metadata": {},
   "source": [
    "#### 6 - Multzoen `e in set`-en baliokidea  $\\to$  `set.__contains__(self,e):`"
   ]
  },
  {
   "cell_type": "code",
   "execution_count": 155,
   "metadata": {},
   "outputs": [
    {
     "name": "stdout",
     "output_type": "stream",
     "text": [
      "True False\n"
     ]
    }
   ],
   "source": [
    "s = myset([\"Ane\",\"Jon\",\"Miren\",\"Asier\",\"Nora\"])\n",
    "print(\"Ane\" in s , \"X\" in s)"
   ]
  },
  {
   "cell_type": "markdown",
   "metadata": {},
   "source": [
    "`__contains__` ez badago eta objektua iteragarria bada, defektuzko `__contains__`:\n",
    "\n",
    "```python\n",
    "def __contains__(self, e):\n",
    "    for x in self:\n",
    "        if x == e:\n",
    "            return True\n",
    "    return False\n",
    "```\n",
    "   * Kasu ona: elementua taulako lehenengo posizioan $t(n)=1 \\; \\to \\; \\Omega(1)$\n",
    "   * Kasu txarra: elementua ez dago taulan $t(n)=N \\gg n \\; \\to \\; O(N \\gg n)$\n",
    "   "
   ]
  },
  {
   "cell_type": "code",
   "execution_count": 163,
   "metadata": {},
   "outputs": [],
   "source": [
    "class myset():\n",
    "    \n",
    "    def __init__(self, iterable=tuple(), N=10): # t(n) = len(iterable) + N>>n\n",
    "        self.EMPTY = empty()\n",
    "        self.t = [self.EMPTY] * N\n",
    "        self.n = 0\n",
    "        for e in iterable:\n",
    "            self.add(e)\n",
    "        \n",
    "    def add(self,e): # t(n) = 1\n",
    "        i = hash(e) % len(self.t)\n",
    "        if self.t[i] == self.EMPTY:\n",
    "            self.t[i] = e\n",
    "            self.n += 1\n",
    "        \n",
    "    def __len__(self): # t(n) = 1\n",
    "        return self.n\n",
    "    \n",
    "    def __iter__(self): # t(n) = 1 (zeharkatzean, N>>n)\n",
    "        for e in self.t:\n",
    "            if e != self.EMPTY :\n",
    "                yield e\n",
    "                \n",
    "    def __str__(self): # t(n) = N>>n\n",
    "        return \"{\" + \", \".join(repr(e) for e in self) + \"}\"\n",
    "    \n",
    "    def __contains__(self,e): # t(n) = 1\n",
    "        #print(\"Hemendik pasa da\")\n",
    "        i = hash(e) % len(self.t)\n",
    "        return self.t[i] == e"
   ]
  },
  {
   "cell_type": "code",
   "execution_count": 164,
   "metadata": {},
   "outputs": [
    {
     "name": "stdout",
     "output_type": "stream",
     "text": [
      "True False\n"
     ]
    }
   ],
   "source": [
    "s = myset([\"Ane\",\"Jon\",\"Miren\",\"Asier\",\"Nora\"])\n",
    "print(\"Ane\" in s , \"X\" in s)"
   ]
  },
  {
   "cell_type": "markdown",
   "metadata": {},
   "source": [
    "#### 7 - Multzoen `set1 == set2`-en baliokidea  $\\to$  `set.__eq__(set1,set2):`"
   ]
  },
  {
   "cell_type": "code",
   "execution_count": 145,
   "metadata": {},
   "outputs": [
    {
     "name": "stdout",
     "output_type": "stream",
     "text": [
      "['Jon', ✗, 'Nora', 'Ane', 'Miren', ✗, ✗, 'Asier', ✗, ✗]\n",
      "['Jon', ✗, 'Nora', 'Ane', 'Miren', ✗, ✗, 'Asier', ✗, ✗]\n",
      "False\n"
     ]
    }
   ],
   "source": [
    "s1 = myset([\"Ane\",\"Jon\",\"Miren\",\"Asier\",\"Nora\"])\n",
    "s2 = myset([\"Jon\",\"Ane\",\"Asier\",\"Miren\",\"Nora\"])\n",
    "print(s1.t)\n",
    "print(s2.t)\n",
    "print(s1 == s2)"
   ]
  },
  {
   "cell_type": "markdown",
   "metadata": {},
   "source": [
    "`__eq__` existitzen ez bada, defektuzko `__eq__`:\n",
    "\n",
    "```python\n",
    "def __eq__(self, other):\n",
    "    return self is other\n",
    "```"
   ]
  },
  {
   "cell_type": "code",
   "execution_count": 146,
   "metadata": {},
   "outputs": [],
   "source": [
    "class myset():\n",
    "    \n",
    "    def __init__(self, iterable=tuple(), N=10): # t(n) = len(iterable) + N>>n\n",
    "        self.EMPTY = empty()\n",
    "        self.t = [self.EMPTY] * N\n",
    "        self.n = 0\n",
    "        for e in iterable:\n",
    "            self.add(e)\n",
    "        \n",
    "    def add(self,e): # t(n) = 1\n",
    "        i = hash(e) % len(self.t)\n",
    "        if self.t[i] == self.EMPTY:\n",
    "            self.t[i] = e\n",
    "            self.n += 1\n",
    "        \n",
    "    def __len__(self): # t(n) = 1\n",
    "        return self.n\n",
    "    \n",
    "    def __iter__(self): # t(n) = 1 (zeharkatzean, N>>n)\n",
    "        for e in self.t:\n",
    "            if e != self.EMPTY :\n",
    "                yield e\n",
    "                \n",
    "    def __str__(self): # t(n) = N>>n\n",
    "        return \"{\" + \", \".join(repr(e) for e in self) + \"}\"\n",
    "    \n",
    "    def __contains__(self,e): # t(n) = 1\n",
    "        #print(\"Hemendik pasa da\")\n",
    "        i = hash(e) % len(self.t)\n",
    "        return self.t[i] == e\n",
    "    \n",
    "    def __eq__(self, other): # t(n) = [1,N>>n]\n",
    "        print(\"Hemendik pasa da\")\n",
    "        return type(other) == myset and len(self)==len(other) and self.t == other.t        "
   ]
  },
  {
   "cell_type": "code",
   "execution_count": 147,
   "metadata": {},
   "outputs": [
    {
     "name": "stdout",
     "output_type": "stream",
     "text": [
      "['Jon', ✗, 'Nora', 'Ane', 'Miren', ✗, ✗, 'Asier', ✗, ✗]\n",
      "['Jon', ✗, 'Nora', 'Ane', 'Miren', ✗, ✗, 'Asier', ✗, ✗]\n",
      "Hemendik pasa da\n",
      "False\n"
     ]
    }
   ],
   "source": [
    "s1 = myset([\"Ane\",\"Jon\",\"Miren\",\"Asier\",\"Nora\"])\n",
    "s2 = myset([\"Jon\",\"Ane\",\"Asier\",\"Miren\",\"Nora\"])\n",
    "print(s1.t)\n",
    "print(s2.t)\n",
    "print(s1 == s2)"
   ]
  },
  {
   "cell_type": "code",
   "execution_count": 149,
   "metadata": {},
   "outputs": [
    {
     "name": "stdout",
     "output_type": "stream",
     "text": [
      "['Jon', ✗, 'Nora', 'Ane', 'Miren', ✗, ✗, 'Asier', ✗, ✗]\n",
      "['Jon', ✗, 'Nora', 'Ane', 'Miren', ✗, ✗, 'Asier', ✗, ✗]\n",
      "✗ ✗\n",
      "False\n"
     ]
    }
   ],
   "source": [
    "s1 = myset([\"Ane\",\"Jon\",\"Miren\",\"Asier\",\"Nora\"])\n",
    "s2 = myset([\"Jon\",\"Ane\",\"Asier\",\"Miren\",\"Nora\"])\n",
    "print(s1.t)\n",
    "print(s2.t)\n",
    "print(s1.t[1],s2.t[1])\n",
    "print(s1.t[1] == s2.t[1])"
   ]
  },
  {
   "cell_type": "code",
   "execution_count": 153,
   "metadata": {},
   "outputs": [],
   "source": [
    "class myset():\n",
    "    \n",
    "    EMPTY = empty()\n",
    "    \n",
    "    def __init__(self, iterable=tuple(), N=10): # t(n) = len(iterable) + N>>n\n",
    "        self.t = [myset.EMPTY] * N\n",
    "        self.n = 0\n",
    "        for e in iterable:\n",
    "            self.add(e)\n",
    "        \n",
    "    def add(self,e): # t(n) = 1\n",
    "        i = hash(e) % len(self.t)\n",
    "        if self.t[i] == myset.EMPTY:\n",
    "            self.t[i] = e\n",
    "            self.n += 1\n",
    "        \n",
    "    def __len__(self): # t(n) = 1\n",
    "        return self.n\n",
    "    \n",
    "    def __iter__(self): # t(n) = 1 (zeharkatzean, N>>n)\n",
    "        for e in self.t:\n",
    "            if e != myset.EMPTY :\n",
    "                yield e\n",
    "                \n",
    "    def __str__(self): # t(n) = N>>n\n",
    "        return \"{\" + \", \".join(repr(e) for e in self) + \"}\"\n",
    "    \n",
    "    def __contains__(self,e): # t(n) = 1\n",
    "        #print(\"Hemendik pasa da\")\n",
    "        i = hash(e) % len(self.t)\n",
    "        return self.t[i] == e\n",
    "    \n",
    "    def __eq__(self, other): # t(n) = [1,N>>n]\n",
    "        print(\"Hemendik pasa da\")\n",
    "        return type(other) == myset and len(self)==len(other) and self.t == other.t        "
   ]
  },
  {
   "cell_type": "code",
   "execution_count": 154,
   "metadata": {},
   "outputs": [
    {
     "name": "stdout",
     "output_type": "stream",
     "text": [
      "['Jon', ✗, 'Nora', 'Ane', 'Miren', ✗, ✗, 'Asier', ✗, ✗]\n",
      "['Jon', ✗, 'Nora', 'Ane', 'Miren', ✗, ✗, 'Asier', ✗, ✗]\n",
      "✗ ✗\n",
      "True\n",
      "True\n"
     ]
    }
   ],
   "source": [
    "s1 = myset([\"Ane\",\"Jon\",\"Miren\",\"Asier\",\"Nora\"])\n",
    "s2 = myset([\"Jon\",\"Ane\",\"Asier\",\"Miren\",\"Nora\"])\n",
    "print(s1.t)\n",
    "print(s2.t)\n",
    "print(s1.t[1],s2.t[1])\n",
    "print(s1.t[1] == s2.t[1])\n",
    "print(s1 == s2)"
   ]
  },
  {
   "cell_type": "markdown",
   "metadata": {},
   "source": [
    "#### 8 - Multzoen `repr()`-en baliokidea $\\to$  `__repr__(self):`\n",
    "\n",
    "**GOGORATU:**\n",
    "\n",
    "```python\n",
    "s = myset(...)\n",
    "s == eval(repr(s))\n",
    "```"
   ]
  },
  {
   "cell_type": "code",
   "execution_count": 161,
   "metadata": {},
   "outputs": [],
   "source": [
    "class myset():\n",
    "    \n",
    "    EMPTY = empty()\n",
    "    \n",
    "    def __init__(self, iterable=tuple(), N=10):\n",
    "        self.t = [myset.EMPTY] * N\n",
    "        self.n = 0\n",
    "        for e in iterable:\n",
    "            self.add(e)\n",
    "        \n",
    "    def add(self,e):\n",
    "        i = hash(e) % len(self.t)\n",
    "        if self.t[i] == myset.EMPTY:\n",
    "            self.t[i] = e\n",
    "            self.n += 1\n",
    "        \n",
    "    def __len__(self):\n",
    "        return self.n\n",
    "    \n",
    "    def __iter__(self):\n",
    "        for e in self.t:\n",
    "            if e != myset.EMPTY :\n",
    "                yield e\n",
    "                \n",
    "    def __str__(self):\n",
    "        return \"{\" + \", \".join(repr(e) for e in self) + \"}\"\n",
    "    \n",
    "    def __repr__(self):\n",
    "        return f'myset({list(self)})'\n",
    "    \n",
    "    def __contains__(self,e): # t(n) = 1\n",
    "        #print(\"Hemendik pasa da\")\n",
    "        i = hash(e) % len(self.t)\n",
    "        return self.t[i] == e\n",
    "    \n",
    "    def __eq__(self, other): # t(n) = [1,N>>n]\n",
    "        #print(\"Hemendik pasa da\")\n",
    "        return type(other) == myset and len(self)==len(other) and self.t == other.t        \n"
   ]
  },
  {
   "cell_type": "code",
   "execution_count": 162,
   "metadata": {},
   "outputs": [
    {
     "name": "stdout",
     "output_type": "stream",
     "text": [
      "myset(['Jon', 'Nora', 'Ane', 'Miren', 'Asier'])\n",
      "True\n"
     ]
    }
   ],
   "source": [
    "s = myset([\"Ane\",\"Jon\",\"Miren\",\"Asier\",\"Nora\"])\n",
    "print(repr(s))\n",
    "print(s == eval(repr(s)))"
   ]
  },
  {
   "cell_type": "code",
   "execution_count": null,
   "metadata": {},
   "outputs": [],
   "source": []
  },
  {
   "cell_type": "markdown",
   "metadata": {
    "slideshow": {
     "slide_type": "fragment"
    }
   },
   "source": [
    "#### 2 - Sortu hiztegi bat eta *eskuz* gorde ondokoak: `3:'hiru'` eta `'lau':4`"
   ]
  },
  {
   "cell_type": "code",
   "execution_count": 36,
   "metadata": {
    "slideshow": {
     "slide_type": "fragment"
    }
   },
   "outputs": [
    {
     "name": "stdout",
     "output_type": "stream",
     "text": [
      "[None, None, ('lau', 4), (3, 'hiru'), None, None, None]\n"
     ]
    },
    {
     "data": {
      "text/plain": [
       "(3, 2)"
      ]
     },
     "execution_count": 36,
     "metadata": {},
     "output_type": "execute_result"
    }
   ],
   "source": [
    "h = h_new()\n",
    "h[hash(3) % len(h)] = (3,'hiru')\n",
    "h[hash('lau') % len(h)] = ('lau',4)\n",
    "print(h)\n",
    "hash(3)%7,hash('lau')%7"
   ]
  },
  {
   "cell_type": "markdown",
   "metadata": {
    "slideshow": {
     "slide_type": "slide"
    }
   },
   "source": [
    "#### 3 - Hiztegi baten `(gako,balio)` bikote zerrenda bueltatuko duen funtzioa, `dict.items()`-ren baliokidea"
   ]
  },
  {
   "cell_type": "code",
   "execution_count": 37,
   "metadata": {
    "slideshow": {
     "slide_type": "fragment"
    }
   },
   "outputs": [],
   "source": [
    "def h_items(h):\n",
    "    z = []\n",
    "    for x in h :\n",
    "        if x != None :\n",
    "            z.append(x)\n",
    "    return z\n",
    "def h_items(h):\n",
    "    z = []\n",
    "    for x in h :\n",
    "        if x :\n",
    "            z.append(x)\n",
    "    return z\n",
    "def h_items(h):\n",
    "    return  [x for x in h if x ]"
   ]
  },
  {
   "cell_type": "code",
   "execution_count": 38,
   "metadata": {
    "slideshow": {
     "slide_type": "fragment"
    }
   },
   "outputs": [
    {
     "name": "stdout",
     "output_type": "stream",
     "text": [
      "h \"zerrendako\" elementuak: None None ('lau', 4) (3, 'hiru') None None None\n",
      "h \"hiztegiko\" elementuak: ('lau', 4) (3, 'hiru')\n"
     ]
    }
   ],
   "source": [
    "print('h \"zerrendako\" elementuak:',*h)\n",
    "print('h \"hiztegiko\" elementuak:',*h_items(h))"
   ]
  },
  {
   "cell_type": "markdown",
   "metadata": {
    "slideshow": {
     "slide_type": "slide"
    }
   },
   "source": [
    "#### 4 - Hiztegi baten tamaina bueltatuko duen funtzioa, `len()`-ren baliokidea"
   ]
  },
  {
   "cell_type": "code",
   "execution_count": 41,
   "metadata": {
    "slideshow": {
     "slide_type": "fragment"
    }
   },
   "outputs": [],
   "source": [
    "def h_len(h):\n",
    "    n = 0\n",
    "    for x in h :\n",
    "        if x != None :\n",
    "            n += 1\n",
    "    return n\n",
    "def h_len(h):\n",
    "    n = 0\n",
    "    for x in h :\n",
    "        if x :\n",
    "            n += 1\n",
    "    return n\n",
    "def h_len(h):\n",
    "    #return sum([1 for x in h if x])\n",
    "    #return sum(1 for x in h if x)\n",
    "    # bool(None)==False, bool((g,b))==True\n",
    "    # 1==int(True),0==int(False)    \n",
    "    #return sum(int(bool(x)) for x in h)\n",
    "    # 1+True+False+True == 3\n",
    "    #return sum([bool(x) for x in h])\n",
    "    return sum(bool(x) for x in h)\n",
    "\n",
    "#def h_len(h):\n",
    "#    return len(h_items(h))"
   ]
  },
  {
   "cell_type": "code",
   "execution_count": 42,
   "metadata": {
    "slideshow": {
     "slide_type": "fragment"
    }
   },
   "outputs": [
    {
     "name": "stdout",
     "output_type": "stream",
     "text": [
      "h \"zerrendaren\" tamaina: 7\n",
      "h \"hiztegiaren\" tamaina: 2\n"
     ]
    }
   ],
   "source": [
    "print(f'h \"zerrendaren\" tamaina: {len(h)}')\n",
    "print(f'h \"hiztegiaren\" tamaina: {h_len(h)}')"
   ]
  },
  {
   "cell_type": "markdown",
   "metadata": {
    "slideshow": {
     "slide_type": "slide"
    }
   },
   "source": [
    "#### 5 - Hiztegi batetik karaktere kate bat sortzeko funtzioa, `str()`-ren baliokidea"
   ]
  },
  {
   "cell_type": "code",
   "execution_count": 44,
   "metadata": {},
   "outputs": [
    {
     "name": "stdout",
     "output_type": "stream",
     "text": [
      "{'bat': 2, 3: 'kaixo'}\n",
      "{'bat': 2, 3: 'kaixo'}\n"
     ]
    },
    {
     "data": {
      "text/plain": [
       "\"{'bat': 2, 3: 'kaixo'}\""
      ]
     },
     "execution_count": 44,
     "metadata": {},
     "output_type": "execute_result"
    }
   ],
   "source": [
    "s = {'bat':2,3:'kaixo'}\n",
    "print(s)\n",
    "print(str(s))\n",
    "str(s)"
   ]
  },
  {
   "cell_type": "code",
   "execution_count": 45,
   "metadata": {
    "slideshow": {
     "slide_type": "fragment"
    }
   },
   "outputs": [],
   "source": [
    "def h_str(h):\n",
    "    z = []\n",
    "    for g,b in h_items(h):\n",
    "        z.append(repr(g) + ': ' + repr(b))\n",
    "    return '{' + ', '.join(z) + '}'\n",
    "def h_str(h):\n",
    "    z = [repr(g) + ': ' + repr(b) for g,b in h_items(h)]\n",
    "    return '{' + ', '.join(z) + '}'\n",
    "def h_str(h):\n",
    "    g = (repr(g) + ': ' + repr(b) for g,b in h_items(h))\n",
    "    return '{' + ', '.join(g) + '}'"
   ]
  },
  {
   "cell_type": "code",
   "execution_count": 46,
   "metadata": {
    "slideshow": {
     "slide_type": "fragment"
    }
   },
   "outputs": [
    {
     "name": "stdout",
     "output_type": "stream",
     "text": [
      "[None, None, ('lau', 4), (3, 'hiru'), None, None, None]\n",
      "{'lau': 4, 3: 'hiru'}\n"
     ]
    }
   ],
   "source": [
    "print(str(h))\n",
    "print(h_str(h))"
   ]
  },
  {
   "cell_type": "markdown",
   "metadata": {
    "slideshow": {
     "slide_type": "slide"
    }
   },
   "source": [
    "#### 6 - Gako bati dagokion balioa kontsultatzeko funtzioa, `dict.get()`-en baliokidea"
   ]
  },
  {
   "cell_type": "code",
   "execution_count": 47,
   "metadata": {
    "slideshow": {
     "slide_type": "fragment"
    }
   },
   "outputs": [],
   "source": [
    "def h_get(h,g,d=None):\n",
    "    x = h[hash(g) % len(h)] \n",
    "    if x != None :\n",
    "        g2,b2 = x\n",
    "        if g2 == g :\n",
    "            return b2\n",
    "        else :\n",
    "            return d\n",
    "    else :\n",
    "        return d\n",
    "    \n",
    "def h_get(h,g,d=None):\n",
    "    x = h[hash(g) % len(h)] \n",
    "    if x != None :\n",
    "        g2,b2 = x\n",
    "        if g2 == g :\n",
    "            return b2\n",
    "    return d"
   ]
  },
  {
   "cell_type": "code",
   "execution_count": 49,
   "metadata": {
    "slideshow": {
     "slide_type": "slide"
    }
   },
   "outputs": [
    {
     "name": "stdout",
     "output_type": "stream",
     "text": [
      "[None, None, ('lau', 4), (3, 'hiru'), None, None, None]\n",
      "{'lau': 4, 3: 'hiru'}\n",
      "hizt[3] = hiru\n",
      "hizt[1] = None\n",
      "hizt[\"lau\"] = 4\n",
      "hizt[4] = kaka\n"
     ]
    }
   ],
   "source": [
    "print(h)\n",
    "print(h_str(h))\n",
    "print(f'hizt[3] = {h_get(h,3)}')\n",
    "print(f'hizt[1] = {h_get(h,1)}')\n",
    "print(f'hizt[\"lau\"] = {h_get(h,\"lau\")}')\n",
    "print(f'hizt[4] = {h_get(h,4,\"kaka\")}')"
   ]
  },
  {
   "cell_type": "markdown",
   "metadata": {
    "slideshow": {
     "slide_type": "slide"
    }
   },
   "source": [
    "#### 7 - Hiztegi batetan gako bati dagokion balioa gordeko duen funtzioa, `h[k]=v`-en baliokidea."
   ]
  },
  {
   "cell_type": "code",
   "execution_count": null,
   "metadata": {
    "slideshow": {
     "slide_type": "fragment"
    }
   },
   "outputs": [],
   "source": [
    "def h_put(h,k,v):\n",
    "    i = hash(k) % len(h)\n",
    "    x = h[i] \n",
    "    if x != None :\n",
    "        k2,v2 = x\n",
    "        if k2 == k :\n",
    "            h[i] = (k,v)\n",
    "        else :\n",
    "            # KOLISIOA!!!!!\n",
    "            h_resize(h,len(h)*2)\n",
    "            # KONTUZZZZ\n",
    "            #h[hash(k) % len(h)] = (k,v) \n",
    "            h_put(h,k,v)\n",
    "    else :\n",
    "        h[i] = (k,v)    "
   ]
  },
  {
   "cell_type": "markdown",
   "metadata": {
    "slideshow": {
     "slide_type": "fragment"
    }
   },
   "source": [
    "`h_resize()` funtzio bat behar dugu..."
   ]
  },
  {
   "cell_type": "markdown",
   "metadata": {
    "slideshow": {
     "slide_type": "slide"
    }
   },
   "source": [
    "Saia gaitezen `h_put(h,k,v)`errekurtsibitatea ebitatzen..."
   ]
  },
  {
   "cell_type": "code",
   "execution_count": null,
   "metadata": {
    "slideshow": {
     "slide_type": "fragment"
    }
   },
   "outputs": [],
   "source": [
    "def h_put(h,k,v):\n",
    "    i = hash(k) % len(h)\n",
    "    x = h[i] \n",
    "    if x != None :\n",
    "        k2,v2 = x\n",
    "        if k2 == k :\n",
    "            h[i] = (k,v)\n",
    "        else :\n",
    "            # KOLISIOA!!!!!\n",
    "            while h[hash(k) % len(h)] != None :\n",
    "                h_resize(h,len(h)*2)\n",
    "            h[hash(k) % len(h)] = (k,v)     \n",
    "    else :\n",
    "        h[i] = (k,v)    "
   ]
  },
  {
   "cell_type": "markdown",
   "metadata": {
    "slideshow": {
     "slide_type": "slide"
    }
   },
   "source": [
    "#### 8 - Hiztegi baten *barne tamaina* aldatuko duen funtzioa"
   ]
  },
  {
   "cell_type": "code",
   "execution_count": 50,
   "metadata": {
    "hide_input": false,
    "slideshow": {
     "slide_type": "fragment"
    }
   },
   "outputs": [],
   "source": [
    "def h_resize(h,N):\n",
    "    items = list(h_items(h))\n",
    "    # KONTUZ!!!\n",
    "    # h = [None] * N\n",
    "    h.clear()\n",
    "    h.extend([None] * N)\n",
    "    for k,v in items :\n",
    "        h_put(h,k,v)"
   ]
  },
  {
   "cell_type": "markdown",
   "metadata": {
    "slideshow": {
     "slide_type": "slide"
    }
   },
   "source": [
    "`h_put()` eta `h_resize()` biak batera frogatuko ditugu..."
   ]
  },
  {
   "cell_type": "code",
   "execution_count": 51,
   "metadata": {
    "slideshow": {
     "slide_type": "fragment"
    }
   },
   "outputs": [
    {
     "name": "stdout",
     "output_type": "stream",
     "text": [
      "--------------------------------------------------\n",
      " 7 [None, ('laux', 4), None, (3, 'hiru'), None, None, None]\n",
      "{'laux': 4, 3: 'hiru'}\n",
      "--------------------------------------------------\n",
      " 9 [('laux', 4), None, None, (3, 'hiru'), None, None, None, None, None]\n",
      "{'laux': 4, 3: 'hiru'}\n",
      "--------------------------------------------------\n",
      " 17 [None, None, None, (3, 'hiru'), None, None, None, None, None, None, None, None, None, None, None, ('laux', 4), None]\n",
      "{3: 'hiru', 'laux': 4}\n",
      "3 5306439642013883732\n",
      "3 5\n",
      "3 10\n"
     ]
    }
   ],
   "source": [
    "h = h_new()\n",
    "h_put(h,3,'hiru')\n",
    "h_put(h,'laux',4)\n",
    "\n",
    "print('-'*50+'\\n',len(h),h)\n",
    "print(h_str(h))\n",
    "\n",
    "h_resize(h,9)\n",
    "print('-'*50+'\\n',len(h),h)\n",
    "print(h_str(h))\n",
    "\n",
    "h_resize(h,17)\n",
    "print('-'*50+'\\n',len(h),h)\n",
    "print(h_str(h))\n",
    "print(hash(3), hash('lau'))\n",
    "print(hash(3)%9, hash('lau')%9)\n",
    "print(hash(3)%17, hash('lau')%17)"
   ]
  },
  {
   "cell_type": "markdown",
   "metadata": {
    "slideshow": {
     "slide_type": "slide"
    }
   },
   "source": [
    "#### 9 - Hiztegi baten *karga faktorea* kalkulatuko duen funtzioa"
   ]
  },
  {
   "cell_type": "code",
   "execution_count": 52,
   "metadata": {},
   "outputs": [
    {
     "name": "stdout",
     "output_type": "stream",
     "text": [
      "{3: 'hiru', 'laux': 4} 2 17 0.11764705882352941\n",
      "{3: 'hiru', 'laux': 4} 2 25 0.08\n",
      "{3: 'hiru', 'laux': 4} 2 11 0.18181818181818182\n"
     ]
    }
   ],
   "source": [
    "def h_lf(h):\n",
    "    return h_len(h)/len(h)\n",
    "print(h_str(h),h_len(h),len(h),h_lf(h))\n",
    "h_resize(h,25)\n",
    "print(h_str(h),h_len(h),len(h),h_lf(h))\n",
    "h_resize(h,11)\n",
    "print(h_str(h),h_len(h),len(h),h_lf(h))"
   ]
  },
  {
   "cell_type": "markdown",
   "metadata": {
    "slideshow": {
     "slide_type": "slide"
    }
   },
   "source": [
    "Frogak egin ditzagun...."
   ]
  },
  {
   "cell_type": "code",
   "execution_count": 53,
   "metadata": {},
   "outputs": [
    {
     "name": "stdout",
     "output_type": "stream",
     "text": [
      "14 10 0.7142857142857143\n",
      "112 100 0.8928571428571429\n",
      "1792 1000 0.5580357142857143\n",
      "14336 10000 0.6975446428571429\n"
     ]
    },
    {
     "data": {
      "text/plain": [
       "[7, 14, 28, 56, 112, 224, 448, 896, 1792, 3584, 7168, 14336, 28672, 57344]"
      ]
     },
     "execution_count": 53,
     "metadata": {},
     "output_type": "execute_result"
    }
   ],
   "source": [
    "for n in 10,100,1000,10000 :\n",
    "    h = h_new()\n",
    "    for i in range(n):\n",
    "        h_put(h,i,str(i))\n",
    "    print(len(h),h_len(h),h_lf(h))\n",
    "\n",
    "[7 * (2 ** i) for i in range(14)]\n",
    "    "
   ]
  },
  {
   "cell_type": "markdown",
   "metadata": {
    "slideshow": {
     "slide_type": "fragment"
    }
   },
   "source": [
    "Zenbaki osoen hash balioa bere burua delako, `h` zerrendaren tamaina gordetzen ari garen `i` gako handiena baina handiagoa izatea nahikoa da... **EZ DA KOLISIORIK EGONGO**"
   ]
  },
  {
   "cell_type": "code",
   "execution_count": 54,
   "metadata": {
    "slideshow": {
     "slide_type": "slide"
    }
   },
   "outputs": [
    {
     "name": "stdout",
     "output_type": "stream",
     "text": [
      "448 10 0.022321428571428572\n",
      "14336 100 0.006975446428571429\n",
      "229376 1000 0.004359654017857143\n",
      "117440512 10000 8.514949253627233e-05\n"
     ]
    }
   ],
   "source": [
    "for n in 10,100,1000,10000 :\n",
    "    h = h_new()\n",
    "    for i in range(n):\n",
    "        h_put(h,str(i),i)\n",
    "    print(len(h),h_len(h),h_lf(h))"
   ]
  },
  {
   "cell_type": "markdown",
   "metadata": {
    "slideshow": {
     "slide_type": "slide"
    }
   },
   "source": [
    "Lehenengo kasuan, gakoak `[0,n]` tarteko zenbakiak izan beharrean auzazkoak izan balira..."
   ]
  },
  {
   "cell_type": "code",
   "execution_count": null,
   "metadata": {
    "slideshow": {
     "slide_type": "fragment"
    }
   },
   "outputs": [],
   "source": [
    "from random import randrange\n",
    "for n in 10,100,1000,10000 :\n",
    "    h = h_new()\n",
    "    for i in range(n):\n",
    "        h_put(h,randrange(1000000000),'KAKA!')\n",
    "    print(len(h),h_len(h),h_lf(h))"
   ]
  },
  {
   "cell_type": "markdown",
   "metadata": {
    "slideshow": {
     "slide_type": "slide"
    }
   },
   "source": [
    "#### 10 - Hiztegien beste hainbat funtzio falta dira..."
   ]
  },
  {
   "cell_type": "markdown",
   "metadata": {
    "slideshow": {
     "slide_type": "slide"
    }
   },
   "source": [
    "### `h_values()`\n",
    "\n",
    "```\n",
    "  D.values() -> an object providing a view on D's values\n",
    "```"
   ]
  },
  {
   "cell_type": "markdown",
   "metadata": {
    "slideshow": {
     "slide_type": "slide"
    }
   },
   "source": [
    "### `h_clear()`\n",
    "\n",
    "```\n",
    "  D.clear() -> None.  Remove all items from D.\n",
    "```"
   ]
  },
  {
   "cell_type": "markdown",
   "metadata": {
    "slideshow": {
     "slide_type": "slide"
    }
   },
   "source": [
    "### `h_pop(k[,d])`\n",
    "\n",
    "```\n",
    "  D.pop(k[,d]) -> v, remove specified key and return the corresponding value.\n",
    "  If key is not found, d is returned if given, otherwise KeyError is raised\n",
    "```"
   ]
  },
  {
   "cell_type": "markdown",
   "metadata": {
    "slideshow": {
     "slide_type": "slide"
    }
   },
   "source": [
    "### `h_popitem()`\n",
    "\n",
    "```\n",
    "  D.popitem() -> (k, v), remove and return some (key, value) pair as a\n",
    "  2-tuple; but raise KeyError if D is empty.\n",
    "```"
   ]
  },
  {
   "cell_type": "markdown",
   "metadata": {
    "slideshow": {
     "slide_type": "slide"
    }
   },
   "source": [
    "### `h_setdefault(key, default=None)`\n",
    "\n",
    "```\n",
    "  Insert key with a value of default if key is not in the dictionary.      \n",
    "  Return the value for key if key is in the dictionary, else default.\n",
    "```"
   ]
  },
  {
   "cell_type": "markdown",
   "metadata": {
    "slideshow": {
     "slide_type": "slide"
    }
   },
   "source": [
    "#### 11 - Hiztegiaren tamaina\n",
    "\n",
    "Sortutako egituran, hiztegiaren tamaina kontsultatu nahi dugun bakoitzean, zeharkatu egin behar dugu eta `None`-ren ezberdinak diren elementu kopurua kontatu. Zerrendan hiztegiaren tamaina gordeko bagenu, bizkorragoa litzateke:\n",
    "\n",
    "* `h[-1]`-en hiztegiaren tamaina gorde\n",
    "* Hash Taularen tamaina: `N = len(h)-1`\n",
    "* $g$ gako bati taulan dagokion posizioa: $i \\; = \\; hash(g)\\; \\% \\; N$\n",
    "* Okupazio aldaketak:\n",
    "   * hiztegia sortzean, `h[-1] = 0`\n",
    "   * sarrera bat gehitzean, `h[-1] += 1`\n",
    "   * sarrera bat ezabatzean, `h[-1] -= 1`\n",
    "* `LF = h[-1]/(len(h)-1)`"
   ]
  },
  {
   "cell_type": "markdown",
   "metadata": {
    "slideshow": {
     "slide_type": "slide"
    }
   },
   "source": [
    "Beste aukera posible bat, hiztegia bi elementutako zerrenda baten bidez adieraztea litzateke. Zerrendako lehenengo elementua Hash Taula gordetzen dueneko zerrenda litzateke eta bigarrena hiztegiaren tamaina (taularen okupazioa):\n",
    "* `h = [taula , okupazioa]`\n",
    "* Hash Taularen tamaina: `N = len(h[0])`\n",
    "* $g$ gako bati taulan dagokion posizioa: $i \\; = \\; hash(g)\\; \\% \\; N$\n",
    "* Okupazio aldaketak:\n",
    "   * hiztegia sortzean, `h[1] = 0`\n",
    "   * sarrera bat gehitzean, `h[1] += 1`\n",
    "   * sarrera bat ezabatzean, `h[1] -= 1`\n",
    "* `LF = h[1]/len(h[0])`"
   ]
  }
 ],
 "metadata": {
  "celltoolbar": "Slideshow",
  "kernelspec": {
   "display_name": "Python 3",
   "language": "python",
   "name": "python3"
  },
  "language_info": {
   "codemirror_mode": {
    "name": "ipython",
    "version": 3
   },
   "file_extension": ".py",
   "mimetype": "text/x-python",
   "name": "python",
   "nbconvert_exporter": "python",
   "pygments_lexer": "ipython3",
   "version": "3.7.6"
  }
 },
 "nbformat": 4,
 "nbformat_minor": 2
}
