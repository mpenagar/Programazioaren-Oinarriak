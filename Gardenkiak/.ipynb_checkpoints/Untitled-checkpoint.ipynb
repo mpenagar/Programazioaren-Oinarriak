{
 "cells": [
  {
   "cell_type": "code",
   "execution_count": 6,
   "metadata": {},
   "outputs": [
    {
     "data": {
      "text/plain": [
       "7961163372785468908"
      ]
     },
     "execution_count": 6,
     "metadata": {},
     "output_type": "execute_result"
    }
   ],
   "source": [
    "hash(\"hola\")"
   ]
  },
  {
   "cell_type": "code",
   "execution_count": 7,
   "metadata": {},
   "outputs": [
    {
     "data": {
      "text/plain": [
       "7961163372785468908"
      ]
     },
     "execution_count": 7,
     "metadata": {},
     "output_type": "execute_result"
    }
   ],
   "source": [
    "hash(\"hola\")"
   ]
  },
  {
   "cell_type": "code",
   "execution_count": 12,
   "metadata": {},
   "outputs": [
    {
     "name": "stdout",
     "output_type": "stream",
     "text": [
      "kaixo\n"
     ]
    }
   ],
   "source": [
    "with open(\"MyText.txt\",encoding=\"utf8\") as f :\n",
    "    print('kaixo')\n",
    "    #print('kjhg'.index(\"eoe\"))"
   ]
  },
  {
   "cell_type": "code",
   "execution_count": 13,
   "metadata": {},
   "outputs": [
    {
     "name": "stdout",
     "output_type": "stream",
     "text": [
      "kaixo\n"
     ]
    }
   ],
   "source": [
    "import sys\n",
    "context_manager = open(\"MyText.txt\",encoding=\"utf8\")\n",
    "hit_except = False\n",
    "\n",
    "try :\n",
    "    f = context_manager.__enter__()\n",
    "    \n",
    "    print('kaixo')\n",
    "    #print('kjhg'.index(\"eoe\"))    \n",
    "\n",
    "    context_manager.__exit__(None, None, None)\n",
    "except:\n",
    "    hit_except = True\n",
    "    # sys.exc_info(): type, value, and traceback of exception\n",
    "    if not context_manager.__exit__(*sys.exc_info()):\n",
    "        raise"
   ]
  },
  {
   "cell_type": "markdown",
   "metadata": {},
   "source": [
    "https://docs.python.org/3/reference/compound_stmts.html#the-with-statement\n",
    "\n",
    "```\n",
    "with EXPRESSION as TARGET:\n",
    "    SUITE\n",
    "```    \n",
    "\n",
    "Is equivalent to:\n",
    "\n",
    "```\n",
    "manager = (EXPRESSION)\n",
    "enter = type(manager).__enter__\n",
    "exit = type(manager).__exit__\n",
    "value = enter(manager)\n",
    "hit_except = False\n",
    "\n",
    "try:\n",
    "    TARGET = value\n",
    "    SUITE\n",
    "except:\n",
    "    hit_except = True\n",
    "    if not exit(manager, *sys.exc_info()):\n",
    "        raise\n",
    "finally:\n",
    "    if not hit_except:\n",
    "        exit(manager, None, None, None)\n",
    "```\n",
    "\n",
    "Or:\n",
    "\n",
    "```\n",
    "manager = (EXPRESSION)\n",
    "enter = type(manager).__enter__\n",
    "exit = type(manager).__exit__\n",
    "value = enter(manager)\n",
    "\n",
    "try:\n",
    "    TARGET = value\n",
    "    SUITE\n",
    "    exit(manager, None, None, None)\n",
    "except:\n",
    "    hit_except = True\n",
    "    if not exit(manager, *sys.exc_info()):\n",
    "        raise\n",
    "finally:\n",
    "    if not hit_except:\n",
    "```"
   ]
  },
  {
   "cell_type": "code",
   "execution_count": 5,
   "metadata": {},
   "outputs": [
    {
     "name": "stdout",
     "output_type": "stream",
     "text": [
      "entra\n",
      "False <class 'IndexError'> list index out of range <traceback object at 0x7f8a30071690>\n"
     ]
    },
    {
     "ename": "IndexError",
     "evalue": "list index out of range",
     "output_type": "error",
     "traceback": [
      "\u001b[0;31m\u001b[0m",
      "\u001b[0;31mIndexError\u001b[0mTraceback (most recent call last)",
      "\u001b[0;32m<ipython-input-5-8a318ca3adb4>\u001b[0m in \u001b[0;36m<module>\u001b[0;34m\u001b[0m\n\u001b[1;32m      9\u001b[0m \u001b[0;32mtry\u001b[0m\u001b[0;34m:\u001b[0m\u001b[0;34m\u001b[0m\u001b[0;34m\u001b[0m\u001b[0m\n\u001b[1;32m     10\u001b[0m     \u001b[0mTARGET\u001b[0m \u001b[0;34m=\u001b[0m \u001b[0mvalue\u001b[0m\u001b[0;34m\u001b[0m\u001b[0;34m\u001b[0m\u001b[0m\n\u001b[0;32m---> 11\u001b[0;31m     \u001b[0mx\u001b[0m \u001b[0;34m=\u001b[0m \u001b[0mz\u001b[0m\u001b[0;34m[\u001b[0m\u001b[0;36m3\u001b[0m\u001b[0;34m]\u001b[0m\u001b[0;34m\u001b[0m\u001b[0;34m\u001b[0m\u001b[0m\n\u001b[0m\u001b[1;32m     12\u001b[0m \u001b[0;32mexcept\u001b[0m\u001b[0;34m:\u001b[0m\u001b[0;34m\u001b[0m\u001b[0;34m\u001b[0m\u001b[0m\n\u001b[1;32m     13\u001b[0m     \u001b[0mprint\u001b[0m\u001b[0;34m(\u001b[0m\u001b[0;34m\"entra\"\u001b[0m\u001b[0;34m)\u001b[0m\u001b[0;34m\u001b[0m\u001b[0;34m\u001b[0m\u001b[0m\n",
      "\u001b[0;31mIndexError\u001b[0m: list index out of range"
     ]
    }
   ],
   "source": [
    "import sys\n",
    "\n",
    "manager = open(\"MyText.txt\",encoding=\"utf8\")\n",
    "enter = type(manager).__enter__\n",
    "exit = type(manager).__exit__\n",
    "value = enter(manager)\n",
    "hit_except = False\n",
    "\n",
    "try:\n",
    "    TARGET = value\n",
    "    x = z[3]\n",
    "except:\n",
    "    print(\"entra\")\n",
    "    hit_except = True\n",
    "    if not exit(manager, *sys.exc_info()):\n",
    "        print(False,*sys.exc_info())\n",
    "        raise\n",
    "finally:\n",
    "    if not hit_except:\n",
    "        exit(manager, None, None, None)"
   ]
  },
  {
   "cell_type": "code",
   "execution_count": 6,
   "metadata": {},
   "outputs": [
    {
     "name": "stdout",
     "output_type": "stream",
     "text": [
      "Help on built-in function __exit__:\n",
      "\n",
      "__exit__(...) method of _io.TextIOWrapper instance\n",
      "\n"
     ]
    }
   ],
   "source": [
    "with open(\"MyText.txt\",encoding=\"utf8\") as f :\n",
    "    help(f.__exit__)"
   ]
  },
  {
   "cell_type": "code",
   "execution_count": 12,
   "metadata": {},
   "outputs": [
    {
     "name": "stdout",
     "output_type": "stream",
     "text": [
      "(3, 'a') (4, 'e') (5, 'i') (6, 'o') (7, 'u')\n",
      "(3, 'a') (4, 'e') (5, 'i') (6, 'o') (7, 'u')\n",
      "False\n",
      "False\n",
      "False\n"
     ]
    }
   ],
   "source": [
    "e = enumerate(\"aeiou\",3)\n",
    "\n",
    "str(enumerate(\"aeiou\",3))\n",
    "#eval(repr(enumerate(\"aeiou\",3)))\n",
    "\n",
    "import pickle\n",
    "\n",
    "def savebin(obj,filename):\n",
    "    with open(filename,'wb') as f :\n",
    "        pickle.dump(obj,f)\n",
    "        \n",
    "def loadbin(filename,encoding='utf8'):\n",
    "    with open(filename,'rb') as f :\n",
    "        return pickle.load(f)\n",
    "    \n",
    "savebin(e,'kk.dat')\n",
    "x = loadbin('kk.dat')\n",
    "\n",
    "print(*e)\n",
    "print(*x)\n",
    "print(x == e)\n",
    "print(enumerate(\"aeiou\") == enumerate(\"aeiou\"))\n",
    "print(zip(\"aeiou\",range(10)) == zip(\"aeiou\",range(10)))"
   ]
  },
  {
   "cell_type": "code",
   "execution_count": 47,
   "metadata": {},
   "outputs": [
    {
     "name": "stdout",
     "output_type": "stream",
     "text": [
      "[[5 6 6 8]\n",
      " [2 2 2 8]\n",
      " [6 6 2 8]\n",
      " [2 3 6 7]]\n",
      "-7.999999999999973\n"
     ]
    }
   ],
   "source": [
    "from numpy import array\n",
    "from numpy.linalg import det\n",
    "#help(array)\n",
    "A = array([[5,6,6,8],[2,2,2,8],[6,6,2,8],[2,3,6,7]])\n",
    "print(A)\n",
    "print(det(A))"
   ]
  }
 ],
 "metadata": {
  "kernelspec": {
   "display_name": "Python 3",
   "language": "python",
   "name": "python3"
  },
  "language_info": {
   "codemirror_mode": {
    "name": "ipython",
    "version": 3
   },
   "file_extension": ".py",
   "mimetype": "text/x-python",
   "name": "python",
   "nbconvert_exporter": "python",
   "pygments_lexer": "ipython3",
   "version": "3.7.4"
  }
 },
 "nbformat": 4,
 "nbformat_minor": 2
}
