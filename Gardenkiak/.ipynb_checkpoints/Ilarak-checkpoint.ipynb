{
 "cells": [
  {
   "cell_type": "markdown",
   "metadata": {
    "slideshow": {
     "slide_type": "slide"
    }
   },
   "source": [
    "# Ilara (*Queue*) DMA (Datu Mota Abstraktua)\n",
    "\n",
    "<img src=\"../img/Queue.jpg\" alt=\"Queue\" style=\"width: 800px;\"/>"
   ]
  },
  {
   "cell_type": "markdown",
   "metadata": {
    "slideshow": {
     "slide_type": "slide"
    }
   },
   "source": [
    "# Ilara (*Queue*) DMA (Datu Mota Abstraktua)\n",
    "\n",
    "* FIFO (*First-In First-Out*) motako elementu sorta lineala eta dinamikoa.\n",
    "    * Gehitzen den lehenengo elementua, ateratzen den lehenengoa.\n",
    "    * Ezin da lehenengo elementuaren *atzetik* dagoen elementurik atzitu.\n",
    "* Inplementazio/erabilpenaren arabera, tamaina maximoa izan dezakete\n",
    "* Erabilpenak: ekoizle/produktore - kontsumitzaile arteko *buffering*-a"
   ]
  },
  {
   "cell_type": "markdown",
   "metadata": {
    "slideshow": {
     "slide_type": "slide"
    }
   },
   "source": [
    "## Oinarrrizko eragiketak:\n",
    "* Hutsik dagoeneko ilara berria **sortu/hasieratu**\n",
    "* **enqueue**: elementu berri bat gehitu\n",
    "* **front**: lehenengo elementua kontsultatu\n",
    "* **dequeue**: lehenengo elementua atera\n",
    "* **len**: elementu kopurua\n",
    "* **isEmpty**: hutsik dagoen kontsultatu\n",
    "   * [bool()](https://docs.python.org/3/library/stdtypes.html#truth) ere erabil dezakegu &rarr; **len**\n",
    "* **isFull**: beteta dagoen kontsultatu (tamaina maximoa duten ilaretan)\n"
   ]
  },
  {
   "cell_type": "markdown",
   "metadata": {
    "slideshow": {
     "slide_type": "slide"
    }
   },
   "source": [
    "<img src=\"../img/Queue2.png\" alt=\"Queue\" style=\"width: 900px;\"/>"
   ]
  },
  {
   "cell_type": "markdown",
   "metadata": {
    "slideshow": {
     "slide_type": "slide"
    }
   },
   "source": [
    "## Queue klasea inplementatzen I - zerrenda mugagabeak"
   ]
  },
  {
   "cell_type": "markdown",
   "metadata": {
    "slideshow": {
     "slide_type": "fragment"
    }
   },
   "source": [
    "* `Queue.enqueue` &rarr; `list.append`"
   ]
  },
  {
   "cell_type": "markdown",
   "metadata": {
    "slideshow": {
     "slide_type": "fragment"
    }
   },
   "source": [
    "* `Queue.front` &rarr; `list[0]`"
   ]
  },
  {
   "cell_type": "markdown",
   "metadata": {
    "slideshow": {
     "slide_type": "fragment"
    }
   },
   "source": [
    "* `Queue.dequeue` &rarr; `list.pop(0)`"
   ]
  },
  {
   "cell_type": "markdown",
   "metadata": {
    "slideshow": {
     "slide_type": "fragment"
    }
   },
   "source": [
    "* `len(Queue)` &rarr; `len(list)`"
   ]
  },
  {
   "cell_type": "markdown",
   "metadata": {
    "slideshow": {
     "slide_type": "fragment"
    }
   },
   "source": [
    "* `iter(Queue)` $\\not \\Rightarrow$ `iter(list)`"
   ]
  },
  {
   "cell_type": "code",
   "execution_count": 1,
   "metadata": {
    "slideshow": {
     "slide_type": "slide"
    }
   },
   "outputs": [],
   "source": [
    "class Queue(object):\n",
    "\n",
    "    def __init__(self,it=()):\n",
    "        self.z = list(it)\n",
    "    \n",
    "    def enqueue(self,value):\n",
    "        self.z.append(value)\n",
    "\n",
    "    def front(self):\n",
    "        return self.z[0]\n",
    "    \n",
    "    def dequeue(self):\n",
    "       return self.z.pop(0)\n",
    "    \n",
    "    def __len__(self):\n",
    "        return len(self.z)\n",
    "    \n",
    "    def isFull(self):\n",
    "        return False\n",
    "    \n",
    "    def __iter__(self):\n",
    "        return (self.dequeue() for _ in range(len(self)))\n",
    "    \n",
    "    def __iter__(self):\n",
    "        while self :\n",
    "            yield self.dequeue()"
   ]
  },
  {
   "cell_type": "code",
   "execution_count": 2,
   "metadata": {
    "slideshow": {
     "slide_type": "slide"
    }
   },
   "outputs": [
    {
     "data": {
      "text/plain": [
       "[0, 1, 2, 3, 4, 5, 6, 7, 8, 9]"
      ]
     },
     "execution_count": 2,
     "metadata": {},
     "output_type": "execute_result"
    }
   ],
   "source": [
    "list(Queue(range(10)))"
   ]
  },
  {
   "cell_type": "code",
   "execution_count": 3,
   "metadata": {
    "slideshow": {
     "slide_type": "slide"
    }
   },
   "outputs": [
    {
     "name": "stdout",
     "output_type": "stream",
     "text": [
      "len: 1\n",
      "len: 2\n",
      "len: 3\n",
      "len: 4\n",
      "len: 5\n",
      "-----\n",
      "dequeue: a len: 4\n",
      "dequeue: e len: 3\n",
      "dequeue: i len: 2\n",
      "dequeue: o len: 1\n",
      "dequeue: u len: 0\n"
     ]
    }
   ],
   "source": [
    "q = Queue()\n",
    "for i in \"aeiou\":\n",
    "    q.enqueue(i)\n",
    "    print(f'len: {len(q)}')\n",
    "print('-----')\n",
    "while q :\n",
    "    x = q.dequeue()\n",
    "    print(f'dequeue: {x} len: {len(q)}')"
   ]
  },
  {
   "cell_type": "code",
   "execution_count": 4,
   "metadata": {
    "slideshow": {
     "slide_type": "slide"
    }
   },
   "outputs": [
    {
     "name": "stdout",
     "output_type": "stream",
     "text": [
      "len: 1\n",
      "len: 2\n",
      "len: 3\n",
      "len: 4\n",
      "len: 5\n",
      "-----\n",
      "dequeue: a len: 4\n",
      "dequeue: e len: 3\n",
      "dequeue: i len: 2\n",
      "dequeue: o len: 1\n",
      "dequeue: u len: 0\n"
     ]
    }
   ],
   "source": [
    "q = Queue()\n",
    "for i in \"aeiou\":\n",
    "    q.enqueue(i)\n",
    "    print(f'len: {len(q)}')\n",
    "print('-----')\n",
    "for x in q:\n",
    "    print(f'dequeue: {x} len: {len(q)}')"
   ]
  },
  {
   "cell_type": "markdown",
   "metadata": {
    "slideshow": {
     "slide_type": "slide"
    }
   },
   "source": [
    "### `str` funtzio berezia..."
   ]
  },
  {
   "cell_type": "markdown",
   "metadata": {
    "slideshow": {
     "slide_type": "fragment"
    }
   },
   "source": [
    "* `print(Queue(\"aeiou\"))` :"
   ]
  },
  {
   "cell_type": "markdown",
   "metadata": {
    "slideshow": {
     "slide_type": "fragment"
    }
   },
   "source": [
    "```\n",
    "['a', 'e', 'i', 'o', 'u']\n",
    "```"
   ]
  },
  {
   "cell_type": "markdown",
   "metadata": {},
   "source": [
    "edo"
   ]
  },
  {
   "cell_type": "markdown",
   "metadata": {
    "slideshow": {
     "slide_type": "-"
    }
   },
   "source": [
    "```\n",
    "['u', 'o', 'i', 'e', 'a']\n",
    "```"
   ]
  },
  {
   "cell_type": "code",
   "execution_count": 5,
   "metadata": {
    "slideshow": {
     "slide_type": "slide"
    }
   },
   "outputs": [],
   "source": [
    "class Queue(object):\n",
    "\n",
    "    def __init__(self,it=()):\n",
    "        self.z = list(it)\n",
    "    \n",
    "    def enqueue(self,value):\n",
    "        self.z.append(value)\n",
    "\n",
    "    def front(self):\n",
    "        return self.z[0]\n",
    "    \n",
    "    def dequeue(self):\n",
    "       return self.z.pop(0)\n",
    "    \n",
    "    def __len__(self):\n",
    "        return len(self.z)\n",
    "    \n",
    "    def isFull(self):\n",
    "        return False\n",
    "    \n",
    "    def __iter__(self):\n",
    "        while self :\n",
    "            yield self.dequeue()\n",
    "    \n",
    "    def __str__(self):\n",
    "        return str(self.z)"
   ]
  },
  {
   "cell_type": "code",
   "execution_count": 6,
   "metadata": {
    "slideshow": {
     "slide_type": "slide"
    }
   },
   "outputs": [
    {
     "name": "stdout",
     "output_type": "stream",
     "text": [
      "['a', 'e', 'i', 'o', 'u']\n"
     ]
    }
   ],
   "source": [
    "print(Queue(\"aeiou\"))"
   ]
  },
  {
   "cell_type": "code",
   "execution_count": 7,
   "metadata": {
    "slideshow": {
     "slide_type": "fragment"
    }
   },
   "outputs": [
    {
     "name": "stdout",
     "output_type": "stream",
     "text": [
      "[1, 2, 3, 'kaixo', 1.3]\n"
     ]
    }
   ],
   "source": [
    "print(Queue([1,2,3,'kaixo',1.3]))"
   ]
  },
  {
   "cell_type": "markdown",
   "metadata": {
    "slideshow": {
     "slide_type": "slide"
    }
   },
   "source": [
    "### `repr` funtzio berezia..."
   ]
  },
  {
   "cell_type": "markdown",
   "metadata": {
    "slideshow": {
     "slide_type": "fragment"
    }
   },
   "source": [
    "* `q == eval(repr(q))` bete dadin saiatu\n",
    "   * `Queue([., ., ., ...])` erabili\n",
    "   * `==` &rarr; `__eq__()`"
   ]
  },
  {
   "cell_type": "code",
   "execution_count": 8,
   "metadata": {
    "slideshow": {
     "slide_type": "slide"
    }
   },
   "outputs": [],
   "source": [
    "class Queue(object):\n",
    "\n",
    "    def __init__(self,it=()):\n",
    "        self.z = list(it)\n",
    "    \n",
    "    def enqueue(self,value):\n",
    "        self.z.append(value)\n",
    "\n",
    "    def front(self):\n",
    "        return self.z[0]\n",
    "    \n",
    "    def dequeue(self):\n",
    "       return self.z.pop(0)\n",
    "    \n",
    "    def __len__(self):\n",
    "        return len(self.z)\n",
    "    \n",
    "    def isFull(self):\n",
    "        return False\n",
    "    \n",
    "    def __iter__(self):\n",
    "        while self :\n",
    "            yield self.dequeue()\n",
    "    \n",
    "    def __str__(self):\n",
    "        return str(self.z)\n",
    "    \n",
    "    def __repr__(self):\n",
    "        return f'Queue({repr(self.z)})'\n",
    "\n",
    "    def __eq__(self,other):\n",
    "        return type(other) == Queue and self.z == other.z"
   ]
  },
  {
   "cell_type": "code",
   "execution_count": 9,
   "metadata": {
    "slideshow": {
     "slide_type": "slide"
    }
   },
   "outputs": [
    {
     "name": "stdout",
     "output_type": "stream",
     "text": [
      "[1, 2, 3, 'kaixo', 1.3, (5, 6), [64, 24, (23, 234, 265)]]\n",
      "Queue([1, 2, 3, 'kaixo', 1.3, (5, 6), [64, 24, (23, 234, 265)]])\n"
     ]
    }
   ],
   "source": [
    "q = Queue([1,2,3,'kaixo',1.3,(5,6),[64,24,(23,234,265)]])\n",
    "print(q)\n",
    "print(repr(q))"
   ]
  },
  {
   "cell_type": "code",
   "execution_count": 10,
   "metadata": {
    "slideshow": {
     "slide_type": "fragment"
    }
   },
   "outputs": [
    {
     "data": {
      "text/plain": [
       "True"
      ]
     },
     "execution_count": 10,
     "metadata": {},
     "output_type": "execute_result"
    }
   ],
   "source": [
    "q == eval(repr(q))"
   ]
  },
  {
   "cell_type": "markdown",
   "metadata": {
    "slideshow": {
     "slide_type": "slide"
    }
   },
   "source": [
    "### Inplementazioari buruz...\n",
    "\n",
    "* Python-eko zerrendak array-etan oinarrituak daude"
   ]
  },
  {
   "cell_type": "markdown",
   "metadata": {
    "slideshow": {
     "slide_type": "fragment"
    }
   },
   "source": [
    "* Elementuak memoria bloke jarrai batean gordetzen dira:\n",
    "<img src=\"../img/ArrayList1.png\" alt=\"Queue\" style=\"width: 300px;\"/>   "
   ]
  },
  {
   "cell_type": "markdown",
   "metadata": {
    "slideshow": {
     "slide_type": "slide"
    }
   },
   "source": [
    "* Array-an elementu berri batentzat lekurik ez badago, array handiago bat sortzen da, elementu zahar guztiak array berrian kopiatuz\n",
    "<img src=\"../img/ArrayList2.png\" alt=\"Queue\" style=\"width: 450px;\"/>   "
   ]
  },
  {
   "cell_type": "markdown",
   "metadata": {
    "slideshow": {
     "slide_type": "fragment"
    }
   },
   "source": [
    "* Elementu bat ezabatzean, bere atzetik dauden guztiak ezkerrera desplazatu:\n",
    "<img src=\"../img/ArrayList3.png\" alt=\"Queue\" style=\"width: 550px;\"/>   "
   ]
  },
  {
   "cell_type": "markdown",
   "metadata": {
    "slideshow": {
     "slide_type": "slide"
    }
   },
   "source": [
    "### Beraz..."
   ]
  },
  {
   "cell_type": "markdown",
   "metadata": {
    "slideshow": {
     "slide_type": "fragment"
    }
   },
   "source": [
    "* `Queue.enqueue(value)` $\\equiv$ `list.append(value)`) &rarr; batzuetan array berriak sortu eta elementu guztiak kopiatu beharko ditu.\n",
    "   * <u>Gutxitan</u> gertatuko da.\n",
    "   * **Batazbestean**, ez da kostu handia izango"
   ]
  },
  {
   "cell_type": "markdown",
   "metadata": {
    "slideshow": {
     "slide_type": "fragment"
    }
   },
   "source": [
    "* `Queue.dequeue()` $\\equiv$ `list.pop(0)` &rarr; array-ko elementu guztiak desplazatu behar ditu\n",
    "   * <u>Beti</u> gertatuko da\n",
    "   * **kostu handiegia**"
   ]
  },
  {
   "cell_type": "markdown",
   "metadata": {
    "slideshow": {
     "slide_type": "fragment"
    }
   },
   "source": [
    "### &rarr; Ez da inplementazio egokia"
   ]
  },
  {
   "cell_type": "markdown",
   "metadata": {
    "slideshow": {
     "slide_type": "slide"
    }
   },
   "source": [
    "## Queue klasea inplementatzen II - zerrenda lotuak"
   ]
  },
  {
   "cell_type": "markdown",
   "metadata": {
    "slideshow": {
     "slide_type": "fragment"
    }
   },
   "source": [
    "* Elementu bakoitzak *daki* hurrengo elementua non dagoen:\n",
    "* DMA implementatzeko, bi objektu mota definitu behar dira:\n",
    "* **Queue (goiburua)**: egitura printzipala. Bere eremuak:\n",
    "   * **len**: elementu kopurua\n",
    "   * **front**: lehenengo elementuaren erreferentzia edo `None`(hutsik badago)\n",
    "   * **back**: azkeneko elementuaren erreferentzia edo `None` (hutsik badago)\n",
    "* **element**: balioak gordetzeko egitura. Bere eremuak:\n",
    "   * **value**: ilaran gordetako balioa\n",
    "   * **next**: hurrengo elementuaren erreferentzia, edo `None` (azkenengoa bada)"
   ]
  },
  {
   "cell_type": "markdown",
   "metadata": {
    "slideshow": {
     "slide_type": "slide"
    }
   },
   "source": [
    "* Elementuak dituen ilara:\n",
    "\n",
    "<img src=\"../img/LinkedList-Queue1.png\" alt=\"Queue\" style=\"width: 800px;\"/>"
   ]
  },
  {
   "cell_type": "markdown",
   "metadata": {
    "slideshow": {
     "slide_type": "fragment"
    }
   },
   "source": [
    "* Elementurik gabeko ilara:\n",
    "\n",
    "<img src=\"../img/LinkedList-Queue1b.png\" alt=\"Queue\" style=\"width: 266px;\"/>"
   ]
  },
  {
   "cell_type": "markdown",
   "metadata": {
    "slideshow": {
     "slide_type": "slide"
    }
   },
   "source": [
    "### Klaseak definitzen I : Bi klase"
   ]
  },
  {
   "cell_type": "code",
   "execution_count": 11,
   "metadata": {
    "slideshow": {
     "slide_type": "fragment"
    }
   },
   "outputs": [],
   "source": [
    "class Queue(object):\n",
    "    def __init__(self, it=()):\n",
    "        self.len = 0\n",
    "        self.front = None\n",
    "        self.back = None\n",
    "        for x in it :\n",
    "            self.enqueue(x)"
   ]
  },
  {
   "cell_type": "code",
   "execution_count": 12,
   "metadata": {
    "slideshow": {
     "slide_type": "fragment"
    }
   },
   "outputs": [],
   "source": [
    "class element(object):\n",
    "    def __init__(self,value,next=None):\n",
    "        self.value = value\n",
    "        self.next = next"
   ]
  },
  {
   "cell_type": "markdown",
   "metadata": {
    "slideshow": {
     "slide_type": "slide"
    }
   },
   "source": [
    "### Klaseak definitzen Ii : Klase bakarra\n",
    "\n",
    "* Klase baten barnean, beste klase bat defini dezakegu"
   ]
  },
  {
   "cell_type": "code",
   "execution_count": 13,
   "metadata": {
    "slideshow": {
     "slide_type": "fragment"
    }
   },
   "outputs": [],
   "source": [
    "class Queue(object):\n",
    "    \n",
    "    class element(object):\n",
    "        def __init__(self,value,next=None):\n",
    "            self.value = value\n",
    "            self.next = next\n",
    "        \n",
    "    def __init__(self, it=()):\n",
    "        self.len = 0\n",
    "        self.front = None\n",
    "        self.back = None\n",
    "        for x in it :\n",
    "            self.enqueue(x)"
   ]
  },
  {
   "cell_type": "markdown",
   "metadata": {
    "slideshow": {
     "slide_type": "slide"
    }
   },
   "source": [
    "Bi datu mota definitu ditugu, `Queue` eta `Queue.element`:"
   ]
  },
  {
   "cell_type": "code",
   "execution_count": 14,
   "metadata": {
    "slideshow": {
     "slide_type": "fragment"
    }
   },
   "outputs": [
    {
     "name": "stdout",
     "output_type": "stream",
     "text": [
      "<__main__.Queue object at 0x7f103ce568d0>\n",
      "<__main__.Queue.element object at 0x7f103d6c9250>\n"
     ]
    }
   ],
   "source": [
    "q = Queue()\n",
    "print(q)\n",
    "e = Queue.element(7)\n",
    "print(e)"
   ]
  },
  {
   "cell_type": "markdown",
   "metadata": {
    "slideshow": {
     "slide_type": "slide"
    }
   },
   "source": [
    "### `len()`"
   ]
  },
  {
   "cell_type": "code",
   "execution_count": 15,
   "metadata": {
    "slideshow": {
     "slide_type": "fragment"
    }
   },
   "outputs": [],
   "source": [
    "class Queue(object):\n",
    "    class element(object):\n",
    "        def __init__(self,value,next=None):\n",
    "            self.value = value\n",
    "            self.next = next\n",
    "        \n",
    "    def __init__(self, it=()):\n",
    "        self.len = 0\n",
    "        self.front = None\n",
    "        self.back = None\n",
    "        for x in it :\n",
    "            self.enqueue(x)\n",
    "            \n",
    "    def __len__(self):\n",
    "        return self.len"
   ]
  },
  {
   "cell_type": "markdown",
   "metadata": {
    "slideshow": {
     "slide_type": "slide"
    }
   },
   "source": [
    "### `enqueue(value)`"
   ]
  },
  {
   "cell_type": "markdown",
   "metadata": {
    "slideshow": {
     "slide_type": "fragment"
    }
   },
   "source": [
    "<img src=\"../img/LinkedList-Queue2.png\" alt=\"Queue\" style=\"width: 1030px;\"/>"
   ]
  },
  {
   "cell_type": "markdown",
   "metadata": {
    "slideshow": {
     "slide_type": "fragment"
    }
   },
   "source": [
    "1. `value` balioa duen elementu berri bat sortu\n",
    "1. Azken elementuaren `next` eguneratu\n",
    "1. `back` eta `len` eguneratu"
   ]
  },
  {
   "cell_type": "markdown",
   "metadata": {
    "slideshow": {
     "slide_type": "slide"
    }
   },
   "source": [
    "### `enqueue(value)` - Ilara hutsik denean"
   ]
  },
  {
   "cell_type": "markdown",
   "metadata": {
    "slideshow": {
     "slide_type": "fragment"
    }
   },
   "source": [
    "<img src=\"../img/LinkedList-Queue2b.png\" alt=\"Queue\" style=\"width: 350px;\"/>"
   ]
  },
  {
   "cell_type": "markdown",
   "metadata": {
    "slideshow": {
     "slide_type": "fragment"
    }
   },
   "source": [
    "1. `value` balioa duen elementu berri bat sortu\n",
    "1. `front`, `back` eta `len` eguneratu"
   ]
  },
  {
   "cell_type": "code",
   "execution_count": 16,
   "metadata": {
    "slideshow": {
     "slide_type": "slide"
    }
   },
   "outputs": [],
   "source": [
    "class Queue(object):\n",
    "    class element(object):\n",
    "        def __init__(self,value,next=None):\n",
    "            self.value = value\n",
    "            self.next = next\n",
    "        \n",
    "    def __init__(self, it=()):\n",
    "        self.len = 0\n",
    "        self.front = None\n",
    "        self.back = None\n",
    "        for x in it :\n",
    "            self.enqueue(x)           \n",
    "            \n",
    "    def __len__(self):\n",
    "        return self.len\n",
    "    \n",
    "    def enqueue(self,value):\n",
    "        e = Queue.element(value)\n",
    "        if self.len == 0 :\n",
    "            self.front = e\n",
    "        else :\n",
    "            self.back.next = e\n",
    "        self.back = e\n",
    "        self.len += 1"
   ]
  },
  {
   "cell_type": "markdown",
   "metadata": {
    "slideshow": {
     "slide_type": "slide"
    }
   },
   "source": [
    "### `dequeue()`"
   ]
  },
  {
   "cell_type": "markdown",
   "metadata": {
    "slideshow": {
     "slide_type": "fragment"
    }
   },
   "source": [
    "<img src=\"../img/LinkedList-Queue3.png\" alt=\"Queue\" style=\"width: 1015px;\"/>"
   ]
  },
  {
   "cell_type": "markdown",
   "metadata": {
    "slideshow": {
     "slide_type": "fragment"
    }
   },
   "source": [
    "1. `front` eta `len` eguneratu\n",
    "1. Ilaratik ateratako elementuaren balioa bueltatu"
   ]
  },
  {
   "cell_type": "markdown",
   "metadata": {
    "slideshow": {
     "slide_type": "slide"
    }
   },
   "source": [
    "### `dequeue()` - Ilaran elementu bakarra dagoenean"
   ]
  },
  {
   "cell_type": "markdown",
   "metadata": {
    "slideshow": {
     "slide_type": "fragment"
    }
   },
   "source": [
    "<img src=\"../img/LinkedList-Queue3b.png\" alt=\"Queue\" style=\"width: 350px;\"/>"
   ]
  },
  {
   "cell_type": "markdown",
   "metadata": {
    "slideshow": {
     "slide_type": "fragment"
    }
   },
   "source": [
    "1. `front` , `len` eta `back` eguneratu\n",
    "1. Ilaratik ateratako elementuaren balioa bueltatu"
   ]
  },
  {
   "cell_type": "code",
   "execution_count": 17,
   "metadata": {
    "slideshow": {
     "slide_type": "slide"
    }
   },
   "outputs": [],
   "source": [
    "class Queue(object):\n",
    "    class element(object):\n",
    "        def __init__(self,value,next=None):\n",
    "            self.value = value\n",
    "            self.next = next\n",
    "        \n",
    "    def __init__(self, it=()):\n",
    "        self.len = 0\n",
    "        self.front = None\n",
    "        self.back = None\n",
    "        for x in it :\n",
    "            self.enqueue(x)\n",
    "            \n",
    "    def __len__(self):\n",
    "        return self.len\n",
    "    \n",
    "    def enqueue(self,value):\n",
    "        e = Queue.element(value)\n",
    "        if self.len == 0 :\n",
    "            self.front = e\n",
    "        else :\n",
    "            self.back.next = e\n",
    "        self.back = e\n",
    "        self.len += 1\n",
    "\n",
    "    def dequeue(self):\n",
    "        value = self.front.value\n",
    "        self.len -= 1\n",
    "        self.front = self.front.next\n",
    "        if self.len == 0 :\n",
    "            self.back = None\n",
    "        return value\n"
   ]
  },
  {
   "cell_type": "markdown",
   "metadata": {
    "slideshow": {
     "slide_type": "slide"
    }
   },
   "source": [
    "### `str` , `repr` eta `==` ..."
   ]
  },
  {
   "cell_type": "markdown",
   "metadata": {
    "slideshow": {
     "slide_type": "fragment"
    }
   },
   "source": [
    "* `print(Queue(\"aeiou\"))` :"
   ]
  },
  {
   "cell_type": "markdown",
   "metadata": {
    "slideshow": {
     "slide_type": "fragment"
    }
   },
   "source": [
    "```\n",
    "['a', 'e', 'i', 'o', 'u']\n",
    "```"
   ]
  },
  {
   "cell_type": "markdown",
   "metadata": {
    "slideshow": {
     "slide_type": "fragment"
    }
   },
   "source": [
    "* `print(repr(Queue(\"aeiou\")))` :"
   ]
  },
  {
   "cell_type": "markdown",
   "metadata": {
    "slideshow": {
     "slide_type": "fragment"
    }
   },
   "source": [
    "```\n",
    "Queue(['a', 'e', 'i', 'o', 'u'])\n",
    "```"
   ]
  },
  {
   "cell_type": "markdown",
   "metadata": {
    "slideshow": {
     "slide_type": "slide"
    }
   },
   "source": [
    "* `str` , `repr` eta `==` inplementatzea errazagoa litzateke, ilarako elementuak zeharkatu ditzakeen `values()` metodo bat bagenu:"
   ]
  },
  {
   "cell_type": "markdown",
   "metadata": {
    "slideshow": {
     "slide_type": "fragment"
    }
   },
   "source": [
    "```python\n",
    "class Queue(object):\n",
    "\n",
    "    ...\n",
    "\n",
    "    def __str__(self):\n",
    "        return str(list(self.values()))\n",
    "    \n",
    "    def __repr__(self):\n",
    "        return f'Queue({list(self.values())})'\n",
    "    \n",
    "    def __eq__(self,other):\n",
    "        return type(other) == Queue and list(self.values()) == list(other.values())    \n",
    "    \n",
    "    \n",
    "```"
   ]
  },
  {
   "cell_type": "code",
   "execution_count": 18,
   "metadata": {
    "slideshow": {
     "slide_type": "slide"
    }
   },
   "outputs": [],
   "source": [
    "class Queue(object):\n",
    "    \n",
    "    class element(object):\n",
    "        def __init__(self,value,next=None):\n",
    "            self.value = value\n",
    "            self.next = next\n",
    "        \n",
    "    def __init__(self, it=()):\n",
    "        self.len = 0\n",
    "        self.front = None\n",
    "        self.back = None\n",
    "        for x in it :\n",
    "            self.enqueue(x)\n",
    "            \n",
    "    def values(self):\n",
    "        e = self.front\n",
    "        while e != None :\n",
    "            yield e.value\n",
    "            e = e.next\n",
    "            \n",
    "    def __len__(self):\n",
    "        return self.len\n",
    "    \n",
    "    def enqueue(self,value):\n",
    "        e = Queue.element(value)\n",
    "        if self.len == 0 :\n",
    "            self.front = e\n",
    "        else :\n",
    "            self.back.next = e\n",
    "        self.back = e\n",
    "        self.len += 1\n",
    "\n",
    "    def dequeue(self):\n",
    "        value = self.front.value\n",
    "        self.len -= 1\n",
    "        self.front = self.front.next\n",
    "        if self.len == 0 :\n",
    "            self.back = None\n",
    "        return value"
   ]
  },
  {
   "cell_type": "code",
   "execution_count": 19,
   "metadata": {
    "slideshow": {
     "slide_type": "slide"
    }
   },
   "outputs": [
    {
     "data": {
      "text/plain": [
       "[0, 1, 2, 3, 4, 5, 6, 7, 8, 9]"
      ]
     },
     "execution_count": 19,
     "metadata": {},
     "output_type": "execute_result"
    }
   ],
   "source": [
    "q = Queue(range(10))\n",
    "list(q.values())"
   ]
  },
  {
   "cell_type": "code",
   "execution_count": 20,
   "metadata": {
    "slideshow": {
     "slide_type": "fragment"
    }
   },
   "outputs": [
    {
     "data": {
      "text/plain": [
       "[]"
      ]
     },
     "execution_count": 20,
     "metadata": {},
     "output_type": "execute_result"
    }
   ],
   "source": [
    "q = Queue()\n",
    "list(q.values())"
   ]
  },
  {
   "cell_type": "code",
   "execution_count": 21,
   "metadata": {
    "slideshow": {
     "slide_type": "fragment"
    }
   },
   "outputs": [
    {
     "name": "stdout",
     "output_type": "stream",
     "text": [
      "[0]\n",
      "[0, 1]\n",
      "[0, 1, 2]\n",
      "[0, 1, 2, 3]\n",
      "[0, 1, 2, 3, 4]\n",
      "0 [1, 2, 3, 4]\n",
      "1 [2, 3, 4]\n",
      "2 [3, 4]\n",
      "3 [4]\n",
      "4 []\n"
     ]
    }
   ],
   "source": [
    "q = Queue()\n",
    "for i in range(5):\n",
    "    q.enqueue(i)\n",
    "    print(list(q.values()))\n",
    "while q :\n",
    "    print(q.dequeue(),list(q.values()))"
   ]
  },
  {
   "cell_type": "code",
   "execution_count": 22,
   "metadata": {
    "slideshow": {
     "slide_type": "slide"
    }
   },
   "outputs": [],
   "source": [
    "class Queue(object):\n",
    "    class element(object):\n",
    "        def __init__(self,value,next=None):\n",
    "            self.value = value\n",
    "            self.next = next\n",
    "        \n",
    "    def __init__(self, it=()):\n",
    "        self.len = 0\n",
    "        self.front = None\n",
    "        self.back = None\n",
    "        for x in it :\n",
    "            self.enqueue(x)\n",
    "            \n",
    "    def values(self):\n",
    "        e = self.front\n",
    "        while e :\n",
    "            yield e.value\n",
    "            e = e.next\n",
    "            \n",
    "    def __str__(self):\n",
    "        return str(list(self.values()))\n",
    "    \n",
    "    def __repr__(self):\n",
    "        return f'Queue({list(self.values())})'\n",
    "    \n",
    "    def __eq__(self,other):\n",
    "        #return type(other) == Queue and list(self.values()) == list(other.values())\n",
    "        return type(other) == Queue and all( x==y for x,y in zip(self.values(),other.values()))\n",
    "    \n",
    "    def __len__(self):\n",
    "        return self.len\n",
    "    \n",
    "    def enqueue(self,value):\n",
    "        e = Queue.element(value)\n",
    "        if self.len == 0 :\n",
    "            self.front = e\n",
    "        else :\n",
    "            self.back.next = e\n",
    "        self.back = e\n",
    "        self.len += 1\n",
    "\n",
    "    def dequeue(self):\n",
    "        value = self.front.value\n",
    "        self.len -= 1\n",
    "        self.front = self.front.next\n",
    "        if self.len == 0 :\n",
    "            self.back = None\n",
    "        return value"
   ]
  },
  {
   "cell_type": "code",
   "execution_count": 23,
   "metadata": {
    "slideshow": {
     "slide_type": "slide"
    }
   },
   "outputs": [
    {
     "name": "stdout",
     "output_type": "stream",
     "text": [
      "[]\n",
      "['a', 'e', 'i', 'o', 'u']\n"
     ]
    }
   ],
   "source": [
    "print(Queue())\n",
    "print(Queue(\"aeiou\"))"
   ]
  },
  {
   "cell_type": "code",
   "execution_count": 24,
   "metadata": {
    "slideshow": {
     "slide_type": "fragment"
    }
   },
   "outputs": [
    {
     "name": "stdout",
     "output_type": "stream",
     "text": [
      "Queue([])\n",
      "Queue(['a', 'e', 'i', 'o', 'u'])\n"
     ]
    }
   ],
   "source": [
    "print(repr(Queue()))\n",
    "print(repr(Queue(\"aeiou\")))"
   ]
  },
  {
   "cell_type": "code",
   "execution_count": 25,
   "metadata": {
    "slideshow": {
     "slide_type": "fragment"
    }
   },
   "outputs": [
    {
     "data": {
      "text/plain": [
       "True"
      ]
     },
     "execution_count": 25,
     "metadata": {},
     "output_type": "execute_result"
    }
   ],
   "source": [
    "Queue(\"aeiou\") == Queue(\"aeiou\")"
   ]
  },
  {
   "cell_type": "code",
   "execution_count": 26,
   "metadata": {
    "slideshow": {
     "slide_type": "fragment"
    }
   },
   "outputs": [
    {
     "name": "stdout",
     "output_type": "stream",
     "text": [
      "Queue(['a', 'e', 'i', 'o', 'u'])\n"
     ]
    },
    {
     "data": {
      "text/plain": [
       "True"
      ]
     },
     "execution_count": 26,
     "metadata": {},
     "output_type": "execute_result"
    }
   ],
   "source": [
    "q = Queue(\"aeiou\")\n",
    "print(repr(q))\n",
    "q == eval(repr(q))"
   ]
  },
  {
   "cell_type": "markdown",
   "metadata": {
    "slideshow": {
     "slide_type": "slide"
    }
   },
   "source": [
    "### `iter` "
   ]
  },
  {
   "cell_type": "code",
   "execution_count": 27,
   "metadata": {
    "slideshow": {
     "slide_type": "fragment"
    }
   },
   "outputs": [],
   "source": [
    "class Queue(object):\n",
    "    class element(object):\n",
    "        def __init__(self,value,next=None):\n",
    "            self.value = value\n",
    "            self.next = next\n",
    "        \n",
    "    def __init__(self, it=()):\n",
    "        self.len = 0\n",
    "        self.front = None\n",
    "        self.back = None\n",
    "        for x in it :\n",
    "            self.enqueue(x)\n",
    "\n",
    "    def front(self):\n",
    "        return self.front.value\n",
    "            \n",
    "    def __iter__(self):\n",
    "        while self :\n",
    "            yield self.dequeue()\n",
    "            \n",
    "    def __len__(self):\n",
    "        return self.len\n",
    "    \n",
    "    def enqueue(self,value):\n",
    "        e = Queue.element(value)\n",
    "        if self.len == 0 :\n",
    "            self.front = e\n",
    "        else :\n",
    "            self.back.next = e\n",
    "        self.back = e\n",
    "        self.len += 1\n",
    "\n",
    "    def dequeue(self):\n",
    "        value = self.front.value\n",
    "        self.len -= 1\n",
    "        self.front = self.front.next\n",
    "        if self.len == 0 :\n",
    "            self.back = None\n",
    "        return value\n",
    "\n",
    "    def values(self):\n",
    "        e = self.front\n",
    "        while e :\n",
    "            yield e.value\n",
    "            e = e.next\n",
    "            \n",
    "    def __str__(self):\n",
    "        return str(list(self.values()))\n",
    "    \n",
    "    def __repr__(self):\n",
    "        return f'Queue({list(self.values())})'\n",
    "    \n",
    "    def __eq__(self,other):\n",
    "        return type(other) == Queue and all( x==y for x,y in zip(self.values(),other.values()))\n",
    "    "
   ]
  },
  {
   "cell_type": "code",
   "execution_count": 28,
   "metadata": {
    "slideshow": {
     "slide_type": "slide"
    }
   },
   "outputs": [
    {
     "name": "stdout",
     "output_type": "stream",
     "text": [
      "[0, 1, 2, 3, 4, 5, 6, 7, 8, 9]\n",
      "(0, 1, 2, 3, 4, 5, 6, 7, 8, 9)\n",
      "[]\n"
     ]
    }
   ],
   "source": [
    "q = Queue(range(10))\n",
    "print(q)\n",
    "print(tuple(q))\n",
    "print(q)"
   ]
  },
  {
   "cell_type": "code",
   "execution_count": 29,
   "metadata": {
    "slideshow": {
     "slide_type": "fragment"
    }
   },
   "outputs": [
    {
     "name": "stdout",
     "output_type": "stream",
     "text": [
      "[0, 1, 2, 3, 4, 5, 6, 7, 8, 9]\n",
      "0 [1, 2, 3, 4, 5, 6, 7, 8, 9]\n",
      "1 [2, 3, 4, 5, 6, 7, 8, 9]\n",
      "2 [3, 4, 5, 6, 7, 8, 9]\n",
      "3 [4, 5, 6, 7, 8, 9]\n",
      "4 [5, 6, 7, 8, 9]\n",
      "5 [6, 7, 8, 9]\n",
      "6 [7, 8, 9]\n",
      "7 [8, 9]\n",
      "8 [9]\n",
      "9 []\n"
     ]
    }
   ],
   "source": [
    "q = Queue(range(10))\n",
    "print(q)\n",
    "for x in q :\n",
    "    print(x,q)"
   ]
  },
  {
   "cell_type": "markdown",
   "metadata": {
    "slideshow": {
     "slide_type": "slide"
    }
   },
   "source": [
    "### Baina... orain gure `Queue`-ak `values()` metodoa du... nola izkutatu?"
   ]
  },
  {
   "cell_type": "markdown",
   "metadata": {
    "slideshow": {
     "slide_type": "fragment"
    }
   },
   "source": [
    "* Python-en eremu *pribatuak* deklaratu daitezke:\n",
    "   * `self.izena` &rarr; eremu publikoa\n",
    "   * `self.__izena` &rarr; eremu pribatua\n",
    "   * `self.__izena__` &rarr; eremu publiko berezia\n",
    "   "
   ]
  },
  {
   "cell_type": "code",
   "execution_count": 30,
   "metadata": {
    "slideshow": {
     "slide_type": "slide"
    }
   },
   "outputs": [],
   "source": [
    "class Froga(object):\n",
    "    def __init__(self):\n",
    "        self.x = 'publikoa naiz'\n",
    "        self.__y = 'pribatua naiz'\n",
    "        \n",
    "    def erakutsi_pribatua(self):\n",
    "        print('Sekretua:',self.__y)\n",
    "        "
   ]
  },
  {
   "cell_type": "code",
   "execution_count": 31,
   "metadata": {
    "slideshow": {
     "slide_type": "fragment"
    }
   },
   "outputs": [
    {
     "name": "stdout",
     "output_type": "stream",
     "text": [
      "publikoa naiz\n",
      "Sekretua: pribatua naiz\n"
     ]
    }
   ],
   "source": [
    "f = Froga()\n",
    "print(f.x)\n",
    "# ERROREA\n",
    "#print(f.__y)\n",
    "f.erakutsi_pribatua()\n"
   ]
  },
  {
   "cell_type": "markdown",
   "metadata": {
    "slideshow": {
     "slide_type": "slide"
    }
   },
   "source": [
    "* Tira... egia esan eremu pribatuak ez dira horren pribatuak\n",
    "   * `self.__izena` &rarr; eremu pribatua\n",
    "   * `self.__izena` &rarr; self.`_DATUMOTA__izena` eremu publikoa\n",
    "      * Klasearen barnean `self.__izena` erabili daiteke"
   ]
  },
  {
   "cell_type": "code",
   "execution_count": 32,
   "metadata": {
    "slideshow": {
     "slide_type": "fragment"
    }
   },
   "outputs": [
    {
     "name": "stdout",
     "output_type": "stream",
     "text": [
      "pribatua naiz\n"
     ]
    }
   ],
   "source": [
    "# ERROREA\n",
    "#print(f.__y)\n",
    "# BAINA HAU EGIN DAITEKE...\n",
    "print(f._Froga__y)\n"
   ]
  },
  {
   "cell_type": "code",
   "execution_count": 33,
   "metadata": {
    "slideshow": {
     "slide_type": "slide"
    }
   },
   "outputs": [],
   "source": [
    "class Queue(object):\n",
    "    class element(object):\n",
    "        def __init__(self,value,next=None):\n",
    "            self.value = value\n",
    "            self.next = next\n",
    "        \n",
    "    def __init__(self, it=()):\n",
    "        self.len = 0\n",
    "        self.front = None\n",
    "        self.back = None\n",
    "        for x in it :\n",
    "            self.enqueue(x)\n",
    "\n",
    "    def __values(self):\n",
    "        e = self.front\n",
    "        while e :\n",
    "            yield e.value\n",
    "            e = e.next\n",
    "            \n",
    "    def __str__(self):\n",
    "        return str(list(self.__values()))\n",
    "    \n",
    "    def __repr__(self):\n",
    "        return f'Queue({list(self.__values())})'\n",
    "    \n",
    "    def __eq__(self,other):\n",
    "        return type(other) == Queue and all( x==y for x,y in zip(self.__values(),other.__values()))\n",
    "    \n",
    "    def __len__(self):\n",
    "        return self.len\n",
    "    \n",
    "    def enqueue(self,value):\n",
    "        e = Queue.element(value)\n",
    "        if self.len == 0 :\n",
    "            self.front = e\n",
    "        else :\n",
    "            self.back.next = e\n",
    "        self.back = e\n",
    "        self.len += 1\n",
    "\n",
    "    def dequeue(self):\n",
    "        value = self.front.value\n",
    "        self.len -= 1\n",
    "        self.front = self.front.next\n",
    "        if self.len == 0 :\n",
    "            self.back = None\n",
    "        return value\n",
    "    \n",
    "    def __iter__(self):\n",
    "        while self :\n",
    "            yield self.dequeue()  \n",
    "\n",
    "    def front(self):\n",
    "        return self.front.valu"
   ]
  },
  {
   "cell_type": "code",
   "execution_count": 34,
   "metadata": {
    "slideshow": {
     "slide_type": "slide"
    }
   },
   "outputs": [
    {
     "name": "stdout",
     "output_type": "stream",
     "text": [
      "[0, 1, 2, 3, 4, 5, 6, 7, 8, 9]\n"
     ]
    },
    {
     "data": {
      "text/plain": [
       "[0, 1, 2, 3, 4, 5, 6, 7, 8, 9]"
      ]
     },
     "execution_count": 34,
     "metadata": {},
     "output_type": "execute_result"
    }
   ],
   "source": [
    "q = Queue(range(10))\n",
    "print(q)\n",
    "# ERROREA\n",
    "#list(q.__values())\n",
    "# Hau ez genuke sekula egin behar...\n",
    "list(q._Queue__values())\n"
   ]
  }
 ],
 "metadata": {
  "celltoolbar": "Slideshow",
  "kernelspec": {
   "display_name": "Python 3",
   "language": "python",
   "name": "python3"
  },
  "language_info": {
   "codemirror_mode": {
    "name": "ipython",
    "version": 3
   },
   "file_extension": ".py",
   "mimetype": "text/x-python",
   "name": "python",
   "nbconvert_exporter": "python",
   "pygments_lexer": "ipython3",
   "version": "3.7.6"
  },
  "rise": {
   "autolaunch": false,
   "footer": "<h2 align=\"center\">Konputaziorako Sarrera</h2>",
   "scroll": true
  }
 },
 "nbformat": 4,
 "nbformat_minor": 2
}
