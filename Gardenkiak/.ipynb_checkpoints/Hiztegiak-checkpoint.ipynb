{
 "cells": [
  {
   "cell_type": "markdown",
   "metadata": {
    "hide_input": true,
    "slideshow": {
     "slide_type": "slide"
    }
   },
   "source": [
    "# `dict` - Hiztegiak\n",
    "\n",
    " * `dict` motako objektuak\n",
    " * **gako**-**balio** bikoteez osotua.\n",
    "    * Gako _multzo_ bat &rarr; ez dago gako errepikaturik\n",
    "       * Gakoek balio **aldaezina** behar dute izan.\n",
    "    * Balio _sorta_ bat &rarr; balio errepikatuak egon daitezke\n",
    " * Propietateak: Iteragarriak, Indexagarriak, Aldakorrak\n",
    " * Metodoak: 11 (`clear`, `copy`, `fromkeys`, `get`, `items`, `keys`, `pop`, `popitem`, `setdefault`, `update`, `values`)\n",
    " * Eragileak: `in` , `not in`"
   ]
  },
  {
   "cell_type": "code",
   "execution_count": null,
   "metadata": {
    "slideshow": {
     "slide_type": "slide"
    }
   },
   "outputs": [],
   "source": [
    "help({}.fromkeys)\n"
   ]
  },
  {
   "cell_type": "markdown",
   "metadata": {
    "slideshow": {
     "slide_type": "-"
    }
   },
   "source": [
    "`fromkeys()` metodoa berezia da... `dict` objektu baten bidez exekutatu beharrean, `dict` datu motaren bidez exekutatuko dugu:"
   ]
  },
  {
   "cell_type": "code",
   "execution_count": null,
   "metadata": {
    "slideshow": {
     "slide_type": "fragment"
    }
   },
   "outputs": [],
   "source": [
    "h1 = dict.fromkeys(range(5))\n",
    "h2 = dict.fromkeys(range(5),0)\n",
    "print(f'h1 = {h1}')\n",
    "print(f'h2 = {h2}')"
   ]
  },
  {
   "cell_type": "code",
   "execution_count": null,
   "metadata": {
    "slideshow": {
     "slide_type": "slide"
    }
   },
   "outputs": [],
   "source": [
    "help({}.pop)"
   ]
  },
  {
   "cell_type": "code",
   "execution_count": null,
   "metadata": {
    "slideshow": {
     "slide_type": "fragment"
    }
   },
   "outputs": [],
   "source": [
    "h = {1:'bat' , 2:'bi' , 3:'hiru' , 4:'lau' , 5:'bost'}\n",
    "for k in list(h) :\n",
    "    print(f'h[{k}] = {h.pop(k)} , h = {h}')"
   ]
  },
  {
   "cell_type": "markdown",
   "metadata": {
    "slideshow": {
     "slide_type": "slide"
    }
   },
   "source": [
    "**OHARRA**: Aldatzen ari garen egitura bat zeharkatzea ez da ideia ona...\n"
   ]
  },
  {
   "cell_type": "code",
   "execution_count": null,
   "metadata": {
    "slideshow": {
     "slide_type": "-"
    }
   },
   "outputs": [],
   "source": [
    "h = {1:'bat' , 2:'bi' , 3:'hiru' , 4:'lau' , 5:'bost'}\n",
    "for k in list(h) :\n",
    "#for k in h :\n",
    "    print(f'h[{k}] = {h.pop(k)}')"
   ]
  },
  {
   "cell_type": "markdown",
   "metadata": {
    "slideshow": {
     "slide_type": "-"
    }
   },
   "source": [
    "Honek ez du esan nahi beti `for k in list(h) :` erabili behar denik..."
   ]
  },
  {
   "cell_type": "code",
   "execution_count": null,
   "metadata": {
    "slideshow": {
     "slide_type": "slide"
    }
   },
   "outputs": [],
   "source": [
    "help({}.popitem)"
   ]
  },
  {
   "cell_type": "code",
   "execution_count": null,
   "metadata": {
    "slideshow": {
     "slide_type": "slide"
    }
   },
   "outputs": [],
   "source": [
    "h = {1:'bat' , 2:'bi' , 3:'hiru'}\n",
    "while h :\n",
    "    g,b = h.popitem()\n",
    "    print(f'h[{g}] = {b}')"
   ]
  },
  {
   "cell_type": "code",
   "execution_count": null,
   "metadata": {
    "slideshow": {
     "slide_type": "fragment"
    }
   },
   "outputs": [],
   "source": [
    "h = {1:'bat' , 2:'bi' , 3:'hiru'}\n",
    "while h :\n",
    "    #g,b = h.popitem()\n",
    "    #print('h[{}] = {}'.format(g,b))\n",
    "    print('h[{}] = {}'.format(*h.popitem()))"
   ]
  },
  {
   "cell_type": "code",
   "execution_count": null,
   "metadata": {
    "slideshow": {
     "slide_type": "fragment"
    }
   },
   "outputs": [],
   "source": [
    "h = {1:'bat' , 2:'bi' , 3:'hiru'}\n",
    "while h :\n",
    "    print('{1} = h[{0}]'.format(*h.popitem()))"
   ]
  },
  {
   "cell_type": "code",
   "execution_count": null,
   "metadata": {
    "slideshow": {
     "slide_type": "slide"
    }
   },
   "outputs": [],
   "source": [
    "help({}.setdefault)"
   ]
  },
  {
   "cell_type": "markdown",
   "metadata": {
    "slideshow": {
     "slide_type": "slide"
    }
   },
   "source": [
    "**Ariketa**: Karaktere kate batetan agertzen diren hitzak hiztegi batetan gorde. Hiztegiko gakoak hitzen luzera izango dira eta balioak luzera hori duten hitzen zerrendak"
   ]
  },
  {
   "cell_type": "code",
   "execution_count": null,
   "metadata": {},
   "outputs": [],
   "source": [
    "s = \"aaaa eee iii aaa oooo u\"\n",
    "h = {}\n",
    "for hitz in s.split() :\n",
    "    n = len(hitz)\n",
    "    if n in h :\n",
    "        h[n].append(hitz)\n",
    "    else :\n",
    "        h[n] = [hitz]\n",
    "    # h.setdefault(n,[]).append(hitz)\n",
    "h    \n",
    "    "
   ]
  },
  {
   "cell_type": "code",
   "execution_count": null,
   "metadata": {
    "slideshow": {
     "slide_type": "fragment"
    }
   },
   "outputs": [],
   "source": [
    "s = \"testu honetan agertzen diren hitzak bere luzerarekiko bilduko ditugu\"\n",
    "h = {}\n",
    "for w in s.split():\n",
    "    h.setdefault(len(w),[]).append(w)\n",
    "\n",
    "#print(h.items())\n",
    "#print(sorted(h.items()))\n",
    "#print(*sorted(h.items()))\n",
    "print(*sorted(h.items()),sep='\\n')"
   ]
  },
  {
   "cell_type": "markdown",
   "metadata": {
    "slideshow": {
     "slide_type": "slide"
    }
   },
   "source": [
    "**OHARRA**: Orain arte, `seq` sekuentzia baten edukia ikusi nahi genuenean `print(list(seq))` erabiltzen genuen... hemendik aurrera `print(*seq)` erabil dezakegu:"
   ]
  },
  {
   "cell_type": "code",
   "execution_count": null,
   "metadata": {
    "slideshow": {
     "slide_type": "fragment"
    }
   },
   "outputs": [],
   "source": [
    "print(list(range(5)))\n",
    "print(range(5))\n",
    "print(*range(5))\n",
    "print('-'*50)\n",
    "print(list(enumerate('aeoiu')))\n",
    "print(enumerate('aeoiu'))\n",
    "print(*enumerate('aeoiu'))\n",
    "print('-'*50)\n",
    "print(list(zip('aeoiu',range(100))))\n",
    "print(zip('aeoiu',range(100)))\n",
    "print(*zip('aeoiu',range(100)))"
   ]
  },
  {
   "cell_type": "code",
   "execution_count": null,
   "metadata": {
    "slideshow": {
     "slide_type": "slide"
    }
   },
   "outputs": [],
   "source": [
    "help({}.update)"
   ]
  },
  {
   "cell_type": "code",
   "execution_count": null,
   "metadata": {
    "slideshow": {
     "slide_type": "fragment"
    }
   },
   "outputs": [],
   "source": [
    "h1 = dict.fromkeys(range(5))\n",
    "h2 = dict.fromkeys(range(3),0)\n",
    "print(f'h1 = {h1}')\n",
    "print(f'h2 = {h2}')\n",
    "h1.update(h2)\n",
    "print(f'h1 = {h1}')"
   ]
  },
  {
   "cell_type": "code",
   "execution_count": null,
   "metadata": {
    "slideshow": {
     "slide_type": "fragment"
    }
   },
   "outputs": [],
   "source": [
    "h=dict.fromkeys(range(3),0)\n",
    "print(h)\n",
    "h.update(enumerate(\"aeiou\"))\n",
    "print(h)"
   ]
  },
  {
   "cell_type": "markdown",
   "metadata": {
    "slideshow": {
     "slide_type": "slide"
    }
   },
   "source": [
    "## Hiztegiak zeharkatzen: `keys()`, `values()` eta `items()`\n",
    "\n",
    "* Gakoak **soilik** behar ditugunean, `hizt.keys()` (edo `hizt`)\n",
    "   * `for k in hizt.keys() :` &harr; `for k in hizt :`\n",
    "* Balioak **soilik** behar ditugunean, `hizt.values()`\n",
    "* Gakoak eta balioak behar ditugunean, `hizt.items()` &rarr; `(gako,balio)` bikote sekuentzia."
   ]
  },
  {
   "cell_type": "markdown",
   "metadata": {
    "slideshow": {
     "slide_type": "slide"
    }
   },
   "source": [
    "**ARIKETA**: {izena &rarr; adina} hiztegi batetako pertsona zaharrenaren izena."
   ]
  },
  {
   "cell_type": "code",
   "execution_count": null,
   "metadata": {
    "slideshow": {
     "slide_type": "fragment"
    }
   },
   "outputs": [],
   "source": [
    "def zaharrena(h):\n",
    "    zahar = None\n",
    "    for izena in h :\n",
    "        if zahar == None or h[izena] > h[zahar] :\n",
    "            zahar = izena\n",
    "    return zahar\n",
    "\n",
    "h = {'Iñaki':24 , 'Ainara': 33 , 'Leire':27}\n",
    "print(zaharrena(h))"
   ]
  },
  {
   "cell_type": "markdown",
   "metadata": {
    "slideshow": {
     "slide_type": "fragment"
    }
   },
   "source": [
    "Ebazpen honi buruz...\n",
    "\n",
    "* Hiztegi baten indexazioa (`h[x]`) bizkorra bada ere (aurrerago aztertuko dugu), **ez da arbuiagarria**.\n",
    "* Hiztegiaren gakoak zeharkatu, balioak kontsultatzeko... GAIZKI"
   ]
  },
  {
   "cell_type": "code",
   "execution_count": null,
   "metadata": {
    "slideshow": {
     "slide_type": "slide"
    }
   },
   "outputs": [],
   "source": [
    "def zaharrena2(h):\n",
    "    izena_zahar = None\n",
    "    for izena,adina in h.items() :\n",
    "        if izena_zahar == None or adina > adina_zahar :\n",
    "            izena_zahar = izena\n",
    "            adina_zahar = adina\n",
    "    return izena_zahar\n",
    "\n",
    "h = {'Iñaki':24 , 'Ainara': 33 , 'Leire':27}\n",
    "print(zaharrena2(h))"
   ]
  },
  {
   "cell_type": "markdown",
   "metadata": {
    "slideshow": {
     "slide_type": "slide"
    }
   },
   "source": [
    "Baina... benetan... ba al dago ezberdintasun nabaririk modu batean ala bestean eginez gero? **Ikustagun**:"
   ]
  },
  {
   "cell_type": "code",
   "execution_count": null,
   "metadata": {
    "slideshow": {
     "slide_type": "fragment"
    }
   },
   "outputs": [],
   "source": [
    "from random import sample, randint\n",
    "#help(sample)\n",
    "#help(randint)"
   ]
  },
  {
   "cell_type": "code",
   "execution_count": null,
   "metadata": {
    "slideshow": {
     "slide_type": "fragment"
    }
   },
   "outputs": [],
   "source": [
    "alfa=\"abcdefghijklmnñopqrstuvwxyz\"\n",
    "print(sample(alfa,10))\n",
    "print(\"\".join(sample(alfa,10)))\n",
    "print(randint(1,100))"
   ]
  },
  {
   "cell_type": "code",
   "execution_count": null,
   "metadata": {
    "slideshow": {
     "slide_type": "fragment"
    }
   },
   "outputs": [],
   "source": [
    "n = 100000\n",
    "h = {}\n",
    "for i in range(n):\n",
    "    h[\"\".join(sample(alfa,10))] = randint(1,100)\n",
    "print(len(h))"
   ]
  },
  {
   "cell_type": "code",
   "execution_count": null,
   "metadata": {
    "slideshow": {
     "slide_type": "slide"
    }
   },
   "outputs": [],
   "source": [
    "print(zaharrena(h))\n",
    "print(zaharrena2(h))"
   ]
  },
  {
   "cell_type": "code",
   "execution_count": null,
   "metadata": {
    "scrolled": true,
    "slideshow": {
     "slide_type": "fragment"
    }
   },
   "outputs": [],
   "source": [
    "print('--- zaharrena  ---')\n",
    "%timeit zaharrena(h)\n",
    "\n",
    "print('--- zaharrena2 ---')\n",
    "%timeit zaharrena2(h)"
   ]
  },
  {
   "cell_type": "markdown",
   "metadata": {
    "slideshow": {
     "slide_type": "slide"
    }
   },
   "source": [
    "Apur bat gehiago bizkortuz..."
   ]
  },
  {
   "cell_type": "code",
   "execution_count": null,
   "metadata": {
    "slideshow": {
     "slide_type": "fragment"
    }
   },
   "outputs": [],
   "source": [
    "def zaharrena3(h):\n",
    "    for izena_zahar,adina_zahar in h.items() :\n",
    "        break\n",
    "    for izena,adina in h.items() :\n",
    "        if adina > adina_zahar :\n",
    "            izena_zahar = izena\n",
    "            adina_zahar = adina\n",
    "    return izena_zahar\n",
    "\n",
    "print('--- zaharrena3 ---')\n",
    "%timeit zaharrena3(h)"
   ]
  },
  {
   "cell_type": "markdown",
   "metadata": {
    "slideshow": {
     "slide_type": "-"
    }
   },
   "source": [
    "<table border=\"0\" width=\"100%\" style=\"margin: 0px;\">\n",
    "<tr>  \n",
    "  <td style=\"text-align:left\"><a href=\"NKoteak.ipynb\">&lt; &lt; N-Koteak &lt; &lt;</a></td>\n",
    "  <td style=\"text-align:right\"><a href=\"SarreraIrteeraEtaFitxategiak.ipynb\">&gt; &gt; Sarrera-Irteera eta Fitxategiak &gt; &gt;</a></td>\n",
    "</tr>\n",
    "</table>"
   ]
  }
 ],
 "metadata": {
  "celltoolbar": "Slideshow",
  "kernelspec": {
   "display_name": "Python 3",
   "language": "python",
   "name": "python3"
  },
  "language_info": {
   "codemirror_mode": {
    "name": "ipython",
    "version": 3
   },
   "file_extension": ".py",
   "mimetype": "text/x-python",
   "name": "python",
   "nbconvert_exporter": "python",
   "pygments_lexer": "ipython3",
   "version": "3.7.6"
  },
  "rise": {
   "autolaunch": false,
   "footer": "<h2 align=\"center\">Konputaziorako Sarrera</h2>",
   "scroll": true
  }
 },
 "nbformat": 4,
 "nbformat_minor": 2
}
