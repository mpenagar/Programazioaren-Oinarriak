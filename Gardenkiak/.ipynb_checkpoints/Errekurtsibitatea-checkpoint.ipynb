{
 "cells": [
  {
   "cell_type": "markdown",
   "metadata": {
    "slideshow": {
     "slide_type": "slide"
    }
   },
   "source": [
    "# Errekurtsibitatea\n",
    "\n",
    "   * Funtzioek beren burua dei dezakete\n",
    "   * Funtzio errekurtsiboan beti agertuko da :\n",
    "      * **Kasu basea**: egoera tribiala ebatzi\n",
    "      * **Kasu orokorra**: egoera orokor bat egoera sinpleagoak erabiliaz ebatzi"
   ]
  },
  {
   "cell_type": "markdown",
   "metadata": {
    "slideshow": {
     "slide_type": "fragment"
    }
   },
   "source": [
    "## Adibide bat: Faktoriala\n",
    "\n",
    "$$\n",
    "n! = \\prod_{i=1}^{n}{i} = \\left\\{\n",
    "\\begin{matrix}\n",
    "1 & , & n=0\\\\\n",
    "n \\cdot (n-1)! & , & n>0 \\end{matrix}\n",
    "\\right.\n",
    "$$"
   ]
  },
  {
   "cell_type": "code",
   "execution_count": null,
   "metadata": {
    "slideshow": {
     "slide_type": "slide"
    }
   },
   "outputs": [],
   "source": [
    "def fak(n):\n",
    "    if n == 0 :\n",
    "        return 1\n",
    "    else :\n",
    "        return n * fak(n-1)"
   ]
  },
  {
   "cell_type": "code",
   "execution_count": null,
   "metadata": {
    "slideshow": {
     "slide_type": "fragment"
    }
   },
   "outputs": [],
   "source": [
    "for i in list(range(10))+[100]:\n",
    "    print(f'fak({i}) = {fak(i)}')"
   ]
  },
  {
   "cell_type": "markdown",
   "metadata": {
    "slideshow": {
     "slide_type": "slide"
    }
   },
   "source": [
    "```python\n",
    "if baldintza :\n",
    "    return zerbait\n",
    "else:\n",
    "    return beste_zerbait\n",
    "```\n",
    "moduko espresioak beste era batetara berridatzi daitezke\n",
    "   * `A if BALD else B` eragilearekin\n",
    "   * Erabigeak `A` edo `B` bueltatzen du"
   ]
  },
  {
   "cell_type": "code",
   "execution_count": null,
   "metadata": {
    "slideshow": {
     "slide_type": "fragment"
    }
   },
   "outputs": [],
   "source": [
    "x,y = 3,4\n",
    "z = x if x>y else y\n",
    "print(z)"
   ]
  },
  {
   "cell_type": "code",
   "execution_count": null,
   "metadata": {
    "slideshow": {
     "slide_type": "slide"
    }
   },
   "outputs": [],
   "source": [
    "def fak(n):\n",
    "    return 1 if n==0 else n * fak(n-1)"
   ]
  },
  {
   "cell_type": "code",
   "execution_count": null,
   "metadata": {
    "slideshow": {
     "slide_type": "fragment"
    }
   },
   "outputs": [],
   "source": [
    "for i in list(range(10))+[100]:\n",
    "    print(f'fak({i}) = {fak(i)}')"
   ]
  },
  {
   "cell_type": "markdown",
   "metadata": {
    "slideshow": {
     "slide_type": "slide"
    }
   },
   "source": [
    "Algoritmo errekurtsibo guztiek ez dute kasu base bakarra:\n",
    "\n",
    "$$Fibonacci = 0,1,1,2,3,5,8,13,21,34,55,...$$\n",
    "\n",
    "Finonacci segidako elementu bat topatu nahi badugu, aurreko bien menpe jarri behar dugu:\n",
    "\n",
    "\n",
    "$$\n",
    "fib(i) = \\left\\{\n",
    "\\begin{matrix}\n",
    "0 & , & i=0\\\\\n",
    "1 & , & i=1\\\\\n",
    "fib(i-2)+fib(i-1) & , & i>1\n",
    "\\end{matrix}\\right.\n",
    "$$\n"
   ]
  },
  {
   "cell_type": "code",
   "execution_count": null,
   "metadata": {
    "slideshow": {
     "slide_type": "slide"
    }
   },
   "outputs": [],
   "source": [
    "def fib(i):\n",
    "    if i == 0 :\n",
    "        return 0\n",
    "    elif i == 1 :\n",
    "        return 1\n",
    "    else :\n",
    "        return fib(i-1) + fib(i-2)"
   ]
  },
  {
   "cell_type": "code",
   "execution_count": null,
   "metadata": {
    "slideshow": {
     "slide_type": "fragment"
    }
   },
   "outputs": [],
   "source": [
    "def fib(i):\n",
    "    if i < 2 :\n",
    "        return i\n",
    "    else :\n",
    "        return fib(i-1) + fib(i-2)"
   ]
  },
  {
   "cell_type": "code",
   "execution_count": null,
   "metadata": {
    "slideshow": {
     "slide_type": "fragment"
    }
   },
   "outputs": [],
   "source": [
    "for i in range(10):\n",
    "    print(fib(i),end=' ')"
   ]
  },
  {
   "cell_type": "markdown",
   "metadata": {
    "slideshow": {
     "slide_type": "slide"
    }
   },
   "source": [
    "Soluzio errekurtsiboek ez dute zertan soluzio egokienak izan behar..."
   ]
  },
  {
   "cell_type": "code",
   "execution_count": null,
   "metadata": {
    "scrolled": false,
    "slideshow": {
     "slide_type": "fragment"
    }
   },
   "outputs": [],
   "source": [
    "for i in range(50):\n",
    "    print(fib(i),end=' ')"
   ]
  },
  {
   "cell_type": "markdown",
   "metadata": {
    "slideshow": {
     "slide_type": "slide"
    }
   },
   "source": [
    "Soluzio errekurtsiboek ez dute zertan soluzio egokienak izan behar...\n",
    "\n",
    "<img src=\"../img/fibonacci.jpeg\" alt=\"Hash Table\"/>"
   ]
  },
  {
   "cell_type": "markdown",
   "metadata": {
    "slideshow": {
     "slide_type": "slide"
    }
   },
   "source": [
    "## Fibonacci Ebazpena I\n",
    "\n",
    "* Soluzio errekurtsiboaren *egitura* mantentzen saiatu\n",
    "* *cache* (memoria) bat erabili aurrez kalkulatutako *Fibonacci*-ren zenbakiak *gogoratzeko*.\n",
    "   * `cache` : hiztegi bat\n",
    "   * `cache[i] = fib(i)`\n",
    "   * *cache*-an kasu basea hasieratu"
   ]
  },
  {
   "cell_type": "code",
   "execution_count": null,
   "metadata": {
    "slideshow": {
     "slide_type": "slide"
    }
   },
   "outputs": [],
   "source": [
    "def fib(n):\n",
    "    return _fib(n,{0:0,1:1})\n",
    "\n",
    "def _fib(n,cache):\n",
    "    if n not in cache :\n",
    "        cache[n] = _fib(n-2,cache) + _fib(n-1,cache)\n",
    "    return cache[n]"
   ]
  },
  {
   "cell_type": "code",
   "execution_count": null,
   "metadata": {
    "scrolled": true,
    "slideshow": {
     "slide_type": "fragment"
    }
   },
   "outputs": [],
   "source": [
    "for i in range(50):\n",
    "    print(fib(i),end=' ')"
   ]
  },
  {
   "cell_type": "markdown",
   "metadata": {
    "slideshow": {
     "slide_type": "slide"
    }
   },
   "source": [
    "## Fibonacci Ebazpena II\n",
    "\n",
    "* Iteratiboki, behar diren soluzio guztiak aurkitu\n",
    "* Bi aldagai mantendu, `a` eta `b` , aurreko bi Fibbonacci zenbakien balioarekin\n",
    "   * `a,b = b,a+b`\n",
    "* Lehenengo bi zenbakiak salbuespenak dira\n",
    "\n",
    "`a b` &rarr;\n",
    "\n",
    "`0 1 1 2 3 5 8 ...` \n"
   ]
  },
  {
   "cell_type": "code",
   "execution_count": null,
   "metadata": {
    "slideshow": {
     "slide_type": "slide"
    }
   },
   "outputs": [],
   "source": [
    "def fib(n):\n",
    "    if n < 2 :\n",
    "        return n\n",
    "    a,b = 0,1\n",
    "    for i in range(n-1):\n",
    "        a,b = b,a+b\n",
    "    return b"
   ]
  },
  {
   "cell_type": "code",
   "execution_count": null,
   "metadata": {
    "slideshow": {
     "slide_type": "fragment"
    }
   },
   "outputs": [],
   "source": [
    "for i in range(50):\n",
    "    print(fib(i),end=' ')"
   ]
  },
  {
   "cell_type": "markdown",
   "metadata": {
    "slideshow": {
     "slide_type": "slide"
    }
   },
   "source": [
    "* Apur bat sinplifikatu daiteke... zenbaki segidaren aurretik `1` dagoela pentsatuko bagenu.\n",
    "\n",
    "`a b` &rarr;\n",
    "\n",
    "`1 0 1 1 2 3 5 8 ...` "
   ]
  },
  {
   "cell_type": "code",
   "execution_count": null,
   "metadata": {
    "slideshow": {
     "slide_type": "slide"
    }
   },
   "outputs": [],
   "source": [
    "def fib(n):\n",
    "    a,b = 1,0\n",
    "    for i in range(n):\n",
    "        a,b = b,a+b\n",
    "    return b"
   ]
  },
  {
   "cell_type": "code",
   "execution_count": null,
   "metadata": {
    "slideshow": {
     "slide_type": "fragment"
    }
   },
   "outputs": [],
   "source": [
    "for i in range(50):\n",
    "    print(fib(i),end=' ')"
   ]
  },
  {
   "cell_type": "markdown",
   "metadata": {
    "slideshow": {
     "slide_type": "slide"
    }
   },
   "source": [
    "## Hanoi Dorreak"
   ]
  },
  {
   "cell_type": "markdown",
   "metadata": {
    "slideshow": {
     "slide_type": "fragment"
    }
   },
   "source": [
    "<img src=\"../img/Hanoi.png\" alt=\"Hanoi Dorreak\"/>"
   ]
  },
  {
   "cell_type": "markdown",
   "metadata": {
    "slideshow": {
     "slide_type": "slide"
    }
   },
   "source": [
    "<img src=\"../img/Hanoi2.png\" alt=\"Hanoi Dorreak\"/>"
   ]
  },
  {
   "cell_type": "code",
   "execution_count": null,
   "metadata": {
    "slideshow": {
     "slide_type": "slide"
    }
   },
   "outputs": [],
   "source": [
    "def hanoi(n,nondik,nora):\n",
    "    if n == 1 :\n",
    "        print(nondik,'-->',nora)\n",
    "    else :\n",
    "        if (nondik == 'B' and nora == 'C') or (nondik == 'C' and nora == 'B') :\n",
    "            x = 'A'\n",
    "        elif (nondik == 'A' and nora == 'C') or (nondik == 'C' and nora == 'A') :\n",
    "            x = 'B'\n",
    "        else :\n",
    "            x = 'C'\n",
    "        hanoi(n-1,nondik,x)\n",
    "        hanoi(1,nondik,nora)\n",
    "        hanoi(n-1,x,nora)\n",
    "\n",
    "hanoi(3,'B','C') "
   ]
  },
  {
   "cell_type": "code",
   "execution_count": null,
   "metadata": {
    "slideshow": {
     "slide_type": "slide"
    }
   },
   "outputs": [],
   "source": [
    "def hanoi(n,nondik,nora):\n",
    "    if n == 1 :\n",
    "        print(nondik,'-->',nora)\n",
    "    else :\n",
    "        z = list('ABC')\n",
    "        z.remove(nondik)\n",
    "        z.remove(nora)\n",
    "        x = z[0]\n",
    "        hanoi(n-1,nondik,x)\n",
    "        hanoi(1,nondik,nora)\n",
    "        hanoi(n-1,x,nora)\n",
    "\n",
    "hanoi(3,'B','C') "
   ]
  },
  {
   "cell_type": "code",
   "execution_count": null,
   "metadata": {
    "slideshow": {
     "slide_type": "slide"
    }
   },
   "outputs": [],
   "source": [
    "def hanoi(n,nondik,nora):\n",
    "    if n == 1 :\n",
    "        print(nondik,'-->',nora)\n",
    "    else :\n",
    "        x = 6 - nondik - nora\n",
    "        hanoi(n-1,nondik,x)\n",
    "        hanoi(1,nondik,nora)\n",
    "        hanoi(n-1,x,nora)\n",
    "\n",
    "hanoi(3,2,3) "
   ]
  },
  {
   "cell_type": "code",
   "execution_count": null,
   "metadata": {
    "slideshow": {
     "slide_type": "slide"
    }
   },
   "outputs": [],
   "source": [
    "def hanoi(n,nondik,nora):\n",
    "    if n == 1 :\n",
    "        return [(nondik,nora)]\n",
    "    else :\n",
    "        x = 6 - nondik - nora\n",
    "        #z = hanoi(n-1,nondik,x)\n",
    "        #z.extend(hanoi(1,nondik,nora))\n",
    "        #z.extend(hanoi(n-1,x,nora))\n",
    "        #return z\n",
    "        return hanoi(n-1,nondik,x) + hanoi(1,nondik,nora) + hanoi(n-1,x,nora)\n",
    "\n",
    "print(*hanoi(3,2,3),sep='\\n') "
   ]
  }
 ],
 "metadata": {
  "celltoolbar": "Slideshow",
  "kernelspec": {
   "display_name": "Python 3",
   "language": "python",
   "name": "python3"
  },
  "language_info": {
   "codemirror_mode": {
    "name": "ipython",
    "version": 3
   },
   "file_extension": ".py",
   "mimetype": "text/x-python",
   "name": "python",
   "nbconvert_exporter": "python",
   "pygments_lexer": "ipython3",
   "version": "3.7.6"
  },
  "rise": {
   "autolaunch": false,
   "footer": "<h2 align=\"center\">Konputaziorako Sarrera</h2>",
   "scroll": true
  }
 },
 "nbformat": 4,
 "nbformat_minor": 2
}
