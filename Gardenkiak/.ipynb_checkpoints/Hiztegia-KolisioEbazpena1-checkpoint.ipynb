{
 "cells": [
  {
   "cell_type": "markdown",
   "metadata": {
    "slideshow": {
     "slide_type": "slide"
    }
   },
   "source": [
    "# Hiztegi baten inplementazioa\n",
    "\n",
    "## Kolisioen ebazpena I : Taula berdimentsionatu\n",
    "\n",
    "* $g$ gako bati taulan dagokion posizioa: $i \\; = \\; hash(g)\\; \\% \\; N$\n",
    "   * $i$ posizioan `(gako,balio)` bikotea gordeko da\n",
    "   * Hutsik dagoen gelaxkan, `None` egongo da   \n",
    "* Kolisio bat ematen den bakoitzean, taularen tamaina handitu.\n",
    "* $LF \\; \\ll \\; 1$\n"
   ]
  },
  {
   "cell_type": "markdown",
   "metadata": {
    "slideshow": {
     "slide_type": "slide"
    }
   },
   "source": [
    "#### 1 - Hiztegi berri bat sortzeko funtzioa, `dict()`-en baliokidea"
   ]
  },
  {
   "cell_type": "code",
   "execution_count": 1,
   "metadata": {
    "slideshow": {
     "slide_type": "fragment"
    }
   },
   "outputs": [],
   "source": [
    "def h_new(n=7):\n",
    "    return [None] * n"
   ]
  },
  {
   "cell_type": "markdown",
   "metadata": {
    "slideshow": {
     "slide_type": "slide"
    }
   },
   "source": [
    "#### 2 - Sortu hiztegi bat eta *eskuz* gorde ondokoak: `3:'hiru'` eta `'lau':4`"
   ]
  },
  {
   "cell_type": "code",
   "execution_count": 2,
   "metadata": {
    "slideshow": {
     "slide_type": "fragment"
    }
   },
   "outputs": [],
   "source": [
    "h = h_new()\n",
    "h[hash(3)%len(h)] = (3,'hiru')\n",
    "h[hash('lau')%len(h)] = ('lau',4)\n",
    "print(h)"
   ]
  },
  {
   "cell_type": "markdown",
   "metadata": {
    "slideshow": {
     "slide_type": "slide"
    }
   },
   "source": [
    "#### 3 - Hiztegi baten `(gako,balio)` bikote zerrenda bueltatuko duen funtzioa, `dict.items()`-ren baliokidea"
   ]
  },
  {
   "cell_type": "code",
   "execution_count": 3,
   "metadata": {
    "slideshow": {
     "slide_type": "fragment"
    }
   },
   "outputs": [],
   "source": [
    "def h_items(h):\n",
    "    z = []\n",
    "    for x in h :\n",
    "        if x :\n",
    "            z.append(x)\n",
    "    return z"
   ]
  },
  {
   "cell_type": "code",
   "execution_count": 4,
   "metadata": {
    "slideshow": {
     "slide_type": "fragment"
    }
   },
   "outputs": [
    {
     "name": "stdout",
     "output_type": "stream",
     "text": [
      "h zerrendako elementuak: None None ('lau', 4) (3, 'hiru') None None None\n",
      "h hiztegiko elementuak: ('lau', 4) (3, 'hiru')\n"
     ]
    }
   ],
   "source": [
    "print('h zerrendako elementuak:',*h)\n",
    "print('h hiztegiko elementuak:',*h_items(h))"
   ]
  },
  {
   "cell_type": "markdown",
   "metadata": {
    "slideshow": {
     "slide_type": "slide"
    }
   },
   "source": [
    "#### 4 - Hiztegi baten tamaina bueltatuko duen funtzioa, `len()`-ren baliokidea"
   ]
  },
  {
   "cell_type": "code",
   "execution_count": 5,
   "metadata": {
    "slideshow": {
     "slide_type": "fragment"
    }
   },
   "outputs": [],
   "source": [
    "def h_len(h):\n",
    "    n = 0\n",
    "    for x in h :\n",
    "        if x :\n",
    "            n += 1\n",
    "    return n\n",
    "\n",
    "def h_len2(h):\n",
    "    return len(h_items(h))"
   ]
  },
  {
   "cell_type": "code",
   "execution_count": 6,
   "metadata": {
    "slideshow": {
     "slide_type": "fragment"
    }
   },
   "outputs": [
    {
     "name": "stdout",
     "output_type": "stream",
     "text": [
      "h zerrendaren tamaina: 7\n",
      "h hiztegiaren tamaina: 2\n",
      "h hiztegiaren tamaina: 2\n"
     ]
    }
   ],
   "source": [
    "print(f'h zerrendaren tamaina: {len(h)}')\n",
    "print(f'h hiztegiaren tamaina: {h_len(h)}')\n",
    "print(f'h hiztegiaren tamaina: {h_len2(h)}')"
   ]
  },
  {
   "cell_type": "markdown",
   "metadata": {
    "slideshow": {
     "slide_type": "slide"
    }
   },
   "source": [
    "#### 5 - Hiztegi batetik karaktere kate bat sortzeko funtzioa, `str()`-ren baliokidea"
   ]
  },
  {
   "cell_type": "code",
   "execution_count": 7,
   "metadata": {
    "slideshow": {
     "slide_type": "fragment"
    }
   },
   "outputs": [],
   "source": [
    "def h_str(h):\n",
    "    z = []\n",
    "    for k,v in h_items(h) :\n",
    "        z.append(repr(k) + ':' + repr(v))\n",
    "    return '{ ' + ' , '.join(z) + ' }'"
   ]
  },
  {
   "cell_type": "code",
   "execution_count": 8,
   "metadata": {
    "slideshow": {
     "slide_type": "fragment"
    }
   },
   "outputs": [
    {
     "name": "stdout",
     "output_type": "stream",
     "text": [
      "[None, None, ('lau', 4), (3, 'hiru'), None, None, None]\n",
      "{ 'lau':4 , 3:'hiru' }\n"
     ]
    }
   ],
   "source": [
    "print(str(h))\n",
    "print(h_str(h))"
   ]
  },
  {
   "cell_type": "markdown",
   "metadata": {
    "slideshow": {
     "slide_type": "slide"
    }
   },
   "source": [
    "#### 6 - Gako bati dagokion balioa kontsultatzeko funtzioa, `dict.get()`-en baliokidea"
   ]
  },
  {
   "cell_type": "code",
   "execution_count": 9,
   "metadata": {
    "slideshow": {
     "slide_type": "fragment"
    }
   },
   "outputs": [],
   "source": [
    "def h_get(h,k,d=None):\n",
    "    x = h[hash(k) % len(h)]\n",
    "    if x :\n",
    "        k2,v2 = x\n",
    "        if k2 == k :\n",
    "            return v2\n",
    "    return d "
   ]
  },
  {
   "cell_type": "code",
   "execution_count": 10,
   "metadata": {
    "slideshow": {
     "slide_type": "fragment"
    }
   },
   "outputs": [
    {
     "name": "stdout",
     "output_type": "stream",
     "text": [
      "[None, None, ('lau', 4), (3, 'hiru'), None, None, None]\n",
      "{ 'lau':4 , 3:'hiru' }\n",
      "hizt[3] = hiru\n",
      "hizt[1] = None\n",
      "hizt[\"lau\"] = 4\n",
      "hizt[4] = None , baina h[4]=None\n"
     ]
    }
   ],
   "source": [
    "print(h)\n",
    "print(h_str(h))\n",
    "print(f'hizt[3] = {h_get(h,3)}')\n",
    "print(f'hizt[1] = {h_get(h,1)}')\n",
    "print(f'hizt[\"lau\"] = {h_get(h,\"lau\")}')\n",
    "print(f'hizt[4] = {h_get(h,4)} , baina h[4]={h[4]}')"
   ]
  },
  {
   "cell_type": "markdown",
   "metadata": {
    "slideshow": {
     "slide_type": "slide"
    }
   },
   "source": [
    "#### 7 - Hiztegi batetan gako bati dagokion balioa gordeko duen funtzioa, `h[k]=v`-en baliokidea."
   ]
  },
  {
   "cell_type": "code",
   "execution_count": 11,
   "metadata": {
    "slideshow": {
     "slide_type": "fragment"
    }
   },
   "outputs": [],
   "source": [
    "def h_put(h,k,v):\n",
    "    i = hash(k) % len(h)\n",
    "    if h[i] :\n",
    "        k2,v2 = h[i]\n",
    "        if k2 == k :\n",
    "            h[i] = (k,v)\n",
    "        else :\n",
    "            # KOLISIOA!!!!\n",
    "            h_resize(h,int(len(h)*1.7))\n",
    "            h_put(h,k,v)\n",
    "    else :\n",
    "        h[i] = (k,v)"
   ]
  },
  {
   "cell_type": "markdown",
   "metadata": {
    "slideshow": {
     "slide_type": "fragment"
    }
   },
   "source": [
    "`h_resize()` funtzio bat behar dugu..."
   ]
  },
  {
   "cell_type": "markdown",
   "metadata": {
    "slideshow": {
     "slide_type": "slide"
    }
   },
   "source": [
    "#### 8 - Hiztegi baten *barne tamaina* aldatuko duen funtzioa"
   ]
  },
  {
   "cell_type": "code",
   "execution_count": 12,
   "metadata": {
    "hide_input": false,
    "slideshow": {
     "slide_type": "fragment"
    }
   },
   "outputs": [],
   "source": [
    "def h_resize(h,n):\n",
    "    items = h_items(h)\n",
    "    h.clear()\n",
    "    h.extend([None] * n)\n",
    "    for k,v in items :\n",
    "        h_put(h,k,v)"
   ]
  },
  {
   "cell_type": "markdown",
   "metadata": {
    "slideshow": {
     "slide_type": "slide"
    }
   },
   "source": [
    "`h_put()` eta `h_resize()` biak batera frogatuko ditugu..."
   ]
  },
  {
   "cell_type": "code",
   "execution_count": 13,
   "metadata": {
    "slideshow": {
     "slide_type": "fragment"
    }
   },
   "outputs": [
    {
     "name": "stdout",
     "output_type": "stream",
     "text": [
      "--------------------------------------------------\n",
      " 7 [None, None, ('lau', 4), (3, 'hiru'), None, None, None]\n",
      "{ 'lau':4 , 3:'hiru' }\n",
      "--------------------------------------------------\n",
      " 9 [None, None, None, (3, 'hiru'), None, ('lau', 4), None, None, None]\n",
      "{ 3:'hiru' , 'lau':4 }\n",
      "--------------------------------------------------\n",
      " 2 [('lau', 4), (3, 'hiru')]\n",
      "{ 'lau':4 , 3:'hiru' }\n",
      "3 5306439642013883732\n",
      "3 2\n",
      "3 10\n"
     ]
    }
   ],
   "source": [
    "h = h_new()\n",
    "h_put(h,3,'hiru')\n",
    "h_put(h,'lau',4)\n",
    "\n",
    "print('-'*50+'\\n',len(h),h)\n",
    "print(h_str(h))\n",
    "\n",
    "h_resize(h,9)\n",
    "print('-'*50+'\\n',len(h),h)\n",
    "print(h_str(h))\n",
    "\n",
    "h_resize(h,2)\n",
    "print('-'*50+'\\n',len(h),h)\n",
    "print(h_str(h))\n",
    "print(hash(3), hash('lau'))\n",
    "print(hash(3)%10, hash('lau')%10)\n",
    "print(hash(3)%17, hash('lau')%17)"
   ]
  },
  {
   "cell_type": "markdown",
   "metadata": {},
   "source": [
    "#### 9 - Hiztegi baten *karga faktorea* kalkulatuko duen funtzioa"
   ]
  },
  {
   "cell_type": "code",
   "execution_count": 14,
   "metadata": {},
   "outputs": [],
   "source": [
    "def h_lf(h):\n",
    "    return h_len(h)/len(h)"
   ]
  },
  {
   "cell_type": "markdown",
   "metadata": {
    "slideshow": {
     "slide_type": "slide"
    }
   },
   "source": [
    "Frogak egin ditzagun...."
   ]
  },
  {
   "cell_type": "code",
   "execution_count": 15,
   "metadata": {},
   "outputs": [
    {
     "name": "stdout",
     "output_type": "stream",
     "text": [
      "11 10 0.9090909090909091\n",
      "146 100 0.684931506849315\n",
      "1215 1000 0.823045267489712\n",
      "10143 10000 0.9859016070196195\n"
     ]
    }
   ],
   "source": [
    "for n in 10,100,1000,10000 :\n",
    "    h = h_new()\n",
    "    for i in range(n):\n",
    "        h_put(h,i,str(i))\n",
    "    print(len(h),h_len(h),h_lf(h))"
   ]
  },
  {
   "cell_type": "markdown",
   "metadata": {
    "slideshow": {
     "slide_type": "fragment"
    }
   },
   "source": [
    "Zenbaki osoen hash balioa bere burua delako, `h` zerrendaren tamaina gordetzen ari garen `i` gako handiena baina handiagoa izatea nahikoa da... **EZ DA KOLISIORIK EGONGO**"
   ]
  },
  {
   "cell_type": "code",
   "execution_count": 16,
   "metadata": {
    "slideshow": {
     "slide_type": "slide"
    }
   },
   "outputs": [
    {
     "name": "stdout",
     "output_type": "stream",
     "text": [
      "146 10 0.0684931506849315\n",
      "3510 100 0.02849002849002849\n",
      "707534 1000 0.001413359640667445\n",
      "49355783 10000 0.00020261050260310935\n"
     ]
    }
   ],
   "source": [
    "for n in 10,100,1000,10000 :\n",
    "    h = h_new()\n",
    "    for i in range(n):\n",
    "        h_put(h,str(i),i)\n",
    "    print(len(h),h_len(h),h_lf(h))"
   ]
  },
  {
   "cell_type": "markdown",
   "metadata": {
    "slideshow": {
     "slide_type": "slide"
    }
   },
   "source": [
    "Lehenengo kasuan, gakoak `[0,n]` tarteko zenbakiak izan beharrean auzazkoak izan balira..."
   ]
  },
  {
   "cell_type": "code",
   "execution_count": 17,
   "metadata": {
    "slideshow": {
     "slide_type": "fragment"
    }
   },
   "outputs": [
    {
     "name": "stdout",
     "output_type": "stream",
     "text": [
      "30 10 0.3333333333333333\n",
      "5967 100 0.01675884028825205\n",
      "416197 1000 0.002402708332832769\n",
      "29032814 10000 0.0003444378488423478\n"
     ]
    }
   ],
   "source": [
    "from random import randrange\n",
    "for n in 10,100,1000,10000 :\n",
    "    h = h_new()\n",
    "    for i in range(n):\n",
    "        h_put(h,randrange(1000000000),'KAKA!')\n",
    "    print(len(h),h_len(h),h_lf(h))"
   ]
  }
 ],
 "metadata": {
  "celltoolbar": "Slideshow",
  "kernelspec": {
   "display_name": "Python 3",
   "language": "python",
   "name": "python3"
  },
  "language_info": {
   "codemirror_mode": {
    "name": "ipython",
    "version": 3
   },
   "file_extension": ".py",
   "mimetype": "text/x-python",
   "name": "python",
   "nbconvert_exporter": "python",
   "pygments_lexer": "ipython3",
   "version": "3.7.6"
  }
 },
 "nbformat": 4,
 "nbformat_minor": 2
}
