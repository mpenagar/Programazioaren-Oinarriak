{
 "cells": [
  {
   "cell_type": "markdown",
   "metadata": {
    "slideshow": {
     "slide_type": "slide"
    }
   },
   "source": [
    "## Funtzio/Metodo bereziak I - *built-in* funtzioak\n",
    "<img src=\"../img/Built-in.png\" alt=\"Built-in functions\" style=\"width: 700px;\"/>"
   ]
  },
  {
   "cell_type": "markdown",
   "metadata": {
    "slideshow": {
     "slide_type": "slide"
    }
   },
   "source": [
    "Demagun edozein ordenetako polinomio bat:\n",
    "\n",
    "$$a_n \\cdot x^n + a_{n-1} \\cdot x^{n-1} + \\ldots + a_2 \\cdot x^2 + a_1 \\cdot x +  a_0$$\n",
    "\n",
    "errepresentatuko duen klasea sortu nahi dugula"
   ]
  },
  {
   "cell_type": "markdown",
   "metadata": {},
   "source": [
    "$x^2 + 2x + 3$"
   ]
  },
  {
   "cell_type": "code",
   "execution_count": 23,
   "metadata": {},
   "outputs": [
    {
     "data": {
      "text/latex": [
       "$\\displaystyle x^2 + 2x + 3$"
      ],
      "text/plain": [
       "<IPython.core.display.Math object>"
      ]
     },
     "metadata": {},
     "output_type": "display_data"
    }
   ],
   "source": [
    "from IPython.display import display, Math\n",
    "display(Math(f'x^2 + 2x + 3'))"
   ]
  },
  {
   "cell_type": "code",
   "execution_count": 34,
   "metadata": {},
   "outputs": [],
   "source": [
    "from IPython.display import display, Math\n",
    "\n",
    "class Polynomial(object):\n",
    "    def __init__(self,*coeff):\n",
    "        self.coeff = list(reversed(coeff))\n",
    "    def __call__(self,x):\n",
    "        y = 0\n",
    "        x_n = 1\n",
    "        for c in self.coeff :\n",
    "            y += c * x_n\n",
    "            x_n *= x\n",
    "        return y\n",
    "    def __str__(self):\n",
    "        return '+'.join(str(c)+'x^'+str(o) for o,c in reversed(list(enumerate(self.coeff))))\n",
    "    def display(self):\n",
    "        s = '+'.join(f'{c}x^{{{o}}}' for o,c in reversed(list(enumerate(self.coeff))))\n",
    "        display(Math(s))"
   ]
  },
  {
   "cell_type": "code",
   "execution_count": 35,
   "metadata": {},
   "outputs": [
    {
     "data": {
      "text/latex": [
       "$\\displaystyle 1x^{4}+2x^{3}+3x^{2}+4x^{1}+5x^{0}$"
      ],
      "text/plain": [
       "<IPython.core.display.Math object>"
      ]
     },
     "metadata": {},
     "output_type": "display_data"
    }
   ],
   "source": [
    "p = Polynomial(1,2,3,4,5)\n",
    "p.display()"
   ]
  },
  {
   "cell_type": "code",
   "execution_count": 36,
   "metadata": {},
   "outputs": [
    {
     "data": {
      "text/latex": [
       "$\\displaystyle 1x^{4}+2x^{3}+3x^{2}+4x^{1}+5x^{0}$"
      ],
      "text/plain": [
       "<IPython.core.display.Math object>"
      ]
     },
     "metadata": {},
     "output_type": "display_data"
    }
   ],
   "source": [
    "display(Math('1x^{4}+2x^{3}+3x^{2}+4x^{1}+5x^{0}'))"
   ]
  },
  {
   "cell_type": "code",
   "execution_count": 38,
   "metadata": {},
   "outputs": [
    {
     "data": {
      "text/latex": [
       "$\\displaystyle 1x^{4}+2x^{3}+3x^{2}+4x^{1}+5x^{0}$"
      ],
      "text/plain": [
       "<IPython.core.display.Math object>"
      ]
     },
     "metadata": {},
     "output_type": "display_data"
    },
    {
     "name": "stdout",
     "output_type": "stream",
     "text": [
      "p = 1x^4+2x^3+3x^2+4x^1+5x^0\n",
      "p(0) = 5\n",
      "p(1) = 15\n",
      "p(-1) = 3\n"
     ]
    }
   ],
   "source": [
    "p = Polynomial(1,2,3,4,5)\n",
    "p.display()\n",
    "print(f'p = {p}')\n",
    "print(f'p(0) = {p(0)}')\n",
    "print(f'p(1) = {p(1)}')\n",
    "print(f'p(-1) = {p(-1)}')"
   ]
  },
  {
   "cell_type": "code",
   "execution_count": 15,
   "metadata": {},
   "outputs": [],
   "source": [
    "z = list(\"aeio\")\n",
    ".reverse()"
   ]
  }
 ],
 "metadata": {
  "celltoolbar": "Slideshow",
  "kernelspec": {
   "display_name": "Python 3",
   "language": "python",
   "name": "python3"
  },
  "language_info": {
   "codemirror_mode": {
    "name": "ipython",
    "version": 3
   },
   "file_extension": ".py",
   "mimetype": "text/x-python",
   "name": "python",
   "nbconvert_exporter": "python",
   "pygments_lexer": "ipython3",
   "version": "3.7.6"
  },
  "rise": {
   "autolaunch": false,
   "footer": "<h2 align=\"center\">Konputaziorako Sarrera</h2>",
   "scroll": true
  }
 },
 "nbformat": 4,
 "nbformat_minor": 2
}
