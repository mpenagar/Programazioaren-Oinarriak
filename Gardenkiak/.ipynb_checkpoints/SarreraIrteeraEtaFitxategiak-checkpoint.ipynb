{
 "cells": [
  {
   "cell_type": "markdown",
   "metadata": {
    "hide_input": true,
    "slideshow": {
     "slide_type": "slide"
    }
   },
   "source": [
    "# Oinarrizko datu sarrera: `input()`\n",
    "\n",
    "* Exekuzio inguruneko sarrera estandarra (teklatua) erabiliko du, erabiltzailearengandik informazioa jasotzeko.\n",
    "* Exekuzioa geldiarazten du.\n",
    "   * Teklatuaren kasuan,erabiltzaileak *return* tekla sakatu arte\n",
    "* **`str`** motako objektu bat bueltatzen du"
   ]
  },
  {
   "cell_type": "code",
   "execution_count": null,
   "metadata": {
    "slideshow": {
     "slide_type": "-"
    }
   },
   "outputs": [],
   "source": [
    "x = input('Idatzi zenbaki bat: ')\n",
    "print(f'{x} {type(x)} motako objektu bat da')"
   ]
  },
  {
   "cell_type": "markdown",
   "metadata": {
    "slideshow": {
     "slide_type": "slide"
    }
   },
   "source": [
    "# Oinarrizko datu irteera: `print()`\n",
    "\n",
    "* Emandako argumentuak karaktere kate bilakatuko dira `str()` funtzioaren bidez, ondoren testu hoiek pantailatik erakusteko."
   ]
  },
  {
   "cell_type": "code",
   "execution_count": null,
   "metadata": {
    "slideshow": {
     "slide_type": "slide"
    }
   },
   "outputs": [],
   "source": [
    "help(print)"
   ]
  },
  {
   "cell_type": "markdown",
   "metadata": {
    "slideshow": {
     "slide_type": "fragment"
    }
   },
   "source": [
    " * `sep` &rarr; balioen artean gehitutako karattere katea (defektuz, hutsunea).\n",
    " * `end` &rarr; amaieran gehitutako karaktere katea (defektuz, lerro berri bat).\n",
    " * `file` &rarr; *non* idatzi (defektuz, irteera estandarra).\n",
    " * `flush` &rarr; *flushing*-a behartu ala ez."
   ]
  },
  {
   "cell_type": "markdown",
   "metadata": {
    "slideshow": {
     "slide_type": "slide"
    }
   },
   "source": [
    "Guk *geure* `myprint()` funtzioa sor genezake:"
   ]
  },
  {
   "cell_type": "code",
   "execution_count": null,
   "metadata": {
    "slideshow": {
     "slide_type": "fragment"
    }
   },
   "outputs": [],
   "source": [
    "import sys\n",
    "def myprint(*args, sep=' ', end='\\n', file=sys.stdout):\n",
    "    #print(type(args))\n",
    "    z = []\n",
    "    for x in args :\n",
    "        z.append(str(x))\n",
    "    file.write(sep.join(z) + end)\n",
    "    \n",
    "print('kaixo',123,[1,2,3],enumerate(\"aeiou\"))\n",
    "myprint('kaixo',123,[1,2,3],enumerate(\"aeiou\"))\n",
    "print('kaixo',123,[1,2,3],enumerate(\"aeiou\"),sep='_|_',end='#\\n')\n",
    "myprint('kaixo',123,[1,2,3],enumerate(\"aeiou\"),sep='_|_',end='#\\n')"
   ]
  },
  {
   "cell_type": "markdown",
   "metadata": {
    "slideshow": {
     "slide_type": "slide"
    }
   },
   "source": [
    "Mintegietan *generadoreak* zer diren ikusiko dugu... Oraingoz, adibide bat:"
   ]
  },
  {
   "cell_type": "code",
   "execution_count": null,
   "metadata": {
    "slideshow": {
     "slide_type": "fragment"
    }
   },
   "outputs": [],
   "source": [
    "import sys\n",
    "def myprint(*args, sep=' ', end='\\n', file=sys.stdout):\n",
    "    file.write(sep.join(str(x) for x in args) + end)\n",
    "    \n",
    "print('kaixo',123,[1,2,3],enumerate(\"aeiou\"))\n",
    "myprint('kaixo',123,[1,2,3],enumerate(\"aeiou\"))\n",
    "print('kaixo',123,[1,2,3],enumerate(\"aeiou\"),sep='_|_',end='#\\n')\n",
    "myprint('kaixo',123,[1,2,3],enumerate(\"aeiou\"),sep='_|_',end='#\\n')"
   ]
  },
  {
   "cell_type": "markdown",
   "metadata": {
    "slideshow": {
     "slide_type": "slide"
    }
   },
   "source": [
    "# Fitxategiak\n",
    "\n",
    "* `open()` metodoak *fitxategi* baten abstrakzioa errepresentatzen duen objektua sortzen du.\n",
    "   * Bertatik informazioa irakurri.\n",
    "   * Bertan informazioa idatzi.\n",
    "* Irikitako fitxategia **itxi** egin behar da beti\n",
    "   * `f=open(...)` &rarr; `f.close()`\n",
    "* Propietateak: Iteragarriak"
   ]
  },
  {
   "cell_type": "code",
   "execution_count": null,
   "metadata": {
    "slideshow": {
     "slide_type": "fragment"
    }
   },
   "outputs": [],
   "source": [
    "help(open)"
   ]
  },
  {
   "cell_type": "markdown",
   "metadata": {
    "slideshow": {
     "slide_type": "slide"
    }
   },
   "source": [
    "### Fitxategiak irekitzeko aukerak -  `mode`"
   ]
  },
  {
   "cell_type": "markdown",
   "metadata": {
    "slideshow": {
     "slide_type": "-"
    }
   },
   "source": [
    "| Character | Meaning                                                         |\n",
    "|:---------:|:-----------------------------------------------------------------|\n",
    "|    `r`    | open for reading (default)                                      |\n",
    "|    `w`    | open for writing, truncating the file first                     |\n",
    "|    `x`    | open for exclusive creation, failing if the file already exists |\n",
    "|    `a`    | open for writing, appending to the end of the file if it exists |\n",
    "|    `b`    | binary mode                                                     |\n",
    "|    `t`    | text mode (default)                                             |\n",
    "|    `+`    | open for updating (reading and writing)                         |"
   ]
  },
  {
   "cell_type": "code",
   "execution_count": null,
   "metadata": {
    "slideshow": {
     "slide_type": "slide"
    }
   },
   "outputs": [],
   "source": [
    "f = open(\"MyText.txt\",encoding=\"utf8\")\n",
    "print(type(f))\n",
    "f.close()"
   ]
  },
  {
   "cell_type": "code",
   "execution_count": null,
   "metadata": {
    "slideshow": {
     "slide_type": "fragment"
    }
   },
   "outputs": [],
   "source": [
    "f = open(\"MyText.txt\",\"rt\",encoding=\"utf8\")\n",
    "print(type(f))\n",
    "f.close()"
   ]
  },
  {
   "cell_type": "code",
   "execution_count": null,
   "metadata": {
    "slideshow": {
     "slide_type": "fragment"
    }
   },
   "outputs": [],
   "source": [
    "f = open(\"MyText.txt\",\"rb\")\n",
    "print(type(f))\n",
    "f.close()"
   ]
  },
  {
   "cell_type": "markdown",
   "metadata": {
    "slideshow": {
     "slide_type": "slide"
    }
   },
   "source": [
    "## `with` sententzia\n",
    "\n",
    "Errekurtsoak (adibidez, fitxategiak) erabiliak diren kasuetan, `with` sententziako _context manager_ -a errekurtsoen kudeaketaz (hasieratu/ireki, amaierazi/itxi) arduratuko da:\n",
    "\n",
    "```python\n",
    "with <context manager> as x :\n",
    "    # x erabili\n",
    "    ...\n",
    "    ...\n",
    "# with sententzia amaitzean, x errekurtsoa itxiko da\n",
    "```"
   ]
  },
  {
   "cell_type": "markdown",
   "metadata": {
    "slideshow": {
     "slide_type": "slide"
    }
   },
   "source": [
    "Fitxategiak euren buruen  _context manager_ -ak direnez, with sententziarekin erabil daitezke:"
   ]
  },
  {
   "cell_type": "code",
   "execution_count": null,
   "metadata": {
    "slideshow": {
     "slide_type": "fragment"
    }
   },
   "outputs": [],
   "source": [
    "with open(\"MyText.txt\",encoding=\"utf8\") as f :\n",
    "    print(type(f))"
   ]
  },
  {
   "cell_type": "markdown",
   "metadata": {
    "slideshow": {
     "slide_type": "slide"
    }
   },
   "source": [
    "## Fitxategiak iteragarriak dira\n",
    "\n",
    "* Zeharkatzean _ilarak_ lortzen dira\n",
    "   * `'\\n'`-z amaitutako karaktere kateak \n",
    "   * Azken ilara baliteke ezetz..."
   ]
  },
  {
   "cell_type": "code",
   "execution_count": null,
   "metadata": {
    "slideshow": {
     "slide_type": "fragment"
    }
   },
   "outputs": [],
   "source": [
    "with open(\"MyText.txt\",encoding=\"utf8\") as f :\n",
    "    for x in f :\n",
    "        print(x.rstrip())"
   ]
  },
  {
   "cell_type": "code",
   "execution_count": null,
   "metadata": {
    "slideshow": {
     "slide_type": "slide"
    }
   },
   "outputs": [],
   "source": [
    "with open(\"MyText.txt\",encoding=\"utf8\") as f :\n",
    "    for i,x in enumerate(f) :\n",
    "        print(f'{i}: {x.rstrip()}')"
   ]
  },
  {
   "cell_type": "code",
   "execution_count": null,
   "metadata": {
    "slideshow": {
     "slide_type": "fragment"
    }
   },
   "outputs": [],
   "source": [
    "with open(\"MyText.txt\",encoding=\"utf8\") as f :\n",
    "    print(list(f))"
   ]
  },
  {
   "cell_type": "code",
   "execution_count": null,
   "metadata": {
    "slideshow": {
     "slide_type": "fragment"
    }
   },
   "outputs": [],
   "source": [
    "with open(\"MyText.txt\",encoding=\"utf8\") as f :\n",
    "    print(*f,sep='')"
   ]
  },
  {
   "cell_type": "markdown",
   "metadata": {
    "slideshow": {
     "slide_type": "slide"
    }
   },
   "source": [
    "### Fitxategiak _agortu_ egiten dira\n",
    "\n",
    "* Ezin daitezke bi aldiz zeharkatu\n",
    "* Beste sekuentzia batzuekin ere gertatzen da"
   ]
  },
  {
   "cell_type": "code",
   "execution_count": null,
   "metadata": {
    "slideshow": {
     "slide_type": "fragment"
    }
   },
   "outputs": [],
   "source": [
    "with open(\"MyText.txt\",encoding=\"utf8\") as f :\n",
    "    for i in range(3):\n",
    "        print('-'*10,i,'-'*10)\n",
    "        print(*f,sep='')"
   ]
  },
  {
   "cell_type": "markdown",
   "metadata": {
    "slideshow": {
     "slide_type": "slide"
    }
   },
   "source": [
    "### Zeharkatzeari utzi eta berriro _hastean_ ...\n",
    "\n",
    "* Aurreko zeharkatze puntutik aurrera jarraitzen da\n",
    "* Goiburuak irakurtzeko aproposa. "
   ]
  },
  {
   "cell_type": "code",
   "execution_count": null,
   "metadata": {
    "slideshow": {
     "slide_type": "fragment"
    }
   },
   "outputs": [],
   "source": [
    "with open(\"MyText.txt\",encoding=\"utf8\") as f :\n",
    "    for x in f :\n",
    "        print('-'*30)\n",
    "        print(x,end='')\n",
    "        print('-'*30)\n",
    "        break\n",
    "    print(*f,sep='')\n"
   ]
  },
  {
   "cell_type": "markdown",
   "metadata": {
    "slideshow": {
     "slide_type": "slide"
    }
   },
   "source": [
    "Demagun fitxategi baten lehenengo `n` ilarak goiburua direla:"
   ]
  },
  {
   "cell_type": "code",
   "execution_count": null,
   "metadata": {
    "slideshow": {
     "slide_type": "fragment"
    }
   },
   "outputs": [],
   "source": [
    "n = 2\n",
    "with open(\"MyText.txt\",encoding=\"utf8\") as f :\n",
    "    print('-'*10,'GOIBURUA','-'*10)\n",
    "    i = 0\n",
    "    for x in f :\n",
    "        print(x,end='')\n",
    "        i += 1\n",
    "        if i == n :\n",
    "            break\n",
    "    print('-'*30)\n",
    "    print(*f,sep='')\n"
   ]
  },
  {
   "cell_type": "markdown",
   "metadata": {
    "slideshow": {
     "slide_type": "slide"
    }
   },
   "source": [
    "**Kontuz** `f` fitxategia beste objektu bati _ematearekin_ zeharkatze _partzial_ bat egiteko.\n",
    "   * Berak ere zeharkatuko badu...\n",
    "   * Ez dakigu **nola** arraio zeharkatzen ote dute"
   ]
  },
  {
   "cell_type": "code",
   "execution_count": null,
   "metadata": {
    "slideshow": {
     "slide_type": "slide"
    }
   },
   "outputs": [],
   "source": [
    "n = 2\n",
    "with open(\"MyText.txt\",encoding=\"utf8\") as f :\n",
    "    print('-'*10,'GOIBURUA','-'*10)\n",
    "    for i,x in enumerate(f,1) :        \n",
    "        print(x,end='')\n",
    "        if i == n :\n",
    "            break\n",
    "    print('-'*30)\n",
    "    print(*f,sep='')\n"
   ]
  },
  {
   "cell_type": "code",
   "execution_count": null,
   "metadata": {
    "slideshow": {
     "slide_type": "slide"
    }
   },
   "outputs": [],
   "source": [
    "n = 2\n",
    "with open(\"MyText.txt\",encoding=\"utf8\") as f :\n",
    "    print('-'*10,'GOIBURUA','-'*10)\n",
    "    for x,_ in zip(f,range(n)) :\n",
    "        print(x,end='')\n",
    "    print('-'*30)\n",
    "    print(*f,sep='')\n"
   ]
  },
  {
   "cell_type": "code",
   "execution_count": null,
   "metadata": {
    "slideshow": {
     "slide_type": "slide"
    }
   },
   "outputs": [],
   "source": [
    "n = 2\n",
    "with open(\"MyText.txt\",encoding=\"utf8\") as f :\n",
    "    print('-'*10,'GOIBURUA','-'*10)\n",
    "    for _,x in zip(range(n),f) :\n",
    "        print(x,end='')\n",
    "    print('-'*30)\n",
    "    print(*f,sep='')\n"
   ]
  },
  {
   "cell_type": "markdown",
   "metadata": {
    "slideshow": {
     "slide_type": "slide"
    }
   },
   "source": [
    "## Fitxategien berezko metodoak\n",
    "\n",
    "* `f.read(size=-1)` &rarr; fitxategi osoa irakurri (edo `size` byte)\n",
    "* `f.readline(size=-1)` &rarr; fitxategiaren lerro bat irakurri (edo `size` byte)\n",
    "* `f.readlines(hint=-1)` &rarr; lerro guztiak zerrenda batean bueltatu (gehienez `hint` byte)\n",
    "* `f.write(text)` &rarr; `text` karaktere katea idatzi \n",
    "* `f.writelines(lines)` &rarr; lines karaktere kate segidako elementuak idatzi\n",
    "* `f.seek(offset, whence=0,)` &rarr; fitxategi baten posizio konkretu batean kokatzeko\n",
    "* `f.close()` &rarr; fitxategia itxi"
   ]
  },
  {
   "cell_type": "markdown",
   "metadata": {
    "slideshow": {
     "slide_type": "slide"
    }
   },
   "source": [
    "**GOGORATU**: `print()` metodoa ere erabil dezakegu `write()` ordez\n",
    "* `print(...,file=f)`\n",
    "* Askozaz errazagoa elementu bat baino gehiago idatzi nahi dugunean\n",
    "   * Delimitadorea `sep=...`\n",
    "   * Amaierazlea `end=...`\n",
    "* Objektuak automatikoki testu bilakatzen dira"
   ]
  },
  {
   "cell_type": "markdown",
   "metadata": {
    "slideshow": {
     "slide_type": "slide"
    }
   },
   "source": [
    "## `repr` eta `eval` \n",
    "\n",
    "\n",
    "* `eval(source, globals=None, locals=None)`  &rarr;  python-eko kodea (karaktere katea) ebaluatu (exekutatu)\n",
    "   * Python-eko kontsola batek behin eta berriro egiten duena (esleipenak salbu)\n",
    "   * Ebaluazioaren emaitza den objektua bueltatzen du\n",
    "* `repr(obj)`  &rarr;  `obj` objektuaren errepresentazio _kanonikoa_ (karaktere kate gisa) bueltatu\n",
    "   * Objektu bat testu moduan errepresentatzeko modua\n",
    "   * Testu hori ebaluatzean, baliokidea den objektua sortuko da\n",
    "   * `repr(obj)` &ne; `str(obj)`\n",
    "* `eval(repr(obj)) == obj`"
   ]
  },
  {
   "cell_type": "code",
   "execution_count": null,
   "metadata": {
    "slideshow": {
     "slide_type": "slide"
    }
   },
   "outputs": [],
   "source": [
    "eval('1+2')"
   ]
  },
  {
   "cell_type": "code",
   "execution_count": null,
   "metadata": {
    "slideshow": {
     "slide_type": "fragment"
    }
   },
   "outputs": [],
   "source": [
    "z = eval('[1,2,3]')\n",
    "print(z)"
   ]
  },
  {
   "cell_type": "code",
   "execution_count": null,
   "metadata": {
    "slideshow": {
     "slide_type": "fragment"
    }
   },
   "outputs": [],
   "source": [
    "eval('z + [4,5,6]')"
   ]
  },
  {
   "cell_type": "code",
   "execution_count": null,
   "metadata": {
    "slideshow": {
     "slide_type": "fragment"
    }
   },
   "outputs": [],
   "source": [
    "#kontuz...\n",
    "#eval('kaixo')\n",
    "eval(\"'kaixo'\")"
   ]
  },
  {
   "cell_type": "code",
   "execution_count": null,
   "metadata": {
    "slideshow": {
     "slide_type": "fragment"
    }
   },
   "outputs": [],
   "source": [
    "eval(\"['a','e','i','o','u']\")"
   ]
  },
  {
   "cell_type": "code",
   "execution_count": null,
   "metadata": {
    "slideshow": {
     "slide_type": "slide"
    }
   },
   "outputs": [],
   "source": [
    "print(repr([1,2,3]))\n",
    "repr([1,2,3])"
   ]
  },
  {
   "cell_type": "code",
   "execution_count": null,
   "metadata": {
    "slideshow": {
     "slide_type": "fragment"
    }
   },
   "outputs": [],
   "source": [
    "z=list(range(10))\n",
    "print(z)\n",
    "print(repr(z))\n",
    "print(eval(repr(z)) == z , eval(repr(z)) is z)"
   ]
  },
  {
   "cell_type": "code",
   "execution_count": null,
   "metadata": {
    "slideshow": {
     "slide_type": "fragment"
    }
   },
   "outputs": [],
   "source": [
    "h = {1:\"kaixo\" , 2:[1,2,3] , 3:(5,6,7)}\n",
    "print(h)\n",
    "print(repr(h))\n",
    "print(eval(repr(h)) == h)"
   ]
  },
  {
   "cell_type": "markdown",
   "metadata": {
    "slideshow": {
     "slide_type": "slide"
    }
   },
   "source": [
    "Zein da `str()` eta `repr()` arteko ezberdintasuna?"
   ]
  },
  {
   "cell_type": "code",
   "execution_count": null,
   "metadata": {
    "slideshow": {
     "slide_type": "fragment"
    }
   },
   "outputs": [],
   "source": [
    "for x in 12, 12.45, True, \"kaixo\", [1,2,3], [1,2,3,\"kaixo\"], (1,2,3), {1:2,3:4}, [1,2,3,(4,5,[6,7,{1:2,3:4}])] :\n",
    "    if str(x)==repr(x) :\n",
    "        print('OK' , type(x))\n",
    "    else :\n",
    "        print(f'WARNING: str={str(x)} repr={repr(x)}',)\n"
   ]
  },
  {
   "cell_type": "markdown",
   "metadata": {
    "slideshow": {
     "slide_type": "slide"
    }
   },
   "source": [
    "### Objektu bat fitxategi batean gordetzen"
   ]
  },
  {
   "cell_type": "code",
   "execution_count": null,
   "metadata": {
    "slideshow": {
     "slide_type": "fragment"
    }
   },
   "outputs": [],
   "source": [
    "z = [1,200,3,(4,5,[6,7,{1:'bat',3:'hiru'}])]\n",
    "with open('MyData.txt','wt',encoding='utf8') as f :\n",
    "    f.write(repr(z))"
   ]
  },
  {
   "cell_type": "markdown",
   "metadata": {
    "slideshow": {
     "slide_type": "fragment"
    }
   },
   "source": [
    "### Objektu bat fitxategi batetik irakurtzen"
   ]
  },
  {
   "cell_type": "code",
   "execution_count": null,
   "metadata": {
    "slideshow": {
     "slide_type": "fragment"
    }
   },
   "outputs": [],
   "source": [
    "with open('MyData.txt','rt',encoding='utf8') as f :\n",
    "    x = eval(f.read())\n",
    "    print(x)"
   ]
  },
  {
   "cell_type": "code",
   "execution_count": null,
   "metadata": {
    "slideshow": {
     "slide_type": "fragment"
    }
   },
   "outputs": [],
   "source": [
    "print(z)\n",
    "print(x)\n",
    "print(z==x,z is x)"
   ]
  },
  {
   "cell_type": "markdown",
   "metadata": {
    "slideshow": {
     "slide_type": "slide"
    }
   },
   "source": [
    "Bi funtzio sor ditzakegu... "
   ]
  },
  {
   "cell_type": "code",
   "execution_count": null,
   "metadata": {
    "slideshow": {
     "slide_type": "fragment"
    }
   },
   "outputs": [],
   "source": [
    "def savetxt(obj,filename,encoding='utf8'):\n",
    "    with open(filename,'wt',encoding=encoding) as f :\n",
    "        f.write(repr(obj))\n",
    "        \n",
    "def loadtxt(filename,encoding='utf8'):\n",
    "    with open(filename,'rt',encoding=encoding) as f :\n",
    "        return eval(f.read())"
   ]
  },
  {
   "cell_type": "code",
   "execution_count": null,
   "metadata": {
    "slideshow": {
     "slide_type": "fragment"
    }
   },
   "outputs": [],
   "source": [
    "z = {1:'bat',2:'bi',3:['???',56,7]}\n",
    "savetxt(z,'MyData.txt')\n",
    "loadtxt('MyData.txt') == z"
   ]
  },
  {
   "cell_type": "markdown",
   "metadata": {
    "slideshow": {
     "slide_type": "slide"
    }
   },
   "source": [
    "Objektu bat baina gehiago gorde nahi badugu, egitura bakarrean (nkote batetan adibidez) gorde ditzakegu..."
   ]
  },
  {
   "cell_type": "code",
   "execution_count": null,
   "metadata": {
    "slideshow": {
     "slide_type": "fragment"
    }
   },
   "outputs": [],
   "source": [
    "a = [1,2,3,(4,5,[6,7,{1:'bat',3:'hiru'}])]\n",
    "b = {1:'bat',2:'bi',3:['???',56,7]}\n",
    "savetxt((a,b),'MyData.txt')\n",
    "x,y = loadtxt('MyData.txt')\n",
    "a == x and b == y"
   ]
  },
  {
   "cell_type": "markdown",
   "metadata": {
    "slideshow": {
     "slide_type": "slide"
    }
   },
   "source": [
    "## `pickle` modulua \n",
    "\n",
    "* Serializazio (objektua &rarr; byte segida) bidez objektuak fitxategietan gorde\n",
    "* Formatu bitarra\n",
    "   * Bizkorra\n",
    "   * Tamaina minimoa\n",
    "   * Irakurtezina\n",
    "* Oinarrizko bi metodo:\n",
    "   * `pickle.dump(obj, file)` &rarr; objektua fitxategian idatzi\n",
    "   * `pickle.load(file)` &rarr; fitxategitik objektu bat irakurri\n",
    "   * `file` : modu bitarrean idatzi/irakurri daitekeen fitxategia\n",
    "      * **EZ DA FITXATEGI IZENA**"
   ]
  },
  {
   "cell_type": "code",
   "execution_count": null,
   "metadata": {
    "slideshow": {
     "slide_type": "slide"
    }
   },
   "outputs": [],
   "source": [
    "import pickle\n",
    "\n",
    "a = [1,2,3,(4,5,[6,7,{1:'bat',3:'hiru'}])]\n",
    "b = {1:'bat',2:'bi',3:['???',56,7]}\n",
    "\n",
    "with open('MyData.dat','wb') as f :\n",
    "    pickle.dump(a,f)\n",
    "    pickle.dump(b,f)\n",
    "\n",
    "with open('MyData.dat','rb') as f :\n",
    "    x = pickle.load(f)\n",
    "    y = pickle.load(f)\n",
    "\n",
    "a == x and b == y"
   ]
  },
  {
   "cell_type": "markdown",
   "metadata": {
    "slideshow": {
     "slide_type": "slide"
    }
   },
   "source": [
    "Berriro ere, bi funtzio sor ditzakegu... "
   ]
  },
  {
   "cell_type": "code",
   "execution_count": null,
   "metadata": {
    "slideshow": {
     "slide_type": "fragment"
    }
   },
   "outputs": [],
   "source": [
    "import pickle\n",
    "\n",
    "def savebin(obj,filename):\n",
    "    with open(filename,'wb') as f :\n",
    "        pickle.dump(obj,f)\n",
    "        \n",
    "def loadbin(filename):\n",
    "    with open(filename,'rb') as f :\n",
    "        return pickle.load(f)"
   ]
  },
  {
   "cell_type": "code",
   "execution_count": null,
   "metadata": {
    "slideshow": {
     "slide_type": "fragment"
    }
   },
   "outputs": [],
   "source": [
    "a = [1,2,3,(4,5,[6,7,{1:'bat',3:'hiru'}])]\n",
    "b = {1:'bat',2:'bi',3:['???',56,7]}\n",
    "savebin((a,b),'MyData.dat')\n",
    "x,y = loadbin('MyData.dat')\n",
    "a == x and b == y"
   ]
  },
  {
   "cell_type": "markdown",
   "metadata": {
    "slideshow": {
     "slide_type": "slide"
    }
   },
   "source": [
    "Kontuz _generadoreekin_ (`enumerate`, `zip`, ...)"
   ]
  },
  {
   "cell_type": "code",
   "execution_count": null,
   "metadata": {
    "slideshow": {
     "slide_type": "fragment"
    }
   },
   "outputs": [],
   "source": [
    "print(repr(enumerate(\"aeiou\")))\n",
    "#eval(repr(enumerate(\"aeiou\")))\n",
    "print(repr(zip(\"aeiou\",range(10))))\n",
    "#eval(repr(zip(\"aeiou\",range(10))))\n",
    "\n",
    "a = enumerate(\"aeiou\")\n",
    "savebin(a,'MyData.dat')\n",
    "b= loadbin('MyData.dat')\n",
    "print(*a)\n",
    "print(*b)\n",
    "print(a == b , enumerate(\"aeiou\") == enumerate(\"aeiou\"))\n",
    "\n",
    "print(enumerate(\"aeiou\") == enumerate(\"aeiou\"))\n",
    "print(list(enumerate(\"aeiou\")) == list(enumerate(\"aeiou\")))\n",
    "\n",
    "print(zip(\"aeiou\",range(10)) == zip(\"aeiou\",range(10)))\n",
    "print(list(zip(\"aeiou\",range(10))) == list(zip(\"aeiou\",range(10))))"
   ]
  },
  {
   "cell_type": "markdown",
   "metadata": {
    "slideshow": {
     "slide_type": "-"
    }
   },
   "source": [
    "<table border=\"0\" width=\"100%\" style=\"margin: 0px;\">\n",
    "<tr>  \n",
    "  <td style=\"text-align:left\"><a href=\"Hiztegiak.ipynb\">&lt; &lt; Hiztegiak &lt; &lt;</a></td>\n",
    "  <td style=\"text-align:right\"><a href=\"Random.ipynb\">&gt; &gt; Random Modulua &gt; &gt;</a></td>\n",
    "</tr>\n",
    "</table>"
   ]
  }
 ],
 "metadata": {
  "celltoolbar": "Slideshow",
  "kernelspec": {
   "display_name": "Python 3",
   "language": "python",
   "name": "python3"
  },
  "language_info": {
   "codemirror_mode": {
    "name": "ipython",
    "version": 3
   },
   "file_extension": ".py",
   "mimetype": "text/x-python",
   "name": "python",
   "nbconvert_exporter": "python",
   "pygments_lexer": "ipython3",
   "version": "3.7.6"
  },
  "rise": {
   "autolaunch": false,
   "footer": "<h2 align=\"center\">Konputaziorako Sarrera</h2>",
   "scroll": true
  }
 },
 "nbformat": 4,
 "nbformat_minor": 2
}
