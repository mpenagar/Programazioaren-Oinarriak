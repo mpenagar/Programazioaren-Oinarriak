{
 "cells": [
  {
   "cell_type": "markdown",
   "metadata": {
    "slideshow": {
     "slide_type": "slide"
    }
   },
   "source": [
    "# Python Programazio Lengoaia - Exekuzio ingurunea"
   ]
  },
  {
   "cell_type": "markdown",
   "metadata": {
    "slideshow": {
     "slide_type": "slide"
    }
   },
   "source": [
    "*Python* lengoaia **interpretatua** da... beno ez... beno bai...\n",
    "\n",
    "![](../img/pythonInterpreter.png)"
   ]
  },
  {
   "cell_type": "markdown",
   "metadata": {
    "slideshow": {
     "slide_type": "slide"
    }
   },
   "source": [
    "*Python* lengoaia, gauza bakarra bada ere (beno, hau ere ez da guztiz egia), interpretazio ingurunearen inplementazio ezberdinak existitzen dira:\n",
    " * CPython: Python &rarr; Python Bytecode &rarr; Python VM   (defektu/erreferentziazko inplementazioa)\n",
    " * IronPython (Microsoft): Python &rarr; CLR Codes &rarr; .NET\n",
    " * Jython: Python &rarr; Java Bytecode &rarr; Java VM\n",
    " * ..."
   ]
  },
  {
   "cell_type": "markdown",
   "metadata": {
    "slideshow": {
     "slide_type": "slide"
    }
   },
   "source": [
    "![](../img/pythonInterpreter2.png)"
   ]
  },
  {
   "cell_type": "markdown",
   "metadata": {
    "slideshow": {
     "slide_type": "fragment"
    }
   },
   "source": [
    "<div class=\"alert alert-info\">\n",
    "    https://stackoverflow.com/questions/2998215/if-python-is-interpreted-what-are-pyc-files.\n",
    "</div>"
   ]
  },
  {
   "cell_type": "markdown",
   "metadata": {
    "slideshow": {
     "slide_type": "slide"
    }
   },
   "source": [
    "Interpretea erabiltzeko bi modu:\n",
    " 1. Modu interaktiboa\n",
    " 1. Script modua\n",
    " \n",
    "![](../img/pythonInterpreter3.png)"
   ]
  },
  {
   "cell_type": "markdown",
   "metadata": {
    "slideshow": {
     "slide_type": "slide"
    }
   },
   "source": [
    "Tira, hirugarren bat ere badago gutxienez... hau bera (Jupyter Notebook / iPython). Formatudun testua idatzi eta kodea editatu eta exekutatzeko aukera eskeintzen du. Ez da ez editore bat ez kontsola bat... biak baizik:\n",
    " "
   ]
  },
  {
   "cell_type": "code",
   "execution_count": 2,
   "metadata": {
    "slideshow": {
     "slide_type": "-"
    }
   },
   "outputs": [
    {
     "name": "stdout",
     "output_type": "stream",
     "text": [
      "2704.9315157116453\n"
     ]
    }
   ],
   "source": [
    "print(23.5*2354.982/32.46+1000)"
   ]
  },
  {
   "cell_type": "markdown",
   "metadata": {
    "slideshow": {
     "slide_type": "slide"
    }
   },
   "source": [
    "Guk Python-en instalazioarekin defektuz datorren **Idle** ingurunea erabiliko dugu modu interaktiboa edo ta script modua erabiltzeko, baina klaseko gardenkiak Jupyter-en oinarrrituak egongo dira, eta kode gehiena bertan egongo da."
   ]
  },
  {
   "cell_type": "markdown",
   "metadata": {
    "slideshow": {
     "slide_type": "-"
    }
   },
   "source": [
    "<table border=\"0\" width=\"100%\" style=\"margin: 0px;\">\n",
    "<tr>  \n",
    "  <td style=\"text-align:left\"><a href=\"../Aurkibidea.ipynb\">&lt; &lt; Aurkibidea &lt; &lt;</a></td>\n",
    "  <td style=\"text-align:right\"><a href=\"Karaktere kateak.ipynb\">&gt; &gt; Karaktere kateak &gt; &gt;</a></td>\n",
    "</tr>\n",
    "</table>\n",
    "\n"
   ]
  }
 ],
 "metadata": {
  "celltoolbar": "Slideshow",
  "kernelspec": {
   "display_name": "Python 3",
   "language": "python",
   "name": "python3"
  },
  "language_info": {
   "codemirror_mode": {
    "name": "ipython",
    "version": 3
   },
   "file_extension": ".py",
   "mimetype": "text/x-python",
   "name": "python",
   "nbconvert_exporter": "python",
   "pygments_lexer": "ipython3",
   "version": "3.7.6"
  },
  "rise": {
   "autolaunch": "false",
   "footer": "<h2 align=\"center\">Konputaziorako Sarrera</h2>"
  }
 },
 "nbformat": 4,
 "nbformat_minor": 2
}
