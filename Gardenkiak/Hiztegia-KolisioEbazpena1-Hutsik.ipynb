{
 "cells": [
  {
   "cell_type": "markdown",
   "metadata": {
    "slideshow": {
     "slide_type": "slide"
    }
   },
   "source": [
    "# Hiztegi baten inplementazioa\n",
    "\n",
    "## Kolisioen ebazpena I : Taula berdimentsionatu\n",
    "\n",
    "* $g$ gako bati taulan dagokion posizioa: $i \\; = \\; hash(g)\\; \\% \\; N$\n",
    "   * $i$ posizioan `(gako,balio)` bikotea gordeko da\n",
    "   * Hutsik dagoen gelaxkan, `None` egongo da\n",
    "* Kolisio bat ematen den bakoitzean, taularen tamaina handitu.\n",
    "* $LF \\; \\ll \\; 1$\n"
   ]
  },
  {
   "cell_type": "markdown",
   "metadata": {
    "slideshow": {
     "slide_type": "slide"
    }
   },
   "source": [
    "#### 1 - Hiztegi berri bat sortzeko funtzioa, `dict()`-en baliokidea"
   ]
  },
  {
   "cell_type": "code",
   "execution_count": null,
   "metadata": {
    "slideshow": {
     "slide_type": "fragment"
    }
   },
   "outputs": [],
   "source": []
  },
  {
   "cell_type": "markdown",
   "metadata": {
    "slideshow": {
     "slide_type": "fragment"
    }
   },
   "source": [
    "#### 2 - Sortu hiztegi bat eta *eskuz* gorde ondokoak: `3:'hiru'` eta `'lau':4`"
   ]
  },
  {
   "cell_type": "code",
   "execution_count": null,
   "metadata": {
    "slideshow": {
     "slide_type": "fragment"
    }
   },
   "outputs": [],
   "source": []
  },
  {
   "cell_type": "markdown",
   "metadata": {
    "slideshow": {
     "slide_type": "slide"
    }
   },
   "source": [
    "#### 3 - Hiztegi baten `(gako,balio)` bikote zerrenda bueltatuko duen funtzioa, `dict.items()`-ren baliokidea"
   ]
  },
  {
   "cell_type": "code",
   "execution_count": null,
   "metadata": {
    "slideshow": {
     "slide_type": "fragment"
    }
   },
   "outputs": [],
   "source": []
  },
  {
   "cell_type": "code",
   "execution_count": null,
   "metadata": {
    "slideshow": {
     "slide_type": "fragment"
    }
   },
   "outputs": [],
   "source": [
    "print('h zerrendako elementuak:',*h)\n",
    "print('h hiztegiko elementuak:',*h_items(h))"
   ]
  },
  {
   "cell_type": "markdown",
   "metadata": {
    "slideshow": {
     "slide_type": "slide"
    }
   },
   "source": [
    "#### 4 - Hiztegi baten tamaina bueltatuko duen funtzioa, `len()`-ren baliokidea"
   ]
  },
  {
   "cell_type": "code",
   "execution_count": null,
   "metadata": {
    "slideshow": {
     "slide_type": "fragment"
    }
   },
   "outputs": [],
   "source": []
  },
  {
   "cell_type": "code",
   "execution_count": null,
   "metadata": {
    "slideshow": {
     "slide_type": "fragment"
    }
   },
   "outputs": [],
   "source": [
    "print(f'h zerrendaren tamaina: {len(h)}')\n",
    "print(f'h hiztegiaren tamaina: {h_len(h)}')\n",
    "print(f'h hiztegiaren tamaina: {h_len2(h)}')"
   ]
  },
  {
   "cell_type": "markdown",
   "metadata": {
    "slideshow": {
     "slide_type": "slide"
    }
   },
   "source": [
    "#### 5 - Hiztegi batetik karaktere kate bat sortzeko funtzioa, `str()`-ren baliokidea"
   ]
  },
  {
   "cell_type": "code",
   "execution_count": null,
   "metadata": {
    "slideshow": {
     "slide_type": "fragment"
    }
   },
   "outputs": [],
   "source": []
  },
  {
   "cell_type": "code",
   "execution_count": null,
   "metadata": {
    "slideshow": {
     "slide_type": "fragment"
    }
   },
   "outputs": [],
   "source": [
    "print(str(h))\n",
    "print(h_str(h))"
   ]
  },
  {
   "cell_type": "markdown",
   "metadata": {
    "slideshow": {
     "slide_type": "slide"
    }
   },
   "source": [
    "#### 6 - Gako bati dagokion balioa kontsultatzeko funtzioa, `dict.get()`-en baliokidea"
   ]
  },
  {
   "cell_type": "code",
   "execution_count": null,
   "metadata": {
    "slideshow": {
     "slide_type": "fragment"
    }
   },
   "outputs": [],
   "source": []
  },
  {
   "cell_type": "code",
   "execution_count": null,
   "metadata": {
    "slideshow": {
     "slide_type": "fragment"
    }
   },
   "outputs": [],
   "source": [
    "print(h)\n",
    "print(h_str(h))\n",
    "print(f'hizt[3] = {h_get(h,3)}')\n",
    "print(f'hizt[1] = {h_get(h,1)}')\n",
    "print(f'hizt[\"lau\"] = {h_get(h,\"lau\")}')\n",
    "print(f'hizt[4] = {h_get(h,4)} , baina h[4]={h[4]}')"
   ]
  },
  {
   "cell_type": "markdown",
   "metadata": {
    "slideshow": {
     "slide_type": "slide"
    }
   },
   "source": [
    "#### 7 - Hiztegi batetan gako bati dagokion balioa gordeko duen funtzioa, `h[k]=v`-en baliokidea."
   ]
  },
  {
   "cell_type": "code",
   "execution_count": null,
   "metadata": {
    "slideshow": {
     "slide_type": "fragment"
    }
   },
   "outputs": [],
   "source": []
  },
  {
   "cell_type": "markdown",
   "metadata": {
    "slideshow": {
     "slide_type": "fragment"
    }
   },
   "source": [
    "`h_resize()` funtzio bat behar dugu..."
   ]
  },
  {
   "cell_type": "markdown",
   "metadata": {
    "slideshow": {
     "slide_type": "slide"
    }
   },
   "source": [
    "#### 8 - Hiztegi baten *barne tamaina* aldatuko duen funtzioa"
   ]
  },
  {
   "cell_type": "code",
   "execution_count": null,
   "metadata": {
    "hide_input": false,
    "slideshow": {
     "slide_type": "fragment"
    }
   },
   "outputs": [],
   "source": []
  },
  {
   "cell_type": "markdown",
   "metadata": {
    "slideshow": {
     "slide_type": "slide"
    }
   },
   "source": [
    "`h_put()` eta `h_resize()` biak batera frogatuko ditugu..."
   ]
  },
  {
   "cell_type": "code",
   "execution_count": null,
   "metadata": {
    "slideshow": {
     "slide_type": "fragment"
    }
   },
   "outputs": [],
   "source": [
    "h = h_new()\n",
    "h_put(h,3,'hiru')\n",
    "h_put(h,'lau',4)\n",
    "\n",
    "print('-'*50+'\\n',len(h),h)\n",
    "print(h_str(h))\n",
    "\n",
    "h_resize(h,9)\n",
    "print('-'*50+'\\n',len(h),h)\n",
    "print(h_str(h))\n",
    "\n",
    "h_resize(h,2)\n",
    "print('-'*50+'\\n',len(h),h)\n",
    "print(h_str(h))\n",
    "print(hash(3), hash('lau'))\n",
    "print(hash(3)%10, hash('lau')%10)\n",
    "print(hash(3)%17, hash('lau')%17)"
   ]
  },
  {
   "cell_type": "markdown",
   "metadata": {
    "slideshow": {
     "slide_type": "slide"
    }
   },
   "source": [
    "Frogak egin ditzagun...."
   ]
  },
  {
   "cell_type": "code",
   "execution_count": null,
   "metadata": {},
   "outputs": [],
   "source": [
    "for n in 10,100,1000,10000 :\n",
    "    h = h_new()\n",
    "    for i in range(n):\n",
    "        h_put(h,i,str(i))\n",
    "    print(len(h),h_len(h))"
   ]
  },
  {
   "cell_type": "markdown",
   "metadata": {
    "slideshow": {
     "slide_type": "fragment"
    }
   },
   "source": [
    "Zenbaki osoen hash balioa bere burua delako, `h` zerrendaren tamaina gordetzen ari garen `i` gako handiena baina handiagoa izatea nahikoa da... **EZ DA KOLISIORIK EGONGO**"
   ]
  },
  {
   "cell_type": "code",
   "execution_count": null,
   "metadata": {
    "slideshow": {
     "slide_type": "slide"
    }
   },
   "outputs": [],
   "source": [
    "for n in 10,100,1000,10000 :\n",
    "    h = h_new()\n",
    "    for i in range(n):\n",
    "        h_put(h,str(i),i)\n",
    "    print(len(h),h_len(h))"
   ]
  },
  {
   "cell_type": "markdown",
   "metadata": {
    "slideshow": {
     "slide_type": "slide"
    }
   },
   "source": [
    "Lehenengo kasuan, gakoak `[0,n]` tarteko zenbakiak izan beharrean auzazkoak izan balira..."
   ]
  },
  {
   "cell_type": "code",
   "execution_count": null,
   "metadata": {
    "slideshow": {
     "slide_type": "fragment"
    }
   },
   "outputs": [],
   "source": [
    "from random import randrange\n",
    "for n in 10,100,1000,10000 :\n",
    "    h = h_new()\n",
    "    for i in range(n):\n",
    "        h_put(h,randrange(1000000000),'KAKA!')\n",
    "    print(len(h),h_len(h))"
   ]
  }
 ],
 "metadata": {
  "celltoolbar": "Slideshow",
  "kernelspec": {
   "display_name": "Python 3",
   "language": "python",
   "name": "python3"
  },
  "language_info": {
   "codemirror_mode": {
    "name": "ipython",
    "version": 3
   },
   "file_extension": ".py",
   "mimetype": "text/x-python",
   "name": "python",
   "nbconvert_exporter": "python",
   "pygments_lexer": "ipython3",
   "version": "3.7.6"
  }
 },
 "nbformat": 4,
 "nbformat_minor": 2
}
