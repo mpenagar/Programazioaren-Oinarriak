{
 "cells": [
  {
   "cell_type": "markdown",
   "metadata": {
    "hide_input": true,
    "slideshow": {
     "slide_type": "slide"
    }
   },
   "source": [
    "# `tuple` - N-Koteak (_Tuplak_)\n",
    "\n",
    " * `tuple` motako objektuak\n",
    " * Objektu sekuentzia **ALDAEZINA**.\n",
    "    * Objektu guztiek ez dute mota berdinekoa izan beharrik.\n",
    " * Propietateak: Iteragarriak, Indexagarriak, Aldaezinak\n",
    " * Metodoak: 2 (`count`, `index`)\n",
    " * Eragileak: `+` , `*` , `in` , `not in`"
   ]
  },
  {
   "cell_type": "markdown",
   "metadata": {
    "slideshow": {
     "slide_type": "slide"
    }
   },
   "source": [
    "## Zer da aldaezina izatea?\n",
    "\n",
    "* N-Koteek *eduki* aldaezina dute\n",
    "* N-Koteek *balio* aldakorra izan dezakete"
   ]
  },
  {
   "cell_type": "code",
   "execution_count": 1,
   "metadata": {
    "slideshow": {
     "slide_type": "fragment"
    }
   },
   "outputs": [
    {
     "name": "stdout",
     "output_type": "stream",
     "text": [
      "(1, 2, 3, [4, 5, 6])\n",
      "(1, 2, 3, [4, 5, 6, '????'])\n"
     ]
    }
   ],
   "source": [
    "t = (1,2,3,[4,5,6])\n",
    "print(t)\n",
    "t[-1].append(\"????\")\n",
    "print(t)\n"
   ]
  },
  {
   "cell_type": "markdown",
   "metadata": {
    "slideshow": {
     "slide_type": "slide"
    }
   },
   "source": [
    "## Balio anitzak bueltatzen dituzten funtzioak\n",
    "\n",
    "* Funtzioek objektu/balio bakarra bueltatzen dute\n",
    "* Bueltatzen duten objektua sekuentzia bat izan daiteke\n",
    "* *N* balio bueltatu nahi dugunean, *N-Kote* bat erabili"
   ]
  },
  {
   "cell_type": "code",
   "execution_count": 4,
   "metadata": {
    "slideshow": {
     "slide_type": "fragment"
    }
   },
   "outputs": [
    {
     "name": "stdout",
     "output_type": "stream",
     "text": [
      "17 = 5 x 3 + 2\n"
     ]
    }
   ],
   "source": [
    "def zatidura_osoa_hondarra(a,b):\n",
    "    n = 0\n",
    "    while a >= b :\n",
    "        a -= b\n",
    "        n += 1\n",
    "    return n,a\n",
    "\n",
    "z,h = zatidura_osoa_hondarra(17,5)\n",
    "print(f'17 = 5 x {z} + {h}')\n"
   ]
  },
  {
   "cell_type": "markdown",
   "metadata": {
    "slideshow": {
     "slide_type": "-"
    }
   },
   "source": [
    "<table border=\"0\" width=\"100%\" style=\"margin: 0px;\">\n",
    "<tr>  \n",
    "  <td style=\"text-align:left\"><a href=\"Zerrendak.ipynb\">&lt; &lt; Zerrendak &lt; &lt;</a></td>\n",
    "  <td style=\"text-align:right\"><a href=\"Hiztegiak.ipynb\">&gt; &gt; Hiztegiak &gt; &gt;</a></td>\n",
    "</tr>\n",
    "</table>"
   ]
  }
 ],
 "metadata": {
  "celltoolbar": "Slideshow",
  "kernelspec": {
   "display_name": "Python 3",
   "language": "python",
   "name": "python3"
  },
  "language_info": {
   "codemirror_mode": {
    "name": "ipython",
    "version": 3
   },
   "file_extension": ".py",
   "mimetype": "text/x-python",
   "name": "python",
   "nbconvert_exporter": "python",
   "pygments_lexer": "ipython3",
   "version": "3.7.6"
  },
  "rise": {
   "autolaunch": false,
   "footer": "<h2 align=\"center\">Konputaziorako Sarrera</h2>",
   "scroll": true
  }
 },
 "nbformat": 4,
 "nbformat_minor": 2
}
