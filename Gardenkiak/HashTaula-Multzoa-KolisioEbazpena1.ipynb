{
 "cells": [
  {
   "cell_type": "markdown",
   "metadata": {
    "slideshow": {
     "slide_type": "slide"
    }
   },
   "source": [
    "# Hash taula bidezko multzo baten inplementazioa\n",
    "\n",
    "## Kolisioen ebazpena I : Taula berdimentsionatu\n",
    "\n",
    "* $e$ elementu bati taulan dagokion posizioa: $i \\; = \\; hash(e)\\; \\% \\; N$\n",
    "   * $i$ posizioan $e$ elementua gordeko da\n",
    "   * Hutsik dagoen gelaxkan _balio berezi_ bat egongo da\n",
    "      * `None` balitz, ezingo genuke `None`-rik gorde\n",
    "* Kolisio bat ematen den bakoitzean, taularen tamaina handitu: bikoiztu, adibidez.\n",
    "* $LF \\; \\ll \\; 1$\n"
   ]
  },
  {
   "cell_type": "markdown",
   "metadata": {
    "slideshow": {
     "slide_type": "slide"
    }
   },
   "source": [
    "#### 0 - Multzo klasearen egitura"
   ]
  },
  {
   "cell_type": "code",
   "execution_count": 47,
   "metadata": {
    "slideshow": {
     "slide_type": "-"
    }
   },
   "outputs": [],
   "source": [
    "class myset():\n",
    "    \n",
    "    def __init__(self, init_size=10):\n",
    "        self.EMPTY = object()\n",
    "        self.t = [self.EMPTY] * init_size"
   ]
  },
  {
   "cell_type": "code",
   "execution_count": 48,
   "metadata": {
    "slideshow": {
     "slide_type": "-"
    }
   },
   "outputs": [
    {
     "name": "stdout",
     "output_type": "stream",
     "text": [
      "[<object object at 0x7f31dcadbd10>, <object object at 0x7f31dcadbd10>, <object object at 0x7f31dcadbd10>, <object object at 0x7f31dcadbd10>, <object object at 0x7f31dcadbd10>, <object object at 0x7f31dcadbd10>, <object object at 0x7f31dcadbd10>, <object object at 0x7f31dcadbd10>, <object object at 0x7f31dcadbd10>, <object object at 0x7f31dcadbd10>]\n",
      "[<object object at 0x7f31dcadbe50>, <object object at 0x7f31dcadbe50>, <object object at 0x7f31dcadbe50>]\n"
     ]
    }
   ],
   "source": [
    "s = myset()\n",
    "print(s.t)\n",
    "s = myset(3)\n",
    "print(s.t)"
   ]
  },
  {
   "cell_type": "code",
   "execution_count": 50,
   "metadata": {
    "slideshow": {
     "slide_type": "slide"
    }
   },
   "outputs": [],
   "source": [
    "class empty(object):\n",
    "    def __repr__(self):\n",
    "        return \"✗\"\n",
    "\n",
    "class myset():\n",
    "    \n",
    "    def __init__(self, init_size=10): # t(n) = 1 + init_size\n",
    "        self.EMPTY = empty()\n",
    "        self.t = [self.EMPTY] * init_size"
   ]
  },
  {
   "cell_type": "code",
   "execution_count": 51,
   "metadata": {
    "slideshow": {
     "slide_type": "-"
    }
   },
   "outputs": [
    {
     "name": "stdout",
     "output_type": "stream",
     "text": [
      "[✗, ✗, ✗, ✗, ✗, ✗, ✗, ✗, ✗, ✗]\n",
      "[✗, ✗, ✗]\n"
     ]
    }
   ],
   "source": [
    "s = myset()\n",
    "print(s.t)\n",
    "s = myset(3)\n",
    "print(s.t)"
   ]
  },
  {
   "cell_type": "markdown",
   "metadata": {
    "slideshow": {
     "slide_type": "slide"
    }
   },
   "source": [
    "#### 1 - Multzoen `add(e)`-en baliokidea (kolisioak kontuan izan gabe)"
   ]
  },
  {
   "cell_type": "code",
   "execution_count": 52,
   "metadata": {
    "slideshow": {
     "slide_type": "-"
    }
   },
   "outputs": [],
   "source": [
    "class myset():\n",
    "    class empty(object):\n",
    "        def __repr__(self):\n",
    "            return \"✗\"\n",
    "    \n",
    "    def __init__(self, init_size=10): # t(n) = 1 + init_size\n",
    "        self.EMPTY = empty()\n",
    "        self.t = [self.EMPTY] * init_size\n",
    "        \n",
    "    def add(self,e): # t(n) = 1\n",
    "        i = hash(e) % len(self.t)\n",
    "        self.t[i] = e\n",
    "        "
   ]
  },
  {
   "cell_type": "code",
   "execution_count": 53,
   "metadata": {
    "slideshow": {
     "slide_type": "-"
    }
   },
   "outputs": [
    {
     "name": "stdout",
     "output_type": "stream",
     "text": [
      "['Jon', ✗, 'Nora', 'Ane', 'Miren', ✗, ✗, 'Asier', ✗, ✗]\n"
     ]
    }
   ],
   "source": [
    "s = myset()\n",
    "for e in (\"Ane\",\"Jon\",\"Miren\",\"Asier\",\"Nora\"):\n",
    "    s.add(e)\n",
    "print(s.t)"
   ]
  },
  {
   "cell_type": "markdown",
   "metadata": {
    "slideshow": {
     "slide_type": "slide"
    }
   },
   "source": [
    "Kolisiorik kontuan hartu ez dugunez, bi baliori (`Ane` eta `Eneritz` adibidez) posizio bera egokitu dakieke:"
   ]
  },
  {
   "cell_type": "code",
   "execution_count": 54,
   "metadata": {
    "slideshow": {
     "slide_type": "-"
    }
   },
   "outputs": [
    {
     "name": "stdout",
     "output_type": "stream",
     "text": [
      "['Jon', ✗, 'Nora', 'Eneritz', 'Miren', 'Aiala', ✗, 'Asier', ✗, ✗]\n"
     ]
    }
   ],
   "source": [
    "s = myset()\n",
    "for e in (\"Ane\",\"Jon\",\"Miren\",\"Asier\",\"Nora\",\"Aiala\",\"Eneritz\"):\n",
    "    s.add(e)\n",
    "print(s.t)"
   ]
  },
  {
   "cell_type": "markdown",
   "metadata": {
    "slideshow": {
     "slide_type": "slide"
    }
   },
   "source": [
    "#### 2 - Multzoen `set(iterable)`-en baliokidea (kolisioak kontuan izan gabe)"
   ]
  },
  {
   "cell_type": "code",
   "execution_count": 55,
   "metadata": {
    "slideshow": {
     "slide_type": "-"
    }
   },
   "outputs": [],
   "source": [
    "class myset():\n",
    "    \n",
    "    def __init__(self, iterable=tuple(), init_size=10): # t(n) = 1 + init_size + len(iterable)\n",
    "        self.EMPTY = empty()\n",
    "        self.t = [self.EMPTY] * init_size\n",
    "        for e in iterable:\n",
    "            self.add(e)\n",
    "        \n",
    "    def add(self,e): # t(n) = 1\n",
    "        i = hash(e) % len(self.t)\n",
    "        self.t[i] = e\n",
    "        "
   ]
  },
  {
   "cell_type": "code",
   "execution_count": 56,
   "metadata": {
    "slideshow": {
     "slide_type": "slide"
    }
   },
   "outputs": [
    {
     "name": "stdout",
     "output_type": "stream",
     "text": [
      "['Jon', ✗, 'Nora', 'Ane', 'Miren', ✗, ✗, 'Asier', ✗, ✗]\n"
     ]
    }
   ],
   "source": [
    "s = myset([\"Ane\",\"Jon\",\"Miren\",\"Asier\",\"Nora\"])\n",
    "print(s.t)"
   ]
  },
  {
   "cell_type": "code",
   "execution_count": 57,
   "metadata": {
    "slideshow": {
     "slide_type": "-"
    }
   },
   "outputs": [
    {
     "name": "stdout",
     "output_type": "stream",
     "text": [
      "['Jon', ✗, 'Nora', 'Eneritz', 'Miren', 'Aiala', ✗, 'Asier', ✗, ✗]\n"
     ]
    }
   ],
   "source": [
    "s = myset([\"Ane\",\"Jon\",\"Miren\",\"Asier\",\"Nora\",\"Aiala\",\"Eneritz\"])\n",
    "print(s.t)"
   ]
  },
  {
   "cell_type": "markdown",
   "metadata": {
    "slideshow": {
     "slide_type": "slide"
    }
   },
   "source": [
    "#### 3 - Multzoen `len()`-en baliokidea"
   ]
  },
  {
   "cell_type": "code",
   "execution_count": 58,
   "metadata": {
    "slideshow": {
     "slide_type": "-"
    }
   },
   "outputs": [],
   "source": [
    "class myset():\n",
    "    \n",
    "    def __init__(self, iterable=tuple(), init_size=10): # t(n) = 1 + init_size + len(iterable)\n",
    "        self.EMPTY = empty()\n",
    "        self.t = [self.EMPTY] * init_size\n",
    "        for e in iterable:\n",
    "            self.add(e)\n",
    "        \n",
    "    def add(self,e): # t(n) = 1\n",
    "        i = hash(e) % len(self.t)\n",
    "        self.t[i] = e\n",
    "        \n",
    "    def __len__(self): # t(n) = N > n (N: taularen tamaina)\n",
    "        return sum(e != self.EMPTY for e in self.t)"
   ]
  },
  {
   "cell_type": "code",
   "execution_count": 59,
   "metadata": {
    "slideshow": {
     "slide_type": "slide"
    }
   },
   "outputs": [
    {
     "name": "stdout",
     "output_type": "stream",
     "text": [
      "['Jon', ✗, 'Nora', 'Ane', 'Miren', ✗, ✗, 'Asier', ✗, ✗]\n",
      "5\n"
     ]
    }
   ],
   "source": [
    "s = myset([\"Ane\",\"Jon\",\"Miren\",\"Asier\",\"Nora\"])\n",
    "print(s.t)\n",
    "print(len(s))"
   ]
  },
  {
   "cell_type": "markdown",
   "metadata": {
    "slideshow": {
     "slide_type": "slide"
    }
   },
   "source": [
    "Kontadore bat eraman dezakegu, pauso bakarrean egiteko"
   ]
  },
  {
   "cell_type": "code",
   "execution_count": 60,
   "metadata": {
    "slideshow": {
     "slide_type": "-"
    }
   },
   "outputs": [],
   "source": [
    "class myset():\n",
    "    \n",
    "    def __init__(self, iterable=tuple(), init_size=10): # t(n) = 1 + init_size + len(iterable)\n",
    "        self.EMPTY = empty()\n",
    "        self.t = [self.EMPTY] * init_size\n",
    "        self.n = 0\n",
    "        for e in iterable:\n",
    "            self.add(e)\n",
    "        \n",
    "    def add(self,e): # t(n) = 1\n",
    "        i = hash(e) % len(self.t)\n",
    "        if self.t[i] == self.EMPTY:\n",
    "            self.t[i] = e\n",
    "            self.n += 1\n",
    "        \n",
    "    def __len__(self): # t(n) = 1\n",
    "        return self.n"
   ]
  },
  {
   "cell_type": "code",
   "execution_count": 61,
   "metadata": {
    "slideshow": {
     "slide_type": "slide"
    }
   },
   "outputs": [
    {
     "name": "stdout",
     "output_type": "stream",
     "text": [
      "['Jon', ✗, 'Nora', 'Ane', 'Miren', ✗, ✗, 'Asier', ✗, ✗]\n",
      "5\n"
     ]
    }
   ],
   "source": [
    "s = myset([\"Ane\",\"Jon\",\"Miren\",\"Asier\",\"Nora\"])\n",
    "print(s.t)\n",
    "print(len(s))"
   ]
  },
  {
   "cell_type": "markdown",
   "metadata": {
    "slideshow": {
     "slide_type": "slide"
    }
   },
   "source": [
    "#### 4 - ITERAGARRITASUNA: Multzoen `iter()`-en baliokidea"
   ]
  },
  {
   "cell_type": "code",
   "execution_count": 62,
   "metadata": {
    "slideshow": {
     "slide_type": "-"
    }
   },
   "outputs": [],
   "source": [
    "class myset():\n",
    "    \n",
    "    def __init__(self, iterable=tuple(), init_size=10): # t(n) = 1 + init_size + len(iterable)\n",
    "        self.EMPTY = empty()\n",
    "        self.t = [self.EMPTY] * init_size\n",
    "        self.n = 0\n",
    "        for e in iterable:\n",
    "            self.add(e)\n",
    "        \n",
    "    def add(self,e): # t(n) = 1\n",
    "        i = hash(e) % len(self.t)\n",
    "        if self.t[i] == self.EMPTY:\n",
    "            self.t[i] = e\n",
    "            self.n += 1\n",
    "        \n",
    "    def __len__(self): # t(n) = 1\n",
    "        return self.n\n",
    "    \n",
    "    def __iter__(self): # t(n) = 1 (zeharkatzean, N>>n)\n",
    "        for e in self.t:\n",
    "            if e != self.EMPTY :\n",
    "                yield e"
   ]
  },
  {
   "cell_type": "code",
   "execution_count": 67,
   "metadata": {
    "slideshow": {
     "slide_type": "slide"
    }
   },
   "outputs": [
    {
     "name": "stdout",
     "output_type": "stream",
     "text": [
      "Jon Nora Ane Miren Asier\n",
      "['Jon', 'Nora', 'Ane', 'Miren', 'Asier']\n"
     ]
    }
   ],
   "source": [
    "s = myset([\"Ane\",\"Jon\",\"Miren\",\"Asier\",\"Nora\"])\n",
    "#print(s.t)\n",
    "print(*s)\n",
    "print(list(s))"
   ]
  },
  {
   "cell_type": "markdown",
   "metadata": {
    "slideshow": {
     "slide_type": "slide"
    }
   },
   "source": [
    "#### 5 - Multzoen `str()`-en baliokidea"
   ]
  },
  {
   "cell_type": "code",
   "execution_count": 68,
   "metadata": {
    "slideshow": {
     "slide_type": "-"
    }
   },
   "outputs": [],
   "source": [
    "class myset():\n",
    "    \n",
    "    def __init__(self, iterable=tuple(), init_size=10): # t(n) = 1 + init_size + len(iterable)\n",
    "        self.EMPTY = empty()\n",
    "        self.t = [self.EMPTY] * init_size\n",
    "        self.n = 0\n",
    "        for e in iterable:\n",
    "            self.add(e)\n",
    "        \n",
    "    def add(self,e): # t(n) = 1\n",
    "        i = hash(e) % len(self.t)\n",
    "        if self.t[i] == self.EMPTY:\n",
    "            self.t[i] = e\n",
    "            self.n += 1\n",
    "        \n",
    "    def __len__(self): # t(n) = 1\n",
    "        return self.n\n",
    "    \n",
    "    def __iter__(self): # t(n) = 1 (zeharkatzean, N>>n)\n",
    "        for e in self.t:\n",
    "            if e != self.EMPTY :\n",
    "                yield e\n",
    "                \n",
    "    def __str__(self): # t(n) = N>>n\n",
    "        return \"{\" + \", \".join(repr(e) for e in self) + \"}\""
   ]
  },
  {
   "cell_type": "code",
   "execution_count": 69,
   "metadata": {
    "slideshow": {
     "slide_type": "slide"
    }
   },
   "outputs": [
    {
     "name": "stdout",
     "output_type": "stream",
     "text": [
      "['Jon', ✗, 'Nora', 'Ane', 'Miren', ✗, ✗, 'Asier', ✗, ✗]\n",
      "{'Jon', 'Nora', 'Ane', 'Miren', 'Asier'}\n"
     ]
    }
   ],
   "source": [
    "s = myset([\"Ane\",\"Jon\",\"Miren\",\"Asier\",\"Nora\"])\n",
    "print(s.t)\n",
    "print(s)"
   ]
  },
  {
   "cell_type": "markdown",
   "metadata": {
    "slideshow": {
     "slide_type": "slide"
    }
   },
   "source": [
    "#### 6 - Multzoen `e in set`-en baliokidea  $\\to$  `set.__contains__(self,e):`"
   ]
  },
  {
   "cell_type": "markdown",
   "metadata": {
    "slideshow": {
     "slide_type": "-"
    }
   },
   "source": [
    "`__contains__` ez badago eta objektua iteragarria bada, defektuzko `__contains__`:\n",
    "\n",
    "```python\n",
    "def __contains__(self, e):\n",
    "    for x in self:\n",
    "        if x == e:\n",
    "            return True\n",
    "    return False\n",
    "```\n",
    "   * Kasu ona: elementua taulako lehenengo posizioan $t(n)=1 \\; \\to \\; \\Omega(1)$\n",
    "   * Kasu txarra: elementua ez dago taulan $t(n)=N \\gg n \\; \\to \\; O(N \\gg n)$\n",
    "   "
   ]
  },
  {
   "cell_type": "code",
   "execution_count": 70,
   "metadata": {
    "slideshow": {
     "slide_type": "-"
    }
   },
   "outputs": [
    {
     "name": "stdout",
     "output_type": "stream",
     "text": [
      "True False\n"
     ]
    }
   ],
   "source": [
    "s = myset([\"Ane\",\"Jon\",\"Miren\",\"Asier\",\"Nora\"])\n",
    "print(\"Ane\" in s , \"X\" in s)"
   ]
  },
  {
   "cell_type": "code",
   "execution_count": 71,
   "metadata": {
    "slideshow": {
     "slide_type": "slide"
    }
   },
   "outputs": [],
   "source": [
    "class myset():\n",
    "    \n",
    "    def __init__(self, iterable=tuple(), init_size=10): # t(n) = 1 + init_size + len(iterable)\n",
    "        self.EMPTY = empty()\n",
    "        self.t = [self.EMPTY] * init_size\n",
    "        self.n = 0\n",
    "        for e in iterable:\n",
    "            self.add(e)\n",
    "        \n",
    "    def add(self,e): # t(n) = 1\n",
    "        i = hash(e) % len(self.t)\n",
    "        if self.t[i] == self.EMPTY:\n",
    "            self.t[i] = e\n",
    "            self.n += 1\n",
    "        \n",
    "    def __len__(self): # t(n) = 1\n",
    "        return self.n\n",
    "    \n",
    "    def __iter__(self): # t(n) = 1 (zeharkatzean, N>>n)\n",
    "        for e in self.t:\n",
    "            if e != self.EMPTY :\n",
    "                yield e\n",
    "                \n",
    "    def __str__(self): # t(n) = N>>n\n",
    "        return \"{\" + \", \".join(repr(e) for e in self) + \"}\"\n",
    "    \n",
    "    def __contains__(self,e): # t(n) = 1\n",
    "        #print(\"Hemendik pasa da\")\n",
    "        i = hash(e) % len(self.t)\n",
    "        return self.t[i] == e"
   ]
  },
  {
   "cell_type": "code",
   "execution_count": 72,
   "metadata": {
    "slideshow": {
     "slide_type": "slide"
    }
   },
   "outputs": [
    {
     "name": "stdout",
     "output_type": "stream",
     "text": [
      "True False\n"
     ]
    }
   ],
   "source": [
    "s = myset([\"Ane\",\"Jon\",\"Miren\",\"Asier\",\"Nora\"])\n",
    "print(\"Ane\" in s , \"X\" in s)"
   ]
  },
  {
   "cell_type": "markdown",
   "metadata": {
    "slideshow": {
     "slide_type": "slide"
    }
   },
   "source": [
    "#### 7 - Multzoen `set1 == set2`-en baliokidea  $\\to$  `set.__eq__(set1,set2):`"
   ]
  },
  {
   "cell_type": "markdown",
   "metadata": {
    "slideshow": {
     "slide_type": "-"
    }
   },
   "source": [
    "`__eq__` existitzen ez bada, defektuzko `__eq__`:\n",
    "\n",
    "```python\n",
    "def __eq__(self, other):\n",
    "    return self is other\n",
    "```"
   ]
  },
  {
   "cell_type": "code",
   "execution_count": 73,
   "metadata": {
    "slideshow": {
     "slide_type": "-"
    }
   },
   "outputs": [
    {
     "name": "stdout",
     "output_type": "stream",
     "text": [
      "['Jon', ✗, 'Nora', 'Ane', 'Miren', ✗, ✗, 'Asier', ✗, ✗]\n",
      "['Jon', ✗, 'Nora', 'Ane', 'Miren', ✗, ✗, 'Asier', ✗, ✗]\n",
      "False\n"
     ]
    }
   ],
   "source": [
    "s1 = myset([\"Ane\",\"Jon\",\"Miren\",\"Asier\",\"Nora\"])\n",
    "s2 = myset([\"Jon\",\"Ane\",\"Asier\",\"Miren\",\"Nora\"])\n",
    "print(s1.t)\n",
    "print(s2.t)\n",
    "print(s1 == s2)"
   ]
  },
  {
   "cell_type": "code",
   "execution_count": null,
   "metadata": {
    "slideshow": {
     "slide_type": "slide"
    }
   },
   "outputs": [],
   "source": [
    "class myset():\n",
    "    \n",
    "    def __init__(self, iterable=tuple(), init_size=10): # t(n) = 1 + init_size + len(iterable)\n",
    "        self.EMPTY = empty()\n",
    "        self.t = [self.EMPTY] * init_size\n",
    "        self.n = 0\n",
    "        for e in iterable:\n",
    "            self.add(e)\n",
    "        \n",
    "    def add(self,e): # t(n) = 1\n",
    "        i = hash(e) % len(self.t)\n",
    "        if self.t[i] == self.EMPTY:\n",
    "            self.t[i] = e\n",
    "            self.n += 1\n",
    "        \n",
    "    def __len__(self): # t(n) = 1\n",
    "        return self.n\n",
    "    \n",
    "    def __iter__(self): # t(n) = 1 (zeharkatzean, N>>n)\n",
    "        for e in self.t:\n",
    "            if e != self.EMPTY :\n",
    "                yield e\n",
    "                \n",
    "    def __str__(self): # t(n) = N>>n\n",
    "        return \"{\" + \", \".join(repr(e) for e in self) + \"}\"\n",
    "    \n",
    "    def __contains__(self,e): # t(n) = 1\n",
    "        #print(\"Hemendik pasa da\")\n",
    "        i = hash(e) % len(self.t)\n",
    "        return self.t[i] == e\n",
    "    \n",
    "    def __eq__(self, other): # t(n) = [1,N>>n]\n",
    "        # HAU EZ DA ZUZENA!!!\n",
    "        # 1 - Multzo bakoitzeko EMPTY-ak (self.EMPTY) ezberdinak direlako\n",
    "        # 2 - Berdinak izango balira ere (empty klasean __eq__ sortu) taulek\n",
    "        #     ez dute zertan tamaina berdina izan behar\n",
    "        return type(other) == myset and len(self)==len(other) and self.t == other.t        "
   ]
  },
  {
   "cell_type": "markdown",
   "metadata": {
    "slideshow": {
     "slide_type": "slide"
    }
   },
   "source": [
    "Multzo bakoitzeko `EMPTY`-ak (`self.EMPTY`) ezberdinak dira:"
   ]
  },
  {
   "cell_type": "code",
   "execution_count": null,
   "metadata": {
    "slideshow": {
     "slide_type": "-"
    }
   },
   "outputs": [],
   "source": [
    "s1 = myset([\"Ane\",\"Jon\",\"Miren\",\"Asier\",\"Nora\"])\n",
    "s2 = myset([\"Ane\",\"Jon\",\"Miren\",\"Asier\",\"Nora\"])\n",
    "print(s1.t)\n",
    "print(s2.t)\n",
    "print(s1.t == s2.t)\n",
    "print(s1.t[1], s2.t[1], s1.t[1]==s2.t[1])"
   ]
  },
  {
   "cell_type": "markdown",
   "metadata": {
    "slideshow": {
     "slide_type": "fragment"
    }
   },
   "source": [
    "Berdinak izango balira ere, baliokideak diren bi multzoen taulek ez dute zertan tamaina berdina izan behar:"
   ]
  },
  {
   "cell_type": "code",
   "execution_count": null,
   "metadata": {
    "slideshow": {
     "slide_type": "-"
    }
   },
   "outputs": [],
   "source": [
    "s1 = myset([\"Ane\",\"Jon\",\"Miren\",\"Asier\",\"Nora\"], init_size=7)\n",
    "s2 = myset([\"Ane\",\"Jon\",\"Miren\",\"Asier\",\"Nora\"], init_size=10)\n",
    "print(s1.t)\n",
    "print(s2.t)"
   ]
  },
  {
   "cell_type": "code",
   "execution_count": 74,
   "metadata": {
    "slideshow": {
     "slide_type": "slide"
    }
   },
   "outputs": [],
   "source": [
    "class myset():\n",
    "    \n",
    "    # Beharrezkoa ez bada ere, orain EMPTY guztiak objektu berdina dira\n",
    "    # self.EMPTY --> myset.EMPTY\n",
    "    EMPTY = empty()\n",
    "    \n",
    "    def __init__(self, iterable=tuple(), init_size=10): # t(n) = 1 + init_size + len(iterable)\n",
    "        self.t = [myset.EMPTY] * init_size\n",
    "        self.n = 0\n",
    "        for e in iterable:\n",
    "            self.add(e)\n",
    "        \n",
    "    def add(self,e): # t(n) = 1\n",
    "        i = hash(e) % len(self.t)\n",
    "        if self.t[i] == myset.EMPTY:\n",
    "            self.t[i] = e\n",
    "            self.n += 1\n",
    "        \n",
    "    def __len__(self): # t(n) = 1\n",
    "        return self.n\n",
    "    \n",
    "    def __iter__(self): # t(n) = 1 (zeharkatzean, N>>n)\n",
    "        for e in self.t:\n",
    "            if e != myset.EMPTY :\n",
    "                yield e\n",
    "                \n",
    "    def __str__(self): # t(n) = N>>n\n",
    "        return \"{\" + \", \".join(repr(e) for e in self) + \"}\"\n",
    "    \n",
    "    def __contains__(self,e): # t(n) = 1\n",
    "        #print(\"Hemendik pasa da\")\n",
    "        i = hash(e) % len(self.t)\n",
    "        return self.t[i] == e\n",
    "    \n",
    "    def __eq__(self, other): # t(n) = [1,N>n]\n",
    "        return type(other) == myset and len(self)==len(other) and all(x in other for x in self)        "
   ]
  },
  {
   "cell_type": "code",
   "execution_count": 75,
   "metadata": {
    "slideshow": {
     "slide_type": "slide"
    }
   },
   "outputs": [
    {
     "name": "stdout",
     "output_type": "stream",
     "text": [
      "['Jon', ✗, 'Nora', 'Ane', 'Miren', ✗, ✗, 'Asier', ✗, ✗]\n",
      "['Jon', ✗, 'Nora', 'Ane', 'Miren', ✗, ✗, 'Asier', ✗, ✗]\n",
      "True\n",
      "✗ ✗ True\n",
      "True\n"
     ]
    }
   ],
   "source": [
    "s1 = myset([\"Ane\",\"Jon\",\"Miren\",\"Asier\",\"Nora\"])\n",
    "s2 = myset([\"Ane\",\"Jon\",\"Miren\",\"Asier\",\"Nora\"])\n",
    "print(s1.t)\n",
    "print(s2.t)\n",
    "print(s1.t == s2.t)\n",
    "print(s1.t[1], s2.t[1], s1.t[1]==s2.t[1])\n",
    "print(s1 == s2)"
   ]
  },
  {
   "cell_type": "code",
   "execution_count": 76,
   "metadata": {
    "slideshow": {
     "slide_type": "fragment"
    }
   },
   "outputs": [
    {
     "name": "stdout",
     "output_type": "stream",
     "text": [
      "[✗, 'Miren', 'Jon', ✗, 'Ane', 'Nora', 'Asier']\n",
      "['Jon', ✗, 'Nora', 'Ane', 'Miren', ✗, ✗, 'Asier', ✗, ✗]\n",
      "False\n",
      "True\n"
     ]
    }
   ],
   "source": [
    "s1 = myset([\"Ane\",\"Jon\",\"Miren\",\"Asier\",\"Nora\"], init_size=7)\n",
    "s2 = myset([\"Ane\",\"Jon\",\"Miren\",\"Asier\",\"Nora\"], init_size=10)\n",
    "print(s1.t)\n",
    "print(s2.t)\n",
    "print(s1.t == s2.t)\n",
    "print(s1 == s2)"
   ]
  },
  {
   "cell_type": "markdown",
   "metadata": {
    "slideshow": {
     "slide_type": "slide"
    }
   },
   "source": [
    "#### 8 - Multzoen `repr()`-en baliokidea $\\to$  `__repr__(self):`\n",
    "\n",
    "**GOGORATU:**\n",
    "\n",
    "```python\n",
    "s = myset(...)\n",
    "s == eval(repr(s))\n",
    "```"
   ]
  },
  {
   "cell_type": "code",
   "execution_count": 77,
   "metadata": {
    "slideshow": {
     "slide_type": "slide"
    }
   },
   "outputs": [],
   "source": [
    "class myset():\n",
    "    \n",
    "    EMPTY = empty()\n",
    "    \n",
    "    def __init__(self, iterable=tuple(), init_size=10): # t(n) = 1 + init_size + len(iterable)\n",
    "        self.t = [myset.EMPTY] * init_size\n",
    "        self.n = 0\n",
    "        for e in iterable:\n",
    "            self.add(e)\n",
    "        \n",
    "    def add(self,e): # t(n) = 1\n",
    "        i = hash(e) % len(self.t)\n",
    "        if self.t[i] == myset.EMPTY:\n",
    "            self.t[i] = e\n",
    "            self.n += 1\n",
    "        \n",
    "    def __len__(self): # t(n) = 1\n",
    "        return self.n\n",
    "    \n",
    "    def __iter__(self): # t(n) = 1 (zeharkatzean, N>>n)\n",
    "        for e in self.t:\n",
    "            if e != myset.EMPTY :\n",
    "                yield e\n",
    "                \n",
    "    def __str__(self): # t(n) = N>>n\n",
    "        return \"{\" + \", \".join(repr(e) for e in self) + \"}\"\n",
    "    \n",
    "    def __repr__(self): # t(n) = N>>n\n",
    "        return f'myset({list(self)})'\n",
    "\n",
    "    def __contains__(self,e): # t(n) = 1\n",
    "        #print(\"Hemendik pasa da\")\n",
    "        i = hash(e) % len(self.t)\n",
    "        return self.t[i] == e\n",
    "    \n",
    "    def __eq__(self, other): # t(n) = [1,N>n]\n",
    "        return type(other) == myset and len(self)==len(other) and all(x in other for x in self)        "
   ]
  },
  {
   "cell_type": "code",
   "execution_count": 78,
   "metadata": {},
   "outputs": [
    {
     "name": "stdout",
     "output_type": "stream",
     "text": [
      "myset(['Jon', 'Nora', 'Ane', 'Miren', 'Asier'])\n",
      "True\n"
     ]
    }
   ],
   "source": [
    "s = myset([\"Ane\",\"Jon\",\"Miren\",\"Asier\",\"Nora\"])\n",
    "print(repr(s))\n",
    "print(s == eval(repr(s)))"
   ]
  },
  {
   "cell_type": "markdown",
   "metadata": {
    "slideshow": {
     "slide_type": "slide"
    }
   },
   "source": [
    "#### 9 - Multzoen `set.clear()`-en baliokidea`"
   ]
  },
  {
   "cell_type": "code",
   "execution_count": 79,
   "metadata": {
    "slideshow": {
     "slide_type": "slide"
    }
   },
   "outputs": [],
   "source": [
    "class myset():\n",
    "    \n",
    "    EMPTY = empty()\n",
    "    \n",
    "    def __init__(self, iterable=tuple(), init_size=10): # t(n) = 1 + init_size + len(iterable)\n",
    "        self.init_size = init_size\n",
    "        self.t = [myset.EMPTY] * init_size\n",
    "        self.n = 0\n",
    "        for e in iterable:\n",
    "            self.add(e)\n",
    "        \n",
    "    def add(self,e): # t(n) = 1\n",
    "        i = hash(e) % len(self.t)\n",
    "        if self.t[i] == myset.EMPTY:\n",
    "            self.t[i] = e\n",
    "            self.n += 1\n",
    "        \n",
    "    def __len__(self): # t(n) = 1\n",
    "        return self.n\n",
    "    \n",
    "    def __iter__(self): # t(n) = 1 (zeharkatzean, N>>n)\n",
    "        for e in self.t:\n",
    "            if e != myset.EMPTY :\n",
    "                yield e\n",
    "                \n",
    "    def __str__(self): # t(n) = N>>n\n",
    "        return \"{\" + \", \".join(repr(e) for e in self) + \"}\"\n",
    "    \n",
    "    def __repr__(self): # t(n) = N>>n\n",
    "        return f'myset({list(self)})'\n",
    "\n",
    "    def __contains__(self,e): # t(n) = 1\n",
    "        #print(\"Hemendik pasa da\")\n",
    "        i = hash(e) % len(self.t)\n",
    "        return self.t[i] == e\n",
    "    \n",
    "    def __eq__(self, other): # t(n) = [1,N>n]\n",
    "        return type(other) == myset and len(self)==len(other) and all(x in other for x in self)\n",
    "    \n",
    "    def clear(self): # t(n) = 1 + init_size \n",
    "        self.t = [myset.EMPTY] * self.init_size\n",
    "        self.n = 0      "
   ]
  },
  {
   "cell_type": "code",
   "execution_count": 80,
   "metadata": {
    "slideshow": {
     "slide_type": "slide"
    }
   },
   "outputs": [
    {
     "name": "stdout",
     "output_type": "stream",
     "text": [
      "{'Jon', 'Nora', 'Ane', 'Miren', 'Asier'} 5\n",
      "{} 0\n"
     ]
    }
   ],
   "source": [
    "s = myset([\"Ane\",\"Jon\",\"Miren\",\"Asier\",\"Nora\"])\n",
    "print(s,len(s))\n",
    "s.clear()\n",
    "print(s,len(s))"
   ]
  },
  {
   "cell_type": "markdown",
   "metadata": {},
   "source": [
    "#### 9 - Multzoen `set.remove()`-en baliokidea`"
   ]
  },
  {
   "cell_type": "code",
   "execution_count": null,
   "metadata": {},
   "outputs": [],
   "source": [
    "help(set.remove)\n",
    "#{1,2,3}.remove(4)"
   ]
  },
  {
   "cell_type": "code",
   "execution_count": null,
   "metadata": {
    "slideshow": {
     "slide_type": "slide"
    }
   },
   "outputs": [],
   "source": [
    "class myset():\n",
    "    \n",
    "    EMPTY = empty()\n",
    "    \n",
    "    def __init__(self, iterable=tuple(), init_size=10): # t(n) = 1 + init_size + len(iterable)\n",
    "        self.init_size = init_size\n",
    "        self.t = [myset.EMPTY] * init_size\n",
    "        self.n = 0\n",
    "        for e in iterable:\n",
    "            self.add(e)\n",
    "        \n",
    "    def add(self,e): # t(n) = 1\n",
    "        i = hash(e) % len(self.t)\n",
    "        if self.t[i] == myset.EMPTY:\n",
    "            self.t[i] = e\n",
    "            self.n += 1\n",
    "        \n",
    "    def __len__(self): # t(n) = 1\n",
    "        return self.n\n",
    "    \n",
    "    def __iter__(self): # t(n) = 1 (zeharkatzean, N>>n)\n",
    "        for e in self.t:\n",
    "            if e != myset.EMPTY :\n",
    "                yield e\n",
    "                \n",
    "    def __str__(self): # t(n) = N>>n\n",
    "        return \"{\" + \", \".join(repr(e) for e in self) + \"}\"\n",
    "    \n",
    "    def __repr__(self):\n",
    "        return f'myset({list(self)})'\n",
    "\n",
    "    def __contains__(self,e): # t(n) = 1\n",
    "        #print(\"Hemendik pasa da\")\n",
    "        i = hash(e) % len(self.t)\n",
    "        return self.t[i] == e\n",
    "    \n",
    "    def __eq__(self, other): # t(n) = [1,N>n]\n",
    "        return type(other) == myset and len(self)==len(other) and all(x in other for x in self)\n",
    "    \n",
    "    def clear(self): # t(n) = 1 + init_size \n",
    "        self.t = [myset.EMPTY] * self.init_size\n",
    "        self.n = 0\n",
    "\n",
    "    def remove(self,e): # t(n) = 1\n",
    "        i = hash(e) % len(self.t)\n",
    "        if self.t[i] == e :\n",
    "            self.t[i] = myset.EMPTY\n",
    "            self.n -= 1\n",
    "        else :\n",
    "            raise KeyError(e)"
   ]
  },
  {
   "cell_type": "code",
   "execution_count": null,
   "metadata": {
    "slideshow": {
     "slide_type": "slide"
    }
   },
   "outputs": [],
   "source": [
    "s = myset([\"Ane\",\"Jon\",\"Miren\",\"Asier\",\"Nora\"])\n",
    "print(s,len(s))\n",
    "s.remove(\"Jon\")\n",
    "print(s,len(s))\n",
    "#s.remove(\"Jon\")"
   ]
  },
  {
   "cell_type": "markdown",
   "metadata": {
    "slideshow": {
     "slide_type": "slide"
    }
   },
   "source": [
    "#### 10 - Multzoen `set.pop()`-en baliokidea`"
   ]
  },
  {
   "cell_type": "code",
   "execution_count": null,
   "metadata": {
    "slideshow": {
     "slide_type": "-"
    }
   },
   "outputs": [],
   "source": [
    "help(set.pop)\n",
    "print(\"-\"*60)\n",
    "s = set([\"Ane\",\"Jon\",\"Miren\",\"Asier\",\"Nora\"])\n",
    "print(s)\n",
    "print(s.pop())\n",
    "print(s,len(s))\n",
    "s = set()\n",
    "#s.pop()"
   ]
  },
  {
   "cell_type": "code",
   "execution_count": null,
   "metadata": {
    "slideshow": {
     "slide_type": "slide"
    }
   },
   "outputs": [],
   "source": [
    "class myset():\n",
    "    \n",
    "    EMPTY = empty()\n",
    "    \n",
    "    def __init__(self, iterable=tuple(), init_size=10): # t(n) = 1 + init_size + len(iterable)\n",
    "        self.init_size = init_size\n",
    "        self.t = [myset.EMPTY] * init_size\n",
    "        self.n = 0\n",
    "        for e in iterable:\n",
    "            self.add(e)\n",
    "        \n",
    "    def add(self,e): # t(n) = 1\n",
    "        i = hash(e) % len(self.t)\n",
    "        if self.t[i] == myset.EMPTY:\n",
    "            self.t[i] = e\n",
    "            self.n += 1\n",
    "        \n",
    "    def __len__(self): # t(n) = 1\n",
    "        return self.n\n",
    "    \n",
    "    def __iter__(self): # t(n) = 1 (zeharkatzean, N>>n)\n",
    "        for e in self.t:\n",
    "            if e != myset.EMPTY :\n",
    "                yield e\n",
    "                \n",
    "    def __str__(self): # t(n) = N>>n\n",
    "        return \"{\" + \", \".join(repr(e) for e in self) + \"}\"\n",
    "    \n",
    "    def __repr__(self):\n",
    "        return f'myset({list(self)})'\n",
    "\n",
    "    def __contains__(self,e): # t(n) = 1\n",
    "        #print(\"Hemendik pasa da\")\n",
    "        i = hash(e) % len(self.t)\n",
    "        return self.t[i] == e\n",
    "    \n",
    "    def __eq__(self, other): # t(n) = [1,N>>n]\n",
    "        return type(other) == myset and len(self)==len(other) and all(x in other for x in self)\n",
    "    \n",
    "    def clear(self): # t(n) = 1 + init_size \n",
    "        self.t = [myset.EMPTY] * self.init_size\n",
    "        self.n = 0\n",
    "\n",
    "    def remove(self,e): # t(n) = 1\n",
    "        i = hash(e) % len(self.t)\n",
    "        if self.t[i] == e :\n",
    "            self.t[i] = myset.EMPTY\n",
    "            self.n -= 1\n",
    "        else :\n",
    "            raise KeyError(e)\n",
    "            \n",
    "    def pop(self): # t(n) = [1 , N>>n]\n",
    "        if len(self) == 0 :\n",
    "            raise KeyError('pop from an empty set')\n",
    "        for i,e in enumerate(self.t):\n",
    "            if e != myset.EMPTY:\n",
    "                self.t[i] = myset.EMPTY\n",
    "                self.n -= 1\n",
    "                return e"
   ]
  },
  {
   "cell_type": "code",
   "execution_count": null,
   "metadata": {
    "slideshow": {
     "slide_type": "slide"
    }
   },
   "outputs": [],
   "source": [
    "s = myset([\"Ane\",\"Jon\",\"Miren\",\"Asier\",\"Nora\"])\n",
    "print(s)\n",
    "print(s.pop())\n",
    "print(s,len(s))\n",
    "s = myset()\n",
    "#s.pop()"
   ]
  },
  {
   "cell_type": "markdown",
   "metadata": {
    "slideshow": {
     "slide_type": "slide"
    }
   },
   "source": [
    "#### 11 - KOLISIOAK kontuan izan\n",
    "\n",
    "* Kolisio bat ematen den bakoitzean, taularen tamaina handitu: bikoiztu, adibidez.\n",
    "* Kolisioak soilik `add(self,e)` metodoan gerta daitezke."
   ]
  },
  {
   "cell_type": "code",
   "execution_count": null,
   "metadata": {
    "slideshow": {
     "slide_type": "slide"
    }
   },
   "outputs": [],
   "source": [
    "class myset():\n",
    "    \n",
    "    EMPTY = empty()\n",
    "    \n",
    "    def __init__(self, iterable=tuple(), init_size=10): # t(n) = 1 + init_size + len(iterable)\n",
    "        self.init_size = init_size\n",
    "        self.t = [myset.EMPTY] * init_size\n",
    "        self.n = 0\n",
    "        for e in iterable:\n",
    "            self.add(e)\n",
    "        \n",
    "    def add(self,e): # t(n) = [1,inf]\n",
    "        i = hash(e) % len(self.t)\n",
    "        if self.t[i] == myset.EMPTY:\n",
    "            self.t[i] = e\n",
    "            self.n += 1\n",
    "        elif self.t[i] != e :\n",
    "            # Kolisio bat!!!\n",
    "            self.resize(len(self.t) * 2)\n",
    "            self.add(e)\n",
    "    \n",
    "    # Bertsio ez errekurtsiboa\n",
    "    def resize(self,new_size): # t(n) = [ N>>n, inf ]\n",
    "        # elementu guztiak zerrenda batean jarri\n",
    "        elements = list(self)\n",
    "        while True :\n",
    "            # taula berdimentsionatu\n",
    "            self.t = [myset.EMPTY] * new_size\n",
    "            # elementu guztiak kokatzen saiatu\n",
    "            for e in elements :\n",
    "                i = hash(e) % len(self.t)\n",
    "                if self.t[i] == myset.EMPTY:\n",
    "                    self.t[i] = e\n",
    "                else :\n",
    "                    break\n",
    "            else :\n",
    "                return\n",
    "            new_size *= 2\n",
    "    \n",
    "    # Bertsio errekurtsiboa\n",
    "    def resize(self,new_size): # t(n) = [ N>>n, inf ]\n",
    "        # elementu guztiak zerrenda batean jarri\n",
    "        elements = list(self)\n",
    "        # taula berdimentsionatu hutsa sortu\n",
    "        self.t = [myset.EMPTY] * new_size\n",
    "        self.n = 0\n",
    "        # elementu guztiak taulan berriro gorde\n",
    "        for e in elements :\n",
    "            self.add(e)\n",
    "        \n",
    "        \n",
    "    def __len__(self): # t(n) = 1\n",
    "        return self.n\n",
    "    \n",
    "    def __iter__(self): # t(n) = 1 (zeharkatzean, N>>n)\n",
    "        for e in self.t:\n",
    "            if e != myset.EMPTY :\n",
    "                yield e\n",
    "                \n",
    "    def __str__(self): # t(n) = N>>n\n",
    "        return \"{\" + \", \".join(repr(e) for e in self) + \"}\"\n",
    "    \n",
    "    def __repr__(self):\n",
    "        return f'myset({list(self)})'\n",
    "\n",
    "    def __contains__(self,e): # t(n) = 1\n",
    "        #print(\"Hemendik pasa da\")\n",
    "        i = hash(e) % len(self.t)\n",
    "        return self.t[i] == e\n",
    "    \n",
    "    def __eq__(self, other): # t(n) = [1,N>>n]\n",
    "        return type(other) == myset and len(self)==len(other) and all(x in other for x in self)\n",
    "    \n",
    "    def clear(self): # t(n) = 1 + init_size \n",
    "        self.t = [myset.EMPTY] * self.init_size\n",
    "        self.n = 0\n",
    "\n",
    "    def remove(self,e): # t(n) = 1\n",
    "        i = hash(e) % len(self.t)\n",
    "        if self.t[i] == e :\n",
    "            self.t[i] = myset.EMPTY\n",
    "            self.n -= 1\n",
    "        else :\n",
    "            raise KeyError(e)\n",
    "            \n",
    "    def pop(self): # t(n) = [1 , N>>n]\n",
    "        if len(self) == 0 :\n",
    "            raise KeyError('pop from an empty set')\n",
    "        for i,e in enumerate(self.t):\n",
    "            if e != myset.EMPTY:\n",
    "                self.t[i] = myset.EMPTY\n",
    "                self.n -= 1\n",
    "                return e"
   ]
  },
  {
   "cell_type": "code",
   "execution_count": null,
   "metadata": {},
   "outputs": [],
   "source": [
    "s = myset([\"Ane\",\"Jon\",\"Miren\",\"Asier\",\"Nora\"])\n",
    "print(s,len(s))\n",
    "print(s.t,len(s.t))\n",
    "s.add(\"Aiala\")\n",
    "print(s,len(s))\n",
    "print(s.t,len(s.t))\n",
    "s.add(\"Eneritz\")\n",
    "print(s,len(s))\n",
    "print(s.t,len(s.t))"
   ]
  },
  {
   "cell_type": "markdown",
   "metadata": {
    "slideshow": {
     "slide_type": "slide"
    }
   },
   "source": [
    "#### 12 - Taularen *karga faktorea* kalkulatuko duen `myset.lf()` funtzioa"
   ]
  },
  {
   "cell_type": "code",
   "execution_count": null,
   "metadata": {
    "slideshow": {
     "slide_type": "slide"
    }
   },
   "outputs": [],
   "source": [
    "class myset():\n",
    "    \n",
    "    EMPTY = empty()\n",
    "    \n",
    "    def __init__(self, iterable=tuple(), init_size=10): # t(n) = 1 + init_size + len(iterable)\n",
    "        self.init_size = init_size\n",
    "        self.t = [myset.EMPTY] * init_size\n",
    "        self.n = 0\n",
    "        for e in iterable:\n",
    "            self.add(e)\n",
    "        \n",
    "    def add(self,e): # t(n) = [1,inf]\n",
    "        i = hash(e) % len(self.t)\n",
    "        if self.t[i] == myset.EMPTY:\n",
    "            self.t[i] = e\n",
    "            self.n += 1\n",
    "        elif self.t[i] != e :\n",
    "            # Kolisio bat!!!\n",
    "            self.resize_and_add(e)\n",
    "    \n",
    "    def resize_and_add(self,e): # t(n) = [ N>>n, inf ]\n",
    "        # elementu guztiak zerrenda batean jarri\n",
    "        elements = list(self)\n",
    "        elements.append(e)\n",
    "        size = len(self.t)\n",
    "        while True :\n",
    "            size *= 2\n",
    "            # taula berdimentsionatu\n",
    "            self.t = [myset.EMPTY] * size\n",
    "            # elementu guztiak kokatzen saiatu\n",
    "            for e in elements :\n",
    "                i = hash(e) % len(self.t)\n",
    "                if self.t[i] == myset.EMPTY:\n",
    "                    self.t[i] = e\n",
    "                else :\n",
    "                    break\n",
    "            else :\n",
    "                self.n += 1\n",
    "                return\n",
    "    \n",
    "    def __len__(self): # t(n) = 1\n",
    "        return self.n\n",
    "    \n",
    "    def __iter__(self): # t(n) = 1 (zeharkatzean, N>>n)\n",
    "        for e in self.t:\n",
    "            if e != myset.EMPTY :\n",
    "                yield e\n",
    "                \n",
    "    def __str__(self): # t(n) = N>>n\n",
    "        return \"{\" + \", \".join(repr(e) for e in self) + \"}\"\n",
    "    \n",
    "    def __repr__(self):\n",
    "        return f'myset({list(self)})'\n",
    "\n",
    "    def __contains__(self,e): # t(n) = 1\n",
    "        #print(\"Hemendik pasa da\")\n",
    "        i = hash(e) % len(self.t)\n",
    "        return self.t[i] == e\n",
    "    \n",
    "    def __eq__(self, other): # t(n) = [1,N>>n]\n",
    "        return type(other) == myset and len(self)==len(other) and all(x in other for x in self)\n",
    "    \n",
    "    def clear(self): # t(n) = 1 + init_size \n",
    "        self.t = [myset.EMPTY] * self.init_size\n",
    "        self.n = 0\n",
    "\n",
    "    def remove(self,e): # t(n) = 1\n",
    "        i = hash(e) % len(self.t)\n",
    "        if self.t[i] == e :\n",
    "            self.t[i] = myset.EMPTY\n",
    "            self.n -= 1\n",
    "        else :\n",
    "            raise KeyError(e)\n",
    "            \n",
    "    def pop(self): # t(n) = [1 , N>>n]\n",
    "        if len(self) == 0 :\n",
    "            raise KeyError('pop from an empty set')\n",
    "        for i,e in enumerate(self.t):\n",
    "            if e != myset.EMPTY:\n",
    "                self.t[i] = myset.EMPTY\n",
    "                self.n -= 1\n",
    "                return e\n",
    "\n",
    "    def lf(self): # t(n) = 1\n",
    "        return self.n / len(self.t)\n",
    "        "
   ]
  },
  {
   "cell_type": "code",
   "execution_count": null,
   "metadata": {
    "slideshow": {
     "slide_type": "slide"
    }
   },
   "outputs": [],
   "source": [
    "s = myset()\n",
    "for e in [\"Ane\",\"Jon\",\"Miren\",\"Asier\",\"Nora\",\"Aiala\",\"Eneritz\"]:\n",
    "    s.add(e)\n",
    "    print(s,len(s),s.lf())"
   ]
  },
  {
   "cell_type": "markdown",
   "metadata": {
    "slideshow": {
     "slide_type": "slide"
    }
   },
   "source": [
    "Frogak egin ditzagun...."
   ]
  },
  {
   "cell_type": "code",
   "execution_count": null,
   "metadata": {
    "slideshow": {
     "slide_type": "-"
    }
   },
   "outputs": [],
   "source": [
    "for n in (10,11,80,81,1280,1281) :\n",
    "    s = myset()\n",
    "    for i in range(n):\n",
    "        s.add(i)\n",
    "    print(len(s),len(s.t),s.lf())"
   ]
  },
  {
   "cell_type": "markdown",
   "metadata": {
    "slideshow": {
     "slide_type": "slide"
    }
   },
   "source": [
    "Zenbaki osoen hash balioa bere burua delako, hash taularen tamaina gordetzen ari garen `i` elementu handiena baina handiagoa izatea nahikoa da... **EZ DA KOLISIORIK EGONGO**"
   ]
  },
  {
   "cell_type": "code",
   "execution_count": null,
   "metadata": {
    "slideshow": {
     "slide_type": "-"
    }
   },
   "outputs": [],
   "source": [
    "for n in (10,11,80,81,1280,1281) :\n",
    "    s = myset()\n",
    "    for i in range(n):\n",
    "        s.add(str(i))\n",
    "    print(len(s),len(s.t),s.lf())"
   ]
  },
  {
   "cell_type": "markdown",
   "metadata": {
    "slideshow": {
     "slide_type": "slide"
    }
   },
   "source": [
    "Lehenengo kasuan, elementuak `[0,n]` tarteko zenbakiak izan beharrean auzazkoak izan balira..."
   ]
  },
  {
   "cell_type": "code",
   "execution_count": null,
   "metadata": {
    "slideshow": {
     "slide_type": "-"
    }
   },
   "outputs": [],
   "source": [
    "from random import randrange\n",
    "for n in (10,11,80,81,1280,1281) :\n",
    "    s = myset()\n",
    "    for i in range(n):\n",
    "        s.add(randrange(1000000000))\n",
    "    print(len(s),len(s.t),s.lf())"
   ]
  }
 ],
 "metadata": {
  "celltoolbar": "Slideshow",
  "kernelspec": {
   "display_name": "Python 3",
   "language": "python",
   "name": "python3"
  },
  "language_info": {
   "codemirror_mode": {
    "name": "ipython",
    "version": 3
   },
   "file_extension": ".py",
   "mimetype": "text/x-python",
   "name": "python",
   "nbconvert_exporter": "python",
   "pygments_lexer": "ipython3",
   "version": "3.7.6"
  }
 },
 "nbformat": 4,
 "nbformat_minor": 2
}
