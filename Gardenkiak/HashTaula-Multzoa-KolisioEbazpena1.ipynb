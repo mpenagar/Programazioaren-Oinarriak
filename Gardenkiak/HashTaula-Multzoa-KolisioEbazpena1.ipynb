{
 "cells": [
  {
   "cell_type": "markdown",
   "metadata": {
    "slideshow": {
     "slide_type": "slide"
    }
   },
   "source": [
    "# Hash taula bidezko multzo baten inplementazioa\n",
    "\n",
    "## Kolisioen ebazpena I : Taula berdimentsionatu\n",
    "\n",
    "* $e$ elementu bati taulan dagokion posizioa: $i \\; = \\; hash(n)\\; \\% \\; N$\n",
    "   * $i$ posizioan $e$ elementua gordeko da\n",
    "   * Hutsik dagoen gelaxkan _balio berezi_ bat egongo da\n",
    "      * `None` balitz, ezingo genuke `None`-rik gorde\n",
    "* Kolisio bat ematen den bakoitzean, taularen tamaina handitu: bikoiztu, adibidez.\n",
    "* $LF \\; \\ll \\; 1$\n"
   ]
  },
  {
   "cell_type": "markdown",
   "metadata": {},
   "source": [
    "#### 0 - Multzo klasearen egitura"
   ]
  },
  {
   "cell_type": "code",
   "execution_count": 174,
   "metadata": {},
   "outputs": [],
   "source": [
    "class myset():\n",
    "    \n",
    "    def __init__(self, init_size=10):\n",
    "        self.EMPTY = object()\n",
    "        self.t = [self.EMPTY] * init_size"
   ]
  },
  {
   "cell_type": "code",
   "execution_count": 175,
   "metadata": {},
   "outputs": [
    {
     "name": "stdout",
     "output_type": "stream",
     "text": [
      "[<object object at 0x7fed2156fed0>, <object object at 0x7fed2156fed0>, <object object at 0x7fed2156fed0>, <object object at 0x7fed2156fed0>, <object object at 0x7fed2156fed0>, <object object at 0x7fed2156fed0>, <object object at 0x7fed2156fed0>, <object object at 0x7fed2156fed0>, <object object at 0x7fed2156fed0>, <object object at 0x7fed2156fed0>]\n",
      "[<object object at 0x7fed2156fe20>, <object object at 0x7fed2156fe20>, <object object at 0x7fed2156fe20>]\n"
     ]
    }
   ],
   "source": [
    "s = myset()\n",
    "print(s.t)\n",
    "s = myset(3)\n",
    "print(s.t)"
   ]
  },
  {
   "cell_type": "code",
   "execution_count": 187,
   "metadata": {},
   "outputs": [],
   "source": [
    "class empty():\n",
    "    def __repr__(self):\n",
    "        return \"✗\"\n",
    "\n",
    "class myset():\n",
    "    \n",
    "    def __init__(self, init_size=10): # t(n) = 1 + init_size\n",
    "        self.EMPTY = empty()\n",
    "        self.t = [self.EMPTY] * init_size"
   ]
  },
  {
   "cell_type": "code",
   "execution_count": 188,
   "metadata": {},
   "outputs": [
    {
     "name": "stdout",
     "output_type": "stream",
     "text": [
      "[✗, ✗, ✗, ✗, ✗, ✗, ✗, ✗, ✗, ✗]\n",
      "[✗, ✗, ✗]\n"
     ]
    }
   ],
   "source": [
    "s = myset()\n",
    "print(s.t)\n",
    "s = myset(3)\n",
    "print(s.t)"
   ]
  },
  {
   "cell_type": "markdown",
   "metadata": {
    "slideshow": {
     "slide_type": "slide"
    }
   },
   "source": [
    "#### 1 - Multzoen `add(e)`-en baliokidea (kolisioak kontuan izan gabe)"
   ]
  },
  {
   "cell_type": "code",
   "execution_count": 189,
   "metadata": {
    "slideshow": {
     "slide_type": "fragment"
    }
   },
   "outputs": [],
   "source": [
    "class myset():\n",
    "    \n",
    "    def __init__(self, init_size=10): # t(n) = 1 + init_size\n",
    "        self.EMPTY = empty()\n",
    "        self.t = [self.EMPTY] * init_size\n",
    "        \n",
    "    def add(self,e): # t(n) = 1\n",
    "        i = hash(e) % len(self.t)\n",
    "        self.t[i] = e\n",
    "        "
   ]
  },
  {
   "cell_type": "code",
   "execution_count": 190,
   "metadata": {},
   "outputs": [
    {
     "name": "stdout",
     "output_type": "stream",
     "text": [
      "['Jon', ✗, 'Nora', 'Ane', 'Miren', ✗, ✗, 'Asier', ✗, ✗]\n"
     ]
    }
   ],
   "source": [
    "s = myset()\n",
    "for e in (\"Ane\",\"Jon\",\"Miren\",\"Asier\",\"Nora\"):\n",
    "    s.add(e)\n",
    "print(s.t)"
   ]
  },
  {
   "cell_type": "code",
   "execution_count": 191,
   "metadata": {},
   "outputs": [
    {
     "name": "stdout",
     "output_type": "stream",
     "text": [
      "['Jon', ✗, 'Nora', 'Eneritz', 'Miren', 'Aiala', ✗, 'Asier', ✗, ✗]\n"
     ]
    }
   ],
   "source": [
    "s = myset()\n",
    "for e in (\"Ane\",\"Jon\",\"Miren\",\"Asier\",\"Nora\",\"Aiala\",\"Eneritz\"):\n",
    "    s.add(e)\n",
    "print(s.t)"
   ]
  },
  {
   "cell_type": "markdown",
   "metadata": {
    "slideshow": {
     "slide_type": "slide"
    }
   },
   "source": [
    "#### 2 - Multzoen `set(iterable)`-en baliokidea (kolisioak kontuan izan gabe)"
   ]
  },
  {
   "cell_type": "code",
   "execution_count": 192,
   "metadata": {
    "slideshow": {
     "slide_type": "fragment"
    }
   },
   "outputs": [],
   "source": [
    "class myset():\n",
    "    \n",
    "    def __init__(self, iterable=tuple(), init_size=10): # t(n) = 1 + init_size + len(iterable)\n",
    "        self.EMPTY = empty()\n",
    "        self.t = [self.EMPTY] * init_size\n",
    "        for e in iterable:\n",
    "            self.add(e)\n",
    "        \n",
    "    def add(self,e): # t(n) = 1\n",
    "        i = hash(e) % len(self.t)\n",
    "        self.t[i] = e\n",
    "        "
   ]
  },
  {
   "cell_type": "code",
   "execution_count": 193,
   "metadata": {},
   "outputs": [
    {
     "name": "stdout",
     "output_type": "stream",
     "text": [
      "['Jon', ✗, 'Nora', 'Ane', 'Miren', ✗, ✗, 'Asier', ✗, ✗]\n"
     ]
    }
   ],
   "source": [
    "s = myset([\"Ane\",\"Jon\",\"Miren\",\"Asier\",\"Nora\"])\n",
    "print(s.t)"
   ]
  },
  {
   "cell_type": "code",
   "execution_count": 194,
   "metadata": {},
   "outputs": [
    {
     "name": "stdout",
     "output_type": "stream",
     "text": [
      "['Jon', ✗, 'Nora', 'Eneritz', 'Miren', 'Aiala', ✗, 'Asier', ✗, ✗]\n"
     ]
    }
   ],
   "source": [
    "s = myset([\"Ane\",\"Jon\",\"Miren\",\"Asier\",\"Nora\",\"Aiala\",\"Eneritz\"])\n",
    "print(s.t)"
   ]
  },
  {
   "cell_type": "markdown",
   "metadata": {},
   "source": [
    "#### 3 - Multzoen `len()`-en baliokidea"
   ]
  },
  {
   "cell_type": "code",
   "execution_count": 196,
   "metadata": {},
   "outputs": [],
   "source": [
    "class myset():\n",
    "    \n",
    "    def __init__(self, iterable=tuple(), init_size=10): # t(n) = 1 + init_size + len(iterable)\n",
    "        self.EMPTY = empty()\n",
    "        self.t = [self.EMPTY] * init_size\n",
    "        for e in iterable:\n",
    "            self.add(e)\n",
    "        \n",
    "    def add(self,e): # t(n) = 1\n",
    "        i = hash(e) % len(self.t)\n",
    "        self.t[i] = e\n",
    "        \n",
    "    def __len__(self): # t(n) = N >> n\n",
    "        return sum(e != self.EMPTY for e in self.t)"
   ]
  },
  {
   "cell_type": "code",
   "execution_count": 197,
   "metadata": {},
   "outputs": [
    {
     "name": "stdout",
     "output_type": "stream",
     "text": [
      "['Jon', ✗, 'Nora', 'Ane', 'Miren', ✗, ✗, 'Asier', ✗, ✗]\n",
      "5\n"
     ]
    }
   ],
   "source": [
    "s = myset([\"Ane\",\"Jon\",\"Miren\",\"Asier\",\"Nora\"])\n",
    "print(s.t)\n",
    "print(len(s))"
   ]
  },
  {
   "cell_type": "markdown",
   "metadata": {},
   "source": [
    "Kontadore bat eraman dezakegu, pauso bakarrean egiteko"
   ]
  },
  {
   "cell_type": "code",
   "execution_count": 198,
   "metadata": {},
   "outputs": [],
   "source": [
    "class myset():\n",
    "    \n",
    "    def __init__(self, iterable=tuple(), init_size=10): # t(n) = 1 + init_size + len(iterable)\n",
    "        self.EMPTY = empty()\n",
    "        self.t = [self.EMPTY] * init_size\n",
    "        self.n = 0\n",
    "        for e in iterable:\n",
    "            self.add(e)\n",
    "        \n",
    "    def add(self,e): # t(n) = 1\n",
    "        i = hash(e) % len(self.t)\n",
    "        if self.t[i] == self.EMPTY:\n",
    "            self.t[i] = e\n",
    "            self.n += 1\n",
    "        \n",
    "    def __len__(self): # t(n) = 1\n",
    "        return self.n"
   ]
  },
  {
   "cell_type": "code",
   "execution_count": 200,
   "metadata": {},
   "outputs": [
    {
     "name": "stdout",
     "output_type": "stream",
     "text": [
      "['Jon', ✗, 'Nora', 'Ane', 'Miren', ✗, ✗, 'Asier', ✗, ✗]\n",
      "5\n"
     ]
    }
   ],
   "source": [
    "s = myset([\"Ane\",\"Jon\",\"Miren\",\"Asier\",\"Nora\"])\n",
    "print(s.t)\n",
    "print(len(s))"
   ]
  },
  {
   "cell_type": "markdown",
   "metadata": {},
   "source": [
    "#### 4 - ITERAGARRITASUNA: Multzoen `iter()`-en baliokidea"
   ]
  },
  {
   "cell_type": "code",
   "execution_count": 201,
   "metadata": {},
   "outputs": [],
   "source": [
    "class myset():\n",
    "    \n",
    "    def __init__(self, iterable=tuple(), init_size=10): # t(n) = 1 + init_size + len(iterable)\n",
    "        self.EMPTY = empty()\n",
    "        self.t = [self.EMPTY] * init_size\n",
    "        self.n = 0\n",
    "        for e in iterable:\n",
    "            self.add(e)\n",
    "        \n",
    "    def add(self,e): # t(n) = 1\n",
    "        i = hash(e) % len(self.t)\n",
    "        if self.t[i] == self.EMPTY:\n",
    "            self.t[i] = e\n",
    "            self.n += 1\n",
    "        \n",
    "    def __len__(self): # t(n) = 1\n",
    "        return self.n\n",
    "    \n",
    "    def __iter__(self): # t(n) = 1 (zeharkatzean, N>>n)\n",
    "        for e in self.t:\n",
    "            if e != self.EMPTY :\n",
    "                yield e"
   ]
  },
  {
   "cell_type": "code",
   "execution_count": 202,
   "metadata": {},
   "outputs": [
    {
     "name": "stdout",
     "output_type": "stream",
     "text": [
      "['Jon', ✗, 'Nora', 'Ane', 'Miren', ✗, ✗, 'Asier', ✗, ✗]\n",
      "Jon Nora Ane Miren Asier\n"
     ]
    }
   ],
   "source": [
    "s = myset([\"Ane\",\"Jon\",\"Miren\",\"Asier\",\"Nora\"])\n",
    "print(s.t)\n",
    "print(*s)"
   ]
  },
  {
   "cell_type": "markdown",
   "metadata": {},
   "source": [
    "#### 5 - Multzoen `str()`-en baliokidea"
   ]
  },
  {
   "cell_type": "code",
   "execution_count": 203,
   "metadata": {},
   "outputs": [],
   "source": [
    "class myset():\n",
    "    \n",
    "    def __init__(self, iterable=tuple(), init_size=10): # t(n) = 1 + init_size + len(iterable)\n",
    "        self.EMPTY = empty()\n",
    "        self.t = [self.EMPTY] * init_size\n",
    "        self.n = 0\n",
    "        for e in iterable:\n",
    "            self.add(e)\n",
    "        \n",
    "    def add(self,e): # t(n) = 1\n",
    "        i = hash(e) % len(self.t)\n",
    "        if self.t[i] == self.EMPTY:\n",
    "            self.t[i] = e\n",
    "            self.n += 1\n",
    "        \n",
    "    def __len__(self): # t(n) = 1\n",
    "        return self.n\n",
    "    \n",
    "    def __iter__(self): # t(n) = 1 (zeharkatzean, N>>n)\n",
    "        for e in self.t:\n",
    "            if e != self.EMPTY :\n",
    "                yield e\n",
    "                \n",
    "    def __str__(self): # t(n) = N>>n\n",
    "        return \"{\" + \", \".join(repr(e) for e in self) + \"}\""
   ]
  },
  {
   "cell_type": "code",
   "execution_count": 204,
   "metadata": {},
   "outputs": [
    {
     "name": "stdout",
     "output_type": "stream",
     "text": [
      "['Jon', ✗, 'Nora', 'Ane', 'Miren', ✗, ✗, 'Asier', ✗, ✗]\n",
      "{'Jon', 'Nora', 'Ane', 'Miren', 'Asier'}\n"
     ]
    }
   ],
   "source": [
    "s = myset([\"Ane\",\"Jon\",\"Miren\",\"Asier\",\"Nora\"])\n",
    "print(s.t)\n",
    "print(s)"
   ]
  },
  {
   "cell_type": "markdown",
   "metadata": {},
   "source": [
    "#### 6 - Multzoen `e in set`-en baliokidea  $\\to$  `set.__contains__(self,e):`"
   ]
  },
  {
   "cell_type": "code",
   "execution_count": 205,
   "metadata": {},
   "outputs": [
    {
     "name": "stdout",
     "output_type": "stream",
     "text": [
      "True False\n"
     ]
    }
   ],
   "source": [
    "s = myset([\"Ane\",\"Jon\",\"Miren\",\"Asier\",\"Nora\"])\n",
    "print(\"Ane\" in s , \"X\" in s)"
   ]
  },
  {
   "cell_type": "markdown",
   "metadata": {},
   "source": [
    "`__contains__` ez badago eta objektua iteragarria bada, defektuzko `__contains__`:\n",
    "\n",
    "```python\n",
    "def __contains__(self, e):\n",
    "    for x in self:\n",
    "        if x == e:\n",
    "            return True\n",
    "    return False\n",
    "```\n",
    "   * Kasu ona: elementua taulako lehenengo posizioan $t(n)=1 \\; \\to \\; \\Omega(1)$\n",
    "   * Kasu txarra: elementua ez dago taulan $t(n)=N \\gg n \\; \\to \\; O(N \\gg n)$\n",
    "   "
   ]
  },
  {
   "cell_type": "code",
   "execution_count": 206,
   "metadata": {},
   "outputs": [],
   "source": [
    "class myset():\n",
    "    \n",
    "    def __init__(self, iterable=tuple(), init_size=10): # t(n) = 1 + init_size + len(iterable)\n",
    "        self.EMPTY = empty()\n",
    "        self.t = [self.EMPTY] * init_size\n",
    "        self.n = 0\n",
    "        for e in iterable:\n",
    "            self.add(e)\n",
    "        \n",
    "    def add(self,e): # t(n) = 1\n",
    "        i = hash(e) % len(self.t)\n",
    "        if self.t[i] == self.EMPTY:\n",
    "            self.t[i] = e\n",
    "            self.n += 1\n",
    "        \n",
    "    def __len__(self): # t(n) = 1\n",
    "        return self.n\n",
    "    \n",
    "    def __iter__(self): # t(n) = 1 (zeharkatzean, N>>n)\n",
    "        for e in self.t:\n",
    "            if e != self.EMPTY :\n",
    "                yield e\n",
    "                \n",
    "    def __str__(self): # t(n) = N>>n\n",
    "        return \"{\" + \", \".join(repr(e) for e in self) + \"}\"\n",
    "    \n",
    "    def __contains__(self,e): # t(n) = 1\n",
    "        #print(\"Hemendik pasa da\")\n",
    "        i = hash(e) % len(self.t)\n",
    "        return self.t[i] == e"
   ]
  },
  {
   "cell_type": "code",
   "execution_count": 207,
   "metadata": {},
   "outputs": [
    {
     "name": "stdout",
     "output_type": "stream",
     "text": [
      "True False\n"
     ]
    }
   ],
   "source": [
    "s = myset([\"Ane\",\"Jon\",\"Miren\",\"Asier\",\"Nora\"])\n",
    "print(\"Ane\" in s , \"X\" in s)"
   ]
  },
  {
   "cell_type": "markdown",
   "metadata": {},
   "source": [
    "#### 7 - Multzoen `set1 == set2`-en baliokidea  $\\to$  `set.__eq__(set1,set2):`"
   ]
  },
  {
   "cell_type": "code",
   "execution_count": 208,
   "metadata": {},
   "outputs": [
    {
     "name": "stdout",
     "output_type": "stream",
     "text": [
      "['Jon', ✗, 'Nora', 'Ane', 'Miren', ✗, ✗, 'Asier', ✗, ✗]\n",
      "['Jon', ✗, 'Nora', 'Ane', 'Miren', ✗, ✗, 'Asier', ✗, ✗]\n",
      "False\n"
     ]
    }
   ],
   "source": [
    "s1 = myset([\"Ane\",\"Jon\",\"Miren\",\"Asier\",\"Nora\"])\n",
    "s2 = myset([\"Jon\",\"Ane\",\"Asier\",\"Miren\",\"Nora\"])\n",
    "print(s1.t)\n",
    "print(s2.t)\n",
    "print(s1 == s2)"
   ]
  },
  {
   "cell_type": "markdown",
   "metadata": {},
   "source": [
    "`__eq__` existitzen ez bada, defektuzko `__eq__`:\n",
    "\n",
    "```python\n",
    "def __eq__(self, other):\n",
    "    return self is other\n",
    "```"
   ]
  },
  {
   "cell_type": "code",
   "execution_count": 209,
   "metadata": {},
   "outputs": [],
   "source": [
    "class myset():\n",
    "    \n",
    "    def __init__(self, iterable=tuple(), init_size=10): # t(n) = 1 + init_size + len(iterable)\n",
    "        self.EMPTY = empty()\n",
    "        self.t = [self.EMPTY] * init_size\n",
    "        self.n = 0\n",
    "        for e in iterable:\n",
    "            self.add(e)\n",
    "        \n",
    "    def add(self,e): # t(n) = 1\n",
    "        i = hash(e) % len(self.t)\n",
    "        if self.t[i] == self.EMPTY:\n",
    "            self.t[i] = e\n",
    "            self.n += 1\n",
    "        \n",
    "    def __len__(self): # t(n) = 1\n",
    "        return self.n\n",
    "    \n",
    "    def __iter__(self): # t(n) = 1 (zeharkatzean, N>>n)\n",
    "        for e in self.t:\n",
    "            if e != self.EMPTY :\n",
    "                yield e\n",
    "                \n",
    "    def __str__(self): # t(n) = N>>n\n",
    "        return \"{\" + \", \".join(repr(e) for e in self) + \"}\"\n",
    "    \n",
    "    def __contains__(self,e): # t(n) = 1\n",
    "        #print(\"Hemendik pasa da\")\n",
    "        i = hash(e) % len(self.t)\n",
    "        return self.t[i] == e\n",
    "    \n",
    "    def __eq__(self, other): # t(n) = [1,N>>n]\n",
    "        #print(\"Hemendik pasa da\")\n",
    "        return type(other) == myset and len(self)==len(other) and self.t == other.t        "
   ]
  },
  {
   "cell_type": "code",
   "execution_count": 210,
   "metadata": {},
   "outputs": [
    {
     "name": "stdout",
     "output_type": "stream",
     "text": [
      "['Jon', ✗, 'Nora', 'Ane', 'Miren', ✗, ✗, 'Asier', ✗, ✗]\n",
      "['Jon', ✗, 'Nora', 'Ane', 'Miren', ✗, ✗, 'Asier', ✗, ✗]\n",
      "False\n"
     ]
    }
   ],
   "source": [
    "s1 = myset([\"Ane\",\"Jon\",\"Miren\",\"Asier\",\"Nora\"])\n",
    "s2 = myset([\"Jon\",\"Ane\",\"Asier\",\"Miren\",\"Nora\"])\n",
    "print(s1.t)\n",
    "print(s2.t)\n",
    "print(s1 == s2)"
   ]
  },
  {
   "cell_type": "code",
   "execution_count": 211,
   "metadata": {},
   "outputs": [
    {
     "name": "stdout",
     "output_type": "stream",
     "text": [
      "['Jon', ✗, 'Nora', 'Ane', 'Miren', ✗, ✗, 'Asier', ✗, ✗]\n",
      "['Jon', ✗, 'Nora', 'Ane', 'Miren', ✗, ✗, 'Asier', ✗, ✗]\n",
      "✗ ✗\n",
      "False\n"
     ]
    }
   ],
   "source": [
    "s1 = myset([\"Ane\",\"Jon\",\"Miren\",\"Asier\",\"Nora\"])\n",
    "s2 = myset([\"Jon\",\"Ane\",\"Asier\",\"Miren\",\"Nora\"])\n",
    "print(s1.t)\n",
    "print(s2.t)\n",
    "print(s1.t[1],s2.t[1])\n",
    "print(s1.t[1] == s2.t[1])"
   ]
  },
  {
   "cell_type": "code",
   "execution_count": 212,
   "metadata": {},
   "outputs": [],
   "source": [
    "class myset():\n",
    "    \n",
    "    EMPTY = empty()\n",
    "    \n",
    "    def __init__(self, iterable=tuple(), init_size=10): # t(n) = 1 + init_size + len(iterable)\n",
    "        self.t = [myset.EMPTY] * init_size\n",
    "        self.n = 0\n",
    "        for e in iterable:\n",
    "            self.add(e)\n",
    "        \n",
    "    def add(self,e): # t(n) = 1\n",
    "        i = hash(e) % len(self.t)\n",
    "        if self.t[i] == myset.EMPTY:\n",
    "            self.t[i] = e\n",
    "            self.n += 1\n",
    "        \n",
    "    def __len__(self): # t(n) = 1\n",
    "        return self.n\n",
    "    \n",
    "    def __iter__(self): # t(n) = 1 (zeharkatzean, N>>n)\n",
    "        for e in self.t:\n",
    "            if e != myset.EMPTY :\n",
    "                yield e\n",
    "                \n",
    "    def __str__(self): # t(n) = N>>n\n",
    "        return \"{\" + \", \".join(repr(e) for e in self) + \"}\"\n",
    "    \n",
    "    def __contains__(self,e): # t(n) = 1\n",
    "        #print(\"Hemendik pasa da\")\n",
    "        i = hash(e) % len(self.t)\n",
    "        return self.t[i] == e\n",
    "    \n",
    "    def __eq__(self, other): # t(n) = [1,N>>n]\n",
    "        #print(\"Hemendik pasa da\")\n",
    "        return type(other) == myset and len(self)==len(other) and self.t == other.t        "
   ]
  },
  {
   "cell_type": "code",
   "execution_count": 213,
   "metadata": {},
   "outputs": [
    {
     "name": "stdout",
     "output_type": "stream",
     "text": [
      "['Jon', ✗, 'Nora', 'Ane', 'Miren', ✗, ✗, 'Asier', ✗, ✗]\n",
      "['Jon', ✗, 'Nora', 'Ane', 'Miren', ✗, ✗, 'Asier', ✗, ✗]\n",
      "✗ ✗\n",
      "True\n",
      "True\n"
     ]
    }
   ],
   "source": [
    "s1 = myset([\"Ane\",\"Jon\",\"Miren\",\"Asier\",\"Nora\"])\n",
    "s2 = myset([\"Jon\",\"Ane\",\"Asier\",\"Miren\",\"Nora\"])\n",
    "print(s1.t)\n",
    "print(s2.t)\n",
    "print(s1.t[1],s2.t[1])\n",
    "print(s1.t[1] == s2.t[1])\n",
    "print(s1 == s2)"
   ]
  },
  {
   "cell_type": "markdown",
   "metadata": {},
   "source": [
    "#### 8 - Multzoen `repr()`-en baliokidea $\\to$  `__repr__(self):`\n",
    "\n",
    "**GOGORATU:**\n",
    "\n",
    "```python\n",
    "s = myset(...)\n",
    "s == eval(repr(s))\n",
    "```"
   ]
  },
  {
   "cell_type": "code",
   "execution_count": 214,
   "metadata": {},
   "outputs": [],
   "source": [
    "class myset():\n",
    "    \n",
    "    EMPTY = empty()\n",
    "    \n",
    "    def __init__(self, iterable=tuple(), init_size=10): # t(n) = 1 + init_size + len(iterable)\n",
    "        self.t = [myset.EMPTY] * init_size\n",
    "        self.n = 0\n",
    "        for e in iterable:\n",
    "            self.add(e)\n",
    "        \n",
    "    def add(self,e): # t(n) = 1\n",
    "        i = hash(e) % len(self.t)\n",
    "        if self.t[i] == myset.EMPTY:\n",
    "            self.t[i] = e\n",
    "            self.n += 1\n",
    "        \n",
    "    def __len__(self): # t(n) = 1\n",
    "        return self.n\n",
    "    \n",
    "    def __iter__(self): # t(n) = 1 (zeharkatzean, N>>n)\n",
    "        for e in self.t:\n",
    "            if e != myset.EMPTY :\n",
    "                yield e\n",
    "                \n",
    "    def __str__(self): # t(n) = N>>n\n",
    "        return \"{\" + \", \".join(repr(e) for e in self) + \"}\"\n",
    "    \n",
    "    def __repr__(self):\n",
    "        return f'myset({list(self)})'\n",
    "\n",
    "    def __contains__(self,e): # t(n) = 1\n",
    "        #print(\"Hemendik pasa da\")\n",
    "        i = hash(e) % len(self.t)\n",
    "        return self.t[i] == e\n",
    "    \n",
    "    def __eq__(self, other): # t(n) = [1,N>>n]\n",
    "        #print(\"Hemendik pasa da\")\n",
    "        return type(other) == myset and len(self)==len(other) and self.t == other.t"
   ]
  },
  {
   "cell_type": "code",
   "execution_count": 215,
   "metadata": {},
   "outputs": [
    {
     "name": "stdout",
     "output_type": "stream",
     "text": [
      "myset(['Jon', 'Nora', 'Ane', 'Miren', 'Asier'])\n",
      "True\n"
     ]
    }
   ],
   "source": [
    "s = myset([\"Ane\",\"Jon\",\"Miren\",\"Asier\",\"Nora\"])\n",
    "print(repr(s))\n",
    "print(s == eval(repr(s)))"
   ]
  },
  {
   "cell_type": "markdown",
   "metadata": {},
   "source": [
    "#### 9 - Multzoen `set.clear()`-en baliokidea`"
   ]
  },
  {
   "cell_type": "code",
   "execution_count": 216,
   "metadata": {},
   "outputs": [],
   "source": [
    "class myset():\n",
    "    \n",
    "    EMPTY = empty()\n",
    "    \n",
    "    def __init__(self, iterable=tuple(), init_size=10): # t(n) = 1 + init_size + len(iterable)\n",
    "        self.init_size = init_size\n",
    "        self.t = [myset.EMPTY] * init_size\n",
    "        self.n = 0\n",
    "        for e in iterable:\n",
    "            self.add(e)\n",
    "        \n",
    "    def add(self,e): # t(n) = 1\n",
    "        i = hash(e) % len(self.t)\n",
    "        if self.t[i] == myset.EMPTY:\n",
    "            self.t[i] = e\n",
    "            self.n += 1\n",
    "        \n",
    "    def __len__(self): # t(n) = 1\n",
    "        return self.n\n",
    "    \n",
    "    def __iter__(self): # t(n) = 1 (zeharkatzean, N>>n)\n",
    "        for e in self.t:\n",
    "            if e != myset.EMPTY :\n",
    "                yield e\n",
    "                \n",
    "    def __str__(self): # t(n) = N>>n\n",
    "        return \"{\" + \", \".join(repr(e) for e in self) + \"}\"\n",
    "    \n",
    "    def __repr__(self):\n",
    "        return f'myset({list(self)})'\n",
    "\n",
    "    def __contains__(self,e): # t(n) = 1\n",
    "        #print(\"Hemendik pasa da\")\n",
    "        i = hash(e) % len(self.t)\n",
    "        return self.t[i] == e\n",
    "    \n",
    "    def __eq__(self, other): # t(n) = [1,N>>n]\n",
    "        #print(\"Hemendik pasa da\")\n",
    "        return type(other) == myset and len(self)==len(other) and self.t == other.t\n",
    "    \n",
    "    def clear(self): # t(n) = 1 + init_size \n",
    "        self.t = [myset.EMPTY] * self.init_size\n",
    "        self.n = 0\n",
    "        "
   ]
  },
  {
   "cell_type": "code",
   "execution_count": 217,
   "metadata": {},
   "outputs": [
    {
     "name": "stdout",
     "output_type": "stream",
     "text": [
      "{'Jon', 'Nora', 'Ane', 'Miren', 'Asier'} 5\n",
      "{} 0\n"
     ]
    }
   ],
   "source": [
    "s = myset([\"Ane\",\"Jon\",\"Miren\",\"Asier\",\"Nora\"])\n",
    "print(s,len(s))\n",
    "s.clear()\n",
    "print(s,len(s))"
   ]
  },
  {
   "cell_type": "markdown",
   "metadata": {},
   "source": [
    "#### 9 - Multzoen `set.remove()`-en baliokidea`"
   ]
  },
  {
   "cell_type": "code",
   "execution_count": 220,
   "metadata": {},
   "outputs": [
    {
     "name": "stdout",
     "output_type": "stream",
     "text": [
      "Help on method_descriptor:\n",
      "\n",
      "remove(...)\n",
      "    Remove an element from a set; it must be a member.\n",
      "    \n",
      "    If the element is not a member, raise a KeyError.\n",
      "\n"
     ]
    },
    {
     "ename": "KeyError",
     "evalue": "4",
     "output_type": "error",
     "traceback": [
      "\u001b[0;31m\u001b[0m",
      "\u001b[0;31mKeyError\u001b[0mTraceback (most recent call last)",
      "\u001b[0;32m<ipython-input-220-6acf66555885>\u001b[0m in \u001b[0;36m<module>\u001b[0;34m\u001b[0m\n\u001b[1;32m      1\u001b[0m \u001b[0mhelp\u001b[0m\u001b[0;34m(\u001b[0m\u001b[0mset\u001b[0m\u001b[0;34m.\u001b[0m\u001b[0mremove\u001b[0m\u001b[0;34m)\u001b[0m\u001b[0;34m\u001b[0m\u001b[0;34m\u001b[0m\u001b[0m\n\u001b[0;32m----> 2\u001b[0;31m \u001b[0;34m{\u001b[0m\u001b[0;36m1\u001b[0m\u001b[0;34m,\u001b[0m\u001b[0;36m2\u001b[0m\u001b[0;34m,\u001b[0m\u001b[0;36m3\u001b[0m\u001b[0;34m}\u001b[0m\u001b[0;34m.\u001b[0m\u001b[0mremove\u001b[0m\u001b[0;34m(\u001b[0m\u001b[0;36m4\u001b[0m\u001b[0;34m)\u001b[0m\u001b[0;34m\u001b[0m\u001b[0;34m\u001b[0m\u001b[0m\n\u001b[0m",
      "\u001b[0;31mKeyError\u001b[0m: 4"
     ]
    }
   ],
   "source": [
    "help(set.remove)\n",
    "{1,2,3}.remove(4)"
   ]
  },
  {
   "cell_type": "code",
   "execution_count": 222,
   "metadata": {},
   "outputs": [],
   "source": [
    "class myset():\n",
    "    \n",
    "    EMPTY = empty()\n",
    "    \n",
    "    def __init__(self, iterable=tuple(), init_size=10): # t(n) = 1 + init_size + len(iterable)\n",
    "        self.init_size = init_size\n",
    "        self.t = [myset.EMPTY] * init_size\n",
    "        self.n = 0\n",
    "        for e in iterable:\n",
    "            self.add(e)\n",
    "        \n",
    "    def add(self,e): # t(n) = 1\n",
    "        i = hash(e) % len(self.t)\n",
    "        if self.t[i] == myset.EMPTY:\n",
    "            self.t[i] = e\n",
    "            self.n += 1\n",
    "        \n",
    "    def __len__(self): # t(n) = 1\n",
    "        return self.n\n",
    "    \n",
    "    def __iter__(self): # t(n) = 1 (zeharkatzean, N>>n)\n",
    "        for e in self.t:\n",
    "            if e != myset.EMPTY :\n",
    "                yield e\n",
    "                \n",
    "    def __str__(self): # t(n) = N>>n\n",
    "        return \"{\" + \", \".join(repr(e) for e in self) + \"}\"\n",
    "    \n",
    "    def __repr__(self):\n",
    "        return f'myset({list(self)})'\n",
    "\n",
    "    def __contains__(self,e): # t(n) = 1\n",
    "        #print(\"Hemendik pasa da\")\n",
    "        i = hash(e) % len(self.t)\n",
    "        return self.t[i] == e\n",
    "    \n",
    "    def __eq__(self, other): # t(n) = [1,N>>n]\n",
    "        #print(\"Hemendik pasa da\")\n",
    "        return type(other) == myset and len(self)==len(other) and self.t == other.t\n",
    "    \n",
    "    def clear(self): # t(n) = 1 + init_size \n",
    "        self.t = [myset.EMPTY] * self.init_size\n",
    "        self.n = 0\n",
    "\n",
    "    def remove(self,e): # t(n) = 1\n",
    "        i = hash(e) % len(self.t)\n",
    "        if self.t[i] == e :\n",
    "            self.t[i] = myset.EMPTY\n",
    "            self.n -= 1\n",
    "        else :\n",
    "            raise KeyError(e)"
   ]
  },
  {
   "cell_type": "code",
   "execution_count": 225,
   "metadata": {},
   "outputs": [
    {
     "name": "stdout",
     "output_type": "stream",
     "text": [
      "{'Jon', 'Nora', 'Ane', 'Miren', 'Asier'} 5\n",
      "{'Nora', 'Ane', 'Miren', 'Asier'} 4\n"
     ]
    }
   ],
   "source": [
    "s = myset([\"Ane\",\"Jon\",\"Miren\",\"Asier\",\"Nora\"])\n",
    "print(s,len(s))\n",
    "s.remove(\"Jon\")\n",
    "print(s,len(s))\n",
    "#s.remove(\"Jon\")"
   ]
  },
  {
   "cell_type": "markdown",
   "metadata": {},
   "source": [
    "#### 10 - Multzoen `set.pop()`-en baliokidea`"
   ]
  },
  {
   "cell_type": "code",
   "execution_count": 243,
   "metadata": {},
   "outputs": [
    {
     "name": "stdout",
     "output_type": "stream",
     "text": [
      "Help on method_descriptor:\n",
      "\n",
      "pop(...)\n",
      "    Remove and return an arbitrary set element.\n",
      "    Raises KeyError if the set is empty.\n",
      "\n",
      "------------------------------------------------------------\n",
      "{'Nora', 'Ane', 'Miren', 'Asier', 'Jon'}\n",
      "Nora\n",
      "{'Ane', 'Miren', 'Asier', 'Jon'} 4\n"
     ]
    }
   ],
   "source": [
    "help(set.pop)\n",
    "print(\"-\"*60)\n",
    "s = set([\"Ane\",\"Jon\",\"Miren\",\"Asier\",\"Nora\"])\n",
    "print(s)\n",
    "print(s.pop())\n",
    "print(s,len(s))\n",
    "s = set()\n",
    "#s.pop()"
   ]
  },
  {
   "cell_type": "code",
   "execution_count": 249,
   "metadata": {},
   "outputs": [],
   "source": [
    "class myset():\n",
    "    \n",
    "    EMPTY = empty()\n",
    "    \n",
    "    def __init__(self, iterable=tuple(), init_size=10): # t(n) = 1 + init_size + len(iterable)\n",
    "        self.init_size = init_size\n",
    "        self.t = [myset.EMPTY] * init_size\n",
    "        self.n = 0\n",
    "        for e in iterable:\n",
    "            self.add(e)\n",
    "        \n",
    "    def add(self,e): # t(n) = 1\n",
    "        i = hash(e) % len(self.t)\n",
    "        if self.t[i] == myset.EMPTY:\n",
    "            self.t[i] = e\n",
    "            self.n += 1\n",
    "        \n",
    "    def __len__(self): # t(n) = 1\n",
    "        return self.n\n",
    "    \n",
    "    def __iter__(self): # t(n) = 1 (zeharkatzean, N>>n)\n",
    "        for e in self.t:\n",
    "            if e != myset.EMPTY :\n",
    "                yield e\n",
    "                \n",
    "    def __str__(self): # t(n) = N>>n\n",
    "        return \"{\" + \", \".join(repr(e) for e in self) + \"}\"\n",
    "    \n",
    "    def __repr__(self):\n",
    "        return f'myset({list(self)})'\n",
    "\n",
    "    def __contains__(self,e): # t(n) = 1\n",
    "        #print(\"Hemendik pasa da\")\n",
    "        i = hash(e) % len(self.t)\n",
    "        return self.t[i] == e\n",
    "    \n",
    "    def __eq__(self, other): # t(n) = [1,N>>n]\n",
    "        #print(\"Hemendik pasa da\")\n",
    "        return type(other) == myset and len(self)==len(other) and self.t == other.t\n",
    "    \n",
    "    def clear(self): # t(n) = 1 + init_size \n",
    "        self.t = [myset.EMPTY] * self.init_size\n",
    "        self.n = 0\n",
    "\n",
    "    def remove(self,e): # t(n) = 1\n",
    "        i = hash(e) % len(self.t)\n",
    "        if self.t[i] == e :\n",
    "            self.t[i] = myset.EMPTY\n",
    "            self.n -= 1\n",
    "        else :\n",
    "            raise KeyError(e)\n",
    "            \n",
    "    def pop(self): # t(n) = [1 , N>>n]\n",
    "        if len(self) == 0 :\n",
    "            raise KeyError('pop from an empty set')\n",
    "        for i,e in enumerate(self.t):\n",
    "            if e != myset.EMPTY:\n",
    "                self.t[i] = myset.EMPTY\n",
    "                self.n -= 1\n",
    "                return e"
   ]
  },
  {
   "cell_type": "code",
   "execution_count": 250,
   "metadata": {},
   "outputs": [
    {
     "name": "stdout",
     "output_type": "stream",
     "text": [
      "{'Jon', 'Nora', 'Ane', 'Miren', 'Asier'}\n",
      "Jon\n",
      "{'Nora', 'Ane', 'Miren', 'Asier'} 4\n"
     ]
    }
   ],
   "source": [
    "s = myset([\"Ane\",\"Jon\",\"Miren\",\"Asier\",\"Nora\"])\n",
    "print(s)\n",
    "print(s.pop())\n",
    "print(s,len(s))\n",
    "s = myset()\n",
    "#s.pop()"
   ]
  },
  {
   "cell_type": "markdown",
   "metadata": {
    "slideshow": {
     "slide_type": "fragment"
    }
   },
   "source": [
    "#### 11 - KOLISIOAK kontuan izan\n",
    "\n",
    "* Kolisio bat ematen den bakoitzean, taularen tamaina handitu: bikoiztu, adibidez.\n",
    "* Kolisioak soilik `add(self,e)` metodoan gerta daitezke."
   ]
  },
  {
   "cell_type": "code",
   "execution_count": 251,
   "metadata": {},
   "outputs": [],
   "source": [
    "class myset():\n",
    "    \n",
    "    EMPTY = empty()\n",
    "    \n",
    "    def __init__(self, iterable=tuple(), init_size=10): # t(n) = 1 + init_size + len(iterable)\n",
    "        self.init_size = init_size\n",
    "        self.t = [myset.EMPTY] * init_size\n",
    "        self.n = 0\n",
    "        for e in iterable:\n",
    "            self.add(e)\n",
    "        \n",
    "    def add(self,e): # t(n) = [1,inf]\n",
    "        i = hash(e) % len(self.t)\n",
    "        if self.t[i] == myset.EMPTY:\n",
    "            self.t[i] = e\n",
    "            self.n += 1\n",
    "        elif self.t[i] != e :\n",
    "            # Kolisio bat!!!\n",
    "            self.resize(len(self.t) * 2)\n",
    "            self.add(e)\n",
    "    \n",
    "    def resize(self,new_size): # t(n) = [ N>>n, inf ]\n",
    "        # elementu guztiak zerrenda batean jarri\n",
    "        elements = list(self)\n",
    "        while True :\n",
    "            # taula berdimentsionatu\n",
    "            self.t = [myset.EMPTY] * new_size\n",
    "            # elementu guztiak kokatzen saiatu\n",
    "            for e in elements :\n",
    "                i = hash(e) % len(self.t)\n",
    "                if self.t[i] == myset.EMPTY:\n",
    "                    self.t[i] = e\n",
    "                else :\n",
    "                    break\n",
    "            else :\n",
    "                return\n",
    "            new_size *= 2\n",
    "    \n",
    "    def resize(self,new_size): # t(n) = [ N>>n, inf ]\n",
    "        # elementu guztiak zerrenda batean jarri\n",
    "        elements = list(self)\n",
    "        # taula berdimentsionatu hutsa sortu\n",
    "        self.t = [myset.EMPTY] * new_size\n",
    "        self.n = 0\n",
    "        # elementu guztiak taulan berriro gorde\n",
    "        for e in elements :\n",
    "            self.add(e)\n",
    "        \n",
    "        \n",
    "    def __len__(self): # t(n) = 1\n",
    "        return self.n\n",
    "    \n",
    "    def __iter__(self): # t(n) = 1 (zeharkatzean, N>>n)\n",
    "        for e in self.t:\n",
    "            if e != myset.EMPTY :\n",
    "                yield e\n",
    "                \n",
    "    def __str__(self): # t(n) = N>>n\n",
    "        return \"{\" + \", \".join(repr(e) for e in self) + \"}\"\n",
    "    \n",
    "    def __repr__(self):\n",
    "        return f'myset({list(self)})'\n",
    "\n",
    "    def __contains__(self,e): # t(n) = 1\n",
    "        #print(\"Hemendik pasa da\")\n",
    "        i = hash(e) % len(self.t)\n",
    "        return self.t[i] == e\n",
    "    \n",
    "    def __eq__(self, other): # t(n) = [1,N>>n]\n",
    "        #print(\"Hemendik pasa da\")\n",
    "        return type(other) == myset and len(self)==len(other) and self.t == other.t\n",
    "    \n",
    "    def clear(self): # t(n) = 1 + init_size \n",
    "        self.t = [myset.EMPTY] * self.init_size\n",
    "        self.n = 0\n",
    "\n",
    "    def remove(self,e): # t(n) = 1\n",
    "        i = hash(e) % len(self.t)\n",
    "        if self.t[i] == e :\n",
    "            self.t[i] = myset.EMPTY\n",
    "            self.n -= 1\n",
    "        else :\n",
    "            raise KeyError(e)\n",
    "            \n",
    "    def pop(self): # t(n) = [1 , N>>n]\n",
    "        if len(self) == 0 :\n",
    "            raise KeyError('pop from an empty set')\n",
    "        for i,e in enumerate(self.t):\n",
    "            if e != myset.EMPTY:\n",
    "                self.t[i] = myset.EMPTY\n",
    "                self.n -= 1\n",
    "                return e"
   ]
  },
  {
   "cell_type": "code",
   "execution_count": 252,
   "metadata": {},
   "outputs": [
    {
     "name": "stdout",
     "output_type": "stream",
     "text": [
      "{'Jon', 'Nora', 'Ane', 'Miren', 'Asier'} 5\n",
      "['Jon', ✗, 'Nora', 'Ane', 'Miren', ✗, ✗, 'Asier', ✗, ✗] 10\n",
      "{'Jon', 'Nora', 'Ane', 'Miren', 'Aiala', 'Asier'} 6\n",
      "['Jon', ✗, 'Nora', 'Ane', 'Miren', 'Aiala', ✗, 'Asier', ✗, ✗] 10\n",
      "{'Ane', 'Miren', 'Aiala', 'Asier', 'Jon', 'Nora', 'Eneritz'} 7\n",
      "[✗, ✗, ✗, 'Ane', 'Miren', 'Aiala', ✗, 'Asier', ✗, ✗, 'Jon', ✗, 'Nora', 'Eneritz', ✗, ✗, ✗, ✗, ✗, ✗] 20\n"
     ]
    }
   ],
   "source": [
    "s = myset([\"Ane\",\"Jon\",\"Miren\",\"Asier\",\"Nora\"])\n",
    "print(s,len(s))\n",
    "print(s.t,len(s.t))\n",
    "s.add(\"Aiala\")\n",
    "print(s,len(s))\n",
    "print(s.t,len(s.t))\n",
    "s.add(\"Eneritz\")\n",
    "print(s,len(s))\n",
    "print(s.t,len(s.t))"
   ]
  },
  {
   "cell_type": "markdown",
   "metadata": {
    "slideshow": {
     "slide_type": "slide"
    }
   },
   "source": [
    "#### 12 - Taularen *karga faktorea* kalkulatuko duen `myset.lf()` funtzioa"
   ]
  },
  {
   "cell_type": "code",
   "execution_count": 253,
   "metadata": {},
   "outputs": [],
   "source": [
    "class myset():\n",
    "    \n",
    "    EMPTY = empty()\n",
    "    \n",
    "    def __init__(self, iterable=tuple(), init_size=10): # t(n) = 1 + init_size + len(iterable)\n",
    "        self.init_size = init_size\n",
    "        self.t = [myset.EMPTY] * init_size\n",
    "        self.n = 0\n",
    "        for e in iterable:\n",
    "            self.add(e)\n",
    "        \n",
    "    def add(self,e): # t(n) = [1,inf]\n",
    "        i = hash(e) % len(self.t)\n",
    "        if self.t[i] == myset.EMPTY:\n",
    "            self.t[i] = e\n",
    "            self.n += 1\n",
    "        elif self.t[i] != e :\n",
    "            # Kolisio bat!!!\n",
    "            self.resize(len(self.t) * 2)\n",
    "            self.add(e)\n",
    "    \n",
    "    def resize(self,new_size): # t(n) = [ N>>n, inf ]\n",
    "        # elementu guztiak zerrenda batean jarri\n",
    "        elements = list(self)\n",
    "        while True :\n",
    "            # taula berdimentsionatu\n",
    "            self.t = [myset.EMPTY] * new_size\n",
    "            # elementu guztiak kokatzen saiatu\n",
    "            for e in elements :\n",
    "                i = hash(e) % len(self.t)\n",
    "                if self.t[i] == myset.EMPTY:\n",
    "                    self.t[i] = e\n",
    "                else :\n",
    "                    break\n",
    "            else :\n",
    "                return\n",
    "            new_size *= 2\n",
    "    \n",
    "    def resize(self,new_size): # t(n) = [ N>>n, inf ]\n",
    "        # elementu guztiak zerrenda batean jarri\n",
    "        elements = list(self)\n",
    "        # taula berdimentsionatu hutsa sortu\n",
    "        self.t = [myset.EMPTY] * new_size\n",
    "        self.n = 0\n",
    "        # elementu guztiak taulan berriro gorde\n",
    "        for e in elements :\n",
    "            self.add(e)\n",
    "        \n",
    "        \n",
    "    def __len__(self): # t(n) = 1\n",
    "        return self.n\n",
    "    \n",
    "    def __iter__(self): # t(n) = 1 (zeharkatzean, N>>n)\n",
    "        for e in self.t:\n",
    "            if e != myset.EMPTY :\n",
    "                yield e\n",
    "                \n",
    "    def __str__(self): # t(n) = N>>n\n",
    "        return \"{\" + \", \".join(repr(e) for e in self) + \"}\"\n",
    "    \n",
    "    def __repr__(self):\n",
    "        return f'myset({list(self)})'\n",
    "\n",
    "    def __contains__(self,e): # t(n) = 1\n",
    "        #print(\"Hemendik pasa da\")\n",
    "        i = hash(e) % len(self.t)\n",
    "        return self.t[i] == e\n",
    "    \n",
    "    def __eq__(self, other): # t(n) = [1,N>>n]\n",
    "        #print(\"Hemendik pasa da\")\n",
    "        return type(other) == myset and len(self)==len(other) and self.t == other.t\n",
    "    \n",
    "    def clear(self): # t(n) = 1 + init_size \n",
    "        self.t = [myset.EMPTY] * self.init_size\n",
    "        self.n = 0\n",
    "\n",
    "    def remove(self,e): # t(n) = 1\n",
    "        i = hash(e) % len(self.t)\n",
    "        if self.t[i] == e :\n",
    "            self.t[i] = myset.EMPTY\n",
    "            self.n -= 1\n",
    "        else :\n",
    "            raise KeyError(e)\n",
    "            \n",
    "    def pop(self): # t(n) = [1 , N>>n]\n",
    "        if len(self) == 0 :\n",
    "            raise KeyError('pop from an empty set')\n",
    "        for i,e in enumerate(self.t):\n",
    "            if e != myset.EMPTY:\n",
    "                self.t[i] = myset.EMPTY\n",
    "                self.n -= 1\n",
    "                return e\n",
    "\n",
    "    def lf(self): # t(n) = 1\n",
    "        return self.n / len(self.t)\n",
    "        "
   ]
  },
  {
   "cell_type": "code",
   "execution_count": 52,
   "metadata": {},
   "outputs": [
    {
     "name": "stdout",
     "output_type": "stream",
     "text": [
      "{3: 'hiru', 'laux': 4} 2 17 0.11764705882352941\n",
      "{3: 'hiru', 'laux': 4} 2 25 0.08\n",
      "{3: 'hiru', 'laux': 4} 2 11 0.18181818181818182\n"
     ]
    }
   ],
   "source": [
    "def h_lf(h):\n",
    "    return h_len(h)/len(h)\n",
    "print(h_str(h),h_len(h),len(h),h_lf(h))\n",
    "h_resize(h,25)\n",
    "print(h_str(h),h_len(h),len(h),h_lf(h))\n",
    "h_resize(h,11)\n",
    "print(h_str(h),h_len(h),len(h),h_lf(h))"
   ]
  },
  {
   "cell_type": "markdown",
   "metadata": {
    "slideshow": {
     "slide_type": "slide"
    }
   },
   "source": [
    "Frogak egin ditzagun...."
   ]
  },
  {
   "cell_type": "code",
   "execution_count": 53,
   "metadata": {},
   "outputs": [
    {
     "name": "stdout",
     "output_type": "stream",
     "text": [
      "14 10 0.7142857142857143\n",
      "112 100 0.8928571428571429\n",
      "1792 1000 0.5580357142857143\n",
      "14336 10000 0.6975446428571429\n"
     ]
    },
    {
     "data": {
      "text/plain": [
       "[7, 14, 28, 56, 112, 224, 448, 896, 1792, 3584, 7168, 14336, 28672, 57344]"
      ]
     },
     "execution_count": 53,
     "metadata": {},
     "output_type": "execute_result"
    }
   ],
   "source": [
    "for n in 10,100,1000,10000 :\n",
    "    h = h_new()\n",
    "    for i in range(n):\n",
    "        h_put(h,i,str(i))\n",
    "    print(len(h),h_len(h),h_lf(h))\n",
    "\n",
    "[7 * (2 ** i) for i in range(14)]\n",
    "    "
   ]
  },
  {
   "cell_type": "markdown",
   "metadata": {
    "slideshow": {
     "slide_type": "fragment"
    }
   },
   "source": [
    "Zenbaki osoen hash balioa bere burua delako, `h` zerrendaren tamaina gordetzen ari garen `i` gako handiena baina handiagoa izatea nahikoa da... **EZ DA KOLISIORIK EGONGO**"
   ]
  },
  {
   "cell_type": "code",
   "execution_count": 54,
   "metadata": {
    "slideshow": {
     "slide_type": "slide"
    }
   },
   "outputs": [
    {
     "name": "stdout",
     "output_type": "stream",
     "text": [
      "448 10 0.022321428571428572\n",
      "14336 100 0.006975446428571429\n",
      "229376 1000 0.004359654017857143\n",
      "117440512 10000 8.514949253627233e-05\n"
     ]
    }
   ],
   "source": [
    "for n in 10,100,1000,10000 :\n",
    "    h = h_new()\n",
    "    for i in range(n):\n",
    "        h_put(h,str(i),i)\n",
    "    print(len(h),h_len(h),h_lf(h))"
   ]
  },
  {
   "cell_type": "markdown",
   "metadata": {
    "slideshow": {
     "slide_type": "slide"
    }
   },
   "source": [
    "Lehenengo kasuan, gakoak `[0,n]` tarteko zenbakiak izan beharrean auzazkoak izan balira..."
   ]
  },
  {
   "cell_type": "code",
   "execution_count": null,
   "metadata": {
    "slideshow": {
     "slide_type": "fragment"
    }
   },
   "outputs": [],
   "source": [
    "from random import randrange\n",
    "for n in 10,100,1000,10000 :\n",
    "    h = h_new()\n",
    "    for i in range(n):\n",
    "        h_put(h,randrange(1000000000),'KAKA!')\n",
    "    print(len(h),h_len(h),h_lf(h))"
   ]
  },
  {
   "cell_type": "markdown",
   "metadata": {
    "slideshow": {
     "slide_type": "slide"
    }
   },
   "source": [
    "#### 10 - Hiztegien beste hainbat funtzio falta dira..."
   ]
  },
  {
   "cell_type": "markdown",
   "metadata": {
    "slideshow": {
     "slide_type": "slide"
    }
   },
   "source": [
    "### `h_values()`\n",
    "\n",
    "```\n",
    "  D.values() -> an object providing a view on D's values\n",
    "```"
   ]
  },
  {
   "cell_type": "markdown",
   "metadata": {
    "slideshow": {
     "slide_type": "slide"
    }
   },
   "source": [
    "### `h_clear()`\n",
    "\n",
    "```\n",
    "  D.clear() -> None.  Remove all items from D.\n",
    "```"
   ]
  },
  {
   "cell_type": "markdown",
   "metadata": {
    "slideshow": {
     "slide_type": "slide"
    }
   },
   "source": [
    "### `h_pop(k[,d])`\n",
    "\n",
    "```\n",
    "  D.pop(k[,d]) -> v, remove specified key and return the corresponding value.\n",
    "  If key is not found, d is returned if given, otherwise KeyError is raised\n",
    "```"
   ]
  },
  {
   "cell_type": "markdown",
   "metadata": {
    "slideshow": {
     "slide_type": "slide"
    }
   },
   "source": [
    "### `h_popitem()`\n",
    "\n",
    "```\n",
    "  D.popitem() -> (k, v), remove and return some (key, value) pair as a\n",
    "  2-tuple; but raise KeyError if D is empty.\n",
    "```"
   ]
  },
  {
   "cell_type": "markdown",
   "metadata": {
    "slideshow": {
     "slide_type": "slide"
    }
   },
   "source": [
    "### `h_setdefault(key, default=None)`\n",
    "\n",
    "```\n",
    "  Insert key with a value of default if key is not in the dictionary.      \n",
    "  Return the value for key if key is in the dictionary, else default.\n",
    "```"
   ]
  },
  {
   "cell_type": "markdown",
   "metadata": {
    "slideshow": {
     "slide_type": "slide"
    }
   },
   "source": [
    "#### 11 - Hiztegiaren tamaina\n",
    "\n",
    "Sortutako egituran, hiztegiaren tamaina kontsultatu nahi dugun bakoitzean, zeharkatu egin behar dugu eta `None`-ren ezberdinak diren elementu kopurua kontatu. Zerrendan hiztegiaren tamaina gordeko bagenu, bizkorragoa litzateke:\n",
    "\n",
    "* `h[-1]`-en hiztegiaren tamaina gorde\n",
    "* Hash Taularen tamaina: `N = len(h)-1`\n",
    "* $g$ gako bati taulan dagokion posizioa: $i \\; = \\; hash(g)\\; \\% \\; N$\n",
    "* Okupazio aldaketak:\n",
    "   * hiztegia sortzean, `h[-1] = 0`\n",
    "   * sarrera bat gehitzean, `h[-1] += 1`\n",
    "   * sarrera bat ezabatzean, `h[-1] -= 1`\n",
    "* `LF = h[-1]/(len(h)-1)`"
   ]
  },
  {
   "cell_type": "markdown",
   "metadata": {
    "slideshow": {
     "slide_type": "slide"
    }
   },
   "source": [
    "Beste aukera posible bat, hiztegia bi elementutako zerrenda baten bidez adieraztea litzateke. Zerrendako lehenengo elementua Hash Taula gordetzen dueneko zerrenda litzateke eta bigarrena hiztegiaren tamaina (taularen okupazioa):\n",
    "* `h = [taula , okupazioa]`\n",
    "* Hash Taularen tamaina: `N = len(h[0])`\n",
    "* $g$ gako bati taulan dagokion posizioa: $i \\; = \\; hash(g)\\; \\% \\; N$\n",
    "* Okupazio aldaketak:\n",
    "   * hiztegia sortzean, `h[1] = 0`\n",
    "   * sarrera bat gehitzean, `h[1] += 1`\n",
    "   * sarrera bat ezabatzean, `h[1] -= 1`\n",
    "* `LF = h[1]/len(h[0])`"
   ]
  }
 ],
 "metadata": {
  "celltoolbar": "Slideshow",
  "kernelspec": {
   "display_name": "Python 3",
   "language": "python",
   "name": "python3"
  },
  "language_info": {
   "codemirror_mode": {
    "name": "ipython",
    "version": 3
   },
   "file_extension": ".py",
   "mimetype": "text/x-python",
   "name": "python",
   "nbconvert_exporter": "python",
   "pygments_lexer": "ipython3",
   "version": "3.7.6"
  }
 },
 "nbformat": 4,
 "nbformat_minor": 2
}
