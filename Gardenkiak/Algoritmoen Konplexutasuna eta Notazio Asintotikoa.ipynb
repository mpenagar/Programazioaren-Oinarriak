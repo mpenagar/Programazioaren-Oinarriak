{
 "cells": [
  {
   "cell_type": "markdown",
   "metadata": {
    "slideshow": {
     "slide_type": "slide"
    }
   },
   "source": [
    "# Algoritmoen Konplexutasuna eta Notazio Asintotikoa\n",
    "\n",
    "<img src=\"../img/konplexutasuna.jpg\" alt=\"Konplexutasuna\" style=\"width: 600px;\"/>"
   ]
  },
  {
   "cell_type": "markdown",
   "metadata": {
    "slideshow": {
     "slide_type": "slide"
    }
   },
   "source": [
    "# Algoritmoen Konplexutasuna eta Notazio Asintotikoa\n",
    "\n",
    "* Problema bat algoritmo ezberdinekin ebatzi daitezke\n",
    "* Zeren araberea aukeratuko dugu?\n",
    "   * Ulergarritasuna\n",
    "   * Inplementatzeko erreztasuna\n",
    "   * Exekutatzeko behar duen denbora\n",
    "      * **Denbora Konplexutasuna**\n",
    "   * Exekutatzeko behar duen memoria\n",
    "      * **Espazio Konplexutasuna**"
   ]
  },
  {
   "cell_type": "markdown",
   "metadata": {
    "slideshow": {
     "slide_type": "fragment"
    }
   },
   "source": [
    "&rarr;  Gai honetan **Denbora Konplexutasuna** aztertuko dugu."
   ]
  },
  {
   "cell_type": "markdown",
   "metadata": {
    "slideshow": {
     "slide_type": "slide"
    }
   },
   "source": [
    "## Denbora Konplexutasunaren azterketa enpirikoa\n",
    "\n",
    "* Algoritmo ezberdinen exekuzio denborak neurtu\n",
    "\n",
    "<center><img src=\"../img/cronometro.jpg\" alt=\"Konplexutasuna\" style=\"width: 300px;\"/></center>"
   ]
  },
  {
   "cell_type": "markdown",
   "metadata": {
    "slideshow": {
     "slide_type": "slide"
    }
   },
   "source": [
    "### Adibide bat: Ordenazio algoritmoa\n",
    "\n",
    "* Oinarria: Zerrenda bat ordenatua dago, ondoz-ondoko elementu guztiak ordenatuak badaude"
   ]
  },
  {
   "cell_type": "code",
   "execution_count": 45,
   "metadata": {
    "slideshow": {
     "slide_type": "fragment"
    }
   },
   "outputs": [],
   "source": [
    "def isOrdered(z):\n",
    "    return all(z[i]<=z[i+1] for i in range(len(z)-1))"
   ]
  },
  {
   "cell_type": "code",
   "execution_count": 46,
   "metadata": {
    "slideshow": {
     "slide_type": "fragment"
    }
   },
   "outputs": [
    {
     "data": {
      "text/plain": [
       "True"
      ]
     },
     "execution_count": 46,
     "metadata": {},
     "output_type": "execute_result"
    }
   ],
   "source": [
    "isOrdered([1,2,3,4,5,6,7,8,9,10])"
   ]
  },
  {
   "cell_type": "code",
   "execution_count": 47,
   "metadata": {
    "slideshow": {
     "slide_type": "fragment"
    }
   },
   "outputs": [
    {
     "data": {
      "text/plain": [
       "False"
      ]
     },
     "execution_count": 47,
     "metadata": {},
     "output_type": "execute_result"
    }
   ],
   "source": [
    "isOrdered([1,2,3,4,6,5,7,8,9,10])"
   ]
  },
  {
   "cell_type": "markdown",
   "metadata": {
    "slideshow": {
     "slide_type": "slide"
    }
   },
   "source": [
    "### Algoritmo zoro bat: Suffle-Sort\n",
    "\n",
    "1. Zerrendako elementuak nahastu.\n",
    "1. Zerrenda ordenatua badago, **AMAITU**\n",
    "1. Jauzi **1**-era"
   ]
  },
  {
   "cell_type": "code",
   "execution_count": 117,
   "metadata": {
    "slideshow": {
     "slide_type": "fragment"
    }
   },
   "outputs": [],
   "source": [
    "from random import shuffle\n",
    "def shuffleSort(z):\n",
    "    i = 0\n",
    "    while not isOrdered(z):\n",
    "        i += 1\n",
    "        #print(i,'-->',*z)\n",
    "        shuffle(z)\n",
    "    #print(i)"
   ]
  },
  {
   "cell_type": "markdown",
   "metadata": {
    "slideshow": {
     "slide_type": "slide"
    }
   },
   "source": [
    "Algoritmoa badabil..."
   ]
  },
  {
   "cell_type": "code",
   "execution_count": 118,
   "metadata": {
    "slideshow": {
     "slide_type": "fragment"
    }
   },
   "outputs": [
    {
     "name": "stdout",
     "output_type": "stream",
     "text": [
      "[1, 2, 3, 4, 5, 6, 7]\n"
     ]
    }
   ],
   "source": [
    "z = [2,1,4,3,5,7,6]\n",
    "shuffleSort(z)\n",
    "print(z)"
   ]
  },
  {
   "cell_type": "markdown",
   "metadata": {
    "slideshow": {
     "slide_type": "slide"
    }
   },
   "source": [
    "### Exekuzio denbora neurtzen I - notebook-eko `%timit`\n",
    "\n",
    "* https://ipython.readthedocs.io/en/stable/interactive/magics.html#magic-timeit\n",
    "* `%timit sententzia` &rarr; sententzia exekutatzeko behar den denbora neurtu\n",
    "* Defektuz, exekuzio asko egingo ditu, denboraren batazbestekoa eta desbiderapena pantailatik idatziz"
   ]
  },
  {
   "cell_type": "code",
   "execution_count": 54,
   "metadata": {
    "slideshow": {
     "slide_type": "fragment"
    }
   },
   "outputs": [
    {
     "name": "stdout",
     "output_type": "stream",
     "text": [
      "Neurketa hastera doa\n",
      "2.08 ms ± 153 µs per loop (mean ± std. dev. of 7 runs, 100 loops each)\n",
      "Amaitu da:\n"
     ]
    }
   ],
   "source": [
    "print('Neurketa hastera doa')\n",
    "%timeit sum(range(100000))\n",
    "print('Amaitu da:')"
   ]
  },
  {
   "cell_type": "markdown",
   "metadata": {
    "slideshow": {
     "slide_type": "slide"
    }
   },
   "source": [
    "Algoritmo zoroaren exekuzio denboraren neurketa..."
   ]
  },
  {
   "cell_type": "code",
   "execution_count": 123,
   "metadata": {
    "scrolled": true,
    "slideshow": {
     "slide_type": "fragment"
    }
   },
   "outputs": [
    {
     "name": "stdout",
     "output_type": "stream",
     "text": [
      "2.84 µs ± 98.2 ns per loop (mean ± std. dev. of 7 runs, 100000 loops each)\n"
     ]
    }
   ],
   "source": [
    "z = [2,1,4,3,5,7,6]\n",
    "%timeit shuffleSort(z)"
   ]
  },
  {
   "cell_type": "markdown",
   "metadata": {
    "slideshow": {
     "slide_type": "fragment"
    }
   },
   "source": [
    "&rarr; nahiko bizkorra dirudi...."
   ]
  },
  {
   "cell_type": "markdown",
   "metadata": {
    "slideshow": {
     "slide_type": "fragment"
    }
   },
   "source": [
    "&rarr; **bizkorregia**"
   ]
  },
  {
   "cell_type": "markdown",
   "metadata": {
    "slideshow": {
     "slide_type": "slide"
    }
   },
   "source": [
    "* `%timit -n int -r int sententzia` &rarr; _loops_ eta _runs_ aukeratu"
   ]
  },
  {
   "cell_type": "code",
   "execution_count": 124,
   "metadata": {
    "slideshow": {
     "slide_type": "fragment"
    }
   },
   "outputs": [
    {
     "name": "stdout",
     "output_type": "stream",
     "text": [
      "183 ms ± 0 ns per loop (mean ± std. dev. of 1 run, 1 loop each)\n"
     ]
    }
   ],
   "source": [
    "z = [2,1,4,3,5,7,6]\n",
    "%timeit -n 1 -r 1 shuffleSort(z)"
   ]
  },
  {
   "cell_type": "markdown",
   "metadata": {
    "slideshow": {
     "slide_type": "fragment"
    }
   },
   "source": [
    "* x µs &rarr; x ms ????\n",
    "\n",
    "* zerbait txarto dabil..."
   ]
  },
  {
   "cell_type": "markdown",
   "metadata": {
    "slideshow": {
     "slide_type": "slide"
    }
   },
   "source": [
    "Eta 2 *run* egiten baditugu?"
   ]
  },
  {
   "cell_type": "code",
   "execution_count": 125,
   "metadata": {
    "slideshow": {
     "slide_type": "fragment"
    }
   },
   "outputs": [
    {
     "name": "stdout",
     "output_type": "stream",
     "text": [
      "The slowest run took 3552.94 times longer than the fastest. This could mean that an intermediate result is being cached.\n",
      "6.13 ms ± 6.13 ms per loop (mean ± std. dev. of 2 runs, 1 loop each)\n"
     ]
    }
   ],
   "source": [
    "z = [2,1,4,3,5,7,6]\n",
    "%timeit -n 1 -r 2 shuffleSort(z)"
   ]
  },
  {
   "cell_type": "markdown",
   "metadata": {
    "slideshow": {
     "slide_type": "fragment"
    }
   },
   "source": [
    "* `%timeit`-aren lehenengo exekuzioak zerrenda ordenatzen du\n",
    "* Bigarrenetik aurrera ordenatua dago\n",
    "```python\n",
    "z = [2,1,4,3,5,7,6]\n",
    "%timeit shuffleSort(z)\n",
    "```\n",
    "* Ez dugu denbora ongi neurtzen `-n 1 -r 1` jartzen ez badugu"
   ]
  },
  {
   "cell_type": "markdown",
   "metadata": {
    "slideshow": {
     "slide_type": "slide"
    }
   },
   "source": [
    "### Exekuzio denbora neurtzen II - notebook-eko `%%timit`\n",
    "\n",
    "* https://ipython.readthedocs.io/en/stable/interactive/magics.html#magic-timeit\n",
    "* `%%timit` zeldako lehen agindua &rarr; zelda osoa exekutatzeko behar den denbora neurtu"
   ]
  },
  {
   "cell_type": "code",
   "execution_count": 126,
   "metadata": {
    "slideshow": {
     "slide_type": "fragment"
    }
   },
   "outputs": [
    {
     "name": "stdout",
     "output_type": "stream",
     "text": [
      "Neurketa hastera doa\n",
      "Amaitu da:\n",
      "Neurketa hastera doa\n",
      "Amaitu da:\n",
      "Neurketa hastera doa\n",
      "Amaitu da:\n",
      "Neurketa hastera doa\n",
      "Amaitu da:\n",
      "Neurketa hastera doa\n",
      "Amaitu da:\n",
      "Neurketa hastera doa\n",
      "Amaitu da:\n",
      "1.9 ms ± 18.7 µs per loop (mean ± std. dev. of 3 runs, 2 loops each)\n"
     ]
    }
   ],
   "source": [
    "%%timeit -n 2 -r 3\n",
    "print('Neurketa hastera doa')\n",
    "sum(range(100000))\n",
    "print('Amaitu da:')"
   ]
  },
  {
   "cell_type": "markdown",
   "metadata": {
    "slideshow": {
     "slide_type": "slide"
    }
   },
   "source": [
    "Orain ez gara arduratu behar _loops_ eta _runs_ aukeratzeaz"
   ]
  },
  {
   "cell_type": "code",
   "execution_count": 127,
   "metadata": {
    "slideshow": {
     "slide_type": "fragment"
    }
   },
   "outputs": [
    {
     "name": "stdout",
     "output_type": "stream",
     "text": [
      "54.4 ms ± 9.67 ms per loop (mean ± std. dev. of 7 runs, 10 loops each)\n"
     ]
    }
   ],
   "source": [
    "%%timeit\n",
    "z = [2,1,4,3,5,7,6]\n",
    "shuffleSort(z)"
   ]
  },
  {
   "cell_type": "markdown",
   "metadata": {
    "slideshow": {
     "slide_type": "fragment"
    }
   },
   "source": [
    "&rarr; Neurtzen ari garen denboran, zerrendaren sorrera bere barne du"
   ]
  },
  {
   "cell_type": "code",
   "execution_count": 128,
   "metadata": {
    "slideshow": {
     "slide_type": "fragment"
    }
   },
   "outputs": [
    {
     "name": "stdout",
     "output_type": "stream",
     "text": [
      "149 ns ± 1.2 ns per loop (mean ± std. dev. of 7 runs, 10000000 loops each)\n"
     ]
    }
   ],
   "source": [
    "%%timeit\n",
    "z = [2,1,4,3,5,7,6]"
   ]
  },
  {
   "cell_type": "markdown",
   "metadata": {
    "slideshow": {
     "slide_type": "fragment"
    }
   },
   "source": [
    "&rarr; guztiz arbuiagarria da"
   ]
  },
  {
   "cell_type": "markdown",
   "metadata": {
    "slideshow": {
     "slide_type": "slide"
    }
   },
   "source": [
    "### Exekuzio denbora neurtzen III - `timit` modulua\n",
    "\n",
    "* https://docs.python.org/3.8/library/timeit.html\n",
    "* `timeit.timeit(stmt='pass', setup='pass', timer=<default timer>, number=1000000, globals=None)`\n",
    "   * `stmt` sententziaren `number` exekuzioek behar duten denbora\n",
    "* `timeit.repeat(stmt='pass', setup='pass', timer=<default timer>, repeat=5, number=1000000, globals=None)`\n",
    "   * `stmt` sententziaren `number` exekuzioek behar duten denbora `repeat` aldiz"
   ]
  },
  {
   "cell_type": "code",
   "execution_count": 129,
   "metadata": {
    "slideshow": {
     "slide_type": "slide"
    }
   },
   "outputs": [
    {
     "data": {
      "text/plain": [
       "1.87910469295457"
      ]
     },
     "execution_count": 129,
     "metadata": {},
     "output_type": "execute_result"
    }
   ],
   "source": [
    "import timeit\n",
    "timeit.timeit('sum(range(100000))',number=1000)"
   ]
  },
  {
   "cell_type": "code",
   "execution_count": 130,
   "metadata": {
    "slideshow": {
     "slide_type": "fragment"
    }
   },
   "outputs": [
    {
     "data": {
      "text/plain": [
       "[0.1845613829791546,\n",
       " 0.1835613469593227,\n",
       " 0.18896639999002218,\n",
       " 0.18339652987197042,\n",
       " 0.18338739220052958,\n",
       " 0.1832624259404838,\n",
       " 0.18339323299005628,\n",
       " 0.18333898205310106,\n",
       " 0.18331931391730905,\n",
       " 0.1833001160994172]"
      ]
     },
     "execution_count": 130,
     "metadata": {},
     "output_type": "execute_result"
    }
   ],
   "source": [
    "timeit.repeat('sum(range(100000))',number=100, repeat=10)"
   ]
  },
  {
   "cell_type": "markdown",
   "metadata": {
    "slideshow": {
     "slide_type": "fragment"
    }
   },
   "source": [
    "&rarr; Saiatu gintezke `%%timit` moduko bat sortzen, edozein lekutan erabiltzeko."
   ]
  },
  {
   "cell_type": "code",
   "execution_count": 71,
   "metadata": {
    "slideshow": {
     "slide_type": "slide"
    }
   },
   "outputs": [],
   "source": [
    "# prints a timing msg such as:\n",
    "# 66.2 ns ± 0.104 ns per loop (mean ± std. dev. of 7 runs, 10000000 loops each)\n",
    "def mytimeit(stmt='pass',loops=100,runs=7,setup='pass',globals=None):\n",
    "    z = timeit.repeat(stmt=stmt,number=loops,repeat=runs,setup=setup,globals=globals)\n",
    "    z = [x/loops for x in z]\n",
    "    mean = sum(z)/runs\n",
    "    std = (sum((x-mean)**2 for x in z)/(runs-1))**0.5 if runs>1 else 0.0\n",
    "    if mean >= 1.0 :\n",
    "        unit = 's'\n",
    "    elif mean >= 1e-3 :\n",
    "        unit = 'ms'\n",
    "        mean *= 1e3\n",
    "        std *= 1e3\n",
    "    elif mean >= 1e-6 :\n",
    "        unit = 'µs'\n",
    "        mean *= 1e6\n",
    "        std *= 1e6\n",
    "    else :\n",
    "        unit = 'ns'\n",
    "        mean *= 1e9\n",
    "        std *= 1e9\n",
    "    #print(f'{mean} {unit} ± {std} {unit} per loop (mean ± std. dev. of {runs} runs, {loops} loops each)')\n",
    "    print(f'{mean:.2f} {unit} ± {std:.2f} {unit} per loop (mean ± std. dev. of {runs} runs, {loops} loops each)')"
   ]
  },
  {
   "cell_type": "code",
   "execution_count": 72,
   "metadata": {
    "slideshow": {
     "slide_type": "slide"
    }
   },
   "outputs": [
    {
     "name": "stdout",
     "output_type": "stream",
     "text": [
      "2.23 ms ± 0.01 ms per loop (mean ± std. dev. of 7 runs, 100 loops each)\n",
      "2.06 ms ± 74.1 µs per loop (mean ± std. dev. of 7 runs, 100 loops each)\n"
     ]
    }
   ],
   "source": [
    "mytimeit('sum(range(100000))')\n",
    "%timeit sum(range(100000))"
   ]
  },
  {
   "cell_type": "markdown",
   "metadata": {
    "slideshow": {
     "slide_type": "fragment"
    }
   },
   "source": [
    "Lerro anitzetako kodea neurtzeko:"
   ]
  },
  {
   "cell_type": "code",
   "execution_count": 73,
   "metadata": {
    "slideshow": {
     "slide_type": "fragment"
    }
   },
   "outputs": [
    {
     "name": "stdout",
     "output_type": "stream",
     "text": [
      "8.93 ms ± 0.30 ms per loop (mean ± std. dev. of 7 runs, 100 loops each)\n"
     ]
    }
   ],
   "source": [
    "stmt='''\n",
    "b = 0\n",
    "for i in range(100000):\n",
    "    b += i\n",
    "'''\n",
    "\n",
    "mytimeit(stmt=stmt)"
   ]
  },
  {
   "cell_type": "markdown",
   "metadata": {
    "slideshow": {
     "slide_type": "slide"
    }
   },
   "source": [
    "Saia gitezke algoritmo zoroa neurtzen..."
   ]
  },
  {
   "cell_type": "code",
   "execution_count": 75,
   "metadata": {
    "slideshow": {
     "slide_type": "fragment"
    }
   },
   "outputs": [],
   "source": [
    "stmt='''\n",
    "z = [2,1,4,3,5,7,6]\n",
    "shuffleSort(z)\n",
    "'''\n",
    "\n",
    "# Errorea gertatuko da, timit moduluak beste ingurune batetan exekutatzen\n",
    "# duelako kodea, eta beraz shuffleSort funtzioa ez dago definitua\n",
    "#mytimeit(stmt=stmt)"
   ]
  },
  {
   "cell_type": "markdown",
   "metadata": {
    "slideshow": {
     "slide_type": "slide"
    }
   },
   "source": [
    "* `globals` argumentuari `globals()` builtin funtzioaren emaitza pasa.\n",
    "* https://docs.python.org/3/library/functions.html#globals"
   ]
  },
  {
   "cell_type": "code",
   "execution_count": null,
   "metadata": {},
   "outputs": [],
   "source": [
    "%%timeit\n",
    "z = [2,1,4,3,5,7,6]\n",
    "shuffleSort(z)"
   ]
  },
  {
   "cell_type": "code",
   "execution_count": 77,
   "metadata": {},
   "outputs": [],
   "source": [
    "#globals()"
   ]
  },
  {
   "cell_type": "code",
   "execution_count": 78,
   "metadata": {
    "slideshow": {
     "slide_type": "fragment"
    }
   },
   "outputs": [
    {
     "name": "stdout",
     "output_type": "stream",
     "text": [
      "52.83 ms ± 13.67 ms per loop (mean ± std. dev. of 7 runs, 20 loops each)\n"
     ]
    }
   ],
   "source": [
    "stmt='''\n",
    "z = [2,1,4,3,5,7,6]\n",
    "shuffleSort(z)\n",
    "'''\n",
    "\n",
    "mytimeit(stmt=stmt,loops=20,globals=globals())"
   ]
  },
  {
   "cell_type": "markdown",
   "metadata": {
    "slideshow": {
     "slide_type": "slide"
    }
   },
   "source": [
    "Eta zerrenden `sort` funtzioarekin konparatzen badugu?"
   ]
  },
  {
   "cell_type": "code",
   "execution_count": 79,
   "metadata": {
    "slideshow": {
     "slide_type": "fragment"
    }
   },
   "outputs": [
    {
     "name": "stdout",
     "output_type": "stream",
     "text": [
      "324 ns ± 4.64 ns per loop (mean ± std. dev. of 7 runs, 1000000 loops each)\n"
     ]
    }
   ],
   "source": [
    "%%timeit\n",
    "z = [2,1,4,3,5,7,6]\n",
    "z.sort()"
   ]
  },
  {
   "cell_type": "code",
   "execution_count": 80,
   "metadata": {
    "slideshow": {
     "slide_type": "fragment"
    }
   },
   "outputs": [
    {
     "name": "stdout",
     "output_type": "stream",
     "text": [
      "322.35 ns ± 2.22 ns per loop (mean ± std. dev. of 7 runs, 1000000 loops each)\n"
     ]
    }
   ],
   "source": [
    "stmt='''\n",
    "z = [2,1,4,3,5,7,6]\n",
    "z.sort()\n",
    "'''\n",
    "\n",
    "mytimeit(stmt=stmt,globals=globals(),loops=1000000)"
   ]
  },
  {
   "cell_type": "code",
   "execution_count": 81,
   "metadata": {
    "slideshow": {
     "slide_type": "fragment"
    }
   },
   "outputs": [
    {
     "name": "stdout",
     "output_type": "stream",
     "text": [
      "325.41 ns ± 2.34 ns per loop (mean ± std. dev. of 7 runs, 1000000 loops each)\n"
     ]
    }
   ],
   "source": [
    "stmt='''\n",
    "z = [2,1,4,3,5,7,6]\n",
    "z.sort()\n",
    "'''\n",
    "\n",
    "mytimeit(stmt=stmt,loops=1000000,runs=7,globals=globals())"
   ]
  },
  {
   "cell_type": "markdown",
   "metadata": {
    "slideshow": {
     "slide_type": "slide"
    }
   },
   "source": [
    "Gure ordenazio algoritmo zoroaren eta python-eko `sort`-aren arteko ezberdintasuna ikaragarri handituko da **zerrendaren tamaina luzatu ahala**..."
   ]
  },
  {
   "cell_type": "code",
   "execution_count": 82,
   "metadata": {
    "slideshow": {
     "slide_type": "fragment"
    }
   },
   "outputs": [
    {
     "name": "stdout",
     "output_type": "stream",
     "text": [
      "--- 1 ---\n",
      "5.98 µs ± 0.00 µs per loop (mean ± std. dev. of 1 runs, 1 loops each)\n",
      "--- 2 ---\n",
      "4.30 µs ± 0.00 µs per loop (mean ± std. dev. of 1 runs, 1 loops each)\n",
      "--- 3 ---\n",
      "41.23 µs ± 0.00 µs per loop (mean ± std. dev. of 1 runs, 1 loops each)\n",
      "--- 4 ---\n",
      "13.26 µs ± 0.00 µs per loop (mean ± std. dev. of 1 runs, 1 loops each)\n",
      "--- 5 ---\n",
      "3.88 ms ± 0.00 ms per loop (mean ± std. dev. of 1 runs, 1 loops each)\n",
      "--- 6 ---\n",
      "2.79 ms ± 0.00 ms per loop (mean ± std. dev. of 1 runs, 1 loops each)\n",
      "--- 7 ---\n",
      "12.65 ms ± 0.00 ms per loop (mean ± std. dev. of 1 runs, 1 loops each)\n",
      "--- 8 ---\n",
      "20.20 ms ± 0.00 ms per loop (mean ± std. dev. of 1 runs, 1 loops each)\n",
      "--- 9 ---\n",
      "1.27 s ± 0.00 s per loop (mean ± std. dev. of 1 runs, 1 loops each)\n",
      "--- 10 ---\n",
      "59.73 s ± 0.00 s per loop (mean ± std. dev. of 1 runs, 1 loops each)\n"
     ]
    }
   ],
   "source": [
    "for i in range(1,11):\n",
    "    print('---',i,'---')\n",
    "    z = list(range(i))\n",
    "    shuffle(z)\n",
    "    mytimeit('shuffleSort(z)',loops=1,runs=1,globals=globals())"
   ]
  },
  {
   "cell_type": "code",
   "execution_count": 84,
   "metadata": {
    "slideshow": {
     "slide_type": "slide"
    }
   },
   "outputs": [
    {
     "data": {
      "image/png": "[encoded data removed]",
      "text/plain": [
       "<Figure size 432x288 with 1 Axes>"
      ]
     },
     "metadata": {
      "needs_background": "light"
     },
     "output_type": "display_data"
    }
   ],
   "source": [
    "import matplotlib.pyplot as plt\n",
    "\n",
    "x = [1, 2, 3, 4, 5, 6, 7, 8, 9]\n",
    "y = [5.65, 4.59, 79.03, 336.80, 1460, 3500, 51230, 1360000, 1980000]\n",
    "\n",
    "plt.plot(x, y)\n",
    "plt.xlabel(\"tamaina\")\n",
    "plt.ylabel(\"denbora (micro segundu)\")\n",
    "plt.title(\"Denbora konplexutasuna\")\n",
    "plt.yscale('log')\n",
    "plt.show()"
   ]
  },
  {
   "cell_type": "code",
   "execution_count": 86,
   "metadata": {
    "slideshow": {
     "slide_type": "slide"
    }
   },
   "outputs": [
    {
     "name": "stdout",
     "output_type": "stream",
     "text": [
      "--- 1 ---\n",
      "1.74 µs ± 0.00 µs per loop (mean ± std. dev. of 1 runs, 1 loops each)\n",
      "--- 2 ---\n",
      "1.57 µs ± 0.00 µs per loop (mean ± std. dev. of 1 runs, 1 loops each)\n",
      "--- 3 ---\n",
      "1.26 µs ± 0.00 µs per loop (mean ± std. dev. of 1 runs, 1 loops each)\n",
      "--- 4 ---\n",
      "1.38 µs ± 0.00 µs per loop (mean ± std. dev. of 1 runs, 1 loops each)\n",
      "--- 5 ---\n",
      "1.39 µs ± 0.00 µs per loop (mean ± std. dev. of 1 runs, 1 loops each)\n",
      "--- 6 ---\n",
      "1.28 µs ± 0.00 µs per loop (mean ± std. dev. of 1 runs, 1 loops each)\n",
      "--- 7 ---\n",
      "1.35 µs ± 0.00 µs per loop (mean ± std. dev. of 1 runs, 1 loops each)\n",
      "--- 8 ---\n",
      "1.50 µs ± 0.00 µs per loop (mean ± std. dev. of 1 runs, 1 loops each)\n",
      "--- 9 ---\n",
      "1.45 µs ± 0.00 µs per loop (mean ± std. dev. of 1 runs, 1 loops each)\n",
      "--- 10 ---\n",
      "1.48 µs ± 0.00 µs per loop (mean ± std. dev. of 1 runs, 1 loops each)\n",
      "--- 11 ---\n",
      "1.51 µs ± 0.00 µs per loop (mean ± std. dev. of 1 runs, 1 loops each)\n",
      "--- 12 ---\n",
      "1.59 µs ± 0.00 µs per loop (mean ± std. dev. of 1 runs, 1 loops each)\n",
      "--- 13 ---\n",
      "1.94 µs ± 0.00 µs per loop (mean ± std. dev. of 1 runs, 1 loops each)\n",
      "--- 14 ---\n",
      "1.73 µs ± 0.00 µs per loop (mean ± std. dev. of 1 runs, 1 loops each)\n",
      "--- 15 ---\n",
      "1.74 µs ± 0.00 µs per loop (mean ± std. dev. of 1 runs, 1 loops each)\n",
      "--- 16 ---\n",
      "1.81 µs ± 0.00 µs per loop (mean ± std. dev. of 1 runs, 1 loops each)\n",
      "--- 17 ---\n",
      "2.06 µs ± 0.00 µs per loop (mean ± std. dev. of 1 runs, 1 loops each)\n",
      "--- 18 ---\n",
      "1.97 µs ± 0.00 µs per loop (mean ± std. dev. of 1 runs, 1 loops each)\n",
      "--- 19 ---\n",
      "2.21 µs ± 0.00 µs per loop (mean ± std. dev. of 1 runs, 1 loops each)\n",
      "--- 20 ---\n",
      "2.23 µs ± 0.00 µs per loop (mean ± std. dev. of 1 runs, 1 loops each)\n",
      "--- 21 ---\n",
      "2.32 µs ± 0.00 µs per loop (mean ± std. dev. of 1 runs, 1 loops each)\n",
      "--- 22 ---\n",
      "2.40 µs ± 0.00 µs per loop (mean ± std. dev. of 1 runs, 1 loops each)\n",
      "--- 23 ---\n",
      "2.46 µs ± 0.00 µs per loop (mean ± std. dev. of 1 runs, 1 loops each)\n",
      "--- 24 ---\n",
      "2.62 µs ± 0.00 µs per loop (mean ± std. dev. of 1 runs, 1 loops each)\n",
      "--- 25 ---\n",
      "2.78 µs ± 0.00 µs per loop (mean ± std. dev. of 1 runs, 1 loops each)\n",
      "--- 26 ---\n",
      "2.85 µs ± 0.00 µs per loop (mean ± std. dev. of 1 runs, 1 loops each)\n",
      "--- 27 ---\n",
      "2.75 µs ± 0.00 µs per loop (mean ± std. dev. of 1 runs, 1 loops each)\n",
      "--- 28 ---\n",
      "3.08 µs ± 0.00 µs per loop (mean ± std. dev. of 1 runs, 1 loops each)\n",
      "--- 29 ---\n",
      "3.05 µs ± 0.00 µs per loop (mean ± std. dev. of 1 runs, 1 loops each)\n",
      "--- 30 ---\n",
      "2.90 µs ± 0.00 µs per loop (mean ± std. dev. of 1 runs, 1 loops each)\n",
      "--- 31 ---\n",
      "3.11 µs ± 0.00 µs per loop (mean ± std. dev. of 1 runs, 1 loops each)\n",
      "--- 32 ---\n",
      "3.25 µs ± 0.00 µs per loop (mean ± std. dev. of 1 runs, 1 loops each)\n",
      "--- 33 ---\n",
      "3.22 µs ± 0.00 µs per loop (mean ± std. dev. of 1 runs, 1 loops each)\n",
      "--- 34 ---\n",
      "3.29 µs ± 0.00 µs per loop (mean ± std. dev. of 1 runs, 1 loops each)\n",
      "--- 35 ---\n",
      "3.35 µs ± 0.00 µs per loop (mean ± std. dev. of 1 runs, 1 loops each)\n",
      "--- 36 ---\n",
      "3.80 µs ± 0.00 µs per loop (mean ± std. dev. of 1 runs, 1 loops each)\n",
      "--- 37 ---\n",
      "3.40 µs ± 0.00 µs per loop (mean ± std. dev. of 1 runs, 1 loops each)\n",
      "--- 38 ---\n",
      "3.70 µs ± 0.00 µs per loop (mean ± std. dev. of 1 runs, 1 loops each)\n",
      "--- 39 ---\n",
      "3.71 µs ± 0.00 µs per loop (mean ± std. dev. of 1 runs, 1 loops each)\n",
      "--- 40 ---\n",
      "3.77 µs ± 0.00 µs per loop (mean ± std. dev. of 1 runs, 1 loops each)\n",
      "--- 41 ---\n",
      "3.81 µs ± 0.00 µs per loop (mean ± std. dev. of 1 runs, 1 loops each)\n",
      "--- 42 ---\n",
      "4.10 µs ± 0.00 µs per loop (mean ± std. dev. of 1 runs, 1 loops each)\n",
      "--- 43 ---\n",
      "4.41 µs ± 0.00 µs per loop (mean ± std. dev. of 1 runs, 1 loops each)\n",
      "--- 44 ---\n",
      "4.20 µs ± 0.00 µs per loop (mean ± std. dev. of 1 runs, 1 loops each)\n",
      "--- 45 ---\n",
      "4.32 µs ± 0.00 µs per loop (mean ± std. dev. of 1 runs, 1 loops each)\n",
      "--- 46 ---\n",
      "4.18 µs ± 0.00 µs per loop (mean ± std. dev. of 1 runs, 1 loops each)\n",
      "--- 47 ---\n",
      "4.10 µs ± 0.00 µs per loop (mean ± std. dev. of 1 runs, 1 loops each)\n",
      "--- 48 ---\n",
      "4.93 µs ± 0.00 µs per loop (mean ± std. dev. of 1 runs, 1 loops each)\n",
      "--- 49 ---\n",
      "4.31 µs ± 0.00 µs per loop (mean ± std. dev. of 1 runs, 1 loops each)\n",
      "--- 50 ---\n",
      "4.40 µs ± 0.00 µs per loop (mean ± std. dev. of 1 runs, 1 loops each)\n",
      "--- 51 ---\n",
      "4.58 µs ± 0.00 µs per loop (mean ± std. dev. of 1 runs, 1 loops each)\n",
      "--- 52 ---\n",
      "5.11 µs ± 0.00 µs per loop (mean ± std. dev. of 1 runs, 1 loops each)\n",
      "--- 53 ---\n",
      "4.84 µs ± 0.00 µs per loop (mean ± std. dev. of 1 runs, 1 loops each)\n",
      "--- 54 ---\n",
      "4.79 µs ± 0.00 µs per loop (mean ± std. dev. of 1 runs, 1 loops each)\n",
      "--- 55 ---\n",
      "4.98 µs ± 0.00 µs per loop (mean ± std. dev. of 1 runs, 1 loops each)\n",
      "--- 56 ---\n",
      "5.27 µs ± 0.00 µs per loop (mean ± std. dev. of 1 runs, 1 loops each)\n",
      "--- 57 ---\n",
      "5.23 µs ± 0.00 µs per loop (mean ± std. dev. of 1 runs, 1 loops each)\n",
      "--- 58 ---\n",
      "5.39 µs ± 0.00 µs per loop (mean ± std. dev. of 1 runs, 1 loops each)\n",
      "--- 59 ---\n",
      "5.48 µs ± 0.00 µs per loop (mean ± std. dev. of 1 runs, 1 loops each)\n",
      "--- 60 ---\n",
      "5.64 µs ± 0.00 µs per loop (mean ± std. dev. of 1 runs, 1 loops each)\n",
      "--- 61 ---\n",
      "5.27 µs ± 0.00 µs per loop (mean ± std. dev. of 1 runs, 1 loops each)\n",
      "--- 62 ---\n",
      "5.50 µs ± 0.00 µs per loop (mean ± std. dev. of 1 runs, 1 loops each)\n",
      "--- 63 ---\n",
      "6.09 µs ± 0.00 µs per loop (mean ± std. dev. of 1 runs, 1 loops each)\n",
      "--- 64 ---\n",
      "7.02 µs ± 0.00 µs per loop (mean ± std. dev. of 1 runs, 1 loops each)\n",
      "--- 65 ---\n",
      "6.63 µs ± 0.00 µs per loop (mean ± std. dev. of 1 runs, 1 loops each)\n",
      "--- 66 ---\n",
      "6.15 µs ± 0.00 µs per loop (mean ± std. dev. of 1 runs, 1 loops each)\n",
      "--- 67 ---\n",
      "6.81 µs ± 0.00 µs per loop (mean ± std. dev. of 1 runs, 1 loops each)\n",
      "--- 68 ---\n",
      "6.30 µs ± 0.00 µs per loop (mean ± std. dev. of 1 runs, 1 loops each)\n",
      "--- 69 ---\n",
      "6.70 µs ± 0.00 µs per loop (mean ± std. dev. of 1 runs, 1 loops each)\n",
      "--- 70 ---\n",
      "6.58 µs ± 0.00 µs per loop (mean ± std. dev. of 1 runs, 1 loops each)\n",
      "--- 71 ---\n",
      "6.57 µs ± 0.00 µs per loop (mean ± std. dev. of 1 runs, 1 loops each)\n",
      "--- 72 ---\n",
      "6.71 µs ± 0.00 µs per loop (mean ± std. dev. of 1 runs, 1 loops each)\n",
      "--- 73 ---\n",
      "7.80 µs ± 0.00 µs per loop (mean ± std. dev. of 1 runs, 1 loops each)\n",
      "--- 74 ---\n",
      "7.28 µs ± 0.00 µs per loop (mean ± std. dev. of 1 runs, 1 loops each)\n",
      "--- 75 ---\n",
      "7.26 µs ± 0.00 µs per loop (mean ± std. dev. of 1 runs, 1 loops each)\n",
      "--- 76 ---\n",
      "7.09 µs ± 0.00 µs per loop (mean ± std. dev. of 1 runs, 1 loops each)\n",
      "--- 77 ---\n",
      "7.20 µs ± 0.00 µs per loop (mean ± std. dev. of 1 runs, 1 loops each)\n",
      "--- 78 ---\n",
      "7.36 µs ± 0.00 µs per loop (mean ± std. dev. of 1 runs, 1 loops each)\n",
      "--- 79 ---\n",
      "7.30 µs ± 0.00 µs per loop (mean ± std. dev. of 1 runs, 1 loops each)\n",
      "--- 80 ---\n",
      "8.05 µs ± 0.00 µs per loop (mean ± std. dev. of 1 runs, 1 loops each)\n",
      "--- 81 ---\n",
      "7.53 µs ± 0.00 µs per loop (mean ± std. dev. of 1 runs, 1 loops each)\n",
      "--- 82 ---\n",
      "7.83 µs ± 0.00 µs per loop (mean ± std. dev. of 1 runs, 1 loops each)\n",
      "--- 83 ---\n",
      "7.63 µs ± 0.00 µs per loop (mean ± std. dev. of 1 runs, 1 loops each)\n",
      "--- 84 ---\n",
      "7.67 µs ± 0.00 µs per loop (mean ± std. dev. of 1 runs, 1 loops each)\n",
      "--- 85 ---\n",
      "8.47 µs ± 0.00 µs per loop (mean ± std. dev. of 1 runs, 1 loops each)\n",
      "--- 86 ---\n",
      "8.35 µs ± 0.00 µs per loop (mean ± std. dev. of 1 runs, 1 loops each)\n",
      "--- 87 ---\n",
      "7.77 µs ± 0.00 µs per loop (mean ± std. dev. of 1 runs, 1 loops each)\n",
      "--- 88 ---\n",
      "7.97 µs ± 0.00 µs per loop (mean ± std. dev. of 1 runs, 1 loops each)\n",
      "--- 89 ---\n",
      "8.63 µs ± 0.00 µs per loop (mean ± std. dev. of 1 runs, 1 loops each)\n",
      "--- 90 ---\n",
      "8.57 µs ± 0.00 µs per loop (mean ± std. dev. of 1 runs, 1 loops each)\n",
      "--- 91 ---\n",
      "8.75 µs ± 0.00 µs per loop (mean ± std. dev. of 1 runs, 1 loops each)\n",
      "--- 92 ---\n",
      "8.51 µs ± 0.00 µs per loop (mean ± std. dev. of 1 runs, 1 loops each)\n",
      "--- 93 ---\n",
      "8.64 µs ± 0.00 µs per loop (mean ± std. dev. of 1 runs, 1 loops each)\n",
      "--- 94 ---\n",
      "8.43 µs ± 0.00 µs per loop (mean ± std. dev. of 1 runs, 1 loops each)\n",
      "--- 95 ---\n",
      "8.52 µs ± 0.00 µs per loop (mean ± std. dev. of 1 runs, 1 loops each)\n",
      "--- 96 ---\n",
      "9.00 µs ± 0.00 µs per loop (mean ± std. dev. of 1 runs, 1 loops each)\n",
      "--- 97 ---\n",
      "8.97 µs ± 0.00 µs per loop (mean ± std. dev. of 1 runs, 1 loops each)\n",
      "--- 98 ---\n",
      "9.07 µs ± 0.00 µs per loop (mean ± std. dev. of 1 runs, 1 loops each)\n",
      "--- 99 ---\n",
      "9.49 µs ± 0.00 µs per loop (mean ± std. dev. of 1 runs, 1 loops each)\n"
     ]
    }
   ],
   "source": [
    "for i in range(1,100):\n",
    "    print('---',i,'---')\n",
    "    z = list(range(i))\n",
    "    shuffle(z)\n",
    "    mytimeit('z.sort()',loops=1,runs=1,globals=globals())"
   ]
  },
  {
   "cell_type": "markdown",
   "metadata": {
    "slideshow": {
     "slide_type": "slide"
    }
   },
   "source": [
    "### Hiztegien indexazioa vs zeharkatzea"
   ]
  },
  {
   "cell_type": "code",
   "execution_count": 87,
   "metadata": {
    "slideshow": {
     "slide_type": "fragment"
    }
   },
   "outputs": [
    {
     "name": "stdout",
     "output_type": "stream",
     "text": [
      "333283335000 333283335000 333283335000\n"
     ]
    }
   ],
   "source": [
    "def f1(h):\n",
    "    b = 0\n",
    "    for k in h:\n",
    "        b += k*h[k]\n",
    "    return b\n",
    "\n",
    "def f2(h):\n",
    "    b = 0\n",
    "    for k,v in h.items():\n",
    "        b += k*v\n",
    "    return b\n",
    "\n",
    "def f3(h):\n",
    "    return sum(k*v for k,v in h.items())\n",
    "\n",
    "h = {i:i for i in range(10_000)}\n",
    "print(f1(h),f2(h),f3(h))"
   ]
  },
  {
   "cell_type": "code",
   "execution_count": 88,
   "metadata": {},
   "outputs": [
    {
     "name": "stdout",
     "output_type": "stream",
     "text": [
      "1.55 ms ± 80.1 µs per loop (mean ± std. dev. of 7 runs, 1000 loops each)\n",
      "1.4 ms ± 17.2 µs per loop (mean ± std. dev. of 7 runs, 1000 loops each)\n",
      "1.3 ms ± 36 µs per loop (mean ± std. dev. of 7 runs, 1000 loops each)\n"
     ]
    }
   ],
   "source": [
    "%timeit f1(h)\n",
    "%timeit f2(h)\n",
    "%timeit f3(h)"
   ]
  },
  {
   "cell_type": "markdown",
   "metadata": {
    "slideshow": {
     "slide_type": "slide"
    }
   },
   "source": [
    "### Hiztegien indexazioa vs zeharkatzea II"
   ]
  },
  {
   "cell_type": "code",
   "execution_count": 94,
   "metadata": {},
   "outputs": [
    {
     "name": "stdout",
     "output_type": "stream",
     "text": [
      "199475505 199475505 199475505\n"
     ]
    }
   ],
   "source": [
    "def f1(h):\n",
    "    b = 0\n",
    "    for k in h:\n",
    "        b += len(k)*h[k]\n",
    "    return b\n",
    "\n",
    "def f2(h):\n",
    "    b = 0\n",
    "    for k,v in h.items():\n",
    "        b += len(k)*v\n",
    "    return b\n",
    "\n",
    "def f3(h):\n",
    "    return sum(len(k)*v for k,v in h.items())\n",
    "\n",
    "h = {str(i):i for i in range(1,10000)}\n",
    "print(f1(h),f2(h),f3(h))"
   ]
  },
  {
   "cell_type": "code",
   "execution_count": 95,
   "metadata": {},
   "outputs": [
    {
     "name": "stdout",
     "output_type": "stream",
     "text": [
      "2.35 ms ± 48.9 µs per loop (mean ± std. dev. of 7 runs, 100 loops each)\n",
      "2.13 ms ± 4.9 µs per loop (mean ± std. dev. of 7 runs, 100 loops each)\n",
      "2.1 ms ± 39.4 µs per loop (mean ± std. dev. of 7 runs, 100 loops each)\n"
     ]
    }
   ],
   "source": [
    "%timeit f1(h)\n",
    "%timeit f2(h)\n",
    "%timeit f3(h)"
   ]
  },
  {
   "cell_type": "markdown",
   "metadata": {
    "slideshow": {
     "slide_type": "slide"
    }
   },
   "source": [
    "## Denbora Konplexutasunaren azterketa teorikoa\n",
    "\n",
    "* Algoritmo ezberdinen exekuzio denborak **estimatu**\n",
    "\n",
    "<center><img src=\"../img/guessing.gif\" alt=\"Konplexutasuna\" style=\"width: 300px;\"/></center>"
   ]
  },
  {
   "cell_type": "markdown",
   "metadata": {
    "slideshow": {
     "slide_type": "slide"
    }
   },
   "source": [
    "### Adibide bat: $n^2$ kalkulkatzen\n",
    "\n",
    "* Berreketa eragiketa existituko ez balitz..."
   ]
  },
  {
   "cell_type": "markdown",
   "metadata": {
    "slideshow": {
     "slide_type": "fragment"
    }
   },
   "source": [
    "* Hiru algoritmo ezberdin aztertuko ditugu:\n",
    "\n",
    "<center><img src=\"../img/Konplexutasuna-taula-1.png\" alt=\"Konplexutasuna\"/></center>\n",
    "\n",
    "<!--\n",
    "<table>\n",
    "<thead><tr><th><center>Biderkadura</center></th><th><center>Batura</center></th><th><center>Inkrementua</center></th></tr></thead>\n",
    "<tbody><tr>\n",
    "<td><code>result=n*n</code></td>\n",
    "<td><code>result = 0\n",
    "for i in range(n):\n",
    "    result += n</code></td>\n",
    "<td><code>result = 0\n",
    "for i in range(n):\n",
    "    for j in range(n):\n",
    "        result += 1</code></td>\n",
    "</tr></tbody>\n",
    "</table>\n",
    "-->"
   ]
  },
  {
   "cell_type": "markdown",
   "metadata": {
    "slideshow": {
     "slide_type": "slide"
    }
   },
   "source": [
    "* Oraingoz, analisia errazteko:\n",
    "\n",
    "<center><img src=\"../img/Konplexutasuna-taula-2.png\" alt=\"Konplexutasuna\"/></center>\n",
    "\n",
    "<!--\n",
    "<table>\n",
    "<thead><tr><th><center>Biderkadura</center></th><th><center>Batura</center></th><th><center>Inkrementua</center></th></tr></thead>\n",
    "<tbody><tr>\n",
    "<td><code>result=n*n</code></td>\n",
    "<td><code>result = 0\n",
    "i = 0\n",
    "while i &lt; n :\n",
    "    result += n\n",
    "    i += 1</code></td>\n",
    "<td><code>result = 0\n",
    "i = 0\n",
    "while i &lt; n :\n",
    "    j = 0\n",
    "    while j &lt; n :\n",
    "        result += 1\n",
    "        j += 1\n",
    "    i += 1</code></td>\n",
    "</tr></tbody>\n",
    "</table>\n",
    "-->"
   ]
  },
  {
   "cell_type": "markdown",
   "metadata": {
    "slideshow": {
     "slide_type": "slide"
    }
   },
   "source": [
    "* **Biderkaduran** oinarritutako algoritmoa\n",
    "\n",
    "<center><img src=\"../img/Konplexutasuna-taula-3.png\" alt=\"Konplexutasuna\"/></center>\n",
    "\n",
    "<!--\n",
    "<table>\n",
    "<thead><tr><th><center>Kodea</center></th><th><center>Eragiketa kopurua</center></tr></thead>\n",
    "<tbody><tr>\n",
    "<td><code>result=n*n</code></td>\n",
    "<td><code>&rarr; 1 biderkaketa + 1 esleipen</code></td>\n",
    "</tr></tbody>\n",
    "</table>\n",
    "-->"
   ]
  },
  {
   "cell_type": "markdown",
   "metadata": {
    "slideshow": {
     "slide_type": "slide"
    }
   },
   "source": [
    "* **Baturan** oinarritutako algoritmoa\n",
    "\n",
    "<center><img src=\"../img/Konplexutasuna-taula-4.png\" alt=\"Konplexutasuna\"/></center>\n",
    "\n",
    "<!--\n",
    "<table>\n",
    "<thead><tr><th><center>Kodea</center></th><th><center>Eragiketa kopurua</center></tr></thead>\n",
    "<tbody><tr>\n",
    "<td><code>result = 0\n",
    "i = 0\n",
    "while i &lt; n :\n",
    "    result += n\n",
    "    i += 1</code></td>\n",
    "<td><code>&rarr; 1 esleipen\n",
    "&rarr; 1 esleipen\n",
    "&rarr; (n+1) &bull; (1 konparaketa)\n",
    "&rarr; n &bull; (1 batura + 1 esleipen)\n",
    "&rarr; n &bull; (1 inkrementu)</code></td>\n",
    "</tr></tbody>\n",
    "</table>\n",
    "-->"
   ]
  },
  {
   "cell_type": "markdown",
   "metadata": {
    "slideshow": {
     "slide_type": "slide"
    }
   },
   "source": [
    "* **Inkrementuan** oinarritutako algoritmoa\n",
    "\n",
    "<center><img src=\"../img/Konplexutasuna-taula-5.png\" alt=\"Konplexutasuna\"/></center>\n",
    "\n",
    "<!--\n",
    "<table>\n",
    "<thead><tr><th><center>Kodea</center></th><th><center>Eragiketa kopurua</center></tr></thead>\n",
    "<tbody><tr>\n",
    "<td><code>result = 0\n",
    "i = 0\n",
    "while i &lt; n :\n",
    "    j = 0\n",
    "    while j &lt; n :\n",
    "        result += 1\n",
    "        j += 1\n",
    "    i += 1</code></td>\n",
    "<td><code>&rarr; 1 esleipen\n",
    "&rarr; 1 esleipen\n",
    "&rarr; (n+1) &bull; (1 konparaketa)\n",
    "&rarr; n &bull; (1 esleipen)\n",
    "&rarr; n &bull; (n+1) &bull; (1 konparaketa)\n",
    "&rarr; n &bull; n &bull;  (1 inkrementu)\n",
    "&rarr; n &bull; n &bull; (1 inkrementu)\n",
    "&rarr; n &bull; (1 inkrementu)</code></td>\n",
    "</tr></tbody>\n",
    "</table>\n",
    "-->"
   ]
  },
  {
   "cell_type": "markdown",
   "metadata": {
    "slideshow": {
     "slide_type": "slide"
    }
   },
   "source": [
    "Demagun oinarrizko eragiketa bakoitzak ondoko denborak behar dituela :\n",
    "\n",
    "|  Biderkadura  |  Batura  |   Inkrementua  |  Esleipena  |  Konparaketa  |\n",
    "|:--------:|:--------:|:--------:|:---------:|:--------:|\n",
    "|  342$\\mu s$  |  31$\\mu s$  |   1$\\mu s$  |  1$\\mu s$  |  1$\\mu s$  |\n"
   ]
  },
  {
   "cell_type": "markdown",
   "metadata": {
    "slideshow": {
     "slide_type": "fragment"
    }
   },
   "source": [
    "Orduan,\n",
    "\n",
    "|  Algoritmoa   |  Bider.   |  Batura   |   Inkr.        |  Esleip.    |  Konpa.          |  Denbora $\\mu s$  |\n",
    "| :------------ | :------:  | :------:  | :------:       | :-------:   | :------:         | :--------------:  |\n",
    "|  Biderkadura  | $\\tiny 1$ |           |                | $\\tiny 1$   |                  | $\\tiny 343$       |\n",
    "|  Batura       |           | $\\tiny n$ | $\\tiny n$      | $\\tiny n+2$ | $\\tiny n+1$      | $\\tiny 34n+3$     |\n",
    "|  Inkrementua  |           |           | $\\tiny 2n^2+n$ | $\\tiny n+2$ | $\\tiny n^2+2n+1$ | $\\tiny 3n^2+4n+3$ |\n"
   ]
  },
  {
   "cell_type": "markdown",
   "metadata": {
    "slideshow": {
     "slide_type": "slide"
    }
   },
   "source": [
    "|  Algoritmoa   |  Bider.  |  Batura  |   Inkr.  |  Esleip.  |  Konpa.  |  Denbora $\\mu s$ |\n",
    "|:--------------|:--------:|:--------:|:--------:|:---------:|:--------:|----------:|\n",
    "|  Biderkadura  |    $\\tiny 1$   |          |          |    $\\tiny 1$    |          |   $\\tiny 343$   |\n",
    "|  Batura       |          |    $\\tiny n$   |    $\\tiny n$   |  $\\tiny n+2$    |  $\\tiny n+1$   | $\\tiny 34n+3$   |\n",
    "|  Inkrementua  |          |          | $\\tiny 2n^2+n$ |  $\\tiny n+2$    | $\\tiny n^2+2n+1$ | $\\tiny 3n^2+4n+3$ |\n",
    "\n",
    "\n",
    "<center><img src=\"../img/Berreketa.png\" alt=\"Konplexutasuna\"/></center>"
   ]
  },
  {
   "cell_type": "markdown",
   "metadata": {
    "slideshow": {
     "slide_type": "slide"
    }
   },
   "source": [
    "Oinarrizko eragiketen exekuzio denborak edozein direlarik ere:\n",
    "\n",
    "|  Biderkadura  |  Batura  |   Inkrementua  |  Esleipena  |  Konparaketa  |\n",
    "|:--------:|:--------:|:--------:|:---------:|:--------:|\n",
    "|  $c_1$  |  $c_2$  |   $c_3$  |  $c_4$  |  $c_5$  |\n",
    "\n"
   ]
  },
  {
   "cell_type": "markdown",
   "metadata": {
    "slideshow": {
     "slide_type": "fragment"
    }
   },
   "source": [
    "|  Algoritmoa   |  Bider.  |  Batura  |   Inkr.  |  Esleip.  |  Konpa.  |\n",
    "|:--------------|:--------:|:--------:|:--------:|:---------:|:--------:|\n",
    "|  Biderkadura  |    $\\tiny 1$   |          |          |    $\\tiny 1$    |          | \n",
    "|  Batura       |          |    $\\tiny n$   |    $\\tiny n$   |  $\\tiny n+2$    |  $\\tiny n+1$   |\n",
    "|  Inkrementua  |          |          | $\\tiny 2n^2+n$ |  $\\tiny n+2$    | $\\tiny n^2+2n+1$ |"
   ]
  },
  {
   "cell_type": "markdown",
   "metadata": {
    "slideshow": {
     "slide_type": "fragment"
    }
   },
   "source": [
    "* Biderkadura: $c_1 + c_4$ \n",
    "* Batura: $(c_2 + c_3 + c_4 +c_5) \\cdot n + (2c_4 + c_5)$\n",
    "* Inkrementua: $(2c_3+c_5) \\cdot n^2 + (c_3 + c_4 + 2c_5) \\cdot n + (2c_4+c_5)$"
   ]
  },
  {
   "cell_type": "markdown",
   "metadata": {
    "slideshow": {
     "slide_type": "slide"
    }
   },
   "source": [
    "* Biderkadura: $c_1 + c_2$ \n",
    "* Batura: $(c_2 + c_3 + c_4 +c_5) \\cdot n + (2c_4 + c_5)$\n",
    "* Inkrementua: $(2c_3+c_5) \\cdot n^2 + (c_3 + c_4 + 2c_5) \\cdot n + (2c_4+c_5)$"
   ]
  },
  {
   "cell_type": "markdown",
   "metadata": {
    "slideshow": {
     "slide_type": "fragment"
    }
   },
   "source": [
    "Konstante berriak definituz:\n",
    "\n",
    "* Biderkadura: $k_1$ \n",
    "* Batura: $k_2 n + k_3 $\n",
    "* Inkrementua: $k_4 n^2 + k_5 n + k_6$"
   ]
  },
  {
   "cell_type": "markdown",
   "metadata": {
    "slideshow": {
     "slide_type": "slide"
    }
   },
   "source": [
    "Berdin dio $k_1 \\dots k_6$ konstanteen balioa zein den, n-ren tamaina handitu ahala:\n",
    "* Biderkadura algoritmoak $k_1$ koste **konstantea** izango du\n",
    "    * n handitu arren, denbora ez da aldatuko.\n",
    "* Batura algoritmoak $k_2 n + k_3$ koste **lineala** izango du\n",
    "    * n bikoiztean, denbora ere bikoiztu egingo da.\n",
    "* Inkrementu algoritmoak $k_4 n^2 + k_5 n + k_6$ koste **kuadratikoa** izango du\n",
    "    * n bikoiztu &rarr; denbora laukoiztu\n",
    "    * n x 10 &rarr; t x 100\n",
    "    * n x 100 &rarr; t x 10.000\n",
    "    * n x 1000 &rarr; t x 1.000.000\n",
    "    * ...\n",
    "    \n"
   ]
  },
  {
   "cell_type": "markdown",
   "metadata": {
    "slideshow": {
     "slide_type": "slide"
    }
   },
   "source": [
    "### Denbora Konplexutasunaren azterketa teorikoa:\n",
    "\n",
    "\n",
    "<p><center><em>Algoritmo baten exekuzio denborak problemaren tamainarekiko izango duen konportamolde asintotikoa</em></center></p>\n"
   ]
  },
  {
   "cell_type": "markdown",
   "metadata": {
    "slideshow": {
     "slide_type": "slide"
    }
   },
   "source": [
    "* Problemaren Tamaina:\n",
    "    * $n^2$ kalkulatzean, n\n",
    "    * Zerrenda bat ordenatzerakoan, zerrendaren luzera\n",
    "    * ...\n",
    "* Batzuetan tamaina bat baina gehiago egon daiteke\n",
    "    * Matrize batetako elementu maximoan, ilara eta zutabe kopurua\n",
    "    * ..."
   ]
  },
  {
   "cell_type": "markdown",
   "metadata": {
    "slideshow": {
     "slide_type": "slide"
    }
   },
   "source": [
    "## Eragiketetatik pausuetara: azterketa teorikoa sinplifikatzen\n",
    "\n",
    "\n",
    "<center><img src=\"../img/Pausuak.png\" alt=\"Konplexutasuna\" style=\"width: 600px;\"/></center>"
   ]
  },
  {
   "cell_type": "markdown",
   "metadata": {
    "slideshow": {
     "slide_type": "slide"
    }
   },
   "source": [
    "* Aurreko adibideetan, exekuzio denbora oinarrizko eragiketetan neurtu dugu\n",
    "    * Esleipena, Batura, Konparaketa, Inkrementua...\n",
    "* Amaieran, eragiketa ezberdinen denbora koefizienteak konbinatu egin ditugu:\n",
    "    * $(2c_3+c_5) \\cdot n^2 + (c_3 + c_4 + 2c_5) \\cdot n + (2c_4+c_5)$ &rarr; $k_4 n^2 + k_5 n + k_6$\n",
    "* Halako konbinaketak haseratik egin ditzakegu, notazioa errazteko:\n",
    "    * $k$ &rarr; pausuak/urratsak"
   ]
  },
  {
   "cell_type": "markdown",
   "metadata": {
    "slideshow": {
     "slide_type": "slide"
    }
   },
   "source": [
    "### Pausua/urratsa\n",
    "\n",
    "* Denbora konstante batetan exekutatuko den eragiketa multzoa\n",
    "    * batura &rarr; pausu 1\n",
    "    * 2 batura &rarr; pausu 1\n",
    "    * 10.000 batura &rarr; pausu 1\n",
    "    * ...\n",
    "    * batura + esleipena &rarr; pausu 1\n",
    "    * 2 x (batura + esleipena) &rarr; pausu 1\n",
    "    * 10.000 x (batura + esleipena ) &rarr; pausu 1\n",
    "    * ..."
   ]
  },
  {
   "cell_type": "markdown",
   "metadata": {
    "slideshow": {
     "slide_type": "fragment"
    }
   },
   "source": [
    "&rarr; **Problemaren tamainarekiko menpekotasunik ez duen eragiketa multzoa**    "
   ]
  },
  {
   "cell_type": "markdown",
   "metadata": {
    "slideshow": {
     "slide_type": "slide"
    }
   },
   "source": [
    "<center><img src=\"../img/Pausuak2.png\" alt=\"Konplexutasuna\" /></center>\n",
    "\n",
    "<!--\n",
    "<table>\n",
    "<thead><tr><th><center>Kodea</center></th><th><center>Pausu kopurua</center></tr></thead>\n",
    "<tbody><tr>\n",
    "<td><code>result = 0\n",
    "i = 0\n",
    "while i &lt; n :\n",
    "    j = 0\n",
    "    while j &lt; n :\n",
    "        result += 1\n",
    "        j += 1\n",
    "    i += 1</code></td>\n",
    "<td><code>\n",
    "</tr></tbody>\n",
    "</table>\n",
    "\n",
    "-->"
   ]
  },
  {
   "cell_type": "markdown",
   "metadata": {
    "slideshow": {
     "slide_type": "slide"
    }
   },
   "source": [
    "<center><img src=\"../img/Pausuak3.png\" alt=\"Konplexutasuna\" /></center>"
   ]
  },
  {
   "cell_type": "markdown",
   "metadata": {
    "slideshow": {
     "slide_type": "fragment"
    }
   },
   "source": [
    "&rarr; **Pausu Kopurua:** $t(n) = n^2+n+1$  "
   ]
  },
  {
   "cell_type": "markdown",
   "metadata": {
    "slideshow": {
     "slide_type": "slide"
    }
   },
   "source": [
    "**Algoritmo originaleetara bueltatuz:**\n",
    "\n",
    "<img src=\"../img/Konplexutasuna-taula-1.png\" alt=\"Konplexutasuna\"/>"
   ]
  },
  {
   "cell_type": "markdown",
   "metadata": {
    "slideshow": {
     "slide_type": "fragment"
    }
   },
   "source": [
    "* `range(n)` &rarr; 1 pausu\n",
    "* `for i in range(n)` &rarr; n x 1 pausu"
   ]
  },
  {
   "cell_type": "markdown",
   "metadata": {
    "slideshow": {
     "slide_type": "fragment"
    }
   },
   "source": [
    "* Biderkadura: &nbsp; $t(n) = 1$\n",
    "* Batura: &nbsp; $t(n) = n + 1$\n",
    "* Inkrementua: &nbsp; $t(n) = n^2+n+1$"
   ]
  },
  {
   "cell_type": "markdown",
   "metadata": {
    "slideshow": {
     "slide_type": "slide"
    }
   },
   "source": [
    "### Hiru algoritmoen pausu kopuruak:\n",
    "\n",
    "* Biderkadura: &nbsp; $t(n) = 1$\n",
    "* Batura: &nbsp; $t(n) = n+1$\n",
    "* Inkrementua: &nbsp; $t(n) = n^2+n+1$"
   ]
  },
  {
   "cell_type": "markdown",
   "metadata": {
    "slideshow": {
     "slide_type": "fragment"
    }
   },
   "source": [
    "* Pausuak **edozein** direlarik ere:\n",
    "    * $\\exists \\; n_a , \\forall n \\ge n_a$ Batura Inkrementua baina bizkorragoa den.\n",
    "    * $\\exists \\; n_b , \\forall n \\ge n_b$ Biderkadura Batura baina bizkorragoa den.\n",
    "    "
   ]
  },
  {
   "cell_type": "markdown",
   "metadata": {
    "slideshow": {
     "slide_type": "slide"
    }
   },
   "source": [
    "## Kasu On, Txar eta Batazbestekoa \n",
    "<br/>\n",
    "<br/>\n",
    "\n",
    "<center><img src=\"../img/GoodUglyBad.jpg\" alt=\"GoodUglyBasd\" /></center>\n"
   ]
  },
  {
   "cell_type": "markdown",
   "metadata": {
    "slideshow": {
     "slide_type": "slide"
    }
   },
   "source": [
    "Algoritmo batek emango dituen pausu kopuruak, problemaren tamaina konstante mantenduta ere, ebazten duen **kasu zehatzaren** araberakoa izan daiteke:"
   ]
  },
  {
   "cell_type": "markdown",
   "metadata": {
    "slideshow": {
     "slide_type": "fragment"
    }
   },
   "source": [
    "* `if` kontrol egitura\n",
    "    * Aurrez ez dakigu egia izango ote den\n",
    "    * batzuetan exekutatu, besteetan ez.\n",
    "* `while` kontrol egitura\n",
    "    * Aurrez ez dakigu zenbat aldiz exekutatuko ote den\n",
    "    * batzuetan askotan exekutatu, besteetan gutxitan"
   ]
  },
  {
   "cell_type": "markdown",
   "metadata": {
    "slideshow": {
     "slide_type": "slide"
    }
   },
   "source": [
    "#### Adibide bat: zerrenda batetan balio baten agerpen kopurua kalkulatu"
   ]
  },
  {
   "cell_type": "code",
   "execution_count": null,
   "metadata": {
    "slideshow": {
     "slide_type": "fragment"
    }
   },
   "outputs": [],
   "source": [
    "def kontatu(z,x):\n",
    "    k = 0\n",
    "    for y in z:\n",
    "        if x == y :\n",
    "            k += 1\n",
    "    return k"
   ]
  },
  {
   "cell_type": "markdown",
   "metadata": {
    "slideshow": {
     "slide_type": "fragment"
    }
   },
   "source": [
    "* Problemaren tamaina: $n = len(z)$"
   ]
  },
  {
   "cell_type": "markdown",
   "metadata": {
    "slideshow": {
     "slide_type": "fragment"
    }
   },
   "source": [
    "* `x` $\\ne$ `y` &rarr; 1 pausu\n",
    "* `x` $=$ `y` &rarr; 2 pausu &rarr; 1 pausu\n"
   ]
  },
  {
   "cell_type": "markdown",
   "metadata": {
    "slideshow": {
     "slide_type": "fragment"
    }
   },
   "source": [
    "* $t(n) = n + 1$"
   ]
  },
  {
   "cell_type": "markdown",
   "metadata": {
    "slideshow": {
     "slide_type": "slide"
    }
   },
   "source": [
    "#### Adibide bat: zerrenda batetan balio baten lehen agerpenaren posizioa, edo `None`"
   ]
  },
  {
   "cell_type": "code",
   "execution_count": null,
   "metadata": {
    "slideshow": {
     "slide_type": "fragment"
    }
   },
   "outputs": [],
   "source": [
    "def topatu(z,x):\n",
    "    for i,y in enumerate(z):\n",
    "        if x == y :\n",
    "            return i\n",
    "    return None"
   ]
  },
  {
   "cell_type": "markdown",
   "metadata": {
    "slideshow": {
     "slide_type": "fragment"
    }
   },
   "source": [
    "* Problemaren tamaina: $n = len(z)$"
   ]
  },
  {
   "cell_type": "markdown",
   "metadata": {
    "slideshow": {
     "slide_type": "fragment"
    }
   },
   "source": [
    "* `x` $\\ne$ `y` &rarr; 1 pausu\n",
    "* `x` $=$ `y` &rarr; 1 pausu eta *AMAITU*"
   ]
  },
  {
   "cell_type": "markdown",
   "metadata": {
    "slideshow": {
     "slide_type": "fragment"
    }
   },
   "source": [
    "* $t(n) = ???$\n",
    "    * Funtzioak jasotzen duen **zerrenda zehatzaren** araberakoa "
   ]
  },
  {
   "cell_type": "markdown",
   "metadata": {
    "slideshow": {
     "slide_type": "slide"
    }
   },
   "source": [
    "#### I - Kasu Ona (*El Bueno*)\n",
    "\n",
    "```python\n",
    "def topatu(z,x):\n",
    "    for i,y in enumerate(z):\n",
    "        if x == y :\n",
    "            return i\n",
    "    return None\n",
    "```\n",
    "\n",
    "* Problemaren tamaina **EDOZEIN** delarik ere, izan dezakegun adibiderik bizkorrena.\n",
    "    * Zerrendaren tamaina 0 dela esateak ez du balio."
   ]
  },
  {
   "cell_type": "markdown",
   "metadata": {
    "slideshow": {
     "slide_type": "fragment"
    }
   },
   "source": [
    "* Elementua zerrendaren lehenengo posizioan topatzea.\n",
    "\n",
    "* $t(n) = 1$"
   ]
  },
  {
   "cell_type": "markdown",
   "metadata": {
    "slideshow": {
     "slide_type": "slide"
    }
   },
   "source": [
    "#### II - Kasu Txarra (*El Malo*)\n",
    "\n",
    "```python\n",
    "def topatu(z,x):\n",
    "    for i,y in enumerate(z):\n",
    "        if x == y :\n",
    "            return i\n",
    "    return None\n",
    "```\n",
    "\n",
    "* Problemaren tamaina **EDOZEIN** delarik ere, izan dezakegun adibiderik motelena."
   ]
  },
  {
   "cell_type": "markdown",
   "metadata": {
    "slideshow": {
     "slide_type": "fragment"
    }
   },
   "source": [
    "* Elementua zerrendan ez egotea.\n",
    "\n",
    "* $t(n) = n+1$"
   ]
  },
  {
   "cell_type": "markdown",
   "metadata": {
    "slideshow": {
     "slide_type": "slide"
    }
   },
   "source": [
    "#### III - Batazbesteko Kasua (*El Feo*)\n",
    "\n",
    "```python\n",
    "def topatu(z,x):\n",
    "    for i,y in enumerate(z):\n",
    "        if x == y :\n",
    "            return i\n",
    "    return None\n",
    "```\n",
    "\n",
    "* Problemaren tamaina **EDOZEIN** delarik ere, *batazbestean* emango dugun pausu kopurua.\n"
   ]
  },
  {
   "cell_type": "markdown",
   "metadata": {
    "slideshow": {
     "slide_type": "fragment"
    }
   },
   "source": [
    "* Batazbestekoa kalkulatu ahal izateko, posible diren kasuen gaineko probabilitate banaketa bat definitu beharko genuke eta ondoren kasu bakoitzaren pausu kopurua bere probabilitatearekin pixatu eta batu.\n",
    "    * Edo integratu, kasu espazioa jarraia balitz"
   ]
  },
  {
   "cell_type": "markdown",
   "metadata": {
    "slideshow": {
     "slide_type": "fragment"
    }
   },
   "source": [
    "* Horrexegatik esleitu diogu *El Feo* pertsonaia..."
   ]
  },
  {
   "cell_type": "markdown",
   "metadata": {
    "slideshow": {
     "slide_type": "slide"
    }
   },
   "source": [
    "#### III - Batazbesteko Kasua (*El Feo*) kalkulatzen...\n",
    "\n",
    "```python\n",
    "def topatu(z,x):\n",
    "    for i,y in enumerate(z):\n",
    "        if x == y :\n",
    "            return i\n",
    "    return None\n",
    "```\n",
    "\n",
    "* Demagun $n$ luzerako zerrenda batetan elementu bat edozein posiziotan topatzeko edo zerrendan ez egoteko probabilitatea berdina dela, hau da, $1/(n+1)$."
   ]
  },
  {
   "cell_type": "markdown",
   "metadata": {
    "slideshow": {
     "slide_type": "fragment"
    }
   },
   "source": [
    "* $j$ posizioan dagoen elementua &rarr; $t_j(n)=j+1$ pausu"
   ]
  },
  {
   "cell_type": "markdown",
   "metadata": {
    "slideshow": {
     "slide_type": "fragment"
    }
   },
   "source": [
    "* Zerrendan ez dagoen elementua &rarr; $t_{None}(n)=n+1$ pausu"
   ]
  },
  {
   "cell_type": "markdown",
   "metadata": {
    "slideshow": {
     "slide_type": "slide"
    }
   },
   "source": [
    "* $j$ posizioan &rarr; $prob(j)=1/(n+1) \\;\\; , \\;\\;t_j(n)=j+1$\n",
    "* ez badago &rarr; $prob(None)=1/(n+1) \\;\\; , \\;\\;t_{None}(n)=n+1$"
   ]
  },
  {
   "cell_type": "markdown",
   "metadata": {
    "slideshow": {
     "slide_type": "fragment"
    }
   },
   "source": [
    "$$t(n) = \\sum_{k \\in kasuak}{prob(k) \\cdot t_k(n)} = \\left(\\sum_{j=0}^{j=n-1}{\\frac{1}{n+1} \\cdot (j+1)} \\right) + \\frac{1}{n+1} \\cdot (n+1)$$ "
   ]
  },
  {
   "cell_type": "markdown",
   "metadata": {
    "slideshow": {
     "slide_type": "fragment"
    }
   },
   "source": [
    "$$= \\left(\\frac{1}{n+1} \\sum_{i=1}^{i=n}{i}\\right) + 1 = \\frac{n}{2}+1$$ "
   ]
  },
  {
   "cell_type": "markdown",
   "metadata": {
    "slideshow": {
     "slide_type": "slide"
    }
   },
   "source": [
    "## Konplexutasun Polinomiko eta Ez Polinomikoak \n",
    "<br/>\n",
    "<br/>\n",
    "\n",
    "\n",
    "<center><img src=\"../img/Konplexutasuna-polinomioak.png\" alt=\"Konplexutasun ez polinomikoak\" /></center>\n"
   ]
  },
  {
   "cell_type": "markdown",
   "metadata": {
    "slideshow": {
     "slide_type": "slide"
    }
   },
   "source": [
    "* `for` kontrol egiturek, **ASKOTAN**, pausu kopuru polinomikoak suposatzen dituzte"
   ]
  },
  {
   "cell_type": "markdown",
   "metadata": {
    "slideshow": {
     "slide_type": "fragment"
    }
   },
   "source": [
    "* $t(n)=n$ :\n",
    "```python\n",
    "for i in range(n):\n",
    "    pausu 1\n",
    "```"
   ]
  },
  {
   "cell_type": "markdown",
   "metadata": {
    "slideshow": {
     "slide_type": "fragment"
    }
   },
   "source": [
    "* $t(n)=n^2$ :\n",
    "```python\n",
    "for i in range(n):\n",
    "    for j in range(n):\n",
    "        pausu 1\n",
    "```"
   ]
  },
  {
   "cell_type": "markdown",
   "metadata": {
    "slideshow": {
     "slide_type": "fragment"
    }
   },
   "source": [
    "* $t(n)=n^3$ :\n",
    "```python\n",
    "for i in range(n):\n",
    "    for j in range(n):\n",
    "        for k in range(n):\n",
    "            pausu 1\n",
    "```"
   ]
  },
  {
   "cell_type": "markdown",
   "metadata": {
    "slideshow": {
     "slide_type": "slide"
    }
   },
   "source": [
    "* Indizeak erabiltzen dituzten `for` kontrol egitura *garbietan* (`return/break` ez dutenak), pausu kopurua batukarien bidez nahiko erraz adierazi daiteke"
   ]
  },
  {
   "cell_type": "markdown",
   "metadata": {
    "slideshow": {
     "slide_type": "fragment"
    }
   },
   "source": [
    "* `for i in range(n)` $\\equiv$ `for i in range(0,n)` &rarr; $\\sum_{i=0}^{n-1}$"
   ]
  },
  {
   "cell_type": "markdown",
   "metadata": {
    "slideshow": {
     "slide_type": "fragment"
    }
   },
   "source": [
    "* `for j in range(i,n)` &rarr; $\\sum_{j=i}^{n-1}$"
   ]
  },
  {
   "cell_type": "markdown",
   "metadata": {
    "slideshow": {
     "slide_type": "fragment"
    }
   },
   "source": [
    "* Kontuan izan gainera:\n",
    "\n",
    "$$\\sum_{i=a}^{b} 1 = \\sum_{i=b}^{a} 1 = \\max{(a,b)}-\\min{(a,b)}+1$$\n",
    "$$\\sum_{i=1}^{n} i = \\sum_{i=n}^{1} i = \\frac{n \\cdot (n+1)}{2}$$\n"
   ]
  },
  {
   "cell_type": "markdown",
   "metadata": {
    "slideshow": {
     "slide_type": "slide"
    }
   },
   "source": [
    "<span style=\"display:block; margin-top:-20px;\">\n",
    "    \n",
    "```python\n",
    "for i in range(n):\n",
    "    pausu 1\n",
    "```\n",
    "\n",
    "&emsp;&emsp; &rarr; &emsp; $t(n) = \\sum_{i=0}^{n-1} 1 = n$"
   ]
  },
  {
   "cell_type": "markdown",
   "metadata": {
    "slideshow": {
     "slide_type": "fragment"
    }
   },
   "source": [
    "<span style=\"display:block; margin-top:-20px;\">\n",
    "    \n",
    "```python\n",
    "for i in range(n):\n",
    "    for j in range(n):\n",
    "        pausu 1\n",
    "```\n",
    "\n",
    "&emsp;&emsp; &rarr; &emsp; $t(n) = \\sum_{i=0}^{n-1} \\left( \\sum_{j=0}^{n-1} 1 \\right) = \\sum_{i=0}^{n-1} n = n^2$"
   ]
  },
  {
   "cell_type": "markdown",
   "metadata": {
    "slideshow": {
     "slide_type": "fragment"
    }
   },
   "source": [
    "<span style=\"display:block; margin-top:-20px;\">\n",
    "    \n",
    "```python\n",
    "for i in range(n):\n",
    "    for j in range(n):\n",
    "        for k in range(n):\n",
    "            pausu 1\n",
    "```\n",
    "\n",
    "&emsp;&emsp; &rarr; &emsp; $t(n) = \\sum_{i=0}^{n-1} \\left( \\sum_{j=0}^{n-1} \\left( \\sum_{k=0}^{n-1} 1 \\right) \\right) = \\sum_{i=0}^{n-1} \\left( \\sum_{j=0}^{n-1} n \\right) = \\sum_{i=0}^{n-1} n^2 = n^3$"
   ]
  },
  {
   "cell_type": "markdown",
   "metadata": {
    "slideshow": {
     "slide_type": "slide"
    }
   },
   "source": [
    "**Adibide bat:** Zerrenda batetan, bi edozein elementuren biderkadura maximoa\n",
    "\n",
    "```python\n",
    "def kontatu(z):\n",
    "    m = z[0]*z[1]\n",
    "    for i in range(n-1):\n",
    "        for j in range(i+1,n):\n",
    "            x = z[i]*z[j]\n",
    "            if x > m :\n",
    "                m = x\n",
    "    return m\n",
    "```"
   ]
  },
  {
   "cell_type": "markdown",
   "metadata": {
    "slideshow": {
     "slide_type": "fragment"
    }
   },
   "source": [
    "$$t(n) = 1 + \\sum_{i=0}^{n-2} \\left( \\sum_{j=i+1}^{n-1} 1 \\right) = 1 + \\sum_{i=0}^{n-2} (n-1-i)$$\n",
    "\n",
    "$$ \\overset{k=n-1-i}{=\\mathrel{\\mkern-3mu}=} \\;\\;  1 + \\sum_{k=n-1}^{1} k = 1 + \\frac{(n-1) \\cdot n}{2}  = \\frac{n^2}{2} - \\frac{n}{2} + 1$$"
   ]
  },
  {
   "cell_type": "markdown",
   "metadata": {
    "slideshow": {
     "slide_type": "slide"
    }
   },
   "source": [
    "* `while` kontrol egiturek, **ASKOTAN**, kasu on eta txarrak sortzen dituzte.\n",
    "* Pausu kopuruek ez dute zertan polinomikoak izan behar."
   ]
  },
  {
   "cell_type": "markdown",
   "metadata": {
    "slideshow": {
     "slide_type": "slide"
    }
   },
   "source": [
    "**Adibide bat:** $[1,n]$ arteko zenbaki arrunt bat asmatzen. Demagun funtzio bat dugula, `galdera(k)` zeinak zenbakia pentsatu duenari galdetzeko balio duen. Funtzioak `0` bueltatuko du asmatu badugu, `1` bilatzen ari garen zenbakia handiagoa bada edo `-1` txikiagoa bada."
   ]
  },
  {
   "cell_type": "markdown",
   "metadata": {
    "slideshow": {
     "slide_type": "fragment"
    }
   },
   "source": [
    "* Problemaren tamaina: $n$"
   ]
  },
  {
   "cell_type": "markdown",
   "metadata": {
    "slideshow": {
     "slide_type": "fragment"
    }
   },
   "source": [
    "* `galdera(k)` : 1 pausu"
   ]
  },
  {
   "cell_type": "markdown",
   "metadata": {
    "slideshow": {
     "slide_type": "slide"
    }
   },
   "source": [
    "* Ume oso txiki batek, halako zerbait egin lezake:\n",
    "```python\n",
    "from random import randrange \n",
    "def asmatu(n):\n",
    "    x = galdera(randrange(1,n+1))\n",
    "    while x:\n",
    "        x = galdera(randrange(1,n+1)) \n",
    "    print('Asmatu dut zure zenbakia!')\n",
    "```"
   ]
  },
  {
   "cell_type": "markdown",
   "metadata": {
    "slideshow": {
     "slide_type": "fragment"
    }
   },
   "source": [
    "* Kasu Ona (auzazki aukeratutako lehenengo zenbakia):  $t(n)=1$\n",
    "* Kasu Txarra (ez du sekula topatuko?): $t(n)\\overset{?}{=}\\infty$\n",
    "* Batazbesteko kasua: $t(n) = \\sum_{k \\in kasuak}{prob(k) \\cdot t_k(n)} = ??$"
   ]
  },
  {
   "cell_type": "markdown",
   "metadata": {
    "slideshow": {
     "slide_type": "slide"
    }
   },
   "source": [
    "* Estimazio enpirikoa:"
   ]
  },
  {
   "cell_type": "code",
   "execution_count": null,
   "metadata": {
    "slideshow": {
     "slide_type": "-"
    }
   },
   "outputs": [],
   "source": [
    "from random import random\n",
    "n = 123\n",
    "th = 1/n\n",
    "N = 100000\n",
    "b = 0\n",
    "for i in range(N):\n",
    "    k = 1\n",
    "    while random()>th :\n",
    "        k+= 1\n",
    "    b += k\n",
    "print(b/N)"
   ]
  },
  {
   "cell_type": "markdown",
   "metadata": {
    "slideshow": {
     "slide_type": "slide"
    }
   },
   "source": [
    "* Kasu Ona (auzazki aukeratutako lehenengo zenbakia):  $t(n)=1$\n",
    "* Kasu Txarra (ez du sekula topatuko?): $t(n)\\overset{?}{=}\\infty$\n",
    "* Batazbesteko kasua: $t(n) = \\sum_{k \\in kasuak}{prob(k) \\cdot t_k(n)} \\overset{enp}{=} n$"
   ]
  },
  {
   "cell_type": "markdown",
   "metadata": {
    "slideshow": {
     "slide_type": "fragment"
    }
   },
   "source": [
    "<center><img src=\"../img/Ugly.jpg\" alt=\"GoodUglyBasd\" /></center>"
   ]
  },
  {
   "cell_type": "markdown",
   "metadata": {
    "slideshow": {
     "slide_type": "slide"
    }
   },
   "source": [
    "* Umeak hobeto egiten ikas dezake:\n",
    "```python\n",
    "def asmatu(n):\n",
    "    i = 1\n",
    "    x = galdera(i)\n",
    "    while x:\n",
    "        i += 1\n",
    "        x = galdera(i)\n",
    "    print('Asmatu dut zure zenbakia!')\n",
    "```"
   ]
  },
  {
   "cell_type": "markdown",
   "metadata": {
    "slideshow": {
     "slide_type": "fragment"
    }
   },
   "source": [
    "* Kasu Ona (lehenengo zenbakia): $t(n)=1$\n",
    "* Kasu Txarra (azken zenbakia): $t(n)=n$\n",
    "* Batazbesteko kasua: $t(n) = \\sum_{i=1}^{n} (\\frac{1}{n} \\cdot i)= \\frac{n+1}{2}$\n"
   ]
  },
  {
   "cell_type": "markdown",
   "metadata": {
    "slideshow": {
     "slide_type": "slide"
    }
   },
   "source": [
    "* Adin batetik aurrera, honako hau egin beharko genuke:"
   ]
  },
  {
   "cell_type": "code",
   "execution_count": null,
   "metadata": {},
   "outputs": [],
   "source": [
    "def asmatu(n):\n",
    "    i,j = 1,n\n",
    "    e = (i+j)//2\n",
    "    x = galdera(e)\n",
    "    while x :\n",
    "        if x == 1 :\n",
    "            i = e+1\n",
    "        else :\n",
    "            j = e-1\n",
    "        e = (i+j)//2\n",
    "        x = galdera(e)\n",
    "    print('Asmatu dut zure zenbakia!')"
   ]
  },
  {
   "cell_type": "markdown",
   "metadata": {
    "slideshow": {
     "slide_type": "fragment"
    }
   },
   "source": [
    "* Kasu Ona (justu justu erdian!): &nbsp; $t(n)=1$\n",
    "* Kasu Txarra (`i==j` egoerara iristean): &nbsp;  $t(n) = \\; ???$\n",
    "* Batazbesteko kasua: &nbsp; $t(n) = \\; ???$"
   ]
  },
  {
   "cell_type": "markdown",
   "metadata": {
    "slideshow": {
     "slide_type": "fragment"
    }
   },
   "source": [
    "&rarr; Bitxia... bizkorragoa dela suposatzen dugu, baina ez gera gai zuzenean bere bizkortasuna adierazteko"
   ]
  },
  {
   "cell_type": "markdown",
   "metadata": {
    "slideshow": {
     "slide_type": "slide"
    }
   },
   "source": [
    "* Iterazio bakoitza: 1 pausu &rarr; $t(n) = iterazio\\_kopurua$\n",
    "* Iterazio bakoitzean, bilaketa tartea erdira (apur bat txikiagoa) doa:"
   ]
  },
  {
   "cell_type": "markdown",
   "metadata": {
    "slideshow": {
     "slide_type": "fragment"
    }
   },
   "source": [
    "* Iterazio bat: $[i,j] \\; \\approx \\frac{1}{2} [1,n]$"
   ]
  },
  {
   "cell_type": "markdown",
   "metadata": {
    "slideshow": {
     "slide_type": "fragment"
    }
   },
   "source": [
    "* 2 iterazio: $[i,j] \\; \\approx \\frac{1}{4} [1,n]$"
   ]
  },
  {
   "cell_type": "markdown",
   "metadata": {
    "slideshow": {
     "slide_type": "fragment"
    }
   },
   "source": [
    "* $k$ iterazio: $[i,j] \\; \\approx \\frac{1}{2^k} [1,n]$"
   ]
  },
  {
   "cell_type": "markdown",
   "metadata": {
    "slideshow": {
     "slide_type": "fragment"
    }
   },
   "source": [
    "* $i = j \\iff 2^k = n $\n",
    "* $k=\\log_2 n\\;$ iterazio izango dira"
   ]
  },
  {
   "cell_type": "markdown",
   "metadata": {
    "slideshow": {
     "slide_type": "slide"
    }
   },
   "source": [
    "* Kasu Ona (erdian): $t(n)=1$\n",
    "* Kasu Txarra (`i==j` egoerara iristean): $t(n) = \\; \\log_2 n$\n",
    "* Batazbesteko kasua: $t(n) = \\; \\sum_{k \\in kasuak}{prob(k) \\cdot t_k(n)}$"
   ]
  },
  {
   "cell_type": "markdown",
   "metadata": {
    "slideshow": {
     "slide_type": "slide"
    }
   },
   "source": [
    "* Batazbestekoa kalkulatzeko, kasu bakoitzaren probabilitatea aukeratu behar dugu.\n",
    "* Demagun zenbaki guztiek probabilitate berdina dutela, $prob(k)=\\frac{1}{n}$\n",
    "* 1 pausu: 1 kasu (erdian egotea)\n",
    "* 2 pausu: 2 kasu (erdi bakoitzetako erdian egotea)\n",
    "* 3 pausu: 4 kasu (laurden bakoitzetako erdian egotea)\n",
    "* ...\n",
    "* $k$ pausu: $2^{k-1}$ kasu\n",
    "* ...\n",
    "* $k = \\log_2 n$ pausu : $2^{k-1} = \\frac{n}{2}$ kasu.\n"
   ]
  },
  {
   "cell_type": "markdown",
   "metadata": {
    "slideshow": {
     "slide_type": "slide"
    }
   },
   "source": [
    "$$\\small t(n) = \\; \\sum_{k \\in kasuak}{prob(k) \\cdot t_k(n)} = \\frac{1}{n} \\cdot \\sum_{k \\in kasuak}{t_k(n)} = \\frac{1}{n} \\cdot \\left( \\sum_{k=1}^{\\log_2 n}{ 2^{k-1} \\cdot k } \\right) \\overset{?}{\\approx} \\log_2 n$$\n",
    "\n",
    "* $t(n)$-ren behe limite bat batukariaren azken terminoa da: $t(n) \\ge \\frac{1}{n} \\cdot 2^{(\\log_2 n)-1} \\cdot \\log_2 n = \\frac{1}{2}\\log_2 n$\n",
    "* $t(n)$-ren goi limite bat kasu txarra da: $t(n) \\le \\log_2 n$\n",
    "\n",
    "$$ \\frac{1}{2} \\log_2 n \\le t(n) \\le \\log_2 n \\;\\;\\; \\to \\;\\;\\; t(n) = \\log_2 n$$\n"
   ]
  },
  {
   "cell_type": "markdown",
   "metadata": {
    "slideshow": {
     "slide_type": "fragment"
    }
   },
   "source": [
    "<center><img src=\"../img/Ugly.jpg\" alt=\"GoodUglyBasd\" /></center>"
   ]
  },
  {
   "cell_type": "markdown",
   "metadata": {
    "slideshow": {
     "slide_type": "slide"
    }
   },
   "source": [
    "## Algoritmo Errekurtsiboak \n",
    "<br/>\n",
    "<br/>\n",
    "\n",
    "<center><img src=\"../img/recursion.png\" alt=\"Algoritmo Errekurtsiboak\" /></center>\n"
   ]
  },
  {
   "cell_type": "markdown",
   "metadata": {
    "slideshow": {
     "slide_type": "slide"
    }
   },
   "source": [
    "Algoritmo errekurtsiboen pausu kopurua espresio errekurtsibo bat erabiliz adierazi ahal da."
   ]
  },
  {
   "cell_type": "code",
   "execution_count": null,
   "metadata": {
    "slideshow": {
     "slide_type": "fragment"
    }
   },
   "outputs": [],
   "source": [
    "def faktoriala(n):\n",
    "    if n < 2 :\n",
    "        return 1\n",
    "    else :\n",
    "        return n * faktoriala(n-1)"
   ]
  },
  {
   "cell_type": "markdown",
   "metadata": {
    "slideshow": {
     "slide_type": "fragment"
    }
   },
   "source": [
    "$$\n",
    "t(n) = \n",
    "  \\begin{cases}\n",
    "    1 & , & n<2\\\\\n",
    "    1+t(n-1) & , & n \\ge 2\\\\\n",
    "\\end{cases}\n",
    "$$"
   ]
  },
  {
   "cell_type": "markdown",
   "metadata": {
    "slideshow": {
     "slide_type": "slide"
    }
   },
   "source": [
    "Espresio errekurtsiboa garatu dezakegu:\n",
    "\n",
    "$$ t(n) = 1 + t(n-1) = 2 + t(n-2) = 3 + t(n-3) = \\ldots $$\n",
    "\n",
    "$$= k + t(n-k)$$"
   ]
  },
  {
   "cell_type": "markdown",
   "metadata": {
    "slideshow": {
     "slide_type": "fragment"
    }
   },
   "source": [
    "Kasu basera iristeko behar den $k$ konstantea lortu behar dugu:\n",
    "\n",
    "$$ n-k = 1 \\iff k = n-1$$"
   ]
  },
  {
   "cell_type": "markdown",
   "metadata": {
    "slideshow": {
     "slide_type": "fragment"
    }
   },
   "source": [
    "Eta ordezkatu:\n",
    "\n",
    "$$\\boxed{\\small t(n) = n - 1 + t(1) = n}$$"
   ]
  },
  {
   "cell_type": "code",
   "execution_count": null,
   "metadata": {
    "slideshow": {
     "slide_type": "slide"
    }
   },
   "outputs": [],
   "source": [
    "def hanoi(a,b,n):\n",
    "    if n == 1 :\n",
    "        print(a,'-->',b)\n",
    "    else :\n",
    "        c = 6-a-b\n",
    "        hanoi(a,c,n-1)\n",
    "        print(a,'-->',b)\n",
    "        hanoi(c,b,n-1)"
   ]
  },
  {
   "cell_type": "markdown",
   "metadata": {
    "slideshow": {
     "slide_type": "fragment"
    }
   },
   "source": [
    "$$\n",
    "t(n) = \n",
    "  \\begin{cases}\n",
    "    1 & , & n=1\\\\\n",
    "    1 + 2 \\cdot t(n-1) & , & n > 1\\\\\n",
    "\\end{cases}\n",
    "$$"
   ]
  },
  {
   "cell_type": "markdown",
   "metadata": {
    "slideshow": {
     "slide_type": "slide"
    }
   },
   "source": [
    "$$t(n) = 1 + 2 \\cdot t(n-1) = 3 + 4 \\cdot t(n-2) = 7 + 8 \\cdot t(n-3) = \\ldots $$\n",
    "\n",
    "$$= (2^k-1) + 2^k \\cdot t(n-k)$$"
   ]
  },
  {
   "cell_type": "markdown",
   "metadata": {
    "slideshow": {
     "slide_type": "fragment"
    }
   },
   "source": [
    "$$n-k = 1 \\iff k=n-1$$"
   ]
  },
  {
   "cell_type": "markdown",
   "metadata": {
    "slideshow": {
     "slide_type": "fragment"
    }
   },
   "source": [
    "$$t(n) = 2^{n-1} - 1 + 2^{n-1} \\cdot 1$$"
   ]
  },
  {
   "cell_type": "markdown",
   "metadata": {
    "slideshow": {
     "slide_type": "fragment"
    }
   },
   "source": [
    "$$\\boxed{t(n) = 2^n - 1}$$"
   ]
  },
  {
   "cell_type": "markdown",
   "metadata": {
    "slideshow": {
     "slide_type": "-"
    }
   },
   "source": [
    "&rarr; Bagenekien 2 eraztun 3 mugimendu zirela, 3 eraztun 7, 4 eraztun 15, 5 eraztun 31..."
   ]
  },
  {
   "cell_type": "code",
   "execution_count": null,
   "metadata": {
    "slideshow": {
     "slide_type": "slide"
    }
   },
   "outputs": [],
   "source": [
    "def merge_sort(z):\n",
    "    n = len(z)\n",
    "    if n > 1 :\n",
    "        a = z[:n//2]\n",
    "        b = z[n//2:]\n",
    "        merge_sort(a)\n",
    "        merge_sort(b)\n",
    "        z.clear()\n",
    "        z.extend(merge(a,b))"
   ]
  },
  {
   "cell_type": "code",
   "execution_count": null,
   "metadata": {
    "slideshow": {
     "slide_type": "slide"
    }
   },
   "outputs": [],
   "source": [
    "def merge_sort(z):\n",
    "    n = len(z)\n",
    "    if n == 1 :\n",
    "        return z\n",
    "    else :\n",
    "        a = merge_sort(z[:n//2])\n",
    "        b = merge_sort(z[n//2:])\n",
    "        return merge(a,b)\n",
    "        #return merge(merge_sort(z[:n//2]),merge_sort(z[n//2:]))"
   ]
  },
  {
   "cell_type": "markdown",
   "metadata": {
    "slideshow": {
     "slide_type": "fragment"
    }
   },
   "source": [
    "* `z[:n//2]` &rarr; $\\frac{n}{2}$ pausu\n",
    "* `z[n//2:]` &rarr; $\\frac{n}{2}$ pausu\n",
    "* `merge(a,b)` &rarr; $len(a)+len(b)=n$ pausu "
   ]
  },
  {
   "cell_type": "markdown",
   "metadata": {
    "slideshow": {
     "slide_type": "fragment"
    }
   },
   "source": [
    "$$\n",
    "t(n) = \n",
    "  \\begin{cases}\n",
    "    1 & , & n=1\\\\\n",
    "    1 + 2 n + 2 \\cdot t\\left(\\frac{n}{2}\\right) & , & n > 1\\\\\n",
    "\\end{cases}\n",
    "$$"
   ]
  },
  {
   "cell_type": "markdown",
   "metadata": {
    "slideshow": {
     "slide_type": "slide"
    }
   },
   "source": [
    "$$\\small{ t(n) = 1 + 2 n + 2 \\cdot t\\left(\\frac{n}{2}\\right) = 3 + 4n + 4 \\cdot t\\left(\\frac{n}{4}\\right) = 7 + 6n + 8 \\cdot t\\left(\\frac{n}{8}\\right) = \\ldots }$$\n",
    "\n",
    "$$\\small{= (2^k-1) + k \\cdot 2n+ 2^k \\cdot t\\left(\\frac{n}{2^k}\\right)}$$"
   ]
  },
  {
   "cell_type": "markdown",
   "metadata": {
    "slideshow": {
     "slide_type": "fragment"
    }
   },
   "source": [
    "$$\\small \\frac{n}{2^k} = 1 \\iff k=\\log_2 n$$"
   ]
  },
  {
   "cell_type": "markdown",
   "metadata": {
    "slideshow": {
     "slide_type": "fragment"
    }
   },
   "source": [
    "$$t(n) = (n-1) +  (\\log_2 n) \\cdot 2n + n \\cdot 1 $$"
   ]
  },
  {
   "cell_type": "markdown",
   "metadata": {
    "slideshow": {
     "slide_type": "fragment"
    }
   },
   "source": [
    "$$\\boxed{t(n) = 2n \\cdot \\log_2 n + 2n -1}$$"
   ]
  },
  {
   "cell_type": "code",
   "execution_count": null,
   "metadata": {
    "slideshow": {
     "slide_type": "slide"
    }
   },
   "outputs": [],
   "source": [
    "def merge_sort(z):\n",
    "    n = len(z)\n",
    "    if n > 1 :\n",
    "        a = z[:n//2]\n",
    "        b = z[n//2:]\n",
    "        merge_sort(a)\n",
    "        merge_sort(b)\n",
    "        z.clear()\n",
    "        z.extend(merge(a,b))"
   ]
  },
  {
   "cell_type": "code",
   "execution_count": null,
   "metadata": {
    "slideshow": {
     "slide_type": "slide"
    }
   },
   "outputs": [],
   "source": [
    "def fib(n):\n",
    "    if n < 2 :\n",
    "        return n\n",
    "    else :\n",
    "        return fib(n-1) + fib(n-2)"
   ]
  },
  {
   "cell_type": "markdown",
   "metadata": {
    "slideshow": {
     "slide_type": "fragment"
    }
   },
   "source": [
    "$$\n",
    "t(n) = \n",
    "  \\begin{cases}\n",
    "    1 & , & n < 2\\\\\n",
    "    1 + t(n-1) + t(n-2) & , & n \\ge 2\\\\\n",
    "\\end{cases}\n",
    "$$"
   ]
  },
  {
   "cell_type": "markdown",
   "metadata": {
    "slideshow": {
     "slide_type": "fragment"
    }
   },
   "source": [
    "$$\\small{ t(n) = 1 + t(n-1) + t(n-2) = (1 + 1) + 2 \\cdot t(n-2) + t(n-3)}$$\n",
    "\n",
    "$$\\small{= (1+1+2) + 3 \\cdot t(n-3) + 2 \\cdot t(n-4) = (1+1+2+3) + 5 \\cdot t(n-4) + 3 \\cdot t(n-5) }$$\n",
    "\n",
    "$$\\small{= (1+1+2+3+5) + 8 \\cdot t(n-5) + 5 \\cdot t(n-6)}$$\n",
    "\n",
    "$$\\small{ = \\ldots = \\left(1 + \\sum_{i=1}^{k}{fib(i)}\\right) + fib(k+1) \\cdot t(n-k) + fib(k) \\cdot t(n-(k+1))}$$"
   ]
  },
  {
   "cell_type": "markdown",
   "metadata": {
    "slideshow": {
     "slide_type": "slide"
    }
   },
   "source": [
    "Errazagoa izango da goi/behe-borneak ezartzea:"
   ]
  },
  {
   "cell_type": "markdown",
   "metadata": {
    "slideshow": {
     "slide_type": "fragment"
    }
   },
   "source": [
    "$$\n",
    "g(n) = \n",
    "  \\begin{cases}\n",
    "    1 & , & n < 2\\\\\n",
    "    1 + 2 \\cdot t(n-2) & , & n \\ge 2\\\\\n",
    "\\end{cases}\n",
    "$$"
   ]
  },
  {
   "cell_type": "markdown",
   "metadata": {
    "slideshow": {
     "slide_type": "fragment"
    }
   },
   "source": [
    "$$\n",
    "h(n) = \n",
    "  \\begin{cases}\n",
    "    1 & , & n < 2\\\\\n",
    "    1 + 2 \\cdot t(n-1) & , & n \\ge 2\\\\\n",
    "\\end{cases}\n",
    "$$"
   ]
  },
  {
   "cell_type": "markdown",
   "metadata": {
    "slideshow": {
     "slide_type": "fragment"
    }
   },
   "source": [
    "$$g(h) < t(n) < h(n)$$"
   ]
  },
  {
   "cell_type": "markdown",
   "metadata": {
    "slideshow": {
     "slide_type": "slide"
    }
   },
   "source": [
    "$$g(n) = 1 + 2 \\cdot t(n-2) = 3 + 4 \\cdot t(n-4) = \\ldots = (2^k-1) + 2^k \\cdot t(n-2k)$$\n",
    "\n",
    "$$n-2k = 0 \\iff k=\\frac{n}{2}$$\n",
    "\n",
    "$$g(n) = (2^{n/2}-1) + 2^{n/2} \\cdot 1 = 2 \\cdot \\left(\\sqrt{2}\\right)^n - 1$$"
   ]
  },
  {
   "cell_type": "markdown",
   "metadata": {
    "slideshow": {
     "slide_type": "fragment"
    }
   },
   "source": [
    "$$h(n) = t_{hanoi}(n) = 2^n - 1$$"
   ]
  },
  {
   "cell_type": "markdown",
   "metadata": {
    "slideshow": {
     "slide_type": "fragment"
    }
   },
   "source": [
    "$$\\boxed{ 2 \\cdot \\left(\\sqrt{2}\\right)^n - 1 \\;<\\; t(n) \\;<\\; 2^n - 1}$$"
   ]
  },
  {
   "cell_type": "markdown",
   "metadata": {
    "slideshow": {
     "slide_type": "slide"
    }
   },
   "source": [
    "## Notazio Asintotikoa\n",
    "\n",
    "* Algoritmo batek suposatzen dituen $t(n)$ pausu kopurua (kasu on eta kasu txarra) modu konpaktu batean adierazteko notazioa\n",
    "\n",
    "<center><img src=\"../img/konplexutasuna.jpg\" alt=\"Konplexutasuna\" style=\"width: 600px;\"/></center>"
   ]
  },
  {
   "cell_type": "markdown",
   "metadata": {
    "slideshow": {
     "slide_type": "slide"
    }
   },
   "source": [
    "* **Goi Limitea** : *Kasu Txarra*\n",
    "\n",
    "$$\\small{O\\left( f(n) \\right) = \\{ t : \\mathbb{N} \\to \\mathbb{R}^+  \\;\\;:\\;\\; \\exists c \\in \\mathbb{R}^+ \\land \\exists n_0 \\in \\mathbb{N} \\;\\;:\\;\\; \\forall n \\ge n_0 \\;\\; t(n) \\le c \\cdot f(n) \\}}$$\n",
    "\n",
    "$$t(n)=an+b \\quad \\to \\quad t(n) \\in O(n)$$"
   ]
  },
  {
   "cell_type": "markdown",
   "metadata": {
    "slideshow": {
     "slide_type": "fragment"
    }
   },
   "source": [
    "* **Behe Limitea** : *Kasu Ona*\n",
    "\n",
    "$$\\small{\\Omega \\left( f(n) \\right) = \\{ t : \\mathbb{N} \\to \\mathbb{R}^+  \\;\\;:\\;\\; \\exists c \\in \\mathbb{R}^+ \\land \\exists n_0 \\in \\mathbb{N} \\;\\;:\\;\\; \\forall n \\ge n_0 \\;\\; t(n) \\ge c \\cdot f(n) \\}}$$\n",
    "\n",
    "$$t(n)=an+b \\quad \\to \\quad t(n) \\in \\Omega(n)$$"
   ]
  },
  {
   "cell_type": "markdown",
   "metadata": {
    "slideshow": {
     "slide_type": "fragment"
    }
   },
   "source": [
    "* **Magnitude Orden Zehatza** : *Kasu Txarra* $\\equiv$ *Kasu Ona*\n",
    "\n",
    "$$\\small{\\Theta \\left( f(n) \\right) = \\{ t : \\mathbb{N} \\to \\mathbb{R}^+  \\;:\\; \\exists c,d \\in \\mathbb{R}^+ \\land \\exists n_0 \\in \\mathbb{N} \\;:\\; \\forall n \\ge n_0 \\;  c \\cdot f(n) \\ge t(n) \\ge d \\cdot f(n) \\}}$$"
   ]
  },
  {
   "cell_type": "markdown",
   "metadata": {
    "slideshow": {
     "slide_type": "fragment"
    }
   },
   "source": [
    "&rarr; $f(n)$ funtziorik sinpleenak erabiliko ditugu: $O(1) \\;,\\; O(n) \\;,\\; O(\\log n)  \\;,\\; O(n^2) \\ldots$"
   ]
  },
  {
   "cell_type": "markdown",
   "metadata": {
    "slideshow": {
     "slide_type": "slide"
    }
   },
   "source": [
    "### Adibide batzuk"
   ]
  },
  {
   "cell_type": "markdown",
   "metadata": {
    "slideshow": {
     "slide_type": "fragment"
    }
   },
   "source": [
    "* $t(n) = 3n^2 - 4n + 17$ &nbsp; &rarr; &nbsp; $\\Theta(n^2)$"
   ]
  },
  {
   "cell_type": "markdown",
   "metadata": {
    "slideshow": {
     "slide_type": "fragment"
    }
   },
   "source": [
    "* $t_{txarra}(n) = 4n + 2 \\quad t_{ona}(n) = 117 $ &nbsp; &rarr; &nbsp; $O(n) \\quad \\Omega(1)$"
   ]
  },
  {
   "cell_type": "markdown",
   "metadata": {
    "slideshow": {
     "slide_type": "fragment"
    }
   },
   "source": [
    "* $t_{txarra}(n) = n^2 + n + 1 \\quad t_{ona}(n) = n \\cdot \\log_2 n+ 1 $ &nbsp; &rarr; &nbsp; $O(n^2) \\quad \\Omega(n \\cdot \\log n)$"
   ]
  },
  {
   "cell_type": "markdown",
   "metadata": {
    "slideshow": {
     "slide_type": "slide"
    }
   },
   "source": [
    "### Konplexutasun mailak"
   ]
  },
  {
   "cell_type": "markdown",
   "metadata": {
    "slideshow": {
     "slide_type": "fragment"
    }
   },
   "source": [
    "$$\\small{O(1) < O(\\log n) < O(n) < O(n \\cdot \\log n) < O(n^2) < O(n^3) < O(2^n) < O(n!) }$$"
   ]
  },
  {
   "cell_type": "markdown",
   "metadata": {
    "slideshow": {
     "slide_type": "slide"
    }
   },
   "source": [
    "## Python-en berezko funtzio eta datu egituren pausuak"
   ]
  },
  {
   "cell_type": "markdown",
   "metadata": {
    "slideshow": {
     "slide_type": "slide"
    }
   },
   "source": [
    "### Built-in funtzioak `n = sum(1 for _ in it)` $\\approx$ ` len(it)`\n",
    "\n",
    "* `min(it)` , `max(it)` , `sum(it)` : n\n",
    "* `all(it)` , `any(it)` : [1,n]\n",
    "* `sorted(it)` : n log n\n",
    "* `range()` , `zip(it)` , `enumerate(it)`, `reversed(it)` : 1 "
   ]
  },
  {
   "cell_type": "markdown",
   "metadata": {
    "slideshow": {
     "slide_type": "slide"
    }
   },
   "source": [
    "### Zerrendak `n = len(z)`\n",
    "\n",
    "* `list()` , `[]` , `z[i]` , `z[i] = x` , `len(z)` : 1\n",
    "* `z.clear()` : 1? n?\n",
    "* `z.append(x)` : 1\n",
    "* `z.extend(x)` , `list(x)` : len(x)\n",
    "* `z.pop(-i)` , `del z[-i]` , `z.insert(-i,x)` : i\n",
    "* `z[i:j]` : j-i\n",
    "* `z.copy()` , `z.reverse()` : n\n",
    "* `z1 == z2` , `z1 != z2` , `z1 < z2` , ... : [1,n]\n",
    "* `z.count(x)` : n\n",
    "* `z.index(x)` , `x in z` : [1,n]\n",
    "* `z.remove(x)` : n\n",
    "* `z.sort()` : n log n"
   ]
  },
  {
   "cell_type": "markdown",
   "metadata": {
    "slideshow": {
     "slide_type": "slide"
    }
   },
   "source": [
    "### Hiztegiak `n = len(h)`\n",
    "\n",
    "* `dict()` , `{}` , `h[k]` , `h[k] = v` , `len(h)` , `h.get(k)` , `h.setdefault(k)` : 1\n",
    "* `del h[k]` , `h.popitem()` , `h.pop(x)` : 1\n",
    "* `h.keys()` , `h.values()` , `h.items()` : 1\n",
    "* `x in h` : 1\n",
    "* `dict.fromkeys(x)` , `h.update(x)` : len(x)\n",
    "* `h.copy()` : n\n",
    "* `h.clear()` : 1? n?"
   ]
  },
  {
   "cell_type": "markdown",
   "metadata": {
    "slideshow": {
     "slide_type": "slide"
    }
   },
   "source": [
    "### Multzoak `n = len(s)`\n",
    "\n",
    "* `set()` , `len(s)` , `s.add(x)` : 1\n",
    "* `s.pop()` , `s.remove(x)` : 1\n",
    "* `x in s` : 1\n",
    "* `s.update(x)` : len(x)\n",
    "* `s.copy()` : n\n",
    "* `s.clear()` : 1? n?"
   ]
  }
 ],
 "metadata": {
  "celltoolbar": "Slideshow",
  "kernelspec": {
   "display_name": "Python 3",
   "language": "python",
   "name": "python3"
  },
  "language_info": {
   "codemirror_mode": {
    "name": "ipython",
    "version": 3
   },
   "file_extension": ".py",
   "mimetype": "text/x-python",
   "name": "python",
   "nbconvert_exporter": "python",
   "pygments_lexer": "ipython3",
   "version": "3.7.6"
  },
  "rise": {
   "autolaunch": false,
   "footer": "<h2 align=\"center\">Konputaziorako Sarrera</h2>",
   "scroll": true
  }
 },
 "nbformat": 4,
 "nbformat_minor": 2
}
